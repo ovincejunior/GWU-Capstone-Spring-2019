{
 "cells": [
  {
   "cell_type": "code",
   "execution_count": 1,
   "metadata": {},
   "outputs": [],
   "source": [
    "import os\n",
    "import pandas as pd\n",
    "import numpy as np\n",
    "import matplotlib.pyplot as plt"
   ]
  },
  {
   "cell_type": "code",
   "execution_count": 2,
   "metadata": {},
   "outputs": [
    {
     "data": {
      "text/html": [
       "<div>\n",
       "<style scoped>\n",
       "    .dataframe tbody tr th:only-of-type {\n",
       "        vertical-align: middle;\n",
       "    }\n",
       "\n",
       "    .dataframe tbody tr th {\n",
       "        vertical-align: top;\n",
       "    }\n",
       "\n",
       "    .dataframe thead th {\n",
       "        text-align: right;\n",
       "    }\n",
       "</style>\n",
       "<table border=\"1\" class=\"dataframe\">\n",
       "  <thead>\n",
       "    <tr style=\"text-align: right;\">\n",
       "      <th></th>\n",
       "      <th>ep1</th>\n",
       "      <th>econviol</th>\n",
       "      <th>emotvio</th>\n",
       "      <th>physvio</th>\n",
       "      <th>sexvio</th>\n",
       "      <th>sexphys</th>\n",
       "      <th>typevio</th>\n",
       "      <th>physcur</th>\n",
       "      <th>sexcur</th>\n",
       "      <th>emotcur</th>\n",
       "      <th>...</th>\n",
       "      <th>rQ701c</th>\n",
       "      <th>rQ701d</th>\n",
       "      <th>HighIncome</th>\n",
       "      <th>Island</th>\n",
       "      <th>Governance</th>\n",
       "      <th>HDI</th>\n",
       "      <th>LAWDV</th>\n",
       "      <th>Governance1</th>\n",
       "      <th>HDI1</th>\n",
       "      <th>LAWDV1</th>\n",
       "    </tr>\n",
       "  </thead>\n",
       "  <tbody>\n",
       "    <tr>\n",
       "      <th>0</th>\n",
       "      <td>1</td>\n",
       "      <td>0</td>\n",
       "      <td>0</td>\n",
       "      <td>0</td>\n",
       "      <td>0</td>\n",
       "      <td>0</td>\n",
       "      <td>0</td>\n",
       "      <td>0</td>\n",
       "      <td>0</td>\n",
       "      <td>0</td>\n",
       "      <td>...</td>\n",
       "      <td>1</td>\n",
       "      <td>1</td>\n",
       "      <td>0</td>\n",
       "      <td>0</td>\n",
       "      <td>0.16</td>\n",
       "      <td>0.654</td>\n",
       "      <td>37</td>\n",
       "      <td>0</td>\n",
       "      <td>0</td>\n",
       "      <td>0</td>\n",
       "    </tr>\n",
       "    <tr>\n",
       "      <th>1</th>\n",
       "      <td>1</td>\n",
       "      <td>1</td>\n",
       "      <td>1</td>\n",
       "      <td>1</td>\n",
       "      <td>1</td>\n",
       "      <td>1</td>\n",
       "      <td>3</td>\n",
       "      <td>0</td>\n",
       "      <td>0</td>\n",
       "      <td>0</td>\n",
       "      <td>...</td>\n",
       "      <td>1</td>\n",
       "      <td>1</td>\n",
       "      <td>0</td>\n",
       "      <td>0</td>\n",
       "      <td>0.16</td>\n",
       "      <td>0.654</td>\n",
       "      <td>37</td>\n",
       "      <td>0</td>\n",
       "      <td>0</td>\n",
       "      <td>0</td>\n",
       "    </tr>\n",
       "    <tr>\n",
       "      <th>2</th>\n",
       "      <td>1</td>\n",
       "      <td>0</td>\n",
       "      <td>0</td>\n",
       "      <td>0</td>\n",
       "      <td>0</td>\n",
       "      <td>0</td>\n",
       "      <td>0</td>\n",
       "      <td>0</td>\n",
       "      <td>0</td>\n",
       "      <td>0</td>\n",
       "      <td>...</td>\n",
       "      <td>1</td>\n",
       "      <td>1</td>\n",
       "      <td>0</td>\n",
       "      <td>0</td>\n",
       "      <td>0.16</td>\n",
       "      <td>0.654</td>\n",
       "      <td>37</td>\n",
       "      <td>0</td>\n",
       "      <td>0</td>\n",
       "      <td>0</td>\n",
       "    </tr>\n",
       "    <tr>\n",
       "      <th>3</th>\n",
       "      <td>1</td>\n",
       "      <td>0</td>\n",
       "      <td>1</td>\n",
       "      <td>1</td>\n",
       "      <td>0</td>\n",
       "      <td>1</td>\n",
       "      <td>1</td>\n",
       "      <td>0</td>\n",
       "      <td>0</td>\n",
       "      <td>1</td>\n",
       "      <td>...</td>\n",
       "      <td>1</td>\n",
       "      <td>1</td>\n",
       "      <td>0</td>\n",
       "      <td>0</td>\n",
       "      <td>0.16</td>\n",
       "      <td>0.654</td>\n",
       "      <td>37</td>\n",
       "      <td>0</td>\n",
       "      <td>0</td>\n",
       "      <td>0</td>\n",
       "    </tr>\n",
       "    <tr>\n",
       "      <th>4</th>\n",
       "      <td>1</td>\n",
       "      <td>0</td>\n",
       "      <td>0</td>\n",
       "      <td>1</td>\n",
       "      <td>0</td>\n",
       "      <td>1</td>\n",
       "      <td>1</td>\n",
       "      <td>0</td>\n",
       "      <td>0</td>\n",
       "      <td>0</td>\n",
       "      <td>...</td>\n",
       "      <td>1</td>\n",
       "      <td>1</td>\n",
       "      <td>0</td>\n",
       "      <td>0</td>\n",
       "      <td>0.16</td>\n",
       "      <td>0.654</td>\n",
       "      <td>37</td>\n",
       "      <td>0</td>\n",
       "      <td>0</td>\n",
       "      <td>0</td>\n",
       "    </tr>\n",
       "  </tbody>\n",
       "</table>\n",
       "<p>5 rows × 91 columns</p>\n",
       "</div>"
      ],
      "text/plain": [
       "   ep1  econviol  emotvio  physvio  sexvio  sexphys  typevio  physcur  sexcur  \\\n",
       "0    1         0        0        0       0        0        0        0       0   \n",
       "1    1         1        1        1       1        1        3        0       0   \n",
       "2    1         0        0        0       0        0        0        0       0   \n",
       "3    1         0        1        1       0        1        1        0       0   \n",
       "4    1         0        0        1       0        1        1        0       0   \n",
       "\n",
       "   emotcur   ...    rQ701c  rQ701d  HighIncome  Island  Governance    HDI  \\\n",
       "0        0   ...         1       1           0       0        0.16  0.654   \n",
       "1        0   ...         1       1           0       0        0.16  0.654   \n",
       "2        0   ...         1       1           0       0        0.16  0.654   \n",
       "3        1   ...         1       1           0       0        0.16  0.654   \n",
       "4        0   ...         1       1           0       0        0.16  0.654   \n",
       "\n",
       "   LAWDV  Governance1  HDI1  LAWDV1  \n",
       "0     37            0     0       0  \n",
       "1     37            0     0       0  \n",
       "2     37            0     0       0  \n",
       "3     37            0     0       0  \n",
       "4     37            0     0       0  \n",
       "\n",
       "[5 rows x 91 columns]"
      ]
     },
     "execution_count": 2,
     "metadata": {},
     "output_type": "execute_result"
    }
   ],
   "source": [
    "# Import data from csv file\n",
    "data = pd.read_csv(\"CaribbeanAllFinal.csv\", low_memory=False)\n",
    "data.head()"
   ]
  },
  {
   "cell_type": "code",
   "execution_count": 3,
   "metadata": {},
   "outputs": [
    {
     "data": {
      "text/plain": [
       "(5795, 91)"
      ]
     },
     "execution_count": 3,
     "metadata": {},
     "output_type": "execute_result"
    }
   ],
   "source": [
    "data.shape"
   ]
  },
  {
   "cell_type": "code",
   "execution_count": 4,
   "metadata": {},
   "outputs": [],
   "source": [
    "#data.columns"
   ]
  },
  {
   "cell_type": "code",
   "execution_count": 5,
   "metadata": {},
   "outputs": [
    {
     "data": {
      "text/html": [
       "<div>\n",
       "<style scoped>\n",
       "    .dataframe tbody tr th:only-of-type {\n",
       "        vertical-align: middle;\n",
       "    }\n",
       "\n",
       "    .dataframe tbody tr th {\n",
       "        vertical-align: top;\n",
       "    }\n",
       "\n",
       "    .dataframe thead th {\n",
       "        text-align: right;\n",
       "    }\n",
       "</style>\n",
       "<table border=\"1\" class=\"dataframe\">\n",
       "  <thead>\n",
       "    <tr style=\"text-align: right;\">\n",
       "      <th></th>\n",
       "      <th>country</th>\n",
       "      <th>EP3</th>\n",
       "      <th>earlymarriage</th>\n",
       "      <th>FCMAR</th>\n",
       "      <th>ageyr10</th>\n",
       "      <th>edresp</th>\n",
       "      <th>w_religion</th>\n",
       "      <th>ETHNICITY</th>\n",
       "      <th>employstatus</th>\n",
       "      <th>SourceIncome</th>\n",
       "      <th>...</th>\n",
       "      <th>sQ601d</th>\n",
       "      <th>sQ601e</th>\n",
       "      <th>sQ601f</th>\n",
       "      <th>tQ602a</th>\n",
       "      <th>tQ602b</th>\n",
       "      <th>tQ602c</th>\n",
       "      <th>tQ602d</th>\n",
       "      <th>justify</th>\n",
       "      <th>CONTROL</th>\n",
       "      <th>sexphys</th>\n",
       "    </tr>\n",
       "  </thead>\n",
       "  <tbody>\n",
       "    <tr>\n",
       "      <th>0</th>\n",
       "      <td>1</td>\n",
       "      <td>1</td>\n",
       "      <td>0</td>\n",
       "      <td>0</td>\n",
       "      <td>3</td>\n",
       "      <td>2</td>\n",
       "      <td>0</td>\n",
       "      <td>4</td>\n",
       "      <td>4</td>\n",
       "      <td>2</td>\n",
       "      <td>...</td>\n",
       "      <td>1</td>\n",
       "      <td>0</td>\n",
       "      <td>0</td>\n",
       "      <td>0</td>\n",
       "      <td>0</td>\n",
       "      <td>0</td>\n",
       "      <td>0</td>\n",
       "      <td>0</td>\n",
       "      <td>0</td>\n",
       "      <td>0</td>\n",
       "    </tr>\n",
       "    <tr>\n",
       "      <th>1</th>\n",
       "      <td>1</td>\n",
       "      <td>4</td>\n",
       "      <td>1</td>\n",
       "      <td>0</td>\n",
       "      <td>5</td>\n",
       "      <td>2</td>\n",
       "      <td>1</td>\n",
       "      <td>1</td>\n",
       "      <td>2</td>\n",
       "      <td>5</td>\n",
       "      <td>...</td>\n",
       "      <td>0</td>\n",
       "      <td>0</td>\n",
       "      <td>1</td>\n",
       "      <td>0</td>\n",
       "      <td>0</td>\n",
       "      <td>0</td>\n",
       "      <td>0</td>\n",
       "      <td>0</td>\n",
       "      <td>6</td>\n",
       "      <td>1</td>\n",
       "    </tr>\n",
       "    <tr>\n",
       "      <th>2</th>\n",
       "      <td>1</td>\n",
       "      <td>4</td>\n",
       "      <td>9</td>\n",
       "      <td>9</td>\n",
       "      <td>1</td>\n",
       "      <td>3</td>\n",
       "      <td>1</td>\n",
       "      <td>6</td>\n",
       "      <td>4</td>\n",
       "      <td>5</td>\n",
       "      <td>...</td>\n",
       "      <td>1</td>\n",
       "      <td>0</td>\n",
       "      <td>1</td>\n",
       "      <td>0</td>\n",
       "      <td>0</td>\n",
       "      <td>0</td>\n",
       "      <td>0</td>\n",
       "      <td>0</td>\n",
       "      <td>0</td>\n",
       "      <td>0</td>\n",
       "    </tr>\n",
       "    <tr>\n",
       "      <th>3</th>\n",
       "      <td>1</td>\n",
       "      <td>1</td>\n",
       "      <td>0</td>\n",
       "      <td>0</td>\n",
       "      <td>5</td>\n",
       "      <td>2</td>\n",
       "      <td>1</td>\n",
       "      <td>5</td>\n",
       "      <td>4</td>\n",
       "      <td>3</td>\n",
       "      <td>...</td>\n",
       "      <td>1</td>\n",
       "      <td>0</td>\n",
       "      <td>1</td>\n",
       "      <td>0</td>\n",
       "      <td>0</td>\n",
       "      <td>1</td>\n",
       "      <td>1</td>\n",
       "      <td>0</td>\n",
       "      <td>0</td>\n",
       "      <td>1</td>\n",
       "    </tr>\n",
       "    <tr>\n",
       "      <th>4</th>\n",
       "      <td>1</td>\n",
       "      <td>4</td>\n",
       "      <td>1</td>\n",
       "      <td>1</td>\n",
       "      <td>4</td>\n",
       "      <td>1</td>\n",
       "      <td>0</td>\n",
       "      <td>4</td>\n",
       "      <td>3</td>\n",
       "      <td>2</td>\n",
       "      <td>...</td>\n",
       "      <td>1</td>\n",
       "      <td>0</td>\n",
       "      <td>1</td>\n",
       "      <td>1</td>\n",
       "      <td>0</td>\n",
       "      <td>0</td>\n",
       "      <td>0</td>\n",
       "      <td>1</td>\n",
       "      <td>0</td>\n",
       "      <td>1</td>\n",
       "    </tr>\n",
       "  </tbody>\n",
       "</table>\n",
       "<p>5 rows × 42 columns</p>\n",
       "</div>"
      ],
      "text/plain": [
       "   country  EP3  earlymarriage  FCMAR  ageyr10  edresp  w_religion  ETHNICITY  \\\n",
       "0        1    1              0      0        3       2           0          4   \n",
       "1        1    4              1      0        5       2           1          1   \n",
       "2        1    4              9      9        1       3           1          6   \n",
       "3        1    1              0      0        5       2           1          5   \n",
       "4        1    4              1      1        4       1           0          4   \n",
       "\n",
       "   employstatus  SourceIncome   ...     sQ601d  sQ601e  sQ601f  tQ602a  \\\n",
       "0             4             2   ...          1       0       0       0   \n",
       "1             2             5   ...          0       0       1       0   \n",
       "2             4             5   ...          1       0       1       0   \n",
       "3             4             3   ...          1       0       1       0   \n",
       "4             3             2   ...          1       0       1       1   \n",
       "\n",
       "   tQ602b  tQ602c  tQ602d  justify  CONTROL  sexphys  \n",
       "0       0       0       0        0        0        0  \n",
       "1       0       0       0        0        6        1  \n",
       "2       0       0       0        0        0        0  \n",
       "3       0       1       1        0        0        1  \n",
       "4       0       0       0        1        0        1  \n",
       "\n",
       "[5 rows x 42 columns]"
      ]
     },
     "execution_count": 5,
     "metadata": {},
     "output_type": "execute_result"
    }
   ],
   "source": [
    "df_caribbean = data[[\"country\", \"EP3\", \"earlymarriage\", \"FCMAR\",  \"ageyr10\", \"edresp\", \"w_religion\", #\"ageyr5\",\n",
    "                 \"ETHNICITY\", \"employstatus\", \"SourceIncome\", \"Fam_support\", 'mcv1006', 'mcv1006a', 'mcv1006b',\n",
    "                 'agepartner', 'sumdiffage', 'edpart', 'p_employ', 'men_alcohol_all', 'mcv1008', 'mcv1009',\n",
    "                 'Q513R', 'Q515R', 'Q516R', \n",
    "                  \"rQ701a\", \"rQ701b\", \"rQ701c\", \"rQ701d\", \"Q702R\",\n",
    "                  \"sQ601a\", 'sQ601b', 'sQ601c', 'sQ601d', 'sQ601e', 'sQ601f',\n",
    "                  \"tQ602a\", \"tQ602b\", 'tQ602c', \"tQ602d\",\n",
    "                  \"justify\", #\"sQ607a\", \"sQ607b\", \"sQ607c\", 'sQ607d', \"sQ607e\",  \"justify\", #\"sQ607f\",\n",
    "                  'CONTROL', #\"eQ703a\", 'eQ703b', \"eQ703c\", \"eQ703d\", \"eQ703e\", \"eQ703f\", \"eQ703g\", \"eQ703h\", \"CONTROLNUM\", \n",
    "                  #\"HighIncome\", \"Island\", \"Governance1\", \"HDI1\", \"LAWDV1\", #\"Governance\", \"HDI\", \"LAWDV\"\n",
    "                  #\"econviol\", \"emotvio\",                  \n",
    "                     \"sexphys\"]]\n",
    "df_caribbean.head()"
   ]
  },
  {
   "cell_type": "code",
   "execution_count": 6,
   "metadata": {},
   "outputs": [],
   "source": [
    "Guyana = df_caribbean[df_caribbean['country']==1]\n",
    "Jamaica = df_caribbean[df_caribbean['country']==2]\n",
    "Suriname = df_caribbean[df_caribbean['country']==3]\n",
    "Trinidad = df_caribbean[df_caribbean['country']==4]\n",
    "Grenada = df_caribbean[df_caribbean['country']==5]"
   ]
  },
  {
   "cell_type": "code",
   "execution_count": 7,
   "metadata": {},
   "outputs": [],
   "source": [
    "Guyana_X = Guyana.iloc[:, :-1]\n",
    "Guyana_y = Guyana.iloc[:, -1]"
   ]
  },
  {
   "cell_type": "code",
   "execution_count": 8,
   "metadata": {},
   "outputs": [],
   "source": [
    "Jamaica_X = Jamaica.iloc[:, :-1]\n",
    "Jamaica_y = Jamaica.iloc[:, -1]"
   ]
  },
  {
   "cell_type": "code",
   "execution_count": 9,
   "metadata": {},
   "outputs": [],
   "source": [
    "Suriname_X = Suriname.iloc[:, :-1]\n",
    "Suriname_y = Suriname.iloc[:, -1]"
   ]
  },
  {
   "cell_type": "code",
   "execution_count": 10,
   "metadata": {},
   "outputs": [],
   "source": [
    "Trinidad_X = Trinidad.iloc[:, :-1]\n",
    "Trinidad_y = Trinidad.iloc[:, -1]"
   ]
  },
  {
   "cell_type": "code",
   "execution_count": 11,
   "metadata": {},
   "outputs": [],
   "source": [
    "Grenada_X = Grenada.iloc[:, :-1]\n",
    "Grenada_y = Grenada.iloc[:, -1]"
   ]
  },
  {
   "cell_type": "code",
   "execution_count": 12,
   "metadata": {},
   "outputs": [],
   "source": [
    "# Randomly choose 30% of the data for validation and testing\n",
    "from sklearn.model_selection import train_test_split\n",
    "GuyanaX_train, GuyanaX_rest, Guyanay_train, Guyanay_rest = train_test_split(Guyana_X, \n",
    "                                                                            Guyana_y, \n",
    "                                                                            test_size=0.3, \n",
    "                                                                            random_state=0, \n",
    "                                                                            stratify=Guyana_y)"
   ]
  },
  {
   "cell_type": "code",
   "execution_count": 13,
   "metadata": {},
   "outputs": [],
   "source": [
    "JamaicaX_train, JamaicaX_rest, Jamaicay_train, Jamaicay_rest = train_test_split(Jamaica_X, \n",
    "                                                                                Jamaica_y, \n",
    "                                                                                test_size=0.3, \n",
    "                                                                                random_state=0, \n",
    "                                                                                stratify=Jamaica_y)"
   ]
  },
  {
   "cell_type": "code",
   "execution_count": 14,
   "metadata": {},
   "outputs": [],
   "source": [
    "SurinameX_train, SurinameX_rest, Surinamey_train, Surinamey_rest = train_test_split(Suriname_X, \n",
    "                                                                                    Suriname_y, \n",
    "                                                                                    test_size=0.3, \n",
    "                                                                                    random_state=0, \n",
    "                                                                                    stratify=Suriname_y)"
   ]
  },
  {
   "cell_type": "code",
   "execution_count": 15,
   "metadata": {},
   "outputs": [],
   "source": [
    "TrinidadX_train, TrinidadX_rest, Trinidady_train, Trinidady_rest = train_test_split(Trinidad_X, \n",
    "                                                                                    Trinidad_y, \n",
    "                                                                                    test_size=0.3, \n",
    "                                                                                    random_state=0, \n",
    "                                                                                    stratify=Trinidad_y)"
   ]
  },
  {
   "cell_type": "code",
   "execution_count": 16,
   "metadata": {},
   "outputs": [],
   "source": [
    "GrenadaX_train, GrenadaX_rest, Grenaday_train, Grenaday_rest = train_test_split(Grenada_X, \n",
    "                                                                                    Grenada_y, \n",
    "                                                                                    test_size=0.3, \n",
    "                                                                                    random_state=0, \n",
    "                                                                                    stratify=Grenada_y)"
   ]
  },
  {
   "cell_type": "code",
   "execution_count": 17,
   "metadata": {},
   "outputs": [],
   "source": [
    "# Randomly choose 50% of the data for testing\n",
    "GuyanaX_val, GuyanaX_test, Guyanay_val, Guyanay_test = train_test_split(GuyanaX_rest, \n",
    "                                                                            Guyanay_rest, \n",
    "                                                                            test_size=0.5, \n",
    "                                                                            random_state=0, \n",
    "                                                                            stratify=Guyanay_rest)"
   ]
  },
  {
   "cell_type": "code",
   "execution_count": 18,
   "metadata": {},
   "outputs": [],
   "source": [
    "JamaicaX_val, JamaicaX_test, Jamaicay_val, Jamaicay_test = train_test_split(JamaicaX_rest, \n",
    "                                                                            Jamaicay_rest, \n",
    "                                                                            test_size=0.5, \n",
    "                                                                            random_state=0, \n",
    "                                                                            stratify=Jamaicay_rest)"
   ]
  },
  {
   "cell_type": "code",
   "execution_count": 19,
   "metadata": {},
   "outputs": [],
   "source": [
    "SurinameX_val, SurinameX_test, Surinamey_val, Surinamey_test = train_test_split(SurinameX_rest, \n",
    "                                                                            Surinamey_rest, \n",
    "                                                                            test_size=0.5, \n",
    "                                                                            random_state=0, \n",
    "                                                                            stratify=Surinamey_rest)"
   ]
  },
  {
   "cell_type": "code",
   "execution_count": 20,
   "metadata": {},
   "outputs": [],
   "source": [
    "TrinidadX_val, TrinidadX_test, Trinidady_val, Trinidady_test = train_test_split(TrinidadX_rest, \n",
    "                                                                            Trinidady_rest, \n",
    "                                                                            test_size=0.5, \n",
    "                                                                            random_state=0, \n",
    "                                                                            stratify=Trinidady_rest)"
   ]
  },
  {
   "cell_type": "code",
   "execution_count": 21,
   "metadata": {},
   "outputs": [],
   "source": [
    "GrenadaX_val, GrenadaX_test, Grenaday_val, Grenaday_test = train_test_split(GrenadaX_rest, \n",
    "                                                                            Grenaday_rest, \n",
    "                                                                            test_size=0.5, \n",
    "                                                                            random_state=0, \n",
    "                                                                            stratify=Grenaday_rest)"
   ]
  },
  {
   "cell_type": "code",
   "execution_count": 22,
   "metadata": {},
   "outputs": [],
   "source": [
    "X_train = pd.concat([GuyanaX_train, JamaicaX_train, SurinameX_train, TrinidadX_train, GrenadaX_train])\n",
    "y_train = pd.concat([Guyanay_train, Jamaicay_train, Surinamey_train, Trinidady_train, Grenaday_train])\n",
    "#df_train = X_train.join(y_train)"
   ]
  },
  {
   "cell_type": "code",
   "execution_count": 23,
   "metadata": {},
   "outputs": [],
   "source": [
    "X_val = pd.concat([GuyanaX_val, JamaicaX_val, SurinameX_val, TrinidadX_val, GrenadaX_val])\n",
    "y_val = pd.concat([Guyanay_val, Jamaicay_val, Surinamey_val, Trinidady_val, Grenaday_val])\n",
    "#df_val = X_val.join(y_val)"
   ]
  },
  {
   "cell_type": "code",
   "execution_count": 24,
   "metadata": {},
   "outputs": [],
   "source": [
    "X_test = pd.concat([GuyanaX_test, JamaicaX_test, SurinameX_test, TrinidadX_test, GrenadaX_test])\n",
    "y_test = pd.concat([Guyanay_test, Jamaicay_test, Surinamey_test, Trinidady_test, Grenaday_test])\n",
    "#df_test = X_test.join(y_test)"
   ]
  },
  {
   "cell_type": "code",
   "execution_count": 25,
   "metadata": {},
   "outputs": [],
   "source": [
    "#(y_train==1).sum()/y_train.shape[0]"
   ]
  },
  {
   "cell_type": "code",
   "execution_count": 26,
   "metadata": {},
   "outputs": [],
   "source": [
    "#(y_val==1).sum()/y_val.shape[0]"
   ]
  },
  {
   "cell_type": "code",
   "execution_count": 27,
   "metadata": {},
   "outputs": [],
   "source": [
    "#(y_test==1).sum()/y_test.shape[0]"
   ]
  },
  {
   "cell_type": "code",
   "execution_count": null,
   "metadata": {},
   "outputs": [],
   "source": []
  },
  {
   "cell_type": "markdown",
   "metadata": {},
   "source": [
    "# Feature selection using chi2 and random forest"
   ]
  },
  {
   "cell_type": "code",
   "execution_count": 28,
   "metadata": {},
   "outputs": [],
   "source": [
    "from scipy.stats import chi2_contingency"
   ]
  },
  {
   "cell_type": "code",
   "execution_count": 29,
   "metadata": {},
   "outputs": [],
   "source": [
    "def chi2_sexphys(dfr_Xtrain, dfr_ytrain):\n",
    "    'Do a Chi2 test of independence and choose the significant dependence'\n",
    "    columns=dfr_Xtrain.columns.tolist()\n",
    "    \n",
    "    p_value = []\n",
    "    for column in columns:\n",
    "        observed = pd.crosstab(dfr_Xtrain[column], dfr_ytrain)\n",
    "        p_value.append(chi2_contingency(observed= observed)[1])\n",
    "\n",
    "    df = pd.DataFrame({\"variable\":columns, \n",
    "                           \"p_value\":p_value})\n",
    "    df2 = df[df.p_value <= 0.05]\n",
    "    df2 = df2.sort_values(by='p_value', ascending=True)\n",
    "    return df2"
   ]
  },
  {
   "cell_type": "code",
   "execution_count": 30,
   "metadata": {},
   "outputs": [],
   "source": [
    "All_sign=chi2_sexphys(X_train, y_train)\n",
    "#All_sign"
   ]
  },
  {
   "cell_type": "code",
   "execution_count": 31,
   "metadata": {},
   "outputs": [],
   "source": [
    "#All_sign"
   ]
  },
  {
   "cell_type": "code",
   "execution_count": 32,
   "metadata": {},
   "outputs": [],
   "source": [
    "colsig = list(All_sign.variable.values)"
   ]
  },
  {
   "cell_type": "raw",
   "metadata": {},
   "source": [
    "# Select only the significant variables \n",
    "X_train_reduced = X_train[list(All_sign.variable)].copy()  #might need to create a function???\n",
    "X_train_reduced.head()"
   ]
  },
  {
   "cell_type": "raw",
   "metadata": {},
   "source": [
    "colsig = [\"country\", \"EP3\", \"earlymarriage\", \"FCMAR\", \"ageyr10\", \"edresp\", #\"w_religion\", 'ageyr5'\n",
    "                 \"SourceIncome\", \"Fam_support\", 'mcv1006', 'mcv1006a', 'mcv1006b', #\"ETHNICITY\", \"employstatus\", \"Fam_support\", 'mcv1006', 'mcv1006a', 'mcv1006b',\n",
    "                  'sumdiffage', 'edpart',  'men_alcohol_all', 'mcv1008', 'mcv1009',#'p_employ','agepartner',\n",
    "                 'Q513R', 'Q515R', 'Q516R', \n",
    "                  \"rQ701a\", \"rQ701b\", \"rQ701c\", \"rQ701d\", \"Q702R\",\n",
    "                  'sQ601c', 'sQ601d', #'sQ601e', 'sQ601f', \"sQ601a\", 'sQ601b', \n",
    "                   'tQ602c', \"tQ602d\", #\"tQ602a\", \"tQ602b\",\n",
    "                  \"justify\", #\"sQ607a\", \"sQ607b\", \"sQ607c\", 'sQ607d', \"sQ607e\",  \"justify\", #\"sQ607f\",\n",
    "                  'CONTROL', #\"eQ703a\", 'eQ703b', \"eQ703c\", \"eQ703d\", \"eQ703e\", \"eQ703f\", \"eQ703g\", \"eQ703h\", \"CONTROLNUM\", 'CONTROL',\n",
    "                   \"Island\", \"Governance1\", \"HDI1\", \"LAWDV1\", #\"Governance\", \"HDI\", \"LAWDV\", \"HighIncome\",\n",
    "                  #\"econviol\", \"emotvio\",                  \n",
    "                     #\"sexphys\"\n",
    "         ]"
   ]
  },
  {
   "cell_type": "code",
   "execution_count": 33,
   "metadata": {},
   "outputs": [
    {
     "data": {
      "text/plain": [
       "30"
      ]
     },
     "execution_count": 33,
     "metadata": {},
     "output_type": "execute_result"
    }
   ],
   "source": [
    "len(colsig)"
   ]
  },
  {
   "cell_type": "code",
   "execution_count": 34,
   "metadata": {},
   "outputs": [
    {
     "data": {
      "text/html": [
       "<div>\n",
       "<style scoped>\n",
       "    .dataframe tbody tr th:only-of-type {\n",
       "        vertical-align: middle;\n",
       "    }\n",
       "\n",
       "    .dataframe tbody tr th {\n",
       "        vertical-align: top;\n",
       "    }\n",
       "\n",
       "    .dataframe thead th {\n",
       "        text-align: right;\n",
       "    }\n",
       "</style>\n",
       "<table border=\"1\" class=\"dataframe\">\n",
       "  <thead>\n",
       "    <tr style=\"text-align: right;\">\n",
       "      <th></th>\n",
       "      <th>CONTROL</th>\n",
       "      <th>Q702R</th>\n",
       "      <th>Q515R</th>\n",
       "      <th>Q513R</th>\n",
       "      <th>mcv1006</th>\n",
       "      <th>mcv1006a</th>\n",
       "      <th>mcv1006b</th>\n",
       "      <th>mcv1008</th>\n",
       "      <th>men_alcohol_all</th>\n",
       "      <th>mcv1009</th>\n",
       "      <th>...</th>\n",
       "      <th>rQ701c</th>\n",
       "      <th>sQ601c</th>\n",
       "      <th>sQ601d</th>\n",
       "      <th>EP3</th>\n",
       "      <th>FCMAR</th>\n",
       "      <th>tQ602d</th>\n",
       "      <th>SourceIncome</th>\n",
       "      <th>ageyr10</th>\n",
       "      <th>justify</th>\n",
       "      <th>tQ602c</th>\n",
       "    </tr>\n",
       "  </thead>\n",
       "  <tbody>\n",
       "    <tr>\n",
       "      <th>995</th>\n",
       "      <td>0</td>\n",
       "      <td>2</td>\n",
       "      <td>0</td>\n",
       "      <td>0</td>\n",
       "      <td>0</td>\n",
       "      <td>1</td>\n",
       "      <td>1</td>\n",
       "      <td>0</td>\n",
       "      <td>0</td>\n",
       "      <td>0</td>\n",
       "      <td>...</td>\n",
       "      <td>0</td>\n",
       "      <td>1</td>\n",
       "      <td>1</td>\n",
       "      <td>2</td>\n",
       "      <td>0</td>\n",
       "      <td>1</td>\n",
       "      <td>5</td>\n",
       "      <td>2</td>\n",
       "      <td>0</td>\n",
       "      <td>0</td>\n",
       "    </tr>\n",
       "    <tr>\n",
       "      <th>962</th>\n",
       "      <td>0</td>\n",
       "      <td>2</td>\n",
       "      <td>0</td>\n",
       "      <td>0</td>\n",
       "      <td>0</td>\n",
       "      <td>0</td>\n",
       "      <td>0</td>\n",
       "      <td>1</td>\n",
       "      <td>1</td>\n",
       "      <td>0</td>\n",
       "      <td>...</td>\n",
       "      <td>1</td>\n",
       "      <td>1</td>\n",
       "      <td>1</td>\n",
       "      <td>1</td>\n",
       "      <td>0</td>\n",
       "      <td>1</td>\n",
       "      <td>4</td>\n",
       "      <td>2</td>\n",
       "      <td>1</td>\n",
       "      <td>0</td>\n",
       "    </tr>\n",
       "    <tr>\n",
       "      <th>998</th>\n",
       "      <td>0</td>\n",
       "      <td>1</td>\n",
       "      <td>0</td>\n",
       "      <td>0</td>\n",
       "      <td>0</td>\n",
       "      <td>0</td>\n",
       "      <td>1</td>\n",
       "      <td>0</td>\n",
       "      <td>0</td>\n",
       "      <td>0</td>\n",
       "      <td>...</td>\n",
       "      <td>1</td>\n",
       "      <td>1</td>\n",
       "      <td>0</td>\n",
       "      <td>2</td>\n",
       "      <td>0</td>\n",
       "      <td>0</td>\n",
       "      <td>4</td>\n",
       "      <td>2</td>\n",
       "      <td>0</td>\n",
       "      <td>0</td>\n",
       "    </tr>\n",
       "    <tr>\n",
       "      <th>639</th>\n",
       "      <td>1</td>\n",
       "      <td>1</td>\n",
       "      <td>1</td>\n",
       "      <td>0</td>\n",
       "      <td>0</td>\n",
       "      <td>0</td>\n",
       "      <td>0</td>\n",
       "      <td>0</td>\n",
       "      <td>0</td>\n",
       "      <td>0</td>\n",
       "      <td>...</td>\n",
       "      <td>1</td>\n",
       "      <td>0</td>\n",
       "      <td>0</td>\n",
       "      <td>4</td>\n",
       "      <td>9</td>\n",
       "      <td>0</td>\n",
       "      <td>5</td>\n",
       "      <td>4</td>\n",
       "      <td>1</td>\n",
       "      <td>0</td>\n",
       "    </tr>\n",
       "    <tr>\n",
       "      <th>932</th>\n",
       "      <td>0</td>\n",
       "      <td>2</td>\n",
       "      <td>0</td>\n",
       "      <td>0</td>\n",
       "      <td>0</td>\n",
       "      <td>0</td>\n",
       "      <td>0</td>\n",
       "      <td>0</td>\n",
       "      <td>0</td>\n",
       "      <td>0</td>\n",
       "      <td>...</td>\n",
       "      <td>1</td>\n",
       "      <td>0</td>\n",
       "      <td>0</td>\n",
       "      <td>4</td>\n",
       "      <td>0</td>\n",
       "      <td>0</td>\n",
       "      <td>5</td>\n",
       "      <td>4</td>\n",
       "      <td>0</td>\n",
       "      <td>0</td>\n",
       "    </tr>\n",
       "  </tbody>\n",
       "</table>\n",
       "<p>5 rows × 30 columns</p>\n",
       "</div>"
      ],
      "text/plain": [
       "     CONTROL  Q702R  Q515R  Q513R  mcv1006  mcv1006a  mcv1006b  mcv1008  \\\n",
       "995        0      2      0      0        0         1         1        0   \n",
       "962        0      2      0      0        0         0         0        1   \n",
       "998        0      1      0      0        0         0         1        0   \n",
       "639        1      1      1      0        0         0         0        0   \n",
       "932        0      2      0      0        0         0         0        0   \n",
       "\n",
       "     men_alcohol_all  mcv1009   ...    rQ701c  sQ601c  sQ601d  EP3  FCMAR  \\\n",
       "995                0        0   ...         0       1       1    2      0   \n",
       "962                1        0   ...         1       1       1    1      0   \n",
       "998                0        0   ...         1       1       0    2      0   \n",
       "639                0        0   ...         1       0       0    4      9   \n",
       "932                0        0   ...         1       0       0    4      0   \n",
       "\n",
       "     tQ602d  SourceIncome  ageyr10  justify  tQ602c  \n",
       "995       1             5        2        0       0  \n",
       "962       1             4        2        1       0  \n",
       "998       0             4        2        0       0  \n",
       "639       0             5        4        1       0  \n",
       "932       0             5        4        0       0  \n",
       "\n",
       "[5 rows x 30 columns]"
      ]
     },
     "execution_count": 34,
     "metadata": {},
     "output_type": "execute_result"
    }
   ],
   "source": [
    "# Select only the significant variables \n",
    "X_train_reduced = X_train[colsig].copy()  #might need to create a function???\n",
    "X_train_reduced.head()"
   ]
  },
  {
   "cell_type": "code",
   "execution_count": null,
   "metadata": {},
   "outputs": [],
   "source": []
  },
  {
   "cell_type": "code",
   "execution_count": 35,
   "metadata": {},
   "outputs": [],
   "source": [
    "nominal_var = [\"earlymarriage\", 'edpart', 'sumdiffage','edresp','country',\n",
    "                'EP3', 'FCMAR','ageyr10','SourceIncome',\"Q702R\" ]#,\n",
    "                    #'sumdiffage',  \n",
    "                #\"Governance1\", \"HDI1\", \"LAWDV1\"]\n",
    "for var in nominal_var:\n",
    "    X_train_reduced[var] = X_train_reduced[var].astype('category')"
   ]
  },
  {
   "cell_type": "code",
   "execution_count": 36,
   "metadata": {},
   "outputs": [],
   "source": [
    "#X_train_reduced.dtypes"
   ]
  },
  {
   "cell_type": "code",
   "execution_count": 37,
   "metadata": {},
   "outputs": [],
   "source": [
    "X_train_dummies = pd.get_dummies(X_train_reduced)"
   ]
  },
  {
   "cell_type": "code",
   "execution_count": 38,
   "metadata": {},
   "outputs": [
    {
     "data": {
      "text/plain": [
       "(4054, 58)"
      ]
     },
     "execution_count": 38,
     "metadata": {},
     "output_type": "execute_result"
    }
   ],
   "source": [
    "X_train_dummies.shape"
   ]
  },
  {
   "cell_type": "code",
   "execution_count": 39,
   "metadata": {},
   "outputs": [
    {
     "data": {
      "text/plain": [
       "Index(['CONTROL', 'Q515R', 'Q513R', 'mcv1006', 'mcv1006a', 'mcv1006b',\n",
       "       'mcv1008', 'men_alcohol_all', 'mcv1009', 'Fam_support', 'Q516R',\n",
       "       'rQ701d', 'rQ701b', 'rQ701a', 'rQ701c', 'sQ601c', 'sQ601d', 'tQ602d',\n",
       "       'justify', 'tQ602c', 'Q702R_1', 'Q702R_2', 'Q702R_3', 'earlymarriage_0',\n",
       "       'earlymarriage_1', 'earlymarriage_9', 'edpart_1', 'edpart_2',\n",
       "       'edpart_3', 'sumdiffage_1', 'sumdiffage_2', 'sumdiffage_3',\n",
       "       'sumdiffage_4', 'edresp_1', 'edresp_2', 'edresp_3', 'country_1',\n",
       "       'country_2', 'country_3', 'country_4', 'country_5', 'EP3_1', 'EP3_2',\n",
       "       'EP3_3', 'EP3_4', 'FCMAR_0', 'FCMAR_1', 'FCMAR_9', 'SourceIncome_1',\n",
       "       'SourceIncome_2', 'SourceIncome_3', 'SourceIncome_4', 'SourceIncome_5',\n",
       "       'ageyr10_1', 'ageyr10_2', 'ageyr10_3', 'ageyr10_4', 'ageyr10_5'],\n",
       "      dtype='object')"
      ]
     },
     "execution_count": 39,
     "metadata": {},
     "output_type": "execute_result"
    }
   ],
   "source": [
    "X_train_dummies.columns"
   ]
  },
  {
   "cell_type": "raw",
   "metadata": {},
   "source": [
    "def chi2_country(dfr_Xtrain, dfr_ytrain):\n",
    "    'Do a Chi2 test of independence and choose the significant dependence'\n",
    "    sign_variable = chi2_sexphys(dfr_Xtrain, dfr_ytrain).variable.values.tolist()\n",
    "    sign_variable.remove('country')\n",
    "    \n",
    "    p_value = []\n",
    "    for significant in sign_variable:\n",
    "        observed = pd.crosstab(dfr_Xtrain[significant], dfr_Xtrain['country'])\n",
    "        p_value.append(chi2_contingency(observed= observed)[1])\n",
    "\n",
    "    df = pd.DataFrame({\"variable\":sign_variable, \n",
    "                           \"p_value\":p_value})\n",
    "    df2 = df[df.p_value <= 0.05]\n",
    "    df2 = df2.sort_values(by='p_value', ascending=True)\n",
    "    return df2"
   ]
  },
  {
   "cell_type": "code",
   "execution_count": 45,
   "metadata": {},
   "outputs": [],
   "source": [
    "#chi2_country(X_train_reduced, y_train)"
   ]
  },
  {
   "cell_type": "code",
   "execution_count": null,
   "metadata": {},
   "outputs": [],
   "source": []
  },
  {
   "cell_type": "raw",
   "metadata": {},
   "source": [
    "colm = list(X_train_dummies.columns)"
   ]
  },
  {
   "cell_type": "raw",
   "metadata": {},
   "source": [
    "colm.remove('country_1')\n",
    "colm.remove('country_2')\n",
    "colm.remove('country_3')\n",
    "colm.remove('country_4')\n",
    "colm.remove('country_5')"
   ]
  },
  {
   "cell_type": "code",
   "execution_count": 51,
   "metadata": {},
   "outputs": [],
   "source": [
    "#Or should I drop columns in nominal variables before doing this???\n",
    "for variable in colm:\n",
    "    X_train_dummies[variable+'X'+'country_1'] = (X_train_dummies[variable]*X_train_dummies['country_1'])\n",
    "    X_train_dummies[variable+'X'+'country_2'] = (X_train_dummies[variable]*X_train_dummies['country_2'])\n",
    "    X_train_dummies[variable+'X'+'country_3'] = (X_train_dummies[variable]*X_train_dummies['country_3'])\n",
    "    X_train_dummies[variable+'X'+'country_4'] = (X_train_dummies[variable]*X_train_dummies['country_4'])\n",
    "    X_train_dummies[variable+'X'+'country_5'] = (X_train_dummies[variable]*X_train_dummies['country_5'])"
   ]
  },
  {
   "cell_type": "code",
   "execution_count": 53,
   "metadata": {},
   "outputs": [
    {
     "data": {
      "text/plain": [
       "(4054, 383)"
      ]
     },
     "execution_count": 53,
     "metadata": {},
     "output_type": "execute_result"
    }
   ],
   "source": [
    "X_train_dummies.shape"
   ]
  },
  {
   "cell_type": "code",
   "execution_count": 40,
   "metadata": {},
   "outputs": [],
   "source": [
    "#chi2 test: all the features with the target variable\n",
    "from sklearn.feature_selection import chi2"
   ]
  },
  {
   "cell_type": "code",
   "execution_count": 41,
   "metadata": {},
   "outputs": [],
   "source": [
    "def chi2_selection(df_X, df_y):\n",
    "    \"To add commments\"\n",
    "    df_chi2 = chi2(df_X, df_y)\n",
    "\n",
    "    # Convert the chi2 tests into one-dimensional 1darray with corresponding df column names as axis labels\n",
    "    f_chi2 = pd.Series(df_chi2[1], df_X.columns)\n",
    "\n",
    "    # Sort the array in ascending order of the pvalues\n",
    "    f_chi2.sort_values(ascending=True, inplace=True)\n",
    "\n",
    "    # Select the significant features \n",
    "    sign_chi2 = f_chi2[f_chi2<=0.05]\n",
    "\n",
    "    print(sign_chi2.shape)\n",
    "    return sign_chi2"
   ]
  },
  {
   "cell_type": "code",
   "execution_count": 42,
   "metadata": {},
   "outputs": [
    {
     "name": "stdout",
     "output_type": "stream",
     "text": [
      "(36,)\n"
     ]
    }
   ],
   "source": [
    "result_chi2 = chi2_selection(X_train_dummies, y_train)"
   ]
  },
  {
   "cell_type": "code",
   "execution_count": 61,
   "metadata": {},
   "outputs": [],
   "source": [
    "#result_chi2"
   ]
  },
  {
   "cell_type": "code",
   "execution_count": 43,
   "metadata": {},
   "outputs": [],
   "source": [
    "cols = list(result_chi2.keys())"
   ]
  },
  {
   "cell_type": "code",
   "execution_count": 44,
   "metadata": {},
   "outputs": [],
   "source": [
    "cols.sort()"
   ]
  },
  {
   "cell_type": "code",
   "execution_count": 46,
   "metadata": {},
   "outputs": [],
   "source": [
    "cols.remove('earlymarriage_0')\n",
    "cols.remove('Q702R_2')"
   ]
  },
  {
   "cell_type": "code",
   "execution_count": 47,
   "metadata": {},
   "outputs": [
    {
     "name": "stdout",
     "output_type": "stream",
     "text": [
      "['CONTROL', 'EP3_1', 'EP3_2', 'FCMAR_1', 'FCMAR_9', 'Fam_support', 'Q513R', 'Q515R', 'Q516R', 'Q702R_1', 'Q702R_3', 'SourceIncome_2', 'SourceIncome_3', 'ageyr10_1', 'country_1', 'country_2', 'earlymarriage_1', 'earlymarriage_9', 'edpart_1', 'edpart_3', 'edresp_1', 'edresp_3', 'justify', 'mcv1006', 'mcv1006a', 'mcv1006b', 'mcv1008', 'mcv1009', 'men_alcohol_all', 'rQ701d', 'sQ601c', 'sumdiffage_1', 'tQ602c', 'tQ602d']\n"
     ]
    }
   ],
   "source": [
    "print(cols)"
   ]
  },
  {
   "cell_type": "code",
   "execution_count": 67,
   "metadata": {},
   "outputs": [],
   "source": [
    "#chi2(np.array(X_train_reduced['HDI1'].values).reshape(-1, 1), y_train)"
   ]
  },
  {
   "cell_type": "code",
   "execution_count": 68,
   "metadata": {},
   "outputs": [],
   "source": [
    "#np.array(X_train_reduced['HDI1'].values).reshape(-1, 1)  \n",
    "#Should I keep ordinal variables not dummies? -- NO, I created them and they don't seem to be really ordinal."
   ]
  },
  {
   "cell_type": "code",
   "execution_count": 62,
   "metadata": {},
   "outputs": [],
   "source": [
    "#cols.remove('earlymarriage_0')"
   ]
  },
  {
   "cell_type": "code",
   "execution_count": 49,
   "metadata": {},
   "outputs": [],
   "source": [
    "colm = cols"
   ]
  },
  {
   "cell_type": "code",
   "execution_count": 54,
   "metadata": {},
   "outputs": [],
   "source": [
    "#colm"
   ]
  },
  {
   "cell_type": "code",
   "execution_count": 55,
   "metadata": {},
   "outputs": [],
   "source": [
    "colm.remove('country_1')\n",
    "colm.remove('country_2')"
   ]
  },
  {
   "cell_type": "code",
   "execution_count": 52,
   "metadata": {},
   "outputs": [
    {
     "data": {
      "text/html": [
       "<div>\n",
       "<style scoped>\n",
       "    .dataframe tbody tr th:only-of-type {\n",
       "        vertical-align: middle;\n",
       "    }\n",
       "\n",
       "    .dataframe tbody tr th {\n",
       "        vertical-align: top;\n",
       "    }\n",
       "\n",
       "    .dataframe thead th {\n",
       "        text-align: right;\n",
       "    }\n",
       "</style>\n",
       "<table border=\"1\" class=\"dataframe\">\n",
       "  <thead>\n",
       "    <tr style=\"text-align: right;\">\n",
       "      <th></th>\n",
       "      <th>CONTROL</th>\n",
       "      <th>EP3_1</th>\n",
       "      <th>EP3_2</th>\n",
       "      <th>FCMAR_1</th>\n",
       "      <th>FCMAR_9</th>\n",
       "      <th>Fam_support</th>\n",
       "      <th>Q513R</th>\n",
       "      <th>Q515R</th>\n",
       "      <th>Q516R</th>\n",
       "      <th>Q702R_1</th>\n",
       "      <th>...</th>\n",
       "      <th>mcv1006a</th>\n",
       "      <th>mcv1006b</th>\n",
       "      <th>mcv1008</th>\n",
       "      <th>mcv1009</th>\n",
       "      <th>men_alcohol_all</th>\n",
       "      <th>rQ701d</th>\n",
       "      <th>sQ601c</th>\n",
       "      <th>sumdiffage_1</th>\n",
       "      <th>tQ602c</th>\n",
       "      <th>tQ602d</th>\n",
       "    </tr>\n",
       "  </thead>\n",
       "  <tbody>\n",
       "    <tr>\n",
       "      <th>995</th>\n",
       "      <td>0</td>\n",
       "      <td>0</td>\n",
       "      <td>1</td>\n",
       "      <td>0</td>\n",
       "      <td>0</td>\n",
       "      <td>0</td>\n",
       "      <td>0</td>\n",
       "      <td>0</td>\n",
       "      <td>0</td>\n",
       "      <td>0</td>\n",
       "      <td>...</td>\n",
       "      <td>1</td>\n",
       "      <td>1</td>\n",
       "      <td>0</td>\n",
       "      <td>0</td>\n",
       "      <td>0</td>\n",
       "      <td>1</td>\n",
       "      <td>1</td>\n",
       "      <td>0</td>\n",
       "      <td>0</td>\n",
       "      <td>1</td>\n",
       "    </tr>\n",
       "    <tr>\n",
       "      <th>962</th>\n",
       "      <td>0</td>\n",
       "      <td>1</td>\n",
       "      <td>0</td>\n",
       "      <td>0</td>\n",
       "      <td>0</td>\n",
       "      <td>1</td>\n",
       "      <td>0</td>\n",
       "      <td>0</td>\n",
       "      <td>0</td>\n",
       "      <td>0</td>\n",
       "      <td>...</td>\n",
       "      <td>0</td>\n",
       "      <td>0</td>\n",
       "      <td>1</td>\n",
       "      <td>0</td>\n",
       "      <td>1</td>\n",
       "      <td>1</td>\n",
       "      <td>1</td>\n",
       "      <td>0</td>\n",
       "      <td>0</td>\n",
       "      <td>1</td>\n",
       "    </tr>\n",
       "    <tr>\n",
       "      <th>998</th>\n",
       "      <td>0</td>\n",
       "      <td>0</td>\n",
       "      <td>1</td>\n",
       "      <td>0</td>\n",
       "      <td>0</td>\n",
       "      <td>1</td>\n",
       "      <td>0</td>\n",
       "      <td>0</td>\n",
       "      <td>0</td>\n",
       "      <td>1</td>\n",
       "      <td>...</td>\n",
       "      <td>0</td>\n",
       "      <td>1</td>\n",
       "      <td>0</td>\n",
       "      <td>0</td>\n",
       "      <td>0</td>\n",
       "      <td>1</td>\n",
       "      <td>1</td>\n",
       "      <td>0</td>\n",
       "      <td>0</td>\n",
       "      <td>0</td>\n",
       "    </tr>\n",
       "    <tr>\n",
       "      <th>639</th>\n",
       "      <td>1</td>\n",
       "      <td>0</td>\n",
       "      <td>0</td>\n",
       "      <td>0</td>\n",
       "      <td>1</td>\n",
       "      <td>1</td>\n",
       "      <td>0</td>\n",
       "      <td>1</td>\n",
       "      <td>0</td>\n",
       "      <td>1</td>\n",
       "      <td>...</td>\n",
       "      <td>0</td>\n",
       "      <td>0</td>\n",
       "      <td>0</td>\n",
       "      <td>0</td>\n",
       "      <td>0</td>\n",
       "      <td>1</td>\n",
       "      <td>0</td>\n",
       "      <td>0</td>\n",
       "      <td>0</td>\n",
       "      <td>0</td>\n",
       "    </tr>\n",
       "    <tr>\n",
       "      <th>932</th>\n",
       "      <td>0</td>\n",
       "      <td>0</td>\n",
       "      <td>0</td>\n",
       "      <td>0</td>\n",
       "      <td>0</td>\n",
       "      <td>1</td>\n",
       "      <td>0</td>\n",
       "      <td>0</td>\n",
       "      <td>0</td>\n",
       "      <td>0</td>\n",
       "      <td>...</td>\n",
       "      <td>0</td>\n",
       "      <td>0</td>\n",
       "      <td>0</td>\n",
       "      <td>0</td>\n",
       "      <td>0</td>\n",
       "      <td>1</td>\n",
       "      <td>0</td>\n",
       "      <td>1</td>\n",
       "      <td>0</td>\n",
       "      <td>0</td>\n",
       "    </tr>\n",
       "  </tbody>\n",
       "</table>\n",
       "<p>5 rows × 34 columns</p>\n",
       "</div>"
      ],
      "text/plain": [
       "     CONTROL  EP3_1  EP3_2  FCMAR_1  FCMAR_9  Fam_support  Q513R  Q515R  \\\n",
       "995        0      0      1        0        0            0      0      0   \n",
       "962        0      1      0        0        0            1      0      0   \n",
       "998        0      0      1        0        0            1      0      0   \n",
       "639        1      0      0        0        1            1      0      1   \n",
       "932        0      0      0        0        0            1      0      0   \n",
       "\n",
       "     Q516R  Q702R_1   ...    mcv1006a  mcv1006b  mcv1008  mcv1009  \\\n",
       "995      0        0   ...           1         1        0        0   \n",
       "962      0        0   ...           0         0        1        0   \n",
       "998      0        1   ...           0         1        0        0   \n",
       "639      0        1   ...           0         0        0        0   \n",
       "932      0        0   ...           0         0        0        0   \n",
       "\n",
       "     men_alcohol_all  rQ701d  sQ601c  sumdiffage_1  tQ602c  tQ602d  \n",
       "995                0       1       1             0       0       1  \n",
       "962                1       1       1             0       0       1  \n",
       "998                0       1       1             0       0       0  \n",
       "639                0       1       0             0       0       0  \n",
       "932                0       1       0             1       0       0  \n",
       "\n",
       "[5 rows x 34 columns]"
      ]
     },
     "execution_count": 52,
     "metadata": {},
     "output_type": "execute_result"
    }
   ],
   "source": [
    "X_train_dummies = X_train_dummies[cols]\n",
    "X_train_dummies.head()"
   ]
  },
  {
   "cell_type": "code",
   "execution_count": 56,
   "metadata": {},
   "outputs": [],
   "source": [
    "#Or should I drop columns in nominal variables before doing this??? Answer: I drop them first\n",
    "for variable in colm:\n",
    "    X_train_dummies[variable+'X'+'country_1'] = (X_train_dummies[variable]*X_train_dummies['country_1'])\n",
    "    X_train_dummies[variable+'X'+'country_2'] = (X_train_dummies[variable]*X_train_dummies['country_2'])"
   ]
  },
  {
   "cell_type": "code",
   "execution_count": 58,
   "metadata": {},
   "outputs": [],
   "source": [
    "#X_train_dummies.head()"
   ]
  },
  {
   "cell_type": "code",
   "execution_count": 63,
   "metadata": {},
   "outputs": [],
   "source": [
    "cols = list(X_train_dummies.columns)"
   ]
  },
  {
   "cell_type": "code",
   "execution_count": 64,
   "metadata": {},
   "outputs": [
    {
     "data": {
      "text/plain": [
       "'CONTROL + EP3_1 + EP3_2 + FCMAR_1 + FCMAR_9 + Fam_support + Q513R + Q515R + Q516R + Q702R_1 + Q702R_3 + SourceIncome_2 + SourceIncome_3 + ageyr10_1 + country_1 + country_2 + earlymarriage_1 + earlymarriage_9 + edpart_1 + edpart_3 + edresp_1 + edresp_3 + justify + mcv1006 + mcv1006a + mcv1006b + mcv1008 + mcv1009 + men_alcohol_all + rQ701d + sQ601c + sumdiffage_1 + tQ602c + tQ602d + CONTROLXcountry_1 + CONTROLXcountry_2 + EP3_1Xcountry_1 + EP3_1Xcountry_2 + EP3_2Xcountry_1 + EP3_2Xcountry_2 + FCMAR_1Xcountry_1 + FCMAR_1Xcountry_2 + FCMAR_9Xcountry_1 + FCMAR_9Xcountry_2 + Fam_supportXcountry_1 + Fam_supportXcountry_2 + Q513RXcountry_1 + Q513RXcountry_2 + Q515RXcountry_1 + Q515RXcountry_2 + Q516RXcountry_1 + Q516RXcountry_2 + Q702R_1Xcountry_1 + Q702R_1Xcountry_2 + Q702R_3Xcountry_1 + Q702R_3Xcountry_2 + SourceIncome_2Xcountry_1 + SourceIncome_2Xcountry_2 + SourceIncome_3Xcountry_1 + SourceIncome_3Xcountry_2 + ageyr10_1Xcountry_1 + ageyr10_1Xcountry_2 + earlymarriage_1Xcountry_1 + earlymarriage_1Xcountry_2 + earlymarriage_9Xcountry_1 + earlymarriage_9Xcountry_2 + edpart_1Xcountry_1 + edpart_1Xcountry_2 + edpart_3Xcountry_1 + edpart_3Xcountry_2 + edresp_1Xcountry_1 + edresp_1Xcountry_2 + edresp_3Xcountry_1 + edresp_3Xcountry_2 + justifyXcountry_1 + justifyXcountry_2 + mcv1006Xcountry_1 + mcv1006Xcountry_2 + mcv1006aXcountry_1 + mcv1006aXcountry_2 + mcv1006bXcountry_1 + mcv1006bXcountry_2 + mcv1008Xcountry_1 + mcv1008Xcountry_2 + mcv1009Xcountry_1 + mcv1009Xcountry_2 + men_alcohol_allXcountry_1 + men_alcohol_allXcountry_2 + rQ701dXcountry_1 + rQ701dXcountry_2 + sQ601cXcountry_1 + sQ601cXcountry_2 + sumdiffage_1Xcountry_1 + sumdiffage_1Xcountry_2 + tQ602cXcountry_1 + tQ602cXcountry_2 + tQ602dXcountry_1 + tQ602dXcountry_2'"
      ]
     },
     "execution_count": 64,
     "metadata": {},
     "output_type": "execute_result"
    }
   ],
   "source": [
    "' + '.join(cols)"
   ]
  },
  {
   "cell_type": "code",
   "execution_count": 65,
   "metadata": {},
   "outputs": [],
   "source": [
    "import statsmodels.api as sm"
   ]
  },
  {
   "cell_type": "code",
   "execution_count": 66,
   "metadata": {},
   "outputs": [
    {
     "name": "stdout",
     "output_type": "stream",
     "text": [
      "                    Results: Generalized linear model\n",
      "=========================================================================\n",
      "Model:                 GLM                 AIC:               4271.2187  \n",
      "Link Function:         logit               BIC:               -28801.7053\n",
      "Dependent Variable:    sexphys             Log-Likelihood:    -2039.6    \n",
      "Date:                  2019-03-26 21:37    LL-Null:           -2550.1    \n",
      "No. Observations:      4054                Deviance:          4079.2     \n",
      "Df Model:              95                  Pearson chi2:      3.96e+03   \n",
      "Df Residuals:          3958                Scale:             1.0000     \n",
      "Method:                IRLS                                              \n",
      "-------------------------------------------------------------------------\n",
      "                           Coef.  Std.Err.    z    P>|z|   [0.025  0.975]\n",
      "-------------------------------------------------------------------------\n",
      "Intercept                 -1.0230   0.2767 -3.6971 0.0002 -1.5654 -0.4807\n",
      "CONTROL                    0.2199   0.0285  7.7100 0.0000  0.1640  0.2758\n",
      "EP3_1                     -0.4066   0.1763 -2.3059 0.0211 -0.7522 -0.0610\n",
      "EP3_2                      0.2668   0.1487  1.7940 0.0728 -0.0247  0.5583\n",
      "FCMAR_1                    0.0962   0.1737  0.5538 0.5797 -0.2443  0.4367\n",
      "FCMAR_9                   -0.2107   0.0922 -2.2845 0.0223 -0.3915 -0.0299\n",
      "Fam_support               -0.3708   0.1318 -2.8145 0.0049 -0.6291 -0.1126\n",
      "Q513R                      0.5155   0.1673  3.0810 0.0021  0.1876  0.8433\n",
      "Q515R                      0.4843   0.1449  3.3420 0.0008  0.2003  0.7683\n",
      "Q516R                     -0.0565   0.2284 -0.2473 0.8046 -0.5042  0.3912\n",
      "Q702R_1                   -0.2768   0.1135 -2.4383 0.0148 -0.4993 -0.0543\n",
      "Q702R_3                    0.8414   0.1536  5.4782 0.0000  0.5404  1.1424\n",
      "SourceIncome_2             0.1301   0.1199  1.0849 0.2780 -0.1050  0.3652\n",
      "SourceIncome_3            -0.1276   0.1379 -0.9251 0.3549 -0.3979  0.1427\n",
      "ageyr10_1                 -0.4969   0.1723 -2.8842 0.0039 -0.8345 -0.1592\n",
      "country_1                  0.9272   0.5540  1.6735 0.0942 -0.1587  2.0130\n",
      "country_2                 -1.1893   0.6824 -1.7428 0.0814 -2.5268  0.1482\n",
      "earlymarriage_1            0.3654   0.1578  2.3152 0.0206  0.0561  0.6748\n",
      "earlymarriage_9           -0.2107   0.0922 -2.2845 0.0223 -0.3915 -0.0299\n",
      "edpart_1                  -0.0676   0.1215 -0.5568 0.5776 -0.3058  0.1705\n",
      "edpart_3                  -0.2182   0.1555 -1.4035 0.1605 -0.5229  0.0865\n",
      "edresp_1                  -0.0405   0.1359 -0.2977 0.7659 -0.3069  0.2260\n",
      "edresp_3                  -0.0999   0.1371 -0.7284 0.4664 -0.3686  0.1689\n",
      "justify                   -0.0365   0.1572 -0.2322 0.8164 -0.3445  0.2716\n",
      "mcv1006                    0.4945   0.1126  4.3919 0.0000  0.2738  0.7151\n",
      "mcv1006a                   0.3620   0.1372  2.6377 0.0083  0.0930  0.6309\n",
      "mcv1006b                   0.3453   0.1342  2.5740 0.0101  0.0824  0.6083\n",
      "mcv1008                    0.3761   0.1651  2.2775 0.0228  0.0524  0.6997\n",
      "mcv1009                    0.4850   0.1554  3.1208 0.0018  0.1804  0.7897\n",
      "men_alcohol_all            0.2162   0.1247  1.7337 0.0830 -0.0282  0.4606\n",
      "rQ701d                    -0.2254   0.1327 -1.6988 0.0894 -0.4854  0.0346\n",
      "sQ601c                     0.1242   0.1126  1.1035 0.2698 -0.0964  0.3449\n",
      "sumdiffage_1               0.2145   0.1332  1.6109 0.1072 -0.0465  0.4755\n",
      "tQ602c                     0.0578   0.1896  0.3050 0.7604 -0.3138  0.4295\n",
      "tQ602d                     0.1409   0.1414  0.9961 0.3192 -0.1363  0.4181\n",
      "CONTROLXcountry_1          0.0793   0.0619  1.2809 0.2002 -0.0421  0.2007\n",
      "CONTROLXcountry_2          0.0592   0.0726  0.8154 0.4149 -0.0831  0.2014\n",
      "EP3_1Xcountry_1            0.3853   0.2978  1.2937 0.1958 -0.1984  0.9690\n",
      "EP3_1Xcountry_2            0.4269   0.5366  0.7955 0.4263 -0.6249  1.4786\n",
      "EP3_2Xcountry_1           -0.0759   0.2901 -0.2614 0.7938 -0.6445  0.4928\n",
      "EP3_2Xcountry_2           -0.6367   0.3931 -1.6196 0.1053 -1.4071  0.1338\n",
      "FCMAR_1Xcountry_1         -0.4006   0.3065 -1.3070 0.1912 -1.0014  0.2002\n",
      "FCMAR_1Xcountry_2          0.1128   0.5221  0.2161 0.8289 -0.9105  1.1362\n",
      "FCMAR_9Xcountry_1         -0.4009   0.2240 -1.7893 0.0736 -0.8400  0.0382\n",
      "FCMAR_9Xcountry_2          0.2783   0.2802  0.9933 0.3206 -0.2709  0.8276\n",
      "Fam_supportXcountry_1     -0.5538   0.2909 -1.9036 0.0570 -1.1240  0.0164\n",
      "Fam_supportXcountry_2     -0.0252   0.2642 -0.0955 0.9239 -0.5430  0.4925\n",
      "Q513RXcountry_1           -0.1199   0.3324 -0.3607 0.7183 -0.7714  0.5316\n",
      "Q513RXcountry_2            0.3485   0.4056  0.8592 0.3902 -0.4465  1.1435\n",
      "Q515RXcountry_1            0.3345   0.2768  1.2085 0.2269 -0.2080  0.8771\n",
      "Q515RXcountry_2            0.1632   0.3120  0.5231 0.6009 -0.4484  0.7748\n",
      "Q516RXcountry_1           -0.3478   0.4423 -0.7863 0.4317 -1.2147  0.5191\n",
      "Q516RXcountry_2            0.0828   0.4465  0.1854 0.8529 -0.7923  0.9578\n",
      "Q702R_1Xcountry_1         -0.2337   0.2056 -1.1368 0.2556 -0.6366  0.1692\n",
      "Q702R_1Xcountry_2         -0.0982   0.2534 -0.3875 0.6984 -0.5947  0.3984\n",
      "Q702R_3Xcountry_1         -0.2390   0.3193 -0.7484 0.4542 -0.8649  0.3869\n",
      "Q702R_3Xcountry_2          0.3130   0.3801  0.8236 0.4102 -0.4319  1.0580\n",
      "SourceIncome_2Xcountry_1  -0.1135   0.2473 -0.4590 0.6462 -0.5982  0.3712\n",
      "SourceIncome_2Xcountry_2   0.1662   0.2962  0.5613 0.5746 -0.4142  0.7467\n",
      "SourceIncome_3Xcountry_1  -0.2247   0.2629 -0.8547 0.3927 -0.7400  0.2906\n",
      "SourceIncome_3Xcountry_2   0.4404   0.3372  1.3063 0.1914 -0.2204  1.1012\n",
      "ageyr10_1Xcountry_1       -0.0246   0.3038 -0.0810 0.9354 -0.6201  0.5709\n",
      "ageyr10_1Xcountry_2        0.0291   0.3799  0.0767 0.9388 -0.7154  0.7737\n",
      "earlymarriage_1Xcountry_1  0.0332   0.2397  0.1383 0.8900 -0.4367  0.5030\n",
      "earlymarriage_1Xcountry_2  0.1797   0.3715  0.4838 0.6285 -0.5484  0.9079\n",
      "earlymarriage_9Xcountry_1 -0.4009   0.2240 -1.7893 0.0736 -0.8400  0.0382\n",
      "earlymarriage_9Xcountry_2  0.2783   0.2802  0.9933 0.3206 -0.2709  0.8276\n",
      "edpart_1Xcountry_1         0.1817   0.2147  0.8463 0.3974 -0.2391  0.6026\n",
      "edpart_1Xcountry_2         0.2991   0.2818  1.0615 0.2884 -0.2532  0.8515\n",
      "edpart_3Xcountry_1        -0.3096   0.3181 -0.9734 0.3304 -0.9331  0.3138\n",
      "edpart_3Xcountry_2        -0.0145   0.3498 -0.0414 0.9670 -0.7001  0.6712\n",
      "edresp_1Xcountry_1        -0.0606   0.2431 -0.2491 0.8033 -0.5371  0.4160\n",
      "edresp_1Xcountry_2         0.0034   0.3661  0.0094 0.9925 -0.7141  0.7210\n",
      "edresp_3Xcountry_1         0.5785   0.2892  2.0001 0.0455  0.0116  1.1454\n",
      "edresp_3Xcountry_2         0.0277   0.2873  0.0963 0.9233 -0.5354  0.5907\n",
      "justifyXcountry_1          0.0850   0.2570  0.3307 0.7408 -0.4187  0.5886\n",
      "justifyXcountry_2         -0.4530   0.4145 -1.0929 0.2744 -1.2655  0.3594\n",
      "mcv1006Xcountry_1         -0.1118   0.2092 -0.5345 0.5930 -0.5218  0.2982\n",
      "mcv1006Xcountry_2         -0.1114   0.2925 -0.3808 0.7033 -0.6846  0.4619\n",
      "mcv1006aXcountry_1        -0.1133   0.2632 -0.4304 0.6669 -0.6292  0.4026\n",
      "mcv1006aXcountry_2        -0.1085   0.2985 -0.3636 0.7162 -0.6936  0.4766\n",
      "mcv1006bXcountry_1        -0.1737   0.2562 -0.6778 0.4979 -0.6759  0.3285\n",
      "mcv1006bXcountry_2         0.2628   0.2728  0.9632 0.3354 -0.2719  0.7975\n",
      "mcv1008Xcountry_1          0.0822   0.3185  0.2581 0.7963 -0.5420  0.7064\n",
      "mcv1008Xcountry_2          0.0959   0.4252  0.2254 0.8216 -0.7375  0.9292\n",
      "mcv1009Xcountry_1         -0.4246   0.2679 -1.5850 0.1130 -0.9496  0.1004\n",
      "mcv1009Xcountry_2         -0.2566   0.3010 -0.8525 0.3939 -0.8464  0.3333\n",
      "men_alcohol_allXcountry_1  0.0116   0.2275  0.0511 0.9593 -0.4343  0.4576\n",
      "men_alcohol_allXcountry_2  0.1026   0.2552  0.4019 0.6877 -0.3976  0.6028\n",
      "rQ701dXcountry_1          -0.4586   0.2658 -1.7258 0.0844 -0.9795  0.0622\n",
      "rQ701dXcountry_2           0.5265   0.2736  1.9245 0.0543 -0.0097  1.0627\n",
      "sQ601cXcountry_1           0.0353   0.2364  0.1491 0.8814 -0.4282  0.4987\n",
      "sQ601cXcountry_2          -0.3094   0.2533 -1.2217 0.2218 -0.8058  0.1870\n",
      "sumdiffage_1Xcountry_1     0.4317   0.2591  1.6664 0.0956 -0.0761  0.9395\n",
      "sumdiffage_1Xcountry_2     0.1418   0.3116  0.4550 0.6491 -0.4690  0.7526\n",
      "tQ602cXcountry_1           0.1773   0.3203  0.5536 0.5798 -0.4505  0.8051\n",
      "tQ602cXcountry_2           0.0372   0.3473  0.1072 0.9147 -0.6435  0.7180\n",
      "tQ602dXcountry_1          -0.0735   0.2430 -0.3025 0.7623 -0.5499  0.4028\n",
      "tQ602dXcountry_2          -0.4367   0.5557 -0.7858 0.4320 -1.5258  0.6525\n",
      "=========================================================================\n",
      "\n"
     ]
    }
   ],
   "source": [
    "model = sm.formula.glm(formula='''sexphys ~ CONTROL + EP3_1 + EP3_2 + FCMAR_1 + FCMAR_9 + Fam_support + Q513R + Q515R + \n",
    "                                Q516R + Q702R_1 + Q702R_3 + SourceIncome_2 + SourceIncome_3 + ageyr10_1 + country_1 + \n",
    "                                country_2 + earlymarriage_1 + earlymarriage_9 + edpart_1 + edpart_3 + edresp_1 + \n",
    "                                edresp_3 + justify + mcv1006 + mcv1006a + mcv1006b + mcv1008 + mcv1009 + \n",
    "                                men_alcohol_all + rQ701d + sQ601c + sumdiffage_1 + tQ602c + tQ602d + CONTROLXcountry_1 + \n",
    "                                CONTROLXcountry_2 + EP3_1Xcountry_1 + EP3_1Xcountry_2 + EP3_2Xcountry_1 + \n",
    "                                EP3_2Xcountry_2 + FCMAR_1Xcountry_1 + FCMAR_1Xcountry_2 + FCMAR_9Xcountry_1 + \n",
    "                                FCMAR_9Xcountry_2 + Fam_supportXcountry_1 + Fam_supportXcountry_2 + Q513RXcountry_1 + \n",
    "                                Q513RXcountry_2 + Q515RXcountry_1 + Q515RXcountry_2 + Q516RXcountry_1 + Q516RXcountry_2 + \n",
    "                                Q702R_1Xcountry_1 + Q702R_1Xcountry_2 + Q702R_3Xcountry_1 + Q702R_3Xcountry_2 + \n",
    "                                SourceIncome_2Xcountry_1 + SourceIncome_2Xcountry_2 + SourceIncome_3Xcountry_1 + \n",
    "                                SourceIncome_3Xcountry_2 + ageyr10_1Xcountry_1 + ageyr10_1Xcountry_2 + \n",
    "                                earlymarriage_1Xcountry_1 + earlymarriage_1Xcountry_2 + earlymarriage_9Xcountry_1 + \n",
    "                                earlymarriage_9Xcountry_2 + edpart_1Xcountry_1 + edpart_1Xcountry_2 + edpart_3Xcountry_1 + \n",
    "                                edpart_3Xcountry_2 + edresp_1Xcountry_1 + edresp_1Xcountry_2 + edresp_3Xcountry_1 + \n",
    "                                edresp_3Xcountry_2 + justifyXcountry_1 + justifyXcountry_2 + mcv1006Xcountry_1 + \n",
    "                                mcv1006Xcountry_2 + mcv1006aXcountry_1 + mcv1006aXcountry_2 + mcv1006bXcountry_1 + \n",
    "                                mcv1006bXcountry_2 + mcv1008Xcountry_1 + mcv1008Xcountry_2 + mcv1009Xcountry_1 + \n",
    "                                mcv1009Xcountry_2 + men_alcohol_allXcountry_1 + men_alcohol_allXcountry_2 + \n",
    "                                rQ701dXcountry_1 + rQ701dXcountry_2 + sQ601cXcountry_1 + sQ601cXcountry_2 + \n",
    "                                sumdiffage_1Xcountry_1 + sumdiffage_1Xcountry_2 + tQ602cXcountry_1 + tQ602cXcountry_2 + \n",
    "                                tQ602dXcountry_1 + tQ602dXcountry_2''',\n",
    "                       family=sm.families.Binomial(), data=X_train_dummies[cols].join(y_train)).fit()\n",
    "print(model.summary2())"
   ]
  },
  {
   "cell_type": "code",
   "execution_count": 67,
   "metadata": {},
   "outputs": [],
   "source": [
    "#model.params\n",
    "cols2 = list(model.pvalues[model.pvalues <=0.05].index)"
   ]
  },
  {
   "cell_type": "code",
   "execution_count": 68,
   "metadata": {},
   "outputs": [
    {
     "data": {
      "text/plain": [
       "'Intercept + CONTROL + EP3_1 + FCMAR_9 + Fam_support + Q513R + Q515R + Q702R_1 + Q702R_3 + ageyr10_1 + earlymarriage_1 + earlymarriage_9 + mcv1006 + mcv1006a + mcv1006b + mcv1008 + mcv1009 + edresp_3Xcountry_1'"
      ]
     },
     "execution_count": 68,
     "metadata": {},
     "output_type": "execute_result"
    }
   ],
   "source": [
    "' + '.join(cols2)"
   ]
  },
  {
   "cell_type": "code",
   "execution_count": 69,
   "metadata": {},
   "outputs": [
    {
     "name": "stdout",
     "output_type": "stream",
     "text": [
      "                Results: Generalized linear model\n",
      "==================================================================\n",
      "Model:                GLM              AIC:            4234.8186  \n",
      "Link Function:        logit            BIC:            -29336.3947\n",
      "Dependent Variable:   sexphys          Log-Likelihood: -2100.4    \n",
      "Date:                 2019-03-26 21:39 LL-Null:        -2550.1    \n",
      "No. Observations:     4054             Deviance:       4200.8     \n",
      "Df Model:             16               Pearson chi2:   3.99e+03   \n",
      "Df Residuals:         4037             Scale:          1.0000     \n",
      "Method:               IRLS                                        \n",
      "------------------------------------------------------------------\n",
      "                    Coef.  Std.Err.    z    P>|z|   [0.025  0.975]\n",
      "------------------------------------------------------------------\n",
      "Intercept          -0.9982   0.1321 -7.5541 0.0000 -1.2573 -0.7392\n",
      "CONTROL             0.2523   0.0224 11.2763 0.0000  0.2085  0.2962\n",
      "EP3_1              -0.3898   0.0924 -4.2179 0.0000 -0.5709 -0.2087\n",
      "FCMAR_9            -0.1886   0.0526 -3.5845 0.0003 -0.2917 -0.0855\n",
      "Fam_support        -0.4363   0.0982 -4.4433 0.0000 -0.6287 -0.2438\n",
      "Q513R               0.5786   0.1292  4.4766 0.0000  0.3253  0.8319\n",
      "Q515R               0.5669   0.0917  6.1820 0.0000  0.3871  0.7466\n",
      "Q702R_1            -0.3618   0.0841 -4.3000 0.0000 -0.5266 -0.1969\n",
      "Q702R_3             0.8536   0.1199  7.1170 0.0000  0.6185  1.0886\n",
      "ageyr10_1          -0.5938   0.1216 -4.8834 0.0000 -0.8321 -0.3555\n",
      "earlymarriage_1     0.4610   0.1037  4.4450 0.0000  0.2577  0.6643\n",
      "earlymarriage_9    -0.1886   0.0526 -3.5845 0.0003 -0.2917 -0.0855\n",
      "mcv1006             0.4858   0.0869  5.5935 0.0000  0.3156  0.6561\n",
      "mcv1006a            0.2890   0.1033  2.7960 0.0052  0.0864  0.4915\n",
      "mcv1006b            0.3192   0.0985  3.2410 0.0012  0.1262  0.5122\n",
      "mcv1008             0.4529   0.1271  3.5628 0.0004  0.2037  0.7020\n",
      "mcv1009             0.2737   0.1076  2.5433 0.0110  0.0628  0.4846\n",
      "edresp_3Xcountry_1  0.1639   0.1997  0.8207 0.4118 -0.2275  0.5554\n",
      "==================================================================\n",
      "\n"
     ]
    }
   ],
   "source": [
    "model2 = sm.formula.glm(formula='''sexphys ~ CONTROL + EP3_1 + FCMAR_9 + Fam_support + Q513R + Q515R + Q702R_1 + \n",
    "                                    Q702R_3 + ageyr10_1 + earlymarriage_1 + earlymarriage_9 + mcv1006 + mcv1006a + \n",
    "                                    mcv1006b + mcv1008 + mcv1009 + edresp_3Xcountry_1''',\n",
    "                       family=sm.families.Binomial(), data=X_train_dummies[cols].join(y_train)).fit()\n",
    "print(model2.summary2())"
   ]
  },
  {
   "cell_type": "code",
   "execution_count": 70,
   "metadata": {},
   "outputs": [],
   "source": [
    "cols3 = list(model2.pvalues[model2.pvalues <=0.05].index)"
   ]
  },
  {
   "cell_type": "code",
   "execution_count": 71,
   "metadata": {},
   "outputs": [],
   "source": [
    "cols3.remove('Intercept')"
   ]
  },
  {
   "cell_type": "code",
   "execution_count": 72,
   "metadata": {},
   "outputs": [
    {
     "data": {
      "text/plain": [
       "'CONTROL + EP3_1 + FCMAR_9 + Fam_support + Q513R + Q515R + Q702R_1 + Q702R_3 + ageyr10_1 + earlymarriage_1 + earlymarriage_9 + mcv1006 + mcv1006a + mcv1006b + mcv1008 + mcv1009'"
      ]
     },
     "execution_count": 72,
     "metadata": {},
     "output_type": "execute_result"
    }
   ],
   "source": [
    "' + '.join(cols3)"
   ]
  },
  {
   "cell_type": "code",
   "execution_count": 73,
   "metadata": {},
   "outputs": [
    {
     "name": "stdout",
     "output_type": "stream",
     "text": [
      "               Results: Generalized linear model\n",
      "================================================================\n",
      "Model:              GLM              AIC:            4233.4842  \n",
      "Link Function:      logit            BIC:            -29344.0366\n",
      "Dependent Variable: sexphys          Log-Likelihood: -2100.7    \n",
      "Date:               2019-03-26 21:41 LL-Null:        -2550.1    \n",
      "No. Observations:   4054             Deviance:       4201.5     \n",
      "Df Model:           15               Pearson chi2:   3.99e+03   \n",
      "Df Residuals:       4038             Scale:          1.0000     \n",
      "Method:             IRLS                                        \n",
      "----------------------------------------------------------------\n",
      "                  Coef.  Std.Err.    z    P>|z|   [0.025  0.975]\n",
      "----------------------------------------------------------------\n",
      "Intercept        -0.9939   0.1320 -7.5283 0.0000 -1.2527 -0.7351\n",
      "CONTROL           0.2522   0.0224 11.2776 0.0000  0.2084  0.2961\n",
      "EP3_1            -0.3911   0.0924 -4.2328 0.0000 -0.5721 -0.2100\n",
      "FCMAR_9          -0.1919   0.0524 -3.6592 0.0003 -0.2947 -0.0891\n",
      "Fam_support      -0.4316   0.0980 -4.4023 0.0000 -0.6237 -0.2394\n",
      "Q513R             0.5782   0.1292  4.4740 0.0000  0.3249  0.8315\n",
      "Q515R             0.5678   0.0917  6.1926 0.0000  0.3881  0.7475\n",
      "Q702R_1          -0.3615   0.0841 -4.2976 0.0000 -0.5264 -0.1966\n",
      "Q702R_3           0.8530   0.1199  7.1131 0.0000  0.6180  1.0880\n",
      "ageyr10_1        -0.5930   0.1216 -4.8765 0.0000 -0.8314 -0.3547\n",
      "earlymarriage_1   0.4551   0.1034  4.3995 0.0000  0.2523  0.6578\n",
      "earlymarriage_9  -0.1919   0.0524 -3.6592 0.0003 -0.2947 -0.0891\n",
      "mcv1006           0.4842   0.0868  5.5765 0.0000  0.3140  0.6543\n",
      "mcv1006a          0.2917   0.1033  2.8243 0.0047  0.0893  0.4941\n",
      "mcv1006b          0.3224   0.0984  3.2775 0.0010  0.1296  0.5153\n",
      "mcv1008           0.4551   0.1271  3.5821 0.0003  0.2061  0.7041\n",
      "mcv1009           0.2743   0.1076  2.5499 0.0108  0.0635  0.4851\n",
      "================================================================\n",
      "\n"
     ]
    }
   ],
   "source": [
    "model3 = sm.formula.glm(formula='''sexphys ~ CONTROL + EP3_1 + FCMAR_9 + Fam_support + Q513R + Q515R + Q702R_1 + \n",
    "                                    Q702R_3 + ageyr10_1 + earlymarriage_1 + earlymarriage_9 + mcv1006 + mcv1006a + \n",
    "                                    mcv1006b + mcv1008 + mcv1009''',\n",
    "                       family=sm.families.Binomial(), data=X_train_dummies[cols].join(y_train)).fit()\n",
    "print(model3.summary2())"
   ]
  },
  {
   "cell_type": "code",
   "execution_count": 74,
   "metadata": {},
   "outputs": [],
   "source": [
    "# Define a gridsearch function to tune hyperparameters \n",
    "\n",
    "from sklearn.model_selection import GridSearchCV\n",
    "from sklearn.preprocessing import StandardScaler\n",
    "#from sklearn.decomposition import PCA\n",
    "from sklearn.linear_model import LogisticRegression\n",
    "from sklearn.pipeline import Pipeline\n",
    "from sklearn.pipeline import make_pipeline\n",
    "\n",
    "\n",
    "def grid_logistic ():\n",
    "    \n",
    "    pipe_lr = make_pipeline(#StandardScaler(),\n",
    "                       LogisticRegression(random_state=1, max_iter=1000, class_weight={0:0.32966706302021404, 1:0.6703329369797859})) #tol=to be tested\n",
    "     \n",
    "    param_range = np.power(10.0, np.arange(-3, 3))\n",
    "    param_grid = [{'logisticregression__C': param_range, 'logisticregression__solver':['liblinear']}, \n",
    "                  {'logisticregression__C': param_range, 'logisticregression__solver':['sag']}, \n",
    "                  {'logisticregression__C': param_range, 'logisticregression__solver':['saga']}]\n",
    "\n",
    "    gs_lr = GridSearchCV(estimator = pipe_lr,\n",
    "                        param_grid = param_grid, \n",
    "                        scoring = 'roc_auc', \n",
    "                        cv=5)\n",
    "    return gs_lr"
   ]
  },
  {
   "cell_type": "code",
   "execution_count": 75,
   "metadata": {},
   "outputs": [
    {
     "data": {
      "text/plain": [
       "GridSearchCV(cv=5, error_score='raise',\n",
       "       estimator=Pipeline(memory=None,\n",
       "     steps=[('logisticregression', LogisticRegression(C=1.0,\n",
       "          class_weight={0: 0.32966706302021404, 1: 0.6703329369797859},\n",
       "          dual=False, fit_intercept=True, intercept_scaling=1,\n",
       "          max_iter=1000, multi_class='ovr', n_jobs=1, penalty='l2',\n",
       "          random_state=1, solver='liblinear', tol=0.0001, verbose=0,\n",
       "          warm_start=False))]),\n",
       "       fit_params=None, iid=True, n_jobs=1,\n",
       "       param_grid=[{'logisticregression__C': array([1.e-03, 1.e-02, 1.e-01, 1.e+00, 1.e+01, 1.e+02]), 'logisticregression__solver': ['liblinear']}, {'logisticregression__C': array([1.e-03, 1.e-02, 1.e-01, 1.e+00, 1.e+01, 1.e+02]), 'logisticregression__solver': ['sag']}, {'logisticregression__C': array([1.e-03, 1.e-02, 1.e-01, 1.e+00, 1.e+01, 1.e+02]), 'logisticregression__solver': ['saga']}],\n",
       "       pre_dispatch='2*n_jobs', refit=True, return_train_score='warn',\n",
       "       scoring='roc_auc', verbose=0)"
      ]
     },
     "execution_count": 75,
     "metadata": {},
     "output_type": "execute_result"
    }
   ],
   "source": [
    "#fit the gridsearch on all the datasets\n",
    "g1 = grid_logistic()\n",
    "g1.fit(X_train_dummies[cols3], y_train)"
   ]
  },
  {
   "cell_type": "code",
   "execution_count": 76,
   "metadata": {},
   "outputs": [
    {
     "name": "stdout",
     "output_type": "stream",
     "text": [
      "0.7627626610745316\n",
      "{'logisticregression__C': 1.0, 'logisticregression__solver': 'sag'}\n"
     ]
    }
   ],
   "source": [
    "# find the best score and the best parameters \n",
    "print(g1.best_score_)\n",
    "print(g1.best_params_)"
   ]
  },
  {
   "cell_type": "code",
   "execution_count": 77,
   "metadata": {},
   "outputs": [],
   "source": [
    "#define a learning curve function\n",
    "\n",
    "from sklearn.model_selection import learning_curve\n",
    "\n",
    "def l_curve(estimator, df_train, title):\n",
    "    train_sizes, train_scores, test_scores =\\\n",
    "                    learning_curve(estimator=estimator,\n",
    "                                   X=df_train,\n",
    "                                   y=y_train,\n",
    "                                   train_sizes=np.linspace(0.1, 1.0, 10),\n",
    "                                   cv=10,\n",
    "                                   n_jobs=1)\n",
    "\n",
    "    train_mean = np.mean(train_scores, axis=1)\n",
    "    train_std = np.std(train_scores, axis=1)\n",
    "    test_mean = np.mean(test_scores, axis=1)\n",
    "    test_std = np.std(test_scores, axis=1)\n",
    "\n",
    "    plt.plot(train_sizes, train_mean,\n",
    "             color='blue', marker='o',\n",
    "             markersize=5, label='training accuracy')\n",
    "\n",
    "    plt.fill_between(train_sizes,\n",
    "                     train_mean + train_std,\n",
    "                     train_mean - train_std,\n",
    "                     alpha=0.15, color='blue')\n",
    "\n",
    "    plt.plot(train_sizes, test_mean,\n",
    "             color='green', linestyle='--',\n",
    "             marker='s', markersize=5,\n",
    "             label='validation accuracy')\n",
    "\n",
    "    plt.fill_between(train_sizes,\n",
    "                     test_mean + test_std,\n",
    "                     test_mean - test_std,\n",
    "                     alpha=0.15, color='green')\n",
    "\n",
    "    plt.grid()\n",
    "    plt.xlabel('Number of training samples')\n",
    "    plt.ylabel('Accuracy')\n",
    "    plt.legend(loc='lower right')\n",
    "    plt.ylim([0.5, 1.03])\n",
    "    plt.tight_layout()\n",
    "    plt.title(title)\n",
    "    plt.show()"
   ]
  },
  {
   "cell_type": "code",
   "execution_count": 78,
   "metadata": {},
   "outputs": [
    {
     "data": {
      "image/png": "[encoded data removed]",
      "text/plain": [
       "<Figure size 432x288 with 1 Axes>"
      ]
     },
     "metadata": {},
     "output_type": "display_data"
    }
   ],
   "source": [
    "l_curve(g1.best_estimator_, X_train_dummies[cols3], \"Learning Curve for Logistic Regression, set 1\")"
   ]
  },
  {
   "cell_type": "code",
   "execution_count": 79,
   "metadata": {},
   "outputs": [],
   "source": [
    "#Define a function to create the confusion matrix\n",
    "\n",
    "from sklearn.metrics import confusion_matrix\n",
    "\n",
    "def conf_mat (estimator, np_train, np_test, title):\n",
    "    clf = estimator\n",
    "    clf.fit(np_train, y_train)\n",
    "    y_pred = clf.predict(np_test)\n",
    "    confmat = confusion_matrix(y_true=y_val, y_pred=y_pred)\n",
    "\n",
    "    fig, ax = plt.subplots(figsize=(5, 5))\n",
    "    ax.matshow(confmat, cmap=plt.cm.Blues, alpha=0.3)\n",
    "    for i in range(confmat.shape[0]):\n",
    "        for j in range(confmat.shape[1]):\n",
    "            ax.text(x=j, y=i,\n",
    "            s=confmat[i, j],\n",
    "            va='center', ha='center')\n",
    "    plt.xlabel('predicted label')\n",
    "    plt.ylabel('true label')\n",
    "    plt.title(title)\n",
    "    plt.show()"
   ]
  },
  {
   "cell_type": "code",
   "execution_count": 80,
   "metadata": {},
   "outputs": [],
   "source": [
    "# Create a function to calculate the scores\n",
    "\n",
    "from sklearn.metrics import precision_score\n",
    "from sklearn.metrics import recall_score, f1_score\n",
    "from sklearn.metrics import roc_curve\n",
    "from sklearn.metrics import roc_auc_score\n",
    "\n",
    "def different_scores (estimator, np_train, np_test, title):\n",
    "    \n",
    "    #instantiate the classifier and do predictions\n",
    "    clf = estimator\n",
    "    clf.fit(np_train, y_train)\n",
    "    y_pred = clf.predict(np_test)\n",
    "\n",
    "    #print the different scores \n",
    "    print('Precision: %.3f' % precision_score(\n",
    "    y_true=y_val, y_pred=y_pred))\n",
    "    print('Recall: %.3f' % recall_score(\n",
    "    y_true=y_val, y_pred=y_pred))\n",
    "    print('F1: %.3f' % f1_score(\n",
    "    y_true=y_val, y_pred=y_pred))\n",
    "    \n",
    "    #create the AUC \n",
    "    fpr, tpr, _ = roc_curve(y_val,  y_pred)\n",
    "    auc = roc_auc_score(y_val, y_pred)\n",
    "    plt.plot(fpr,tpr,label=\"auc=\"+str(auc))\n",
    "    plt.legend(loc=4)\n",
    "    plt.title(title)\n",
    "    plt.show()\n"
   ]
  },
  {
   "cell_type": "code",
   "execution_count": 81,
   "metadata": {},
   "outputs": [],
   "source": [
    "X_val_reduced = X_val[list(All_sign.variable)].copy()  #might need to create a function???\n",
    "#X_val_reduced.head()"
   ]
  },
  {
   "cell_type": "code",
   "execution_count": 82,
   "metadata": {},
   "outputs": [],
   "source": [
    "#nominal_var = ['CONTROLNUM', \"Q702R\", \"earlymarriage\", 'edpart', 'country', 'EP3', 'sumdiffage', 'SourceIncome', 'edresp']\n",
    "\n",
    "'''nominal_var = [\"earlymarriage\", 'edpart', 'country', 'EP3', \n",
    "               'sumdiffage', 'SourceIncome', 'edresp', 'FCMAR', 'ageyr10', 'sumdiffage',  \n",
    "               \"Q702R\", \"Governance1\", \"HDI1\", \"LAWDV1\"]'''\n",
    "\n",
    "for var in nominal_var:\n",
    "    X_val_reduced[var] = X_val_reduced[var].astype('category')"
   ]
  },
  {
   "cell_type": "code",
   "execution_count": 83,
   "metadata": {},
   "outputs": [],
   "source": [
    "X_val_dummies = pd.get_dummies(X_val_reduced)"
   ]
  },
  {
   "cell_type": "code",
   "execution_count": 85,
   "metadata": {},
   "outputs": [],
   "source": [
    "colm1 = list(X_val_dummies.columns)"
   ]
  },
  {
   "cell_type": "raw",
   "metadata": {},
   "source": [
    "colm1.remove('country_1')\n",
    "colm1.remove('country_2')\n",
    "colm1.remove('country_3')\n",
    "colm1.remove('country_4')\n",
    "colm1.remove('country_5')"
   ]
  },
  {
   "cell_type": "code",
   "execution_count": 84,
   "metadata": {},
   "outputs": [],
   "source": [
    "for variable in colm:\n",
    "    X_val_dummies[variable+'X'+'country_1'] = (X_val_dummies[variable]*X_val_dummies['country_1'])\n",
    "    X_val_dummies[variable+'X'+'country_2'] = (X_val_dummies[variable]*X_val_dummies['country_2'])\n",
    "    '''X_val_dummies[variable+'X'+'country_3'] = (X_val_dummies[variable]*X_val_dummies['country_3'])\n",
    "    X_val_dummies[variable+'X'+'country_4'] = (X_val_dummies[variable]*X_val_dummies['country_4'])\n",
    "    X_val_dummies[variable+'X'+'country_5'] = (X_val_dummies[variable]*X_val_dummies['country_5'])'''"
   ]
  },
  {
   "cell_type": "code",
   "execution_count": 85,
   "metadata": {},
   "outputs": [
    {
     "data": {
      "image/png": "[encoded data removed]",
      "text/plain": [
       "<Figure size 360x360 with 1 Axes>"
      ]
     },
     "metadata": {},
     "output_type": "display_data"
    }
   ],
   "source": [
    "conf_mat(g1.best_estimator_, X_train_dummies[cols3], X_val_dummies[cols3], \"Confusion Matrix for Logistic regression, set 1\")"
   ]
  },
  {
   "cell_type": "code",
   "execution_count": 86,
   "metadata": {},
   "outputs": [
    {
     "name": "stdout",
     "output_type": "stream",
     "text": [
      "Precision: 0.529\n",
      "Recall: 0.589\n",
      "F1: 0.557\n"
     ]
    },
    {
     "data": {
      "image/png": "[encoded data removed]",
      "text/plain": [
       "<Figure size 432x288 with 1 Axes>"
      ]
     },
     "metadata": {},
     "output_type": "display_data"
    }
   ],
   "source": [
    "different_scores(g1.best_estimator_, X_train_dummies[cols3].values, X_val_dummies[cols3].values, \"Logistic regression AUC, set 2\")"
   ]
  },
  {
   "cell_type": "code",
   "execution_count": null,
   "metadata": {},
   "outputs": [],
   "source": []
  },
  {
   "cell_type": "code",
   "execution_count": null,
   "metadata": {},
   "outputs": [],
   "source": []
  }
 ],
 "metadata": {
  "kernelspec": {
   "display_name": "Python 3",
   "language": "python",
   "name": "python3"
  },
  "language_info": {
   "codemirror_mode": {
    "name": "ipython",
    "version": 3
   },
   "file_extension": ".py",
   "mimetype": "text/x-python",
   "name": "python",
   "nbconvert_exporter": "python",
   "pygments_lexer": "ipython3",
   "version": "3.6.5"
  }
 },
 "nbformat": 4,
 "nbformat_minor": 2
}
