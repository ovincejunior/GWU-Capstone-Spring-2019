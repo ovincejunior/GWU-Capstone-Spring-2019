{
 "cells": [
  {
   "cell_type": "raw",
   "metadata": {},
   "source": [
    "document in statistical tests\n",
    "http://hamelg.blogspot.com/2015/11/python-for-data-analysis-part-25-chi.html\n",
    "https://towardsdatascience.com/building-a-logistic-regression-in-python-step-by-step-becd4d56c9c8"
   ]
  },
  {
   "cell_type": "code",
   "execution_count": 90,
   "metadata": {},
   "outputs": [],
   "source": [
    "import os\n",
    "import pandas as pd\n",
    "import numpy as np\n",
    "import matplotlib.pyplot as plt"
   ]
  },
  {
   "cell_type": "markdown",
   "metadata": {},
   "source": [
    "# Importing Data"
   ]
  },
  {
   "cell_type": "code",
   "execution_count": 91,
   "metadata": {},
   "outputs": [
    {
     "data": {
      "text/html": [
       "<div>\n",
       "<style scoped>\n",
       "    .dataframe tbody tr th:only-of-type {\n",
       "        vertical-align: middle;\n",
       "    }\n",
       "\n",
       "    .dataframe tbody tr th {\n",
       "        vertical-align: top;\n",
       "    }\n",
       "\n",
       "    .dataframe thead th {\n",
       "        text-align: right;\n",
       "    }\n",
       "</style>\n",
       "<table border=\"1\" class=\"dataframe\">\n",
       "  <thead>\n",
       "    <tr style=\"text-align: right;\">\n",
       "      <th></th>\n",
       "      <th>ep1</th>\n",
       "      <th>econviol</th>\n",
       "      <th>emotvio</th>\n",
       "      <th>physvio</th>\n",
       "      <th>sexvio</th>\n",
       "      <th>sexphys</th>\n",
       "      <th>typevio</th>\n",
       "      <th>physcur</th>\n",
       "      <th>sexcur</th>\n",
       "      <th>emotcur</th>\n",
       "      <th>...</th>\n",
       "      <th>eQ703e</th>\n",
       "      <th>eQ703f</th>\n",
       "      <th>eQ703g</th>\n",
       "      <th>eQ703h</th>\n",
       "      <th>country</th>\n",
       "      <th>weighing</th>\n",
       "      <th>rQ701a</th>\n",
       "      <th>rQ701b</th>\n",
       "      <th>rQ701c</th>\n",
       "      <th>rQ701d</th>\n",
       "    </tr>\n",
       "  </thead>\n",
       "  <tbody>\n",
       "    <tr>\n",
       "      <th>0</th>\n",
       "      <td>1</td>\n",
       "      <td>0</td>\n",
       "      <td>0</td>\n",
       "      <td>0</td>\n",
       "      <td>0</td>\n",
       "      <td>0</td>\n",
       "      <td>0</td>\n",
       "      <td>0</td>\n",
       "      <td>0</td>\n",
       "      <td>0</td>\n",
       "      <td>...</td>\n",
       "      <td>0</td>\n",
       "      <td>0</td>\n",
       "      <td>0</td>\n",
       "      <td>0</td>\n",
       "      <td>1</td>\n",
       "      <td>1.183286</td>\n",
       "      <td>1</td>\n",
       "      <td>1</td>\n",
       "      <td>1</td>\n",
       "      <td>1</td>\n",
       "    </tr>\n",
       "    <tr>\n",
       "      <th>1</th>\n",
       "      <td>1</td>\n",
       "      <td>1</td>\n",
       "      <td>1</td>\n",
       "      <td>1</td>\n",
       "      <td>1</td>\n",
       "      <td>1</td>\n",
       "      <td>3</td>\n",
       "      <td>0</td>\n",
       "      <td>0</td>\n",
       "      <td>0</td>\n",
       "      <td>...</td>\n",
       "      <td>1</td>\n",
       "      <td>1</td>\n",
       "      <td>0</td>\n",
       "      <td>1</td>\n",
       "      <td>1</td>\n",
       "      <td>0.204913</td>\n",
       "      <td>0</td>\n",
       "      <td>0</td>\n",
       "      <td>1</td>\n",
       "      <td>1</td>\n",
       "    </tr>\n",
       "    <tr>\n",
       "      <th>2</th>\n",
       "      <td>1</td>\n",
       "      <td>0</td>\n",
       "      <td>0</td>\n",
       "      <td>0</td>\n",
       "      <td>0</td>\n",
       "      <td>0</td>\n",
       "      <td>0</td>\n",
       "      <td>0</td>\n",
       "      <td>0</td>\n",
       "      <td>0</td>\n",
       "      <td>...</td>\n",
       "      <td>0</td>\n",
       "      <td>0</td>\n",
       "      <td>0</td>\n",
       "      <td>0</td>\n",
       "      <td>1</td>\n",
       "      <td>1.349522</td>\n",
       "      <td>1</td>\n",
       "      <td>1</td>\n",
       "      <td>1</td>\n",
       "      <td>1</td>\n",
       "    </tr>\n",
       "    <tr>\n",
       "      <th>3</th>\n",
       "      <td>1</td>\n",
       "      <td>0</td>\n",
       "      <td>1</td>\n",
       "      <td>1</td>\n",
       "      <td>0</td>\n",
       "      <td>1</td>\n",
       "      <td>1</td>\n",
       "      <td>0</td>\n",
       "      <td>0</td>\n",
       "      <td>1</td>\n",
       "      <td>...</td>\n",
       "      <td>0</td>\n",
       "      <td>0</td>\n",
       "      <td>0</td>\n",
       "      <td>0</td>\n",
       "      <td>1</td>\n",
       "      <td>0.069748</td>\n",
       "      <td>1</td>\n",
       "      <td>0</td>\n",
       "      <td>1</td>\n",
       "      <td>1</td>\n",
       "    </tr>\n",
       "    <tr>\n",
       "      <th>4</th>\n",
       "      <td>1</td>\n",
       "      <td>0</td>\n",
       "      <td>0</td>\n",
       "      <td>1</td>\n",
       "      <td>0</td>\n",
       "      <td>1</td>\n",
       "      <td>1</td>\n",
       "      <td>0</td>\n",
       "      <td>0</td>\n",
       "      <td>0</td>\n",
       "      <td>...</td>\n",
       "      <td>0</td>\n",
       "      <td>0</td>\n",
       "      <td>0</td>\n",
       "      <td>0</td>\n",
       "      <td>1</td>\n",
       "      <td>0.270909</td>\n",
       "      <td>1</td>\n",
       "      <td>1</td>\n",
       "      <td>1</td>\n",
       "      <td>1</td>\n",
       "    </tr>\n",
       "  </tbody>\n",
       "</table>\n",
       "<p>5 rows × 155 columns</p>\n",
       "</div>"
      ],
      "text/plain": [
       "   ep1  econviol  emotvio  physvio  sexvio  sexphys  typevio  physcur  sexcur  \\\n",
       "0    1         0        0        0       0        0        0        0       0   \n",
       "1    1         1        1        1       1        1        3        0       0   \n",
       "2    1         0        0        0       0        0        0        0       0   \n",
       "3    1         0        1        1       0        1        1        0       0   \n",
       "4    1         0        0        1       0        1        1        0       0   \n",
       "\n",
       "   emotcur   ...    eQ703e  eQ703f  eQ703g  eQ703h  country  weighing  rQ701a  \\\n",
       "0        0   ...         0       0       0       0        1  1.183286       1   \n",
       "1        0   ...         1       1       0       1        1  0.204913       0   \n",
       "2        0   ...         0       0       0       0        1  1.349522       1   \n",
       "3        1   ...         0       0       0       0        1  0.069748       1   \n",
       "4        0   ...         0       0       0       0        1  0.270909       1   \n",
       "\n",
       "   rQ701b  rQ701c  rQ701d  \n",
       "0       1       1       1  \n",
       "1       0       1       1  \n",
       "2       1       1       1  \n",
       "3       0       1       1  \n",
       "4       1       1       1  \n",
       "\n",
       "[5 rows x 155 columns]"
      ]
     },
     "execution_count": 91,
     "metadata": {},
     "output_type": "execute_result"
    }
   ],
   "source": [
    "# Import data from csv file\n",
    "data = pd.read_csv(\"CaribbeanAll.csv\", low_memory=False)\n",
    "data.head()"
   ]
  },
  {
   "cell_type": "code",
   "execution_count": 92,
   "metadata": {},
   "outputs": [
    {
     "data": {
      "text/html": [
       "<div>\n",
       "<style scoped>\n",
       "    .dataframe tbody tr th:only-of-type {\n",
       "        vertical-align: middle;\n",
       "    }\n",
       "\n",
       "    .dataframe tbody tr th {\n",
       "        vertical-align: top;\n",
       "    }\n",
       "\n",
       "    .dataframe thead th {\n",
       "        text-align: right;\n",
       "    }\n",
       "</style>\n",
       "<table border=\"1\" class=\"dataframe\">\n",
       "  <thead>\n",
       "    <tr style=\"text-align: right;\">\n",
       "      <th></th>\n",
       "      <th>country</th>\n",
       "      <th>EP3</th>\n",
       "      <th>earlymarriage</th>\n",
       "      <th>FCMAR</th>\n",
       "      <th>ageyr5</th>\n",
       "      <th>ageyr10</th>\n",
       "      <th>edresp</th>\n",
       "      <th>w_religion</th>\n",
       "      <th>ETHNICITY</th>\n",
       "      <th>employstatus</th>\n",
       "      <th>SourceIncome</th>\n",
       "      <th>Fam_support</th>\n",
       "      <th>sexphys</th>\n",
       "    </tr>\n",
       "  </thead>\n",
       "  <tbody>\n",
       "    <tr>\n",
       "      <th>0</th>\n",
       "      <td>1</td>\n",
       "      <td>1</td>\n",
       "      <td>0</td>\n",
       "      <td>0</td>\n",
       "      <td>6</td>\n",
       "      <td>3</td>\n",
       "      <td>2</td>\n",
       "      <td>0</td>\n",
       "      <td>4</td>\n",
       "      <td>4</td>\n",
       "      <td>2</td>\n",
       "      <td>1</td>\n",
       "      <td>0</td>\n",
       "    </tr>\n",
       "    <tr>\n",
       "      <th>1</th>\n",
       "      <td>1</td>\n",
       "      <td>4</td>\n",
       "      <td>1</td>\n",
       "      <td>0</td>\n",
       "      <td>9</td>\n",
       "      <td>5</td>\n",
       "      <td>2</td>\n",
       "      <td>1</td>\n",
       "      <td>1</td>\n",
       "      <td>2</td>\n",
       "      <td>5</td>\n",
       "      <td>1</td>\n",
       "      <td>1</td>\n",
       "    </tr>\n",
       "    <tr>\n",
       "      <th>2</th>\n",
       "      <td>1</td>\n",
       "      <td>4</td>\n",
       "      <td>9</td>\n",
       "      <td>9</td>\n",
       "      <td>2</td>\n",
       "      <td>1</td>\n",
       "      <td>3</td>\n",
       "      <td>1</td>\n",
       "      <td>6</td>\n",
       "      <td>4</td>\n",
       "      <td>5</td>\n",
       "      <td>1</td>\n",
       "      <td>0</td>\n",
       "    </tr>\n",
       "    <tr>\n",
       "      <th>3</th>\n",
       "      <td>1</td>\n",
       "      <td>1</td>\n",
       "      <td>0</td>\n",
       "      <td>0</td>\n",
       "      <td>9</td>\n",
       "      <td>5</td>\n",
       "      <td>2</td>\n",
       "      <td>1</td>\n",
       "      <td>5</td>\n",
       "      <td>4</td>\n",
       "      <td>3</td>\n",
       "      <td>1</td>\n",
       "      <td>1</td>\n",
       "    </tr>\n",
       "    <tr>\n",
       "      <th>4</th>\n",
       "      <td>1</td>\n",
       "      <td>4</td>\n",
       "      <td>1</td>\n",
       "      <td>1</td>\n",
       "      <td>8</td>\n",
       "      <td>4</td>\n",
       "      <td>1</td>\n",
       "      <td>0</td>\n",
       "      <td>4</td>\n",
       "      <td>3</td>\n",
       "      <td>2</td>\n",
       "      <td>1</td>\n",
       "      <td>1</td>\n",
       "    </tr>\n",
       "  </tbody>\n",
       "</table>\n",
       "</div>"
      ],
      "text/plain": [
       "   country  EP3  earlymarriage  FCMAR  ageyr5  ageyr10  edresp  w_religion  \\\n",
       "0        1    1              0      0       6        3       2           0   \n",
       "1        1    4              1      0       9        5       2           1   \n",
       "2        1    4              9      9       2        1       3           1   \n",
       "3        1    1              0      0       9        5       2           1   \n",
       "4        1    4              1      1       8        4       1           0   \n",
       "\n",
       "   ETHNICITY  employstatus  SourceIncome  Fam_support  sexphys  \n",
       "0          4             4             2            1        0  \n",
       "1          1             2             5            1        1  \n",
       "2          6             4             5            1        0  \n",
       "3          5             4             3            1        1  \n",
       "4          4             3             2            1        1  "
      ]
     },
     "execution_count": 92,
     "metadata": {},
     "output_type": "execute_result"
    }
   ],
   "source": [
    "df_caribbean = data[[\"country\", \"EP3\", \"earlymarriage\", \"FCMAR\", \"ageyr5\", \"ageyr10\", \"edresp\", \"w_religion\",\n",
    "                 \"ETHNICITY\", \"employstatus\", \"SourceIncome\", \"Fam_support\", \"sexphys\"]]\n",
    "df_caribbean.head()"
   ]
  },
  {
   "cell_type": "markdown",
   "metadata": {},
   "source": [
    "# Check for missing values??"
   ]
  },
  {
   "cell_type": "code",
   "execution_count": null,
   "metadata": {},
   "outputs": [],
   "source": []
  },
  {
   "cell_type": "markdown",
   "metadata": {},
   "source": [
    "# Split the data"
   ]
  },
  {
   "cell_type": "code",
   "execution_count": 93,
   "metadata": {},
   "outputs": [],
   "source": [
    "Guyana = df_caribbean[df_caribbean['country']==1]\n",
    "Jamaica = df_caribbean[df_caribbean['country']==2]\n",
    "Suriname = df_caribbean[df_caribbean['country']==3]\n",
    "Trinidad = df_caribbean[df_caribbean['country']==4]"
   ]
  },
  {
   "cell_type": "code",
   "execution_count": 94,
   "metadata": {},
   "outputs": [],
   "source": [
    "Guyana_X = Guyana.iloc[:, :-1]\n",
    "Guyana_y = Guyana.iloc[:, -1]"
   ]
  },
  {
   "cell_type": "code",
   "execution_count": 95,
   "metadata": {},
   "outputs": [],
   "source": [
    "Jamaica_X = Jamaica.iloc[:, :-1]\n",
    "Jamaica_y = Jamaica.iloc[:, -1]"
   ]
  },
  {
   "cell_type": "code",
   "execution_count": 96,
   "metadata": {},
   "outputs": [],
   "source": [
    "Suriname_X = Suriname.iloc[:, :-1]\n",
    "Suriname_y = Suriname.iloc[:, -1]"
   ]
  },
  {
   "cell_type": "code",
   "execution_count": 97,
   "metadata": {},
   "outputs": [],
   "source": [
    "Trinidad_X = Trinidad.iloc[:, :-1]\n",
    "Trinidad_y = Trinidad.iloc[:, -1]"
   ]
  },
  {
   "cell_type": "code",
   "execution_count": 98,
   "metadata": {},
   "outputs": [],
   "source": [
    "# Randomly choose 30% of the data for validation and testing\n",
    "from sklearn.model_selection import train_test_split\n",
    "GuyanaX_train, GuyanaX_rest, Guyanay_train, Guyanay_rest = train_test_split(Guyana_X, \n",
    "                                                                            Guyana_y, \n",
    "                                                                            test_size=0.3, \n",
    "                                                                            random_state=0, \n",
    "                                                                            stratify=Guyana_y)"
   ]
  },
  {
   "cell_type": "code",
   "execution_count": 99,
   "metadata": {},
   "outputs": [],
   "source": [
    "JamaicaX_train, JamaicaX_rest, Jamaicay_train, Jamaicay_rest = train_test_split(Jamaica_X, \n",
    "                                                                                Jamaica_y, \n",
    "                                                                                test_size=0.3, \n",
    "                                                                                random_state=0, \n",
    "                                                                                stratify=Jamaica_y)"
   ]
  },
  {
   "cell_type": "code",
   "execution_count": 100,
   "metadata": {},
   "outputs": [],
   "source": [
    "SurinameX_train, SurinameX_rest, Surinamey_train, Surinamey_rest = train_test_split(Suriname_X, \n",
    "                                                                                    Suriname_y, \n",
    "                                                                                    test_size=0.3, \n",
    "                                                                                    random_state=0, \n",
    "                                                                                    stratify=Suriname_y)"
   ]
  },
  {
   "cell_type": "code",
   "execution_count": 101,
   "metadata": {},
   "outputs": [],
   "source": [
    "TrinidadX_train, TrinidadX_rest, Trinidady_train, Trinidady_rest = train_test_split(Trinidad_X, \n",
    "                                                                                    Trinidad_y, \n",
    "                                                                                    test_size=0.3, \n",
    "                                                                                    random_state=0, \n",
    "                                                                                    stratify=Trinidad_y)"
   ]
  },
  {
   "cell_type": "code",
   "execution_count": 102,
   "metadata": {},
   "outputs": [],
   "source": [
    "# Randomly choose 50% of the data for testing\n",
    "GuyanaX_val, GuyanaX_test, Guyanay_val, Guyanay_test = train_test_split(GuyanaX_rest, \n",
    "                                                                            Guyanay_rest, \n",
    "                                                                            test_size=0.5, \n",
    "                                                                            random_state=0, \n",
    "                                                                            stratify=Guyanay_rest)"
   ]
  },
  {
   "cell_type": "code",
   "execution_count": 103,
   "metadata": {},
   "outputs": [],
   "source": [
    "JamaicaX_val, JamaicaX_test, Jamaicay_val, Jamaicay_test = train_test_split(JamaicaX_rest, \n",
    "                                                                            Jamaicay_rest, \n",
    "                                                                            test_size=0.5, \n",
    "                                                                            random_state=0, \n",
    "                                                                            stratify=Jamaicay_rest)"
   ]
  },
  {
   "cell_type": "code",
   "execution_count": 104,
   "metadata": {},
   "outputs": [],
   "source": [
    "SurinameX_val, SurinameX_test, Surinamey_val, Surinamey_test = train_test_split(SurinameX_rest, \n",
    "                                                                            Surinamey_rest, \n",
    "                                                                            test_size=0.5, \n",
    "                                                                            random_state=0, \n",
    "                                                                            stratify=Surinamey_rest)"
   ]
  },
  {
   "cell_type": "code",
   "execution_count": 105,
   "metadata": {},
   "outputs": [],
   "source": [
    "TrinidadX_val, TrinidadX_test, Trinidady_val, Trinidady_test = train_test_split(TrinidadX_rest, \n",
    "                                                                            Trinidady_rest, \n",
    "                                                                            test_size=0.5, \n",
    "                                                                            random_state=0, \n",
    "                                                                            stratify=Trinidady_rest)"
   ]
  },
  {
   "cell_type": "code",
   "execution_count": 106,
   "metadata": {},
   "outputs": [],
   "source": [
    "X_train = pd.concat([GuyanaX_train, JamaicaX_train, SurinameX_train, TrinidadX_train])\n",
    "y_train = pd.concat([Guyanay_train, Jamaicay_train, Surinamey_train, Trinidady_train])\n",
    "#df_train = X_train.join(y_train)"
   ]
  },
  {
   "cell_type": "code",
   "execution_count": 107,
   "metadata": {},
   "outputs": [],
   "source": [
    "X_val = pd.concat([GuyanaX_val, JamaicaX_val, SurinameX_val, TrinidadX_val])\n",
    "y_val = pd.concat([Guyanay_val, Jamaicay_val, Surinamey_val, Trinidady_val])\n",
    "#df_val = X_val.join(y_val)"
   ]
  },
  {
   "cell_type": "code",
   "execution_count": 108,
   "metadata": {},
   "outputs": [],
   "source": [
    "X_test = pd.concat([GuyanaX_test, JamaicaX_test, SurinameX_test, TrinidadX_test])\n",
    "y_test = pd.concat([Guyanay_test, Jamaicay_test, Surinamey_test, Trinidady_test])\n",
    "#df_test = X_test.join(y_test)"
   ]
  },
  {
   "cell_type": "code",
   "execution_count": 109,
   "metadata": {},
   "outputs": [],
   "source": [
    "#df_train.shape"
   ]
  },
  {
   "cell_type": "markdown",
   "metadata": {},
   "source": [
    "# Feature selection using chi2 and random forest"
   ]
  },
  {
   "cell_type": "code",
   "execution_count": 110,
   "metadata": {},
   "outputs": [],
   "source": [
    "from scipy.stats import chi2_contingency"
   ]
  },
  {
   "cell_type": "raw",
   "metadata": {},
   "source": [
    "columns=X_train.columns.tolist()"
   ]
  },
  {
   "cell_type": "raw",
   "metadata": {},
   "source": [
    "columns"
   ]
  },
  {
   "cell_type": "code",
   "execution_count": 111,
   "metadata": {},
   "outputs": [
    {
     "data": {
      "text/html": [
       "<div>\n",
       "<style scoped>\n",
       "    .dataframe tbody tr th:only-of-type {\n",
       "        vertical-align: middle;\n",
       "    }\n",
       "\n",
       "    .dataframe tbody tr th {\n",
       "        vertical-align: top;\n",
       "    }\n",
       "\n",
       "    .dataframe thead th {\n",
       "        text-align: right;\n",
       "    }\n",
       "</style>\n",
       "<table border=\"1\" class=\"dataframe\">\n",
       "  <thead>\n",
       "    <tr style=\"text-align: right;\">\n",
       "      <th>edresp</th>\n",
       "      <th>1</th>\n",
       "      <th>2</th>\n",
       "      <th>3</th>\n",
       "    </tr>\n",
       "    <tr>\n",
       "      <th>Fam_support</th>\n",
       "      <th></th>\n",
       "      <th></th>\n",
       "      <th></th>\n",
       "    </tr>\n",
       "  </thead>\n",
       "  <tbody>\n",
       "    <tr>\n",
       "      <th>0</th>\n",
       "      <td>143</td>\n",
       "      <td>351</td>\n",
       "      <td>90</td>\n",
       "    </tr>\n",
       "    <tr>\n",
       "      <th>1</th>\n",
       "      <td>502</td>\n",
       "      <td>1656</td>\n",
       "      <td>622</td>\n",
       "    </tr>\n",
       "  </tbody>\n",
       "</table>\n",
       "</div>"
      ],
      "text/plain": [
       "edresp         1     2    3\n",
       "Fam_support                \n",
       "0            143   351   90\n",
       "1            502  1656  622"
      ]
     },
     "execution_count": 111,
     "metadata": {},
     "output_type": "execute_result"
    }
   ],
   "source": [
    "### Risk of Multicollinearity\n",
    "test_tab = pd.crosstab(X_train['Fam_support'], X_train['edresp'])\n",
    "test_tab"
   ]
  },
  {
   "cell_type": "code",
   "execution_count": 112,
   "metadata": {},
   "outputs": [
    {
     "data": {
      "text/plain": [
       "(21.481658841519675,\n",
       " 2.1642979670134618e-05,\n",
       " 2,\n",
       " array([[ 111.97384067,  348.42092747,  123.60523187],\n",
       "        [ 533.02615933, 1658.57907253,  588.39476813]]))"
      ]
     },
     "execution_count": 112,
     "metadata": {},
     "output_type": "execute_result"
    }
   ],
   "source": [
    "chi2_contingency(observed= test_tab)"
   ]
  },
  {
   "cell_type": "code",
   "execution_count": null,
   "metadata": {},
   "outputs": [],
   "source": []
  },
  {
   "cell_type": "code",
   "execution_count": 113,
   "metadata": {},
   "outputs": [],
   "source": [
    "#var = []\n",
    "def chi2_sexphys(dfr_Xtrain, dfr_ytrain):\n",
    "    'Do a Chi2 test of independence and choose the significant dependence'\n",
    "    columns=dfr_Xtrain.columns.tolist()\n",
    "    \n",
    "    p_value = []\n",
    "    for column in columns:\n",
    "        observed = pd.crosstab(dfr_Xtrain[column], dfr_ytrain)\n",
    "        p_value.append(chi2_contingency(observed= observed)[1])\n",
    "\n",
    "    df = pd.DataFrame({\"variable\":columns, \n",
    "                           \"p_value\":p_value})\n",
    "    df2 = df[df.p_value <= 0.05]\n",
    "    df2 = df2.sort_values(by='p_value', ascending=True)\n",
    "    return df2"
   ]
  },
  {
   "cell_type": "code",
   "execution_count": 114,
   "metadata": {},
   "outputs": [
    {
     "data": {
      "text/html": [
       "<div>\n",
       "<style scoped>\n",
       "    .dataframe tbody tr th:only-of-type {\n",
       "        vertical-align: middle;\n",
       "    }\n",
       "\n",
       "    .dataframe tbody tr th {\n",
       "        vertical-align: top;\n",
       "    }\n",
       "\n",
       "    .dataframe thead th {\n",
       "        text-align: right;\n",
       "    }\n",
       "</style>\n",
       "<table border=\"1\" class=\"dataframe\">\n",
       "  <thead>\n",
       "    <tr style=\"text-align: right;\">\n",
       "      <th></th>\n",
       "      <th>variable</th>\n",
       "      <th>p_value</th>\n",
       "    </tr>\n",
       "  </thead>\n",
       "  <tbody>\n",
       "    <tr>\n",
       "      <th>2</th>\n",
       "      <td>earlymarriage</td>\n",
       "      <td>2.138363e-11</td>\n",
       "    </tr>\n",
       "    <tr>\n",
       "      <th>11</th>\n",
       "      <td>Fam_support</td>\n",
       "      <td>3.542791e-09</td>\n",
       "    </tr>\n",
       "    <tr>\n",
       "      <th>0</th>\n",
       "      <td>country</td>\n",
       "      <td>9.365061e-05</td>\n",
       "    </tr>\n",
       "    <tr>\n",
       "      <th>1</th>\n",
       "      <td>EP3</td>\n",
       "      <td>9.860530e-05</td>\n",
       "    </tr>\n",
       "    <tr>\n",
       "      <th>10</th>\n",
       "      <td>SourceIncome</td>\n",
       "      <td>4.718121e-04</td>\n",
       "    </tr>\n",
       "    <tr>\n",
       "      <th>6</th>\n",
       "      <td>edresp</td>\n",
       "      <td>2.013045e-02</td>\n",
       "    </tr>\n",
       "  </tbody>\n",
       "</table>\n",
       "</div>"
      ],
      "text/plain": [
       "         variable       p_value\n",
       "2   earlymarriage  2.138363e-11\n",
       "11    Fam_support  3.542791e-09\n",
       "0         country  9.365061e-05\n",
       "1             EP3  9.860530e-05\n",
       "10   SourceIncome  4.718121e-04\n",
       "6          edresp  2.013045e-02"
      ]
     },
     "execution_count": 114,
     "metadata": {},
     "output_type": "execute_result"
    }
   ],
   "source": [
    "demo=chi2_sexphys(X_train, y_train)\n",
    "demo"
   ]
  },
  {
   "cell_type": "code",
   "execution_count": 115,
   "metadata": {},
   "outputs": [],
   "source": [
    "def chi2_country(dfr_Xtrain, dfr_ytrain):\n",
    "    'Do a Chi2 test of independence and choose the significant dependence'\n",
    "    sign_variable = chi2_sexphys(dfr_Xtrain, dfr_ytrain).variable.values.tolist()\n",
    "    sign_variable.remove('country')\n",
    "    \n",
    "    p_value = []\n",
    "    for significant in sign_variable:\n",
    "        observed = pd.crosstab(dfr_Xtrain[significant], dfr_Xtrain['country'])\n",
    "        p_value.append(chi2_contingency(observed= observed)[1])\n",
    "\n",
    "    df = pd.DataFrame({\"variable\":sign_variable, \n",
    "                           \"p_value\":p_value})\n",
    "    df2 = df[df.p_value <= 0.05]\n",
    "    df2 = df2.sort_values(by='p_value', ascending=True)\n",
    "    return df2"
   ]
  },
  {
   "cell_type": "code",
   "execution_count": 116,
   "metadata": {},
   "outputs": [
    {
     "data": {
      "text/html": [
       "<div>\n",
       "<style scoped>\n",
       "    .dataframe tbody tr th:only-of-type {\n",
       "        vertical-align: middle;\n",
       "    }\n",
       "\n",
       "    .dataframe tbody tr th {\n",
       "        vertical-align: top;\n",
       "    }\n",
       "\n",
       "    .dataframe thead th {\n",
       "        text-align: right;\n",
       "    }\n",
       "</style>\n",
       "<table border=\"1\" class=\"dataframe\">\n",
       "  <thead>\n",
       "    <tr style=\"text-align: right;\">\n",
       "      <th></th>\n",
       "      <th>variable</th>\n",
       "      <th>p_value</th>\n",
       "    </tr>\n",
       "  </thead>\n",
       "  <tbody>\n",
       "    <tr>\n",
       "      <th>3</th>\n",
       "      <td>SourceIncome</td>\n",
       "      <td>3.050232e-101</td>\n",
       "    </tr>\n",
       "    <tr>\n",
       "      <th>0</th>\n",
       "      <td>earlymarriage</td>\n",
       "      <td>2.250564e-97</td>\n",
       "    </tr>\n",
       "    <tr>\n",
       "      <th>2</th>\n",
       "      <td>EP3</td>\n",
       "      <td>1.368429e-70</td>\n",
       "    </tr>\n",
       "    <tr>\n",
       "      <th>4</th>\n",
       "      <td>edresp</td>\n",
       "      <td>4.441410e-33</td>\n",
       "    </tr>\n",
       "    <tr>\n",
       "      <th>1</th>\n",
       "      <td>Fam_support</td>\n",
       "      <td>8.633706e-26</td>\n",
       "    </tr>\n",
       "  </tbody>\n",
       "</table>\n",
       "</div>"
      ],
      "text/plain": [
       "        variable        p_value\n",
       "3   SourceIncome  3.050232e-101\n",
       "0  earlymarriage   2.250564e-97\n",
       "2            EP3   1.368429e-70\n",
       "4         edresp   4.441410e-33\n",
       "1    Fam_support   8.633706e-26"
      ]
     },
     "execution_count": 116,
     "metadata": {},
     "output_type": "execute_result"
    }
   ],
   "source": [
    "chi2_country(X_train, y_train)"
   ]
  },
  {
   "cell_type": "markdown",
   "metadata": {},
   "source": [
    "### Create dummies / mapping nominal variables "
   ]
  },
  {
   "cell_type": "code",
   "execution_count": 117,
   "metadata": {},
   "outputs": [
    {
     "data": {
      "text/html": [
       "<div>\n",
       "<style scoped>\n",
       "    .dataframe tbody tr th:only-of-type {\n",
       "        vertical-align: middle;\n",
       "    }\n",
       "\n",
       "    .dataframe tbody tr th {\n",
       "        vertical-align: top;\n",
       "    }\n",
       "\n",
       "    .dataframe thead th {\n",
       "        text-align: right;\n",
       "    }\n",
       "</style>\n",
       "<table border=\"1\" class=\"dataframe\">\n",
       "  <thead>\n",
       "    <tr style=\"text-align: right;\">\n",
       "      <th></th>\n",
       "      <th>earlymarriage</th>\n",
       "      <th>Fam_support</th>\n",
       "      <th>country</th>\n",
       "      <th>EP3</th>\n",
       "      <th>SourceIncome</th>\n",
       "      <th>edresp</th>\n",
       "    </tr>\n",
       "  </thead>\n",
       "  <tbody>\n",
       "    <tr>\n",
       "      <th>995</th>\n",
       "      <td>1</td>\n",
       "      <td>0</td>\n",
       "      <td>1</td>\n",
       "      <td>2</td>\n",
       "      <td>5</td>\n",
       "      <td>1</td>\n",
       "    </tr>\n",
       "    <tr>\n",
       "      <th>962</th>\n",
       "      <td>0</td>\n",
       "      <td>1</td>\n",
       "      <td>1</td>\n",
       "      <td>1</td>\n",
       "      <td>4</td>\n",
       "      <td>2</td>\n",
       "    </tr>\n",
       "    <tr>\n",
       "      <th>998</th>\n",
       "      <td>0</td>\n",
       "      <td>1</td>\n",
       "      <td>1</td>\n",
       "      <td>2</td>\n",
       "      <td>4</td>\n",
       "      <td>1</td>\n",
       "    </tr>\n",
       "    <tr>\n",
       "      <th>639</th>\n",
       "      <td>9</td>\n",
       "      <td>1</td>\n",
       "      <td>1</td>\n",
       "      <td>4</td>\n",
       "      <td>5</td>\n",
       "      <td>2</td>\n",
       "    </tr>\n",
       "    <tr>\n",
       "      <th>932</th>\n",
       "      <td>0</td>\n",
       "      <td>1</td>\n",
       "      <td>1</td>\n",
       "      <td>4</td>\n",
       "      <td>5</td>\n",
       "      <td>2</td>\n",
       "    </tr>\n",
       "  </tbody>\n",
       "</table>\n",
       "</div>"
      ],
      "text/plain": [
       "     earlymarriage  Fam_support  country  EP3  SourceIncome  edresp\n",
       "995              1            0        1    2             5       1\n",
       "962              0            1        1    1             4       2\n",
       "998              0            1        1    2             4       1\n",
       "639              9            1        1    4             5       2\n",
       "932              0            1        1    4             5       2"
      ]
     },
     "execution_count": 117,
     "metadata": {},
     "output_type": "execute_result"
    }
   ],
   "source": [
    "# Select only the significant variables \n",
    "#X_train_reduced = X_train[['country', 'EP3', 'edresp', 'SourceIncome', 'earlymarriage', 'Fam_support']]\n",
    "X_train_reduced = X_train[list(demo.variable)].copy()  #might need to create a function???\n",
    "X_train_reduced.head()"
   ]
  },
  {
   "cell_type": "code",
   "execution_count": 118,
   "metadata": {},
   "outputs": [
    {
     "data": {
      "text/plain": [
       "earlymarriage    int64\n",
       "Fam_support      int64\n",
       "country          int64\n",
       "EP3              int64\n",
       "SourceIncome     int64\n",
       "edresp           int64\n",
       "dtype: object"
      ]
     },
     "execution_count": 118,
     "metadata": {},
     "output_type": "execute_result"
    }
   ],
   "source": [
    "X_train_reduced.dtypes"
   ]
  },
  {
   "cell_type": "code",
   "execution_count": 119,
   "metadata": {},
   "outputs": [],
   "source": [
    "### Xtrain Labelled"
   ]
  },
  {
   "cell_type": "code",
   "execution_count": 120,
   "metadata": {},
   "outputs": [],
   "source": [
    "var_mapping = {}\n",
    "\n",
    "var_mapping[\"country\"] ={1:'Guyana',\n",
    "                         2: 'Jamaica',\n",
    "                         3:'Suriname',\n",
    "                         4: 'Trinidad'\n",
    "                        }\n",
    "\n",
    "var_mapping[\"SourceIncome\"] ={1:'no_Income',\n",
    "                         2: 'Money_frm_Work',\n",
    "                         3:'Supp_frm_husb/partner',\n",
    "                         4: 'Equal_share',\n",
    "                         5: 'Supp_frm_relatives'}\n",
    "\n",
    "var_mapping[\"earlymarriage\"] ={0:'19_older',\n",
    "                         1: '18_younger',\n",
    "                         9:'not_married'}\n",
    "\n",
    "var_mapping[\"Fam_support\"] ={0:'no',\n",
    "                         1: 'yes'}\n",
    "\n",
    "var_mapping[\"EP3\"] ={1:'curr_married',\n",
    "                         2: 'living_man',\n",
    "                         3:'dating',\n",
    "                         4: 'formerly_partner'}\n",
    "\n",
    "var_mapping[\"edresp\"] ={1:'no_primary',\n",
    "                         2: 'secondary',\n",
    "                         3:'higher_voc_tech'}\n"
   ]
  },
  {
   "cell_type": "code",
   "execution_count": 121,
   "metadata": {},
   "outputs": [],
   "source": [
    "X_train_labeled = X_train_reduced.copy()\n",
    "\n",
    "def mapping(df, var, var_mapping):\n",
    "    df[var] = df[var].map(var_mapping[var])\n",
    "    \n",
    "for var in X_train_labeled.columns:\n",
    "    mapping(X_train_labeled, var, var_mapping)"
   ]
  },
  {
   "cell_type": "code",
   "execution_count": 122,
   "metadata": {},
   "outputs": [
    {
     "data": {
      "text/html": [
       "<div>\n",
       "<style scoped>\n",
       "    .dataframe tbody tr th:only-of-type {\n",
       "        vertical-align: middle;\n",
       "    }\n",
       "\n",
       "    .dataframe tbody tr th {\n",
       "        vertical-align: top;\n",
       "    }\n",
       "\n",
       "    .dataframe thead th {\n",
       "        text-align: right;\n",
       "    }\n",
       "</style>\n",
       "<table border=\"1\" class=\"dataframe\">\n",
       "  <thead>\n",
       "    <tr style=\"text-align: right;\">\n",
       "      <th></th>\n",
       "      <th>earlymarriage</th>\n",
       "      <th>Fam_support</th>\n",
       "      <th>country</th>\n",
       "      <th>EP3</th>\n",
       "      <th>SourceIncome</th>\n",
       "      <th>edresp</th>\n",
       "    </tr>\n",
       "  </thead>\n",
       "  <tbody>\n",
       "    <tr>\n",
       "      <th>995</th>\n",
       "      <td>18_younger</td>\n",
       "      <td>no</td>\n",
       "      <td>Guyana</td>\n",
       "      <td>living_man</td>\n",
       "      <td>Supp_frm_relatives</td>\n",
       "      <td>no_primary</td>\n",
       "    </tr>\n",
       "    <tr>\n",
       "      <th>962</th>\n",
       "      <td>19_older</td>\n",
       "      <td>yes</td>\n",
       "      <td>Guyana</td>\n",
       "      <td>curr_married</td>\n",
       "      <td>Equal_share</td>\n",
       "      <td>secondary</td>\n",
       "    </tr>\n",
       "    <tr>\n",
       "      <th>998</th>\n",
       "      <td>19_older</td>\n",
       "      <td>yes</td>\n",
       "      <td>Guyana</td>\n",
       "      <td>living_man</td>\n",
       "      <td>Equal_share</td>\n",
       "      <td>no_primary</td>\n",
       "    </tr>\n",
       "    <tr>\n",
       "      <th>639</th>\n",
       "      <td>not_married</td>\n",
       "      <td>yes</td>\n",
       "      <td>Guyana</td>\n",
       "      <td>formerly_partner</td>\n",
       "      <td>Supp_frm_relatives</td>\n",
       "      <td>secondary</td>\n",
       "    </tr>\n",
       "    <tr>\n",
       "      <th>932</th>\n",
       "      <td>19_older</td>\n",
       "      <td>yes</td>\n",
       "      <td>Guyana</td>\n",
       "      <td>formerly_partner</td>\n",
       "      <td>Supp_frm_relatives</td>\n",
       "      <td>secondary</td>\n",
       "    </tr>\n",
       "  </tbody>\n",
       "</table>\n",
       "</div>"
      ],
      "text/plain": [
       "    earlymarriage Fam_support country               EP3        SourceIncome  \\\n",
       "995    18_younger          no  Guyana        living_man  Supp_frm_relatives   \n",
       "962      19_older         yes  Guyana      curr_married         Equal_share   \n",
       "998      19_older         yes  Guyana        living_man         Equal_share   \n",
       "639   not_married         yes  Guyana  formerly_partner  Supp_frm_relatives   \n",
       "932      19_older         yes  Guyana  formerly_partner  Supp_frm_relatives   \n",
       "\n",
       "         edresp  \n",
       "995  no_primary  \n",
       "962   secondary  \n",
       "998  no_primary  \n",
       "639   secondary  \n",
       "932   secondary  "
      ]
     },
     "execution_count": 122,
     "metadata": {},
     "output_type": "execute_result"
    }
   ],
   "source": [
    "X_train_labeled.head()"
   ]
  },
  {
   "cell_type": "code",
   "execution_count": 123,
   "metadata": {},
   "outputs": [],
   "source": [
    "#X_train_labeled.join(y_train)"
   ]
  },
  {
   "cell_type": "code",
   "execution_count": 124,
   "metadata": {},
   "outputs": [],
   "source": [
    "### Might need to create a function with a for loop (arguments will be a list of nominal variables and the dataframe)\n",
    "\n",
    "X_train_reduced['edresp'] = X_train_reduced['edresp'].astype('category')\n",
    "X_train_reduced['EP3'] = X_train_reduced['EP3'].astype('category')\n",
    "X_train_reduced['SourceIncome'] = X_train_reduced['SourceIncome'].astype('category')\n",
    "X_train_reduced['country'] = X_train_reduced['country'].astype('category')\n",
    "X_train_reduced['earlymarriage'] = X_train_reduced['earlymarriage'].astype('category')"
   ]
  },
  {
   "cell_type": "code",
   "execution_count": 125,
   "metadata": {},
   "outputs": [],
   "source": [
    "X_train_dummies = pd.get_dummies(X_train_reduced)"
   ]
  },
  {
   "cell_type": "code",
   "execution_count": 126,
   "metadata": {},
   "outputs": [],
   "source": [
    "colm = list(X_train_dummies.columns)"
   ]
  },
  {
   "cell_type": "code",
   "execution_count": 127,
   "metadata": {},
   "outputs": [],
   "source": [
    "colm.remove('country_1')\n",
    "colm.remove('country_2')\n",
    "colm.remove('country_3')\n",
    "colm.remove('country_4')"
   ]
  },
  {
   "cell_type": "code",
   "execution_count": 128,
   "metadata": {},
   "outputs": [],
   "source": [
    "#colm"
   ]
  },
  {
   "cell_type": "code",
   "execution_count": 129,
   "metadata": {},
   "outputs": [],
   "source": [
    "for variable in colm:\n",
    "    X_train_dummies[variable+'X'+'country_1'] = (X_train_dummies[variable]*X_train_dummies['country_1'])\n",
    "    X_train_dummies[variable+'X'+'country_2'] = (X_train_dummies[variable]*X_train_dummies['country_2'])\n",
    "    X_train_dummies[variable+'X'+'country_3'] = (X_train_dummies[variable]*X_train_dummies['country_3'])\n",
    "    X_train_dummies[variable+'X'+'country_4'] = (X_train_dummies[variable]*X_train_dummies['country_4'])"
   ]
  },
  {
   "cell_type": "code",
   "execution_count": 130,
   "metadata": {},
   "outputs": [],
   "source": [
    "#X_train_dummies.columns"
   ]
  },
  {
   "cell_type": "code",
   "execution_count": 131,
   "metadata": {},
   "outputs": [],
   "source": [
    "#chi2 test: all the features with the target variable\n",
    "from sklearn.feature_selection import chi2"
   ]
  },
  {
   "cell_type": "code",
   "execution_count": 132,
   "metadata": {},
   "outputs": [],
   "source": [
    "def chi2_selection(df_X, df_y):\n",
    "    \"To add commments\"\n",
    "    df_chi2 = chi2(df_X, df_y)\n",
    "\n",
    "    # Convert the chi2 tests into one-dimensional 1darray with corresponding df column names as axis labels\n",
    "    f_chi2 = pd.Series(df_chi2[1], df_X.columns)\n",
    "\n",
    "    # Sort the array in ascending order of the pvalues\n",
    "    f_chi2.sort_values(ascending=True, inplace=True)\n",
    "\n",
    "    # Select the significant features \n",
    "    sign_chi2 = f_chi2[f_chi2<=0.05]\n",
    "\n",
    "    print(sign_chi2.shape)\n",
    "    return sign_chi2"
   ]
  },
  {
   "cell_type": "code",
   "execution_count": 133,
   "metadata": {},
   "outputs": [
    {
     "name": "stdout",
     "output_type": "stream",
     "text": [
      "(33,)\n"
     ]
    }
   ],
   "source": [
    "result_chi2 = chi2_selection(X_train_dummies, y_train)"
   ]
  },
  {
   "cell_type": "code",
   "execution_count": 134,
   "metadata": {},
   "outputs": [],
   "source": [
    "cols = list(result_chi2.keys())"
   ]
  },
  {
   "cell_type": "code",
   "execution_count": 135,
   "metadata": {},
   "outputs": [],
   "source": [
    "cols.sort()"
   ]
  },
  {
   "cell_type": "code",
   "execution_count": 136,
   "metadata": {},
   "outputs": [],
   "source": [
    "#cols"
   ]
  },
  {
   "cell_type": "code",
   "execution_count": 137,
   "metadata": {},
   "outputs": [],
   "source": [
    "b = ' + '.join(cols)"
   ]
  },
  {
   "cell_type": "code",
   "execution_count": 138,
   "metadata": {},
   "outputs": [],
   "source": [
    "import statsmodels.api as sm"
   ]
  },
  {
   "cell_type": "code",
   "execution_count": 139,
   "metadata": {},
   "outputs": [],
   "source": [
    "#X_train_dummies[cols]"
   ]
  },
  {
   "cell_type": "code",
   "execution_count": 140,
   "metadata": {},
   "outputs": [
    {
     "name": "stdout",
     "output_type": "stream",
     "text": [
      "                    Results: Generalized linear model\n",
      "=========================================================================\n",
      "Model:                 GLM                 AIC:               4132.7750  \n",
      "Link Function:         logit               BIC:               -22983.8964\n",
      "Dependent Variable:    sexphys             Log-Likelihood:    -2033.4    \n",
      "Date:                  2019-03-09 10:31    LL-Null:           -2132.6    \n",
      "No. Observations:      3364                Deviance:          4066.8     \n",
      "Df Model:              32                  Pearson chi2:      3.36e+03   \n",
      "Df Residuals:          3331                Scale:             1.0000     \n",
      "Method:                IRLS                                              \n",
      "-------------------------------------------------------------------------\n",
      "                           Coef.  Std.Err.    z    P>|z|   [0.025  0.975]\n",
      "-------------------------------------------------------------------------\n",
      "Intercept                 -0.3334   0.2790 -1.1950 0.2321 -0.8801  0.2134\n",
      "EP3_1                     -0.0122   0.1843 -0.0661 0.9473 -0.3735  0.3491\n",
      "EP3_1Xcountry_3           -0.6949   0.3392 -2.0487 0.0405 -1.3596 -0.0301\n",
      "EP3_1Xcountry_4           -0.5957   0.3670 -1.6230 0.1046 -1.3150  0.1237\n",
      "EP3_2Xcountry_1            0.3635   0.2275  1.5978 0.1101 -0.0824  0.8093\n",
      "EP3_4                      0.2280   0.2600  0.8770 0.3805 -0.2816  0.7376\n",
      "EP3_4Xcountry_1            0.4215   0.3693  1.1412 0.2538 -0.3023  1.1452\n",
      "EP3_4Xcountry_2           -0.4235   0.3348 -1.2650 0.2059 -1.0797  0.2327\n",
      "EP3_4Xcountry_3           -0.2854   0.2958 -0.9648 0.3346 -0.8653  0.2944\n",
      "Fam_support               -0.7081   0.1303 -5.4334 0.0000 -0.9636 -0.4527\n",
      "Fam_supportXcountry_2      0.5430   0.2315  2.3453 0.0190  0.0892  0.9968\n",
      "Fam_supportXcountry_4     -0.2063   0.2617 -0.7883 0.4305 -0.7191  0.3066\n",
      "SourceIncome_2             0.2868   0.1614  1.7769 0.0756 -0.0296  0.6031\n",
      "SourceIncome_2Xcountry_1   0.0113   0.2378  0.0473 0.9623 -0.4549  0.4774\n",
      "SourceIncome_2Xcountry_3  -0.1760   0.2454 -0.7172 0.4732 -0.6571  0.3050\n",
      "SourceIncome_3            -0.1155   0.1501 -0.7699 0.4414 -0.4097  0.1786\n",
      "SourceIncome_3Xcountry_3  -0.3281   0.2543 -1.2901 0.1970 -0.8266  0.1704\n",
      "SourceIncome_4Xcountry_1   0.0758   0.1879  0.4036 0.6865 -0.2924  0.4440\n",
      "SourceIncome_4Xcountry_3  -0.3720   0.2280 -1.6311 0.1029 -0.8189  0.0750\n",
      "SourceIncome_5Xcountry_2   0.0337   0.2655  0.1268 0.8991 -0.4868  0.5541\n",
      "country_1                 -0.6321   0.3937 -1.6053 0.1084 -1.4038  0.1396\n",
      "country_2                 -0.6515   0.2413 -2.7002 0.0069 -1.1244 -0.1786\n",
      "earlymarriage_0            0.7215   0.2994  2.4097 0.0160  0.1347  1.3084\n",
      "earlymarriage_0Xcountry_2 -0.5802   0.2226 -2.6069 0.0091 -1.0165 -0.1440\n",
      "earlymarriage_0Xcountry_3 -0.1047   0.3024 -0.3462 0.7292 -0.6973  0.4880\n",
      "earlymarriage_1            1.2332   0.3078  4.0069 0.0001  0.6300  1.8364\n",
      "earlymarriage_1Xcountry_1 -0.1058   0.2787 -0.3797 0.7042 -0.6521  0.4405\n",
      "earlymarriage_1Xcountry_2 -0.0965   0.2454 -0.3932 0.6941 -0.5774  0.3844\n",
      "earlymarriage_9Xcountry_1 -0.5469   0.4659 -1.1737 0.2405 -1.4601  0.3664\n",
      "earlymarriage_9Xcountry_2  0.0252   0.2315  0.1090 0.9132 -0.4285  0.4789\n",
      "earlymarriage_9Xcountry_3  0.5940   0.3097  1.9182 0.0551 -0.0129  1.2010\n",
      "edresp_1                  -0.1392   0.1259 -1.1061 0.2687 -0.3859  0.1075\n",
      "edresp_1Xcountry_1         0.2357   0.2037  1.1574 0.2471 -0.1634  0.6349\n",
      "edresp_3Xcountry_2        -0.3484   0.2050 -1.6995 0.0892 -0.7502  0.0534\n",
      "=========================================================================\n",
      "\n"
     ]
    }
   ],
   "source": [
    "model = sm.formula.glm(formula='''sexphys ~ EP3_1 + EP3_1Xcountry_3 + EP3_1Xcountry_4 + EP3_2Xcountry_1 + EP3_4 + \n",
    "                                EP3_4Xcountry_1 + EP3_4Xcountry_2 + EP3_4Xcountry_3 + Fam_support + Fam_supportXcountry_2 + \n",
    "                                Fam_supportXcountry_4 + SourceIncome_2 + SourceIncome_2Xcountry_1 + \n",
    "                                SourceIncome_2Xcountry_3 + SourceIncome_3 + SourceIncome_3Xcountry_3 + \n",
    "                                SourceIncome_4Xcountry_1 + SourceIncome_4Xcountry_3 + SourceIncome_5Xcountry_2 + \n",
    "                                country_1 + country_2 + earlymarriage_0 + earlymarriage_0Xcountry_2 + earlymarriage_0Xcountry_3 + \n",
    "                                earlymarriage_1 + earlymarriage_1Xcountry_1 + earlymarriage_1Xcountry_2 + earlymarriage_9Xcountry_1 + \n",
    "                                earlymarriage_9Xcountry_2 + earlymarriage_9Xcountry_3 + edresp_1 + edresp_1Xcountry_1 + edresp_3Xcountry_2''',\n",
    "                       family=sm.families.Binomial(), data=X_train_dummies[cols].join(y_train)).fit()\n",
    "print(model.summary2())"
   ]
  },
  {
   "cell_type": "code",
   "execution_count": 141,
   "metadata": {},
   "outputs": [],
   "source": [
    "cols2 = ['EP3_1Xcountry_3', 'Fam_support', 'Fam_supportXcountry_2', 'country_2', 'earlymarriage_0', 'earlymarriage_0Xcountry_2', \n",
    "'earlymarriage_1']"
   ]
  },
  {
   "cell_type": "code",
   "execution_count": 142,
   "metadata": {},
   "outputs": [
    {
     "data": {
      "text/plain": [
       "'EP3_1Xcountry_3 + Fam_support + Fam_supportXcountry_2 + country_2 + earlymarriage_0 + earlymarriage_0Xcountry_2 + earlymarriage_1'"
      ]
     },
     "execution_count": 142,
     "metadata": {},
     "output_type": "execute_result"
    }
   ],
   "source": [
    "' + '.join(cols2)"
   ]
  },
  {
   "cell_type": "code",
   "execution_count": 143,
   "metadata": {},
   "outputs": [
    {
     "name": "stdout",
     "output_type": "stream",
     "text": [
      "                    Results: Generalized linear model\n",
      "=========================================================================\n",
      "Model:                 GLM                 AIC:               4155.6961  \n",
      "Link Function:         logit               BIC:               -23113.9974\n",
      "Dependent Variable:    sexphys             Log-Likelihood:    -2069.8    \n",
      "Date:                  2019-03-09 10:31    LL-Null:           -2132.6    \n",
      "No. Observations:      3364                Deviance:          4139.7     \n",
      "Df Model:              7                   Pearson chi2:      3.36e+03   \n",
      "Df Residuals:          3356                Scale:             1.0000     \n",
      "Method:                IRLS                                              \n",
      "-------------------------------------------------------------------------\n",
      "                           Coef.  Std.Err.    z    P>|z|   [0.025  0.975]\n",
      "-------------------------------------------------------------------------\n",
      "Intercept                 -0.0406   0.1191 -0.3406 0.7334 -0.2739  0.1928\n",
      "EP3_1Xcountry_3           -0.6570   0.1249 -5.2599 0.0000 -0.9017 -0.4122\n",
      "Fam_support               -0.7802   0.1137 -6.8594 0.0000 -1.0031 -0.5572\n",
      "Fam_supportXcountry_2      0.6009   0.2187  2.7475 0.0060  0.1722  1.0296\n",
      "country_2                 -0.8388   0.2116 -3.9650 0.0001 -1.2534 -0.4242\n",
      "earlymarriage_0            0.0212   0.0986  0.2153 0.8295 -0.1720  0.2145\n",
      "earlymarriage_0Xcountry_2 -0.0660   0.1928 -0.3426 0.7319 -0.4438  0.3118\n",
      "earlymarriage_1            0.6139   0.1092  5.6210 0.0000  0.3998  0.8280\n",
      "=========================================================================\n",
      "\n"
     ]
    }
   ],
   "source": [
    "model2 = sm.formula.glm(formula='''sexphys ~ EP3_1Xcountry_3 + Fam_support + Fam_supportXcountry_2 + country_2 + \n",
    "                                    earlymarriage_0 + earlymarriage_0Xcountry_2 + earlymarriage_1''',\n",
    "                       family=sm.families.Binomial(), data=X_train_dummies[cols2].join(y_train)).fit()\n",
    "print(model2.summary2())"
   ]
  },
  {
   "cell_type": "code",
   "execution_count": 144,
   "metadata": {},
   "outputs": [],
   "source": [
    "cols3 = ['EP3_1Xcountry_3', 'Fam_support', 'Fam_supportXcountry_2', 'country_2', 'earlymarriage_1']"
   ]
  },
  {
   "cell_type": "code",
   "execution_count": 145,
   "metadata": {},
   "outputs": [
    {
     "data": {
      "text/plain": [
       "'EP3_1Xcountry_3 + Fam_support + Fam_supportXcountry_2 + country_2 + earlymarriage_1'"
      ]
     },
     "execution_count": 145,
     "metadata": {},
     "output_type": "execute_result"
    }
   ],
   "source": [
    "' + '.join(cols3)"
   ]
  },
  {
   "cell_type": "code",
   "execution_count": 146,
   "metadata": {},
   "outputs": [
    {
     "name": "stdout",
     "output_type": "stream",
     "text": [
      "                  Results: Generalized linear model\n",
      "=====================================================================\n",
      "Model:                 GLM               AIC:             4151.8191  \n",
      "Link Function:         logit             BIC:             -23130.1161\n",
      "Dependent Variable:    sexphys           Log-Likelihood:  -2069.9    \n",
      "Date:                  2019-03-09 10:31  LL-Null:         -2132.6    \n",
      "No. Observations:      3364              Deviance:        4139.8     \n",
      "Df Model:              5                 Pearson chi2:    3.36e+03   \n",
      "Df Residuals:          3358              Scale:           1.0000     \n",
      "Method:                IRLS                                          \n",
      "---------------------------------------------------------------------\n",
      "                       Coef.  Std.Err.    z    P>|z|   [0.025  0.975]\n",
      "---------------------------------------------------------------------\n",
      "Intercept             -0.0311   0.1088 -0.2858 0.7751 -0.2443  0.1821\n",
      "EP3_1Xcountry_3       -0.6516   0.1219 -5.3465 0.0000 -0.8905 -0.4127\n",
      "Fam_support           -0.7778   0.1133 -6.8661 0.0000 -0.9999 -0.5558\n",
      "Fam_supportXcountry_2  0.6004   0.2179  2.7553 0.0059  0.1733  1.0275\n",
      "country_2             -0.8708   0.1881 -4.6292 0.0000 -1.2395 -0.5021\n",
      "earlymarriage_1        0.6054   0.0922  6.5646 0.0000  0.4247  0.7862\n",
      "=====================================================================\n",
      "\n"
     ]
    }
   ],
   "source": [
    "model3 = sm.formula.glm(formula='''sexphys ~ EP3_1Xcountry_3 + Fam_support + Fam_supportXcountry_2 + country_2 + \n",
    "                                     earlymarriage_1''',\n",
    "                       family=sm.families.Binomial(), data=X_train_dummies[cols3].join(y_train)).fit()\n",
    "print(model3.summary2())"
   ]
  },
  {
   "cell_type": "code",
   "execution_count": 147,
   "metadata": {},
   "outputs": [
    {
     "name": "stdout",
     "output_type": "stream",
     "text": [
      "                 Generalized Linear Model Regression Results                  \n",
      "==============================================================================\n",
      "Dep. Variable:                sexphys   No. Observations:                 3364\n",
      "Model:                            GLM   Df Residuals:                     3358\n",
      "Model Family:                Binomial   Df Model:                            5\n",
      "Link Function:                  logit   Scale:                          1.0000\n",
      "Method:                          IRLS   Log-Likelihood:                -2069.9\n",
      "Date:                Sat, 09 Mar 2019   Deviance:                       4139.8\n",
      "Time:                        10:31:59   Pearson chi2:                 3.36e+03\n",
      "No. Iterations:                     4   Covariance Type:             nonrobust\n",
      "=========================================================================================\n",
      "                            coef    std err          z      P>|z|      [0.025      0.975]\n",
      "-----------------------------------------------------------------------------------------\n",
      "Intercept                -0.0311      0.109     -0.286      0.775      -0.244       0.182\n",
      "EP3_1Xcountry_3          -0.6516      0.122     -5.347      0.000      -0.890      -0.413\n",
      "Fam_support              -0.7778      0.113     -6.866      0.000      -1.000      -0.556\n",
      "Fam_supportXcountry_2     0.6004      0.218      2.755      0.006       0.173       1.028\n",
      "country_2                -0.8708      0.188     -4.629      0.000      -1.239      -0.502\n",
      "earlymarriage_1           0.6054      0.092      6.565      0.000       0.425       0.786\n",
      "=========================================================================================\n"
     ]
    }
   ],
   "source": [
    "print(model3.summary())"
   ]
  },
  {
   "cell_type": "code",
   "execution_count": 217,
   "metadata": {},
   "outputs": [
    {
     "data": {
      "text/plain": [
       "0.32966706302021404"
      ]
     },
     "execution_count": 217,
     "metadata": {},
     "output_type": "execute_result"
    }
   ],
   "source": [
    "y_train.values.sum() / y_train.shape[0]"
   ]
  },
  {
   "cell_type": "code",
   "execution_count": 218,
   "metadata": {},
   "outputs": [
    {
     "data": {
      "text/plain": [
       "0.6703329369797859"
      ]
     },
     "execution_count": 218,
     "metadata": {},
     "output_type": "execute_result"
    }
   ],
   "source": [
    "1-y_train.values.sum() / y_train.shape[0]"
   ]
  },
  {
   "cell_type": "code",
   "execution_count": 237,
   "metadata": {},
   "outputs": [],
   "source": [
    "# Define a gridsearch function to tune hyperparameters \n",
    "\n",
    "from sklearn.model_selection import GridSearchCV\n",
    "from sklearn.preprocessing import StandardScaler\n",
    "#from sklearn.decomposition import PCA\n",
    "from sklearn.linear_model import LogisticRegression\n",
    "from sklearn.pipeline import Pipeline\n",
    "from sklearn.pipeline import make_pipeline\n",
    "\n",
    "\n",
    "def grid_logistic ():\n",
    "    \n",
    "    pipe_lr = make_pipeline(#StandardScaler(),\n",
    "                       LogisticRegression(random_state=1, max_iter=300, class_weight={0:0.32966706302021404, 1:0.6703329369797859}))\n",
    "     \n",
    "    param_range = np.power(10.0, np.arange(-3, 3))\n",
    "    param_grid = [{'logisticregression__C': param_range, 'logisticregression__solver':['liblinear']}, \n",
    "                  {'logisticregression__C': param_range, 'logisticregression__solver':['sag']}, \n",
    "                  {'logisticregression__C': param_range, 'logisticregression__solver':['saga']}]\n",
    "\n",
    "    gs_lr = GridSearchCV(estimator = pipe_lr,\n",
    "                        param_grid = param_grid, \n",
    "                        scoring = 'accuracy', \n",
    "                        cv=10)\n",
    "    return gs_lr"
   ]
  },
  {
   "cell_type": "code",
   "execution_count": 238,
   "metadata": {},
   "outputs": [
    {
     "data": {
      "text/plain": [
       "GridSearchCV(cv=10, error_score='raise',\n",
       "       estimator=Pipeline(memory=None,\n",
       "     steps=[('logisticregression', LogisticRegression(C=1.0,\n",
       "          class_weight={0: 0.32966706302021404, 1: 0.6703329369797859},\n",
       "          dual=False, fit_intercept=True, intercept_scaling=1,\n",
       "          max_iter=300, multi_class='ovr', n_jobs=1, penalty='l2',\n",
       "          random_state=1, solver='liblinear', tol=0.0001, verbose=0,\n",
       "          warm_start=False))]),\n",
       "       fit_params=None, iid=True, n_jobs=1,\n",
       "       param_grid=[{'logisticregression__C': array([1.e-03, 1.e-02, 1.e-01, 1.e+00, 1.e+01, 1.e+02]), 'logisticregression__solver': ['liblinear']}, {'logisticregression__C': array([1.e-03, 1.e-02, 1.e-01, 1.e+00, 1.e+01, 1.e+02]), 'logisticregression__solver': ['sag']}, {'logisticregression__C': array([1.e-03, 1.e-02, 1.e-01, 1.e+00, 1.e+01, 1.e+02]), 'logisticregression__solver': ['saga']}],\n",
       "       pre_dispatch='2*n_jobs', refit=True, return_train_score='warn',\n",
       "       scoring='accuracy', verbose=0)"
      ]
     },
     "execution_count": 238,
     "metadata": {},
     "output_type": "execute_result"
    }
   ],
   "source": [
    "#fit the gridsearch on all the datasets\n",
    "g1 = grid_logistic()\n",
    "g1.fit(X_train_dummies[cols3], y_train)"
   ]
  },
  {
   "cell_type": "code",
   "execution_count": 239,
   "metadata": {},
   "outputs": [
    {
     "name": "stdout",
     "output_type": "stream",
     "text": [
      "0.6524970273483948\n",
      "{'logisticregression__C': 10.0, 'logisticregression__solver': 'liblinear'}\n"
     ]
    }
   ],
   "source": [
    "# find the best score and the best parameters \n",
    "print(g1.best_score_)\n",
    "print(g1.best_params_)"
   ]
  },
  {
   "cell_type": "code",
   "execution_count": 151,
   "metadata": {},
   "outputs": [],
   "source": [
    "#define a learning curve function\n",
    "\n",
    "from sklearn.model_selection import learning_curve\n",
    "\n",
    "def l_curve(estimator, df_train, title):\n",
    "    train_sizes, train_scores, test_scores =\\\n",
    "                    learning_curve(estimator=estimator,\n",
    "                                   X=df_train,\n",
    "                                   y=y_train,\n",
    "                                   train_sizes=np.linspace(0.1, 1.0, 10),\n",
    "                                   cv=10,\n",
    "                                   n_jobs=1)\n",
    "\n",
    "    train_mean = np.mean(train_scores, axis=1)\n",
    "    train_std = np.std(train_scores, axis=1)\n",
    "    test_mean = np.mean(test_scores, axis=1)\n",
    "    test_std = np.std(test_scores, axis=1)\n",
    "\n",
    "    plt.plot(train_sizes, train_mean,\n",
    "             color='blue', marker='o',\n",
    "             markersize=5, label='training accuracy')\n",
    "\n",
    "    plt.fill_between(train_sizes,\n",
    "                     train_mean + train_std,\n",
    "                     train_mean - train_std,\n",
    "                     alpha=0.15, color='blue')\n",
    "\n",
    "    plt.plot(train_sizes, test_mean,\n",
    "             color='green', linestyle='--',\n",
    "             marker='s', markersize=5,\n",
    "             label='validation accuracy')\n",
    "\n",
    "    plt.fill_between(train_sizes,\n",
    "                     test_mean + test_std,\n",
    "                     test_mean - test_std,\n",
    "                     alpha=0.15, color='green')\n",
    "\n",
    "    plt.grid()\n",
    "    plt.xlabel('Number of training samples')\n",
    "    plt.ylabel('Accuracy')\n",
    "    plt.legend(loc='lower right')\n",
    "    plt.ylim([0.5, 1.03])\n",
    "    plt.tight_layout()\n",
    "    plt.title(title)\n",
    "    plt.show()"
   ]
  },
  {
   "cell_type": "code",
   "execution_count": 240,
   "metadata": {},
   "outputs": [
    {
     "data": {
      "image/png": "[encoded data removed]",
      "text/plain": [
       "<Figure size 432x288 with 1 Axes>"
      ]
     },
     "metadata": {},
     "output_type": "display_data"
    }
   ],
   "source": [
    "l_curve(g1.best_estimator_, X_train_dummies[cols3], \"Learning Curve for Logistic Regression, set 1\")"
   ]
  },
  {
   "cell_type": "code",
   "execution_count": 165,
   "metadata": {},
   "outputs": [],
   "source": [
    "#Define a function to create the confusion matrix\n",
    "\n",
    "from sklearn.metrics import confusion_matrix\n",
    "\n",
    "def conf_mat (estimator, np_train, np_test, title):\n",
    "    clf = estimator\n",
    "    clf.fit(np_train, y_train)\n",
    "    y_pred = clf.predict(np_test)\n",
    "    confmat = confusion_matrix(y_true=y_val, y_pred=y_pred)\n",
    "\n",
    "    fig, ax = plt.subplots(figsize=(5, 5))\n",
    "    ax.matshow(confmat, cmap=plt.cm.Blues, alpha=0.3)\n",
    "    for i in range(confmat.shape[0]):\n",
    "        for j in range(confmat.shape[1]):\n",
    "            ax.text(x=j, y=i,\n",
    "            s=confmat[i, j],\n",
    "            va='center', ha='center')\n",
    "    plt.xlabel('predicted label')\n",
    "    plt.ylabel('true label')\n",
    "    plt.title(title)\n",
    "    plt.show()\n",
    "    "
   ]
  },
  {
   "cell_type": "raw",
   "metadata": {},
   "source": [
    "conf_mat(g1.best_estimator_, X_train_dummies[cols3], X_val_dummies[cols3], \"Confusion Matrix for Logistic regression, set 1\")"
   ]
  },
  {
   "cell_type": "code",
   "execution_count": 171,
   "metadata": {},
   "outputs": [],
   "source": [
    "# Create a function to calculate the scores\n",
    "\n",
    "from sklearn.metrics import precision_score\n",
    "from sklearn.metrics import recall_score, f1_score\n",
    "from sklearn.metrics import roc_curve\n",
    "from sklearn.metrics import roc_auc_score\n",
    "\n",
    "def different_scores (estimator, np_train, np_test, title):\n",
    "    \n",
    "    #instantiate the classifier and do predictions\n",
    "    clf = estimator\n",
    "    clf.fit(np_train, y_train)\n",
    "    y_pred = clf.predict(np_test)\n",
    "\n",
    "    #print the different scores \n",
    "    print('Precision: %.3f' % precision_score(\n",
    "    y_true=y_val, y_pred=y_pred))\n",
    "    print('Recall: %.3f' % recall_score(\n",
    "    y_true=y_val, y_pred=y_pred))\n",
    "    print('F1: %.3f' % f1_score(\n",
    "    y_true=y_val, y_pred=y_pred))\n",
    "    \n",
    "    #create the AUC \n",
    "    fpr, tpr, _ = roc_curve(y_val,  y_pred)\n",
    "    auc = roc_auc_score(y_val, y_pred)\n",
    "    plt.plot(fpr,tpr,label=\"auc=\"+str(auc))\n",
    "    plt.legend(loc=4)\n",
    "    plt.title(title)\n",
    "    plt.show()\n"
   ]
  },
  {
   "cell_type": "code",
   "execution_count": 155,
   "metadata": {},
   "outputs": [
    {
     "data": {
      "text/html": [
       "<div>\n",
       "<style scoped>\n",
       "    .dataframe tbody tr th:only-of-type {\n",
       "        vertical-align: middle;\n",
       "    }\n",
       "\n",
       "    .dataframe tbody tr th {\n",
       "        vertical-align: top;\n",
       "    }\n",
       "\n",
       "    .dataframe thead th {\n",
       "        text-align: right;\n",
       "    }\n",
       "</style>\n",
       "<table border=\"1\" class=\"dataframe\">\n",
       "  <thead>\n",
       "    <tr style=\"text-align: right;\">\n",
       "      <th></th>\n",
       "      <th>earlymarriage</th>\n",
       "      <th>Fam_support</th>\n",
       "      <th>country</th>\n",
       "      <th>EP3</th>\n",
       "      <th>SourceIncome</th>\n",
       "      <th>edresp</th>\n",
       "    </tr>\n",
       "  </thead>\n",
       "  <tbody>\n",
       "    <tr>\n",
       "      <th>917</th>\n",
       "      <td>0</td>\n",
       "      <td>1</td>\n",
       "      <td>1</td>\n",
       "      <td>2</td>\n",
       "      <td>3</td>\n",
       "      <td>3</td>\n",
       "    </tr>\n",
       "    <tr>\n",
       "      <th>836</th>\n",
       "      <td>0</td>\n",
       "      <td>1</td>\n",
       "      <td>1</td>\n",
       "      <td>3</td>\n",
       "      <td>2</td>\n",
       "      <td>1</td>\n",
       "    </tr>\n",
       "    <tr>\n",
       "      <th>463</th>\n",
       "      <td>1</td>\n",
       "      <td>1</td>\n",
       "      <td>1</td>\n",
       "      <td>2</td>\n",
       "      <td>4</td>\n",
       "      <td>1</td>\n",
       "    </tr>\n",
       "    <tr>\n",
       "      <th>200</th>\n",
       "      <td>1</td>\n",
       "      <td>1</td>\n",
       "      <td>1</td>\n",
       "      <td>1</td>\n",
       "      <td>4</td>\n",
       "      <td>2</td>\n",
       "    </tr>\n",
       "    <tr>\n",
       "      <th>535</th>\n",
       "      <td>0</td>\n",
       "      <td>1</td>\n",
       "      <td>1</td>\n",
       "      <td>3</td>\n",
       "      <td>2</td>\n",
       "      <td>3</td>\n",
       "    </tr>\n",
       "  </tbody>\n",
       "</table>\n",
       "</div>"
      ],
      "text/plain": [
       "     earlymarriage  Fam_support  country  EP3  SourceIncome  edresp\n",
       "917              0            1        1    2             3       3\n",
       "836              0            1        1    3             2       1\n",
       "463              1            1        1    2             4       1\n",
       "200              1            1        1    1             4       2\n",
       "535              0            1        1    3             2       3"
      ]
     },
     "execution_count": 155,
     "metadata": {},
     "output_type": "execute_result"
    }
   ],
   "source": [
    "X_val_reduced = X_val[list(demo.variable)].copy()  #might need to create a function???\n",
    "X_val_reduced.head()"
   ]
  },
  {
   "cell_type": "code",
   "execution_count": 156,
   "metadata": {},
   "outputs": [],
   "source": [
    "X_val_reduced['edresp'] = X_val_reduced['edresp'].astype('category')\n",
    "X_val_reduced['EP3'] = X_val_reduced['EP3'].astype('category')\n",
    "X_val_reduced['SourceIncome'] = X_val_reduced['SourceIncome'].astype('category')\n",
    "X_val_reduced['country'] = X_val_reduced['country'].astype('category')\n",
    "X_val_reduced['earlymarriage'] = X_val_reduced['earlymarriage'].astype('category')"
   ]
  },
  {
   "cell_type": "code",
   "execution_count": 157,
   "metadata": {},
   "outputs": [],
   "source": [
    "X_val_dummies = pd.get_dummies(X_val_reduced)"
   ]
  },
  {
   "cell_type": "code",
   "execution_count": 158,
   "metadata": {},
   "outputs": [],
   "source": [
    "colm1 = list(X_val_dummies.columns)\n",
    "colm1.remove('country_1')\n",
    "colm1.remove('country_2')\n",
    "colm1.remove('country_3')\n",
    "colm1.remove('country_4')\n",
    "\n",
    "for variable in colm1:\n",
    "    X_val_dummies[variable+'X'+'country_1'] = (X_val_dummies[variable]*X_val_dummies['country_1'])\n",
    "    X_val_dummies[variable+'X'+'country_2'] = (X_val_dummies[variable]*X_val_dummies['country_2'])\n",
    "    X_val_dummies[variable+'X'+'country_3'] = (X_val_dummies[variable]*X_val_dummies['country_3'])\n",
    "    X_val_dummies[variable+'X'+'country_4'] = (X_val_dummies[variable]*X_val_dummies['country_4'])\n"
   ]
  },
  {
   "cell_type": "code",
   "execution_count": 163,
   "metadata": {},
   "outputs": [
    {
     "data": {
      "text/plain": [
       "(721, 5)"
      ]
     },
     "execution_count": 163,
     "metadata": {},
     "output_type": "execute_result"
    }
   ],
   "source": [
    "X_val_dummies[cols3].shape"
   ]
  },
  {
   "cell_type": "code",
   "execution_count": 164,
   "metadata": {},
   "outputs": [
    {
     "data": {
      "text/plain": [
       "(721,)"
      ]
     },
     "execution_count": 164,
     "metadata": {},
     "output_type": "execute_result"
    }
   ],
   "source": [
    "y_val.shape"
   ]
  },
  {
   "cell_type": "code",
   "execution_count": null,
   "metadata": {},
   "outputs": [],
   "source": []
  },
  {
   "cell_type": "code",
   "execution_count": 235,
   "metadata": {},
   "outputs": [
    {
     "data": {
      "image/png": "[encoded data removed]",
      "text/plain": [
       "<Figure size 360x360 with 1 Axes>"
      ]
     },
     "metadata": {},
     "output_type": "display_data"
    }
   ],
   "source": [
    "conf_mat(g1.best_estimator_, X_train_dummies[cols3], X_val_dummies[cols3], \"Confusion Matrix for Logistic regression, set 1\")"
   ]
  },
  {
   "cell_type": "code",
   "execution_count": 236,
   "metadata": {},
   "outputs": [
    {
     "name": "stdout",
     "output_type": "stream",
     "text": [
      "Precision: 0.479\n",
      "Recall: 0.342\n",
      "F1: 0.399\n"
     ]
    },
    {
     "name": "stderr",
     "output_type": "stream",
     "text": [
      "C:\\Users\\ovinc\\Anaconda3\\lib\\site-packages\\sklearn\\utils\\validation.py:475: DataConversionWarning: Data with input dtype int64 was converted to float64 by StandardScaler.\n",
      "  warnings.warn(msg, DataConversionWarning)\n",
      "C:\\Users\\ovinc\\Anaconda3\\lib\\site-packages\\sklearn\\utils\\validation.py:475: DataConversionWarning: Data with input dtype int64 was converted to float64 by StandardScaler.\n",
      "  warnings.warn(msg, DataConversionWarning)\n",
      "C:\\Users\\ovinc\\Anaconda3\\lib\\site-packages\\sklearn\\utils\\validation.py:475: DataConversionWarning: Data with input dtype int64 was converted to float64 by StandardScaler.\n",
      "  warnings.warn(msg, DataConversionWarning)\n"
     ]
    },
    {
     "data": {
      "image/png": "[encoded data removed]",
      "text/plain": [
       "<Figure size 432x288 with 1 Axes>"
      ]
     },
     "metadata": {},
     "output_type": "display_data"
    }
   ],
   "source": [
    "different_scores(g1.best_estimator_, X_train_dummies[cols3].values, X_val_dummies[cols3].values, \"Logistic regression AUC, set 2\")"
   ]
  },
  {
   "cell_type": "code",
   "execution_count": null,
   "metadata": {},
   "outputs": [],
   "source": []
  },
  {
   "cell_type": "code",
   "execution_count": null,
   "metadata": {},
   "outputs": [],
   "source": []
  },
  {
   "cell_type": "markdown",
   "metadata": {},
   "source": [
    "# TEST RANDOM FOREST"
   ]
  },
  {
   "cell_type": "code",
   "execution_count": 202,
   "metadata": {},
   "outputs": [],
   "source": [
    "from sklearn.ensemble import RandomForestClassifier\n",
    "\n",
    "# Random forest classifier\n",
    "rfc = RandomForestClassifier(n_estimators=10, random_state=0)\n",
    "\n",
    "# Train the model \n",
    "rfc.fit(X_train_reduced, y_train)\n",
    "\n",
    "# Get the feature importances\n",
    "importances = rfc.feature_importances_"
   ]
  },
  {
   "cell_type": "code",
   "execution_count": 204,
   "metadata": {},
   "outputs": [
    {
     "data": {
      "text/plain": [
       "SourceIncome     0.271972\n",
       "edresp           0.193864\n",
       "country          0.188207\n",
       "EP3              0.146017\n",
       "earlymarriage    0.119670\n",
       "Fam_support      0.080269\n",
       "dtype: float64"
      ]
     },
     "execution_count": 204,
     "metadata": {},
     "output_type": "execute_result"
    }
   ],
   "source": [
    "# Convert the importances into one-dimensional 1darray with corresponding df column names as axis labels\n",
    "f_importances = pd.Series(importances, X_train_reduced.columns)\n",
    "\n",
    "# Sort the array in descending order of the importances\n",
    "f_importances.sort_values(ascending=False, inplace=True)\n",
    "\n",
    "f_importances[:12]"
   ]
  },
  {
   "cell_type": "code",
   "execution_count": 205,
   "metadata": {},
   "outputs": [
    {
     "data": {
      "image/png": "[encoded data removed]",
      "text/plain": [
       "<Figure size 3000x2000 with 1 Axes>"
      ]
     },
     "metadata": {},
     "output_type": "display_data"
    }
   ],
   "source": [
    "# Make the bar Plot from f_importances \n",
    "plt.figure(figsize=(12,8),dpi=250)\n",
    "f_importances[:5].plot(kind='bar', fontsize=20)\n",
    "plt.xlabel('Features', fontsize=20)\n",
    "plt.ylabel('Importance', fontsize=20)\n",
    "plt.title(\"Top 7 features using Random Forest\", fontsize=20)\n",
    "\n",
    "# Show the plot\n",
    "plt.tight_layout()\n",
    "plt.show()"
   ]
  },
  {
   "cell_type": "code",
   "execution_count": 199,
   "metadata": {},
   "outputs": [],
   "source": [
    "#f_importances.keys()"
   ]
  },
  {
   "cell_type": "code",
   "execution_count": 206,
   "metadata": {},
   "outputs": [
    {
     "name": "stdout",
     "output_type": "stream",
     "text": [
      "Top 1    0.671290\n",
      "Top 2    0.671290\n",
      "Top 3    0.668516\n",
      "Top 4    0.665742\n",
      "Top 5    0.656033\n",
      "dtype: float64\n"
     ]
    },
    {
     "name": "stderr",
     "output_type": "stream",
     "text": [
      "C:\\Users\\ovinc\\Anaconda3\\lib\\site-packages\\ipykernel_launcher.py:21: FutureWarning: set_value is deprecated and will be removed in a future release. Please use .at[] or .iat[] accessors instead\n",
      "C:\\Users\\ovinc\\Anaconda3\\lib\\site-packages\\ipykernel_launcher.py:21: FutureWarning: set_value is deprecated and will be removed in a future release. Please use .at[] or .iat[] accessors instead\n",
      "C:\\Users\\ovinc\\Anaconda3\\lib\\site-packages\\ipykernel_launcher.py:21: FutureWarning: set_value is deprecated and will be removed in a future release. Please use .at[] or .iat[] accessors instead\n",
      "C:\\Users\\ovinc\\Anaconda3\\lib\\site-packages\\ipykernel_launcher.py:21: FutureWarning: set_value is deprecated and will be removed in a future release. Please use .at[] or .iat[] accessors instead\n",
      "C:\\Users\\ovinc\\Anaconda3\\lib\\site-packages\\ipykernel_launcher.py:21: FutureWarning: set_value is deprecated and will be removed in a future release. Please use .at[] or .iat[] accessors instead\n"
     ]
    }
   ],
   "source": [
    "from sklearn.metrics import precision_recall_fscore_support\n",
    "\n",
    "top_fscores = pd.Series()\n",
    "\n",
    "\n",
    "for k in range(1,importances[:5].shape[0]+1): \n",
    "    #Select the top features\n",
    "    top = f_importances[:5].index[0:k].tolist()\n",
    "    \n",
    "    #Instantiate the Random forest classifier\n",
    "    top_rfc = RandomForestClassifier(random_state=0)\n",
    "    \n",
    "    #Train the model\n",
    "    top_rfc.fit(X_train_reduced[top].values, y_train)\n",
    "    \n",
    "    #Test the model\n",
    "    y_test_pred = top_rfc.predict(X_val_reduced[top])\n",
    "    \n",
    "    #Calculate the precision, recall, and fscore and select the fscore\n",
    "    score = precision_recall_fscore_support(y_val, y_test_pred, average='micro')[2]\n",
    "    top_fscores.set_value(\"Top \" + str(k), score)\n",
    "\n",
    "print(top_fscores)"
   ]
  },
  {
   "cell_type": "code",
   "execution_count": 200,
   "metadata": {},
   "outputs": [
    {
     "data": {
      "image/png": "[encoded data removed]",
      "text/plain": [
       "<Figure size 360x360 with 1 Axes>"
      ]
     },
     "metadata": {},
     "output_type": "display_data"
    }
   ],
   "source": [
    "#create the confusion matrix for random forest\n",
    "conf_mat(RandomForestClassifier(random_state=0), X_train_dummies[['Fam_support', 'earlymarriage_1', 'SourceIncome_2', 'edresp_2',\n",
    "       'edresp_1']].values, X_val_dummies[['Fam_support', 'earlymarriage_1', 'SourceIncome_2', 'edresp_2',\n",
    "       'edresp_1']].values, \"Confusion Matrix for Rando\")"
   ]
  },
  {
   "cell_type": "code",
   "execution_count": 201,
   "metadata": {},
   "outputs": [
    {
     "name": "stdout",
     "output_type": "stream",
     "text": [
      "Precision: 0.468\n",
      "Recall: 0.093\n",
      "F1: 0.155\n"
     ]
    },
    {
     "data": {
      "image/png": "[encoded data removed]",
      "text/plain": [
       "<Figure size 432x288 with 1 Axes>"
      ]
     },
     "metadata": {},
     "output_type": "display_data"
    }
   ],
   "source": [
    "different_scores(RandomForestClassifier(random_state=0), X_train_dummies[['Fam_support', 'earlymarriage_1', 'SourceIncome_2', 'edresp_2',\n",
    "       'edresp_1']].values, X_val_dummies[['Fam_support', 'earlymarriage_1', 'SourceIncome_2', 'edresp_2',\n",
    "       'edresp_1']].values, \"Confusion Matrix for Rando\")"
   ]
  },
  {
   "cell_type": "code",
   "execution_count": 34,
   "metadata": {},
   "outputs": [],
   "source": [
    "import statsmodels.api as sm"
   ]
  },
  {
   "cell_type": "code",
   "execution_count": 66,
   "metadata": {},
   "outputs": [
    {
     "name": "stdout",
     "output_type": "stream",
     "text": [
      "                 Generalized Linear Model Regression Results                  \n",
      "==============================================================================\n",
      "Dep. Variable:                sexphys   No. Observations:                 3364\n",
      "Model:                            GLM   Df Residuals:                     3356\n",
      "Model Family:                Binomial   Df Model:                            7\n",
      "Link Function:                  logit   Scale:                          1.0000\n",
      "Method:                          IRLS   Log-Likelihood:                -2095.8\n",
      "Date:                Thu, 07 Mar 2019   Deviance:                       4191.5\n",
      "Time:                        11:54:50   Pearson chi2:                 3.36e+03\n",
      "No. Iterations:                     4   Covariance Type:             nonrobust\n",
      "============================================================================================================================================================================\n",
      "                                                                                                               coef    std err          z      P>|z|      [0.025      0.975]\n",
      "----------------------------------------------------------------------------------------------------------------------------------------------------------------------------\n",
      "Intercept                                                                                                   -0.0500      0.224     -0.224      0.823      -0.488       0.388\n",
      "C(Fam_support, Treatment(reference='no'))[T.yes]                                                            -0.9042      0.241     -3.758      0.000      -1.376      -0.433\n",
      "C(country, Treatment(reference='Trinidad'))[T.Guyana]                                                        0.4232      0.300      1.409      0.159      -0.166       1.012\n",
      "C(country, Treatment(reference='Trinidad'))[T.Jamaica]                                                      -0.7518      0.272     -2.768      0.006      -1.284      -0.219\n",
      "C(country, Treatment(reference='Trinidad'))[T.Suriname]                                                     -0.1269      0.264     -0.480      0.631      -0.645       0.391\n",
      "C(Fam_support, Treatment(reference='no'))[T.yes]:C(country, Treatment(reference='Trinidad'))[T.Guyana]      -0.0754      0.321     -0.235      0.814      -0.705       0.554\n",
      "C(Fam_support, Treatment(reference='no'))[T.yes]:C(country, Treatment(reference='Trinidad'))[T.Jamaica]      0.6909      0.304      2.275      0.023       0.096       1.286\n",
      "C(Fam_support, Treatment(reference='no'))[T.yes]:C(country, Treatment(reference='Trinidad'))[T.Suriname]     0.2661      0.289      0.920      0.357      -0.301       0.833\n",
      "============================================================================================================================================================================\n"
     ]
    }
   ],
   "source": [
    "model = sm.formula.glm(formula='''sexphys ~ C(Fam_support, Treatment(reference='no')) + C(country, Treatment(reference='Trinidad')) + C(Fam_support, Treatment(reference='no')):C(country, Treatment(reference='Trinidad'))''',\n",
    "                       family=sm.families.Binomial(), data=X_train_labeled.join(y_train)).fit()\n",
    "print(model.summary())"
   ]
  },
  {
   "cell_type": "code",
   "execution_count": 67,
   "metadata": {},
   "outputs": [
    {
     "data": {
      "text/html": [
       "<table class=\"simpletable\">\n",
       "<tr>\n",
       "        <td>Model:</td>               <td>GLM</td>            <td>AIC:</td>        <td>4207.5169</td> \n",
       "</tr>\n",
       "<tr>\n",
       "    <td>Link Function:</td>          <td>logit</td>           <td>BIC:</td>       <td>-23062.1765</td>\n",
       "</tr>\n",
       "<tr>\n",
       "  <td>Dependent Variable:</td>      <td>sexphys</td>     <td>Log-Likelihood:</td>   <td>-2095.8</td>  \n",
       "</tr>\n",
       "<tr>\n",
       "         <td>Date:</td>        <td>2019-03-07 11:54</td>    <td>LL-Null:</td>       <td>-2132.6</td>  \n",
       "</tr>\n",
       "<tr>\n",
       "   <td>No. Observations:</td>        <td>3364</td>          <td>Deviance:</td>      <td>4191.5</td>   \n",
       "</tr>\n",
       "<tr>\n",
       "       <td>Df Model:</td>              <td>7</td>         <td>Pearson chi2:</td>   <td>3.36e+03</td>  \n",
       "</tr>\n",
       "<tr>\n",
       "     <td>Df Residuals:</td>          <td>3356</td>           <td>Scale:</td>        <td>1.0000</td>   \n",
       "</tr>\n",
       "<tr>\n",
       "        <td>Method:</td>             <td>IRLS</td>              <td></td>              <td></td>      \n",
       "</tr>\n",
       "</table>\n",
       "<table class=\"simpletable\">\n",
       "<tr>\n",
       "                                                      <td></td>                                                      <th>Coef.</th>  <th>Std.Err.</th>    <th>z</th>     <th>P>|z|</th> <th>[0.025</th>  <th>0.975]</th> \n",
       "</tr>\n",
       "<tr>\n",
       "  <th>Intercept</th>                                                                                                <td>-0.0500</td>  <td>0.2237</td>  <td>-0.2236</td> <td>0.8231</td> <td>-0.4884</td> <td>0.3884</td> \n",
       "</tr>\n",
       "<tr>\n",
       "  <th>C(Fam_support, Treatment(reference='no'))[T.yes]</th>                                                         <td>-0.9042</td>  <td>0.2406</td>  <td>-3.7576</td> <td>0.0002</td> <td>-1.3758</td> <td>-0.4326</td>\n",
       "</tr>\n",
       "<tr>\n",
       "  <th>C(country, Treatment(reference='Trinidad'))[T.Guyana]</th>                                                    <td>0.4232</td>   <td>0.3004</td>  <td>1.4089</td>  <td>0.1589</td> <td>-0.1655</td> <td>1.0120</td> \n",
       "</tr>\n",
       "<tr>\n",
       "  <th>C(country, Treatment(reference='Trinidad'))[T.Jamaica]</th>                                                   <td>-0.7518</td>  <td>0.2716</td>  <td>-2.7677</td> <td>0.0056</td> <td>-1.2841</td> <td>-0.2194</td>\n",
       "</tr>\n",
       "<tr>\n",
       "  <th>C(country, Treatment(reference='Trinidad'))[T.Suriname]</th>                                                  <td>-0.1269</td>  <td>0.2642</td>  <td>-0.4804</td> <td>0.6309</td> <td>-0.6447</td> <td>0.3909</td> \n",
       "</tr>\n",
       "<tr>\n",
       "  <th>C(Fam_support, Treatment(reference='no'))[T.yes]:C(country, Treatment(reference='Trinidad'))[T.Guyana]</th>   <td>-0.0754</td>  <td>0.3212</td>  <td>-0.2349</td> <td>0.8143</td> <td>-0.7049</td> <td>0.5540</td> \n",
       "</tr>\n",
       "<tr>\n",
       "  <th>C(Fam_support, Treatment(reference='no'))[T.yes]:C(country, Treatment(reference='Trinidad'))[T.Jamaica]</th>  <td>0.6909</td>   <td>0.3037</td>  <td>2.2751</td>  <td>0.0229</td> <td>0.0957</td>  <td>1.2860</td> \n",
       "</tr>\n",
       "<tr>\n",
       "  <th>C(Fam_support, Treatment(reference='no'))[T.yes]:C(country, Treatment(reference='Trinidad'))[T.Suriname]</th> <td>0.2661</td>   <td>0.2891</td>  <td>0.9203</td>  <td>0.3574</td> <td>-0.3006</td> <td>0.8328</td> \n",
       "</tr>\n",
       "</table>"
      ],
      "text/plain": [
       "<class 'statsmodels.iolib.summary2.Summary'>\n",
       "\"\"\"\n",
       "                                                           Results: Generalized linear model\n",
       "========================================================================================================================================================\n",
       "Model:                                            GLM                                           AIC:                                         4207.5169  \n",
       "Link Function:                                    logit                                         BIC:                                         -23062.1765\n",
       "Dependent Variable:                               sexphys                                       Log-Likelihood:                              -2095.8    \n",
       "Date:                                             2019-03-07 11:54                              LL-Null:                                     -2132.6    \n",
       "No. Observations:                                 3364                                          Deviance:                                    4191.5     \n",
       "Df Model:                                         7                                             Pearson chi2:                                3.36e+03   \n",
       "Df Residuals:                                     3356                                          Scale:                                       1.0000     \n",
       "Method:                                           IRLS                                                                                                  \n",
       "--------------------------------------------------------------------------------------------------------------------------------------------------------\n",
       "                                                                                                          Coef.  Std.Err.    z    P>|z|   [0.025  0.975]\n",
       "--------------------------------------------------------------------------------------------------------------------------------------------------------\n",
       "Intercept                                                                                                -0.0500   0.2237 -0.2236 0.8231 -0.4884  0.3884\n",
       "C(Fam_support, Treatment(reference='no'))[T.yes]                                                         -0.9042   0.2406 -3.7576 0.0002 -1.3758 -0.4326\n",
       "C(country, Treatment(reference='Trinidad'))[T.Guyana]                                                     0.4232   0.3004  1.4089 0.1589 -0.1655  1.0120\n",
       "C(country, Treatment(reference='Trinidad'))[T.Jamaica]                                                   -0.7518   0.2716 -2.7677 0.0056 -1.2841 -0.2194\n",
       "C(country, Treatment(reference='Trinidad'))[T.Suriname]                                                  -0.1269   0.2642 -0.4804 0.6309 -0.6447  0.3909\n",
       "C(Fam_support, Treatment(reference='no'))[T.yes]:C(country, Treatment(reference='Trinidad'))[T.Guyana]   -0.0754   0.3212 -0.2349 0.8143 -0.7049  0.5540\n",
       "C(Fam_support, Treatment(reference='no'))[T.yes]:C(country, Treatment(reference='Trinidad'))[T.Jamaica]   0.6909   0.3037  2.2751 0.0229  0.0957  1.2860\n",
       "C(Fam_support, Treatment(reference='no'))[T.yes]:C(country, Treatment(reference='Trinidad'))[T.Suriname]  0.2661   0.2891  0.9203 0.3574 -0.3006  0.8328\n",
       "========================================================================================================================================================\n",
       "\n",
       "\"\"\""
      ]
     },
     "execution_count": 67,
     "metadata": {},
     "output_type": "execute_result"
    }
   ],
   "source": [
    "model.summary2()"
   ]
  },
  {
   "cell_type": "code",
   "execution_count": 65,
   "metadata": {},
   "outputs": [
    {
     "name": "stdout",
     "output_type": "stream",
     "text": [
      "                 Generalized Linear Model Regression Results                  \n",
      "==============================================================================\n",
      "Dep. Variable:                sexphys   No. Observations:                 3364\n",
      "Model:                            GLM   Df Residuals:                     3356\n",
      "Model Family:                Binomial   Df Model:                            7\n",
      "Link Function:                  logit   Scale:                          1.0000\n",
      "Method:                          IRLS   Log-Likelihood:                -2095.8\n",
      "Date:                Thu, 07 Mar 2019   Deviance:                       4191.5\n",
      "Time:                        11:33:20   Pearson chi2:                 3.36e+03\n",
      "No. Iterations:                     4   Covariance Type:             nonrobust\n",
      "==========================================================================================================\n",
      "                                             coef    std err          z      P>|z|      [0.025      0.975]\n",
      "----------------------------------------------------------------------------------------------------------\n",
      "Intercept                                  0.3732      0.201      1.861      0.063      -0.020       0.766\n",
      "Fam_support[T.yes]                        -0.9796      0.213     -4.606      0.000      -1.396      -0.563\n",
      "country[T.Jamaica]                        -1.1750      0.253     -4.646      0.000      -1.671      -0.679\n",
      "country[T.Suriname]                       -0.5501      0.245     -2.247      0.025      -1.030      -0.070\n",
      "country[T.Trinidad]                       -0.4232      0.300     -1.409      0.159      -1.012       0.166\n",
      "Fam_support[T.yes]:country[T.Jamaica]      0.7663      0.282      2.717      0.007       0.214       1.319\n",
      "Fam_support[T.yes]:country[T.Suriname]     0.3415      0.266      1.282      0.200      -0.180       0.864\n",
      "Fam_support[T.yes]:country[T.Trinidad]     0.0754      0.321      0.235      0.814      -0.554       0.705\n",
      "==========================================================================================================\n"
     ]
    }
   ],
   "source": [
    "model = sm.formula.glm(formula='''sexphys ~ Fam_support + country + Fam_support:country''',\n",
    "                       family=sm.families.Binomial(), data=X_train_labeled.join(y_train)).fit()\n",
    "print(model.summary())"
   ]
  },
  {
   "cell_type": "code",
   "execution_count": null,
   "metadata": {},
   "outputs": [],
   "source": []
  },
  {
   "cell_type": "code",
   "execution_count": null,
   "metadata": {},
   "outputs": [],
   "source": []
  },
  {
   "cell_type": "code",
   "execution_count": 35,
   "metadata": {},
   "outputs": [],
   "source": [
    "### Might need to create a function with a for loop (arguments will be a list of nominal variables and the dataframe)\n",
    "\n",
    "X_train_reduced['edresp'] = X_train_reduced['edresp'].astype('category')\n",
    "X_train_reduced['EP3'] = X_train_reduced['EP3'].astype('category')\n",
    "X_train_reduced['SourceIncome'] = X_train_reduced['SourceIncome'].astype('category')\n",
    "X_train_reduced['country'] = X_train_reduced['country'].astype('category')\n",
    "X_train_reduced['earlymarriage'] = X_train_reduced['earlymarriage'].astype('category')"
   ]
  },
  {
   "cell_type": "code",
   "execution_count": 36,
   "metadata": {},
   "outputs": [
    {
     "data": {
      "text/plain": [
       "earlymarriage    category\n",
       "Fam_support         int64\n",
       "country          category\n",
       "EP3              category\n",
       "SourceIncome     category\n",
       "edresp           category\n",
       "dtype: object"
      ]
     },
     "execution_count": 36,
     "metadata": {},
     "output_type": "execute_result"
    }
   ],
   "source": [
    "#X_train_reduced.dtypes\n",
    "#X_train_reduced.head()\n"
   ]
  },
  {
   "cell_type": "code",
   "execution_count": 74,
   "metadata": {},
   "outputs": [],
   "source": [
    "#X_train_reduced['edresp'].multiply(X_train_reduced['country'])"
   ]
  },
  {
   "cell_type": "code",
   "execution_count": 37,
   "metadata": {},
   "outputs": [],
   "source": [
    "X_train_dummies = pd.get_dummies(X_train_reduced)"
   ]
  },
  {
   "cell_type": "code",
   "execution_count": 38,
   "metadata": {},
   "outputs": [
    {
     "data": {
      "text/html": [
       "<div>\n",
       "<style scoped>\n",
       "    .dataframe tbody tr th:only-of-type {\n",
       "        vertical-align: middle;\n",
       "    }\n",
       "\n",
       "    .dataframe tbody tr th {\n",
       "        vertical-align: top;\n",
       "    }\n",
       "\n",
       "    .dataframe thead th {\n",
       "        text-align: right;\n",
       "    }\n",
       "</style>\n",
       "<table border=\"1\" class=\"dataframe\">\n",
       "  <thead>\n",
       "    <tr style=\"text-align: right;\">\n",
       "      <th></th>\n",
       "      <th>Fam_support</th>\n",
       "      <th>earlymarriage_0</th>\n",
       "      <th>earlymarriage_1</th>\n",
       "      <th>earlymarriage_9</th>\n",
       "      <th>country_1</th>\n",
       "      <th>country_2</th>\n",
       "      <th>country_3</th>\n",
       "      <th>country_4</th>\n",
       "      <th>EP3_1</th>\n",
       "      <th>EP3_2</th>\n",
       "      <th>EP3_3</th>\n",
       "      <th>EP3_4</th>\n",
       "      <th>SourceIncome_1</th>\n",
       "      <th>SourceIncome_2</th>\n",
       "      <th>SourceIncome_3</th>\n",
       "      <th>SourceIncome_4</th>\n",
       "      <th>SourceIncome_5</th>\n",
       "      <th>edresp_1</th>\n",
       "      <th>edresp_2</th>\n",
       "      <th>edresp_3</th>\n",
       "    </tr>\n",
       "  </thead>\n",
       "  <tbody>\n",
       "    <tr>\n",
       "      <th>995</th>\n",
       "      <td>0</td>\n",
       "      <td>0</td>\n",
       "      <td>1</td>\n",
       "      <td>0</td>\n",
       "      <td>1</td>\n",
       "      <td>0</td>\n",
       "      <td>0</td>\n",
       "      <td>0</td>\n",
       "      <td>0</td>\n",
       "      <td>1</td>\n",
       "      <td>0</td>\n",
       "      <td>0</td>\n",
       "      <td>0</td>\n",
       "      <td>0</td>\n",
       "      <td>0</td>\n",
       "      <td>0</td>\n",
       "      <td>1</td>\n",
       "      <td>1</td>\n",
       "      <td>0</td>\n",
       "      <td>0</td>\n",
       "    </tr>\n",
       "    <tr>\n",
       "      <th>962</th>\n",
       "      <td>1</td>\n",
       "      <td>1</td>\n",
       "      <td>0</td>\n",
       "      <td>0</td>\n",
       "      <td>1</td>\n",
       "      <td>0</td>\n",
       "      <td>0</td>\n",
       "      <td>0</td>\n",
       "      <td>1</td>\n",
       "      <td>0</td>\n",
       "      <td>0</td>\n",
       "      <td>0</td>\n",
       "      <td>0</td>\n",
       "      <td>0</td>\n",
       "      <td>0</td>\n",
       "      <td>1</td>\n",
       "      <td>0</td>\n",
       "      <td>0</td>\n",
       "      <td>1</td>\n",
       "      <td>0</td>\n",
       "    </tr>\n",
       "    <tr>\n",
       "      <th>998</th>\n",
       "      <td>1</td>\n",
       "      <td>1</td>\n",
       "      <td>0</td>\n",
       "      <td>0</td>\n",
       "      <td>1</td>\n",
       "      <td>0</td>\n",
       "      <td>0</td>\n",
       "      <td>0</td>\n",
       "      <td>0</td>\n",
       "      <td>1</td>\n",
       "      <td>0</td>\n",
       "      <td>0</td>\n",
       "      <td>0</td>\n",
       "      <td>0</td>\n",
       "      <td>0</td>\n",
       "      <td>1</td>\n",
       "      <td>0</td>\n",
       "      <td>1</td>\n",
       "      <td>0</td>\n",
       "      <td>0</td>\n",
       "    </tr>\n",
       "    <tr>\n",
       "      <th>639</th>\n",
       "      <td>1</td>\n",
       "      <td>0</td>\n",
       "      <td>0</td>\n",
       "      <td>1</td>\n",
       "      <td>1</td>\n",
       "      <td>0</td>\n",
       "      <td>0</td>\n",
       "      <td>0</td>\n",
       "      <td>0</td>\n",
       "      <td>0</td>\n",
       "      <td>0</td>\n",
       "      <td>1</td>\n",
       "      <td>0</td>\n",
       "      <td>0</td>\n",
       "      <td>0</td>\n",
       "      <td>0</td>\n",
       "      <td>1</td>\n",
       "      <td>0</td>\n",
       "      <td>1</td>\n",
       "      <td>0</td>\n",
       "    </tr>\n",
       "    <tr>\n",
       "      <th>932</th>\n",
       "      <td>1</td>\n",
       "      <td>1</td>\n",
       "      <td>0</td>\n",
       "      <td>0</td>\n",
       "      <td>1</td>\n",
       "      <td>0</td>\n",
       "      <td>0</td>\n",
       "      <td>0</td>\n",
       "      <td>0</td>\n",
       "      <td>0</td>\n",
       "      <td>0</td>\n",
       "      <td>1</td>\n",
       "      <td>0</td>\n",
       "      <td>0</td>\n",
       "      <td>0</td>\n",
       "      <td>0</td>\n",
       "      <td>1</td>\n",
       "      <td>0</td>\n",
       "      <td>1</td>\n",
       "      <td>0</td>\n",
       "    </tr>\n",
       "  </tbody>\n",
       "</table>\n",
       "</div>"
      ],
      "text/plain": [
       "     Fam_support  earlymarriage_0  earlymarriage_1  earlymarriage_9  \\\n",
       "995            0                0                1                0   \n",
       "962            1                1                0                0   \n",
       "998            1                1                0                0   \n",
       "639            1                0                0                1   \n",
       "932            1                1                0                0   \n",
       "\n",
       "     country_1  country_2  country_3  country_4  EP3_1  EP3_2  EP3_3  EP3_4  \\\n",
       "995          1          0          0          0      0      1      0      0   \n",
       "962          1          0          0          0      1      0      0      0   \n",
       "998          1          0          0          0      0      1      0      0   \n",
       "639          1          0          0          0      0      0      0      1   \n",
       "932          1          0          0          0      0      0      0      1   \n",
       "\n",
       "     SourceIncome_1  SourceIncome_2  SourceIncome_3  SourceIncome_4  \\\n",
       "995               0               0               0               0   \n",
       "962               0               0               0               1   \n",
       "998               0               0               0               1   \n",
       "639               0               0               0               0   \n",
       "932               0               0               0               0   \n",
       "\n",
       "     SourceIncome_5  edresp_1  edresp_2  edresp_3  \n",
       "995               1         1         0         0  \n",
       "962               0         0         1         0  \n",
       "998               0         1         0         0  \n",
       "639               1         0         1         0  \n",
       "932               1         0         1         0  "
      ]
     },
     "execution_count": 38,
     "metadata": {},
     "output_type": "execute_result"
    }
   ],
   "source": [
    "X_train_dummies.head()"
   ]
  },
  {
   "cell_type": "code",
   "execution_count": 89,
   "metadata": {},
   "outputs": [
    {
     "data": {
      "text/plain": [
       "array([870, 604], dtype=int64)"
      ]
     },
     "execution_count": 89,
     "metadata": {},
     "output_type": "execute_result"
    }
   ],
   "source": [
    "np.dot(X_train_dummies.iloc[:, 0:2], (X_train_dummies['country_1']))"
   ]
  },
  {
   "cell_type": "code",
   "execution_count": 90,
   "metadata": {},
   "outputs": [
    {
     "data": {
      "text/plain": [
       "(3364, 2)"
      ]
     },
     "execution_count": 90,
     "metadata": {},
     "output_type": "execute_result"
    }
   ],
   "source": [
    "X_train_dummies.iloc[:, 0:2].shape"
   ]
  },
  {
   "cell_type": "code",
   "execution_count": null,
   "metadata": {},
   "outputs": [],
   "source": []
  },
  {
   "cell_type": "raw",
   "metadata": {},
   "source": [
    "import matplotlib.pyplot as plt\n",
    "#X_train_dummies.corr()\n",
    "#plt.matshow(X_train_dummies.corr())\n",
    "#plt.show()"
   ]
  },
  {
   "cell_type": "markdown",
   "metadata": {},
   "source": [
    "### Using chi2 feature selection on the dummies"
   ]
  },
  {
   "cell_type": "code",
   "execution_count": 93,
   "metadata": {},
   "outputs": [],
   "source": [
    "#chi2 test: all the features with the target variable\n",
    "from sklearn.feature_selection import chi2"
   ]
  },
  {
   "cell_type": "code",
   "execution_count": 94,
   "metadata": {},
   "outputs": [],
   "source": [
    "\n",
    "def chi2_selection(df_X, df_y):\n",
    "    \"To add commments\"\n",
    "    df_chi2 = chi2(df_X, df_y)\n",
    "\n",
    "    # Convert the chi2 tests into one-dimensional 1darray with corresponding df column names as axis labels\n",
    "    f_chi2 = pd.Series(df_chi2[1], df_X.columns)\n",
    "\n",
    "    # Sort the array in ascending order of the pvalues\n",
    "    f_chi2.sort_values(ascending=True, inplace=True)\n",
    "\n",
    "    # Select the significant features \n",
    "    sign_chi2 = f_chi2[f_chi2<=0.05]\n",
    "\n",
    "    print(sign_chi2.shape)\n",
    "    return sign_chi2"
   ]
  },
  {
   "cell_type": "code",
   "execution_count": 96,
   "metadata": {},
   "outputs": [
    {
     "name": "stdout",
     "output_type": "stream",
     "text": [
      "(10,)\n"
     ]
    }
   ],
   "source": [
    "result_chi2 = chi2_selection(X_train_dummies, y_train)"
   ]
  },
  {
   "cell_type": "code",
   "execution_count": 133,
   "metadata": {},
   "outputs": [
    {
     "data": {
      "text/plain": [
       "['earlymarriage_1',\n",
       " 'EP3_1',\n",
       " 'SourceIncome_3',\n",
       " 'country_1',\n",
       " 'earlymarriage_0',\n",
       " 'SourceIncome_2',\n",
       " 'country_2',\n",
       " 'EP3_4',\n",
       " 'Fam_support',\n",
       " 'edresp_1']"
      ]
     },
     "execution_count": 133,
     "metadata": {},
     "output_type": "execute_result"
    }
   ],
   "source": [
    "list(result_chi2.keys())"
   ]
  },
  {
   "cell_type": "code",
   "execution_count": null,
   "metadata": {},
   "outputs": [],
   "source": [
    "colm = list(X_train_dummies.columns)"
   ]
  },
  {
   "cell_type": "code",
   "execution_count": 187,
   "metadata": {},
   "outputs": [],
   "source": [
    "#colm = list(result_chi2.keys())\n",
    "colm.remove('country_1')\n",
    "colm.remove('country_2')\n",
    "#colm.remove('country_3')\n",
    "#colm.remove('country_4')"
   ]
  },
  {
   "cell_type": "code",
   "execution_count": null,
   "metadata": {},
   "outputs": [],
   "source": [
    "X_train_dummies.head()\n",
    "#X_train_dummies[elem1]*X_train_dummies['country_1']"
   ]
  },
  {
   "cell_type": "code",
   "execution_count": 195,
   "metadata": {},
   "outputs": [
    {
     "name": "stdout",
     "output_type": "stream",
     "text": [
      "Fam_support ----- (array([2.12017853]), array([0.1453696]))\n",
      "earlymarriage_0 ----- (array([1.05757166]), array([0.30376969]))\n",
      "earlymarriage_1 ----- (array([28.27596977]), array([1.05193798e-07]))\n",
      "earlymarriage_9 ----- (array([4.41782408]), array([0.03556536]))\n",
      "country_1 ----- (array([10.37598965]), array([0.00127665]))\n",
      "country_2 ----- (array([nan]), array([nan]))\n",
      "country_3 ----- (array([nan]), array([nan]))\n",
      "country_4 ----- (array([nan]), array([nan]))\n",
      "EP3_1 ----- (array([0.03949059]), array([0.84247991]))\n",
      "EP3_2 ----- (array([13.69661174]), array([0.00021484]))\n",
      "EP3_3 ----- (array([0.02216657]), array([0.88164485]))\n",
      "EP3_4 ----- (array([6.97814474]), array([0.00825111]))\n",
      "SourceIncome_1 ----- (array([0.42835378]), array([0.51279783]))\n",
      "SourceIncome_2 ----- (array([11.94228285]), array([0.00054874]))\n",
      "SourceIncome_3 ----- (array([0.4253196]), array([0.51429453]))\n",
      "SourceIncome_4 ----- (array([5.22982846]), array([0.02220272]))\n",
      "SourceIncome_5 ----- (array([2.30828515]), array([0.12868595]))\n",
      "edresp_1 ----- (array([11.4493045]), array([0.00071521]))\n",
      "edresp_2 ----- (array([2.53679723]), array([0.11122018]))\n",
      "edresp_3 ----- (array([0.63419931]), array([0.42581915]))\n"
     ]
    }
   ],
   "source": [
    "for elem1 in colm:\n",
    "    test = (X_train_dummies[elem1]*X_train_dummies['country_1'])\n",
    "    res = chi2(test.values.reshape(-1, 1), y_train.values)\n",
    "    #if res[1] <= 0:\n",
    "    print(elem1, '-----', res)\n",
    "    "
   ]
  },
  {
   "cell_type": "code",
   "execution_count": null,
   "metadata": {},
   "outputs": [],
   "source": [
    "np.zero(1)"
   ]
  },
  {
   "cell_type": "code",
   "execution_count": 200,
   "metadata": {},
   "outputs": [],
   "source": [
    "import numpy as np"
   ]
  },
  {
   "cell_type": "code",
   "execution_count": 165,
   "metadata": {},
   "outputs": [],
   "source": [
    "test1 = (X_train_dummies['earlymarriage_0']*X_train_dummies['country_1'])"
   ]
  },
  {
   "cell_type": "code",
   "execution_count": null,
   "metadata": {},
   "outputs": [],
   "source": []
  },
  {
   "cell_type": "code",
   "execution_count": 176,
   "metadata": {},
   "outputs": [
    {
     "data": {
      "text/plain": [
       "array([False])"
      ]
     },
     "execution_count": 176,
     "metadata": {},
     "output_type": "execute_result"
    }
   ],
   "source": [
    "chi2(test1.values.reshape(-1, 1), y_train.values)[1] <= 0.0"
   ]
  },
  {
   "cell_type": "code",
   "execution_count": 147,
   "metadata": {},
   "outputs": [
    {
     "data": {
      "text/plain": [
       "(3364, 20)"
      ]
     },
     "execution_count": 147,
     "metadata": {},
     "output_type": "execute_result"
    }
   ],
   "source": [
    "X_train_dummies.shape"
   ]
  },
  {
   "cell_type": "raw",
   "metadata": {},
   "source": [
    "cols = list(X_train_dummies.columns)\n",
    "print(cols)"
   ]
  },
  {
   "cell_type": "raw",
   "metadata": {},
   "source": [
    "' + '.join(cols)"
   ]
  },
  {
   "cell_type": "code",
   "execution_count": 119,
   "metadata": {},
   "outputs": [],
   "source": [
    "#cols[0]+cols[1]"
   ]
  },
  {
   "cell_type": "raw",
   "metadata": {},
   "source": [
    "model = sm.formula.glm(formula='''sexphys ~ Fam_support + earlymarriage_0 + earlymarriage_1 + earlymarriage_9 + country_1 + country_2 + country_3 + country_4 + EP3_1 + EP3_2 + EP3_3 + EP3_4 + SourceIncome_1 + SourceIncome_2 + SourceIncome_3 + SourceIncome_4 + SourceIncome_5 + edresp_1 + edresp_2 + edresp_3''',\n",
    "                       family=sm.families.Binomial(), data=X_train_dummies.join(y_train)).fit()\n",
    "model.summary()"
   ]
  },
  {
   "cell_type": "code",
   "execution_count": null,
   "metadata": {},
   "outputs": [],
   "source": []
  },
  {
   "cell_type": "code",
   "execution_count": 167,
   "metadata": {},
   "outputs": [
    {
     "data": {
      "text/html": [
       "<table class=\"simpletable\">\n",
       "<caption>Generalized Linear Model Regression Results</caption>\n",
       "<tr>\n",
       "  <th>Dep. Variable:</th>       <td>sexphys</td>     <th>  No. Observations:  </th>  <td>  3364</td>  \n",
       "</tr>\n",
       "<tr>\n",
       "  <th>Model:</th>                 <td>GLM</td>       <th>  Df Residuals:      </th>  <td>  3337</td>  \n",
       "</tr>\n",
       "<tr>\n",
       "  <th>Model Family:</th>       <td>Binomial</td>     <th>  Df Model:          </th>  <td>    26</td>  \n",
       "</tr>\n",
       "<tr>\n",
       "  <th>Link Function:</th>        <td>logit</td>      <th>  Scale:             </th> <td>  1.0000</td> \n",
       "</tr>\n",
       "<tr>\n",
       "  <th>Method:</th>               <td>IRLS</td>       <th>  Log-Likelihood:    </th> <td> -2041.9</td> \n",
       "</tr>\n",
       "<tr>\n",
       "  <th>Date:</th>           <td>Thu, 07 Mar 2019</td> <th>  Deviance:          </th> <td>  4083.7</td> \n",
       "</tr>\n",
       "<tr>\n",
       "  <th>Time:</th>               <td>15:32:06</td>     <th>  Pearson chi2:      </th> <td>3.36e+03</td> \n",
       "</tr>\n",
       "<tr>\n",
       "  <th>No. Iterations:</th>         <td>4</td>        <th>  Covariance Type:   </th> <td>nonrobust</td>\n",
       "</tr>\n",
       "</table>\n",
       "<table class=\"simpletable\">\n",
       "<tr>\n",
       "              <td></td>                 <th>coef</th>     <th>std err</th>      <th>z</th>      <th>P>|z|</th>  <th>[0.025</th>    <th>0.975]</th>  \n",
       "</tr>\n",
       "<tr>\n",
       "  <th>Intercept</th>                 <td>   -0.0785</td> <td>    0.163</td> <td>   -0.481</td> <td> 0.631</td> <td>   -0.399</td> <td>    0.242</td>\n",
       "</tr>\n",
       "<tr>\n",
       "  <th>earlymarriage_1</th>           <td>    0.8859</td> <td>    0.241</td> <td>    3.682</td> <td> 0.000</td> <td>    0.414</td> <td>    1.357</td>\n",
       "</tr>\n",
       "<tr>\n",
       "  <th>EP3_1</th>                     <td>   -0.7835</td> <td>    0.245</td> <td>   -3.204</td> <td> 0.001</td> <td>   -1.263</td> <td>   -0.304</td>\n",
       "</tr>\n",
       "<tr>\n",
       "  <th>SourceIncome_3</th>            <td>   -0.1475</td> <td>    0.137</td> <td>   -1.074</td> <td> 0.283</td> <td>   -0.417</td> <td>    0.122</td>\n",
       "</tr>\n",
       "<tr>\n",
       "  <th>country_1</th>                 <td>   -0.8927</td> <td>    0.447</td> <td>   -1.997</td> <td> 0.046</td> <td>   -1.769</td> <td>   -0.017</td>\n",
       "</tr>\n",
       "<tr>\n",
       "  <th>earlymarriage_0</th>           <td>    0.3367</td> <td>    0.219</td> <td>    1.541</td> <td> 0.123</td> <td>   -0.092</td> <td>    0.765</td>\n",
       "</tr>\n",
       "<tr>\n",
       "  <th>SourceIncome_2</th>            <td>    0.2338</td> <td>    0.129</td> <td>    1.814</td> <td> 0.070</td> <td>   -0.019</td> <td>    0.486</td>\n",
       "</tr>\n",
       "<tr>\n",
       "  <th>country_2</th>                 <td>   -1.0204</td> <td>    0.309</td> <td>   -3.303</td> <td> 0.001</td> <td>   -1.626</td> <td>   -0.415</td>\n",
       "</tr>\n",
       "<tr>\n",
       "  <th>EP3_4</th>                     <td>    0.0384</td> <td>    0.165</td> <td>    0.233</td> <td> 0.816</td> <td>   -0.285</td> <td>    0.361</td>\n",
       "</tr>\n",
       "<tr>\n",
       "  <th>Fam_support</th>               <td>   -0.6960</td> <td>    0.136</td> <td>   -5.099</td> <td> 0.000</td> <td>   -0.963</td> <td>   -0.428</td>\n",
       "</tr>\n",
       "<tr>\n",
       "  <th>edresp_1</th>                  <td>   -0.1399</td> <td>    0.138</td> <td>   -1.012</td> <td> 0.312</td> <td>   -0.411</td> <td>    0.131</td>\n",
       "</tr>\n",
       "<tr>\n",
       "  <th>earlymarriage_1:country_1</th> <td>    0.8269</td> <td>    0.441</td> <td>    1.877</td> <td> 0.060</td> <td>   -0.036</td> <td>    1.690</td>\n",
       "</tr>\n",
       "<tr>\n",
       "  <th>EP3_1:country_1</th>           <td>    0.4986</td> <td>    0.290</td> <td>    1.721</td> <td> 0.085</td> <td>   -0.069</td> <td>    1.066</td>\n",
       "</tr>\n",
       "<tr>\n",
       "  <th>SourceIncome_3:country_1</th>  <td>   -0.0574</td> <td>    0.236</td> <td>   -0.243</td> <td> 0.808</td> <td>   -0.520</td> <td>    0.406</td>\n",
       "</tr>\n",
       "<tr>\n",
       "  <th>earlymarriage_0:country_1</th> <td>    0.9407</td> <td>    0.420</td> <td>    2.239</td> <td> 0.025</td> <td>    0.117</td> <td>    1.764</td>\n",
       "</tr>\n",
       "<tr>\n",
       "  <th>SourceIncome_2:country_1</th>  <td>   -0.0235</td> <td>    0.222</td> <td>   -0.106</td> <td> 0.916</td> <td>   -0.458</td> <td>    0.411</td>\n",
       "</tr>\n",
       "<tr>\n",
       "  <th>EP3_4:country_1</th>           <td>    0.3225</td> <td>    0.276</td> <td>    1.167</td> <td> 0.243</td> <td>   -0.219</td> <td>    0.864</td>\n",
       "</tr>\n",
       "<tr>\n",
       "  <th>Fam_support:country_1</th>     <td>   -0.2562</td> <td>    0.258</td> <td>   -0.993</td> <td> 0.321</td> <td>   -0.762</td> <td>    0.250</td>\n",
       "</tr>\n",
       "<tr>\n",
       "  <th>edresp_1:country_1</th>        <td>    0.2397</td> <td>    0.213</td> <td>    1.126</td> <td> 0.260</td> <td>   -0.178</td> <td>    0.657</td>\n",
       "</tr>\n",
       "<tr>\n",
       "  <th>earlymarriage_1:country_2</th> <td>    0.2065</td> <td>    0.376</td> <td>    0.549</td> <td> 0.583</td> <td>   -0.531</td> <td>    0.944</td>\n",
       "</tr>\n",
       "<tr>\n",
       "  <th>EP3_1:country_2</th>           <td>    0.7424</td> <td>    0.349</td> <td>    2.129</td> <td> 0.033</td> <td>    0.059</td> <td>    1.426</td>\n",
       "</tr>\n",
       "<tr>\n",
       "  <th>SourceIncome_3:country_2</th>  <td>    0.1089</td> <td>    0.300</td> <td>    0.363</td> <td> 0.717</td> <td>   -0.479</td> <td>    0.697</td>\n",
       "</tr>\n",
       "<tr>\n",
       "  <th>earlymarriage_0:country_2</th> <td>   -0.2359</td> <td>    0.314</td> <td>   -0.751</td> <td> 0.452</td> <td>   -0.851</td> <td>    0.379</td>\n",
       "</tr>\n",
       "<tr>\n",
       "  <th>SourceIncome_2:country_2</th>  <td>    0.0760</td> <td>    0.260</td> <td>    0.292</td> <td> 0.770</td> <td>   -0.434</td> <td>    0.586</td>\n",
       "</tr>\n",
       "<tr>\n",
       "  <th>EP3_4:country_2</th>           <td>   -0.2209</td> <td>    0.280</td> <td>   -0.788</td> <td> 0.430</td> <td>   -0.770</td> <td>    0.328</td>\n",
       "</tr>\n",
       "<tr>\n",
       "  <th>Fam_support:country_2</th>     <td>    0.5279</td> <td>    0.235</td> <td>    2.250</td> <td> 0.024</td> <td>    0.068</td> <td>    0.988</td>\n",
       "</tr>\n",
       "<tr>\n",
       "  <th>edresp_1:country_2</th>        <td>    0.3412</td> <td>    0.310</td> <td>    1.101</td> <td> 0.271</td> <td>   -0.266</td> <td>    0.948</td>\n",
       "</tr>\n",
       "</table>"
      ],
      "text/plain": [
       "<class 'statsmodels.iolib.summary.Summary'>\n",
       "\"\"\"\n",
       "                 Generalized Linear Model Regression Results                  \n",
       "==============================================================================\n",
       "Dep. Variable:                sexphys   No. Observations:                 3364\n",
       "Model:                            GLM   Df Residuals:                     3337\n",
       "Model Family:                Binomial   Df Model:                           26\n",
       "Link Function:                  logit   Scale:                          1.0000\n",
       "Method:                          IRLS   Log-Likelihood:                -2041.9\n",
       "Date:                Thu, 07 Mar 2019   Deviance:                       4083.7\n",
       "Time:                        15:32:06   Pearson chi2:                 3.36e+03\n",
       "No. Iterations:                     4   Covariance Type:             nonrobust\n",
       "=============================================================================================\n",
       "                                coef    std err          z      P>|z|      [0.025      0.975]\n",
       "---------------------------------------------------------------------------------------------\n",
       "Intercept                    -0.0785      0.163     -0.481      0.631      -0.399       0.242\n",
       "earlymarriage_1               0.8859      0.241      3.682      0.000       0.414       1.357\n",
       "EP3_1                        -0.7835      0.245     -3.204      0.001      -1.263      -0.304\n",
       "SourceIncome_3               -0.1475      0.137     -1.074      0.283      -0.417       0.122\n",
       "country_1                    -0.8927      0.447     -1.997      0.046      -1.769      -0.017\n",
       "earlymarriage_0               0.3367      0.219      1.541      0.123      -0.092       0.765\n",
       "SourceIncome_2                0.2338      0.129      1.814      0.070      -0.019       0.486\n",
       "country_2                    -1.0204      0.309     -3.303      0.001      -1.626      -0.415\n",
       "EP3_4                         0.0384      0.165      0.233      0.816      -0.285       0.361\n",
       "Fam_support                  -0.6960      0.136     -5.099      0.000      -0.963      -0.428\n",
       "edresp_1                     -0.1399      0.138     -1.012      0.312      -0.411       0.131\n",
       "earlymarriage_1:country_1     0.8269      0.441      1.877      0.060      -0.036       1.690\n",
       "EP3_1:country_1               0.4986      0.290      1.721      0.085      -0.069       1.066\n",
       "SourceIncome_3:country_1     -0.0574      0.236     -0.243      0.808      -0.520       0.406\n",
       "earlymarriage_0:country_1     0.9407      0.420      2.239      0.025       0.117       1.764\n",
       "SourceIncome_2:country_1     -0.0235      0.222     -0.106      0.916      -0.458       0.411\n",
       "EP3_4:country_1               0.3225      0.276      1.167      0.243      -0.219       0.864\n",
       "Fam_support:country_1        -0.2562      0.258     -0.993      0.321      -0.762       0.250\n",
       "edresp_1:country_1            0.2397      0.213      1.126      0.260      -0.178       0.657\n",
       "earlymarriage_1:country_2     0.2065      0.376      0.549      0.583      -0.531       0.944\n",
       "EP3_1:country_2               0.7424      0.349      2.129      0.033       0.059       1.426\n",
       "SourceIncome_3:country_2      0.1089      0.300      0.363      0.717      -0.479       0.697\n",
       "earlymarriage_0:country_2    -0.2359      0.314     -0.751      0.452      -0.851       0.379\n",
       "SourceIncome_2:country_2      0.0760      0.260      0.292      0.770      -0.434       0.586\n",
       "EP3_4:country_2              -0.2209      0.280     -0.788      0.430      -0.770       0.328\n",
       "Fam_support:country_2         0.5279      0.235      2.250      0.024       0.068       0.988\n",
       "edresp_1:country_2            0.3412      0.310      1.101      0.271      -0.266       0.948\n",
       "=============================================================================================\n",
       "\"\"\""
      ]
     },
     "execution_count": 167,
     "metadata": {},
     "output_type": "execute_result"
    }
   ],
   "source": [
    "model = sm.formula.glm(formula='''sexphys ~ earlymarriage_1 + EP3_1 + SourceIncome_3 + country_1 +\n",
    "       earlymarriage_0 + SourceIncome_2 + country_2 + EP3_4 + Fam_support + edresp_1 + \n",
    "       earlymarriage_1:country_1 + EP3_1:country_1 + SourceIncome_3:country_1 +\n",
    "       earlymarriage_0:country_1 + SourceIncome_2:country_1 + EP3_4:country_1 + Fam_support:country_1 + edresp_1:country_1 +\n",
    "       earlymarriage_1:country_2 + EP3_1:country_2 + SourceIncome_3:country_2 +\n",
    "       earlymarriage_0:country_2 + SourceIncome_2:country_2 + EP3_4:country_2 + Fam_support:country_2 + edresp_1:country_2''',\n",
    "                       family=sm.families.Binomial(), data=X_train_dummies[list(result_chi2.keys())].join(y_train)).fit()\n",
    "model.summary()"
   ]
  },
  {
   "cell_type": "code",
   "execution_count": 107,
   "metadata": {},
   "outputs": [
    {
     "data": {
      "text/html": [
       "<table class=\"simpletable\">\n",
       "<caption>Generalized Linear Model Regression Results</caption>\n",
       "<tr>\n",
       "  <th>Dep. Variable:</th>       <td>sexphys</td>     <th>  No. Observations:  </th>  <td>  3364</td>  \n",
       "</tr>\n",
       "<tr>\n",
       "  <th>Model:</th>                 <td>GLM</td>       <th>  Df Residuals:      </th>  <td>  3353</td>  \n",
       "</tr>\n",
       "<tr>\n",
       "  <th>Model Family:</th>       <td>Binomial</td>     <th>  Df Model:          </th>  <td>    10</td>  \n",
       "</tr>\n",
       "<tr>\n",
       "  <th>Link Function:</th>        <td>logit</td>      <th>  Scale:             </th> <td>  1.0000</td> \n",
       "</tr>\n",
       "<tr>\n",
       "  <th>Method:</th>               <td>IRLS</td>       <th>  Log-Likelihood:    </th> <td> -2059.3</td> \n",
       "</tr>\n",
       "<tr>\n",
       "  <th>Date:</th>           <td>Thu, 07 Mar 2019</td> <th>  Deviance:          </th> <td>  4118.6</td> \n",
       "</tr>\n",
       "<tr>\n",
       "  <th>Time:</th>               <td>13:18:14</td>     <th>  Pearson chi2:      </th> <td>3.37e+03</td> \n",
       "</tr>\n",
       "<tr>\n",
       "  <th>No. Iterations:</th>         <td>4</td>        <th>  Covariance Type:   </th> <td>nonrobust</td>\n",
       "</tr>\n",
       "</table>\n",
       "<table class=\"simpletable\">\n",
       "<tr>\n",
       "         <td></td>            <th>coef</th>     <th>std err</th>      <th>z</th>      <th>P>|z|</th>  <th>[0.025</th>    <th>0.975]</th>  \n",
       "</tr>\n",
       "<tr>\n",
       "  <th>Intercept</th>       <td>   -0.2649</td> <td>    0.126</td> <td>   -2.110</td> <td> 0.035</td> <td>   -0.511</td> <td>   -0.019</td>\n",
       "</tr>\n",
       "<tr>\n",
       "  <th>earlymarriage_1</th> <td>    0.7747</td> <td>    0.130</td> <td>    5.947</td> <td> 0.000</td> <td>    0.519</td> <td>    1.030</td>\n",
       "</tr>\n",
       "<tr>\n",
       "  <th>EP3_1</th>           <td>   -0.4759</td> <td>    0.109</td> <td>   -4.347</td> <td> 0.000</td> <td>   -0.690</td> <td>   -0.261</td>\n",
       "</tr>\n",
       "<tr>\n",
       "  <th>SourceIncome_3</th>  <td>   -0.1551</td> <td>    0.100</td> <td>   -1.556</td> <td> 0.120</td> <td>   -0.350</td> <td>    0.040</td>\n",
       "</tr>\n",
       "<tr>\n",
       "  <th>country_1</th>       <td>    0.0929</td> <td>    0.098</td> <td>    0.952</td> <td> 0.341</td> <td>   -0.098</td> <td>    0.284</td>\n",
       "</tr>\n",
       "<tr>\n",
       "  <th>earlymarriage_0</th> <td>    0.2296</td> <td>    0.115</td> <td>    1.997</td> <td> 0.046</td> <td>    0.004</td> <td>    0.455</td>\n",
       "</tr>\n",
       "<tr>\n",
       "  <th>SourceIncome_2</th>  <td>    0.2626</td> <td>    0.092</td> <td>    2.855</td> <td> 0.004</td> <td>    0.082</td> <td>    0.443</td>\n",
       "</tr>\n",
       "<tr>\n",
       "  <th>country_2</th>       <td>   -0.4401</td> <td>    0.109</td> <td>   -4.024</td> <td> 0.000</td> <td>   -0.654</td> <td>   -0.226</td>\n",
       "</tr>\n",
       "<tr>\n",
       "  <th>EP3_4</th>           <td>    0.0073</td> <td>    0.103</td> <td>    0.071</td> <td> 0.944</td> <td>   -0.194</td> <td>    0.209</td>\n",
       "</tr>\n",
       "<tr>\n",
       "  <th>Fam_support</th>     <td>   -0.6112</td> <td>    0.097</td> <td>   -6.274</td> <td> 0.000</td> <td>   -0.802</td> <td>   -0.420</td>\n",
       "</tr>\n",
       "<tr>\n",
       "  <th>edresp_1</th>        <td>    0.0281</td> <td>    0.097</td> <td>    0.290</td> <td> 0.772</td> <td>   -0.162</td> <td>    0.218</td>\n",
       "</tr>\n",
       "</table>"
      ],
      "text/plain": [
       "<class 'statsmodels.iolib.summary.Summary'>\n",
       "\"\"\"\n",
       "                 Generalized Linear Model Regression Results                  \n",
       "==============================================================================\n",
       "Dep. Variable:                sexphys   No. Observations:                 3364\n",
       "Model:                            GLM   Df Residuals:                     3353\n",
       "Model Family:                Binomial   Df Model:                           10\n",
       "Link Function:                  logit   Scale:                          1.0000\n",
       "Method:                          IRLS   Log-Likelihood:                -2059.3\n",
       "Date:                Thu, 07 Mar 2019   Deviance:                       4118.6\n",
       "Time:                        13:18:14   Pearson chi2:                 3.37e+03\n",
       "No. Iterations:                     4   Covariance Type:             nonrobust\n",
       "===================================================================================\n",
       "                      coef    std err          z      P>|z|      [0.025      0.975]\n",
       "-----------------------------------------------------------------------------------\n",
       "Intercept          -0.2649      0.126     -2.110      0.035      -0.511      -0.019\n",
       "earlymarriage_1     0.7747      0.130      5.947      0.000       0.519       1.030\n",
       "EP3_1              -0.4759      0.109     -4.347      0.000      -0.690      -0.261\n",
       "SourceIncome_3     -0.1551      0.100     -1.556      0.120      -0.350       0.040\n",
       "country_1           0.0929      0.098      0.952      0.341      -0.098       0.284\n",
       "earlymarriage_0     0.2296      0.115      1.997      0.046       0.004       0.455\n",
       "SourceIncome_2      0.2626      0.092      2.855      0.004       0.082       0.443\n",
       "country_2          -0.4401      0.109     -4.024      0.000      -0.654      -0.226\n",
       "EP3_4               0.0073      0.103      0.071      0.944      -0.194       0.209\n",
       "Fam_support        -0.6112      0.097     -6.274      0.000      -0.802      -0.420\n",
       "edresp_1            0.0281      0.097      0.290      0.772      -0.162       0.218\n",
       "===================================================================================\n",
       "\"\"\""
      ]
     },
     "execution_count": 107,
     "metadata": {},
     "output_type": "execute_result"
    }
   ],
   "source": [
    "model = sm.formula.glm(formula='''sexphys ~ earlymarriage_1 + EP3_1 + SourceIncome_3 + country_1 +\n",
    "       earlymarriage_0 + SourceIncome_2 + country_2 + EP3_4 + Fam_support + edresp_1''',\n",
    "                       family=sm.families.Binomial(), data=X_train_dummies.join(y_train)).fit()\n",
    "model.summary()"
   ]
  },
  {
   "cell_type": "code",
   "execution_count": null,
   "metadata": {},
   "outputs": [],
   "source": []
  },
  {
   "cell_type": "code",
   "execution_count": null,
   "metadata": {},
   "outputs": [],
   "source": []
  },
  {
   "cell_type": "code",
   "execution_count": null,
   "metadata": {},
   "outputs": [],
   "source": []
  },
  {
   "cell_type": "code",
   "execution_count": 91,
   "metadata": {},
   "outputs": [
    {
     "data": {
      "text/html": [
       "<div>\n",
       "<style scoped>\n",
       "    .dataframe tbody tr th:only-of-type {\n",
       "        vertical-align: middle;\n",
       "    }\n",
       "\n",
       "    .dataframe tbody tr th {\n",
       "        vertical-align: top;\n",
       "    }\n",
       "\n",
       "    .dataframe thead th {\n",
       "        text-align: right;\n",
       "    }\n",
       "</style>\n",
       "<table border=\"1\" class=\"dataframe\">\n",
       "  <thead>\n",
       "    <tr style=\"text-align: right;\">\n",
       "      <th></th>\n",
       "      <th>variable</th>\n",
       "      <th>p_value</th>\n",
       "    </tr>\n",
       "  </thead>\n",
       "  <tbody>\n",
       "    <tr>\n",
       "      <th>0</th>\n",
       "      <td>Fam_support</td>\n",
       "      <td>3.542791e-09</td>\n",
       "    </tr>\n",
       "    <tr>\n",
       "      <th>1</th>\n",
       "      <td>country_1</td>\n",
       "      <td>1.566125e-04</td>\n",
       "    </tr>\n",
       "    <tr>\n",
       "      <th>2</th>\n",
       "      <td>country_2</td>\n",
       "      <td>1.735663e-03</td>\n",
       "    </tr>\n",
       "    <tr>\n",
       "      <th>5</th>\n",
       "      <td>EP3_1</td>\n",
       "      <td>1.033629e-05</td>\n",
       "    </tr>\n",
       "    <tr>\n",
       "      <th>6</th>\n",
       "      <td>EP3_2</td>\n",
       "      <td>3.991308e-02</td>\n",
       "    </tr>\n",
       "    <tr>\n",
       "      <th>8</th>\n",
       "      <td>EP3_4</td>\n",
       "      <td>4.039448e-03</td>\n",
       "    </tr>\n",
       "    <tr>\n",
       "      <th>9</th>\n",
       "      <td>earlymarriage_0</td>\n",
       "      <td>6.272383e-06</td>\n",
       "    </tr>\n",
       "    <tr>\n",
       "      <th>10</th>\n",
       "      <td>earlymarriage_1</td>\n",
       "      <td>8.230953e-12</td>\n",
       "    </tr>\n",
       "    <tr>\n",
       "      <th>12</th>\n",
       "      <td>edresp_1</td>\n",
       "      <td>2.052745e-02</td>\n",
       "    </tr>\n",
       "    <tr>\n",
       "      <th>14</th>\n",
       "      <td>edresp_3</td>\n",
       "      <td>4.600433e-02</td>\n",
       "    </tr>\n",
       "    <tr>\n",
       "      <th>16</th>\n",
       "      <td>SourceIncome_2</td>\n",
       "      <td>3.856812e-04</td>\n",
       "    </tr>\n",
       "    <tr>\n",
       "      <th>17</th>\n",
       "      <td>SourceIncome_3</td>\n",
       "      <td>1.972849e-04</td>\n",
       "    </tr>\n",
       "  </tbody>\n",
       "</table>\n",
       "</div>"
      ],
      "text/plain": [
       "           variable       p_value\n",
       "0       Fam_support  3.542791e-09\n",
       "1         country_1  1.566125e-04\n",
       "2         country_2  1.735663e-03\n",
       "5             EP3_1  1.033629e-05\n",
       "6             EP3_2  3.991308e-02\n",
       "8             EP3_4  4.039448e-03\n",
       "9   earlymarriage_0  6.272383e-06\n",
       "10  earlymarriage_1  8.230953e-12\n",
       "12         edresp_1  2.052745e-02\n",
       "14         edresp_3  4.600433e-02\n",
       "16   SourceIncome_2  3.856812e-04\n",
       "17   SourceIncome_3  1.972849e-04"
      ]
     },
     "execution_count": 91,
     "metadata": {},
     "output_type": "execute_result"
    }
   ],
   "source": [
    "chi2_sexphys(X_train_dummies, y_train)"
   ]
  },
  {
   "cell_type": "code",
   "execution_count": null,
   "metadata": {},
   "outputs": [],
   "source": []
  },
  {
   "cell_type": "markdown",
   "metadata": {},
   "source": [
    "### Logistic regression to test interaction ???"
   ]
  },
  {
   "cell_type": "code",
   "execution_count": 96,
   "metadata": {},
   "outputs": [],
   "source": [
    "import statsmodels.api as sm"
   ]
  },
  {
   "cell_type": "code",
   "execution_count": 101,
   "metadata": {},
   "outputs": [
    {
     "data": {
      "text/plain": [
       "array([[1],\n",
       "       [0],\n",
       "       [0],\n",
       "       ...,\n",
       "       [0],\n",
       "       [0],\n",
       "       [0]], dtype=int64)"
      ]
     },
     "execution_count": 101,
     "metadata": {},
     "output_type": "execute_result"
    }
   ],
   "source": [
    "y_train.values.reshape(-1,1)"
   ]
  },
  {
   "cell_type": "code",
   "execution_count": 105,
   "metadata": {},
   "outputs": [
    {
     "name": "stdout",
     "output_type": "stream",
     "text": [
      "Optimization terminated successfully.\n",
      "         Current function value: 0.611957\n",
      "         Iterations 5\n",
      "                           Results: Logit\n",
      "=====================================================================\n",
      "Model:                Logit             Pseudo R-squared:  0.035     \n",
      "Dependent Variable:   y                 AIC:               4149.2450 \n",
      "Date:                 2019-03-06 22:35  BIC:               4247.1792 \n",
      "No. Observations:     3364              Log-Likelihood:    -2058.6   \n",
      "Df Model:             15                LL-Null:           -2132.6   \n",
      "Df Residuals:         3348              LLR p-value:       6.2390e-24\n",
      "Converged:            1.0000            Scale:             1.0000    \n",
      "No. Iterations:       5.0000                                         \n",
      "---------------------------------------------------------------------\n",
      "     Coef.     Std.Err.      z    P>|z|      [0.025         0.975]   \n",
      "---------------------------------------------------------------------\n",
      "x1  -0.6030        0.0980 -6.1516 0.0000        -0.7951       -0.4109\n",
      "x2   0.1657  1400369.3557  0.0000 1.0000  -2744673.3365  2744673.6678\n",
      "x3  -0.3804  2738008.6362 -0.0000 1.0000  -5366398.6968  5366397.9359\n",
      "x4   0.0951  4318178.9719  0.0000 1.0000  -8463475.1687  8463475.3588\n",
      "x5   0.0362  2150901.6747  0.0000 1.0000  -4215689.7806  4215689.8529\n",
      "x6  -0.3777  1471154.9007 -0.0000 1.0000  -2883410.9987  2883410.2433\n",
      "x7   0.0735  1641939.0869  0.0000 1.0000  -3218141.4016  3218141.5487\n",
      "x8   0.1325           nan     nan    nan            nan           nan\n",
      "x9   0.0882           nan     nan    nan            nan           nan\n",
      "x10 -0.1262 10855112.9958 -0.0000 1.0000 -21275630.6460 21275630.3936\n",
      "x11  0.4138 10765923.9273  0.0000 1.0000 -21100822.7441 21100823.5717\n",
      "x12 -0.3711 10855112.9958 -0.0000 1.0000 -21275630.8909 21275630.1488\n",
      "x13 -0.0010 13810407.1341 -0.0000 1.0000 -27067900.5957 27067900.5937\n",
      "x14 -0.0132 13810407.1341 -0.0000 1.0000 -27067900.6079 27067900.5815\n",
      "x15 -0.0693 13810407.1341 -0.0000 1.0000 -27067900.6640 27067900.5254\n",
      "x16 -0.0188 29346019.7380 -0.0000 1.0000 -57517141.7949 57517141.7573\n",
      "x17  0.2271 29346019.7380  0.0000 1.0000 -57517141.5490 57517142.0033\n",
      "x18 -0.2036 29346019.7380 -0.0000 1.0000 -57517141.9797 57517141.5726\n",
      "x19 -0.0814 29346019.7380 -0.0000 1.0000 -57517141.8575 57517141.6947\n",
      "x20 -0.0069 29346019.7380 -0.0000 1.0000 -57517141.7830 57517141.7692\n",
      "=====================================================================\n",
      "\n"
     ]
    },
    {
     "name": "stderr",
     "output_type": "stream",
     "text": [
      "C:\\Users\\ovinc\\Anaconda3\\lib\\site-packages\\statsmodels\\base\\model.py:1092: RuntimeWarning: invalid value encountered in sqrt\n",
      "  bse_ = np.sqrt(np.diag(self.cov_params()))\n",
      "C:\\Users\\ovinc\\Anaconda3\\lib\\site-packages\\scipy\\stats\\_distn_infrastructure.py:879: RuntimeWarning: invalid value encountered in greater\n",
      "  return (self.a < x) & (x < self.b)\n",
      "C:\\Users\\ovinc\\Anaconda3\\lib\\site-packages\\scipy\\stats\\_distn_infrastructure.py:879: RuntimeWarning: invalid value encountered in less\n",
      "  return (self.a < x) & (x < self.b)\n",
      "C:\\Users\\ovinc\\Anaconda3\\lib\\site-packages\\scipy\\stats\\_distn_infrastructure.py:1821: RuntimeWarning: invalid value encountered in less_equal\n",
      "  cond2 = cond0 & (x <= self.a)\n"
     ]
    }
   ],
   "source": [
    "logit_model=sm.Logit(y_train.values.reshape(-1,1),X_train_dummies.values)\n",
    "result=logit_model.fit()\n",
    "print(result.summary2())"
   ]
  },
  {
   "cell_type": "code",
   "execution_count": null,
   "metadata": {},
   "outputs": [],
   "source": [
    "#X_train_dummies.dtypes"
   ]
  },
  {
   "cell_type": "code",
   "execution_count": null,
   "metadata": {},
   "outputs": [],
   "source": [
    "#1+2"
   ]
  },
  {
   "cell_type": "code",
   "execution_count": null,
   "metadata": {},
   "outputs": [],
   "source": [
    "1+2"
   ]
  },
  {
   "cell_type": "code",
   "execution_count": null,
   "metadata": {},
   "outputs": [],
   "source": []
  },
  {
   "cell_type": "code",
   "execution_count": null,
   "metadata": {},
   "outputs": [],
   "source": []
  },
  {
   "cell_type": "code",
   "execution_count": null,
   "metadata": {},
   "outputs": [],
   "source": []
  },
  {
   "cell_type": "code",
   "execution_count": null,
   "metadata": {},
   "outputs": [],
   "source": []
  },
  {
   "cell_type": "code",
   "execution_count": null,
   "metadata": {},
   "outputs": [],
   "source": []
  },
  {
   "cell_type": "code",
   "execution_count": null,
   "metadata": {},
   "outputs": [],
   "source": []
  },
  {
   "cell_type": "code",
   "execution_count": null,
   "metadata": {},
   "outputs": [],
   "source": []
  },
  {
   "cell_type": "code",
   "execution_count": 71,
   "metadata": {},
   "outputs": [
    {
     "data": {
      "text/plain": [
       "(3364, 5)"
      ]
     },
     "execution_count": 71,
     "metadata": {},
     "output_type": "execute_result"
    }
   ],
   "source": [
    "#from sklearn.datasets import load_iris\n",
    "from sklearn.feature_selection import SelectKBest\n",
    "from sklearn.feature_selection import chi2\n",
    "iris = load_iris()\n",
    "#X, y = iris.data, iris.target\n",
    "#X.shape\n",
    "\n",
    "X_new = SelectKBest(chi2, k=5).fit_transform(X_train_dummies, y_train)\n",
    "X_new.shape"
   ]
  },
  {
   "cell_type": "code",
   "execution_count": 74,
   "metadata": {},
   "outputs": [
    {
     "data": {
      "text/plain": [
       "(array([6.15145966e+00, 1.03759897e+01, 8.05062681e+00, 2.65998786e-01,\n",
       "        2.55203381e+00, 1.10339543e+01, 3.43498168e+00, 1.12079019e-01,\n",
       "        6.55586302e+00, 1.02077097e+01, 3.83279257e+01, 6.01155815e-01,\n",
       "        4.51372552e+00, 1.57356575e-02, 3.28158207e+00, 2.12824953e-01,\n",
       "        9.34432803e+00, 1.04625945e+01, 8.59904812e-02, 1.92418819e-02]),\n",
       " array([1.31303687e-02, 1.27664696e-03, 4.54879132e-03, 6.06028538e-01,\n",
       "        1.10152376e-01, 8.94581242e-04, 6.38292932e-02, 7.37789504e-01,\n",
       "        1.04539124e-02, 1.39854753e-03, 5.98007239e-10, 4.38137370e-01,\n",
       "        3.36239278e-02, 9.00173759e-01, 7.00613622e-02, 6.44562188e-01,\n",
       "        2.23676653e-03, 1.21816066e-03, 7.69337691e-01, 8.89675277e-01]))"
      ]
     },
     "execution_count": 74,
     "metadata": {},
     "output_type": "execute_result"
    }
   ],
   "source": [
    "chi2(X_train_dummies, y_train)"
   ]
  },
  {
   "cell_type": "code",
   "execution_count": 69,
   "metadata": {},
   "outputs": [],
   "source": [
    "from sklearn.ensemble import RandomForestClassifier\n",
    "\n",
    "# Random forest classifier\n",
    "rfc = RandomForestClassifier(n_estimators=10, random_state=0)\n",
    "\n",
    "# Train the model \n",
    "rfc.fit(X_train_dummies[cols], y_train)\n",
    "\n",
    "# Get the feature importances\n",
    "importances = rfc.feature_importances_"
   ]
  },
  {
   "cell_type": "code",
   "execution_count": 71,
   "metadata": {},
   "outputs": [
    {
     "data": {
      "text/plain": [
       "edresp_1                     0.142649\n",
       "Fam_support                  0.097245\n",
       "SourceIncome_2               0.072163\n",
       "earlymarriage_1              0.065426\n",
       "SourceIncome_3               0.062089\n",
       "EP3_1                        0.057972\n",
       "EP3_4                        0.042053\n",
       "SourceIncome_4Xcountry_1     0.036908\n",
       "edresp_3Xcountry_2           0.036386\n",
       "earlymarriage_0              0.029659\n",
       "edresp_1Xcountry_1           0.025639\n",
       "EP3_2Xcountry_1              0.025617\n",
       "SourceIncome_2Xcountry_1     0.024775\n",
       "SourceIncome_5Xcountry_2     0.023963\n",
       "SourceIncome_2Xcountry_3     0.021547\n",
       "country_1                    0.019853\n",
       "SourceIncome_4Xcountry_3     0.016826\n",
       "EP3_4Xcountry_2              0.016288\n",
       "EP3_4Xcountry_1              0.015903\n",
       "Fam_supportXcountry_4        0.015779\n",
       "EP3_1Xcountry_3              0.015329\n",
       "earlymarriage_9Xcountry_3    0.014873\n",
       "EP3_4Xcountry_3              0.014445\n",
       "earlymarriage_1Xcountry_1    0.013886\n",
       "country_2                    0.013119\n",
       "SourceIncome_3Xcountry_3     0.012606\n",
       "earlymarriage_9Xcountry_1    0.011538\n",
       "earlymarriage_9Xcountry_2    0.010485\n",
       "earlymarriage_0Xcountry_2    0.010084\n",
       "EP3_1Xcountry_4              0.009698\n",
       "earlymarriage_1Xcountry_2    0.009309\n",
       "Fam_supportXcountry_2        0.008298\n",
       "earlymarriage_0Xcountry_3    0.007588\n",
       "dtype: float64"
      ]
     },
     "execution_count": 71,
     "metadata": {},
     "output_type": "execute_result"
    }
   ],
   "source": [
    "# Convert the importances into one-dimensional 1darray with corresponding df column names as axis labels\n",
    "f_importances = pd.Series(importances, X_train_dummies[cols].columns)\n",
    "\n",
    "# Sort the array in descending order of the importances\n",
    "f_importances.sort_values(ascending=False, inplace=True)\n",
    "\n",
    "f_importances"
   ]
  },
  {
   "cell_type": "code",
   "execution_count": 89,
   "metadata": {},
   "outputs": [],
   "source": [
    "from sklearn.ensemble import RandomForestClassifier\n",
    "\n",
    "# Random forest classifier\n",
    "rfc = RandomForestClassifier(n_estimators=10, random_state=0)\n",
    "\n",
    "# Train the model \n",
    "rfc.fit(X_train_dummies, y_train)\n",
    "\n",
    "# Get the feature importances\n",
    "importances = rfc.feature_importances_"
   ]
  },
  {
   "cell_type": "code",
   "execution_count": 90,
   "metadata": {},
   "outputs": [
    {
     "data": {
      "text/plain": [
       "Fam_support        0.107589\n",
       "edresp_2           0.080075\n",
       "earlymarriage_1    0.062457\n",
       "edresp_1           0.055168\n",
       "EP3_4              0.054003\n",
       "country_4          0.050912\n",
       "SourceIncome_5     0.049710\n",
       "country_1          0.049235\n",
       "country_3          0.048525\n",
       "earlymarriage_0    0.046149\n",
       "edresp_3           0.044997\n",
       "EP3_1              0.044668\n",
       "SourceIncome_3     0.044304\n",
       "SourceIncome_2     0.043744\n",
       "SourceIncome_1     0.040342\n",
       "country_2          0.039034\n",
       "SourceIncome_4     0.038189\n",
       "earlymarriage_9    0.036274\n",
       "EP3_3              0.033133\n",
       "EP3_2              0.031492\n",
       "dtype: float64"
      ]
     },
     "execution_count": 90,
     "metadata": {},
     "output_type": "execute_result"
    }
   ],
   "source": [
    "# Convert the importances into one-dimensional 1darray with corresponding df column names as axis labels\n",
    "f_importances = pd.Series(importances, X_train_dummies.columns)\n",
    "\n",
    "# Sort the array in descending order of the importances\n",
    "f_importances.sort_values(ascending=False, inplace=True)\n",
    "\n",
    "f_importances"
   ]
  },
  {
   "cell_type": "raw",
   "metadata": {},
   "source": [
    "earlymarriage_1    5.980072e-10\n",
    "EP3_1              8.945812e-04\n",
    "SourceIncome_3     1.218161e-03\n",
    "country_1          1.276647e-03\n",
    "earlymarriage_0    1.398548e-03\n",
    "SourceIncome_2     2.236767e-03\n",
    "country_2          4.548791e-03\n",
    "EP3_4              1.045391e-02\n",
    "Fam_support        1.313037e-02\n",
    "edresp_1         "
   ]
  },
  {
   "cell_type": "raw",
   "metadata": {},
   "source": [
    "from sklearn.metrics import precision_recall_fscore_support\n",
    "\n",
    "top_fscores = pd.Series()\n",
    "\n",
    "\n",
    "for k in range(1,importances[:4].shape[0]+1): \n",
    "    #Select the top features\n",
    "    top = f_importances[:4].index[0:k].tolist()\n",
    "    \n",
    "    #Instantiate the Random forest classifier\n",
    "    top_rfc = RandomForestClassifier(random_state=0)\n",
    "    \n",
    "    #Train the model\n",
    "    top_rfc.fit(X_train_dummies[top].values, y_train)\n",
    "    \n",
    "    #Test the model\n",
    "    y_test_pred = top_rfc.predict(X_test_df[top])\n",
    "    \n",
    "    #Calculate the precision, recall, and fscore and select the fscore\n",
    "    score = precision_recall_fscore_support(y_test, y_test_pred, average='micro')[2]\n",
    "    top_fscores.set_value(\"Top \" + str(k), score)\n",
    "\n",
    "print(top_fscores)"
   ]
  },
  {
   "cell_type": "code",
   "execution_count": null,
   "metadata": {},
   "outputs": [],
   "source": []
  },
  {
   "cell_type": "code",
   "execution_count": null,
   "metadata": {},
   "outputs": [],
   "source": []
  },
  {
   "cell_type": "code",
   "execution_count": null,
   "metadata": {},
   "outputs": [],
   "source": []
  },
  {
   "cell_type": "code",
   "execution_count": 103,
   "metadata": {},
   "outputs": [],
   "source": [
    "#pd.get_dummies(X_train_reduced)\n",
    "#X_train['country'].to_string()\n",
    "X_train['country']=X_train['country'].to_string()"
   ]
  },
  {
   "cell_type": "code",
   "execution_count": 106,
   "metadata": {},
   "outputs": [
    {
     "name": "stderr",
     "output_type": "stream",
     "text": [
      "C:\\Users\\ovinc\\Anaconda3\\lib\\site-packages\\ipykernel_launcher.py:1: SettingWithCopyWarning: \n",
      "A value is trying to be set on a copy of a slice from a DataFrame.\n",
      "Try using .loc[row_indexer,col_indexer] = value instead\n",
      "\n",
      "See the caveats in the documentation: http://pandas.pydata.org/pandas-docs/stable/indexing.html#indexing-view-versus-copy\n",
      "  \"\"\"Entry point for launching an IPython kernel.\n"
     ]
    }
   ],
   "source": [
    "X_train_reduced['edresp']=X_train_reduced['edresp'].astype('category')"
   ]
  },
  {
   "cell_type": "code",
   "execution_count": 108,
   "metadata": {},
   "outputs": [
    {
     "data": {
      "text/plain": [
       "country          object\n",
       "EP3               int64\n",
       "earlymarriage     int64\n",
       "FCMAR             int64\n",
       "ageyr5            int64\n",
       "ageyr10           int64\n",
       "edresp            int64\n",
       "w_religion        int64\n",
       "ETHNICITY         int64\n",
       "employstatus      int64\n",
       "SourceIncome      int64\n",
       "Fam_support       int64\n",
       "dtype: object"
      ]
     },
     "execution_count": 108,
     "metadata": {},
     "output_type": "execute_result"
    }
   ],
   "source": [
    "X_train.dtypes"
   ]
  },
  {
   "cell_type": "code",
   "execution_count": 62,
   "metadata": {},
   "outputs": [],
   "source": [
    "#pd.get_dummies(X_train_reduced)"
   ]
  },
  {
   "cell_type": "code",
   "execution_count": null,
   "metadata": {},
   "outputs": [],
   "source": []
  },
  {
   "cell_type": "code",
   "execution_count": null,
   "metadata": {},
   "outputs": [],
   "source": []
  },
  {
   "cell_type": "code",
   "execution_count": null,
   "metadata": {},
   "outputs": [],
   "source": []
  },
  {
   "cell_type": "code",
   "execution_count": null,
   "metadata": {},
   "outputs": [],
   "source": []
  },
  {
   "cell_type": "code",
   "execution_count": null,
   "metadata": {},
   "outputs": [],
   "source": []
  },
  {
   "cell_type": "code",
   "execution_count": null,
   "metadata": {},
   "outputs": [],
   "source": []
  },
  {
   "cell_type": "code",
   "execution_count": null,
   "metadata": {},
   "outputs": [],
   "source": []
  },
  {
   "cell_type": "code",
   "execution_count": null,
   "metadata": {},
   "outputs": [],
   "source": []
  },
  {
   "cell_type": "code",
   "execution_count": null,
   "metadata": {},
   "outputs": [],
   "source": []
  },
  {
   "cell_type": "code",
   "execution_count": null,
   "metadata": {},
   "outputs": [],
   "source": []
  },
  {
   "cell_type": "code",
   "execution_count": null,
   "metadata": {},
   "outputs": [],
   "source": []
  },
  {
   "cell_type": "code",
   "execution_count": null,
   "metadata": {},
   "outputs": [],
   "source": []
  },
  {
   "cell_type": "code",
   "execution_count": null,
   "metadata": {},
   "outputs": [],
   "source": []
  },
  {
   "cell_type": "code",
   "execution_count": null,
   "metadata": {},
   "outputs": [],
   "source": []
  },
  {
   "cell_type": "code",
   "execution_count": null,
   "metadata": {},
   "outputs": [],
   "source": [
    "## Create dummies / mapping nominal variables \n",
    "\n",
    "#map ordinal variable\n",
    "\n",
    "var_mapping = {}\n",
    "\n",
    "# Create dictionary for mapping\n",
    "var_mapping['edresp'] = { 0:'no',\n",
    "                        1: 'primary',\n",
    "                         2:'secondary',\n",
    "                         3:'higher'}\n",
    "var_mapping[\"EP3\"] ={1:'same_older',\n",
    "                         2: '1-10',\n",
    "                         3:'11-20',\n",
    "                         4: '21-30',\n",
    "                         5:'31 + ', \n",
    "                         9:'no answer'}\n",
    "\n",
    "var_mapping_ord[\"edpart\"] ={1:'no',\n",
    "                        2: 'primary',\n",
    "                         3:'secondary',\n",
    "                         4:'higher'}\n",
    "\n",
    "var_mapping_ord[\"q38a_num_wife_orderR\"] ={0:'no_other',\n",
    "                         1: 'first',\n",
    "                         2:'second',\n",
    "                         3:'third +',\n",
    "                         9:'never'}"
   ]
  },
  {
   "cell_type": "code",
   "execution_count": 76,
   "metadata": {},
   "outputs": [],
   "source": []
  },
  {
   "cell_type": "code",
   "execution_count": 77,
   "metadata": {},
   "outputs": [],
   "source": []
  },
  {
   "cell_type": "code",
   "execution_count": 78,
   "metadata": {},
   "outputs": [
    {
     "data": {
      "text/plain": [
       "['EP3', 'earlymarriage', 'edresp', 'SourceIncome', 'Fam_support']"
      ]
     },
     "execution_count": 78,
     "metadata": {},
     "output_type": "execute_result"
    }
   ],
   "source": []
  },
  {
   "cell_type": "code",
   "execution_count": 83,
   "metadata": {},
   "outputs": [],
   "source": []
  },
  {
   "cell_type": "code",
   "execution_count": null,
   "metadata": {},
   "outputs": [],
   "source": []
  },
  {
   "cell_type": "code",
   "execution_count": null,
   "metadata": {},
   "outputs": [],
   "source": []
  }
 ],
 "metadata": {
  "kernelspec": {
   "display_name": "Python 3",
   "language": "python",
   "name": "python3"
  },
  "language_info": {
   "codemirror_mode": {
    "name": "ipython",
    "version": 3
   },
   "file_extension": ".py",
   "mimetype": "text/x-python",
   "name": "python",
   "nbconvert_exporter": "python",
   "pygments_lexer": "ipython3",
   "version": "3.6.5"
  }
 },
 "nbformat": 4,
 "nbformat_minor": 2
}
