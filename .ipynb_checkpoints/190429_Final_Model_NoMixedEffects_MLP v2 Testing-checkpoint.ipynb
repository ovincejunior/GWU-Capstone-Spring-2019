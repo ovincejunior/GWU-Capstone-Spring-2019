{
 "cells": [
  {
   "cell_type": "markdown",
   "metadata": {},
   "source": [
    "# Importing Packages"
   ]
  },
  {
   "cell_type": "code",
   "execution_count": 116,
   "metadata": {},
   "outputs": [],
   "source": [
    "import os\n",
    "import pandas as pd\n",
    "import numpy as np\n",
    "import matplotlib.pyplot as plt"
   ]
  },
  {
   "cell_type": "markdown",
   "metadata": {},
   "source": [
    "# Importing Data"
   ]
  },
  {
   "cell_type": "code",
   "execution_count": 117,
   "metadata": {},
   "outputs": [
    {
     "data": {
      "text/html": [
       "<div>\n",
       "<style scoped>\n",
       "    .dataframe tbody tr th:only-of-type {\n",
       "        vertical-align: middle;\n",
       "    }\n",
       "\n",
       "    .dataframe tbody tr th {\n",
       "        vertical-align: top;\n",
       "    }\n",
       "\n",
       "    .dataframe thead th {\n",
       "        text-align: right;\n",
       "    }\n",
       "</style>\n",
       "<table border=\"1\" class=\"dataframe\">\n",
       "  <thead>\n",
       "    <tr style=\"text-align: right;\">\n",
       "      <th></th>\n",
       "      <th>ep1</th>\n",
       "      <th>econviol</th>\n",
       "      <th>emotvio</th>\n",
       "      <th>physvio</th>\n",
       "      <th>sexvio</th>\n",
       "      <th>sexphys</th>\n",
       "      <th>typevio</th>\n",
       "      <th>physcur</th>\n",
       "      <th>sexcur</th>\n",
       "      <th>emotcur</th>\n",
       "      <th>...</th>\n",
       "      <th>rQ701c</th>\n",
       "      <th>rQ701d</th>\n",
       "      <th>HighIncome</th>\n",
       "      <th>Island</th>\n",
       "      <th>Governance</th>\n",
       "      <th>HDI</th>\n",
       "      <th>LAWDV</th>\n",
       "      <th>Governance1</th>\n",
       "      <th>HDI1</th>\n",
       "      <th>LAWDV1</th>\n",
       "    </tr>\n",
       "  </thead>\n",
       "  <tbody>\n",
       "    <tr>\n",
       "      <th>0</th>\n",
       "      <td>1</td>\n",
       "      <td>0</td>\n",
       "      <td>0</td>\n",
       "      <td>0</td>\n",
       "      <td>0</td>\n",
       "      <td>0</td>\n",
       "      <td>0</td>\n",
       "      <td>0</td>\n",
       "      <td>0</td>\n",
       "      <td>0</td>\n",
       "      <td>...</td>\n",
       "      <td>1</td>\n",
       "      <td>1</td>\n",
       "      <td>0</td>\n",
       "      <td>0</td>\n",
       "      <td>0.16</td>\n",
       "      <td>0.654</td>\n",
       "      <td>37</td>\n",
       "      <td>0</td>\n",
       "      <td>0</td>\n",
       "      <td>0</td>\n",
       "    </tr>\n",
       "    <tr>\n",
       "      <th>1</th>\n",
       "      <td>1</td>\n",
       "      <td>1</td>\n",
       "      <td>1</td>\n",
       "      <td>1</td>\n",
       "      <td>1</td>\n",
       "      <td>1</td>\n",
       "      <td>3</td>\n",
       "      <td>0</td>\n",
       "      <td>0</td>\n",
       "      <td>0</td>\n",
       "      <td>...</td>\n",
       "      <td>1</td>\n",
       "      <td>1</td>\n",
       "      <td>0</td>\n",
       "      <td>0</td>\n",
       "      <td>0.16</td>\n",
       "      <td>0.654</td>\n",
       "      <td>37</td>\n",
       "      <td>0</td>\n",
       "      <td>0</td>\n",
       "      <td>0</td>\n",
       "    </tr>\n",
       "    <tr>\n",
       "      <th>2</th>\n",
       "      <td>1</td>\n",
       "      <td>0</td>\n",
       "      <td>0</td>\n",
       "      <td>0</td>\n",
       "      <td>0</td>\n",
       "      <td>0</td>\n",
       "      <td>0</td>\n",
       "      <td>0</td>\n",
       "      <td>0</td>\n",
       "      <td>0</td>\n",
       "      <td>...</td>\n",
       "      <td>1</td>\n",
       "      <td>1</td>\n",
       "      <td>0</td>\n",
       "      <td>0</td>\n",
       "      <td>0.16</td>\n",
       "      <td>0.654</td>\n",
       "      <td>37</td>\n",
       "      <td>0</td>\n",
       "      <td>0</td>\n",
       "      <td>0</td>\n",
       "    </tr>\n",
       "    <tr>\n",
       "      <th>3</th>\n",
       "      <td>1</td>\n",
       "      <td>0</td>\n",
       "      <td>1</td>\n",
       "      <td>1</td>\n",
       "      <td>0</td>\n",
       "      <td>1</td>\n",
       "      <td>1</td>\n",
       "      <td>0</td>\n",
       "      <td>0</td>\n",
       "      <td>1</td>\n",
       "      <td>...</td>\n",
       "      <td>1</td>\n",
       "      <td>1</td>\n",
       "      <td>0</td>\n",
       "      <td>0</td>\n",
       "      <td>0.16</td>\n",
       "      <td>0.654</td>\n",
       "      <td>37</td>\n",
       "      <td>0</td>\n",
       "      <td>0</td>\n",
       "      <td>0</td>\n",
       "    </tr>\n",
       "    <tr>\n",
       "      <th>4</th>\n",
       "      <td>1</td>\n",
       "      <td>0</td>\n",
       "      <td>0</td>\n",
       "      <td>1</td>\n",
       "      <td>0</td>\n",
       "      <td>1</td>\n",
       "      <td>1</td>\n",
       "      <td>0</td>\n",
       "      <td>0</td>\n",
       "      <td>0</td>\n",
       "      <td>...</td>\n",
       "      <td>1</td>\n",
       "      <td>1</td>\n",
       "      <td>0</td>\n",
       "      <td>0</td>\n",
       "      <td>0.16</td>\n",
       "      <td>0.654</td>\n",
       "      <td>37</td>\n",
       "      <td>0</td>\n",
       "      <td>0</td>\n",
       "      <td>0</td>\n",
       "    </tr>\n",
       "  </tbody>\n",
       "</table>\n",
       "<p>5 rows × 91 columns</p>\n",
       "</div>"
      ],
      "text/plain": [
       "   ep1  econviol  emotvio  physvio  sexvio  sexphys  typevio  physcur  sexcur  \\\n",
       "0    1         0        0        0       0        0        0        0       0   \n",
       "1    1         1        1        1       1        1        3        0       0   \n",
       "2    1         0        0        0       0        0        0        0       0   \n",
       "3    1         0        1        1       0        1        1        0       0   \n",
       "4    1         0        0        1       0        1        1        0       0   \n",
       "\n",
       "   emotcur   ...    rQ701c  rQ701d  HighIncome  Island  Governance    HDI  \\\n",
       "0        0   ...         1       1           0       0        0.16  0.654   \n",
       "1        0   ...         1       1           0       0        0.16  0.654   \n",
       "2        0   ...         1       1           0       0        0.16  0.654   \n",
       "3        1   ...         1       1           0       0        0.16  0.654   \n",
       "4        0   ...         1       1           0       0        0.16  0.654   \n",
       "\n",
       "   LAWDV  Governance1  HDI1  LAWDV1  \n",
       "0     37            0     0       0  \n",
       "1     37            0     0       0  \n",
       "2     37            0     0       0  \n",
       "3     37            0     0       0  \n",
       "4     37            0     0       0  \n",
       "\n",
       "[5 rows x 91 columns]"
      ]
     },
     "execution_count": 117,
     "metadata": {},
     "output_type": "execute_result"
    }
   ],
   "source": [
    "# Import data from csv file\n",
    "data = pd.read_csv(\"CaribbeanAllFinal.csv\", low_memory=False)\n",
    "data.head()"
   ]
  },
  {
   "cell_type": "code",
   "execution_count": 118,
   "metadata": {},
   "outputs": [
    {
     "data": {
      "text/plain": [
       "(5795, 91)"
      ]
     },
     "execution_count": 118,
     "metadata": {},
     "output_type": "execute_result"
    }
   ],
   "source": [
    "data.shape"
   ]
  },
  {
   "cell_type": "code",
   "execution_count": 119,
   "metadata": {},
   "outputs": [],
   "source": [
    "#data.columns"
   ]
  },
  {
   "cell_type": "code",
   "execution_count": 120,
   "metadata": {},
   "outputs": [
    {
     "data": {
      "text/html": [
       "<div>\n",
       "<style scoped>\n",
       "    .dataframe tbody tr th:only-of-type {\n",
       "        vertical-align: middle;\n",
       "    }\n",
       "\n",
       "    .dataframe tbody tr th {\n",
       "        vertical-align: top;\n",
       "    }\n",
       "\n",
       "    .dataframe thead th {\n",
       "        text-align: right;\n",
       "    }\n",
       "</style>\n",
       "<table border=\"1\" class=\"dataframe\">\n",
       "  <thead>\n",
       "    <tr style=\"text-align: right;\">\n",
       "      <th></th>\n",
       "      <th>country</th>\n",
       "      <th>EP3</th>\n",
       "      <th>earlymarriage</th>\n",
       "      <th>FCMAR</th>\n",
       "      <th>ageyr10</th>\n",
       "      <th>edresp</th>\n",
       "      <th>w_religion</th>\n",
       "      <th>ETHNICITY</th>\n",
       "      <th>employstatus</th>\n",
       "      <th>SourceIncome</th>\n",
       "      <th>...</th>\n",
       "      <th>tQ602d</th>\n",
       "      <th>justify</th>\n",
       "      <th>CONTROLNUM</th>\n",
       "      <th>anyIPV</th>\n",
       "      <th>HighIncome</th>\n",
       "      <th>Island</th>\n",
       "      <th>Governance1</th>\n",
       "      <th>HDI1</th>\n",
       "      <th>LAWDV1</th>\n",
       "      <th>sexphys</th>\n",
       "    </tr>\n",
       "  </thead>\n",
       "  <tbody>\n",
       "    <tr>\n",
       "      <th>0</th>\n",
       "      <td>1</td>\n",
       "      <td>1</td>\n",
       "      <td>0</td>\n",
       "      <td>0</td>\n",
       "      <td>3</td>\n",
       "      <td>2</td>\n",
       "      <td>0</td>\n",
       "      <td>4</td>\n",
       "      <td>4</td>\n",
       "      <td>2</td>\n",
       "      <td>...</td>\n",
       "      <td>0</td>\n",
       "      <td>0</td>\n",
       "      <td>0</td>\n",
       "      <td>0</td>\n",
       "      <td>0</td>\n",
       "      <td>0</td>\n",
       "      <td>0</td>\n",
       "      <td>0</td>\n",
       "      <td>0</td>\n",
       "      <td>0</td>\n",
       "    </tr>\n",
       "    <tr>\n",
       "      <th>1</th>\n",
       "      <td>1</td>\n",
       "      <td>4</td>\n",
       "      <td>1</td>\n",
       "      <td>0</td>\n",
       "      <td>5</td>\n",
       "      <td>2</td>\n",
       "      <td>1</td>\n",
       "      <td>1</td>\n",
       "      <td>2</td>\n",
       "      <td>5</td>\n",
       "      <td>...</td>\n",
       "      <td>0</td>\n",
       "      <td>0</td>\n",
       "      <td>3</td>\n",
       "      <td>1</td>\n",
       "      <td>0</td>\n",
       "      <td>0</td>\n",
       "      <td>0</td>\n",
       "      <td>0</td>\n",
       "      <td>0</td>\n",
       "      <td>1</td>\n",
       "    </tr>\n",
       "    <tr>\n",
       "      <th>2</th>\n",
       "      <td>1</td>\n",
       "      <td>4</td>\n",
       "      <td>9</td>\n",
       "      <td>9</td>\n",
       "      <td>1</td>\n",
       "      <td>3</td>\n",
       "      <td>1</td>\n",
       "      <td>6</td>\n",
       "      <td>4</td>\n",
       "      <td>5</td>\n",
       "      <td>...</td>\n",
       "      <td>0</td>\n",
       "      <td>0</td>\n",
       "      <td>0</td>\n",
       "      <td>0</td>\n",
       "      <td>0</td>\n",
       "      <td>0</td>\n",
       "      <td>0</td>\n",
       "      <td>0</td>\n",
       "      <td>0</td>\n",
       "      <td>0</td>\n",
       "    </tr>\n",
       "    <tr>\n",
       "      <th>3</th>\n",
       "      <td>1</td>\n",
       "      <td>1</td>\n",
       "      <td>0</td>\n",
       "      <td>0</td>\n",
       "      <td>5</td>\n",
       "      <td>2</td>\n",
       "      <td>1</td>\n",
       "      <td>5</td>\n",
       "      <td>4</td>\n",
       "      <td>3</td>\n",
       "      <td>...</td>\n",
       "      <td>1</td>\n",
       "      <td>0</td>\n",
       "      <td>0</td>\n",
       "      <td>1</td>\n",
       "      <td>0</td>\n",
       "      <td>0</td>\n",
       "      <td>0</td>\n",
       "      <td>0</td>\n",
       "      <td>0</td>\n",
       "      <td>1</td>\n",
       "    </tr>\n",
       "    <tr>\n",
       "      <th>4</th>\n",
       "      <td>1</td>\n",
       "      <td>4</td>\n",
       "      <td>1</td>\n",
       "      <td>1</td>\n",
       "      <td>4</td>\n",
       "      <td>1</td>\n",
       "      <td>0</td>\n",
       "      <td>4</td>\n",
       "      <td>3</td>\n",
       "      <td>2</td>\n",
       "      <td>...</td>\n",
       "      <td>0</td>\n",
       "      <td>1</td>\n",
       "      <td>0</td>\n",
       "      <td>1</td>\n",
       "      <td>0</td>\n",
       "      <td>0</td>\n",
       "      <td>0</td>\n",
       "      <td>0</td>\n",
       "      <td>0</td>\n",
       "      <td>1</td>\n",
       "    </tr>\n",
       "  </tbody>\n",
       "</table>\n",
       "<p>5 rows × 48 columns</p>\n",
       "</div>"
      ],
      "text/plain": [
       "   country  EP3  earlymarriage  FCMAR  ageyr10  edresp  w_religion  ETHNICITY  \\\n",
       "0        1    1              0      0        3       2           0          4   \n",
       "1        1    4              1      0        5       2           1          1   \n",
       "2        1    4              9      9        1       3           1          6   \n",
       "3        1    1              0      0        5       2           1          5   \n",
       "4        1    4              1      1        4       1           0          4   \n",
       "\n",
       "   employstatus  SourceIncome   ...     tQ602d  justify  CONTROLNUM  anyIPV  \\\n",
       "0             4             2   ...          0        0           0       0   \n",
       "1             2             5   ...          0        0           3       1   \n",
       "2             4             5   ...          0        0           0       0   \n",
       "3             4             3   ...          1        0           0       1   \n",
       "4             3             2   ...          0        1           0       1   \n",
       "\n",
       "   HighIncome  Island  Governance1  HDI1  LAWDV1  sexphys  \n",
       "0           0       0            0     0       0        0  \n",
       "1           0       0            0     0       0        1  \n",
       "2           0       0            0     0       0        0  \n",
       "3           0       0            0     0       0        1  \n",
       "4           0       0            0     0       0        1  \n",
       "\n",
       "[5 rows x 48 columns]"
      ]
     },
     "execution_count": 120,
     "metadata": {},
     "output_type": "execute_result"
    }
   ],
   "source": [
    "df_caribbean = data[[\"country\", \"EP3\", \"earlymarriage\", \"FCMAR\", \"ageyr10\", \"edresp\", \"w_religion\",\n",
    "                 \"ETHNICITY\", \"employstatus\", \"SourceIncome\", \"Fam_support\", 'mcv1006', 'mcv1006a', 'mcv1006b',\n",
    "                 'agepartner', 'sumdiffage', 'edpart', 'p_employ', 'men_alcohol_all', 'mcv1008', 'mcv1009',\n",
    "                 'Q513R', 'Q515R', 'Q516R', \n",
    "                  \"rQ701a\", \"rQ701b\", \"rQ701c\", \"rQ701d\", \"Q702R\",\n",
    "                  \"sQ601a\", 'sQ601b', 'sQ601c', 'sQ601d', 'sQ601e', 'sQ601f',\n",
    "                  \"tQ602a\", \"tQ602b\", 'tQ602c', \"tQ602d\",\n",
    "                  \"justify\", \n",
    "                  'CONTROLNUM', \n",
    "                   'anyIPV', 'HighIncome', 'Island', 'Governance1', 'HDI1', 'LAWDV1',\n",
    "                   \"sexphys\"]]\n",
    "df_caribbean.head()"
   ]
  },
  {
   "cell_type": "markdown",
   "metadata": {},
   "source": [
    "# OVERALL PREPROCESSING"
   ]
  },
  {
   "cell_type": "markdown",
   "metadata": {},
   "source": [
    "# Checking for Missing Values"
   ]
  },
  {
   "cell_type": "code",
   "execution_count": 121,
   "metadata": {},
   "outputs": [],
   "source": [
    "#Check for missing values\n",
    "#df_caribbean.isnull().sum()"
   ]
  },
  {
   "cell_type": "markdown",
   "metadata": {},
   "source": [
    "# Split the Data"
   ]
  },
  {
   "cell_type": "code",
   "execution_count": 122,
   "metadata": {},
   "outputs": [],
   "source": [
    "Guyana = df_caribbean[df_caribbean['country']==1]\n",
    "Jamaica = df_caribbean[df_caribbean['country']==2]\n",
    "Suriname = df_caribbean[df_caribbean['country']==3]\n",
    "Trinidad = df_caribbean[df_caribbean['country']==4]\n",
    "Grenada = df_caribbean[df_caribbean['country']==5]"
   ]
  },
  {
   "cell_type": "code",
   "execution_count": 123,
   "metadata": {},
   "outputs": [],
   "source": [
    "Guyana_X = Guyana.iloc[:, :-1]\n",
    "Guyana_y = Guyana.iloc[:, -1]\n",
    "\n",
    "Jamaica_X = Jamaica.iloc[:, :-1]\n",
    "Jamaica_y = Jamaica.iloc[:, -1]\n",
    "\n",
    "Suriname_X = Suriname.iloc[:, :-1]\n",
    "Suriname_y = Suriname.iloc[:, -1]\n",
    "\n",
    "Trinidad_X = Trinidad.iloc[:, :-1]\n",
    "Trinidad_y = Trinidad.iloc[:, -1]\n",
    "\n",
    "Grenada_X = Grenada.iloc[:, :-1]\n",
    "Grenada_y = Grenada.iloc[:, -1]"
   ]
  },
  {
   "cell_type": "code",
   "execution_count": 124,
   "metadata": {},
   "outputs": [],
   "source": [
    "# Randomly choose 30% of the data for validation and testing\n",
    "from sklearn.model_selection import train_test_split\n",
    "GuyanaX_train, GuyanaX_rest, Guyanay_train, Guyanay_rest = train_test_split(Guyana_X, \n",
    "                                                                            Guyana_y, \n",
    "                                                                            test_size=0.3, \n",
    "                                                                            random_state=0, \n",
    "                                                                            stratify=Guyana_y)"
   ]
  },
  {
   "cell_type": "code",
   "execution_count": 125,
   "metadata": {},
   "outputs": [],
   "source": [
    "JamaicaX_train, JamaicaX_rest, Jamaicay_train, Jamaicay_rest = train_test_split(Jamaica_X, \n",
    "                                                                                Jamaica_y, \n",
    "                                                                                test_size=0.3, \n",
    "                                                                                random_state=0, \n",
    "                                                                                stratify=Jamaica_y)"
   ]
  },
  {
   "cell_type": "code",
   "execution_count": 126,
   "metadata": {},
   "outputs": [],
   "source": [
    "SurinameX_train, SurinameX_rest, Surinamey_train, Surinamey_rest = train_test_split(Suriname_X, \n",
    "                                                                                    Suriname_y, \n",
    "                                                                                    test_size=0.3, \n",
    "                                                                                    random_state=0, \n",
    "                                                                                    stratify=Suriname_y)"
   ]
  },
  {
   "cell_type": "code",
   "execution_count": 127,
   "metadata": {},
   "outputs": [],
   "source": [
    "TrinidadX_train, TrinidadX_rest, Trinidady_train, Trinidady_rest = train_test_split(Trinidad_X, \n",
    "                                                                                    Trinidad_y, \n",
    "                                                                                    test_size=0.3, \n",
    "                                                                                    random_state=0, \n",
    "                                                                                    stratify=Trinidad_y)"
   ]
  },
  {
   "cell_type": "code",
   "execution_count": 128,
   "metadata": {},
   "outputs": [],
   "source": [
    "GrenadaX_train, GrenadaX_rest, Grenaday_train, Grenaday_rest = train_test_split(Grenada_X, \n",
    "                                                                                    Grenada_y, \n",
    "                                                                                    test_size=0.3, \n",
    "                                                                                    random_state=0, \n",
    "                                                                                    stratify=Grenada_y)"
   ]
  },
  {
   "cell_type": "code",
   "execution_count": 129,
   "metadata": {},
   "outputs": [],
   "source": [
    "# Randomly choose 50% of the data for testing\n",
    "GuyanaX_val, GuyanaX_test, Guyanay_val, Guyanay_test = train_test_split(GuyanaX_rest, \n",
    "                                                                            Guyanay_rest, \n",
    "                                                                            test_size=0.5, \n",
    "                                                                            random_state=0, \n",
    "                                                                            stratify=Guyanay_rest)"
   ]
  },
  {
   "cell_type": "code",
   "execution_count": 130,
   "metadata": {},
   "outputs": [],
   "source": [
    "JamaicaX_val, JamaicaX_test, Jamaicay_val, Jamaicay_test = train_test_split(JamaicaX_rest, \n",
    "                                                                            Jamaicay_rest, \n",
    "                                                                            test_size=0.5, \n",
    "                                                                            random_state=0, \n",
    "                                                                            stratify=Jamaicay_rest)"
   ]
  },
  {
   "cell_type": "code",
   "execution_count": 131,
   "metadata": {},
   "outputs": [],
   "source": [
    "SurinameX_val, SurinameX_test, Surinamey_val, Surinamey_test = train_test_split(SurinameX_rest, \n",
    "                                                                            Surinamey_rest, \n",
    "                                                                            test_size=0.5, \n",
    "                                                                            random_state=0, \n",
    "                                                                            stratify=Surinamey_rest)"
   ]
  },
  {
   "cell_type": "code",
   "execution_count": 132,
   "metadata": {},
   "outputs": [],
   "source": [
    "TrinidadX_val, TrinidadX_test, Trinidady_val, Trinidady_test = train_test_split(TrinidadX_rest, \n",
    "                                                                            Trinidady_rest, \n",
    "                                                                            test_size=0.5, \n",
    "                                                                            random_state=0, \n",
    "                                                                            stratify=Trinidady_rest)"
   ]
  },
  {
   "cell_type": "code",
   "execution_count": 133,
   "metadata": {},
   "outputs": [],
   "source": [
    "GrenadaX_val, GrenadaX_test, Grenaday_val, Grenaday_test = train_test_split(GrenadaX_rest, \n",
    "                                                                            Grenaday_rest, \n",
    "                                                                            test_size=0.5, \n",
    "                                                                            random_state=0, \n",
    "                                                                            stratify=Grenaday_rest)"
   ]
  },
  {
   "cell_type": "code",
   "execution_count": 134,
   "metadata": {},
   "outputs": [],
   "source": [
    "X_train = pd.concat([GuyanaX_train, JamaicaX_train, SurinameX_train, TrinidadX_train, GrenadaX_train])\n",
    "y_train = pd.concat([Guyanay_train, Jamaicay_train, Surinamey_train, Trinidady_train, Grenaday_train])\n",
    "#df_train = X_train.join(y_train)"
   ]
  },
  {
   "cell_type": "code",
   "execution_count": 135,
   "metadata": {},
   "outputs": [],
   "source": [
    "X_train_other = X_train[['anyIPV', 'HighIncome', 'Island', 'Governance1', 'HDI1', 'LAWDV1']]"
   ]
  },
  {
   "cell_type": "code",
   "execution_count": 136,
   "metadata": {},
   "outputs": [
    {
     "data": {
      "text/plain": [
       "1900"
      ]
     },
     "execution_count": 136,
     "metadata": {},
     "output_type": "execute_result"
    }
   ],
   "source": [
    "(X_train_other['anyIPV']==1).sum() #/y_train.shape[0]"
   ]
  },
  {
   "cell_type": "code",
   "execution_count": 137,
   "metadata": {},
   "outputs": [],
   "source": [
    "X_train.drop(columns=['anyIPV', 'HighIncome', 'Island', 'Governance1', 'HDI1', 'LAWDV1'], inplace=True)"
   ]
  },
  {
   "cell_type": "code",
   "execution_count": 138,
   "metadata": {},
   "outputs": [],
   "source": [
    "#X_train.columns"
   ]
  },
  {
   "cell_type": "code",
   "execution_count": 139,
   "metadata": {},
   "outputs": [],
   "source": [
    "df_train = X_train.join(y_train)"
   ]
  },
  {
   "cell_type": "code",
   "execution_count": 140,
   "metadata": {},
   "outputs": [],
   "source": [
    "X_val = pd.concat([GuyanaX_val, JamaicaX_val, SurinameX_val, TrinidadX_val, GrenadaX_val])\n",
    "y_val = pd.concat([Guyanay_val, Jamaicay_val, Surinamey_val, Trinidady_val, Grenaday_val])\n",
    "#df_val = X_val.join(y_val)"
   ]
  },
  {
   "cell_type": "code",
   "execution_count": 141,
   "metadata": {},
   "outputs": [],
   "source": [
    "X_val_other = X_val[['anyIPV', 'HighIncome', 'Island', 'Governance1', 'HDI1', 'LAWDV1']]\n",
    "X_val.drop(columns=['anyIPV', 'HighIncome', 'Island', 'Governance1', 'HDI1', 'LAWDV1'], inplace=True)\n",
    "df_val = X_val.join(y_val)"
   ]
  },
  {
   "cell_type": "code",
   "execution_count": 142,
   "metadata": {},
   "outputs": [],
   "source": [
    "X_test = pd.concat([GuyanaX_test, JamaicaX_test, SurinameX_test, TrinidadX_test, GrenadaX_test])\n",
    "y_test = pd.concat([Guyanay_test, Jamaicay_test, Surinamey_test, Trinidady_test, Grenaday_test])\n",
    "#df_test = X_test.join(y_test)"
   ]
  },
  {
   "cell_type": "code",
   "execution_count": 143,
   "metadata": {},
   "outputs": [],
   "source": [
    "X_test_other = X_test[['anyIPV', 'HighIncome', 'Island', 'Governance1', 'HDI1', 'LAWDV1']]\n",
    "X_test.drop(columns=['anyIPV', 'HighIncome', 'Island', 'Governance1', 'HDI1', 'LAWDV1'], inplace=True)\n",
    "df_test = X_test.join(y_test)"
   ]
  },
  {
   "cell_type": "code",
   "execution_count": 144,
   "metadata": {},
   "outputs": [
    {
     "data": {
      "text/plain": [
       "0.32289097187962507"
      ]
     },
     "execution_count": 144,
     "metadata": {},
     "output_type": "execute_result"
    }
   ],
   "source": [
    "(y_train==1).sum()/y_train.shape[0]"
   ]
  },
  {
   "cell_type": "code",
   "execution_count": 145,
   "metadata": {},
   "outputs": [
    {
     "data": {
      "text/plain": [
       "0.3222094361334868"
      ]
     },
     "execution_count": 145,
     "metadata": {},
     "output_type": "execute_result"
    }
   ],
   "source": [
    "(y_val==1).sum()/y_val.shape[0]"
   ]
  },
  {
   "cell_type": "code",
   "execution_count": 146,
   "metadata": {},
   "outputs": [
    {
     "data": {
      "text/plain": [
       "0.32224770642201833"
      ]
     },
     "execution_count": 146,
     "metadata": {},
     "output_type": "execute_result"
    }
   ],
   "source": [
    "(y_test==1).sum()/y_test.shape[0]"
   ]
  },
  {
   "cell_type": "code",
   "execution_count": 147,
   "metadata": {},
   "outputs": [
    {
     "data": {
      "text/plain": [
       "0.4686729156388752"
      ]
     },
     "execution_count": 147,
     "metadata": {},
     "output_type": "execute_result"
    }
   ],
   "source": [
    "(X_train_other['anyIPV']==1).sum() /y_train.shape[0]"
   ]
  },
  {
   "cell_type": "code",
   "execution_count": 148,
   "metadata": {},
   "outputs": [
    {
     "data": {
      "text/plain": [
       "0.4672036823935558"
      ]
     },
     "execution_count": 148,
     "metadata": {},
     "output_type": "execute_result"
    }
   ],
   "source": [
    "(X_val_other['anyIPV']==1).sum() /y_val.shape[0]"
   ]
  },
  {
   "cell_type": "code",
   "execution_count": 149,
   "metadata": {},
   "outputs": [
    {
     "data": {
      "text/plain": [
       "0.44839449541284404"
      ]
     },
     "execution_count": 149,
     "metadata": {},
     "output_type": "execute_result"
    }
   ],
   "source": [
    "(X_test_other['anyIPV']==1).sum() /y_test.shape[0]"
   ]
  },
  {
   "cell_type": "markdown",
   "metadata": {},
   "source": [
    "# Features Selection"
   ]
  },
  {
   "cell_type": "markdown",
   "metadata": {},
   "source": [
    "## SET 1: CHI2"
   ]
  },
  {
   "cell_type": "code",
   "execution_count": 150,
   "metadata": {},
   "outputs": [],
   "source": [
    "from scipy.stats import chi2_contingency"
   ]
  },
  {
   "cell_type": "code",
   "execution_count": 151,
   "metadata": {},
   "outputs": [],
   "source": [
    "def chi2_sexphys(dfr_Xtrain, dfr_ytrain):\n",
    "    'Do a Chi2 test of independence and choose the significant dependence'\n",
    "    columns=dfr_Xtrain.columns.tolist()\n",
    "    \n",
    "    p_value = []\n",
    "    for column in columns:\n",
    "        observed = pd.crosstab(dfr_Xtrain[column], dfr_ytrain)\n",
    "        p_value.append(chi2_contingency(observed= observed)[1])\n",
    "\n",
    "    df = pd.DataFrame({\"variable\":columns, \n",
    "                           \"p_value\":p_value})\n",
    "    df2 = df[df.p_value <= 0.05]\n",
    "    df2 = df2.sort_values(by='p_value', ascending=True)\n",
    "    return df2"
   ]
  },
  {
   "cell_type": "code",
   "execution_count": 152,
   "metadata": {},
   "outputs": [],
   "source": [
    "All_sign=chi2_sexphys(X_train, y_train)"
   ]
  },
  {
   "cell_type": "code",
   "execution_count": 153,
   "metadata": {},
   "outputs": [
    {
     "data": {
      "text/plain": [
       "(30, 2)"
      ]
     },
     "execution_count": 153,
     "metadata": {},
     "output_type": "execute_result"
    }
   ],
   "source": [
    "All_sign.shape"
   ]
  },
  {
   "cell_type": "code",
   "execution_count": 154,
   "metadata": {},
   "outputs": [],
   "source": [
    "colsig = list(All_sign.variable.values)"
   ]
  },
  {
   "cell_type": "code",
   "execution_count": 155,
   "metadata": {},
   "outputs": [
    {
     "data": {
      "text/html": [
       "<div>\n",
       "<style scoped>\n",
       "    .dataframe tbody tr th:only-of-type {\n",
       "        vertical-align: middle;\n",
       "    }\n",
       "\n",
       "    .dataframe tbody tr th {\n",
       "        vertical-align: top;\n",
       "    }\n",
       "\n",
       "    .dataframe thead th {\n",
       "        text-align: right;\n",
       "    }\n",
       "</style>\n",
       "<table border=\"1\" class=\"dataframe\">\n",
       "  <thead>\n",
       "    <tr style=\"text-align: right;\">\n",
       "      <th></th>\n",
       "      <th>CONTROLNUM</th>\n",
       "      <th>Q702R</th>\n",
       "      <th>Q515R</th>\n",
       "      <th>Q513R</th>\n",
       "      <th>mcv1006</th>\n",
       "      <th>mcv1006a</th>\n",
       "      <th>mcv1006b</th>\n",
       "      <th>mcv1008</th>\n",
       "      <th>men_alcohol_all</th>\n",
       "      <th>mcv1009</th>\n",
       "      <th>...</th>\n",
       "      <th>rQ701c</th>\n",
       "      <th>sQ601c</th>\n",
       "      <th>sQ601d</th>\n",
       "      <th>EP3</th>\n",
       "      <th>FCMAR</th>\n",
       "      <th>tQ602d</th>\n",
       "      <th>SourceIncome</th>\n",
       "      <th>ageyr10</th>\n",
       "      <th>justify</th>\n",
       "      <th>tQ602c</th>\n",
       "    </tr>\n",
       "  </thead>\n",
       "  <tbody>\n",
       "    <tr>\n",
       "      <th>995</th>\n",
       "      <td>0</td>\n",
       "      <td>2</td>\n",
       "      <td>0</td>\n",
       "      <td>0</td>\n",
       "      <td>0</td>\n",
       "      <td>1</td>\n",
       "      <td>1</td>\n",
       "      <td>0</td>\n",
       "      <td>0</td>\n",
       "      <td>0</td>\n",
       "      <td>...</td>\n",
       "      <td>0</td>\n",
       "      <td>1</td>\n",
       "      <td>1</td>\n",
       "      <td>2</td>\n",
       "      <td>0</td>\n",
       "      <td>1</td>\n",
       "      <td>5</td>\n",
       "      <td>2</td>\n",
       "      <td>0</td>\n",
       "      <td>0</td>\n",
       "    </tr>\n",
       "    <tr>\n",
       "      <th>962</th>\n",
       "      <td>0</td>\n",
       "      <td>2</td>\n",
       "      <td>0</td>\n",
       "      <td>0</td>\n",
       "      <td>0</td>\n",
       "      <td>0</td>\n",
       "      <td>0</td>\n",
       "      <td>1</td>\n",
       "      <td>1</td>\n",
       "      <td>0</td>\n",
       "      <td>...</td>\n",
       "      <td>1</td>\n",
       "      <td>1</td>\n",
       "      <td>1</td>\n",
       "      <td>1</td>\n",
       "      <td>0</td>\n",
       "      <td>1</td>\n",
       "      <td>4</td>\n",
       "      <td>2</td>\n",
       "      <td>1</td>\n",
       "      <td>0</td>\n",
       "    </tr>\n",
       "    <tr>\n",
       "      <th>998</th>\n",
       "      <td>0</td>\n",
       "      <td>1</td>\n",
       "      <td>0</td>\n",
       "      <td>0</td>\n",
       "      <td>0</td>\n",
       "      <td>0</td>\n",
       "      <td>1</td>\n",
       "      <td>0</td>\n",
       "      <td>0</td>\n",
       "      <td>0</td>\n",
       "      <td>...</td>\n",
       "      <td>1</td>\n",
       "      <td>1</td>\n",
       "      <td>0</td>\n",
       "      <td>2</td>\n",
       "      <td>0</td>\n",
       "      <td>0</td>\n",
       "      <td>4</td>\n",
       "      <td>2</td>\n",
       "      <td>0</td>\n",
       "      <td>0</td>\n",
       "    </tr>\n",
       "    <tr>\n",
       "      <th>639</th>\n",
       "      <td>1</td>\n",
       "      <td>1</td>\n",
       "      <td>1</td>\n",
       "      <td>0</td>\n",
       "      <td>0</td>\n",
       "      <td>0</td>\n",
       "      <td>0</td>\n",
       "      <td>0</td>\n",
       "      <td>0</td>\n",
       "      <td>0</td>\n",
       "      <td>...</td>\n",
       "      <td>1</td>\n",
       "      <td>0</td>\n",
       "      <td>0</td>\n",
       "      <td>4</td>\n",
       "      <td>9</td>\n",
       "      <td>0</td>\n",
       "      <td>5</td>\n",
       "      <td>4</td>\n",
       "      <td>1</td>\n",
       "      <td>0</td>\n",
       "    </tr>\n",
       "    <tr>\n",
       "      <th>932</th>\n",
       "      <td>0</td>\n",
       "      <td>2</td>\n",
       "      <td>0</td>\n",
       "      <td>0</td>\n",
       "      <td>0</td>\n",
       "      <td>0</td>\n",
       "      <td>0</td>\n",
       "      <td>0</td>\n",
       "      <td>0</td>\n",
       "      <td>0</td>\n",
       "      <td>...</td>\n",
       "      <td>1</td>\n",
       "      <td>0</td>\n",
       "      <td>0</td>\n",
       "      <td>4</td>\n",
       "      <td>0</td>\n",
       "      <td>0</td>\n",
       "      <td>5</td>\n",
       "      <td>4</td>\n",
       "      <td>0</td>\n",
       "      <td>0</td>\n",
       "    </tr>\n",
       "  </tbody>\n",
       "</table>\n",
       "<p>5 rows × 30 columns</p>\n",
       "</div>"
      ],
      "text/plain": [
       "     CONTROLNUM  Q702R  Q515R  Q513R  mcv1006  mcv1006a  mcv1006b  mcv1008  \\\n",
       "995           0      2      0      0        0         1         1        0   \n",
       "962           0      2      0      0        0         0         0        1   \n",
       "998           0      1      0      0        0         0         1        0   \n",
       "639           1      1      1      0        0         0         0        0   \n",
       "932           0      2      0      0        0         0         0        0   \n",
       "\n",
       "     men_alcohol_all  mcv1009   ...    rQ701c  sQ601c  sQ601d  EP3  FCMAR  \\\n",
       "995                0        0   ...         0       1       1    2      0   \n",
       "962                1        0   ...         1       1       1    1      0   \n",
       "998                0        0   ...         1       1       0    2      0   \n",
       "639                0        0   ...         1       0       0    4      9   \n",
       "932                0        0   ...         1       0       0    4      0   \n",
       "\n",
       "     tQ602d  SourceIncome  ageyr10  justify  tQ602c  \n",
       "995       1             5        2        0       0  \n",
       "962       1             4        2        1       0  \n",
       "998       0             4        2        0       0  \n",
       "639       0             5        4        1       0  \n",
       "932       0             5        4        0       0  \n",
       "\n",
       "[5 rows x 30 columns]"
      ]
     },
     "execution_count": 155,
     "metadata": {},
     "output_type": "execute_result"
    }
   ],
   "source": [
    "# Select only the significant variables \n",
    "X_train_reduced = X_train[colsig].copy()  #might need to create a function???\n",
    "X_train_reduced.head()"
   ]
  },
  {
   "cell_type": "code",
   "execution_count": 156,
   "metadata": {},
   "outputs": [
    {
     "data": {
      "text/plain": [
       "Index(['CONTROLNUM', 'Q702R', 'Q515R', 'Q513R', 'mcv1006', 'mcv1006a',\n",
       "       'mcv1006b', 'mcv1008', 'men_alcohol_all', 'mcv1009', 'earlymarriage',\n",
       "       'Fam_support', 'Q516R', 'edpart', 'rQ701d', 'rQ701b', 'rQ701a',\n",
       "       'sumdiffage', 'edresp', 'country', 'rQ701c', 'sQ601c', 'sQ601d', 'EP3',\n",
       "       'FCMAR', 'tQ602d', 'SourceIncome', 'ageyr10', 'justify', 'tQ602c'],\n",
       "      dtype='object')"
      ]
     },
     "execution_count": 156,
     "metadata": {},
     "output_type": "execute_result"
    }
   ],
   "source": [
    "X_train_reduced.columns"
   ]
  },
  {
   "cell_type": "code",
   "execution_count": 157,
   "metadata": {},
   "outputs": [
    {
     "data": {
      "text/html": [
       "<div>\n",
       "<style scoped>\n",
       "    .dataframe tbody tr th:only-of-type {\n",
       "        vertical-align: middle;\n",
       "    }\n",
       "\n",
       "    .dataframe tbody tr th {\n",
       "        vertical-align: top;\n",
       "    }\n",
       "\n",
       "    .dataframe thead th {\n",
       "        text-align: right;\n",
       "    }\n",
       "</style>\n",
       "<table border=\"1\" class=\"dataframe\">\n",
       "  <thead>\n",
       "    <tr style=\"text-align: right;\">\n",
       "      <th>sexphys</th>\n",
       "      <th>0</th>\n",
       "      <th>1</th>\n",
       "    </tr>\n",
       "    <tr>\n",
       "      <th>CONTROLNUM</th>\n",
       "      <th></th>\n",
       "      <th></th>\n",
       "    </tr>\n",
       "  </thead>\n",
       "  <tbody>\n",
       "    <tr>\n",
       "      <th>0</th>\n",
       "      <td>1489</td>\n",
       "      <td>367</td>\n",
       "    </tr>\n",
       "    <tr>\n",
       "      <th>1</th>\n",
       "      <td>622</td>\n",
       "      <td>245</td>\n",
       "    </tr>\n",
       "    <tr>\n",
       "      <th>2</th>\n",
       "      <td>339</td>\n",
       "      <td>258</td>\n",
       "    </tr>\n",
       "    <tr>\n",
       "      <th>3</th>\n",
       "      <td>295</td>\n",
       "      <td>439</td>\n",
       "    </tr>\n",
       "  </tbody>\n",
       "</table>\n",
       "</div>"
      ],
      "text/plain": [
       "sexphys        0    1\n",
       "CONTROLNUM           \n",
       "0           1489  367\n",
       "1            622  245\n",
       "2            339  258\n",
       "3            295  439"
      ]
     },
     "execution_count": 157,
     "metadata": {},
     "output_type": "execute_result"
    }
   ],
   "source": [
    "pd.crosstab(X_train_reduced['CONTROLNUM'], y_train)"
   ]
  },
  {
   "cell_type": "code",
   "execution_count": 158,
   "metadata": {},
   "outputs": [
    {
     "data": {
      "text/plain": [
       "CONTROLNUM\n",
       "0      1856\n",
       "1       867\n",
       "2       597\n",
       "3       734\n",
       "All    4054\n",
       "Name: All, dtype: int64"
      ]
     },
     "execution_count": 158,
     "metadata": {},
     "output_type": "execute_result"
    }
   ],
   "source": [
    "pd.crosstab(X_train_reduced['CONTROLNUM'], y_train, margins=True)['All']"
   ]
  },
  {
   "cell_type": "code",
   "execution_count": 159,
   "metadata": {},
   "outputs": [
    {
     "data": {
      "text/plain": [
       "CONTROLNUM\n",
       "0      0.197737\n",
       "1      0.282584\n",
       "2      0.432161\n",
       "3      0.598093\n",
       "All    0.322891\n",
       "dtype: float64"
      ]
     },
     "execution_count": 159,
     "metadata": {},
     "output_type": "execute_result"
    }
   ],
   "source": [
    "pd.crosstab(X_train_reduced['CONTROLNUM'], y_train, margins=True)[1] / pd.crosstab(X_train_reduced['CONTROLNUM'], y_train, margins=True)['All']"
   ]
  },
  {
   "cell_type": "code",
   "execution_count": 160,
   "metadata": {},
   "outputs": [
    {
     "name": "stdout",
     "output_type": "stream",
     "text": [
      "earlymarriage\n",
      "0      0.302930\n",
      "1      0.447482\n",
      "9      0.287208\n",
      "All    0.322891\n",
      "dtype: float64\n",
      "edpart\n",
      "1      0.372140\n",
      "2      0.313984\n",
      "3      0.239227\n",
      "All    0.322891\n",
      "dtype: float64\n",
      "sumdiffage\n",
      "1      0.405732\n",
      "2      0.303571\n",
      "3      0.311203\n",
      "4      0.304950\n",
      "All    0.322891\n",
      "dtype: float64\n",
      "edresp\n",
      "1      0.376048\n",
      "2      0.324205\n",
      "3      0.273298\n",
      "All    0.322891\n",
      "dtype: float64\n",
      "country\n",
      "1      0.378212\n",
      "2      0.278592\n",
      "3      0.337349\n",
      "4      0.301543\n",
      "5      0.289855\n",
      "All    0.322891\n",
      "dtype: float64\n",
      "EP3\n",
      "1      0.286312\n",
      "2      0.363429\n",
      "3      0.332432\n",
      "4      0.342430\n",
      "All    0.322891\n",
      "dtype: float64\n",
      "FCMAR\n",
      "0      0.327026\n",
      "1      0.370667\n",
      "9      0.287208\n",
      "All    0.322891\n",
      "dtype: float64\n",
      "ageyr10\n",
      "1      0.259067\n",
      "2      0.317682\n",
      "3      0.347503\n",
      "4      0.327081\n",
      "5      0.345588\n",
      "All    0.322891\n",
      "dtype: float64\n",
      "SourceIncome\n",
      "1      0.325333\n",
      "2      0.360841\n",
      "3      0.280042\n",
      "4      0.316667\n",
      "5      0.320819\n",
      "All    0.322891\n",
      "dtype: float64\n",
      "Q702R\n",
      "1      0.223394\n",
      "2      0.348054\n",
      "3      0.663569\n",
      "All    0.322891\n",
      "dtype: float64\n",
      "CONTROLNUM\n",
      "0      0.197737\n",
      "1      0.282584\n",
      "2      0.432161\n",
      "3      0.598093\n",
      "All    0.322891\n",
      "dtype: float64\n"
     ]
    }
   ],
   "source": [
    "nominal_var = [\"earlymarriage\", 'edpart', 'sumdiffage','edresp','country',\n",
    "                'EP3', 'FCMAR','ageyr10','SourceIncome',\"Q702R\", 'CONTROLNUM' ]\n",
    "for var in nominal_var:\n",
    "    print(pd.crosstab(X_train_reduced[var], y_train, margins=True)[1] / pd.crosstab(X_train_reduced[var], y_train, margins=True)['All'])"
   ]
  },
  {
   "cell_type": "code",
   "execution_count": 161,
   "metadata": {},
   "outputs": [],
   "source": [
    "nominal_var = [\"earlymarriage\", 'edpart', 'sumdiffage','edresp','country',\n",
    "                'EP3', 'FCMAR','ageyr10','SourceIncome',\"Q702R\", 'CONTROLNUM' ]\n",
    "for var in nominal_var:\n",
    "    X_train_reduced[var] = X_train_reduced[var].astype('category')"
   ]
  },
  {
   "cell_type": "code",
   "execution_count": 162,
   "metadata": {},
   "outputs": [],
   "source": [
    "X_train_dummies = pd.get_dummies(X_train_reduced)"
   ]
  },
  {
   "cell_type": "code",
   "execution_count": 163,
   "metadata": {},
   "outputs": [
    {
     "data": {
      "text/plain": [
       "(4054, 61)"
      ]
     },
     "execution_count": 163,
     "metadata": {},
     "output_type": "execute_result"
    }
   ],
   "source": [
    "X_train_dummies.shape"
   ]
  },
  {
   "cell_type": "code",
   "execution_count": 164,
   "metadata": {},
   "outputs": [
    {
     "data": {
      "text/plain": [
       "Index(['Q515R', 'Q513R', 'mcv1006', 'mcv1006a', 'mcv1006b', 'mcv1008',\n",
       "       'men_alcohol_all', 'mcv1009', 'Fam_support', 'Q516R', 'rQ701d',\n",
       "       'rQ701b', 'rQ701a', 'rQ701c', 'sQ601c', 'sQ601d', 'tQ602d', 'justify',\n",
       "       'tQ602c', 'CONTROLNUM_0', 'CONTROLNUM_1', 'CONTROLNUM_2',\n",
       "       'CONTROLNUM_3', 'Q702R_1', 'Q702R_2', 'Q702R_3', 'earlymarriage_0',\n",
       "       'earlymarriage_1', 'earlymarriage_9', 'edpart_1', 'edpart_2',\n",
       "       'edpart_3', 'sumdiffage_1', 'sumdiffage_2', 'sumdiffage_3',\n",
       "       'sumdiffage_4', 'edresp_1', 'edresp_2', 'edresp_3', 'country_1',\n",
       "       'country_2', 'country_3', 'country_4', 'country_5', 'EP3_1', 'EP3_2',\n",
       "       'EP3_3', 'EP3_4', 'FCMAR_0', 'FCMAR_1', 'FCMAR_9', 'SourceIncome_1',\n",
       "       'SourceIncome_2', 'SourceIncome_3', 'SourceIncome_4', 'SourceIncome_5',\n",
       "       'ageyr10_1', 'ageyr10_2', 'ageyr10_3', 'ageyr10_4', 'ageyr10_5'],\n",
       "      dtype='object')"
      ]
     },
     "execution_count": 164,
     "metadata": {},
     "output_type": "execute_result"
    }
   ],
   "source": [
    "X_train_dummies.columns"
   ]
  },
  {
   "cell_type": "code",
   "execution_count": 165,
   "metadata": {},
   "outputs": [],
   "source": [
    "#Drop columns based on theory and chi2 contingency\n",
    "X_train_dummies.drop(columns=['earlymarriage_9', 'edpart_3', 'sumdiffage_4', 'edresp_3', 'country_2', 'EP3_1', 'FCMAR_9', \n",
    "                              'ageyr10_1', 'SourceIncome_3', 'Q702R_1', 'CONTROLNUM_0'], inplace=True)"
   ]
  },
  {
   "cell_type": "code",
   "execution_count": 166,
   "metadata": {},
   "outputs": [],
   "source": [
    "'''cols = list(result_chi2.keys())\n",
    "cols.sort()'''\n",
    "\n",
    "cols0 = list(X_train_dummies.columns)"
   ]
  },
  {
   "cell_type": "code",
   "execution_count": 167,
   "metadata": {},
   "outputs": [],
   "source": [
    "#chi2 test: all the features with the target variable\n",
    "from sklearn.feature_selection import chi2"
   ]
  },
  {
   "cell_type": "code",
   "execution_count": 168,
   "metadata": {},
   "outputs": [],
   "source": [
    "def chi2_selection(df_X, df_y):\n",
    "    \"To add commments\"\n",
    "    df_chi2 = chi2(df_X, df_y)\n",
    "\n",
    "    # Convert the chi2 tests into one-dimensional 1darray with corresponding df column names as axis labels\n",
    "    f_chi2 = pd.Series(df_chi2[1], df_X.columns)\n",
    "\n",
    "    # Sort the array in ascending order of the pvalues\n",
    "    f_chi2.sort_values(ascending=True, inplace=True)\n",
    "\n",
    "    # Select the significant features \n",
    "    sign_chi2 = f_chi2[f_chi2<=0.05]\n",
    "\n",
    "    print(sign_chi2.shape)\n",
    "    return sign_chi2"
   ]
  },
  {
   "cell_type": "code",
   "execution_count": 169,
   "metadata": {},
   "outputs": [
    {
     "name": "stdout",
     "output_type": "stream",
     "text": [
      "(29,)\n"
     ]
    }
   ],
   "source": [
    "result_chi2 = chi2_selection(X_train_dummies, y_train)"
   ]
  },
  {
   "cell_type": "code",
   "execution_count": 170,
   "metadata": {
    "scrolled": false
   },
   "outputs": [
    {
     "data": {
      "text/plain": [
       "Q702R_3            4.525820e-64\n",
       "CONTROLNUM_3       3.055143e-57\n",
       "Q515R              4.053025e-30\n",
       "Q513R              7.075178e-28\n",
       "mcv1006            1.047921e-21\n",
       "mcv1006a           7.428265e-21\n",
       "mcv1008            3.768960e-20\n",
       "mcv1006b           1.229658e-19\n",
       "mcv1009            6.515760e-17\n",
       "men_alcohol_all    1.224368e-16\n",
       "earlymarriage_1    2.146712e-12\n",
       "Q516R              5.800714e-09\n",
       "CONTROLNUM_2       1.130279e-08\n",
       "sumdiffage_1       5.070108e-06\n",
       "edpart_1           4.902647e-05\n",
       "country_1          2.237989e-04\n",
       "edresp_1           1.019536e-03\n",
       "tQ602d             1.903722e-03\n",
       "SourceIncome_2     4.324852e-03\n",
       "FCMAR_1            5.138660e-03\n",
       "justify            7.202083e-03\n",
       "rQ701d             7.924162e-03\n",
       "EP3_2              1.033209e-02\n",
       "CONTROLNUM_1       1.114044e-02\n",
       "Fam_support        1.205877e-02\n",
       "tQ602c             1.598623e-02\n",
       "sQ601c             3.044801e-02\n",
       "Q702R_2            4.918182e-02\n",
       "earlymarriage_0    4.956180e-02\n",
       "dtype: float64"
      ]
     },
     "execution_count": 170,
     "metadata": {},
     "output_type": "execute_result"
    }
   ],
   "source": [
    "result_chi2"
   ]
  },
  {
   "cell_type": "code",
   "execution_count": null,
   "metadata": {},
   "outputs": [],
   "source": []
  },
  {
   "cell_type": "code",
   "execution_count": 171,
   "metadata": {},
   "outputs": [],
   "source": [
    "cols1 = list(result_chi2.keys())\n",
    "cols1.sort()"
   ]
  },
  {
   "cell_type": "code",
   "execution_count": 172,
   "metadata": {},
   "outputs": [
    {
     "name": "stdout",
     "output_type": "stream",
     "text": [
      "['CONTROLNUM_1', 'CONTROLNUM_2', 'CONTROLNUM_3', 'EP3_2', 'FCMAR_1', 'Fam_support', 'Q513R', 'Q515R', 'Q516R', 'Q702R_2', 'Q702R_3', 'SourceIncome_2', 'country_1', 'earlymarriage_0', 'earlymarriage_1', 'edpart_1', 'edresp_1', 'justify', 'mcv1006', 'mcv1006a', 'mcv1006b', 'mcv1008', 'mcv1009', 'men_alcohol_all', 'rQ701d', 'sQ601c', 'sumdiffage_1', 'tQ602c', 'tQ602d']\n"
     ]
    }
   ],
   "source": [
    "print(cols1)"
   ]
  },
  {
   "cell_type": "markdown",
   "metadata": {},
   "source": [
    "## SET 2: LOGISTIC MODEL"
   ]
  },
  {
   "cell_type": "code",
   "execution_count": 173,
   "metadata": {},
   "outputs": [],
   "source": [
    "import statsmodels.api as sm"
   ]
  },
  {
   "cell_type": "code",
   "execution_count": 174,
   "metadata": {},
   "outputs": [
    {
     "data": {
      "text/plain": [
       "'Q515R + Q513R + mcv1006 + mcv1006a + mcv1006b + mcv1008 + men_alcohol_all + mcv1009 + Fam_support + Q516R + rQ701d + rQ701b + rQ701a + rQ701c + sQ601c + sQ601d + tQ602d + justify + tQ602c + CONTROLNUM_1 + CONTROLNUM_2 + CONTROLNUM_3 + Q702R_2 + Q702R_3 + earlymarriage_0 + earlymarriage_1 + edpart_1 + edpart_2 + sumdiffage_1 + sumdiffage_2 + sumdiffage_3 + edresp_1 + edresp_2 + country_1 + country_3 + country_4 + country_5 + EP3_2 + EP3_3 + EP3_4 + FCMAR_0 + FCMAR_1 + SourceIncome_1 + SourceIncome_2 + SourceIncome_4 + SourceIncome_5 + ageyr10_2 + ageyr10_3 + ageyr10_4 + ageyr10_5'"
      ]
     },
     "execution_count": 174,
     "metadata": {},
     "output_type": "execute_result"
    }
   ],
   "source": [
    "' + '.join(cols0)"
   ]
  },
  {
   "cell_type": "code",
   "execution_count": 175,
   "metadata": {},
   "outputs": [
    {
     "name": "stdout",
     "output_type": "stream",
     "text": [
      "               Results: Generalized linear model\n",
      "================================================================\n",
      "Model:              GLM              AIC:            4195.4942  \n",
      "Link Function:      logit            BIC:            -29167.5729\n",
      "Dependent Variable: sexphys          Log-Likelihood: -2047.7    \n",
      "Date:               2019-05-05 21:17 LL-Null:        -2550.1    \n",
      "No. Observations:   4054             Deviance:       4095.5     \n",
      "Df Model:           49               Pearson chi2:   4.03e+03   \n",
      "Df Residuals:       4004             Scale:          1.0000     \n",
      "Method:             IRLS                                        \n",
      "----------------------------------------------------------------\n",
      "                 Coef.  Std.Err.    z     P>|z|   [0.025  0.975]\n",
      "----------------------------------------------------------------\n",
      "Intercept       -3.3973   0.2937 -11.5670 0.0000 -3.9729 -2.8216\n",
      "Q515R            0.5681   0.1108   5.1278 0.0000  0.3509  0.7852\n",
      "Q513R            0.5331   0.1336   3.9894 0.0001  0.2712  0.7950\n",
      "mcv1006          0.4465   0.0891   5.0083 0.0000  0.2718  0.6212\n",
      "mcv1006a         0.3023   0.1057   2.8584 0.0043  0.0950  0.5095\n",
      "mcv1006b         0.3745   0.1020   3.6735 0.0002  0.1747  0.5743\n",
      "mcv1008          0.4286   0.1311   3.2686 0.0011  0.1716  0.6856\n",
      "men_alcohol_all  0.2347   0.0932   2.5182 0.0118  0.0520  0.4173\n",
      "mcv1009          0.2991   0.1109   2.6976 0.0070  0.0818  0.5165\n",
      "Fam_support     -0.4577   0.1023  -4.4747 0.0000 -0.6583 -0.2572\n",
      "Q516R           -0.1571   0.1707  -0.9202 0.3575 -0.4916  0.1775\n",
      "rQ701d          -0.3203   0.1655  -1.9357 0.0529 -0.6446  0.0040\n",
      "rQ701b          -0.3710   0.1975  -1.8780 0.0604 -0.7581  0.0162\n",
      "rQ701a           0.1688   0.1879   0.8982 0.3691 -0.1995  0.5371\n",
      "rQ701c           0.2814   0.1769   1.5909 0.1116 -0.0653  0.6281\n",
      "sQ601c          -0.0049   0.0930  -0.0522 0.9584 -0.1872  0.1775\n",
      "sQ601d           0.3159   0.0950   3.3259 0.0009  0.1297  0.5020\n",
      "tQ602d           0.0802   0.1124   0.7142 0.4751 -0.1400  0.3005\n",
      "justify         -0.0851   0.1159  -0.7344 0.4627 -0.3122  0.1420\n",
      "tQ602c           0.0705   0.1323   0.5327 0.5943 -0.1889  0.3298\n",
      "CONTROLNUM_1     0.3103   0.1056   2.9383 0.0033  0.1033  0.5174\n",
      "CONTROLNUM_2     0.7703   0.1158   6.6497 0.0000  0.5433  0.9974\n",
      "CONTROLNUM_3     1.2395   0.1165  10.6368 0.0000  1.0111  1.4679\n",
      "Q702R_2          0.3584   0.0869   4.1243 0.0000  0.1881  0.5288\n",
      "Q702R_3          1.2212   0.1223   9.9824 0.0000  0.9814  1.4610\n",
      "earlymarriage_0  0.0820   0.0721   1.1368 0.2556 -0.0593  0.2233\n",
      "earlymarriage_1  0.4655   0.0891   5.2269 0.0000  0.2910  0.6401\n",
      "edpart_1         0.3358   0.1338   2.5089 0.0121  0.0735  0.5981\n",
      "edpart_2         0.2224   0.1244   1.7879 0.0738 -0.0214  0.4662\n",
      "sumdiffage_1     0.3274   0.1258   2.6033 0.0092  0.0809  0.5739\n",
      "sumdiffage_2    -0.0453   0.1097  -0.4125 0.6799 -0.2604  0.1698\n",
      "sumdiffage_3    -0.0413   0.1079  -0.3830 0.7017 -0.2528  0.1702\n",
      "edresp_1        -0.0812   0.1394  -0.5821 0.5605 -0.3545  0.1921\n",
      "edresp_2        -0.0290   0.1081  -0.2682 0.7885 -0.2409  0.1829\n",
      "country_1        0.3283   0.1504   2.1831 0.0290  0.0336  0.6231\n",
      "country_3        0.2479   0.1489   1.6652 0.0959 -0.0439  0.5397\n",
      "country_4        0.2800   0.1534   1.8254 0.0679 -0.0206  0.5807\n",
      "country_5        0.1072   0.1559   0.6874 0.4918 -0.1984  0.4127\n",
      "EP3_2            0.4429   0.1266   3.4987 0.0005  0.1948  0.6911\n",
      "EP3_3            0.5639   0.1885   2.9915 0.0028  0.1945  0.9334\n",
      "EP3_4            0.1106   0.1399   0.7903 0.4294 -0.1637  0.3849\n",
      "FCMAR_0          0.2791   0.0883   3.1611 0.0016  0.1061  0.4521\n",
      "FCMAR_1          0.2684   0.0851   3.1520 0.0016  0.1015  0.4353\n",
      "SourceIncome_1   0.1502   0.1646   0.9127 0.3614 -0.1724  0.4728\n",
      "SourceIncome_2   0.3010   0.1213   2.4809 0.0131  0.0632  0.5388\n",
      "SourceIncome_4   0.1285   0.1208   1.0642 0.2872 -0.1082  0.3653\n",
      "SourceIncome_5   0.2780   0.1509   1.8427 0.0654 -0.0177  0.5738\n",
      "ageyr10_2        0.5014   0.1424   3.5220 0.0004  0.2224  0.7804\n",
      "ageyr10_3        0.6678   0.1489   4.4862 0.0000  0.3761  0.9596\n",
      "ageyr10_4        0.5712   0.1569   3.6418 0.0003  0.2638  0.8787\n",
      "ageyr10_5        0.6513   0.1681   3.8736 0.0001  0.3217  0.9808\n",
      "================================================================\n",
      "\n"
     ]
    }
   ],
   "source": [
    "model = sm.formula.glm(formula='''sexphys ~ Q515R + Q513R + mcv1006 + mcv1006a + mcv1006b + mcv1008 + men_alcohol_all + \n",
    "                        mcv1009 + Fam_support + Q516R + rQ701d + rQ701b + rQ701a + rQ701c + sQ601c + sQ601d + tQ602d + \n",
    "                        justify + tQ602c + CONTROLNUM_1 + CONTROLNUM_2 + CONTROLNUM_3 + Q702R_2 + Q702R_3 + \n",
    "                        earlymarriage_0 + earlymarriage_1 + edpart_1 + edpart_2 + sumdiffage_1 + sumdiffage_2 + \n",
    "                        sumdiffage_3 + edresp_1 + edresp_2 + country_1 + country_3 + country_4 + country_5 + EP3_2 + \n",
    "                        EP3_3 + EP3_4 + FCMAR_0 + FCMAR_1 + SourceIncome_1 + SourceIncome_2 + SourceIncome_4 + \n",
    "                        SourceIncome_5 + ageyr10_2 + ageyr10_3 + ageyr10_4 + ageyr10_5''',\n",
    "                       family=sm.families.Binomial(), data=X_train_dummies.join(y_train)).fit()\n",
    "print(model.summary2())\n"
   ]
  },
  {
   "cell_type": "code",
   "execution_count": 176,
   "metadata": {},
   "outputs": [],
   "source": [
    "#Selection A. \n",
    "cols01 = list(model.pvalues[model.pvalues <=0.05].index)"
   ]
  },
  {
   "cell_type": "code",
   "execution_count": 177,
   "metadata": {},
   "outputs": [],
   "source": [
    "cols01.sort()\n",
    "cols01.remove(\"Intercept\")"
   ]
  },
  {
   "cell_type": "code",
   "execution_count": 178,
   "metadata": {},
   "outputs": [
    {
     "name": "stdout",
     "output_type": "stream",
     "text": [
      "['CONTROLNUM_1', 'CONTROLNUM_2', 'CONTROLNUM_3', 'EP3_2', 'EP3_3', 'FCMAR_0', 'FCMAR_1', 'Fam_support', 'Q513R', 'Q515R', 'Q702R_2', 'Q702R_3', 'SourceIncome_2', 'ageyr10_2', 'ageyr10_3', 'ageyr10_4', 'ageyr10_5', 'country_1', 'earlymarriage_1', 'edpart_1', 'mcv1006', 'mcv1006a', 'mcv1006b', 'mcv1008', 'mcv1009', 'men_alcohol_all', 'sQ601d', 'sumdiffage_1']\n"
     ]
    }
   ],
   "source": [
    "print(cols01)"
   ]
  },
  {
   "cell_type": "code",
   "execution_count": 179,
   "metadata": {},
   "outputs": [
    {
     "data": {
      "text/plain": [
       "'CONTROLNUM_1 + CONTROLNUM_2 + CONTROLNUM_3 + EP3_2 + EP3_3 + FCMAR_0 + FCMAR_1 + Fam_support + Q513R + Q515R + Q702R_2 + Q702R_3 + SourceIncome_2 + ageyr10_2 + ageyr10_3 + ageyr10_4 + ageyr10_5 + country_1 + earlymarriage_1 + edpart_1 + mcv1006 + mcv1006a + mcv1006b + mcv1008 + mcv1009 + men_alcohol_all + sQ601d + sumdiffage_1'"
      ]
     },
     "execution_count": 179,
     "metadata": {},
     "output_type": "execute_result"
    }
   ],
   "source": [
    "' + '.join(cols01)"
   ]
  },
  {
   "cell_type": "code",
   "execution_count": 180,
   "metadata": {},
   "outputs": [],
   "source": [
    "#len(cols01)"
   ]
  },
  {
   "cell_type": "code",
   "execution_count": 181,
   "metadata": {},
   "outputs": [
    {
     "name": "stdout",
     "output_type": "stream",
     "text": [
      "               Results: Generalized linear model\n",
      "================================================================\n",
      "Model:              GLM              AIC:            4179.6742  \n",
      "Link Function:      logit            BIC:            -29315.8496\n",
      "Dependent Variable: sexphys          Log-Likelihood: -2060.8    \n",
      "Date:               2019-05-05 21:17 LL-Null:        -2550.1    \n",
      "No. Observations:   4054             Deviance:       4121.7     \n",
      "Df Model:           28               Pearson chi2:   4.01e+03   \n",
      "Df Residuals:       4025             Scale:          1.0000     \n",
      "Method:             IRLS                                        \n",
      "----------------------------------------------------------------\n",
      "                 Coef.  Std.Err.    z     P>|z|   [0.025  0.975]\n",
      "----------------------------------------------------------------\n",
      "Intercept       -2.9961   0.1901 -15.7586 0.0000 -3.3687 -2.6235\n",
      "CONTROLNUM_1     0.2952   0.1029   2.8674 0.0041  0.0934  0.4969\n",
      "CONTROLNUM_2     0.7743   0.1121   6.9093 0.0000  0.5546  0.9939\n",
      "CONTROLNUM_3     1.2696   0.1094  11.6049 0.0000  1.0551  1.4840\n",
      "EP3_2            0.3255   0.1021   3.1894 0.0014  0.1255  0.5255\n",
      "EP3_3            0.4327   0.1492   2.9001 0.0037  0.1403  0.7251\n",
      "FCMAR_0          0.2248   0.1164   1.9315 0.0534 -0.0033  0.4529\n",
      "FCMAR_1          0.2357   0.1206   1.9551 0.0506 -0.0006  0.4720\n",
      "Fam_support     -0.4478   0.0998  -4.4874 0.0000 -0.6435 -0.2522\n",
      "Q513R            0.5308   0.1323   4.0125 0.0001  0.2715  0.7901\n",
      "Q515R            0.5306   0.0939   5.6498 0.0000  0.3466  0.7147\n",
      "Q702R_2          0.3378   0.0858   3.9385 0.0001  0.1697  0.5059\n",
      "Q702R_3          1.2563   0.1202  10.4543 0.0000  1.0207  1.4918\n",
      "SourceIncome_2   0.1816   0.0874   2.0764 0.0379  0.0102  0.3530\n",
      "ageyr10_2        0.4367   0.1383   3.1583 0.0016  0.1657  0.7077\n",
      "ageyr10_3        0.5925   0.1431   4.1412 0.0000  0.3121  0.8730\n",
      "ageyr10_4        0.5112   0.1512   3.3820 0.0007  0.2149  0.8074\n",
      "ageyr10_5        0.6287   0.1607   3.9132 0.0001  0.3138  0.9436\n",
      "country_1        0.1816   0.0999   1.8173 0.0692 -0.0143  0.3775\n",
      "earlymarriage_1  0.3934   0.1065   3.6952 0.0002  0.1847  0.6020\n",
      "edpart_1         0.1857   0.0836   2.2203 0.0264  0.0218  0.3496\n",
      "mcv1006          0.4558   0.0878   5.1894 0.0000  0.2837  0.6280\n",
      "mcv1006a         0.2901   0.1047   2.7716 0.0056  0.0850  0.4953\n",
      "mcv1006b         0.3573   0.1000   3.5742 0.0004  0.1614  0.5532\n",
      "mcv1008          0.4518   0.1294   3.4921 0.0005  0.1982  0.7053\n",
      "mcv1009          0.2783   0.1094   2.5444 0.0109  0.0639  0.4926\n",
      "men_alcohol_all  0.2451   0.0915   2.6785 0.0074  0.0658  0.4245\n",
      "sQ601d           0.2936   0.0906   3.2411 0.0012  0.1161  0.4712\n",
      "sumdiffage_1     0.3806   0.1044   3.6459 0.0003  0.1760  0.5852\n",
      "================================================================\n",
      "\n"
     ]
    }
   ],
   "source": [
    "model2 = sm.formula.glm(formula='''sexphys ~ CONTROLNUM_1 + CONTROLNUM_2 + CONTROLNUM_3 + EP3_2 + EP3_3 + FCMAR_0 + \n",
    "                    FCMAR_1 + Fam_support + Q513R + Q515R + Q702R_2 + Q702R_3 + SourceIncome_2 + ageyr10_2 + ageyr10_3 + \n",
    "                    ageyr10_4 + ageyr10_5 + country_1 + earlymarriage_1 + edpart_1 + mcv1006 + mcv1006a + mcv1006b + \n",
    "                    mcv1008 + mcv1009 + men_alcohol_all + sQ601d + sumdiffage_1''',\n",
    "                       family=sm.families.Binomial(), data=X_train_dummies.join(y_train)).fit()\n",
    "print(model2.summary2())"
   ]
  },
  {
   "cell_type": "code",
   "execution_count": 182,
   "metadata": {},
   "outputs": [],
   "source": [
    "cols02 = list(model2.pvalues[model2.pvalues <=0.01].index)\n",
    "cols02.remove('Intercept')\n",
    "cols02.sort()"
   ]
  },
  {
   "cell_type": "code",
   "execution_count": 183,
   "metadata": {},
   "outputs": [
    {
     "data": {
      "text/plain": [
       "'CONTROLNUM_1 + CONTROLNUM_2 + CONTROLNUM_3 + EP3_2 + EP3_3 + Fam_support + Q513R + Q515R + Q702R_2 + Q702R_3 + ageyr10_2 + ageyr10_3 + ageyr10_4 + ageyr10_5 + earlymarriage_1 + mcv1006 + mcv1006a + mcv1006b + mcv1008 + men_alcohol_all + sQ601d + sumdiffage_1'"
      ]
     },
     "execution_count": 183,
     "metadata": {},
     "output_type": "execute_result"
    }
   ],
   "source": [
    "' + '.join(cols02)"
   ]
  },
  {
   "cell_type": "code",
   "execution_count": 184,
   "metadata": {},
   "outputs": [
    {
     "name": "stdout",
     "output_type": "stream",
     "text": [
      "               Results: Generalized linear model\n",
      "================================================================\n",
      "Model:              GLM              AIC:            4194.3568  \n",
      "Link Function:      logit            BIC:            -29339.0118\n",
      "Dependent Variable: sexphys          Log-Likelihood: -2074.2    \n",
      "Date:               2019-05-05 21:17 LL-Null:        -2550.1    \n",
      "No. Observations:   4054             Deviance:       4148.4     \n",
      "Df Model:           22               Pearson chi2:   3.98e+03   \n",
      "Df Residuals:       4031             Scale:          1.0000     \n",
      "Method:             IRLS                                        \n",
      "----------------------------------------------------------------\n",
      "                 Coef.  Std.Err.    z     P>|z|   [0.025  0.975]\n",
      "----------------------------------------------------------------\n",
      "Intercept       -2.8060   0.1802 -15.5746 0.0000 -3.1591 -2.4529\n",
      "CONTROLNUM_1     0.2861   0.1024   2.7934 0.0052  0.0854  0.4869\n",
      "CONTROLNUM_2     0.7693   0.1112   6.9167 0.0000  0.5513  0.9873\n",
      "CONTROLNUM_3     1.2668   0.1075  11.7898 0.0000  1.0562  1.4774\n",
      "EP3_2            0.2954   0.0945   3.1261 0.0018  0.1102  0.4806\n",
      "EP3_3            0.3703   0.1399   2.6479 0.0081  0.0962  0.6445\n",
      "Fam_support     -0.4194   0.0986  -4.2548 0.0000 -0.6126 -0.2262\n",
      "Q513R            0.5342   0.1315   4.0633 0.0000  0.2765  0.7918\n",
      "Q515R            0.5332   0.0924   5.7704 0.0000  0.3521  0.7143\n",
      "Q702R_2          0.3628   0.0851   4.2656 0.0000  0.1961  0.5296\n",
      "Q702R_3          1.2737   0.1190  10.7026 0.0000  1.0404  1.5069\n",
      "ageyr10_2        0.5087   0.1352   3.7631 0.0002  0.2438  0.7737\n",
      "ageyr10_3        0.6940   0.1375   5.0483 0.0000  0.4245  0.9634\n",
      "ageyr10_4        0.6423   0.1440   4.4596 0.0000  0.3600  0.9245\n",
      "ageyr10_5        0.7475   0.1529   4.8887 0.0000  0.4478  1.0472\n",
      "earlymarriage_1  0.5126   0.0996   5.1486 0.0000  0.3175  0.7078\n",
      "mcv1006          0.4723   0.0874   5.4066 0.0000  0.3011  0.6435\n",
      "mcv1006a         0.3301   0.1035   3.1888 0.0014  0.1272  0.5330\n",
      "mcv1006b         0.3719   0.0991   3.7525 0.0002  0.1776  0.5661\n",
      "mcv1008          0.5113   0.1251   4.0877 0.0000  0.2661  0.7565\n",
      "men_alcohol_all  0.2756   0.0906   3.0412 0.0024  0.0980  0.4533\n",
      "sQ601d           0.3236   0.0895   3.6153 0.0003  0.1482  0.4990\n",
      "sumdiffage_1     0.3901   0.1031   3.7833 0.0002  0.1880  0.5922\n",
      "================================================================\n",
      "\n"
     ]
    }
   ],
   "source": [
    "model3 = sm.formula.glm(formula='''sexphys ~ CONTROLNUM_1 + CONTROLNUM_2 + CONTROLNUM_3 + EP3_2 + EP3_3 + Fam_support + \n",
    "                            Q513R + Q515R + Q702R_2 + Q702R_3 + ageyr10_2 + ageyr10_3 + ageyr10_4 + ageyr10_5 + \n",
    "                            earlymarriage_1 + mcv1006 + mcv1006a + mcv1006b + mcv1008 + men_alcohol_all + sQ601d + \n",
    "                            sumdiffage_1''',\n",
    "                       family=sm.families.Binomial(), data=X_train_dummies.join(y_train)).fit()\n",
    "print(model3.summary2())"
   ]
  },
  {
   "cell_type": "code",
   "execution_count": 185,
   "metadata": {},
   "outputs": [],
   "source": [
    "cols03 = list(model3.pvalues[model3.pvalues <=0.05].index)\n",
    "cols03.remove('Intercept')\n",
    "cols03.sort()"
   ]
  },
  {
   "cell_type": "code",
   "execution_count": 186,
   "metadata": {},
   "outputs": [
    {
     "data": {
      "text/plain": [
       "'CONTROLNUM_1 + CONTROLNUM_2 + CONTROLNUM_3 + EP3_2 + EP3_3 + Fam_support + Q513R + Q515R + Q702R_2 + Q702R_3 + ageyr10_2 + ageyr10_3 + ageyr10_4 + ageyr10_5 + earlymarriage_1 + mcv1006 + mcv1006a + mcv1006b + mcv1008 + men_alcohol_all + sQ601d + sumdiffage_1'"
      ]
     },
     "execution_count": 186,
     "metadata": {},
     "output_type": "execute_result"
    }
   ],
   "source": [
    "' + '.join(cols03)"
   ]
  },
  {
   "cell_type": "raw",
   "metadata": {},
   "source": [
    "model32 = sm.formula.glm(formula='''sexphys ~ CONTROLNUM_2 + CONTROLNUM_3 + Fam_support + Q513R + Q515R + Q702R_3 + \n",
    "                        earlymarriage_1 + econviol + edpart_1 + emotvio + mcv1006 + mcv1008 + sQ601d + sumdiffage_1''',\n",
    "                       family=sm.families.Binomial(), data=X_train_dummies.join(y_train)).fit()\n",
    "print(model32.summary2())"
   ]
  },
  {
   "cell_type": "raw",
   "metadata": {},
   "source": [
    "cols032 = list(model32.pvalues[model32.pvalues <=0.05].index)\n",
    "cols032.remove('Intercept')\n",
    "cols032.sort()"
   ]
  },
  {
   "cell_type": "code",
   "execution_count": 187,
   "metadata": {},
   "outputs": [
    {
     "data": {
      "text/plain": [
       "True"
      ]
     },
     "execution_count": 187,
     "metadata": {},
     "output_type": "execute_result"
    }
   ],
   "source": [
    "cols02 == cols03"
   ]
  },
  {
   "cell_type": "code",
   "execution_count": 188,
   "metadata": {},
   "outputs": [
    {
     "data": {
      "text/plain": [
       "22"
      ]
     },
     "execution_count": 188,
     "metadata": {},
     "output_type": "execute_result"
    }
   ],
   "source": [
    "len(cols03)"
   ]
  },
  {
   "cell_type": "code",
   "execution_count": 189,
   "metadata": {},
   "outputs": [],
   "source": [
    "#cols03"
   ]
  },
  {
   "cell_type": "markdown",
   "metadata": {},
   "source": [
    "#### -- Sklearn Chi2 selection"
   ]
  },
  {
   "cell_type": "code",
   "execution_count": 190,
   "metadata": {},
   "outputs": [
    {
     "data": {
      "text/plain": [
       "'CONTROLNUM_1 + CONTROLNUM_2 + CONTROLNUM_3 + EP3_2 + FCMAR_1 + Fam_support + Q513R + Q515R + Q516R + Q702R_2 + Q702R_3 + SourceIncome_2 + country_1 + earlymarriage_0 + earlymarriage_1 + edpart_1 + edresp_1 + justify + mcv1006 + mcv1006a + mcv1006b + mcv1008 + mcv1009 + men_alcohol_all + rQ701d + sQ601c + sumdiffage_1 + tQ602c + tQ602d'"
      ]
     },
     "execution_count": 190,
     "metadata": {},
     "output_type": "execute_result"
    }
   ],
   "source": [
    "' + '.join(cols1)"
   ]
  },
  {
   "cell_type": "code",
   "execution_count": 191,
   "metadata": {},
   "outputs": [
    {
     "name": "stdout",
     "output_type": "stream",
     "text": [
      "               Results: Generalized linear model\n",
      "================================================================\n",
      "Model:              GLM              AIC:            4211.0491  \n",
      "Link Function:      logit            BIC:            -29278.1672\n",
      "Dependent Variable: sexphys          Log-Likelihood: -2075.5    \n",
      "Date:               2019-05-05 21:17 LL-Null:        -2550.1    \n",
      "No. Observations:   4054             Deviance:       4151.0     \n",
      "Df Model:           29               Pearson chi2:   4.02e+03   \n",
      "Df Residuals:       4024             Scale:          1.0000     \n",
      "Method:             IRLS                                        \n",
      "----------------------------------------------------------------\n",
      "                 Coef.  Std.Err.    z     P>|z|   [0.025  0.975]\n",
      "----------------------------------------------------------------\n",
      "Intercept       -2.1986   0.1699 -12.9436 0.0000 -2.5316 -1.8657\n",
      "CONTROLNUM_1     0.3236   0.1034   3.1306 0.0017  0.1210  0.5262\n",
      "CONTROLNUM_2     0.7787   0.1130   6.8889 0.0000  0.5571  1.0002\n",
      "CONTROLNUM_3     1.2133   0.1104  10.9905 0.0000  0.9970  1.4297\n",
      "EP3_2            0.2583   0.0971   2.6594 0.0078  0.0679  0.4486\n",
      "FCMAR_1         -0.0388   0.1115  -0.3480 0.7278 -0.2573  0.1797\n",
      "Fam_support     -0.4370   0.0997  -4.3825 0.0000 -0.6325 -0.2416\n",
      "Q513R            0.4916   0.1316   3.7355 0.0002  0.2337  0.7496\n",
      "Q515R            0.5938   0.1092   5.4396 0.0000  0.3798  0.8077\n",
      "Q516R           -0.0945   0.1680  -0.5627 0.5737 -0.4237  0.2347\n",
      "Q702R_2          0.3259   0.0855   3.8144 0.0001  0.1585  0.4934\n",
      "Q702R_3          1.1953   0.1204   9.9268 0.0000  0.9593  1.4313\n",
      "SourceIncome_2   0.2321   0.0863   2.6903 0.0071  0.0630  0.4011\n",
      "country_1        0.1850   0.0980   1.8875 0.0591 -0.0071  0.3770\n",
      "earlymarriage_0  0.2893   0.1037   2.7903 0.0053  0.0861  0.4925\n",
      "earlymarriage_1  0.6417   0.1295   4.9569 0.0000  0.3880  0.8954\n",
      "edpart_1         0.2067   0.0861   2.4020 0.0163  0.0380  0.3754\n",
      "edresp_1         0.0248   0.1021   0.2430 0.8080 -0.1753  0.2249\n",
      "justify         -0.1099   0.1141  -0.9632 0.3354 -0.3335  0.1137\n",
      "mcv1006          0.4595   0.0877   5.2383 0.0000  0.2875  0.6314\n",
      "mcv1006a         0.2963   0.1045   2.8362 0.0046  0.0915  0.5010\n",
      "mcv1006b         0.3505   0.0997   3.5153 0.0004  0.1551  0.5459\n",
      "mcv1008          0.4186   0.1290   3.2440 0.0012  0.1657  0.6715\n",
      "mcv1009          0.2888   0.1093   2.6417 0.0083  0.0745  0.5030\n",
      "men_alcohol_all  0.2306   0.0914   2.5217 0.0117  0.0514  0.4098\n",
      "rQ701d          -0.2206   0.0992  -2.2226 0.0262 -0.4151 -0.0261\n",
      "sQ601c           0.0736   0.0878   0.8386 0.4017 -0.0984  0.2456\n",
      "sumdiffage_1     0.4250   0.1023   4.1567 0.0000  0.2246  0.6255\n",
      "tQ602c           0.0761   0.1297   0.5869 0.5572 -0.1780  0.3302\n",
      "tQ602d           0.1096   0.1081   1.0131 0.3110 -0.1024  0.3215\n",
      "================================================================\n",
      "\n"
     ]
    }
   ],
   "source": [
    "model4 = sm.formula.glm(formula='''sexphys ~ CONTROLNUM_1 + CONTROLNUM_2 + CONTROLNUM_3 + EP3_2 + FCMAR_1 + Fam_support + \n",
    "                            Q513R + Q515R + Q516R + Q702R_2 + Q702R_3 + SourceIncome_2 + country_1 + earlymarriage_0 + \n",
    "                            earlymarriage_1 + edpart_1 + edresp_1 + justify + mcv1006 + mcv1006a + mcv1006b + mcv1008 + \n",
    "                            mcv1009 + men_alcohol_all + rQ701d + sQ601c + sumdiffage_1 + tQ602c + tQ602d''',\n",
    "                       family=sm.families.Binomial(), data=X_train_dummies.join(y_train)).fit()\n",
    "print(model4.summary2())"
   ]
  },
  {
   "cell_type": "code",
   "execution_count": 192,
   "metadata": {},
   "outputs": [],
   "source": [
    "cols11 = list(model4.pvalues[model4.pvalues <=0.05].index)\n",
    "cols11.remove('Intercept')\n",
    "cols11.sort()"
   ]
  },
  {
   "cell_type": "code",
   "execution_count": 193,
   "metadata": {},
   "outputs": [
    {
     "data": {
      "text/plain": [
       "'CONTROLNUM_1 + CONTROLNUM_2 + CONTROLNUM_3 + EP3_2 + Fam_support + Q513R + Q515R + Q702R_2 + Q702R_3 + SourceIncome_2 + earlymarriage_0 + earlymarriage_1 + edpart_1 + mcv1006 + mcv1006a + mcv1006b + mcv1008 + mcv1009 + men_alcohol_all + rQ701d + sumdiffage_1'"
      ]
     },
     "execution_count": 193,
     "metadata": {},
     "output_type": "execute_result"
    }
   ],
   "source": [
    "' + '.join(cols11)"
   ]
  },
  {
   "cell_type": "code",
   "execution_count": 194,
   "metadata": {},
   "outputs": [
    {
     "name": "stdout",
     "output_type": "stream",
     "text": [
      "               Results: Generalized linear model\n",
      "================================================================\n",
      "Model:              GLM              AIC:            4203.2345  \n",
      "Link Function:      logit            BIC:            -29336.4415\n",
      "Dependent Variable: sexphys          Log-Likelihood: -2079.6    \n",
      "Date:               2019-05-05 21:17 LL-Null:        -2550.1    \n",
      "No. Observations:   4054             Deviance:       4159.2     \n",
      "Df Model:           21               Pearson chi2:   4.01e+03   \n",
      "Df Residuals:       4032             Scale:          1.0000     \n",
      "Method:             IRLS                                        \n",
      "----------------------------------------------------------------\n",
      "                 Coef.  Std.Err.    z     P>|z|   [0.025  0.975]\n",
      "----------------------------------------------------------------\n",
      "Intercept       -2.1549   0.1589 -13.5613 0.0000 -2.4664 -1.8435\n",
      "CONTROLNUM_1     0.3288   0.1025   3.2088 0.0013  0.1280  0.5297\n",
      "CONTROLNUM_2     0.7940   0.1114   7.1257 0.0000  0.5756  1.0123\n",
      "CONTROLNUM_3     1.2389   0.1078  11.4915 0.0000  1.0276  1.4502\n",
      "EP3_2            0.2731   0.0921   2.9665 0.0030  0.0927  0.4535\n",
      "Fam_support     -0.4216   0.0985  -4.2803 0.0000 -0.6146 -0.2285\n",
      "Q513R            0.4759   0.1312   3.6285 0.0003  0.2189  0.7330\n",
      "Q515R            0.5659   0.0930   6.0843 0.0000  0.3836  0.7482\n",
      "Q702R_2          0.3174   0.0851   3.7295 0.0002  0.1506  0.4842\n",
      "Q702R_3          1.1791   0.1196   9.8558 0.0000  0.9446  1.4135\n",
      "SourceIncome_2   0.2127   0.0852   2.4961 0.0126  0.0457  0.3798\n",
      "earlymarriage_0  0.3228   0.0912   3.5401 0.0004  0.1441  0.5015\n",
      "earlymarriage_1  0.7128   0.1163   6.1282 0.0000  0.4848  0.9408\n",
      "edpart_1         0.2228   0.0811   2.7475 0.0060  0.0639  0.3817\n",
      "mcv1006          0.4640   0.0875   5.3051 0.0000  0.2926  0.6355\n",
      "mcv1006a         0.2887   0.1041   2.7730 0.0056  0.0847  0.4928\n",
      "mcv1006b         0.3477   0.0988   3.5186 0.0004  0.1540  0.5414\n",
      "mcv1008          0.4131   0.1280   3.2265 0.0013  0.1622  0.6640\n",
      "mcv1009          0.2972   0.1088   2.7309 0.0063  0.0839  0.5105\n",
      "men_alcohol_all  0.2354   0.0910   2.5861 0.0097  0.0570  0.4138\n",
      "rQ701d          -0.2055   0.0985  -2.0857 0.0370 -0.3986 -0.0124\n",
      "sumdiffage_1     0.4241   0.1014   4.1832 0.0000  0.2254  0.6229\n",
      "================================================================\n",
      "\n"
     ]
    }
   ],
   "source": [
    "model5 = sm.formula.glm(formula='''sexphys ~ CONTROLNUM_1 + CONTROLNUM_2 + CONTROLNUM_3 + EP3_2 + Fam_support + Q513R + \n",
    "                            Q515R + Q702R_2 + Q702R_3 + SourceIncome_2 + earlymarriage_0 + earlymarriage_1 + edpart_1 + \n",
    "                            mcv1006 + mcv1006a + mcv1006b + mcv1008 + mcv1009 + men_alcohol_all + rQ701d + sumdiffage_1''',\n",
    "                       family=sm.families.Binomial(), data=X_train_dummies.join(y_train)).fit()\n",
    "print(model5.summary2())"
   ]
  },
  {
   "cell_type": "code",
   "execution_count": 195,
   "metadata": {},
   "outputs": [],
   "source": [
    "cols12 = list(model5.pvalues[model5.pvalues <=0.05].index)\n",
    "cols12.remove('Intercept')\n",
    "cols12.sort()"
   ]
  },
  {
   "cell_type": "code",
   "execution_count": 196,
   "metadata": {},
   "outputs": [
    {
     "data": {
      "text/plain": [
       "'CONTROLNUM_1 + CONTROLNUM_2 + CONTROLNUM_3 + EP3_2 + Fam_support + Q513R + Q515R + Q702R_2 + Q702R_3 + SourceIncome_2 + earlymarriage_0 + earlymarriage_1 + edpart_1 + mcv1006 + mcv1006a + mcv1006b + mcv1008 + mcv1009 + men_alcohol_all + rQ701d + sumdiffage_1'"
      ]
     },
     "execution_count": 196,
     "metadata": {},
     "output_type": "execute_result"
    }
   ],
   "source": [
    "' + '.join(cols12)"
   ]
  },
  {
   "cell_type": "code",
   "execution_count": 197,
   "metadata": {},
   "outputs": [
    {
     "name": "stdout",
     "output_type": "stream",
     "text": [
      "               Results: Generalized linear model\n",
      "================================================================\n",
      "Model:              GLM              AIC:            4203.2345  \n",
      "Link Function:      logit            BIC:            -29336.4415\n",
      "Dependent Variable: sexphys          Log-Likelihood: -2079.6    \n",
      "Date:               2019-05-05 21:17 LL-Null:        -2550.1    \n",
      "No. Observations:   4054             Deviance:       4159.2     \n",
      "Df Model:           21               Pearson chi2:   4.01e+03   \n",
      "Df Residuals:       4032             Scale:          1.0000     \n",
      "Method:             IRLS                                        \n",
      "----------------------------------------------------------------\n",
      "                 Coef.  Std.Err.    z     P>|z|   [0.025  0.975]\n",
      "----------------------------------------------------------------\n",
      "Intercept       -2.1549   0.1589 -13.5613 0.0000 -2.4664 -1.8435\n",
      "CONTROLNUM_1     0.3288   0.1025   3.2088 0.0013  0.1280  0.5297\n",
      "CONTROLNUM_2     0.7940   0.1114   7.1257 0.0000  0.5756  1.0123\n",
      "CONTROLNUM_3     1.2389   0.1078  11.4915 0.0000  1.0276  1.4502\n",
      "EP3_2            0.2731   0.0921   2.9665 0.0030  0.0927  0.4535\n",
      "Fam_support     -0.4216   0.0985  -4.2803 0.0000 -0.6146 -0.2285\n",
      "Q513R            0.4759   0.1312   3.6285 0.0003  0.2189  0.7330\n",
      "Q515R            0.5659   0.0930   6.0843 0.0000  0.3836  0.7482\n",
      "Q702R_2          0.3174   0.0851   3.7295 0.0002  0.1506  0.4842\n",
      "Q702R_3          1.1791   0.1196   9.8558 0.0000  0.9446  1.4135\n",
      "SourceIncome_2   0.2127   0.0852   2.4961 0.0126  0.0457  0.3798\n",
      "earlymarriage_0  0.3228   0.0912   3.5401 0.0004  0.1441  0.5015\n",
      "earlymarriage_1  0.7128   0.1163   6.1282 0.0000  0.4848  0.9408\n",
      "edpart_1         0.2228   0.0811   2.7475 0.0060  0.0639  0.3817\n",
      "mcv1006          0.4640   0.0875   5.3051 0.0000  0.2926  0.6355\n",
      "mcv1006a         0.2887   0.1041   2.7730 0.0056  0.0847  0.4928\n",
      "mcv1006b         0.3477   0.0988   3.5186 0.0004  0.1540  0.5414\n",
      "mcv1008          0.4131   0.1280   3.2265 0.0013  0.1622  0.6640\n",
      "mcv1009          0.2972   0.1088   2.7309 0.0063  0.0839  0.5105\n",
      "men_alcohol_all  0.2354   0.0910   2.5861 0.0097  0.0570  0.4138\n",
      "rQ701d          -0.2055   0.0985  -2.0857 0.0370 -0.3986 -0.0124\n",
      "sumdiffage_1     0.4241   0.1014   4.1832 0.0000  0.2254  0.6229\n",
      "================================================================\n",
      "\n"
     ]
    }
   ],
   "source": [
    "model6 = sm.formula.glm(formula='''sexphys ~ CONTROLNUM_1 + CONTROLNUM_2 + CONTROLNUM_3 + EP3_2 + Fam_support + Q513R + \n",
    "                        Q515R + Q702R_2 + Q702R_3 + SourceIncome_2 + earlymarriage_0 + earlymarriage_1 + edpart_1 + \n",
    "                        mcv1006 + mcv1006a + mcv1006b + mcv1008 + mcv1009 + men_alcohol_all + rQ701d + sumdiffage_1''',\n",
    "                       family=sm.families.Binomial(), data=X_train_dummies.join(y_train)).fit()\n",
    "print(model6.summary2())"
   ]
  },
  {
   "cell_type": "code",
   "execution_count": 198,
   "metadata": {},
   "outputs": [],
   "source": [
    "cols13 = list(model6.pvalues[model6.pvalues <=0.05].index)\n",
    "cols13.remove('Intercept')\n",
    "cols13.sort()"
   ]
  },
  {
   "cell_type": "code",
   "execution_count": 199,
   "metadata": {},
   "outputs": [
    {
     "data": {
      "text/plain": [
       "True"
      ]
     },
     "execution_count": 199,
     "metadata": {},
     "output_type": "execute_result"
    }
   ],
   "source": [
    "cols12==cols13"
   ]
  },
  {
   "cell_type": "code",
   "execution_count": 200,
   "metadata": {},
   "outputs": [
    {
     "data": {
      "text/plain": [
       "21"
      ]
     },
     "execution_count": 200,
     "metadata": {},
     "output_type": "execute_result"
    }
   ],
   "source": [
    "len(cols13)"
   ]
  },
  {
   "cell_type": "markdown",
   "metadata": {},
   "source": [
    "### Create the dummies data for validation and test set"
   ]
  },
  {
   "cell_type": "code",
   "execution_count": 201,
   "metadata": {},
   "outputs": [],
   "source": [
    "def dummies(df):    \n",
    "    df_reduced = df[list(All_sign.variable)].copy() \n",
    "\n",
    "    for var in nominal_var:\n",
    "        df_reduced[var] = df_reduced[var].astype('category')  ### Might need to consider reduced for the multilevel regression\n",
    "\n",
    "    df_dummies = pd.get_dummies(df_reduced)\n",
    "    \n",
    "    return df_dummies\n"
   ]
  },
  {
   "cell_type": "code",
   "execution_count": 202,
   "metadata": {},
   "outputs": [],
   "source": [
    "X_val_dummies = dummies(X_val)"
   ]
  },
  {
   "cell_type": "code",
   "execution_count": 203,
   "metadata": {},
   "outputs": [],
   "source": [
    "X_test_dummies = dummies(X_test)"
   ]
  },
  {
   "cell_type": "code",
   "execution_count": 204,
   "metadata": {},
   "outputs": [],
   "source": [
    "#X_test_dummies.head()"
   ]
  },
  {
   "cell_type": "code",
   "execution_count": 205,
   "metadata": {},
   "outputs": [],
   "source": [
    "from sklearn.model_selection import PredefinedSplit"
   ]
  },
  {
   "cell_type": "code",
   "execution_count": 206,
   "metadata": {},
   "outputs": [],
   "source": [
    "fold = np.array([-1 for x in range(X_train_dummies.shape[0])] + [0 for x in range(X_val_dummies.shape[0])])\n",
    "ps = PredefinedSplit(test_fold=fold)"
   ]
  },
  {
   "cell_type": "code",
   "execution_count": 207,
   "metadata": {},
   "outputs": [],
   "source": [
    "#Drop columns based on theory and chi2 contingency\n",
    "X_val_dummies.drop(columns=['earlymarriage_9', 'edpart_3', 'sumdiffage_4', 'edresp_3', 'country_2', 'EP3_1', 'FCMAR_9', \n",
    "                              'ageyr10_1', 'SourceIncome_3', 'Q702R_1', 'CONTROLNUM_0'], inplace=True)"
   ]
  },
  {
   "cell_type": "code",
   "execution_count": 208,
   "metadata": {},
   "outputs": [],
   "source": [
    "#Drop columns based on theory and chi2 contingency\n",
    "X_test_dummies.drop(columns=['earlymarriage_9', 'edpart_3', 'sumdiffage_4', 'edresp_3', 'country_2', 'EP3_1', 'FCMAR_9', \n",
    "                              'ageyr10_1', 'SourceIncome_3', 'Q702R_1', 'CONTROLNUM_0'], inplace=True)"
   ]
  },
  {
   "cell_type": "code",
   "execution_count": 209,
   "metadata": {},
   "outputs": [],
   "source": [
    "X_all_dummies = pd.concat([X_train_dummies, X_val_dummies]) #pd.concat([X_train_dummies[cols2], X_val_dummies[cols2] ])\n",
    "X_all_dummies = X_all_dummies.reset_index()\n",
    "X_all_dummies = X_all_dummies.drop(labels='index', axis=1)\n",
    "\n",
    "y_all = pd.concat([y_train, y_val])\n",
    "#y_all = y_all.reset_index()\n",
    "#y_all = y_all.drop(labels='index', axis=1)"
   ]
  },
  {
   "cell_type": "code",
   "execution_count": 210,
   "metadata": {},
   "outputs": [],
   "source": [
    "#y_all.tail(10)"
   ]
  },
  {
   "cell_type": "code",
   "execution_count": 211,
   "metadata": {},
   "outputs": [],
   "source": [
    "#y_val.tail(10)"
   ]
  },
  {
   "cell_type": "markdown",
   "metadata": {},
   "source": [
    "# MODEL TRAINING"
   ]
  },
  {
   "cell_type": "markdown",
   "metadata": {},
   "source": [
    "## 1. LOGISTIC REGRESSION CLASSIFIER"
   ]
  },
  {
   "cell_type": "code",
   "execution_count": 212,
   "metadata": {},
   "outputs": [],
   "source": [
    "from sklearn.model_selection import GridSearchCV, PredefinedSplit\n",
    "from sklearn.preprocessing import StandardScaler, MinMaxScaler\n",
    "from sklearn.linear_model import LogisticRegression\n",
    "from sklearn.pipeline import Pipeline, make_pipeline\n",
    "#from sklearn.pipeline import make_pipeline\n",
    "#from sklearn.model_selection import PredefinedSplit"
   ]
  },
  {
   "cell_type": "code",
   "execution_count": 213,
   "metadata": {},
   "outputs": [],
   "source": [
    "#define a learning curve function\n",
    "\n",
    "from sklearn.model_selection import learning_curve\n",
    "\n",
    "def l_curve(estimator, df_train, df_target, title):\n",
    "    train_sizes, train_scores, test_scores =\\\n",
    "                    learning_curve(estimator=estimator,\n",
    "                                   X=df_train,  #Need to add a scorer related to recall\n",
    "                                   y=df_target,\n",
    "                                   train_sizes=np.linspace(0.1, 1.0, 10),\n",
    "                                   cv=ps,\n",
    "                                   scoring='roc_auc',\n",
    "                                   n_jobs=1)\n",
    "\n",
    "    train_mean = np.mean(train_scores, axis=1)\n",
    "    train_std = np.std(train_scores, axis=1)\n",
    "    test_mean = np.mean(test_scores, axis=1)\n",
    "    test_std = np.std(test_scores, axis=1)\n",
    "\n",
    "    plt.plot(train_sizes, train_mean,\n",
    "             color='blue', marker='o',\n",
    "             markersize=5, label='training accuracy')\n",
    "\n",
    "    plt.fill_between(train_sizes,\n",
    "                     train_mean + train_std,\n",
    "                     train_mean - train_std,\n",
    "                     alpha=0.15, color='blue')\n",
    "\n",
    "    plt.plot(train_sizes, test_mean,\n",
    "             color='green', linestyle='--',\n",
    "             marker='s', markersize=5,\n",
    "             label='validation accuracy')\n",
    "\n",
    "    plt.fill_between(train_sizes,\n",
    "                     test_mean + test_std,\n",
    "                     test_mean - test_std,\n",
    "                     alpha=0.15, color='green')\n",
    "\n",
    "    plt.grid()\n",
    "    plt.xlabel('Number of training samples')\n",
    "    plt.ylabel('Accuracy')\n",
    "    plt.legend(loc='lower right')\n",
    "    plt.ylim([0.5, 1.03])\n",
    "    plt.tight_layout()\n",
    "    plt.title(title)\n",
    "    plt.show()\n",
    "    #return train_sizes, train_scores, test_scores"
   ]
  },
  {
   "cell_type": "code",
   "execution_count": 214,
   "metadata": {},
   "outputs": [],
   "source": [
    "#Define a function to create the confusion matrix\n",
    "\n",
    "from sklearn.metrics import confusion_matrix\n",
    "\n",
    "def conf_mat (estimator, np_train, np_test, title, y_true=y_val):\n",
    "    clf = estimator\n",
    "    clf.fit(np_train, y_train)\n",
    "    y_pred = clf.predict(np_test)\n",
    "    confmat = confusion_matrix(y_true=y_val, y_pred=y_pred)\n",
    "\n",
    "    fig, ax = plt.subplots(figsize=(5, 5))\n",
    "    ax.matshow(confmat, cmap=plt.cm.Blues, alpha=0.3)\n",
    "    for i in range(confmat.shape[0]):\n",
    "        for j in range(confmat.shape[1]):\n",
    "            ax.text(x=j, y=i,\n",
    "            s=confmat[i, j],\n",
    "            va='center', ha='center')\n",
    "    plt.xlabel('predicted label')\n",
    "    plt.ylabel('true label')\n",
    "    plt.title(title)\n",
    "    plt.show()"
   ]
  },
  {
   "cell_type": "code",
   "execution_count": 215,
   "metadata": {},
   "outputs": [],
   "source": [
    "# Create a function to calculate the scores\n",
    "\n",
    "from sklearn.metrics import classification_report, f1_score\n",
    "\n",
    "#from sklearn.metrics import precision_score\n",
    "#from sklearn.metrics import recall_score, f1_score\n",
    "from sklearn.metrics import roc_curve\n",
    "from sklearn.metrics import roc_auc_score, accuracy_score\n",
    "\n",
    "def different_scores (estimator, np_train, np_test, title, y=y_val):\n",
    "    \n",
    "    #instantiate the classifier and do predictions\n",
    "    clf = estimator\n",
    "    clf.fit(np_train, y_train)\n",
    "    y_pred = clf.predict(np_test)\n",
    "    \n",
    "    print(classification_report(y, y_pred, target_names=['no', 'yes']))  #sample_weight=[0.33, 0.67]\n",
    "    \n",
    "    #precision_score(y_true=y, y_pred=y_pred)\n",
    "    '''#print the different scores \n",
    "    print('Precision: %.3f' % precision_score(\n",
    "    y_true=y, y_pred=y_pred))\n",
    "    print('Recall: %.3f' % recall_score(\n",
    "    y_true=y, y_pred=y_pred))\n",
    "    print('F1: %.3f' % f1_score(\n",
    "    y_true=y, y_pred=y_pred))'''\n",
    "    print('Accuracy: %.3f' % accuracy_score(\n",
    "    y_true=y, y_pred=y_pred))\n",
    "    \n",
    "    #create the AUC \n",
    "    \n",
    "    auc = roc_auc_score(y, clf.predict_proba(np_test)[:,1])#y_pred)average='micro'\n",
    "    fpr, tpr, thresholds = roc_curve(y, clf.predict_proba(np_test)[:,1])\n",
    "    plt.figure()\n",
    "    plt.plot(fpr, tpr, label='AUC = %0.3f' % auc)\n",
    "    plt.plot([0, 1], [0, 1],'r--')\n",
    "    plt.xlim([0.0, 1.0])\n",
    "    plt.ylim([0.0, 1.05])\n",
    "    plt.xlabel('False Positive Rate')\n",
    "    plt.ylabel('True Positive Rate')\n",
    "    plt.title('Receiver Operating Characteristic - '+title)\n",
    "    plt.legend(loc=\"lower right\")\n",
    "    #plt.savefig('Log_ROC')\n",
    "    plt.show()"
   ]
  },
  {
   "cell_type": "markdown",
   "metadata": {},
   "source": [
    "## 6. MLP"
   ]
  },
  {
   "cell_type": "code",
   "execution_count": null,
   "metadata": {},
   "outputs": [],
   "source": []
  },
  {
   "cell_type": "code",
   "execution_count": 216,
   "metadata": {},
   "outputs": [
    {
     "data": {
      "text/plain": [
       "<torch._C.Generator at 0x12f811fd4d0>"
      ]
     },
     "execution_count": 216,
     "metadata": {},
     "output_type": "execute_result"
    }
   ],
   "source": [
    "#----------------    Importing packages\n",
    "\n",
    "import torch\n",
    "import torchvision\n",
    "import torchvision.transforms as transforms\n",
    "import matplotlib.pyplot as plt\n",
    "import numpy as np\n",
    "import torch.nn as nn\n",
    "import torch.nn.functional as F\n",
    "import torch.optim as optim\n",
    "from torch.autograd import Variable\n",
    "from torchvision import transforms\n",
    "from torch.utils.data import DataLoader, Dataset, TensorDataset\n",
    "from time import clock\n",
    "#from tensorboardX import SummaryWriter\n",
    "from sklearn import metrics\n",
    "from sklearn.preprocessing import label_binarize\n",
    "import pandas as pd\n",
    "\n",
    "\n",
    "torch.backends.cudnn.deterministic = True\n",
    "torch.manual_seed(999)"
   ]
  },
  {
   "cell_type": "code",
   "execution_count": 217,
   "metadata": {},
   "outputs": [],
   "source": [
    "# ----------- Initialization of some key variables\n",
    "#  Write models outputs in tensorboard files\n",
    "#writer_train = SummaryWriter('runsLN/models')\n",
    "\n",
    "batch_size = 64\n",
    "epochs = 20\n",
    "\n",
    "#--------------------      Data preprocessing\n",
    "is_cuda=False\n",
    "if torch.cuda.is_available():\n",
    "    is_cuda = True"
   ]
  },
  {
   "cell_type": "code",
   "execution_count": 218,
   "metadata": {},
   "outputs": [],
   "source": [
    "def customDataset(df_X, df_y, batch_size=batch_size):\n",
    "    X_tensor = torch.tensor(df_X.values)\n",
    "    X_tensor = X_tensor.type(torch.FloatTensor)\n",
    "    y_tensor = torch.tensor(df_y.values)\n",
    "    \n",
    "    dataset_tensor = TensorDataset(X_tensor, y_tensor)\n",
    "    dataset_loader = DataLoader(dataset=dataset_tensor, batch_size=batch_size, shuffle=True)\n",
    "    return dataset_loader\n",
    "    "
   ]
  },
  {
   "cell_type": "code",
   "execution_count": null,
   "metadata": {},
   "outputs": [],
   "source": []
  },
  {
   "cell_type": "markdown",
   "metadata": {},
   "source": [
    "## Set 2 \n",
    "### -- 2 layers"
   ]
  },
  {
   "cell_type": "code",
   "execution_count": 219,
   "metadata": {},
   "outputs": [],
   "source": [
    "train_loader = customDataset(X_train_dummies[cols03], y_train)\n",
    "train_iter = iter(train_loader)"
   ]
  },
  {
   "cell_type": "code",
   "execution_count": 220,
   "metadata": {},
   "outputs": [
    {
     "name": "stdout",
     "output_type": "stream",
     "text": [
      "inputs shape on batch size = torch.Size([64, 22])\n",
      "labels shape on batch size = torch.Size([64])\n"
     ]
    }
   ],
   "source": [
    "inputs, labels = train_iter.next()\n",
    "\n",
    "print('inputs shape on batch size = {}'.format(inputs.size()))\n",
    "print('labels shape on batch size = {}'.format(labels.size()))"
   ]
  },
  {
   "cell_type": "code",
   "execution_count": 221,
   "metadata": {},
   "outputs": [],
   "source": [
    "val_loader = customDataset(X_val_dummies[cols03], y_val)\n",
    "val_iter = iter(val_loader)"
   ]
  },
  {
   "cell_type": "code",
   "execution_count": 222,
   "metadata": {},
   "outputs": [
    {
     "data": {
      "text/plain": [
       "22"
      ]
     },
     "execution_count": 222,
     "metadata": {},
     "output_type": "execute_result"
    }
   ],
   "source": [
    "len(cols03)"
   ]
  },
  {
   "cell_type": "code",
   "execution_count": 223,
   "metadata": {},
   "outputs": [],
   "source": [
    "#cols02"
   ]
  },
  {
   "cell_type": "code",
   "execution_count": 224,
   "metadata": {},
   "outputs": [],
   "source": [
    "#   Training of the model\n",
    "#   A. Design the setup\n",
    "def fit(epoch, model, data_loader, opti, phase='training', volatile=False):\n",
    "    if phase == 'training':\n",
    "        model.train()\n",
    "    if phase == 'validation':\n",
    "        model.eval()\n",
    "        volatile = True\n",
    "    \n",
    "    running_loss = 0.0\n",
    "    running_correct = 0\n",
    "    \n",
    "    y_score1 = np.empty([0]) #\n",
    "    y_true1 = np.empty([0])  #\n",
    "    y_pred1 = np.empty([0])\n",
    "    \n",
    "    for batch_idx, (data, target) in enumerate(data_loader):\n",
    "\n",
    "        if is_cuda:\n",
    "            data, target = data.cuda(), target.cuda()\n",
    "        data, target = Variable(data, volatile), Variable(target)\n",
    "\n",
    "        if phase == 'training':\n",
    "            opti.zero_grad()\n",
    "        output = model(data)\n",
    "        #loss = F.nll_loss(output, target)\n",
    "        loss = criterion(output, target)\n",
    "\n",
    "        #running_loss += F.nll_loss(output, target, reduction='sum').data.item()\n",
    "        running_loss += criterion(output, target).cpu().data.item()\n",
    "        preds = output.data.max(dim=1, keepdim=True)[1]\n",
    "        \n",
    "        _, pred = torch.max(output.data, 1)\n",
    "        \n",
    "        running_correct += preds.eq(target.data.view_as(preds)).cpu().sum()\n",
    "        if phase == 'training':\n",
    "            loss.backward()\n",
    "            opti.step()\n",
    "        \n",
    "        y_score1 = np.concatenate((y_score1, output.detach().cpu().numpy()[:, 1]), axis=None) #\n",
    "        y_true1 = np.concatenate((y_true1, target.data.cpu().numpy()), axis=None)\n",
    "        y_pred1 = np.concatenate((y_pred1, pred.data.cpu().numpy()), axis=None)\n",
    "        \n",
    "    auc1 = roc_auc_score(y_true1, y_score1) #\n",
    "    #print(y_true1)\n",
    "    #print(y_pred1)\n",
    "    fscore = f1_score(y_true1, y_pred1)\n",
    "\n",
    "    loss = running_loss / len(data_loader.dataset)\n",
    "    accuracy = 100. * running_correct / len(data_loader.dataset)\n",
    "\n",
    "    print(\n",
    "        '{} loss is {} and {} accuracy is {}/{}, {}'.format(phase, loss, phase, running_correct, len(data_loader.dataset), accuracy ))\n",
    "    \n",
    "    print(\n",
    "        '{} AUC is {}'.format(phase, auc1))\n",
    "    \n",
    "    print('F1: %.3f' % fscore)\n",
    "    print('________________')\n",
    "    return loss, accuracy, auc1, fscore\n",
    "# -----------------------------------------------------------------------------------"
   ]
  },
  {
   "cell_type": "code",
   "execution_count": null,
   "metadata": {},
   "outputs": [],
   "source": []
  },
  {
   "cell_type": "code",
   "execution_count": 243,
   "metadata": {},
   "outputs": [],
   "source": [
    "# Model classification metrics\n",
    "\n",
    "def eval_net(clf, t_loader=val_loader):\n",
    "    #parameters initialization\n",
    "    classes = [0,1]\n",
    "\n",
    "    correct = 0\n",
    "    total = 0\n",
    "\n",
    "    y_pred = np.empty([0])\n",
    "    y_true = np.empty([0])\n",
    "    #scores = np.empty([0])\n",
    "    y_score = np.empty([0])\n",
    "\n",
    "    #Model evaluation\n",
    "    clf.eval()\n",
    "    for images, labels in t_loader:\n",
    "        if is_cuda:\n",
    "            images = images.cuda()\n",
    "        images = Variable(images)\n",
    "        outputs = clf(images)\n",
    "        _, predicted = torch.max(outputs.data, 1)\n",
    "        total += labels.size(0)\n",
    "        correct += (predicted.cpu() == labels).sum()\n",
    "\n",
    "        y_pred = np.concatenate((y_pred, predicted.data.cpu().numpy()), axis=None)\n",
    "        y_true = np.concatenate((y_true, labels.data.cpu().numpy()), axis=None)\n",
    "        #scores = np.concatenate((scores, score.data.cpu().numpy()), axis=None)\n",
    "        y_score = np.concatenate((y_score, outputs.detach().cpu().numpy()[:, 1]), axis=None)\n",
    "\n",
    "\n",
    "    conf_matrix = metrics.confusion_matrix(y_true, y_pred)\n",
    "\n",
    "    np.trace(conf_matrix)\n",
    "\n",
    "    print(\"classification rate :\", np.trace(conf_matrix)/y_val.shape[0])\n",
    "\n",
    "    print('Accuracy of the network on the validation set : %d %%' % (100 * correct / total))\n",
    "\n",
    "    df_conf_matrix = pd.DataFrame(data=conf_matrix, index=classes, columns=classes)\n",
    "\n",
    "    print(\"Confusion Matrix for the 2 classes: \\n\", df_conf_matrix)\n",
    "\n",
    "    #--------------!\n",
    "\n",
    "    #y_pred = clf.predict(np_test)\n",
    "    confmat = confusion_matrix(y_true=y_true, y_pred=y_pred)\n",
    "\n",
    "    fig, ax = plt.subplots(figsize=(5, 5))\n",
    "    ax.matshow(confmat, cmap=plt.cm.Blues, alpha=0.3)\n",
    "    for i in range(confmat.shape[0]):\n",
    "        for j in range(confmat.shape[1]):\n",
    "            ax.text(x=j, y=i,\n",
    "            s=confmat[i, j],\n",
    "            va='center', ha='center')\n",
    "    plt.xlabel('predicted label')\n",
    "    plt.ylabel('true label')\n",
    "    plt.title(\"Confusion Matrix\")\n",
    "    plt.show()\n",
    "    print(\"----------Model Classification-------------\\n\")\n",
    "    print(classification_report(y_true, y_pred, target_names=['no', 'yes']))\n",
    "    print(\" \")\n",
    "    print(\"----------Model Accuracy-------------\\n\")\n",
    "    print('Accuracy: %.3f' % accuracy_score(y_true=y_true, y_pred=y_pred))\n",
    "    print(\" \")\n",
    "    print(\"----------Model ROC/AUC-------------\\n\")\n",
    "    auc = roc_auc_score(y_true, y_score )#y_pred)average='micro'\n",
    "    fpr, tpr, thresholds = roc_curve(y_true, y_score)\n",
    "    plt.figure()\n",
    "    plt.plot(fpr, tpr, label='AUC = %0.3f' % auc)\n",
    "    plt.plot([0, 1], [0, 1],'r--')\n",
    "    plt.xlim([0.0, 1.0])\n",
    "    plt.ylim([0.0, 1.05])\n",
    "    plt.xlabel('False Positive Rate')\n",
    "    plt.ylabel('True Positive Rate')\n",
    "    plt.title('Receiver Operating Characteristic')\n",
    "    plt.legend(loc=\"lower right\")\n",
    "    #plt.savefig('Log_ROC')\n",
    "    plt.show()"
   ]
  },
  {
   "cell_type": "markdown",
   "metadata": {},
   "source": [
    "#### --- Fscore"
   ]
  },
  {
   "cell_type": "code",
   "execution_count": 226,
   "metadata": {},
   "outputs": [],
   "source": [
    "# Choose the right values for x.\n",
    "input_size = 22\n",
    "hidden_size = 5    #11\n",
    "#hidden_size2 = 4    #6\n",
    "num_classes = 2\n",
    "num_epochs = 20\n",
    "#batch_size = 100\n",
    "learning_rate = 0.001"
   ]
  },
  {
   "cell_type": "code",
   "execution_count": 227,
   "metadata": {},
   "outputs": [],
   "source": [
    "netf2 = Net(input_size, hidden_size, num_classes)\n",
    "\n",
    "if is_cuda:\n",
    "    netf2.cuda()"
   ]
  },
  {
   "cell_type": "code",
   "execution_count": 228,
   "metadata": {},
   "outputs": [],
   "source": [
    "# Loss and Optimizer\n",
    "\n",
    "#learning_rate = 0.001\n",
    "#weights = [0.4, 1]\n",
    "#class_weights=torch.FloatTensor(weights).cuda()   # might need to add is cuda\n",
    "class_weights=torch.FloatTensor([1, 2])\n",
    "criterion = nn.CrossEntropyLoss(weight=class_weights)\n",
    "\n",
    "#criterion = F.cross_entropy()\n",
    "optimizerf2 = torch.optim.Adam(netf2.parameters(), lr=learning_rate)\n",
    "# -----------------------------------------------------------------------------------"
   ]
  },
  {
   "cell_type": "code",
   "execution_count": null,
   "metadata": {},
   "outputs": [],
   "source": []
  },
  {
   "cell_type": "code",
   "execution_count": 229,
   "metadata": {},
   "outputs": [
    {
     "data": {
      "text/plain": [
       "Net(\n",
       "  (fc1): Linear(in_features=22, out_features=5, bias=True)\n",
       "  (relu): ReLU()\n",
       "  (fc2): Linear(in_features=5, out_features=2, bias=True)\n",
       "  (lr): Sigmoid()\n",
       ")"
      ]
     },
     "execution_count": 229,
     "metadata": {},
     "output_type": "execute_result"
    }
   ],
   "source": [
    "#  C. Training final preparation\n",
    "\n",
    "# ----- Weight initialization\n",
    "def init_weights(m):\n",
    "    if type(m) == nn.Linear:\n",
    "        torch.nn.init.xavier_normal_(m.weight)\n",
    "        #m.bias.data.fill_(0.01)\n",
    "\n",
    "netf2.apply(init_weights)"
   ]
  },
  {
   "cell_type": "code",
   "execution_count": 230,
   "metadata": {},
   "outputs": [],
   "source": [
    "# ----- Learning rate regularization\n",
    "#####  NEED TO CHANGE THE patience\n",
    "schedulerf2 = optim.lr_scheduler.ReduceLROnPlateau(optimizerf2, mode='max', patience=2, verbose=True)"
   ]
  },
  {
   "cell_type": "code",
   "execution_count": null,
   "metadata": {},
   "outputs": [],
   "source": []
  },
  {
   "cell_type": "code",
   "execution_count": 231,
   "metadata": {},
   "outputs": [
    {
     "name": "stdout",
     "output_type": "stream",
     "text": [
      "training loss is 0.011010468755970462 and training accuracy is 1743/4054, 42\n",
      "training AUC is 0.4929873191203953\n",
      "F1: 0.405\n",
      "________________\n",
      "validation loss is 0.011224361091543534 and validation accuracy is 351/869, 40\n",
      "validation AUC is 0.49316335192820765\n",
      "F1: 0.406\n",
      "________________\n",
      "training loss is 0.010871809944473704 and training accuracy is 1910/4054, 47\n",
      "training AUC is 0.5622931338456894\n",
      "F1: 0.454\n",
      "________________\n",
      "validation loss is 0.011072831954999952 and validation accuracy is 406/869, 46\n",
      "validation AUC is 0.5555542081008974\n",
      "F1: 0.443\n",
      "________________\n",
      "training loss is 0.010730534791946411 and training accuracy is 2121/4054, 52\n",
      "training AUC is 0.6240835131866954\n",
      "F1: 0.504\n",
      "________________\n",
      "validation loss is 0.010913614367999746 and validation accuracy is 472/869, 54\n",
      "validation AUC is 0.6166232112539414\n",
      "F1: 0.504\n",
      "________________\n",
      "training loss is 0.010539157465872178 and training accuracy is 2399/4054, 59\n",
      "training AUC is 0.6772069781712984\n",
      "F1: 0.538\n",
      "________________\n",
      "validation loss is 0.010690964338282859 and validation accuracy is 546/869, 62\n",
      "validation AUC is 0.6622453310696096\n",
      "F1: 0.539\n",
      "________________\n",
      "training loss is 0.010315825536913277 and training accuracy is 2652/4054, 65\n",
      "training AUC is 0.7055995970171477\n",
      "F1: 0.556\n",
      "________________\n",
      "validation loss is 0.010501539199618394 and validation accuracy is 572/869, 65\n",
      "validation AUC is 0.6853777589134126\n",
      "F1: 0.544\n",
      "________________\n",
      "training loss is 0.010097167941226592 and training accuracy is 2755/4054, 67\n",
      "training AUC is 0.7252202420958448\n",
      "F1: 0.567\n",
      "________________\n",
      "validation loss is 0.01032258842839196 and validation accuracy is 586/869, 67\n",
      "validation AUC is 0.6977959010429299\n",
      "F1: 0.550\n",
      "________________\n",
      "training loss is 0.009931067645285126 and training accuracy is 2818/4054, 69\n",
      "training AUC is 0.7368887942658435\n",
      "F1: 0.573\n",
      "________________\n",
      "validation loss is 0.01021186220357827 and validation accuracy is 596/869, 68\n",
      "validation AUC is 0.706994300266796\n",
      "F1: 0.544\n",
      "________________\n",
      "training loss is 0.009802461861387873 and training accuracy is 2864/4054, 70\n",
      "training AUC is 0.7450252629616179\n",
      "F1: 0.582\n",
      "________________\n",
      "validation loss is 0.010107645231231584 and validation accuracy is 594/869, 68\n",
      "validation AUC is 0.7134944215377153\n",
      "F1: 0.551\n",
      "________________\n",
      "training loss is 0.009689428798071434 and training accuracy is 2863/4054, 70\n",
      "training AUC is 0.7527273005575802\n",
      "F1: 0.590\n",
      "________________\n",
      "validation loss is 0.010038402467383065 and validation accuracy is 604/869, 69\n",
      "validation AUC is 0.7172780742178025\n",
      "F1: 0.558\n",
      "________________\n",
      "training loss is 0.00961997242002106 and training accuracy is 2888/4054, 71\n",
      "training AUC is 0.7571527369020137\n",
      "F1: 0.594\n",
      "________________\n",
      "validation loss is 0.009936114655265326 and validation accuracy is 603/869, 69\n",
      "validation AUC is 0.7218045112781954\n",
      "F1: 0.560\n",
      "________________\n",
      "training loss is 0.009559678308000457 and training accuracy is 2873/4054, 70\n",
      "training AUC is 0.7602535897617865\n",
      "F1: 0.597\n",
      "________________\n",
      "validation loss is 0.009945728013375548 and validation accuracy is 615/869, 70\n",
      "validation AUC is 0.7244876303662382\n",
      "F1: 0.572\n",
      "________________\n",
      "training loss is 0.009502272007203067 and training accuracy is 2893/4054, 71\n",
      "training AUC is 0.7623074664540431\n",
      "F1: 0.594\n",
      "________________\n",
      "validation loss is 0.00983764263785201 and validation accuracy is 619/869, 71\n",
      "validation AUC is 0.7265492359932089\n",
      "F1: 0.572\n",
      "________________\n",
      "training loss is 0.009459559883339744 and training accuracy is 2897/4054, 71\n",
      "training AUC is 0.764302203742898\n",
      "F1: 0.596\n",
      "________________\n",
      "validation loss is 0.009863530944762762 and validation accuracy is 612/869, 70\n",
      "validation AUC is 0.7293748484113509\n",
      "F1: 0.572\n",
      "________________\n",
      "training loss is 0.009438234123621424 and training accuracy is 2888/4054, 71\n",
      "training AUC is 0.7665915248364621\n",
      "F1: 0.599\n",
      "________________\n",
      "validation loss is 0.009834366234317337 and validation accuracy is 612/869, 70\n",
      "validation AUC is 0.7306057482415717\n",
      "F1: 0.574\n",
      "________________\n",
      "training loss is 0.00942617813589306 and training accuracy is 2885/4054, 71\n",
      "training AUC is 0.7680439885840078\n",
      "F1: 0.598\n",
      "________________\n",
      "validation loss is 0.009768698926076241 and validation accuracy is 617/869, 71\n",
      "validation AUC is 0.7314000727625516\n",
      "F1: 0.573\n",
      "________________\n",
      "training loss is 0.00940845833956225 and training accuracy is 2903/4054, 71\n",
      "training AUC is 0.7680242290656947\n",
      "F1: 0.596\n",
      "________________\n",
      "validation loss is 0.009811993504009532 and validation accuracy is 617/869, 71\n",
      "validation AUC is 0.7323338588406499\n",
      "F1: 0.574\n",
      "________________\n",
      "training loss is 0.009360928722479452 and training accuracy is 2874/4054, 70\n",
      "training AUC is 0.7706740917927031\n",
      "F1: 0.596\n",
      "________________\n",
      "validation loss is 0.009759151482883888 and validation accuracy is 614/869, 70\n",
      "validation AUC is 0.7339285714285715\n",
      "F1: 0.577\n",
      "________________\n",
      "training loss is 0.009358945684475328 and training accuracy is 2898/4054, 71\n",
      "training AUC is 0.771251709824516\n",
      "F1: 0.597\n",
      "________________\n",
      "validation loss is 0.00974348753313475 and validation accuracy is 615/869, 70\n",
      "validation AUC is 0.7345409895707009\n",
      "F1: 0.575\n",
      "________________\n",
      "training loss is 0.009340374353311894 and training accuracy is 2879/4054, 71\n",
      "training AUC is 0.7721575863330925\n",
      "F1: 0.596\n",
      "________________\n",
      "validation loss is 0.009803722930859916 and validation accuracy is 614/869, 70\n",
      "validation AUC is 0.7353474411836042\n",
      "F1: 0.579\n",
      "________________\n",
      "training loss is 0.009320305642907586 and training accuracy is 2876/4054, 70\n",
      "training AUC is 0.7733025251829495\n",
      "F1: 0.599\n",
      "________________\n",
      "validation loss is 0.00976870585365866 and validation accuracy is 615/869, 70\n",
      "validation AUC is 0.7356748726655349\n",
      "F1: 0.577\n",
      "________________\n"
     ]
    }
   ],
   "source": [
    "# ----- Full training\n",
    "train_losses1, train_accuracy1, train_auc1, train_fscore1 = [], [], [], []\n",
    "val_losses1, val_accuracy1, val_auc1, val_fscore1= [], [], [], []\n",
    "\n",
    "start = clock()\n",
    "for epoch in range(0, epochs):\n",
    "    epoch_loss1, epoch_accuracy1, epo_auc1, epo_f1 = fit(epoch, netf2, train_loader, optimizerf2, phase='training')\n",
    "    val_epoch_loss1, val_epoch_accuracy1, val_epo_auc1, val_epo_f1 = fit(epoch, netf2, val_loader, optimizerf2, phase='validation')\n",
    "\n",
    "    train_losses1.append(epoch_loss1)\n",
    "    train_accuracy1.append(epoch_accuracy1)\n",
    "    train_auc1.append(epo_auc1)\n",
    "    train_fscore1.append(epo_f1)\n",
    "\n",
    "    val_losses1.append(val_epoch_loss1)\n",
    "    val_accuracy1.append(val_epoch_accuracy1)\n",
    "    val_auc1.append(val_epo_auc1)\n",
    "    val_fscore1.append(val_epo_f1)\n",
    "\n",
    "    # Learning rate scheduler update\n",
    "    schedulerf2.step(val_epo_f1)\n",
    "\n",
    "elapsed = clock() - start"
   ]
  },
  {
   "cell_type": "code",
   "execution_count": 232,
   "metadata": {},
   "outputs": [
    {
     "name": "stdout",
     "output_type": "stream",
     "text": [
      "3.3021058353731667\n"
     ]
    }
   ],
   "source": [
    "print(elapsed)"
   ]
  },
  {
   "cell_type": "code",
   "execution_count": 233,
   "metadata": {},
   "outputs": [
    {
     "data": {
      "image/png": "[encoded data removed]",
      "text/plain": [
       "<Figure size 432x288 with 1 Axes>"
      ]
     },
     "metadata": {},
     "output_type": "display_data"
    }
   ],
   "source": [
    "plt.plot(range(1,len(train_fscore1)+1),train_fscore1,'bo',label = 'training Fscore')\n",
    "plt.plot(range(1,len(val_fscore1)+1),val_fscore1,'r',label = 'validation Fscore')\n",
    "plt.legend()\n",
    "plt.show()"
   ]
  },
  {
   "cell_type": "code",
   "execution_count": 234,
   "metadata": {},
   "outputs": [
    {
     "data": {
      "image/png": "[encoded data removed]",
      "text/plain": [
       "<Figure size 432x288 with 1 Axes>"
      ]
     },
     "metadata": {},
     "output_type": "display_data"
    }
   ],
   "source": [
    "plt.plot(range(1,len(train_auc1)+1),train_auc1,'bo',label = 'training AUC')\n",
    "plt.plot(range(1,len(val_auc1)+1),val_auc1,'r',label = 'validation AUC')\n",
    "plt.legend()\n",
    "plt.show()"
   ]
  },
  {
   "cell_type": "code",
   "execution_count": 235,
   "metadata": {},
   "outputs": [
    {
     "data": {
      "image/png": "[encoded data removed]",
      "text/plain": [
       "<Figure size 432x288 with 1 Axes>"
      ]
     },
     "metadata": {},
     "output_type": "display_data"
    }
   ],
   "source": [
    "plt.plot(range(1,len(train_losses1)+1),train_losses1,'bo',label = 'training loss')\n",
    "plt.plot(range(1,len(val_losses1)+1),val_losses1,'r',label = 'validation loss')\n",
    "plt.legend()\n",
    "plt.show()"
   ]
  },
  {
   "cell_type": "code",
   "execution_count": 236,
   "metadata": {},
   "outputs": [
    {
     "data": {
      "image/png": "[encoded data removed]",
      "text/plain": [
       "<Figure size 432x288 with 1 Axes>"
      ]
     },
     "metadata": {},
     "output_type": "display_data"
    }
   ],
   "source": [
    "plt.plot(range(1,len(train_accuracy1)+1),train_accuracy1,'bo',label = 'train accuracy')\n",
    "plt.plot(range(1,len(val_accuracy1)+1),val_accuracy1,'r',label = 'val accuracy')\n",
    "plt.legend()\n",
    "plt.show()"
   ]
  },
  {
   "cell_type": "code",
   "execution_count": 237,
   "metadata": {
    "scrolled": false
   },
   "outputs": [
    {
     "name": "stdout",
     "output_type": "stream",
     "text": [
      "classification rate : 0.7077100115074798\n",
      "Accuracy of the network on the validation set : 70 %\n",
      "Confusion Matrix for the 2 classes: \n",
      "      0    1\n",
      "0  442  147\n",
      "1  107  173\n"
     ]
    },
    {
     "data": {
      "image/png": "[encoded data removed]",
      "text/plain": [
       "<Figure size 360x360 with 1 Axes>"
      ]
     },
     "metadata": {},
     "output_type": "display_data"
    },
    {
     "name": "stdout",
     "output_type": "stream",
     "text": [
      "----------Model Classification-------------\n",
      "\n",
      "             precision    recall  f1-score   support\n",
      "\n",
      "         no       0.81      0.75      0.78       589\n",
      "        yes       0.54      0.62      0.58       280\n",
      "\n",
      "avg / total       0.72      0.71      0.71       869\n",
      "\n",
      " \n",
      "----------Model Accuracy-------------\n",
      "\n",
      "Accuracy: 0.708\n",
      " \n",
      "----------Model ROC/AUC-------------\n",
      "\n"
     ]
    },
    {
     "data": {
      "image/png": "[encoded data removed]",
      "text/plain": [
       "<Figure size 432x288 with 1 Axes>"
      ]
     },
     "metadata": {},
     "output_type": "display_data"
    }
   ],
   "source": [
    "eval_net(netf2)"
   ]
  },
  {
   "cell_type": "code",
   "execution_count": 238,
   "metadata": {},
   "outputs": [],
   "source": [
    "test_loader = customDataset(X_test_dummies[cols03], y_test)\n",
    "val_iter = iter(test_loader)"
   ]
  },
  {
   "cell_type": "code",
   "execution_count": 244,
   "metadata": {},
   "outputs": [
    {
     "name": "stdout",
     "output_type": "stream",
     "text": [
      "classification rate : 0.7100115074798619\n",
      "Accuracy of the network on the validation set : 70 %\n",
      "Confusion Matrix for the 2 classes: \n",
      "      0    1\n",
      "0  443  148\n",
      "1  107  174\n"
     ]
    },
    {
     "data": {
      "image/png": "[encoded data removed]",
      "text/plain": [
       "<Figure size 360x360 with 1 Axes>"
      ]
     },
     "metadata": {},
     "output_type": "display_data"
    },
    {
     "name": "stdout",
     "output_type": "stream",
     "text": [
      "----------Model Classification-------------\n",
      "\n",
      "             precision    recall  f1-score   support\n",
      "\n",
      "         no       0.81      0.75      0.78       591\n",
      "        yes       0.54      0.62      0.58       281\n",
      "\n",
      "avg / total       0.72      0.71      0.71       872\n",
      "\n",
      " \n",
      "----------Model Accuracy-------------\n",
      "\n",
      "Accuracy: 0.708\n",
      " \n",
      "----------Model ROC/AUC-------------\n",
      "\n"
     ]
    },
    {
     "data": {
      "image/png": "[encoded data removed]",
      "text/plain": [
       "<Figure size 432x288 with 1 Axes>"
      ]
     },
     "metadata": {},
     "output_type": "display_data"
    }
   ],
   "source": [
    "eval_net(netf2, t_loader=test_loader)"
   ]
  },
  {
   "cell_type": "code",
   "execution_count": null,
   "metadata": {},
   "outputs": [],
   "source": []
  }
 ],
 "metadata": {
  "kernelspec": {
   "display_name": "Python 3",
   "language": "python",
   "name": "python3"
  },
  "language_info": {
   "codemirror_mode": {
    "name": "ipython",
    "version": 3
   },
   "file_extension": ".py",
   "mimetype": "text/x-python",
   "name": "python",
   "nbconvert_exporter": "python",
   "pygments_lexer": "ipython3",
   "version": "3.6.5"
  }
 },
 "nbformat": 4,
 "nbformat_minor": 2
}
