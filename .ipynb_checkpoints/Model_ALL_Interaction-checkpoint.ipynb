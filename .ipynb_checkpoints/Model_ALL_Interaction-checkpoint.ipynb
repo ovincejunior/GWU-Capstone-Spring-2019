{
 "cells": [
  {
   "cell_type": "code",
   "execution_count": 1,
   "metadata": {},
   "outputs": [],
   "source": [
    "import os\n",
    "import pandas as pd\n",
    "import numpy as np\n",
    "import matplotlib.pyplot as plt"
   ]
  },
  {
   "cell_type": "code",
   "execution_count": 2,
   "metadata": {},
   "outputs": [
    {
     "data": {
      "text/html": [
       "<div>\n",
       "<style scoped>\n",
       "    .dataframe tbody tr th:only-of-type {\n",
       "        vertical-align: middle;\n",
       "    }\n",
       "\n",
       "    .dataframe tbody tr th {\n",
       "        vertical-align: top;\n",
       "    }\n",
       "\n",
       "    .dataframe thead th {\n",
       "        text-align: right;\n",
       "    }\n",
       "</style>\n",
       "<table border=\"1\" class=\"dataframe\">\n",
       "  <thead>\n",
       "    <tr style=\"text-align: right;\">\n",
       "      <th></th>\n",
       "      <th>ep1</th>\n",
       "      <th>econviol</th>\n",
       "      <th>emotvio</th>\n",
       "      <th>physvio</th>\n",
       "      <th>sexvio</th>\n",
       "      <th>sexphys</th>\n",
       "      <th>typevio</th>\n",
       "      <th>physcur</th>\n",
       "      <th>sexcur</th>\n",
       "      <th>emotcur</th>\n",
       "      <th>...</th>\n",
       "      <th>rQ701c</th>\n",
       "      <th>rQ701d</th>\n",
       "      <th>HighIncome</th>\n",
       "      <th>Island</th>\n",
       "      <th>Governance</th>\n",
       "      <th>HDI</th>\n",
       "      <th>LAWDV</th>\n",
       "      <th>Governance1</th>\n",
       "      <th>HDI1</th>\n",
       "      <th>LAWDV1</th>\n",
       "    </tr>\n",
       "  </thead>\n",
       "  <tbody>\n",
       "    <tr>\n",
       "      <th>0</th>\n",
       "      <td>1</td>\n",
       "      <td>0</td>\n",
       "      <td>0</td>\n",
       "      <td>0</td>\n",
       "      <td>0</td>\n",
       "      <td>0</td>\n",
       "      <td>0</td>\n",
       "      <td>0</td>\n",
       "      <td>0</td>\n",
       "      <td>0</td>\n",
       "      <td>...</td>\n",
       "      <td>1</td>\n",
       "      <td>1</td>\n",
       "      <td>0</td>\n",
       "      <td>0</td>\n",
       "      <td>0.16</td>\n",
       "      <td>0.654</td>\n",
       "      <td>37</td>\n",
       "      <td>0</td>\n",
       "      <td>0</td>\n",
       "      <td>0</td>\n",
       "    </tr>\n",
       "    <tr>\n",
       "      <th>1</th>\n",
       "      <td>1</td>\n",
       "      <td>1</td>\n",
       "      <td>1</td>\n",
       "      <td>1</td>\n",
       "      <td>1</td>\n",
       "      <td>1</td>\n",
       "      <td>3</td>\n",
       "      <td>0</td>\n",
       "      <td>0</td>\n",
       "      <td>0</td>\n",
       "      <td>...</td>\n",
       "      <td>1</td>\n",
       "      <td>1</td>\n",
       "      <td>0</td>\n",
       "      <td>0</td>\n",
       "      <td>0.16</td>\n",
       "      <td>0.654</td>\n",
       "      <td>37</td>\n",
       "      <td>0</td>\n",
       "      <td>0</td>\n",
       "      <td>0</td>\n",
       "    </tr>\n",
       "    <tr>\n",
       "      <th>2</th>\n",
       "      <td>1</td>\n",
       "      <td>0</td>\n",
       "      <td>0</td>\n",
       "      <td>0</td>\n",
       "      <td>0</td>\n",
       "      <td>0</td>\n",
       "      <td>0</td>\n",
       "      <td>0</td>\n",
       "      <td>0</td>\n",
       "      <td>0</td>\n",
       "      <td>...</td>\n",
       "      <td>1</td>\n",
       "      <td>1</td>\n",
       "      <td>0</td>\n",
       "      <td>0</td>\n",
       "      <td>0.16</td>\n",
       "      <td>0.654</td>\n",
       "      <td>37</td>\n",
       "      <td>0</td>\n",
       "      <td>0</td>\n",
       "      <td>0</td>\n",
       "    </tr>\n",
       "    <tr>\n",
       "      <th>3</th>\n",
       "      <td>1</td>\n",
       "      <td>0</td>\n",
       "      <td>1</td>\n",
       "      <td>1</td>\n",
       "      <td>0</td>\n",
       "      <td>1</td>\n",
       "      <td>1</td>\n",
       "      <td>0</td>\n",
       "      <td>0</td>\n",
       "      <td>1</td>\n",
       "      <td>...</td>\n",
       "      <td>1</td>\n",
       "      <td>1</td>\n",
       "      <td>0</td>\n",
       "      <td>0</td>\n",
       "      <td>0.16</td>\n",
       "      <td>0.654</td>\n",
       "      <td>37</td>\n",
       "      <td>0</td>\n",
       "      <td>0</td>\n",
       "      <td>0</td>\n",
       "    </tr>\n",
       "    <tr>\n",
       "      <th>4</th>\n",
       "      <td>1</td>\n",
       "      <td>0</td>\n",
       "      <td>0</td>\n",
       "      <td>1</td>\n",
       "      <td>0</td>\n",
       "      <td>1</td>\n",
       "      <td>1</td>\n",
       "      <td>0</td>\n",
       "      <td>0</td>\n",
       "      <td>0</td>\n",
       "      <td>...</td>\n",
       "      <td>1</td>\n",
       "      <td>1</td>\n",
       "      <td>0</td>\n",
       "      <td>0</td>\n",
       "      <td>0.16</td>\n",
       "      <td>0.654</td>\n",
       "      <td>37</td>\n",
       "      <td>0</td>\n",
       "      <td>0</td>\n",
       "      <td>0</td>\n",
       "    </tr>\n",
       "  </tbody>\n",
       "</table>\n",
       "<p>5 rows × 91 columns</p>\n",
       "</div>"
      ],
      "text/plain": [
       "   ep1  econviol  emotvio  physvio  sexvio  sexphys  typevio  physcur  sexcur  \\\n",
       "0    1         0        0        0       0        0        0        0       0   \n",
       "1    1         1        1        1       1        1        3        0       0   \n",
       "2    1         0        0        0       0        0        0        0       0   \n",
       "3    1         0        1        1       0        1        1        0       0   \n",
       "4    1         0        0        1       0        1        1        0       0   \n",
       "\n",
       "   emotcur   ...    rQ701c  rQ701d  HighIncome  Island  Governance    HDI  \\\n",
       "0        0   ...         1       1           0       0        0.16  0.654   \n",
       "1        0   ...         1       1           0       0        0.16  0.654   \n",
       "2        0   ...         1       1           0       0        0.16  0.654   \n",
       "3        1   ...         1       1           0       0        0.16  0.654   \n",
       "4        0   ...         1       1           0       0        0.16  0.654   \n",
       "\n",
       "   LAWDV  Governance1  HDI1  LAWDV1  \n",
       "0     37            0     0       0  \n",
       "1     37            0     0       0  \n",
       "2     37            0     0       0  \n",
       "3     37            0     0       0  \n",
       "4     37            0     0       0  \n",
       "\n",
       "[5 rows x 91 columns]"
      ]
     },
     "execution_count": 2,
     "metadata": {},
     "output_type": "execute_result"
    }
   ],
   "source": [
    "# Import data from csv file\n",
    "data = pd.read_csv(\"CaribbeanAllFinal.csv\", low_memory=False)\n",
    "data.head()"
   ]
  },
  {
   "cell_type": "code",
   "execution_count": 3,
   "metadata": {},
   "outputs": [
    {
     "data": {
      "text/plain": [
       "(5795, 91)"
      ]
     },
     "execution_count": 3,
     "metadata": {},
     "output_type": "execute_result"
    }
   ],
   "source": [
    "data.shape"
   ]
  },
  {
   "cell_type": "code",
   "execution_count": 4,
   "metadata": {},
   "outputs": [],
   "source": [
    "#data.columns"
   ]
  },
  {
   "cell_type": "code",
   "execution_count": 5,
   "metadata": {},
   "outputs": [
    {
     "data": {
      "text/html": [
       "<div>\n",
       "<style scoped>\n",
       "    .dataframe tbody tr th:only-of-type {\n",
       "        vertical-align: middle;\n",
       "    }\n",
       "\n",
       "    .dataframe tbody tr th {\n",
       "        vertical-align: top;\n",
       "    }\n",
       "\n",
       "    .dataframe thead th {\n",
       "        text-align: right;\n",
       "    }\n",
       "</style>\n",
       "<table border=\"1\" class=\"dataframe\">\n",
       "  <thead>\n",
       "    <tr style=\"text-align: right;\">\n",
       "      <th></th>\n",
       "      <th>country</th>\n",
       "      <th>EP3</th>\n",
       "      <th>earlymarriage</th>\n",
       "      <th>FCMAR</th>\n",
       "      <th>ageyr5</th>\n",
       "      <th>ageyr10</th>\n",
       "      <th>edresp</th>\n",
       "      <th>w_religion</th>\n",
       "      <th>ETHNICITY</th>\n",
       "      <th>employstatus</th>\n",
       "      <th>...</th>\n",
       "      <th>eQ703g</th>\n",
       "      <th>eQ703h</th>\n",
       "      <th>CONTROLNUM</th>\n",
       "      <th>CONTROL</th>\n",
       "      <th>HighIncome</th>\n",
       "      <th>Island</th>\n",
       "      <th>Governance1</th>\n",
       "      <th>HDI1</th>\n",
       "      <th>LAWDV1</th>\n",
       "      <th>sexphys</th>\n",
       "    </tr>\n",
       "  </thead>\n",
       "  <tbody>\n",
       "    <tr>\n",
       "      <th>0</th>\n",
       "      <td>1</td>\n",
       "      <td>1</td>\n",
       "      <td>0</td>\n",
       "      <td>0</td>\n",
       "      <td>6</td>\n",
       "      <td>3</td>\n",
       "      <td>2</td>\n",
       "      <td>0</td>\n",
       "      <td>4</td>\n",
       "      <td>4</td>\n",
       "      <td>...</td>\n",
       "      <td>0</td>\n",
       "      <td>0</td>\n",
       "      <td>0</td>\n",
       "      <td>0</td>\n",
       "      <td>0</td>\n",
       "      <td>0</td>\n",
       "      <td>0</td>\n",
       "      <td>0</td>\n",
       "      <td>0</td>\n",
       "      <td>0</td>\n",
       "    </tr>\n",
       "    <tr>\n",
       "      <th>1</th>\n",
       "      <td>1</td>\n",
       "      <td>4</td>\n",
       "      <td>1</td>\n",
       "      <td>0</td>\n",
       "      <td>9</td>\n",
       "      <td>5</td>\n",
       "      <td>2</td>\n",
       "      <td>1</td>\n",
       "      <td>1</td>\n",
       "      <td>2</td>\n",
       "      <td>...</td>\n",
       "      <td>0</td>\n",
       "      <td>1</td>\n",
       "      <td>3</td>\n",
       "      <td>6</td>\n",
       "      <td>0</td>\n",
       "      <td>0</td>\n",
       "      <td>0</td>\n",
       "      <td>0</td>\n",
       "      <td>0</td>\n",
       "      <td>1</td>\n",
       "    </tr>\n",
       "    <tr>\n",
       "      <th>2</th>\n",
       "      <td>1</td>\n",
       "      <td>4</td>\n",
       "      <td>9</td>\n",
       "      <td>9</td>\n",
       "      <td>2</td>\n",
       "      <td>1</td>\n",
       "      <td>3</td>\n",
       "      <td>1</td>\n",
       "      <td>6</td>\n",
       "      <td>4</td>\n",
       "      <td>...</td>\n",
       "      <td>0</td>\n",
       "      <td>0</td>\n",
       "      <td>0</td>\n",
       "      <td>0</td>\n",
       "      <td>0</td>\n",
       "      <td>0</td>\n",
       "      <td>0</td>\n",
       "      <td>0</td>\n",
       "      <td>0</td>\n",
       "      <td>0</td>\n",
       "    </tr>\n",
       "    <tr>\n",
       "      <th>3</th>\n",
       "      <td>1</td>\n",
       "      <td>1</td>\n",
       "      <td>0</td>\n",
       "      <td>0</td>\n",
       "      <td>9</td>\n",
       "      <td>5</td>\n",
       "      <td>2</td>\n",
       "      <td>1</td>\n",
       "      <td>5</td>\n",
       "      <td>4</td>\n",
       "      <td>...</td>\n",
       "      <td>0</td>\n",
       "      <td>0</td>\n",
       "      <td>0</td>\n",
       "      <td>0</td>\n",
       "      <td>0</td>\n",
       "      <td>0</td>\n",
       "      <td>0</td>\n",
       "      <td>0</td>\n",
       "      <td>0</td>\n",
       "      <td>1</td>\n",
       "    </tr>\n",
       "    <tr>\n",
       "      <th>4</th>\n",
       "      <td>1</td>\n",
       "      <td>4</td>\n",
       "      <td>1</td>\n",
       "      <td>1</td>\n",
       "      <td>8</td>\n",
       "      <td>4</td>\n",
       "      <td>1</td>\n",
       "      <td>0</td>\n",
       "      <td>4</td>\n",
       "      <td>3</td>\n",
       "      <td>...</td>\n",
       "      <td>0</td>\n",
       "      <td>0</td>\n",
       "      <td>0</td>\n",
       "      <td>0</td>\n",
       "      <td>0</td>\n",
       "      <td>0</td>\n",
       "      <td>0</td>\n",
       "      <td>0</td>\n",
       "      <td>0</td>\n",
       "      <td>1</td>\n",
       "    </tr>\n",
       "  </tbody>\n",
       "</table>\n",
       "<p>5 rows × 62 columns</p>\n",
       "</div>"
      ],
      "text/plain": [
       "   country  EP3  earlymarriage  FCMAR  ageyr5  ageyr10  edresp  w_religion  \\\n",
       "0        1    1              0      0       6        3       2           0   \n",
       "1        1    4              1      0       9        5       2           1   \n",
       "2        1    4              9      9       2        1       3           1   \n",
       "3        1    1              0      0       9        5       2           1   \n",
       "4        1    4              1      1       8        4       1           0   \n",
       "\n",
       "   ETHNICITY  employstatus   ...     eQ703g  eQ703h  CONTROLNUM  CONTROL  \\\n",
       "0          4             4   ...          0       0           0        0   \n",
       "1          1             2   ...          0       1           3        6   \n",
       "2          6             4   ...          0       0           0        0   \n",
       "3          5             4   ...          0       0           0        0   \n",
       "4          4             3   ...          0       0           0        0   \n",
       "\n",
       "   HighIncome  Island  Governance1  HDI1  LAWDV1  sexphys  \n",
       "0           0       0            0     0       0        0  \n",
       "1           0       0            0     0       0        1  \n",
       "2           0       0            0     0       0        0  \n",
       "3           0       0            0     0       0        1  \n",
       "4           0       0            0     0       0        1  \n",
       "\n",
       "[5 rows x 62 columns]"
      ]
     },
     "execution_count": 5,
     "metadata": {},
     "output_type": "execute_result"
    }
   ],
   "source": [
    "df_caribbean = data[[\"country\", \"EP3\", \"earlymarriage\", \"FCMAR\", \"ageyr5\", \"ageyr10\", \"edresp\", \"w_religion\",\n",
    "                 \"ETHNICITY\", \"employstatus\", \"SourceIncome\", \"Fam_support\", 'mcv1006', 'mcv1006a', 'mcv1006b',\n",
    "                 'agepartner', 'sumdiffage', 'edpart', 'p_employ', 'men_alcohol_all', 'mcv1008', 'mcv1009',\n",
    "                 'Q513R', 'Q515R', 'Q516R', \n",
    "                  \"rQ701a\", \"rQ701b\", \"rQ701c\", \"rQ701d\", \"Q702R\",\n",
    "                  \"sQ601a\", 'sQ601b', 'sQ601c', 'sQ601d', 'sQ601e', 'sQ601f',\n",
    "                  \"tQ602a\", \"tQ602b\", 'tQ602c', \"tQ602d\",\n",
    "                  \"sQ607a\", \"sQ607b\", \"sQ607c\", 'sQ607d', \"sQ607e\",  \"justify\", #\"sQ607f\",\n",
    "                  \"eQ703a\", 'eQ703b', \"eQ703c\", \"eQ703d\", \"eQ703e\", \"eQ703f\", \"eQ703g\", \"eQ703h\", \"CONTROLNUM\", 'CONTROL',\n",
    "                  \"HighIncome\", \"Island\", \"Governance1\", \"HDI1\", \"LAWDV1\", #\"Governance\", \"HDI\", \"LAWDV\"\n",
    "                  #\"econviol\", \"emotvio\",                  \n",
    "                     \"sexphys\"]]\n",
    "df_caribbean.head()"
   ]
  },
  {
   "cell_type": "code",
   "execution_count": 6,
   "metadata": {},
   "outputs": [],
   "source": [
    "Guyana = df_caribbean[df_caribbean['country']==1]\n",
    "Jamaica = df_caribbean[df_caribbean['country']==2]\n",
    "Suriname = df_caribbean[df_caribbean['country']==3]\n",
    "Trinidad = df_caribbean[df_caribbean['country']==4]\n",
    "Grenada = df_caribbean[df_caribbean['country']==5]"
   ]
  },
  {
   "cell_type": "code",
   "execution_count": 7,
   "metadata": {},
   "outputs": [],
   "source": [
    "Guyana_X = Guyana.iloc[:, :-1]\n",
    "Guyana_y = Guyana.iloc[:, -1]"
   ]
  },
  {
   "cell_type": "code",
   "execution_count": 8,
   "metadata": {},
   "outputs": [],
   "source": [
    "Jamaica_X = Jamaica.iloc[:, :-1]\n",
    "Jamaica_y = Jamaica.iloc[:, -1]"
   ]
  },
  {
   "cell_type": "code",
   "execution_count": 9,
   "metadata": {},
   "outputs": [],
   "source": [
    "Suriname_X = Suriname.iloc[:, :-1]\n",
    "Suriname_y = Suriname.iloc[:, -1]"
   ]
  },
  {
   "cell_type": "code",
   "execution_count": 10,
   "metadata": {},
   "outputs": [],
   "source": [
    "Trinidad_X = Trinidad.iloc[:, :-1]\n",
    "Trinidad_y = Trinidad.iloc[:, -1]"
   ]
  },
  {
   "cell_type": "code",
   "execution_count": 11,
   "metadata": {},
   "outputs": [],
   "source": [
    "Grenada_X = Grenada.iloc[:, :-1]\n",
    "Grenada_y = Grenada.iloc[:, -1]"
   ]
  },
  {
   "cell_type": "code",
   "execution_count": 12,
   "metadata": {},
   "outputs": [],
   "source": [
    "# Randomly choose 30% of the data for validation and testing\n",
    "from sklearn.model_selection import train_test_split\n",
    "GuyanaX_train, GuyanaX_rest, Guyanay_train, Guyanay_rest = train_test_split(Guyana_X, \n",
    "                                                                            Guyana_y, \n",
    "                                                                            test_size=0.3, \n",
    "                                                                            random_state=0, \n",
    "                                                                            stratify=Guyana_y)"
   ]
  },
  {
   "cell_type": "code",
   "execution_count": 13,
   "metadata": {},
   "outputs": [],
   "source": [
    "JamaicaX_train, JamaicaX_rest, Jamaicay_train, Jamaicay_rest = train_test_split(Jamaica_X, \n",
    "                                                                                Jamaica_y, \n",
    "                                                                                test_size=0.3, \n",
    "                                                                                random_state=0, \n",
    "                                                                                stratify=Jamaica_y)"
   ]
  },
  {
   "cell_type": "code",
   "execution_count": 14,
   "metadata": {},
   "outputs": [],
   "source": [
    "SurinameX_train, SurinameX_rest, Surinamey_train, Surinamey_rest = train_test_split(Suriname_X, \n",
    "                                                                                    Suriname_y, \n",
    "                                                                                    test_size=0.3, \n",
    "                                                                                    random_state=0, \n",
    "                                                                                    stratify=Suriname_y)"
   ]
  },
  {
   "cell_type": "code",
   "execution_count": 15,
   "metadata": {},
   "outputs": [],
   "source": [
    "TrinidadX_train, TrinidadX_rest, Trinidady_train, Trinidady_rest = train_test_split(Trinidad_X, \n",
    "                                                                                    Trinidad_y, \n",
    "                                                                                    test_size=0.3, \n",
    "                                                                                    random_state=0, \n",
    "                                                                                    stratify=Trinidad_y)"
   ]
  },
  {
   "cell_type": "code",
   "execution_count": 16,
   "metadata": {},
   "outputs": [],
   "source": [
    "GrenadaX_train, GrenadaX_rest, Grenaday_train, Grenaday_rest = train_test_split(Grenada_X, \n",
    "                                                                                    Grenada_y, \n",
    "                                                                                    test_size=0.3, \n",
    "                                                                                    random_state=0, \n",
    "                                                                                    stratify=Grenada_y)"
   ]
  },
  {
   "cell_type": "code",
   "execution_count": 17,
   "metadata": {},
   "outputs": [],
   "source": [
    "# Randomly choose 50% of the data for testing\n",
    "GuyanaX_val, GuyanaX_test, Guyanay_val, Guyanay_test = train_test_split(GuyanaX_rest, \n",
    "                                                                            Guyanay_rest, \n",
    "                                                                            test_size=0.5, \n",
    "                                                                            random_state=0, \n",
    "                                                                            stratify=Guyanay_rest)"
   ]
  },
  {
   "cell_type": "code",
   "execution_count": 18,
   "metadata": {},
   "outputs": [],
   "source": [
    "JamaicaX_val, JamaicaX_test, Jamaicay_val, Jamaicay_test = train_test_split(JamaicaX_rest, \n",
    "                                                                            Jamaicay_rest, \n",
    "                                                                            test_size=0.5, \n",
    "                                                                            random_state=0, \n",
    "                                                                            stratify=Jamaicay_rest)"
   ]
  },
  {
   "cell_type": "code",
   "execution_count": 19,
   "metadata": {},
   "outputs": [],
   "source": [
    "SurinameX_val, SurinameX_test, Surinamey_val, Surinamey_test = train_test_split(SurinameX_rest, \n",
    "                                                                            Surinamey_rest, \n",
    "                                                                            test_size=0.5, \n",
    "                                                                            random_state=0, \n",
    "                                                                            stratify=Surinamey_rest)"
   ]
  },
  {
   "cell_type": "code",
   "execution_count": 20,
   "metadata": {},
   "outputs": [],
   "source": [
    "TrinidadX_val, TrinidadX_test, Trinidady_val, Trinidady_test = train_test_split(TrinidadX_rest, \n",
    "                                                                            Trinidady_rest, \n",
    "                                                                            test_size=0.5, \n",
    "                                                                            random_state=0, \n",
    "                                                                            stratify=Trinidady_rest)"
   ]
  },
  {
   "cell_type": "code",
   "execution_count": 21,
   "metadata": {},
   "outputs": [],
   "source": [
    "GrenadaX_val, GrenadaX_test, Grenaday_val, Grenaday_test = train_test_split(GrenadaX_rest, \n",
    "                                                                            Grenaday_rest, \n",
    "                                                                            test_size=0.5, \n",
    "                                                                            random_state=0, \n",
    "                                                                            stratify=Grenaday_rest)"
   ]
  },
  {
   "cell_type": "code",
   "execution_count": 22,
   "metadata": {},
   "outputs": [],
   "source": [
    "X_train = pd.concat([GuyanaX_train, JamaicaX_train, SurinameX_train, TrinidadX_train, GrenadaX_train])\n",
    "y_train = pd.concat([Guyanay_train, Jamaicay_train, Surinamey_train, Trinidady_train, Grenaday_train])\n",
    "#df_train = X_train.join(y_train)"
   ]
  },
  {
   "cell_type": "code",
   "execution_count": 23,
   "metadata": {},
   "outputs": [],
   "source": [
    "X_val = pd.concat([GuyanaX_val, JamaicaX_val, SurinameX_val, TrinidadX_val, GrenadaX_val])\n",
    "y_val = pd.concat([Guyanay_val, Jamaicay_val, Surinamey_val, Trinidady_val, Grenaday_val])\n",
    "#df_val = X_val.join(y_val)"
   ]
  },
  {
   "cell_type": "code",
   "execution_count": 24,
   "metadata": {},
   "outputs": [],
   "source": [
    "X_test = pd.concat([GuyanaX_test, JamaicaX_test, SurinameX_test, TrinidadX_test, GrenadaX_test])\n",
    "y_test = pd.concat([Guyanay_test, Jamaicay_test, Surinamey_test, Trinidady_test, Grenaday_test])\n",
    "#df_test = X_test.join(y_test)"
   ]
  },
  {
   "cell_type": "code",
   "execution_count": 25,
   "metadata": {},
   "outputs": [],
   "source": [
    "#(y_train==1).sum()/y_train.shape[0]"
   ]
  },
  {
   "cell_type": "code",
   "execution_count": 26,
   "metadata": {},
   "outputs": [],
   "source": [
    "#(y_val==1).sum()/y_val.shape[0]"
   ]
  },
  {
   "cell_type": "code",
   "execution_count": 27,
   "metadata": {},
   "outputs": [],
   "source": [
    "#(y_test==1).sum()/y_test.shape[0]"
   ]
  },
  {
   "cell_type": "code",
   "execution_count": null,
   "metadata": {},
   "outputs": [],
   "source": []
  },
  {
   "cell_type": "markdown",
   "metadata": {},
   "source": [
    "# Feature selection using chi2 and random forest"
   ]
  },
  {
   "cell_type": "code",
   "execution_count": 28,
   "metadata": {},
   "outputs": [],
   "source": [
    "from scipy.stats import chi2_contingency"
   ]
  },
  {
   "cell_type": "code",
   "execution_count": 29,
   "metadata": {},
   "outputs": [],
   "source": [
    "def chi2_sexphys(dfr_Xtrain, dfr_ytrain):\n",
    "    'Do a Chi2 test of independence and choose the significant dependence'\n",
    "    columns=dfr_Xtrain.columns.tolist()\n",
    "    \n",
    "    p_value = []\n",
    "    for column in columns:\n",
    "        observed = pd.crosstab(dfr_Xtrain[column], dfr_ytrain)\n",
    "        p_value.append(chi2_contingency(observed= observed)[1])\n",
    "\n",
    "    df = pd.DataFrame({\"variable\":columns, \n",
    "                           \"p_value\":p_value})\n",
    "    df2 = df[df.p_value <= 0.05]\n",
    "    df2 = df2.sort_values(by='p_value', ascending=True)\n",
    "    return df2"
   ]
  },
  {
   "cell_type": "code",
   "execution_count": 30,
   "metadata": {},
   "outputs": [],
   "source": [
    "All_sign=chi2_sexphys(X_train, y_train)\n",
    "#All_sign"
   ]
  },
  {
   "cell_type": "code",
   "execution_count": 34,
   "metadata": {},
   "outputs": [],
   "source": [
    "#All_sign"
   ]
  },
  {
   "cell_type": "raw",
   "metadata": {},
   "source": [
    "# Select only the significant variables \n",
    "X_train_reduced = X_train[list(All_sign.variable)].copy()  #might need to create a function???\n",
    "X_train_reduced.head()"
   ]
  },
  {
   "cell_type": "code",
   "execution_count": 35,
   "metadata": {},
   "outputs": [],
   "source": [
    "colsig = [\"country\", \"EP3\", \"earlymarriage\", \"FCMAR\", \"ageyr10\", \"edresp\", #\"w_religion\", 'ageyr5'\n",
    "                 \"SourceIncome\", \"Fam_support\", 'mcv1006', 'mcv1006a', 'mcv1006b', #\"ETHNICITY\", \"employstatus\", \"Fam_support\", 'mcv1006', 'mcv1006a', 'mcv1006b',\n",
    "                  'sumdiffage', 'edpart',  'men_alcohol_all', 'mcv1008', 'mcv1009',#'p_employ','agepartner',\n",
    "                 'Q513R', 'Q515R', 'Q516R', \n",
    "                  \"rQ701a\", \"rQ701b\", \"rQ701c\", \"rQ701d\", \"Q702R\",\n",
    "                  'sQ601c', 'sQ601d', #'sQ601e', 'sQ601f', \"sQ601a\", 'sQ601b', \n",
    "                   'tQ602c', \"tQ602d\", #\"tQ602a\", \"tQ602b\",\n",
    "                  \"justify\", #\"sQ607a\", \"sQ607b\", \"sQ607c\", 'sQ607d', \"sQ607e\",  \"justify\", #\"sQ607f\",\n",
    "                  'CONTROL', #\"eQ703a\", 'eQ703b', \"eQ703c\", \"eQ703d\", \"eQ703e\", \"eQ703f\", \"eQ703g\", \"eQ703h\", \"CONTROLNUM\", 'CONTROL',\n",
    "                   \"Island\", \"Governance1\", \"HDI1\", \"LAWDV1\", #\"Governance\", \"HDI\", \"LAWDV\", \"HighIncome\",\n",
    "                  #\"econviol\", \"emotvio\",                  \n",
    "                     #\"sexphys\"\n",
    "         ]"
   ]
  },
  {
   "cell_type": "code",
   "execution_count": 33,
   "metadata": {},
   "outputs": [
    {
     "data": {
      "text/plain": [
       "34"
      ]
     },
     "execution_count": 33,
     "metadata": {},
     "output_type": "execute_result"
    }
   ],
   "source": [
    "len(colsig)"
   ]
  },
  {
   "cell_type": "code",
   "execution_count": 36,
   "metadata": {},
   "outputs": [
    {
     "data": {
      "text/html": [
       "<div>\n",
       "<style scoped>\n",
       "    .dataframe tbody tr th:only-of-type {\n",
       "        vertical-align: middle;\n",
       "    }\n",
       "\n",
       "    .dataframe tbody tr th {\n",
       "        vertical-align: top;\n",
       "    }\n",
       "\n",
       "    .dataframe thead th {\n",
       "        text-align: right;\n",
       "    }\n",
       "</style>\n",
       "<table border=\"1\" class=\"dataframe\">\n",
       "  <thead>\n",
       "    <tr style=\"text-align: right;\">\n",
       "      <th></th>\n",
       "      <th>country</th>\n",
       "      <th>EP3</th>\n",
       "      <th>earlymarriage</th>\n",
       "      <th>FCMAR</th>\n",
       "      <th>ageyr10</th>\n",
       "      <th>edresp</th>\n",
       "      <th>SourceIncome</th>\n",
       "      <th>Fam_support</th>\n",
       "      <th>mcv1006</th>\n",
       "      <th>mcv1006a</th>\n",
       "      <th>...</th>\n",
       "      <th>sQ601c</th>\n",
       "      <th>sQ601d</th>\n",
       "      <th>tQ602c</th>\n",
       "      <th>tQ602d</th>\n",
       "      <th>justify</th>\n",
       "      <th>CONTROL</th>\n",
       "      <th>Island</th>\n",
       "      <th>Governance1</th>\n",
       "      <th>HDI1</th>\n",
       "      <th>LAWDV1</th>\n",
       "    </tr>\n",
       "  </thead>\n",
       "  <tbody>\n",
       "    <tr>\n",
       "      <th>995</th>\n",
       "      <td>1</td>\n",
       "      <td>2</td>\n",
       "      <td>1</td>\n",
       "      <td>0</td>\n",
       "      <td>2</td>\n",
       "      <td>1</td>\n",
       "      <td>5</td>\n",
       "      <td>0</td>\n",
       "      <td>0</td>\n",
       "      <td>1</td>\n",
       "      <td>...</td>\n",
       "      <td>1</td>\n",
       "      <td>1</td>\n",
       "      <td>0</td>\n",
       "      <td>1</td>\n",
       "      <td>0</td>\n",
       "      <td>0</td>\n",
       "      <td>0</td>\n",
       "      <td>0</td>\n",
       "      <td>0</td>\n",
       "      <td>0</td>\n",
       "    </tr>\n",
       "    <tr>\n",
       "      <th>962</th>\n",
       "      <td>1</td>\n",
       "      <td>1</td>\n",
       "      <td>0</td>\n",
       "      <td>0</td>\n",
       "      <td>2</td>\n",
       "      <td>2</td>\n",
       "      <td>4</td>\n",
       "      <td>1</td>\n",
       "      <td>0</td>\n",
       "      <td>0</td>\n",
       "      <td>...</td>\n",
       "      <td>1</td>\n",
       "      <td>1</td>\n",
       "      <td>0</td>\n",
       "      <td>1</td>\n",
       "      <td>1</td>\n",
       "      <td>0</td>\n",
       "      <td>0</td>\n",
       "      <td>0</td>\n",
       "      <td>0</td>\n",
       "      <td>0</td>\n",
       "    </tr>\n",
       "    <tr>\n",
       "      <th>998</th>\n",
       "      <td>1</td>\n",
       "      <td>2</td>\n",
       "      <td>0</td>\n",
       "      <td>0</td>\n",
       "      <td>2</td>\n",
       "      <td>1</td>\n",
       "      <td>4</td>\n",
       "      <td>1</td>\n",
       "      <td>0</td>\n",
       "      <td>0</td>\n",
       "      <td>...</td>\n",
       "      <td>1</td>\n",
       "      <td>0</td>\n",
       "      <td>0</td>\n",
       "      <td>0</td>\n",
       "      <td>0</td>\n",
       "      <td>0</td>\n",
       "      <td>0</td>\n",
       "      <td>0</td>\n",
       "      <td>0</td>\n",
       "      <td>0</td>\n",
       "    </tr>\n",
       "    <tr>\n",
       "      <th>639</th>\n",
       "      <td>1</td>\n",
       "      <td>4</td>\n",
       "      <td>9</td>\n",
       "      <td>9</td>\n",
       "      <td>4</td>\n",
       "      <td>2</td>\n",
       "      <td>5</td>\n",
       "      <td>1</td>\n",
       "      <td>0</td>\n",
       "      <td>0</td>\n",
       "      <td>...</td>\n",
       "      <td>0</td>\n",
       "      <td>0</td>\n",
       "      <td>0</td>\n",
       "      <td>0</td>\n",
       "      <td>1</td>\n",
       "      <td>1</td>\n",
       "      <td>0</td>\n",
       "      <td>0</td>\n",
       "      <td>0</td>\n",
       "      <td>0</td>\n",
       "    </tr>\n",
       "    <tr>\n",
       "      <th>932</th>\n",
       "      <td>1</td>\n",
       "      <td>4</td>\n",
       "      <td>0</td>\n",
       "      <td>0</td>\n",
       "      <td>4</td>\n",
       "      <td>2</td>\n",
       "      <td>5</td>\n",
       "      <td>1</td>\n",
       "      <td>0</td>\n",
       "      <td>0</td>\n",
       "      <td>...</td>\n",
       "      <td>0</td>\n",
       "      <td>0</td>\n",
       "      <td>0</td>\n",
       "      <td>0</td>\n",
       "      <td>0</td>\n",
       "      <td>0</td>\n",
       "      <td>0</td>\n",
       "      <td>0</td>\n",
       "      <td>0</td>\n",
       "      <td>0</td>\n",
       "    </tr>\n",
       "  </tbody>\n",
       "</table>\n",
       "<p>5 rows × 34 columns</p>\n",
       "</div>"
      ],
      "text/plain": [
       "     country  EP3  earlymarriage  FCMAR  ageyr10  edresp  SourceIncome  \\\n",
       "995        1    2              1      0        2       1             5   \n",
       "962        1    1              0      0        2       2             4   \n",
       "998        1    2              0      0        2       1             4   \n",
       "639        1    4              9      9        4       2             5   \n",
       "932        1    4              0      0        4       2             5   \n",
       "\n",
       "     Fam_support  mcv1006  mcv1006a   ...    sQ601c  sQ601d  tQ602c  tQ602d  \\\n",
       "995            0        0         1   ...         1       1       0       1   \n",
       "962            1        0         0   ...         1       1       0       1   \n",
       "998            1        0         0   ...         1       0       0       0   \n",
       "639            1        0         0   ...         0       0       0       0   \n",
       "932            1        0         0   ...         0       0       0       0   \n",
       "\n",
       "     justify  CONTROL  Island  Governance1  HDI1  LAWDV1  \n",
       "995        0        0       0            0     0       0  \n",
       "962        1        0       0            0     0       0  \n",
       "998        0        0       0            0     0       0  \n",
       "639        1        1       0            0     0       0  \n",
       "932        0        0       0            0     0       0  \n",
       "\n",
       "[5 rows x 34 columns]"
      ]
     },
     "execution_count": 36,
     "metadata": {},
     "output_type": "execute_result"
    }
   ],
   "source": [
    "# Select only the significant variables \n",
    "X_train_reduced = X_train[colsig].copy()  #might need to create a function???\n",
    "X_train_reduced.head()"
   ]
  },
  {
   "cell_type": "code",
   "execution_count": null,
   "metadata": {},
   "outputs": [],
   "source": []
  },
  {
   "cell_type": "code",
   "execution_count": 38,
   "metadata": {},
   "outputs": [],
   "source": [
    "nominal_var = [\"earlymarriage\", 'edpart', 'country', 'EP3', \n",
    "               'sumdiffage', 'SourceIncome', 'edresp', 'FCMAR', 'ageyr10', 'sumdiffage',  \n",
    "               \"Q702R\", \"Governance1\", \"HDI1\", \"LAWDV1\"]\n",
    "for var in nominal_var:\n",
    "    X_train_reduced[var] = X_train_reduced[var].astype('category')"
   ]
  },
  {
   "cell_type": "code",
   "execution_count": 55,
   "metadata": {},
   "outputs": [],
   "source": [
    "#X_train_reduced.dtypes"
   ]
  },
  {
   "cell_type": "code",
   "execution_count": 49,
   "metadata": {},
   "outputs": [],
   "source": [
    "X_train_dummies = pd.get_dummies(X_train_reduced)"
   ]
  },
  {
   "cell_type": "code",
   "execution_count": 50,
   "metadata": {},
   "outputs": [
    {
     "data": {
      "text/plain": [
       "(4054, 68)"
      ]
     },
     "execution_count": 50,
     "metadata": {},
     "output_type": "execute_result"
    }
   ],
   "source": [
    "X_train_dummies.shape"
   ]
  },
  {
   "cell_type": "code",
   "execution_count": 45,
   "metadata": {},
   "outputs": [
    {
     "data": {
      "text/plain": [
       "Index(['Fam_support', 'mcv1006', 'mcv1006a', 'mcv1006b', 'men_alcohol_all',\n",
       "       'mcv1008', 'mcv1009', 'Q513R', 'Q515R', 'Q516R', 'rQ701a', 'rQ701b',\n",
       "       'rQ701c', 'rQ701d', 'sQ601c', 'sQ601d', 'tQ602c', 'tQ602d', 'justify',\n",
       "       'CONTROL', 'Island', 'country_1', 'country_2', 'country_3', 'country_4',\n",
       "       'country_5', 'EP3_1', 'EP3_2', 'EP3_3', 'EP3_4', 'earlymarriage_0',\n",
       "       'earlymarriage_1', 'earlymarriage_9', 'FCMAR_0', 'FCMAR_1', 'FCMAR_9',\n",
       "       'ageyr10_1', 'ageyr10_2', 'ageyr10_3', 'ageyr10_4', 'ageyr10_5',\n",
       "       'edresp_1', 'edresp_2', 'edresp_3', 'SourceIncome_1', 'SourceIncome_2',\n",
       "       'SourceIncome_3', 'SourceIncome_4', 'SourceIncome_5', 'sumdiffage_1',\n",
       "       'sumdiffage_2', 'sumdiffage_3', 'sumdiffage_4', 'edpart_1', 'edpart_2',\n",
       "       'edpart_3', 'Q702R_1', 'Q702R_2', 'Q702R_3', 'Governance1_0',\n",
       "       'Governance1_1', 'Governance1_2', 'HDI1_0', 'HDI1_1', 'HDI1_2',\n",
       "       'LAWDV1_0', 'LAWDV1_1', 'LAWDV1_2'],\n",
       "      dtype='object')"
      ]
     },
     "execution_count": 45,
     "metadata": {},
     "output_type": "execute_result"
    }
   ],
   "source": [
    "X_train_dummies.columns"
   ]
  },
  {
   "cell_type": "code",
   "execution_count": 41,
   "metadata": {},
   "outputs": [],
   "source": [
    "def chi2_country(dfr_Xtrain, dfr_ytrain):\n",
    "    'Do a Chi2 test of independence and choose the significant dependence'\n",
    "    sign_variable = chi2_sexphys(dfr_Xtrain, dfr_ytrain).variable.values.tolist()\n",
    "    sign_variable.remove('country')\n",
    "    \n",
    "    p_value = []\n",
    "    for significant in sign_variable:\n",
    "        observed = pd.crosstab(dfr_Xtrain[significant], dfr_Xtrain['country'])\n",
    "        p_value.append(chi2_contingency(observed= observed)[1])\n",
    "\n",
    "    df = pd.DataFrame({\"variable\":sign_variable, \n",
    "                           \"p_value\":p_value})\n",
    "    df2 = df[df.p_value <= 0.05]\n",
    "    df2 = df2.sort_values(by='p_value', ascending=True)\n",
    "    return df2"
   ]
  },
  {
   "cell_type": "code",
   "execution_count": 45,
   "metadata": {},
   "outputs": [],
   "source": [
    "#chi2_country(X_train_reduced, y_train)"
   ]
  },
  {
   "cell_type": "code",
   "execution_count": 46,
   "metadata": {},
   "outputs": [],
   "source": [
    "colm = list(X_train_dummies.columns)"
   ]
  },
  {
   "cell_type": "code",
   "execution_count": 47,
   "metadata": {},
   "outputs": [],
   "source": [
    "colm.remove('country_1')\n",
    "colm.remove('country_2')\n",
    "colm.remove('country_3')\n",
    "colm.remove('country_4')\n",
    "colm.remove('country_5')"
   ]
  },
  {
   "cell_type": "code",
   "execution_count": 51,
   "metadata": {},
   "outputs": [],
   "source": [
    "#Or should I drop columns in nominal variables before doing this???\n",
    "for variable in colm:\n",
    "    X_train_dummies[variable+'X'+'country_1'] = (X_train_dummies[variable]*X_train_dummies['country_1'])\n",
    "    X_train_dummies[variable+'X'+'country_2'] = (X_train_dummies[variable]*X_train_dummies['country_2'])\n",
    "    X_train_dummies[variable+'X'+'country_3'] = (X_train_dummies[variable]*X_train_dummies['country_3'])\n",
    "    X_train_dummies[variable+'X'+'country_4'] = (X_train_dummies[variable]*X_train_dummies['country_4'])\n",
    "    X_train_dummies[variable+'X'+'country_5'] = (X_train_dummies[variable]*X_train_dummies['country_5'])"
   ]
  },
  {
   "cell_type": "code",
   "execution_count": 53,
   "metadata": {},
   "outputs": [
    {
     "data": {
      "text/plain": [
       "(4054, 383)"
      ]
     },
     "execution_count": 53,
     "metadata": {},
     "output_type": "execute_result"
    }
   ],
   "source": [
    "X_train_dummies.shape"
   ]
  },
  {
   "cell_type": "code",
   "execution_count": 54,
   "metadata": {},
   "outputs": [],
   "source": [
    "#chi2 test: all the features with the target variable\n",
    "from sklearn.feature_selection import chi2"
   ]
  },
  {
   "cell_type": "code",
   "execution_count": 55,
   "metadata": {},
   "outputs": [],
   "source": [
    "def chi2_selection(df_X, df_y):\n",
    "    \"To add commments\"\n",
    "    df_chi2 = chi2(df_X, df_y)\n",
    "\n",
    "    # Convert the chi2 tests into one-dimensional 1darray with corresponding df column names as axis labels\n",
    "    f_chi2 = pd.Series(df_chi2[1], df_X.columns)\n",
    "\n",
    "    # Sort the array in ascending order of the pvalues\n",
    "    f_chi2.sort_values(ascending=True, inplace=True)\n",
    "\n",
    "    # Select the significant features \n",
    "    sign_chi2 = f_chi2[f_chi2<=0.05]\n",
    "\n",
    "    print(sign_chi2.shape)\n",
    "    return sign_chi2"
   ]
  },
  {
   "cell_type": "code",
   "execution_count": 56,
   "metadata": {},
   "outputs": [
    {
     "name": "stdout",
     "output_type": "stream",
     "text": [
      "(172,)\n"
     ]
    }
   ],
   "source": [
    "result_chi2 = chi2_selection(X_train_dummies, y_train)"
   ]
  },
  {
   "cell_type": "code",
   "execution_count": 61,
   "metadata": {},
   "outputs": [],
   "source": [
    "#result_chi2"
   ]
  },
  {
   "cell_type": "code",
   "execution_count": 57,
   "metadata": {},
   "outputs": [],
   "source": [
    "cols = list(result_chi2.keys())"
   ]
  },
  {
   "cell_type": "code",
   "execution_count": 58,
   "metadata": {},
   "outputs": [],
   "source": [
    "cols.sort()"
   ]
  },
  {
   "cell_type": "code",
   "execution_count": 59,
   "metadata": {},
   "outputs": [
    {
     "name": "stdout",
     "output_type": "stream",
     "text": [
      "['CONTROL', 'CONTROLXcountry_1', 'CONTROLXcountry_2', 'CONTROLXcountry_3', 'CONTROLXcountry_4', 'CONTROLXcountry_5', 'EP3_1', 'EP3_1Xcountry_3', 'EP3_2', 'EP3_2Xcountry_1', 'EP3_4Xcountry_1', 'EP3_4Xcountry_3', 'FCMAR_0Xcountry_1', 'FCMAR_0Xcountry_3', 'FCMAR_1', 'FCMAR_1Xcountry_5', 'FCMAR_9', 'FCMAR_9Xcountry_1', 'FCMAR_9Xcountry_2', 'FCMAR_9Xcountry_3', 'FCMAR_9Xcountry_5', 'Fam_support', 'Fam_supportXcountry_2', 'Fam_supportXcountry_4', 'Fam_supportXcountry_5', 'Governance1_0', 'Governance1_0Xcountry_1', 'Governance1_1Xcountry_2', 'HDI1_0', 'HDI1_0Xcountry_1', 'HDI1_1Xcountry_2', 'HDI1_2', 'Island', 'IslandXcountry_2', 'LAWDV1_0', 'LAWDV1_0Xcountry_1', 'LAWDV1_1', 'LAWDV1_1Xcountry_2', 'Q513R', 'Q513RXcountry_1', 'Q513RXcountry_2', 'Q513RXcountry_3', 'Q513RXcountry_4', 'Q513RXcountry_5', 'Q515R', 'Q515RXcountry_1', 'Q515RXcountry_2', 'Q515RXcountry_3', 'Q515RXcountry_4', 'Q515RXcountry_5', 'Q516R', 'Q516RXcountry_1', 'Q516RXcountry_2', 'Q516RXcountry_3', 'Q516RXcountry_4', 'Q702R_1', 'Q702R_1Xcountry_1', 'Q702R_1Xcountry_2', 'Q702R_1Xcountry_3', 'Q702R_1Xcountry_4', 'Q702R_1Xcountry_5', 'Q702R_2', 'Q702R_2Xcountry_1', 'Q702R_3', 'Q702R_3Xcountry_1', 'Q702R_3Xcountry_2', 'Q702R_3Xcountry_3', 'Q702R_3Xcountry_4', 'Q702R_3Xcountry_5', 'SourceIncome_1Xcountry_3', 'SourceIncome_2', 'SourceIncome_2Xcountry_1', 'SourceIncome_2Xcountry_3', 'SourceIncome_3', 'SourceIncome_3Xcountry_3', 'SourceIncome_4Xcountry_1', 'SourceIncome_5Xcountry_2', 'ageyr10_1', 'ageyr10_1Xcountry_2', 'ageyr10_1Xcountry_4', 'ageyr10_1Xcountry_5', 'ageyr10_4Xcountry_1', 'ageyr10_5Xcountry_1', 'country_1', 'country_2', 'earlymarriage_0', 'earlymarriage_0Xcountry_2', 'earlymarriage_0Xcountry_3', 'earlymarriage_1', 'earlymarriage_1Xcountry_1', 'earlymarriage_1Xcountry_2', 'earlymarriage_1Xcountry_3', 'earlymarriage_1Xcountry_5', 'earlymarriage_9', 'earlymarriage_9Xcountry_1', 'earlymarriage_9Xcountry_2', 'earlymarriage_9Xcountry_3', 'earlymarriage_9Xcountry_5', 'edpart_1', 'edpart_1Xcountry_1', 'edpart_1Xcountry_3', 'edpart_3', 'edpart_3Xcountry_2', 'edpart_3Xcountry_4', 'edpart_3Xcountry_5', 'edresp_1', 'edresp_1Xcountry_1', 'edresp_1Xcountry_5', 'edresp_3', 'edresp_3Xcountry_2', 'edresp_3Xcountry_5', 'justify', 'justifyXcountry_1', 'mcv1006', 'mcv1006Xcountry_1', 'mcv1006Xcountry_2', 'mcv1006Xcountry_3', 'mcv1006Xcountry_4', 'mcv1006Xcountry_5', 'mcv1006a', 'mcv1006aXcountry_1', 'mcv1006aXcountry_2', 'mcv1006aXcountry_3', 'mcv1006aXcountry_4', 'mcv1006aXcountry_5', 'mcv1006b', 'mcv1006bXcountry_1', 'mcv1006bXcountry_2', 'mcv1006bXcountry_3', 'mcv1006bXcountry_4', 'mcv1006bXcountry_5', 'mcv1008', 'mcv1008Xcountry_1', 'mcv1008Xcountry_2', 'mcv1008Xcountry_3', 'mcv1008Xcountry_4', 'mcv1009', 'mcv1009Xcountry_1', 'mcv1009Xcountry_2', 'mcv1009Xcountry_3', 'mcv1009Xcountry_4', 'mcv1009Xcountry_5', 'men_alcohol_all', 'men_alcohol_allXcountry_1', 'men_alcohol_allXcountry_2', 'men_alcohol_allXcountry_3', 'men_alcohol_allXcountry_4', 'rQ701aXcountry_4', 'rQ701aXcountry_5', 'rQ701bXcountry_4', 'rQ701bXcountry_5', 'rQ701cXcountry_4', 'rQ701d', 'rQ701dXcountry_4', 'sQ601c', 'sQ601cXcountry_1', 'sQ601cXcountry_3', 'sQ601dXcountry_1', 'sQ601dXcountry_2', 'sQ601dXcountry_3', 'sumdiffage_1', 'sumdiffage_1Xcountry_1', 'sumdiffage_1Xcountry_3', 'sumdiffage_4Xcountry_1', 'sumdiffage_4Xcountry_2', 'sumdiffage_4Xcountry_5', 'tQ602c', 'tQ602cXcountry_1', 'tQ602cXcountry_3', 'tQ602d', 'tQ602dXcountry_1', 'tQ602dXcountry_3']\n"
     ]
    }
   ],
   "source": [
    "print(cols)"
   ]
  },
  {
   "cell_type": "code",
   "execution_count": 67,
   "metadata": {},
   "outputs": [],
   "source": [
    "#chi2(np.array(X_train_reduced['HDI1'].values).reshape(-1, 1), y_train)"
   ]
  },
  {
   "cell_type": "code",
   "execution_count": 68,
   "metadata": {},
   "outputs": [],
   "source": [
    "#np.array(X_train_reduced['HDI1'].values).reshape(-1, 1)  \n",
    "#Should I keep ordinal variables not dummies? -- NO, I created them and they don't seem to be really ordinal."
   ]
  },
  {
   "cell_type": "code",
   "execution_count": 62,
   "metadata": {},
   "outputs": [],
   "source": [
    "#cols.remove('earlymarriage_0')"
   ]
  },
  {
   "cell_type": "code",
   "execution_count": 63,
   "metadata": {},
   "outputs": [
    {
     "data": {
      "text/plain": [
       "'CONTROL + CONTROLXcountry_1 + CONTROLXcountry_2 + CONTROLXcountry_3 + CONTROLXcountry_4 + CONTROLXcountry_5 + EP3_1 + EP3_1Xcountry_3 + EP3_2 + EP3_2Xcountry_1 + EP3_4Xcountry_1 + EP3_4Xcountry_3 + FCMAR_0Xcountry_1 + FCMAR_0Xcountry_3 + FCMAR_1 + FCMAR_1Xcountry_5 + FCMAR_9 + FCMAR_9Xcountry_1 + FCMAR_9Xcountry_2 + FCMAR_9Xcountry_3 + FCMAR_9Xcountry_5 + Fam_support + Fam_supportXcountry_2 + Fam_supportXcountry_4 + Fam_supportXcountry_5 + Governance1_0 + Governance1_0Xcountry_1 + Governance1_1Xcountry_2 + HDI1_0 + HDI1_0Xcountry_1 + HDI1_1Xcountry_2 + HDI1_2 + Island + IslandXcountry_2 + LAWDV1_0 + LAWDV1_0Xcountry_1 + LAWDV1_1 + LAWDV1_1Xcountry_2 + Q513R + Q513RXcountry_1 + Q513RXcountry_2 + Q513RXcountry_3 + Q513RXcountry_4 + Q513RXcountry_5 + Q515R + Q515RXcountry_1 + Q515RXcountry_2 + Q515RXcountry_3 + Q515RXcountry_4 + Q515RXcountry_5 + Q516R + Q516RXcountry_1 + Q516RXcountry_2 + Q516RXcountry_3 + Q516RXcountry_4 + Q702R_1 + Q702R_1Xcountry_1 + Q702R_1Xcountry_2 + Q702R_1Xcountry_3 + Q702R_1Xcountry_4 + Q702R_1Xcountry_5 + Q702R_2 + Q702R_2Xcountry_1 + Q702R_3 + Q702R_3Xcountry_1 + Q702R_3Xcountry_2 + Q702R_3Xcountry_3 + Q702R_3Xcountry_4 + Q702R_3Xcountry_5 + SourceIncome_1Xcountry_3 + SourceIncome_2 + SourceIncome_2Xcountry_1 + SourceIncome_2Xcountry_3 + SourceIncome_3 + SourceIncome_3Xcountry_3 + SourceIncome_4Xcountry_1 + SourceIncome_5Xcountry_2 + ageyr10_1 + ageyr10_1Xcountry_2 + ageyr10_1Xcountry_4 + ageyr10_1Xcountry_5 + ageyr10_4Xcountry_1 + ageyr10_5Xcountry_1 + country_1 + country_2 + earlymarriage_0 + earlymarriage_0Xcountry_2 + earlymarriage_0Xcountry_3 + earlymarriage_1 + earlymarriage_1Xcountry_1 + earlymarriage_1Xcountry_2 + earlymarriage_1Xcountry_3 + earlymarriage_1Xcountry_5 + earlymarriage_9 + earlymarriage_9Xcountry_1 + earlymarriage_9Xcountry_2 + earlymarriage_9Xcountry_3 + earlymarriage_9Xcountry_5 + edpart_1 + edpart_1Xcountry_1 + edpart_1Xcountry_3 + edpart_3 + edpart_3Xcountry_2 + edpart_3Xcountry_4 + edpart_3Xcountry_5 + edresp_1 + edresp_1Xcountry_1 + edresp_1Xcountry_5 + edresp_3 + edresp_3Xcountry_2 + edresp_3Xcountry_5 + justify + justifyXcountry_1 + mcv1006 + mcv1006Xcountry_1 + mcv1006Xcountry_2 + mcv1006Xcountry_3 + mcv1006Xcountry_4 + mcv1006Xcountry_5 + mcv1006a + mcv1006aXcountry_1 + mcv1006aXcountry_2 + mcv1006aXcountry_3 + mcv1006aXcountry_4 + mcv1006aXcountry_5 + mcv1006b + mcv1006bXcountry_1 + mcv1006bXcountry_2 + mcv1006bXcountry_3 + mcv1006bXcountry_4 + mcv1006bXcountry_5 + mcv1008 + mcv1008Xcountry_1 + mcv1008Xcountry_2 + mcv1008Xcountry_3 + mcv1008Xcountry_4 + mcv1009 + mcv1009Xcountry_1 + mcv1009Xcountry_2 + mcv1009Xcountry_3 + mcv1009Xcountry_4 + mcv1009Xcountry_5 + men_alcohol_all + men_alcohol_allXcountry_1 + men_alcohol_allXcountry_2 + men_alcohol_allXcountry_3 + men_alcohol_allXcountry_4 + rQ701aXcountry_4 + rQ701aXcountry_5 + rQ701bXcountry_4 + rQ701bXcountry_5 + rQ701cXcountry_4 + rQ701d + rQ701dXcountry_4 + sQ601c + sQ601cXcountry_1 + sQ601cXcountry_3 + sQ601dXcountry_1 + sQ601dXcountry_2 + sQ601dXcountry_3 + sumdiffage_1 + sumdiffage_1Xcountry_1 + sumdiffage_1Xcountry_3 + sumdiffage_4Xcountry_1 + sumdiffage_4Xcountry_2 + sumdiffage_4Xcountry_5 + tQ602c + tQ602cXcountry_1 + tQ602cXcountry_3 + tQ602d + tQ602dXcountry_1 + tQ602dXcountry_3'"
      ]
     },
     "execution_count": 63,
     "metadata": {},
     "output_type": "execute_result"
    }
   ],
   "source": [
    "' + '.join(cols)"
   ]
  },
  {
   "cell_type": "code",
   "execution_count": 64,
   "metadata": {},
   "outputs": [],
   "source": [
    "import statsmodels.api as sm"
   ]
  },
  {
   "cell_type": "code",
   "execution_count": 65,
   "metadata": {},
   "outputs": [
    {
     "name": "stdout",
     "output_type": "stream",
     "text": [
      "                    Results: Generalized linear model\n",
      "=========================================================================\n",
      "Model:                 GLM                 AIC:               4257.7189  \n",
      "Link Function:         logit               BIC:               -28525.0619\n",
      "Dependent Variable:    sexphys             Log-Likelihood:    -1986.9    \n",
      "Date:                  2019-03-26 15:42    LL-Null:           -2550.1    \n",
      "No. Observations:      4054                Deviance:          3973.7     \n",
      "Df Model:              141                 Pearson chi2:      4.03e+03   \n",
      "Df Residuals:          3912                Scale:             1.0000     \n",
      "Method:                IRLS                                              \n",
      "-------------------------------------------------------------------------\n",
      "                           Coef.  Std.Err.    z    P>|z|   [0.025  0.975]\n",
      "-------------------------------------------------------------------------\n",
      "Intercept                 -0.4640   0.2158 -2.1501 0.0315 -0.8870 -0.0410\n",
      "CONTROL                    0.2386   0.0217 11.0003 0.0000  0.1961  0.2811\n",
      "CONTROLXcountry_1          0.0770   0.0493  1.5615 0.1184 -0.0196  0.1736\n",
      "CONTROLXcountry_2          0.0545   0.0573  0.9513 0.3415 -0.0578  0.1669\n",
      "CONTROLXcountry_3          0.0477   0.0489  0.9763 0.3289 -0.0481  0.1436\n",
      "CONTROLXcountry_4          0.0790   0.0557  1.4178 0.1562 -0.0302  0.1883\n",
      "CONTROLXcountry_5         -0.0197   0.0458 -0.4291 0.6678 -0.1095  0.0702\n",
      "EP3_1                     -0.2831   0.1862 -1.5208 0.1283 -0.6481  0.0818\n",
      "EP3_1Xcountry_3           -0.5210   0.4181 -1.2461 0.2127 -1.3406  0.2985\n",
      "EP3_2                     -0.1992   0.1608 -1.2391 0.2153 -0.5143  0.1159\n",
      "EP3_2Xcountry_1            0.1805   0.2769  0.6519 0.5145 -0.3622  0.7232\n",
      "EP3_4Xcountry_1           -0.1641   0.3116 -0.5266 0.5985 -0.7748  0.4466\n",
      "EP3_4Xcountry_3           -0.5573   0.2725 -2.0450 0.0409 -1.0915 -0.0232\n",
      "FCMAR_0Xcountry_1          0.3047   0.3230  0.9433 0.3455 -0.3284  0.9377\n",
      "FCMAR_0Xcountry_3         -0.1156   0.4735 -0.2442 0.8071 -1.0436  0.8124\n",
      "FCMAR_1                    0.0093   0.2228  0.0416 0.9668 -0.4274  0.4460\n",
      "FCMAR_1Xcountry_5          0.1965   0.3031  0.6482 0.5168 -0.3976  0.7905\n",
      "FCMAR_9                   -0.2863   0.1212 -2.3622 0.0182 -0.5239 -0.0488\n",
      "FCMAR_9Xcountry_1         -0.2504   0.2828 -0.8857 0.3758 -0.8046  0.3038\n",
      "FCMAR_9Xcountry_2          0.0431   0.1492  0.2891 0.7725 -0.2493  0.3355\n",
      "FCMAR_9Xcountry_3         -0.0627   0.1884 -0.3329 0.7392 -0.4321  0.3066\n",
      "FCMAR_9Xcountry_5         -0.5324   0.1931 -2.7565 0.0058 -0.9109 -0.1538\n",
      "Fam_support               -0.5117   0.1553 -3.2942 0.0010 -0.8161 -0.2072\n",
      "Fam_supportXcountry_2      0.1517   0.2733  0.5552 0.5788 -0.3839  0.6874\n",
      "Fam_supportXcountry_4      0.1480   0.3101  0.4773 0.6331 -0.4598  0.7559\n",
      "Fam_supportXcountry_5      0.1113   0.2946  0.3778 0.7056 -0.4661  0.6887\n",
      "Governance1_0             -0.0884   0.0705 -1.2531 0.2102 -0.2266  0.0498\n",
      "Governance1_0Xcountry_1   -0.0884   0.0705 -1.2531 0.2102 -0.2266  0.0498\n",
      "Governance1_1Xcountry_2   -0.0497   0.0657 -0.7571 0.4490 -0.1785  0.0790\n",
      "HDI1_0                    -0.0884   0.0705 -1.2531 0.2102 -0.2266  0.0498\n",
      "HDI1_0Xcountry_1          -0.0884   0.0705 -1.2531 0.2102 -0.2266  0.0498\n",
      "HDI1_1Xcountry_2          -0.0497   0.0657 -0.7571 0.4490 -0.1785  0.0790\n",
      "HDI1_2                     0.3047   0.2372  1.2845 0.1990 -0.1602  0.7697\n",
      "Island                     0.2550   0.2405  1.0602 0.2891 -0.2164  0.7264\n",
      "IslandXcountry_2          -0.0497   0.0657 -0.7571 0.4490 -0.1785  0.0790\n",
      "LAWDV1_0                  -0.0884   0.0705 -1.2531 0.2102 -0.2266  0.0498\n",
      "LAWDV1_0Xcountry_1        -0.0884   0.0705 -1.2531 0.2102 -0.2266  0.0498\n",
      "LAWDV1_1                  -0.0497   0.0657 -0.7571 0.4490 -0.1785  0.0790\n",
      "LAWDV1_1Xcountry_2        -0.0497   0.0657 -0.7571 0.4490 -0.1785  0.0790\n",
      "Q513R                      0.4363   0.1188  3.6721 0.0002  0.2034  0.6692\n",
      "Q513RXcountry_1           -0.0518   0.2603 -0.1989 0.8423 -0.5619  0.4583\n",
      "Q513RXcountry_2            0.3068   0.3166  0.9692 0.3325 -0.3137  0.9273\n",
      "Q513RXcountry_3           -0.0399   0.2520 -0.1582 0.8743 -0.5338  0.4540\n",
      "Q513RXcountry_4            0.2215   0.2762  0.8022 0.4225 -0.3197  0.7628\n",
      "Q513RXcountry_5           -0.0004   0.3138 -0.0013 0.9990 -0.6155  0.6147\n",
      "Q515R                      0.4321   0.1007  4.2921 0.0000  0.2348  0.6294\n",
      "Q515RXcountry_1            0.3908   0.2149  1.8183 0.0690 -0.0305  0.8120\n",
      "Q515RXcountry_2            0.1645   0.2427  0.6779 0.4978 -0.3112  0.6403\n",
      "Q515RXcountry_3            0.1626   0.2114  0.7693 0.4417 -0.2517  0.5769\n",
      "Q515RXcountry_4           -0.5147   0.2515 -2.0470 0.0407 -1.0076 -0.0219\n",
      "Q515RXcountry_5            0.2289   0.2811  0.8143 0.4155 -0.3220  0.7798\n",
      "Q516R                     -0.1947   0.5460 -0.3565 0.7214 -1.2648  0.8754\n",
      "Q516RXcountry_1           -0.1851   0.6610 -0.2801 0.7794 -1.4806  1.1103\n",
      "Q516RXcountry_2            0.2338   0.6639  0.3522 0.7247 -1.0674  1.5350\n",
      "Q516RXcountry_3           -0.5631   0.6454 -0.8726 0.3829 -1.8280  0.7018\n",
      "Q516RXcountry_4            1.0877   0.7015  1.5505 0.1210 -0.2873  2.4627\n",
      "Q702R_1                   -0.5589   0.0830 -6.7303 0.0000 -0.7217 -0.3961\n",
      "Q702R_1Xcountry_1         -0.1645   0.1109 -1.4826 0.1382 -0.3819  0.0530\n",
      "Q702R_1Xcountry_2         -0.1953   0.1957 -0.9979 0.3183 -0.5788  0.1883\n",
      "Q702R_1Xcountry_3         -0.0504   0.1668 -0.3025 0.7623 -0.3773  0.2764\n",
      "Q702R_1Xcountry_4          0.0296   0.1801  0.1642 0.8696 -0.3234  0.3825\n",
      "Q702R_1Xcountry_5         -0.1783   0.1884 -0.9463 0.3440 -0.5475  0.1910\n",
      "Q702R_2                   -0.3476   0.1049 -3.3143 0.0009 -0.5531 -0.1420\n",
      "Q702R_2Xcountry_1          0.0858   0.1318  0.6514 0.5148 -0.1724  0.3441\n",
      "Q702R_3                    0.4425   0.0978  4.5244 0.0000  0.2508  0.6341\n",
      "Q702R_3Xcountry_1         -0.0097   0.1664 -0.0585 0.9533 -0.3358  0.3164\n",
      "Q702R_3Xcountry_2          0.2572   0.2935  0.8763 0.3809 -0.3180  0.8324\n",
      "Q702R_3Xcountry_3          0.1212   0.2293  0.5286 0.5971 -0.3281  0.5705\n",
      "Q702R_3Xcountry_4          0.1970   0.2722  0.7237 0.4692 -0.3365  0.7306\n",
      "Q702R_3Xcountry_5         -0.1232   0.2476 -0.4974 0.6189 -0.6086  0.3622\n",
      "SourceIncome_1Xcountry_3   0.1370   0.2696  0.5083 0.6113 -0.3913  0.6654\n",
      "SourceIncome_2             0.0860   0.1408  0.6107 0.5414 -0.1900  0.3620\n",
      "SourceIncome_2Xcountry_1   0.1278   0.2545  0.5020 0.6157 -0.3711  0.6267\n",
      "SourceIncome_2Xcountry_3   0.1450   0.2593  0.5593 0.5760 -0.3632  0.6533\n",
      "SourceIncome_3            -0.0423   0.1506 -0.2809 0.7788 -0.3375  0.2529\n",
      "SourceIncome_3Xcountry_3  -0.2974   0.2670 -1.1136 0.2655 -0.8207  0.2260\n",
      "SourceIncome_4Xcountry_1   0.1808   0.2129  0.8492 0.3958 -0.2365  0.5982\n",
      "SourceIncome_5Xcountry_2  -0.1766   0.2969 -0.5949 0.5519 -0.7586  0.4053\n",
      "ageyr10_1                 -0.2443   0.1846 -1.3235 0.1857 -0.6060  0.1175\n",
      "ageyr10_1Xcountry_2       -0.3573   0.3827 -0.9338 0.3504 -1.1073  0.3926\n",
      "ageyr10_1Xcountry_4       -0.3112   0.3979 -0.7821 0.4341 -1.0911  0.4687\n",
      "ageyr10_1Xcountry_5       -0.5716   0.4061 -1.4074 0.1593 -1.3676  0.2244\n",
      "ageyr10_4Xcountry_1        0.3734   0.2051  1.8205 0.0687 -0.0286  0.7754\n",
      "ageyr10_5Xcountry_1        0.3438   0.2480  1.3862 0.1657 -0.1423  0.8299\n",
      "country_1                 -0.0884   0.0705 -1.2531 0.2102 -0.2266  0.0498\n",
      "country_2                 -0.0497   0.0657 -0.7571 0.4490 -0.1785  0.0790\n",
      "earlymarriage_0           -0.3310   0.1600 -2.0692 0.0385 -0.6445 -0.0175\n",
      "earlymarriage_0Xcountry_2 -0.0457   0.1932 -0.2365 0.8130 -0.4243  0.3330\n",
      "earlymarriage_0Xcountry_3 -0.3057   0.3132 -0.9761 0.3290 -0.9195  0.3081\n",
      "earlymarriage_1            0.1533   0.1932  0.7935 0.4275 -0.2254  0.5321\n",
      "earlymarriage_1Xcountry_1 -0.0894   0.3309 -0.2701 0.7871 -0.7380  0.5592\n",
      "earlymarriage_1Xcountry_2 -0.0472   0.2559 -0.1843 0.8537 -0.5487  0.4544\n",
      "earlymarriage_1Xcountry_3 -0.2623   0.3552 -0.7383 0.4603 -0.9584  0.4339\n",
      "earlymarriage_1Xcountry_5 -0.3189   0.4537 -0.7029 0.4821 -1.2082  0.5704\n",
      "earlymarriage_9           -0.2863   0.1212 -2.3622 0.0182 -0.5239 -0.0488\n",
      "earlymarriage_9Xcountry_1 -0.2504   0.2828 -0.8857 0.3758 -0.8046  0.3038\n",
      "earlymarriage_9Xcountry_2  0.0431   0.1492  0.2891 0.7725 -0.2493  0.3355\n",
      "earlymarriage_9Xcountry_3 -0.0627   0.1884 -0.3329 0.7392 -0.4321  0.3066\n",
      "earlymarriage_9Xcountry_5 -0.5324   0.1931 -2.7565 0.0058 -0.9109 -0.1538\n",
      "edpart_1                  -0.0798   0.1481 -0.5388 0.5900 -0.3701  0.2105\n",
      "edpart_1Xcountry_1         0.2636   0.2284  1.1539 0.2485 -0.1841  0.7113\n",
      "edpart_1Xcountry_3         0.4513   0.2321  1.9450 0.0518 -0.0035  0.9061\n",
      "edpart_3                  -0.2204   0.2015 -1.0935 0.2742 -0.6153  0.1746\n",
      "edpart_3Xcountry_2        -0.0170   0.3661 -0.0464 0.9630 -0.7345  0.7005\n",
      "edpart_3Xcountry_4        -0.3395   0.3177 -1.0687 0.2852 -0.9622  0.2832\n",
      "edpart_3Xcountry_5         0.2027   0.3365  0.6026 0.5468 -0.4567  0.8622\n",
      "edresp_1                  -0.2416   0.1550 -1.5587 0.1191 -0.5453  0.0622\n",
      "edresp_1Xcountry_1         0.1167   0.2510  0.4651 0.6419 -0.3753  0.6088\n",
      "edresp_1Xcountry_5         0.5780   0.2740  2.1095 0.0349  0.0410  1.1151\n",
      "edresp_3                   0.2341   0.1439  1.6276 0.1036 -0.0478  0.5161\n",
      "edresp_3Xcountry_2        -0.3706   0.2851 -1.2998 0.1937 -0.9295  0.1882\n",
      "edresp_3Xcountry_5        -0.5075   0.2821 -1.7990 0.0720 -1.0605  0.0454\n",
      "justify                   -0.0300   0.1525 -0.1965 0.8442 -0.3289  0.2689\n",
      "justifyXcountry_1          0.0960   0.2525  0.3803 0.7037 -0.3989  0.5910\n",
      "mcv1006                    0.3857   0.0801  4.8131 0.0000  0.2286  0.5428\n",
      "mcv1006Xcountry_1         -0.0212   0.1627 -0.1306 0.8961 -0.3401  0.2976\n",
      "mcv1006Xcountry_2          0.0529   0.2330  0.2270 0.8204 -0.4037  0.5095\n",
      "mcv1006Xcountry_3          0.2262   0.1726  1.3108 0.1899 -0.1120  0.5645\n",
      "mcv1006Xcountry_4          0.1339   0.1868  0.7167 0.4736 -0.2323  0.5001\n",
      "mcv1006Xcountry_5         -0.0061   0.1994 -0.0305 0.9757 -0.3968  0.3847\n",
      "mcv1006a                   0.2804   0.0919  3.0529 0.0023  0.1004  0.4604\n",
      "mcv1006aXcountry_1        -0.0323   0.2028 -0.1592 0.8735 -0.4297  0.3651\n",
      "mcv1006aXcountry_2         0.0234   0.2325  0.1007 0.9198 -0.4323  0.4792\n",
      "mcv1006aXcountry_3         0.5898   0.2158  2.7329 0.0063  0.1668  1.0127\n",
      "mcv1006aXcountry_4         0.0924   0.2325  0.3976 0.6909 -0.3632  0.5481\n",
      "mcv1006aXcountry_5        -0.3929   0.2206 -1.7813 0.0749 -0.8252  0.0394\n",
      "mcv1006b                   0.3382   0.0882  3.8359 0.0001  0.1654  0.5111\n",
      "mcv1006bXcountry_1        -0.1745   0.1959 -0.8905 0.3732 -0.5585  0.2095\n",
      "mcv1006bXcountry_2         0.2953   0.2108  1.4013 0.1611 -0.1177  0.7084\n",
      "mcv1006bXcountry_3         0.0926   0.2152  0.4305 0.6668 -0.3291  0.5144\n",
      "mcv1006bXcountry_4        -0.1224   0.2211 -0.5536 0.5799 -0.5559  0.3110\n",
      "mcv1006bXcountry_5         0.2472   0.2167  1.1404 0.2541 -0.1776  0.6720\n",
      "mcv1008                   -0.1745   0.4397 -0.3968 0.6915 -1.0363  0.6873\n",
      "mcv1008Xcountry_1          0.6792   0.5138  1.3220 0.1862 -0.3278  1.6862\n",
      "mcv1008Xcountry_2          0.6116   0.5889  1.0385 0.2990 -0.5426  1.7657\n",
      "mcv1008Xcountry_3          0.8927   0.5027  1.7758 0.0758 -0.0926  1.8779\n",
      "mcv1008Xcountry_4          0.3351   0.5343  0.6272 0.5305 -0.7121  1.3824\n",
      "mcv1009                    0.2767   0.1002  2.7619 0.0057  0.0803  0.4730\n",
      "mcv1009Xcountry_1         -0.2319   0.2015 -1.1511 0.2497 -0.6267  0.1630\n",
      "mcv1009Xcountry_2         -0.0165   0.2317 -0.0711 0.9433 -0.4706  0.4376\n",
      "mcv1009Xcountry_3          0.2183   0.2266  0.9632 0.3355 -0.2259  0.6624\n",
      "mcv1009Xcountry_4         -0.0409   0.2533 -0.1614 0.8718 -0.5372  0.4555\n",
      "mcv1009Xcountry_5          0.3476   0.2849  1.2201 0.2224 -0.2108  0.9060\n",
      "men_alcohol_all            0.2136   0.2583  0.8268 0.4084 -0.2927  0.7199\n",
      "men_alcohol_allXcountry_1  0.0814   0.3199  0.2546 0.7990 -0.5455  0.7084\n",
      "men_alcohol_allXcountry_2  0.0141   0.3382  0.0417 0.9667 -0.6487  0.6769\n",
      "men_alcohol_allXcountry_3  0.1707   0.3356  0.5087 0.6110 -0.4870  0.8284\n",
      "men_alcohol_allXcountry_4 -0.1768   0.3451 -0.5122 0.6085 -0.8531  0.4996\n",
      "rQ701aXcountry_4           1.5116   0.5811  2.6013 0.0093  0.3727  2.6505\n",
      "rQ701aXcountry_5           0.3795   0.4401  0.8623 0.3885 -0.4831  1.2422\n",
      "rQ701bXcountry_4          -1.6377   0.5955 -2.7499 0.0060 -2.8049 -0.4704\n",
      "rQ701bXcountry_5          -0.5019   0.4418 -1.1361 0.2559 -1.3677  0.3640\n",
      "rQ701cXcountry_4          -0.2253   0.4434 -0.5081 0.6114 -1.0942  0.6437\n",
      "rQ701d                    -0.1786   0.1268 -1.4091 0.1588 -0.4271  0.0698\n",
      "rQ701dXcountry_4          -0.1114   0.3895 -0.2859 0.7750 -0.8748  0.6521\n",
      "sQ601c                    -0.0093   0.1221 -0.0758 0.9396 -0.2485  0.2300\n",
      "sQ601cXcountry_1           0.0985   0.2452  0.4018 0.6878 -0.3820  0.5791\n",
      "sQ601cXcountry_3           0.0571   0.2417  0.2361 0.8133 -0.4166  0.5307\n",
      "sQ601dXcountry_1           0.2708   0.2306  1.1746 0.2401 -0.1811  0.7228\n",
      "sQ601dXcountry_2          -0.0173   0.2453 -0.0706 0.9437 -0.4981  0.4635\n",
      "sQ601dXcountry_3           0.5630   0.1909  2.9485 0.0032  0.1887  0.9372\n",
      "sumdiffage_1               0.1460   0.1499  0.9744 0.3298 -0.1477  0.4398\n",
      "sumdiffage_1Xcountry_1     0.5296   0.2722  1.9459 0.0517 -0.0038  1.0631\n",
      "sumdiffage_1Xcountry_3     0.2099   0.2922  0.7183 0.4726 -0.3628  0.7825\n",
      "sumdiffage_4Xcountry_1     0.2005   0.1895  1.0579 0.2901 -0.1709  0.5718\n",
      "sumdiffage_4Xcountry_2    -0.3971   0.2250 -1.7643 0.0777 -0.8381  0.0440\n",
      "sumdiffage_4Xcountry_5    -0.0585   0.2527 -0.2315 0.8170 -0.5539  0.4369\n",
      "tQ602c                    -0.1865   0.2188 -0.8523 0.3941 -0.6154  0.2424\n",
      "tQ602cXcountry_1           0.3184   0.3358  0.9482 0.3430 -0.3398  0.9767\n",
      "tQ602cXcountry_3           0.5262   0.3296  1.5967 0.1103 -0.1197  1.1722\n",
      "tQ602d                    -0.0899   0.2364 -0.3803 0.7037 -0.5532  0.3734\n",
      "tQ602dXcountry_1           0.2086   0.3063  0.6810 0.4959 -0.3918  0.8090\n",
      "tQ602dXcountry_3           0.1644   0.3011  0.5460 0.5851 -0.4258  0.7545\n",
      "=========================================================================\n",
      "\n"
     ]
    }
   ],
   "source": [
    "model = sm.formula.glm(formula='''sexphys ~ CONTROL + CONTROLXcountry_1 + CONTROLXcountry_2 + CONTROLXcountry_3 + \n",
    "                                CONTROLXcountry_4 + CONTROLXcountry_5 + EP3_1 + EP3_1Xcountry_3 + EP3_2 + EP3_2Xcountry_1 + \n",
    "                                EP3_4Xcountry_1 + EP3_4Xcountry_3 + FCMAR_0Xcountry_1 + FCMAR_0Xcountry_3 + FCMAR_1 + \n",
    "                                FCMAR_1Xcountry_5 + FCMAR_9 + FCMAR_9Xcountry_1 + FCMAR_9Xcountry_2 + FCMAR_9Xcountry_3 + \n",
    "                                FCMAR_9Xcountry_5 + Fam_support + Fam_supportXcountry_2 + Fam_supportXcountry_4 + \n",
    "                                Fam_supportXcountry_5 + Governance1_0 + Governance1_0Xcountry_1 + Governance1_1Xcountry_2 + \n",
    "                                HDI1_0 + HDI1_0Xcountry_1 + HDI1_1Xcountry_2 + HDI1_2 + Island + IslandXcountry_2 + \n",
    "                                LAWDV1_0 + LAWDV1_0Xcountry_1 + LAWDV1_1 + LAWDV1_1Xcountry_2 + Q513R + Q513RXcountry_1 + \n",
    "                                Q513RXcountry_2 + Q513RXcountry_3 + Q513RXcountry_4 + Q513RXcountry_5 + Q515R + \n",
    "                                Q515RXcountry_1 + Q515RXcountry_2 + Q515RXcountry_3 + Q515RXcountry_4 + Q515RXcountry_5 + \n",
    "                                Q516R + Q516RXcountry_1 + Q516RXcountry_2 + Q516RXcountry_3 + Q516RXcountry_4 + Q702R_1 + \n",
    "                                Q702R_1Xcountry_1 + Q702R_1Xcountry_2 + Q702R_1Xcountry_3 + Q702R_1Xcountry_4 + \n",
    "                                Q702R_1Xcountry_5 + Q702R_2 + Q702R_2Xcountry_1 + Q702R_3 + Q702R_3Xcountry_1 + \n",
    "                                Q702R_3Xcountry_2 + Q702R_3Xcountry_3 + Q702R_3Xcountry_4 + Q702R_3Xcountry_5 + \n",
    "                                SourceIncome_1Xcountry_3 + SourceIncome_2 + SourceIncome_2Xcountry_1 + \n",
    "                                SourceIncome_2Xcountry_3 + SourceIncome_3 + SourceIncome_3Xcountry_3 + \n",
    "                                SourceIncome_4Xcountry_1 + SourceIncome_5Xcountry_2 + ageyr10_1 + ageyr10_1Xcountry_2 + \n",
    "                                ageyr10_1Xcountry_4 + ageyr10_1Xcountry_5 + ageyr10_4Xcountry_1 + ageyr10_5Xcountry_1 + \n",
    "                                country_1 + country_2 + earlymarriage_0 + earlymarriage_0Xcountry_2 + \n",
    "                                earlymarriage_0Xcountry_3 + earlymarriage_1 + earlymarriage_1Xcountry_1 + \n",
    "                                earlymarriage_1Xcountry_2 + earlymarriage_1Xcountry_3 + earlymarriage_1Xcountry_5 + \n",
    "                                earlymarriage_9 + earlymarriage_9Xcountry_1 + earlymarriage_9Xcountry_2 + \n",
    "                                earlymarriage_9Xcountry_3 + earlymarriage_9Xcountry_5 + edpart_1 + edpart_1Xcountry_1 + \n",
    "                                edpart_1Xcountry_3 + edpart_3 + edpart_3Xcountry_2 + edpart_3Xcountry_4 + \n",
    "                                edpart_3Xcountry_5 + edresp_1 + edresp_1Xcountry_1 + edresp_1Xcountry_5 + \n",
    "                                edresp_3 + edresp_3Xcountry_2 + edresp_3Xcountry_5 + justify + justifyXcountry_1 + \n",
    "                                mcv1006 + mcv1006Xcountry_1 + mcv1006Xcountry_2 + mcv1006Xcountry_3 + mcv1006Xcountry_4 + \n",
    "                                mcv1006Xcountry_5 + mcv1006a + mcv1006aXcountry_1 + mcv1006aXcountry_2 + \n",
    "                                mcv1006aXcountry_3 + mcv1006aXcountry_4 + mcv1006aXcountry_5 + mcv1006b + \n",
    "                                mcv1006bXcountry_1 + mcv1006bXcountry_2 + mcv1006bXcountry_3 + mcv1006bXcountry_4 + \n",
    "                                mcv1006bXcountry_5 + mcv1008 + mcv1008Xcountry_1 + mcv1008Xcountry_2 + mcv1008Xcountry_3 + \n",
    "                                mcv1008Xcountry_4 + mcv1009 + mcv1009Xcountry_1 + mcv1009Xcountry_2 + mcv1009Xcountry_3 + \n",
    "                                mcv1009Xcountry_4 + mcv1009Xcountry_5 + men_alcohol_all + men_alcohol_allXcountry_1 + \n",
    "                                men_alcohol_allXcountry_2 + men_alcohol_allXcountry_3 + men_alcohol_allXcountry_4 + \n",
    "                                rQ701aXcountry_4 + rQ701aXcountry_5 + rQ701bXcountry_4 + rQ701bXcountry_5 + \n",
    "                                rQ701cXcountry_4 + rQ701d + rQ701dXcountry_4 + sQ601c + sQ601cXcountry_1 + \n",
    "                                sQ601cXcountry_3 + sQ601dXcountry_1 + sQ601dXcountry_2 + sQ601dXcountry_3 + sumdiffage_1 + \n",
    "                                sumdiffage_1Xcountry_1 + sumdiffage_1Xcountry_3 + sumdiffage_4Xcountry_1 + \n",
    "                                sumdiffage_4Xcountry_2 + sumdiffage_4Xcountry_5 + tQ602c + tQ602cXcountry_1 + \n",
    "                                tQ602cXcountry_3 + tQ602d + tQ602dXcountry_1 + tQ602dXcountry_3''',\n",
    "                       family=sm.families.Binomial(), data=X_train_dummies[cols].join(y_train)).fit()\n",
    "print(model.summary2())"
   ]
  },
  {
   "cell_type": "code",
   "execution_count": 66,
   "metadata": {},
   "outputs": [],
   "source": [
    "#model.params\n",
    "cols2 = list(model.pvalues[model.pvalues <=0.05].index)"
   ]
  },
  {
   "cell_type": "code",
   "execution_count": 67,
   "metadata": {},
   "outputs": [
    {
     "data": {
      "text/plain": [
       "'Intercept + CONTROL + EP3_4Xcountry_3 + FCMAR_9 + FCMAR_9Xcountry_5 + Fam_support + Q513R + Q515R + Q515RXcountry_4 + Q702R_1 + Q702R_2 + Q702R_3 + earlymarriage_0 + earlymarriage_9 + earlymarriage_9Xcountry_5 + edresp_1Xcountry_5 + mcv1006 + mcv1006a + mcv1006aXcountry_3 + mcv1006b + mcv1009 + rQ701aXcountry_4 + rQ701bXcountry_4 + sQ601dXcountry_3'"
      ]
     },
     "execution_count": 67,
     "metadata": {},
     "output_type": "execute_result"
    }
   ],
   "source": [
    "' + '.join(cols2)"
   ]
  },
  {
   "cell_type": "code",
   "execution_count": 69,
   "metadata": {},
   "outputs": [
    {
     "name": "stdout",
     "output_type": "stream",
     "text": [
      "                    Results: Generalized linear model\n",
      "==========================================================================\n",
      "Model:                  GLM                 AIC:               4225.7596  \n",
      "Link Function:          logit               BIC:               -29320.2239\n",
      "Dependent Variable:     sexphys             Log-Likelihood:    -2091.9    \n",
      "Date:                   2019-03-26 15:50    LL-Null:           -2550.1    \n",
      "No. Observations:       4054                Deviance:          4183.8     \n",
      "Df Model:               20                  Pearson chi2:      4.09e+03   \n",
      "Df Residuals:           4033                Scale:             1.0000     \n",
      "Method:                 IRLS                                              \n",
      "--------------------------------------------------------------------------\n",
      "                           Coef.  Std.Err.    z     P>|z|   [0.025  0.975]\n",
      "--------------------------------------------------------------------------\n",
      "Intercept                 -0.5224   0.1014  -5.1497 0.0000 -0.7212 -0.3236\n",
      "CONTROL                    0.2730   0.0233  11.7203 0.0000  0.2274  0.3187\n",
      "EP3_4Xcountry_3           -0.1081   0.1848  -0.5848 0.5587 -0.4703  0.2542\n",
      "FCMAR_9                   -0.2782   0.0598  -4.6521 0.0000 -0.3954 -0.1610\n",
      "FCMAR_9Xcountry_5         -0.6652   0.1191  -5.5845 0.0000 -0.8987 -0.4317\n",
      "Fam_support               -0.4175   0.0989  -4.2224 0.0000 -0.6113 -0.2237\n",
      "Q513R                      0.5581   0.1297   4.3041 0.0000  0.3040  0.8123\n",
      "Q515R                      0.6171   0.1009   6.1152 0.0000  0.4193  0.8149\n",
      "Q515RXcountry_4           -0.1837   0.2316  -0.7933 0.4276 -0.6377  0.2702\n",
      "Q702R_1                   -0.7105   0.0582 -12.2004 0.0000 -0.8247 -0.5964\n",
      "Q702R_2                   -0.3405   0.0641  -5.3117 0.0000 -0.4661 -0.2148\n",
      "Q702R_3                    0.5286   0.0890   5.9390 0.0000  0.3542  0.7031\n",
      "earlymarriage_0           -0.4233   0.1028  -4.1183 0.0000 -0.6248 -0.2218\n",
      "earlymarriage_9           -0.2782   0.0598  -4.6521 0.0000 -0.3954 -0.1610\n",
      "earlymarriage_9Xcountry_5 -0.6652   0.1191  -5.5845 0.0000 -0.8987 -0.4317\n",
      "edresp_1Xcountry_5         0.5854   0.1801   3.2509 0.0012  0.2325  0.9383\n",
      "mcv1006                    0.5023   0.0870   5.7743 0.0000  0.3318  0.6728\n",
      "mcv1006a                   0.1721   0.1140   1.5092 0.1312 -0.0514  0.3956\n",
      "mcv1006aXcountry_3         0.5729   0.2289   2.5029 0.0123  0.1243  1.0216\n",
      "mcv1006b                   0.3820   0.0996   3.8366 0.0001  0.1868  0.5771\n",
      "mcv1009                    0.3343   0.1057   3.1616 0.0016  0.1270  0.5415\n",
      "rQ701aXcountry_4           1.5176   0.5330   2.8471 0.0044  0.4729  2.5624\n",
      "rQ701bXcountry_4          -1.6160   0.5342  -3.0248 0.0025 -2.6631 -0.5689\n",
      "sQ601dXcountry_3           0.0773   0.1140   0.6778 0.4979 -0.1462  0.3008\n",
      "==========================================================================\n",
      "\n"
     ]
    }
   ],
   "source": [
    "model2 = sm.formula.glm(formula='''sexphys ~ CONTROL + EP3_4Xcountry_3 + FCMAR_9 + FCMAR_9Xcountry_5 + Fam_support + \n",
    "                                    Q513R + Q515R + Q515RXcountry_4 + Q702R_1 + Q702R_2 + Q702R_3 + earlymarriage_0 + \n",
    "                                    earlymarriage_9 + earlymarriage_9Xcountry_5 + edresp_1Xcountry_5 + mcv1006 + \n",
    "                                    mcv1006a + mcv1006aXcountry_3 + mcv1006b + mcv1009 + rQ701aXcountry_4 + \n",
    "                                    rQ701bXcountry_4 + sQ601dXcountry_3''',\n",
    "                       family=sm.families.Binomial(), data=X_train_dummies[cols].join(y_train)).fit()\n",
    "print(model2.summary2())"
   ]
  },
  {
   "cell_type": "code",
   "execution_count": 70,
   "metadata": {},
   "outputs": [],
   "source": [
    "cols3 = list(model2.pvalues[model2.pvalues <=0.05].index)"
   ]
  },
  {
   "cell_type": "code",
   "execution_count": 71,
   "metadata": {},
   "outputs": [],
   "source": [
    "cols3.remove('Intercept')"
   ]
  },
  {
   "cell_type": "code",
   "execution_count": 72,
   "metadata": {},
   "outputs": [
    {
     "data": {
      "text/plain": [
       "'CONTROL + FCMAR_9 + FCMAR_9Xcountry_5 + Fam_support + Q513R + Q515R + Q702R_1 + Q702R_2 + Q702R_3 + earlymarriage_0 + earlymarriage_9 + earlymarriage_9Xcountry_5 + edresp_1Xcountry_5 + mcv1006 + mcv1006aXcountry_3 + mcv1006b + mcv1009 + rQ701aXcountry_4 + rQ701bXcountry_4'"
      ]
     },
     "execution_count": 72,
     "metadata": {},
     "output_type": "execute_result"
    }
   ],
   "source": [
    "' + '.join(cols3)"
   ]
  },
  {
   "cell_type": "code",
   "execution_count": 73,
   "metadata": {},
   "outputs": [
    {
     "name": "stdout",
     "output_type": "stream",
     "text": [
      "                    Results: Generalized linear model\n",
      "==========================================================================\n",
      "Model:                  GLM                 AIC:               4221.1785  \n",
      "Link Function:          logit               BIC:               -29350.0348\n",
      "Dependent Variable:     sexphys             Log-Likelihood:    -2093.6    \n",
      "Date:                   2019-03-26 15:51    LL-Null:           -2550.1    \n",
      "No. Observations:       4054                Deviance:          4187.2     \n",
      "Df Model:               16                  Pearson chi2:      4.10e+03   \n",
      "Df Residuals:           4037                Scale:             1.0000     \n",
      "Method:                 IRLS                                              \n",
      "--------------------------------------------------------------------------\n",
      "                           Coef.  Std.Err.    z     P>|z|   [0.025  0.975]\n",
      "--------------------------------------------------------------------------\n",
      "Intercept                 -0.5002   0.0991  -5.0487 0.0000 -0.6943 -0.3060\n",
      "CONTROL                    0.2736   0.0232  11.8149 0.0000  0.2282  0.3190\n",
      "FCMAR_9                   -0.2827   0.0590  -4.7891 0.0000 -0.3984 -0.1670\n",
      "FCMAR_9Xcountry_5         -0.6625   0.1172  -5.6508 0.0000 -0.8923 -0.4327\n",
      "Fam_support               -0.4198   0.0986  -4.2570 0.0000 -0.6131 -0.2265\n",
      "Q513R                      0.5538   0.1295   4.2777 0.0000  0.3000  0.8075\n",
      "Q515R                      0.5820   0.0919   6.3342 0.0000  0.4019  0.7620\n",
      "Q702R_1                   -0.7019   0.0575 -12.2129 0.0000 -0.8145 -0.5892\n",
      "Q702R_2                   -0.3343   0.0636  -5.2518 0.0000 -0.4590 -0.2095\n",
      "Q702R_3                    0.5360   0.0883   6.0674 0.0000  0.3628  0.7091\n",
      "earlymarriage_0           -0.4264   0.1025  -4.1611 0.0000 -0.6272 -0.2255\n",
      "earlymarriage_9           -0.2827   0.0590  -4.7891 0.0000 -0.3984 -0.1670\n",
      "earlymarriage_9Xcountry_5 -0.6625   0.1172  -5.6508 0.0000 -0.8923 -0.4327\n",
      "edresp_1Xcountry_5         0.5973   0.1787   3.3432 0.0008  0.2471  0.9475\n",
      "mcv1006                    0.5135   0.0864   5.9400 0.0000  0.3441  0.6829\n",
      "mcv1006aXcountry_3         0.7272   0.2028   3.5862 0.0003  0.3298  1.1246\n",
      "mcv1006b                   0.4434   0.0890   4.9803 0.0000  0.2689  0.6179\n",
      "mcv1009                    0.3527   0.1050   3.3585 0.0008  0.1469  0.5586\n",
      "rQ701aXcountry_4           1.4709   0.5338   2.7555 0.0059  0.4246  2.5172\n",
      "rQ701bXcountry_4          -1.6127   0.5376  -3.0000 0.0027 -2.6664 -0.5591\n",
      "==========================================================================\n",
      "\n"
     ]
    }
   ],
   "source": [
    "model3 = sm.formula.glm(formula='''sexphys ~ CONTROL + FCMAR_9 + FCMAR_9Xcountry_5 + Fam_support + Q513R + Q515R + \n",
    "                                    Q702R_1 + Q702R_2 + Q702R_3 + earlymarriage_0 + earlymarriage_9 + \n",
    "                                    earlymarriage_9Xcountry_5 + edresp_1Xcountry_5 + mcv1006 + mcv1006aXcountry_3 + \n",
    "                                    mcv1006b + mcv1009 + rQ701aXcountry_4 + rQ701bXcountry_4''',\n",
    "                       family=sm.families.Binomial(), data=X_train_dummies[cols].join(y_train)).fit()\n",
    "print(model3.summary2())"
   ]
  },
  {
   "cell_type": "code",
   "execution_count": 74,
   "metadata": {},
   "outputs": [],
   "source": [
    "# Define a gridsearch function to tune hyperparameters \n",
    "\n",
    "from sklearn.model_selection import GridSearchCV\n",
    "from sklearn.preprocessing import StandardScaler\n",
    "#from sklearn.decomposition import PCA\n",
    "from sklearn.linear_model import LogisticRegression\n",
    "from sklearn.pipeline import Pipeline\n",
    "from sklearn.pipeline import make_pipeline\n",
    "\n",
    "\n",
    "def grid_logistic ():\n",
    "    \n",
    "    pipe_lr = make_pipeline(#StandardScaler(),\n",
    "                       LogisticRegression(random_state=1, max_iter=1000, class_weight={0:0.32966706302021404, 1:0.6703329369797859})) #tol=to be tested\n",
    "     \n",
    "    param_range = np.power(10.0, np.arange(-3, 3))\n",
    "    param_grid = [{'logisticregression__C': param_range, 'logisticregression__solver':['liblinear']}, \n",
    "                  {'logisticregression__C': param_range, 'logisticregression__solver':['sag']}, \n",
    "                  {'logisticregression__C': param_range, 'logisticregression__solver':['saga']}]\n",
    "\n",
    "    gs_lr = GridSearchCV(estimator = pipe_lr,\n",
    "                        param_grid = param_grid, \n",
    "                        scoring = 'roc_auc', \n",
    "                        cv=5)\n",
    "    return gs_lr"
   ]
  },
  {
   "cell_type": "code",
   "execution_count": 75,
   "metadata": {},
   "outputs": [
    {
     "data": {
      "text/plain": [
       "GridSearchCV(cv=5, error_score='raise',\n",
       "       estimator=Pipeline(memory=None,\n",
       "     steps=[('logisticregression', LogisticRegression(C=1.0,\n",
       "          class_weight={0: 0.32966706302021404, 1: 0.6703329369797859},\n",
       "          dual=False, fit_intercept=True, intercept_scaling=1,\n",
       "          max_iter=1000, multi_class='ovr', n_jobs=1, penalty='l2',\n",
       "          random_state=1, solver='liblinear', tol=0.0001, verbose=0,\n",
       "          warm_start=False))]),\n",
       "       fit_params=None, iid=True, n_jobs=1,\n",
       "       param_grid=[{'logisticregression__C': array([1.e-03, 1.e-02, 1.e-01, 1.e+00, 1.e+01, 1.e+02]), 'logisticregression__solver': ['liblinear']}, {'logisticregression__C': array([1.e-03, 1.e-02, 1.e-01, 1.e+00, 1.e+01, 1.e+02]), 'logisticregression__solver': ['sag']}, {'logisticregression__C': array([1.e-03, 1.e-02, 1.e-01, 1.e+00, 1.e+01, 1.e+02]), 'logisticregression__solver': ['saga']}],\n",
       "       pre_dispatch='2*n_jobs', refit=True, return_train_score='warn',\n",
       "       scoring='roc_auc', verbose=0)"
      ]
     },
     "execution_count": 75,
     "metadata": {},
     "output_type": "execute_result"
    }
   ],
   "source": [
    "#fit the gridsearch on all the datasets\n",
    "g1 = grid_logistic()\n",
    "g1.fit(X_train_dummies[cols3], y_train)"
   ]
  },
  {
   "cell_type": "code",
   "execution_count": 76,
   "metadata": {},
   "outputs": [
    {
     "name": "stdout",
     "output_type": "stream",
     "text": [
      "0.7538310629327741\n",
      "{'logisticregression__C': 0.1, 'logisticregression__solver': 'liblinear'}\n"
     ]
    }
   ],
   "source": [
    "# find the best score and the best parameters \n",
    "print(g1.best_score_)\n",
    "print(g1.best_params_)"
   ]
  },
  {
   "cell_type": "code",
   "execution_count": 77,
   "metadata": {},
   "outputs": [],
   "source": [
    "#define a learning curve function\n",
    "\n",
    "from sklearn.model_selection import learning_curve\n",
    "\n",
    "def l_curve(estimator, df_train, title):\n",
    "    train_sizes, train_scores, test_scores =\\\n",
    "                    learning_curve(estimator=estimator,\n",
    "                                   X=df_train,\n",
    "                                   y=y_train,\n",
    "                                   train_sizes=np.linspace(0.1, 1.0, 10),\n",
    "                                   cv=10,\n",
    "                                   n_jobs=1)\n",
    "\n",
    "    train_mean = np.mean(train_scores, axis=1)\n",
    "    train_std = np.std(train_scores, axis=1)\n",
    "    test_mean = np.mean(test_scores, axis=1)\n",
    "    test_std = np.std(test_scores, axis=1)\n",
    "\n",
    "    plt.plot(train_sizes, train_mean,\n",
    "             color='blue', marker='o',\n",
    "             markersize=5, label='training accuracy')\n",
    "\n",
    "    plt.fill_between(train_sizes,\n",
    "                     train_mean + train_std,\n",
    "                     train_mean - train_std,\n",
    "                     alpha=0.15, color='blue')\n",
    "\n",
    "    plt.plot(train_sizes, test_mean,\n",
    "             color='green', linestyle='--',\n",
    "             marker='s', markersize=5,\n",
    "             label='validation accuracy')\n",
    "\n",
    "    plt.fill_between(train_sizes,\n",
    "                     test_mean + test_std,\n",
    "                     test_mean - test_std,\n",
    "                     alpha=0.15, color='green')\n",
    "\n",
    "    plt.grid()\n",
    "    plt.xlabel('Number of training samples')\n",
    "    plt.ylabel('Accuracy')\n",
    "    plt.legend(loc='lower right')\n",
    "    plt.ylim([0.5, 1.03])\n",
    "    plt.tight_layout()\n",
    "    plt.title(title)\n",
    "    plt.show()"
   ]
  },
  {
   "cell_type": "code",
   "execution_count": 78,
   "metadata": {},
   "outputs": [
    {
     "data": {
      "image/png": "[encoded data removed]",
      "text/plain": [
       "<Figure size 432x288 with 1 Axes>"
      ]
     },
     "metadata": {},
     "output_type": "display_data"
    }
   ],
   "source": [
    "l_curve(g1.best_estimator_, X_train_dummies[cols3], \"Learning Curve for Logistic Regression, set 1\")"
   ]
  },
  {
   "cell_type": "code",
   "execution_count": 79,
   "metadata": {},
   "outputs": [],
   "source": [
    "#Define a function to create the confusion matrix\n",
    "\n",
    "from sklearn.metrics import confusion_matrix\n",
    "\n",
    "def conf_mat (estimator, np_train, np_test, title):\n",
    "    clf = estimator\n",
    "    clf.fit(np_train, y_train)\n",
    "    y_pred = clf.predict(np_test)\n",
    "    confmat = confusion_matrix(y_true=y_val, y_pred=y_pred)\n",
    "\n",
    "    fig, ax = plt.subplots(figsize=(5, 5))\n",
    "    ax.matshow(confmat, cmap=plt.cm.Blues, alpha=0.3)\n",
    "    for i in range(confmat.shape[0]):\n",
    "        for j in range(confmat.shape[1]):\n",
    "            ax.text(x=j, y=i,\n",
    "            s=confmat[i, j],\n",
    "            va='center', ha='center')\n",
    "    plt.xlabel('predicted label')\n",
    "    plt.ylabel('true label')\n",
    "    plt.title(title)\n",
    "    plt.show()"
   ]
  },
  {
   "cell_type": "code",
   "execution_count": 80,
   "metadata": {},
   "outputs": [],
   "source": [
    "# Create a function to calculate the scores\n",
    "\n",
    "from sklearn.metrics import precision_score\n",
    "from sklearn.metrics import recall_score, f1_score\n",
    "from sklearn.metrics import roc_curve\n",
    "from sklearn.metrics import roc_auc_score\n",
    "\n",
    "def different_scores (estimator, np_train, np_test, title):\n",
    "    \n",
    "    #instantiate the classifier and do predictions\n",
    "    clf = estimator\n",
    "    clf.fit(np_train, y_train)\n",
    "    y_pred = clf.predict(np_test)\n",
    "\n",
    "    #print the different scores \n",
    "    print('Precision: %.3f' % precision_score(\n",
    "    y_true=y_val, y_pred=y_pred))\n",
    "    print('Recall: %.3f' % recall_score(\n",
    "    y_true=y_val, y_pred=y_pred))\n",
    "    print('F1: %.3f' % f1_score(\n",
    "    y_true=y_val, y_pred=y_pred))\n",
    "    \n",
    "    #create the AUC \n",
    "    fpr, tpr, _ = roc_curve(y_val,  y_pred)\n",
    "    auc = roc_auc_score(y_val, y_pred)\n",
    "    plt.plot(fpr,tpr,label=\"auc=\"+str(auc))\n",
    "    plt.legend(loc=4)\n",
    "    plt.title(title)\n",
    "    plt.show()\n"
   ]
  },
  {
   "cell_type": "code",
   "execution_count": 81,
   "metadata": {},
   "outputs": [],
   "source": [
    "X_val_reduced = X_val[list(All_sign.variable)].copy()  #might need to create a function???\n",
    "#X_val_reduced.head()"
   ]
  },
  {
   "cell_type": "code",
   "execution_count": 82,
   "metadata": {},
   "outputs": [],
   "source": [
    "#nominal_var = ['CONTROLNUM', \"Q702R\", \"earlymarriage\", 'edpart', 'country', 'EP3', 'sumdiffage', 'SourceIncome', 'edresp']\n",
    "\n",
    "nominal_var = [\"earlymarriage\", 'edpart', 'country', 'EP3', \n",
    "               'sumdiffage', 'SourceIncome', 'edresp', 'FCMAR', 'ageyr10', 'sumdiffage',  \n",
    "               \"Q702R\", \"Governance1\", \"HDI1\", \"LAWDV1\"]\n",
    "\n",
    "for var in nominal_var:\n",
    "    X_val_reduced[var] = X_val_reduced[var].astype('category')"
   ]
  },
  {
   "cell_type": "code",
   "execution_count": 83,
   "metadata": {},
   "outputs": [],
   "source": [
    "X_val_dummies = pd.get_dummies(X_val_reduced)"
   ]
  },
  {
   "cell_type": "code",
   "execution_count": 85,
   "metadata": {},
   "outputs": [],
   "source": [
    "colm1 = list(X_val_dummies.columns)"
   ]
  },
  {
   "cell_type": "code",
   "execution_count": 86,
   "metadata": {},
   "outputs": [],
   "source": [
    "colm1.remove('country_1')\n",
    "colm1.remove('country_2')\n",
    "colm1.remove('country_3')\n",
    "colm1.remove('country_4')\n",
    "colm1.remove('country_5')"
   ]
  },
  {
   "cell_type": "code",
   "execution_count": 87,
   "metadata": {},
   "outputs": [],
   "source": [
    "for variable in colm:\n",
    "    X_val_dummies[variable+'X'+'country_1'] = (X_val_dummies[variable]*X_val_dummies['country_1'])\n",
    "    X_val_dummies[variable+'X'+'country_2'] = (X_val_dummies[variable]*X_val_dummies['country_2'])\n",
    "    X_val_dummies[variable+'X'+'country_3'] = (X_val_dummies[variable]*X_val_dummies['country_3'])\n",
    "    X_val_dummies[variable+'X'+'country_4'] = (X_val_dummies[variable]*X_val_dummies['country_4'])\n",
    "    X_val_dummies[variable+'X'+'country_5'] = (X_val_dummies[variable]*X_val_dummies['country_5'])"
   ]
  },
  {
   "cell_type": "code",
   "execution_count": 88,
   "metadata": {},
   "outputs": [
    {
     "data": {
      "image/png": "[encoded data removed]",
      "text/plain": [
       "<Figure size 360x360 with 1 Axes>"
      ]
     },
     "metadata": {},
     "output_type": "display_data"
    }
   ],
   "source": [
    "conf_mat(g1.best_estimator_, X_train_dummies[cols3], X_val_dummies[cols3], \"Confusion Matrix for Logistic regression, set 1\")"
   ]
  },
  {
   "cell_type": "code",
   "execution_count": 89,
   "metadata": {},
   "outputs": [
    {
     "name": "stdout",
     "output_type": "stream",
     "text": [
      "Precision: 0.521\n",
      "Recall: 0.575\n",
      "F1: 0.547\n"
     ]
    },
    {
     "data": {
      "image/png": "[encoded data removed]",
      "text/plain": [
       "<Figure size 432x288 with 1 Axes>"
      ]
     },
     "metadata": {},
     "output_type": "display_data"
    }
   ],
   "source": [
    "different_scores(g1.best_estimator_, X_train_dummies[cols3].values, X_val_dummies[cols3].values, \"Logistic regression AUC, set 2\")"
   ]
  },
  {
   "cell_type": "code",
   "execution_count": null,
   "metadata": {},
   "outputs": [],
   "source": []
  },
  {
   "cell_type": "code",
   "execution_count": null,
   "metadata": {},
   "outputs": [],
   "source": []
  }
 ],
 "metadata": {
  "kernelspec": {
   "display_name": "Python 3",
   "language": "python",
   "name": "python3"
  },
  "language_info": {
   "codemirror_mode": {
    "name": "ipython",
    "version": 3
   },
   "file_extension": ".py",
   "mimetype": "text/x-python",
   "name": "python",
   "nbconvert_exporter": "python",
   "pygments_lexer": "ipython3",
   "version": "3.6.5"
  }
 },
 "nbformat": 4,
 "nbformat_minor": 2
}
