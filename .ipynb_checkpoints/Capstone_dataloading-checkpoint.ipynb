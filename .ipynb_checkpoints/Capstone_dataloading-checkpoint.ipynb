{
 "cells": [
  {
   "cell_type": "code",
   "execution_count": 1,
   "metadata": {},
   "outputs": [],
   "source": [
    "import os\n",
    "import pandas as pd\n",
    "import numpy as np\n",
    "import matplotlib.pyplot as plt"
   ]
  },
  {
   "cell_type": "code",
   "execution_count": 2,
   "metadata": {},
   "outputs": [
    {
     "name": "stderr",
     "output_type": "stream",
     "text": [
      "C:\\Users\\ovinc\\Anaconda3\\lib\\site-packages\\IPython\\core\\interactiveshell.py:2785: DtypeWarning: Columns (37,42,125) have mixed types. Specify dtype option on import or set low_memory=False.\n",
      "  interactivity=interactivity, compiler=compiler, result=result)\n"
     ]
    },
    {
     "data": {
      "text/html": [
       "<div>\n",
       "<style scoped>\n",
       "    .dataframe tbody tr th:only-of-type {\n",
       "        vertical-align: middle;\n",
       "    }\n",
       "\n",
       "    .dataframe tbody tr th {\n",
       "        vertical-align: top;\n",
       "    }\n",
       "\n",
       "    .dataframe thead th {\n",
       "        text-align: right;\n",
       "    }\n",
       "</style>\n",
       "<table border=\"1\" class=\"dataframe\">\n",
       "  <thead>\n",
       "    <tr style=\"text-align: right;\">\n",
       "      <th></th>\n",
       "      <th>ep1</th>\n",
       "      <th>econviol</th>\n",
       "      <th>emotvio</th>\n",
       "      <th>physvio</th>\n",
       "      <th>sexvio</th>\n",
       "      <th>sexphys</th>\n",
       "      <th>typevio</th>\n",
       "      <th>physcur</th>\n",
       "      <th>sexcur</th>\n",
       "      <th>emotcur</th>\n",
       "      <th>...</th>\n",
       "      <th>eQ703e</th>\n",
       "      <th>eQ703f</th>\n",
       "      <th>eQ703g</th>\n",
       "      <th>eQ703h</th>\n",
       "      <th>country</th>\n",
       "      <th>weighing</th>\n",
       "      <th>rQ701a</th>\n",
       "      <th>rQ701b</th>\n",
       "      <th>rQ701c</th>\n",
       "      <th>rQ701d</th>\n",
       "    </tr>\n",
       "  </thead>\n",
       "  <tbody>\n",
       "    <tr>\n",
       "      <th>0</th>\n",
       "      <td>1</td>\n",
       "      <td>0</td>\n",
       "      <td>0</td>\n",
       "      <td>0</td>\n",
       "      <td>0</td>\n",
       "      <td>0</td>\n",
       "      <td>0</td>\n",
       "      <td>0</td>\n",
       "      <td>0</td>\n",
       "      <td>0</td>\n",
       "      <td>...</td>\n",
       "      <td>0</td>\n",
       "      <td>0</td>\n",
       "      <td>0</td>\n",
       "      <td>0</td>\n",
       "      <td>1</td>\n",
       "      <td>1.183286</td>\n",
       "      <td>1</td>\n",
       "      <td>1</td>\n",
       "      <td>1</td>\n",
       "      <td>1</td>\n",
       "    </tr>\n",
       "    <tr>\n",
       "      <th>1</th>\n",
       "      <td>1</td>\n",
       "      <td>1</td>\n",
       "      <td>1</td>\n",
       "      <td>1</td>\n",
       "      <td>1</td>\n",
       "      <td>1</td>\n",
       "      <td>3</td>\n",
       "      <td>0</td>\n",
       "      <td>0</td>\n",
       "      <td>0</td>\n",
       "      <td>...</td>\n",
       "      <td>1</td>\n",
       "      <td>1</td>\n",
       "      <td>0</td>\n",
       "      <td>1</td>\n",
       "      <td>1</td>\n",
       "      <td>0.204913</td>\n",
       "      <td>0</td>\n",
       "      <td>0</td>\n",
       "      <td>1</td>\n",
       "      <td>1</td>\n",
       "    </tr>\n",
       "    <tr>\n",
       "      <th>2</th>\n",
       "      <td>1</td>\n",
       "      <td>0</td>\n",
       "      <td>0</td>\n",
       "      <td>0</td>\n",
       "      <td>0</td>\n",
       "      <td>0</td>\n",
       "      <td>0</td>\n",
       "      <td>0</td>\n",
       "      <td>0</td>\n",
       "      <td>0</td>\n",
       "      <td>...</td>\n",
       "      <td>0</td>\n",
       "      <td>0</td>\n",
       "      <td>0</td>\n",
       "      <td>0</td>\n",
       "      <td>1</td>\n",
       "      <td>1.349522</td>\n",
       "      <td>1</td>\n",
       "      <td>1</td>\n",
       "      <td>1</td>\n",
       "      <td>1</td>\n",
       "    </tr>\n",
       "    <tr>\n",
       "      <th>3</th>\n",
       "      <td>1</td>\n",
       "      <td>0</td>\n",
       "      <td>1</td>\n",
       "      <td>1</td>\n",
       "      <td>0</td>\n",
       "      <td>1</td>\n",
       "      <td>1</td>\n",
       "      <td>0</td>\n",
       "      <td>0</td>\n",
       "      <td>1</td>\n",
       "      <td>...</td>\n",
       "      <td>0</td>\n",
       "      <td>0</td>\n",
       "      <td>0</td>\n",
       "      <td>0</td>\n",
       "      <td>1</td>\n",
       "      <td>0.069748</td>\n",
       "      <td>1</td>\n",
       "      <td>0</td>\n",
       "      <td>1</td>\n",
       "      <td>1</td>\n",
       "    </tr>\n",
       "    <tr>\n",
       "      <th>4</th>\n",
       "      <td>1</td>\n",
       "      <td>0</td>\n",
       "      <td>0</td>\n",
       "      <td>1</td>\n",
       "      <td>0</td>\n",
       "      <td>1</td>\n",
       "      <td>1</td>\n",
       "      <td>0</td>\n",
       "      <td>0</td>\n",
       "      <td>0</td>\n",
       "      <td>...</td>\n",
       "      <td>0</td>\n",
       "      <td>0</td>\n",
       "      <td>0</td>\n",
       "      <td>0</td>\n",
       "      <td>1</td>\n",
       "      <td>0.270909</td>\n",
       "      <td>1</td>\n",
       "      <td>1</td>\n",
       "      <td>1</td>\n",
       "      <td>1</td>\n",
       "    </tr>\n",
       "  </tbody>\n",
       "</table>\n",
       "<p>5 rows × 155 columns</p>\n",
       "</div>"
      ],
      "text/plain": [
       "   ep1  econviol  emotvio  physvio  sexvio  sexphys  typevio  physcur  sexcur  \\\n",
       "0    1         0        0        0       0        0        0        0       0   \n",
       "1    1         1        1        1       1        1        3        0       0   \n",
       "2    1         0        0        0       0        0        0        0       0   \n",
       "3    1         0        1        1       0        1        1        0       0   \n",
       "4    1         0        0        1       0        1        1        0       0   \n",
       "\n",
       "   emotcur   ...    eQ703e  eQ703f  eQ703g  eQ703h  country  weighing  rQ701a  \\\n",
       "0        0   ...         0       0       0       0        1  1.183286       1   \n",
       "1        0   ...         1       1       0       1        1  0.204913       0   \n",
       "2        0   ...         0       0       0       0        1  1.349522       1   \n",
       "3        1   ...         0       0       0       0        1  0.069748       1   \n",
       "4        0   ...         0       0       0       0        1  0.270909       1   \n",
       "\n",
       "   rQ701b  rQ701c  rQ701d  \n",
       "0       1       1       1  \n",
       "1       0       1       1  \n",
       "2       1       1       1  \n",
       "3       0       1       1  \n",
       "4       1       1       1  \n",
       "\n",
       "[5 rows x 155 columns]"
      ]
     },
     "execution_count": 2,
     "metadata": {},
     "output_type": "execute_result"
    }
   ],
   "source": [
    "# Import data from csv file\n",
    "data = pd.read_csv(\"CaribbeanAll.csv\")\n",
    "data.head()"
   ]
  },
  {
   "cell_type": "code",
   "execution_count": 13,
   "metadata": {},
   "outputs": [
    {
     "data": {
      "text/html": [
       "<div>\n",
       "<style scoped>\n",
       "    .dataframe tbody tr th:only-of-type {\n",
       "        vertical-align: middle;\n",
       "    }\n",
       "\n",
       "    .dataframe tbody tr th {\n",
       "        vertical-align: top;\n",
       "    }\n",
       "\n",
       "    .dataframe thead th {\n",
       "        text-align: right;\n",
       "    }\n",
       "</style>\n",
       "<table border=\"1\" class=\"dataframe\">\n",
       "  <thead>\n",
       "    <tr style=\"text-align: right;\">\n",
       "      <th></th>\n",
       "      <th>country</th>\n",
       "      <th>EP3</th>\n",
       "      <th>earlymarriage</th>\n",
       "      <th>FCMAR</th>\n",
       "      <th>ageyr5</th>\n",
       "      <th>ageyr10</th>\n",
       "      <th>edresp</th>\n",
       "      <th>w_religion</th>\n",
       "      <th>ETHNICITY</th>\n",
       "      <th>employstatus</th>\n",
       "      <th>SourceIncome</th>\n",
       "      <th>Fam_support</th>\n",
       "      <th>sexphys</th>\n",
       "    </tr>\n",
       "  </thead>\n",
       "  <tbody>\n",
       "    <tr>\n",
       "      <th>0</th>\n",
       "      <td>1</td>\n",
       "      <td>1</td>\n",
       "      <td>0</td>\n",
       "      <td>0</td>\n",
       "      <td>6</td>\n",
       "      <td>3</td>\n",
       "      <td>2</td>\n",
       "      <td>0</td>\n",
       "      <td>4</td>\n",
       "      <td>4</td>\n",
       "      <td>2</td>\n",
       "      <td>1</td>\n",
       "      <td>0</td>\n",
       "    </tr>\n",
       "    <tr>\n",
       "      <th>1</th>\n",
       "      <td>1</td>\n",
       "      <td>4</td>\n",
       "      <td>1</td>\n",
       "      <td>0</td>\n",
       "      <td>9</td>\n",
       "      <td>5</td>\n",
       "      <td>2</td>\n",
       "      <td>1</td>\n",
       "      <td>1</td>\n",
       "      <td>2</td>\n",
       "      <td>5</td>\n",
       "      <td>1</td>\n",
       "      <td>1</td>\n",
       "    </tr>\n",
       "    <tr>\n",
       "      <th>2</th>\n",
       "      <td>1</td>\n",
       "      <td>4</td>\n",
       "      <td>9</td>\n",
       "      <td>9</td>\n",
       "      <td>2</td>\n",
       "      <td>1</td>\n",
       "      <td>3</td>\n",
       "      <td>1</td>\n",
       "      <td>6</td>\n",
       "      <td>4</td>\n",
       "      <td>5</td>\n",
       "      <td>1</td>\n",
       "      <td>0</td>\n",
       "    </tr>\n",
       "    <tr>\n",
       "      <th>3</th>\n",
       "      <td>1</td>\n",
       "      <td>1</td>\n",
       "      <td>0</td>\n",
       "      <td>0</td>\n",
       "      <td>9</td>\n",
       "      <td>5</td>\n",
       "      <td>2</td>\n",
       "      <td>1</td>\n",
       "      <td>5</td>\n",
       "      <td>4</td>\n",
       "      <td>3</td>\n",
       "      <td>1</td>\n",
       "      <td>1</td>\n",
       "    </tr>\n",
       "    <tr>\n",
       "      <th>4</th>\n",
       "      <td>1</td>\n",
       "      <td>4</td>\n",
       "      <td>1</td>\n",
       "      <td>1</td>\n",
       "      <td>8</td>\n",
       "      <td>4</td>\n",
       "      <td>1</td>\n",
       "      <td>0</td>\n",
       "      <td>4</td>\n",
       "      <td>3</td>\n",
       "      <td>2</td>\n",
       "      <td>1</td>\n",
       "      <td>1</td>\n",
       "    </tr>\n",
       "  </tbody>\n",
       "</table>\n",
       "</div>"
      ],
      "text/plain": [
       "   country  EP3  earlymarriage  FCMAR  ageyr5  ageyr10  edresp  w_religion  \\\n",
       "0        1    1              0      0       6        3       2           0   \n",
       "1        1    4              1      0       9        5       2           1   \n",
       "2        1    4              9      9       2        1       3           1   \n",
       "3        1    1              0      0       9        5       2           1   \n",
       "4        1    4              1      1       8        4       1           0   \n",
       "\n",
       "   ETHNICITY  employstatus  SourceIncome  Fam_support  sexphys  \n",
       "0          4             4             2            1        0  \n",
       "1          1             2             5            1        1  \n",
       "2          6             4             5            1        0  \n",
       "3          5             4             3            1        1  \n",
       "4          4             3             2            1        1  "
      ]
     },
     "execution_count": 13,
     "metadata": {},
     "output_type": "execute_result"
    }
   ],
   "source": [
    "df_caribbean = data[[\"country\", \"EP3\", \"earlymarriage\", \"FCMAR\", \"ageyr5\", \"ageyr10\", \"edresp\", \"w_religion\",\n",
    "                 \"ETHNICITY\", \"employstatus\", \"SourceIncome\", \"Fam_support\", \"sexphys\"]]\n",
    "df_caribbean.head()"
   ]
  },
  {
   "cell_type": "markdown",
   "metadata": {},
   "source": [
    "## SPlit the data"
   ]
  },
  {
   "cell_type": "code",
   "execution_count": 14,
   "metadata": {},
   "outputs": [],
   "source": [
    "Guyana = df_caribbean[df_caribbean['country']==1]\n",
    "Jamaica = df_caribbean[df_caribbean['country']==2]\n",
    "Suriname = df_caribbean[df_caribbean['country']==3]\n",
    "Trinidad = df_caribbean[df_caribbean['country']==4]"
   ]
  },
  {
   "cell_type": "code",
   "execution_count": 22,
   "metadata": {},
   "outputs": [],
   "source": [
    "Guyana_X = Guyana.iloc[:, :-1]\n",
    "Guyana_y = Guyana.iloc[:, -1]"
   ]
  },
  {
   "cell_type": "code",
   "execution_count": 24,
   "metadata": {
    "scrolled": true
   },
   "outputs": [],
   "source": [
    "Jamaica_X = Jamaica.iloc[:, :-1]\n",
    "Jamaica_y = Jamaica.iloc[:, -1]"
   ]
  },
  {
   "cell_type": "code",
   "execution_count": 25,
   "metadata": {},
   "outputs": [],
   "source": [
    "Suriname_X = Suriname.iloc[:, :-1]\n",
    "Suriname_y = Suriname.iloc[:, -1]"
   ]
  },
  {
   "cell_type": "code",
   "execution_count": 26,
   "metadata": {},
   "outputs": [],
   "source": [
    "Trinidad_X = Trinidad.iloc[:, :-1]\n",
    "Trinidad_y = Trinidad.iloc[:, -1]"
   ]
  },
  {
   "cell_type": "code",
   "execution_count": 45,
   "metadata": {},
   "outputs": [],
   "source": [
    "# Randomly choose 30% of the data for validation and testing\n",
    "from sklearn.model_selection import train_test_split\n",
    "GuyanaX_train, GuyanaX_rest, Guyanay_train, Guyanay_rest = train_test_split(Guyana_X, \n",
    "                                                                            Guyana_y, \n",
    "                                                                            test_size=0.3, \n",
    "                                                                            random_state=0, \n",
    "                                                                            stratify=Guyana_y)"
   ]
  },
  {
   "cell_type": "code",
   "execution_count": 46,
   "metadata": {},
   "outputs": [],
   "source": [
    "JamaicaX_train, JamaicaX_rest, Jamaicay_train, Jamaicay_rest = train_test_split(Jamaica_X, \n",
    "                                                                                Jamaica_y, \n",
    "                                                                                test_size=0.3, \n",
    "                                                                                random_state=0, \n",
    "                                                                                stratify=Jamaica_y)"
   ]
  },
  {
   "cell_type": "code",
   "execution_count": 47,
   "metadata": {},
   "outputs": [],
   "source": [
    "SurinameX_train, SurinameX_rest, Surinamey_train, Surinamey_rest = train_test_split(Suriname_X, \n",
    "                                                                                    Suriname_y, \n",
    "                                                                                    test_size=0.3, \n",
    "                                                                                    random_state=0, \n",
    "                                                                                    stratify=Suriname_y)"
   ]
  },
  {
   "cell_type": "code",
   "execution_count": 48,
   "metadata": {},
   "outputs": [],
   "source": [
    "TrinidadX_train, TrinidadX_rest, Trinidady_train, Trinidady_rest = train_test_split(Trinidad_X, \n",
    "                                                                                    Trinidad_y, \n",
    "                                                                                    test_size=0.3, \n",
    "                                                                                    random_state=0, \n",
    "                                                                                    stratify=Trinidad_y)"
   ]
  },
  {
   "cell_type": "code",
   "execution_count": 59,
   "metadata": {},
   "outputs": [],
   "source": [
    "# Randomly choose 50% of the data for testing\n",
    "GuyanaX_val, GuyanaX_test, Guyanay_val, Guyanay_test = train_test_split(GuyanaX_rest, \n",
    "                                                                            Guyanay_rest, \n",
    "                                                                            test_size=0.5, \n",
    "                                                                            random_state=0, \n",
    "                                                                            stratify=Guyanay_rest)"
   ]
  },
  {
   "cell_type": "code",
   "execution_count": 75,
   "metadata": {},
   "outputs": [],
   "source": [
    "JamaicaX_val, JamaicaX_test, Jamaicay_val, Jamaicay_test = train_test_split(JamaicaX_rest, \n",
    "                                                                            Jamaicay_rest, \n",
    "                                                                            test_size=0.5, \n",
    "                                                                            random_state=0, \n",
    "                                                                            stratify=Jamaicay_rest)"
   ]
  },
  {
   "cell_type": "code",
   "execution_count": 65,
   "metadata": {},
   "outputs": [],
   "source": [
    "SurinameX_val, SurinameX_test, Surinamey_val, Surinamey_test = train_test_split(SurinameX_rest, \n",
    "                                                                            Surinamey_rest, \n",
    "                                                                            test_size=0.5, \n",
    "                                                                            random_state=0, \n",
    "                                                                            stratify=Surinamey_rest)\n"
   ]
  },
  {
   "cell_type": "code",
   "execution_count": 66,
   "metadata": {},
   "outputs": [],
   "source": [
    "TrinidadX_val, TrinidadX_test, Trinidady_val, Trinidady_test = train_test_split(TrinidadX_rest, \n",
    "                                                                            Trinidady_rest, \n",
    "                                                                            test_size=0.5, \n",
    "                                                                            random_state=0, \n",
    "                                                                            stratify=Trinidady_rest)\n"
   ]
  },
  {
   "cell_type": "code",
   "execution_count": 70,
   "metadata": {},
   "outputs": [],
   "source": [
    "X_train = pd.concat([GuyanaX_train, JamaicaX_train, SurinameX_train, TrinidadX_train])\n",
    "y_train = pd.concat([Guyanay_train, Jamaicay_train, Surinamey_train, Trinidady_train])\n",
    "df_train = X_train.join(y_train)"
   ]
  },
  {
   "cell_type": "code",
   "execution_count": 83,
   "metadata": {},
   "outputs": [
    {
     "data": {
      "text/plain": [
       "(3364, 13)"
      ]
     },
     "execution_count": 83,
     "metadata": {},
     "output_type": "execute_result"
    }
   ],
   "source": [
    "df_train.shape"
   ]
  },
  {
   "cell_type": "code",
   "execution_count": 76,
   "metadata": {},
   "outputs": [],
   "source": [
    "X_val = pd.concat([GuyanaX_val, JamaicaX_val, SurinameX_val, TrinidadX_val])\n",
    "y_val = pd.concat([Guyanay_val, Jamaicay_val, Surinamey_val, Trinidady_val])\n",
    "df_val = X_val.join(y_val)"
   ]
  },
  {
   "cell_type": "code",
   "execution_count": 81,
   "metadata": {},
   "outputs": [
    {
     "data": {
      "text/plain": [
       "(721, 13)"
      ]
     },
     "execution_count": 81,
     "metadata": {},
     "output_type": "execute_result"
    }
   ],
   "source": [
    "df_val.shape"
   ]
  },
  {
   "cell_type": "code",
   "execution_count": 80,
   "metadata": {},
   "outputs": [],
   "source": [
    "X_test = pd.concat([GuyanaX_test, JamaicaX_test, SurinameX_test, TrinidadX_test])\n",
    "y_test = pd.concat([Guyanay_test, Jamaicay_test, Surinamey_test, Trinidady_test])\n",
    "df_test = X_test.join(y_test)"
   ]
  },
  {
   "cell_type": "code",
   "execution_count": 82,
   "metadata": {},
   "outputs": [
    {
     "data": {
      "text/plain": [
       "(723, 13)"
      ]
     },
     "execution_count": 82,
     "metadata": {},
     "output_type": "execute_result"
    }
   ],
   "source": [
    "df_test.shape"
   ]
  },
  {
   "cell_type": "markdown",
   "metadata": {},
   "source": [
    "### WORK ON THE VISUALIZATION LATER"
   ]
  },
  {
   "cell_type": "code",
   "execution_count": null,
   "metadata": {},
   "outputs": [],
   "source": [
    "### TEST INTERACTION WITH CHI2"
   ]
  },
  {
   "cell_type": "code",
   "execution_count": 84,
   "metadata": {},
   "outputs": [
    {
     "data": {
      "text/html": [
       "<div>\n",
       "<style scoped>\n",
       "    .dataframe tbody tr th:only-of-type {\n",
       "        vertical-align: middle;\n",
       "    }\n",
       "\n",
       "    .dataframe tbody tr th {\n",
       "        vertical-align: top;\n",
       "    }\n",
       "\n",
       "    .dataframe thead th {\n",
       "        text-align: right;\n",
       "    }\n",
       "</style>\n",
       "<table border=\"1\" class=\"dataframe\">\n",
       "  <thead>\n",
       "    <tr style=\"text-align: right;\">\n",
       "      <th></th>\n",
       "      <th>country</th>\n",
       "      <th>EP3</th>\n",
       "      <th>earlymarriage</th>\n",
       "      <th>FCMAR</th>\n",
       "      <th>ageyr5</th>\n",
       "      <th>ageyr10</th>\n",
       "      <th>edresp</th>\n",
       "      <th>w_religion</th>\n",
       "      <th>ETHNICITY</th>\n",
       "      <th>employstatus</th>\n",
       "      <th>SourceIncome</th>\n",
       "      <th>Fam_support</th>\n",
       "      <th>sexphys</th>\n",
       "    </tr>\n",
       "  </thead>\n",
       "  <tbody>\n",
       "    <tr>\n",
       "      <th>995</th>\n",
       "      <td>1</td>\n",
       "      <td>2</td>\n",
       "      <td>1</td>\n",
       "      <td>0</td>\n",
       "      <td>3</td>\n",
       "      <td>2</td>\n",
       "      <td>1</td>\n",
       "      <td>1</td>\n",
       "      <td>6</td>\n",
       "      <td>2</td>\n",
       "      <td>5</td>\n",
       "      <td>0</td>\n",
       "      <td>1</td>\n",
       "    </tr>\n",
       "    <tr>\n",
       "      <th>962</th>\n",
       "      <td>1</td>\n",
       "      <td>1</td>\n",
       "      <td>0</td>\n",
       "      <td>0</td>\n",
       "      <td>3</td>\n",
       "      <td>2</td>\n",
       "      <td>2</td>\n",
       "      <td>1</td>\n",
       "      <td>5</td>\n",
       "      <td>2</td>\n",
       "      <td>4</td>\n",
       "      <td>1</td>\n",
       "      <td>0</td>\n",
       "    </tr>\n",
       "    <tr>\n",
       "      <th>998</th>\n",
       "      <td>1</td>\n",
       "      <td>2</td>\n",
       "      <td>0</td>\n",
       "      <td>0</td>\n",
       "      <td>4</td>\n",
       "      <td>2</td>\n",
       "      <td>1</td>\n",
       "      <td>0</td>\n",
       "      <td>4</td>\n",
       "      <td>2</td>\n",
       "      <td>4</td>\n",
       "      <td>1</td>\n",
       "      <td>0</td>\n",
       "    </tr>\n",
       "    <tr>\n",
       "      <th>639</th>\n",
       "      <td>1</td>\n",
       "      <td>4</td>\n",
       "      <td>9</td>\n",
       "      <td>9</td>\n",
       "      <td>8</td>\n",
       "      <td>4</td>\n",
       "      <td>2</td>\n",
       "      <td>1</td>\n",
       "      <td>1</td>\n",
       "      <td>1</td>\n",
       "      <td>5</td>\n",
       "      <td>1</td>\n",
       "      <td>0</td>\n",
       "    </tr>\n",
       "    <tr>\n",
       "      <th>932</th>\n",
       "      <td>1</td>\n",
       "      <td>4</td>\n",
       "      <td>0</td>\n",
       "      <td>0</td>\n",
       "      <td>7</td>\n",
       "      <td>4</td>\n",
       "      <td>2</td>\n",
       "      <td>0</td>\n",
       "      <td>4</td>\n",
       "      <td>1</td>\n",
       "      <td>5</td>\n",
       "      <td>1</td>\n",
       "      <td>0</td>\n",
       "    </tr>\n",
       "  </tbody>\n",
       "</table>\n",
       "</div>"
      ],
      "text/plain": [
       "     country  EP3  earlymarriage  FCMAR  ageyr5  ageyr10  edresp  w_religion  \\\n",
       "995        1    2              1      0       3        2       1           1   \n",
       "962        1    1              0      0       3        2       2           1   \n",
       "998        1    2              0      0       4        2       1           0   \n",
       "639        1    4              9      9       8        4       2           1   \n",
       "932        1    4              0      0       7        4       2           0   \n",
       "\n",
       "     ETHNICITY  employstatus  SourceIncome  Fam_support  sexphys  \n",
       "995          6             2             5            0        1  \n",
       "962          5             2             4            1        0  \n",
       "998          4             2             4            1        0  \n",
       "639          1             1             5            1        0  \n",
       "932          4             1             5            1        0  "
      ]
     },
     "execution_count": 84,
     "metadata": {},
     "output_type": "execute_result"
    }
   ],
   "source": [
    "df_train.head()"
   ]
  },
  {
   "cell_type": "code",
   "execution_count": 107,
   "metadata": {},
   "outputs": [
    {
     "data": {
      "text/html": [
       "<div>\n",
       "<style scoped>\n",
       "    .dataframe tbody tr th:only-of-type {\n",
       "        vertical-align: middle;\n",
       "    }\n",
       "\n",
       "    .dataframe tbody tr th {\n",
       "        vertical-align: top;\n",
       "    }\n",
       "\n",
       "    .dataframe thead th {\n",
       "        text-align: right;\n",
       "    }\n",
       "</style>\n",
       "<table border=\"1\" class=\"dataframe\">\n",
       "  <thead>\n",
       "    <tr style=\"text-align: right;\">\n",
       "      <th></th>\n",
       "      <th>country</th>\n",
       "      <th>EP3</th>\n",
       "      <th>earlymarriage</th>\n",
       "      <th>FCMAR</th>\n",
       "      <th>ageyr5</th>\n",
       "      <th>ageyr10</th>\n",
       "      <th>edresp</th>\n",
       "      <th>w_religion</th>\n",
       "      <th>ETHNICITY</th>\n",
       "      <th>employstatus</th>\n",
       "      <th>SourceIncome</th>\n",
       "      <th>Fam_support</th>\n",
       "    </tr>\n",
       "  </thead>\n",
       "  <tbody>\n",
       "    <tr>\n",
       "      <th>3998</th>\n",
       "      <td>4</td>\n",
       "      <td>1</td>\n",
       "      <td>0</td>\n",
       "      <td>0</td>\n",
       "      <td>3</td>\n",
       "      <td>2</td>\n",
       "      <td>3</td>\n",
       "      <td>1</td>\n",
       "      <td>6</td>\n",
       "      <td>1</td>\n",
       "      <td>3</td>\n",
       "      <td>1</td>\n",
       "    </tr>\n",
       "    <tr>\n",
       "      <th>4726</th>\n",
       "      <td>4</td>\n",
       "      <td>1</td>\n",
       "      <td>0</td>\n",
       "      <td>0</td>\n",
       "      <td>8</td>\n",
       "      <td>4</td>\n",
       "      <td>2</td>\n",
       "      <td>1</td>\n",
       "      <td>4</td>\n",
       "      <td>4</td>\n",
       "      <td>4</td>\n",
       "      <td>1</td>\n",
       "    </tr>\n",
       "    <tr>\n",
       "      <th>4377</th>\n",
       "      <td>4</td>\n",
       "      <td>1</td>\n",
       "      <td>0</td>\n",
       "      <td>0</td>\n",
       "      <td>8</td>\n",
       "      <td>4</td>\n",
       "      <td>2</td>\n",
       "      <td>0</td>\n",
       "      <td>6</td>\n",
       "      <td>4</td>\n",
       "      <td>4</td>\n",
       "      <td>1</td>\n",
       "    </tr>\n",
       "    <tr>\n",
       "      <th>4548</th>\n",
       "      <td>4</td>\n",
       "      <td>1</td>\n",
       "      <td>0</td>\n",
       "      <td>0</td>\n",
       "      <td>7</td>\n",
       "      <td>4</td>\n",
       "      <td>3</td>\n",
       "      <td>0</td>\n",
       "      <td>1</td>\n",
       "      <td>4</td>\n",
       "      <td>4</td>\n",
       "      <td>1</td>\n",
       "    </tr>\n",
       "    <tr>\n",
       "      <th>4165</th>\n",
       "      <td>4</td>\n",
       "      <td>1</td>\n",
       "      <td>0</td>\n",
       "      <td>0</td>\n",
       "      <td>3</td>\n",
       "      <td>2</td>\n",
       "      <td>2</td>\n",
       "      <td>1</td>\n",
       "      <td>1</td>\n",
       "      <td>1</td>\n",
       "      <td>5</td>\n",
       "      <td>1</td>\n",
       "    </tr>\n",
       "  </tbody>\n",
       "</table>\n",
       "</div>"
      ],
      "text/plain": [
       "      country  EP3  earlymarriage  FCMAR  ageyr5  ageyr10  edresp  w_religion  \\\n",
       "3998        4    1              0      0       3        2       3           1   \n",
       "4726        4    1              0      0       8        4       2           1   \n",
       "4377        4    1              0      0       8        4       2           0   \n",
       "4548        4    1              0      0       7        4       3           0   \n",
       "4165        4    1              0      0       3        2       2           1   \n",
       "\n",
       "      ETHNICITY  employstatus  SourceIncome  Fam_support  \n",
       "3998          6             1             3            1  \n",
       "4726          4             4             4            1  \n",
       "4377          6             4             4            1  \n",
       "4548          1             4             4            1  \n",
       "4165          1             1             5            1  "
      ]
     },
     "execution_count": 107,
     "metadata": {},
     "output_type": "execute_result"
    }
   ],
   "source": [
    "X_train.tail()"
   ]
  },
  {
   "cell_type": "code",
   "execution_count": 127,
   "metadata": {},
   "outputs": [],
   "source": [
    "#import scipy.stats as stats\n",
    "#from scipy.stats import chi2_contingency as CHI2\n",
    "from scipy.stats import chi2_contingency"
   ]
  },
  {
   "cell_type": "code",
   "execution_count": 131,
   "metadata": {},
   "outputs": [
    {
     "data": {
      "text/html": [
       "<div>\n",
       "<style scoped>\n",
       "    .dataframe tbody tr th:only-of-type {\n",
       "        vertical-align: middle;\n",
       "    }\n",
       "\n",
       "    .dataframe tbody tr th {\n",
       "        vertical-align: top;\n",
       "    }\n",
       "\n",
       "    .dataframe thead th {\n",
       "        text-align: right;\n",
       "    }\n",
       "</style>\n",
       "<table border=\"1\" class=\"dataframe\">\n",
       "  <thead>\n",
       "    <tr style=\"text-align: right;\">\n",
       "      <th>sexphys</th>\n",
       "      <th>0</th>\n",
       "      <th>1</th>\n",
       "    </tr>\n",
       "    <tr>\n",
       "      <th>country</th>\n",
       "      <th></th>\n",
       "      <th></th>\n",
       "    </tr>\n",
       "  </thead>\n",
       "  <tbody>\n",
       "    <tr>\n",
       "      <th>1</th>\n",
       "      <td>605</td>\n",
       "      <td>368</td>\n",
       "    </tr>\n",
       "    <tr>\n",
       "      <th>2</th>\n",
       "      <td>492</td>\n",
       "      <td>190</td>\n",
       "    </tr>\n",
       "    <tr>\n",
       "      <th>3</th>\n",
       "      <td>660</td>\n",
       "      <td>336</td>\n",
       "    </tr>\n",
       "    <tr>\n",
       "      <th>4</th>\n",
       "      <td>498</td>\n",
       "      <td>215</td>\n",
       "    </tr>\n",
       "  </tbody>\n",
       "</table>\n",
       "</div>"
      ],
      "text/plain": [
       "sexphys    0    1\n",
       "country          \n",
       "1        605  368\n",
       "2        492  190\n",
       "3        660  336\n",
       "4        498  215"
      ]
     },
     "execution_count": 131,
     "metadata": {},
     "output_type": "execute_result"
    }
   ],
   "source": [
    "#country_tab = pd.crosstab(df_train.country, df_train.sexphys, margins = True)\n",
    "country_tab = pd.crosstab(df_train.country, df_train.sexphys)\n",
    "country_tab"
   ]
  },
  {
   "cell_type": "code",
   "execution_count": 135,
   "metadata": {},
   "outputs": [
    {
     "data": {
      "text/plain": [
       "(21.24464906252238,\n",
       " 9.365060579123815e-05,\n",
       " 3,\n",
       " array([[652.23394768, 320.76605232],\n",
       "        [457.16706302, 224.83293698],\n",
       "        [667.65160523, 328.34839477],\n",
       "        [477.94738407, 235.05261593]]))"
      ]
     },
     "execution_count": 135,
     "metadata": {},
     "output_type": "execute_result"
    }
   ],
   "source": [
    "chi2_contingency(observed= country_tab)"
   ]
  },
  {
   "cell_type": "code",
   "execution_count": 140,
   "metadata": {},
   "outputs": [],
   "source": [
    "#Labeled country\n",
    "#map variable\n",
    "\n",
    "var_mapping = {}\n",
    "\n",
    "var_mapping[\"country\"] ={1:'Guyana',\n",
    "                         2: 'Jamaica',\n",
    "                         3:'Suriname',\n",
    "                         4: 'Trinidad'\n",
    "                        }\n"
   ]
  },
  {
   "cell_type": "code",
   "execution_count": 141,
   "metadata": {},
   "outputs": [],
   "source": [
    "# Mapping the variables\n",
    "df_country = df_train[['country']]\n",
    "#df_country = df_train[['country']]\n",
    "\n",
    "def mapping(df, var, var_mapping):\n",
    "    df[var] = df[var].map(var_mapping[var])"
   ]
  },
  {
   "cell_type": "code",
   "execution_count": 143,
   "metadata": {},
   "outputs": [
    {
     "name": "stderr",
     "output_type": "stream",
     "text": [
      "C:\\Users\\ovinc\\Anaconda3\\lib\\site-packages\\ipykernel_launcher.py:5: SettingWithCopyWarning: \n",
      "A value is trying to be set on a copy of a slice from a DataFrame.\n",
      "Try using .loc[row_indexer,col_indexer] = value instead\n",
      "\n",
      "See the caveats in the documentation: http://pandas.pydata.org/pandas-docs/stable/indexing.html#indexing-view-versus-copy\n",
      "  \"\"\"\n"
     ]
    }
   ],
   "source": [
    "# Mapping the ordinal variables\n",
    "#for var in X_ord_num_labeled.columns[:-1]:\n",
    "mapping(df_country, 'country', var_mapping)"
   ]
  },
  {
   "cell_type": "code",
   "execution_count": 164,
   "metadata": {},
   "outputs": [],
   "source": [
    "#df_train.head()"
   ]
  },
  {
   "cell_type": "code",
   "execution_count": 146,
   "metadata": {},
   "outputs": [
    {
     "data": {
      "text/html": [
       "<div>\n",
       "<style scoped>\n",
       "    .dataframe tbody tr th:only-of-type {\n",
       "        vertical-align: middle;\n",
       "    }\n",
       "\n",
       "    .dataframe tbody tr th {\n",
       "        vertical-align: top;\n",
       "    }\n",
       "\n",
       "    .dataframe thead th {\n",
       "        text-align: right;\n",
       "    }\n",
       "</style>\n",
       "<table border=\"1\" class=\"dataframe\">\n",
       "  <thead>\n",
       "    <tr style=\"text-align: right;\">\n",
       "      <th></th>\n",
       "      <th>country_Guyana</th>\n",
       "      <th>country_Jamaica</th>\n",
       "      <th>country_Suriname</th>\n",
       "      <th>country_Trinidad</th>\n",
       "    </tr>\n",
       "  </thead>\n",
       "  <tbody>\n",
       "    <tr>\n",
       "      <th>995</th>\n",
       "      <td>1</td>\n",
       "      <td>0</td>\n",
       "      <td>0</td>\n",
       "      <td>0</td>\n",
       "    </tr>\n",
       "    <tr>\n",
       "      <th>962</th>\n",
       "      <td>1</td>\n",
       "      <td>0</td>\n",
       "      <td>0</td>\n",
       "      <td>0</td>\n",
       "    </tr>\n",
       "    <tr>\n",
       "      <th>998</th>\n",
       "      <td>1</td>\n",
       "      <td>0</td>\n",
       "      <td>0</td>\n",
       "      <td>0</td>\n",
       "    </tr>\n",
       "    <tr>\n",
       "      <th>639</th>\n",
       "      <td>1</td>\n",
       "      <td>0</td>\n",
       "      <td>0</td>\n",
       "      <td>0</td>\n",
       "    </tr>\n",
       "    <tr>\n",
       "      <th>932</th>\n",
       "      <td>1</td>\n",
       "      <td>0</td>\n",
       "      <td>0</td>\n",
       "      <td>0</td>\n",
       "    </tr>\n",
       "  </tbody>\n",
       "</table>\n",
       "</div>"
      ],
      "text/plain": [
       "     country_Guyana  country_Jamaica  country_Suriname  country_Trinidad\n",
       "995               1                0                 0                 0\n",
       "962               1                0                 0                 0\n",
       "998               1                0                 0                 0\n",
       "639               1                0                 0                 0\n",
       "932               1                0                 0                 0"
      ]
     },
     "execution_count": 146,
     "metadata": {},
     "output_type": "execute_result"
    }
   ],
   "source": [
    "# create the dummies dataframe\n",
    "X_nominal_dummies = pd.get_dummies(df_country)\n",
    "X_nominal_dummies.head()"
   ]
  },
  {
   "cell_type": "code",
   "execution_count": 148,
   "metadata": {},
   "outputs": [
    {
     "name": "stdout",
     "output_type": "stream",
     "text": [
      "(2,)\n"
     ]
    },
    {
     "data": {
      "text/plain": [
       "country_Guyana     0.001277\n",
       "country_Jamaica    0.004549\n",
       "dtype: float64"
      ]
     },
     "execution_count": 148,
     "metadata": {},
     "output_type": "execute_result"
    }
   ],
   "source": [
    "#chi2 test: all the features with the target variable\n",
    "from sklearn.feature_selection import chi2\n",
    "\n",
    "df_chi2 = chi2(X_nominal_dummies, df_train.iloc[:,-1])\n",
    "\n",
    "#df_chi2 = chi2(X_train.values, y_train.values)\n",
    "\n",
    "# Convert the chi2 tests into one-dimensional 1darray with corresponding df column names as axis labels\n",
    "#f_chi2 = pd.Series(df_chi2[1], df_train.iloc[:,:-1].columns)\n",
    "f_chi2 = pd.Series(df_chi2[1], X_nominal_dummies.columns)\n",
    "\n",
    "# Sort the array in ascending order of the pvalues\n",
    "f_chi2.sort_values(ascending=True, inplace=True)\n",
    "\n",
    "# Select the significant features \n",
    "sign_chi2 = f_chi2[f_chi2<=0.1]\n",
    "\n",
    "print(sign_chi2.shape)\n",
    "sign_chi2"
   ]
  },
  {
   "cell_type": "markdown",
   "metadata": {},
   "source": [
    "#### Features importances RD"
   ]
  },
  {
   "cell_type": "code",
   "execution_count": 150,
   "metadata": {},
   "outputs": [],
   "source": [
    "from sklearn.ensemble import RandomForestClassifier\n",
    "\n",
    "# Random forest classifier\n",
    "rfc = RandomForestClassifier(n_estimators=10, random_state=0)\n",
    "\n",
    "\n",
    "# Train the model \n",
    "rfc.fit(X_nominal_dummies, y_train)\n",
    "\n",
    "# Get the feature importances\n",
    "importances = rfc.feature_importances_"
   ]
  },
  {
   "cell_type": "code",
   "execution_count": 152,
   "metadata": {},
   "outputs": [
    {
     "data": {
      "text/plain": [
       "country_Guyana      0.697215\n",
       "country_Jamaica     0.129988\n",
       "country_Trinidad    0.086774\n",
       "country_Suriname    0.086023\n",
       "dtype: float64"
      ]
     },
     "execution_count": 152,
     "metadata": {},
     "output_type": "execute_result"
    }
   ],
   "source": [
    "# Convert the importances into one-dimensional 1darray with corresponding df column names as axis labels\n",
    "f_importances = pd.Series(importances, X_nominal_dummies.columns)\n",
    "\n",
    "# Sort the array in descending order of the importances\n",
    "f_importances.sort_values(ascending=False, inplace=True)\n",
    "\n",
    "f_importances"
   ]
  },
  {
   "cell_type": "code",
   "execution_count": 154,
   "metadata": {},
   "outputs": [
    {
     "data": {
      "image/png": "[encoded data removed]",
      "text/plain": [
       "<Figure size 3000x2000 with 1 Axes>"
      ]
     },
     "metadata": {},
     "output_type": "display_data"
    }
   ],
   "source": [
    "# Make the bar Plot from f_importances \n",
    "plt.figure(figsize=(12,8),dpi=250)\n",
    "f_importances.plot(kind='bar', fontsize=20)\n",
    "plt.xlabel('Features', fontsize=20)\n",
    "plt.ylabel('Importance', fontsize=20)\n",
    "plt.title(\"Top 7 features using Random Forest\", fontsize=20)\n",
    "\n",
    "# Show the plot\n",
    "plt.tight_layout()\n",
    "plt.show()"
   ]
  },
  {
   "cell_type": "code",
   "execution_count": 161,
   "metadata": {},
   "outputs": [],
   "source": [
    "# Mapping the variables\n",
    "#df_ctest = df_test.iloc[:, 0]\n",
    "df_ctest = df_test[['country']].copy()\n",
    "\n",
    "def mapping(df, var, var_mapping):\n",
    "    df[var] = df[var].map(var_mapping[var])"
   ]
  },
  {
   "cell_type": "code",
   "execution_count": 165,
   "metadata": {},
   "outputs": [],
   "source": [
    "mapping(df_ctest, 'country', var_mapping)"
   ]
  },
  {
   "cell_type": "code",
   "execution_count": 167,
   "metadata": {},
   "outputs": [
    {
     "data": {
      "text/html": [
       "<div>\n",
       "<style scoped>\n",
       "    .dataframe tbody tr th:only-of-type {\n",
       "        vertical-align: middle;\n",
       "    }\n",
       "\n",
       "    .dataframe tbody tr th {\n",
       "        vertical-align: top;\n",
       "    }\n",
       "\n",
       "    .dataframe thead th {\n",
       "        text-align: right;\n",
       "    }\n",
       "</style>\n",
       "<table border=\"1\" class=\"dataframe\">\n",
       "  <thead>\n",
       "    <tr style=\"text-align: right;\">\n",
       "      <th></th>\n",
       "      <th>country_Guyana</th>\n",
       "      <th>country_Jamaica</th>\n",
       "      <th>country_Suriname</th>\n",
       "      <th>country_Trinidad</th>\n",
       "    </tr>\n",
       "  </thead>\n",
       "  <tbody>\n",
       "    <tr>\n",
       "      <th>1200</th>\n",
       "      <td>1</td>\n",
       "      <td>0</td>\n",
       "      <td>0</td>\n",
       "      <td>0</td>\n",
       "    </tr>\n",
       "    <tr>\n",
       "      <th>868</th>\n",
       "      <td>1</td>\n",
       "      <td>0</td>\n",
       "      <td>0</td>\n",
       "      <td>0</td>\n",
       "    </tr>\n",
       "    <tr>\n",
       "      <th>745</th>\n",
       "      <td>1</td>\n",
       "      <td>0</td>\n",
       "      <td>0</td>\n",
       "      <td>0</td>\n",
       "    </tr>\n",
       "    <tr>\n",
       "      <th>149</th>\n",
       "      <td>1</td>\n",
       "      <td>0</td>\n",
       "      <td>0</td>\n",
       "      <td>0</td>\n",
       "    </tr>\n",
       "    <tr>\n",
       "      <th>304</th>\n",
       "      <td>1</td>\n",
       "      <td>0</td>\n",
       "      <td>0</td>\n",
       "      <td>0</td>\n",
       "    </tr>\n",
       "  </tbody>\n",
       "</table>\n",
       "</div>"
      ],
      "text/plain": [
       "      country_Guyana  country_Jamaica  country_Suriname  country_Trinidad\n",
       "1200               1                0                 0                 0\n",
       "868                1                0                 0                 0\n",
       "745                1                0                 0                 0\n",
       "149                1                0                 0                 0\n",
       "304                1                0                 0                 0"
      ]
     },
     "execution_count": 167,
     "metadata": {},
     "output_type": "execute_result"
    }
   ],
   "source": [
    "# create the dummies dataframe\n",
    "X_nominal_test = pd.get_dummies(df_ctest)\n",
    "X_nominal_test.head()"
   ]
  },
  {
   "cell_type": "code",
   "execution_count": 169,
   "metadata": {},
   "outputs": [
    {
     "name": "stdout",
     "output_type": "stream",
     "text": [
      "Top 1    0.670816\n",
      "Top 2    0.670816\n",
      "Top 3    0.670816\n",
      "Top 4    0.670816\n",
      "dtype: float64\n"
     ]
    },
    {
     "name": "stderr",
     "output_type": "stream",
     "text": [
      "C:\\Users\\ovinc\\Anaconda3\\lib\\site-packages\\ipykernel_launcher.py:21: FutureWarning: set_value is deprecated and will be removed in a future release. Please use .at[] or .iat[] accessors instead\n",
      "C:\\Users\\ovinc\\Anaconda3\\lib\\site-packages\\ipykernel_launcher.py:21: FutureWarning: set_value is deprecated and will be removed in a future release. Please use .at[] or .iat[] accessors instead\n",
      "C:\\Users\\ovinc\\Anaconda3\\lib\\site-packages\\ipykernel_launcher.py:21: FutureWarning: set_value is deprecated and will be removed in a future release. Please use .at[] or .iat[] accessors instead\n",
      "C:\\Users\\ovinc\\Anaconda3\\lib\\site-packages\\ipykernel_launcher.py:21: FutureWarning: set_value is deprecated and will be removed in a future release. Please use .at[] or .iat[] accessors instead\n"
     ]
    }
   ],
   "source": [
    "from sklearn.metrics import precision_recall_fscore_support\n",
    "\n",
    "top_fscores = pd.Series()\n",
    "\n",
    "\n",
    "for k in range(1,importances[:4].shape[0]+1): \n",
    "    #Select the top features\n",
    "    top = f_importances[:4].index[0:k].tolist()\n",
    "    \n",
    "    #Instantiate the Random forest classifier\n",
    "    top_rfc = RandomForestClassifier(random_state=0)\n",
    "    \n",
    "    #Train the model\n",
    "    top_rfc.fit(X_nominal_dummies[top].values, y_train)\n",
    "    \n",
    "    #Test the model\n",
    "    y_test_pred = top_rfc.predict(X_nominal_test[top])\n",
    "    \n",
    "    #Calculate the precision, recall, and fscore and select the fscore\n",
    "    score = precision_recall_fscore_support(y_test, y_test_pred, average='micro')[2]\n",
    "    top_fscores.set_value(\"Top \" + str(k), score)\n",
    "\n",
    "print(top_fscores)"
   ]
  },
  {
   "cell_type": "code",
   "execution_count": null,
   "metadata": {},
   "outputs": [],
   "source": [
    "### CHECK FOR INTERACTION (WITH COUNTRY AND FAM SUPPORT)"
   ]
  },
  {
   "cell_type": "code",
   "execution_count": 170,
   "metadata": {},
   "outputs": [
    {
     "data": {
      "text/html": [
       "<div>\n",
       "<style scoped>\n",
       "    .dataframe tbody tr th:only-of-type {\n",
       "        vertical-align: middle;\n",
       "    }\n",
       "\n",
       "    .dataframe tbody tr th {\n",
       "        vertical-align: top;\n",
       "    }\n",
       "\n",
       "    .dataframe thead th {\n",
       "        text-align: right;\n",
       "    }\n",
       "</style>\n",
       "<table border=\"1\" class=\"dataframe\">\n",
       "  <thead>\n",
       "    <tr style=\"text-align: right;\">\n",
       "      <th>sexphys</th>\n",
       "      <th>0</th>\n",
       "      <th>1</th>\n",
       "    </tr>\n",
       "    <tr>\n",
       "      <th>Fam_support</th>\n",
       "      <th></th>\n",
       "      <th></th>\n",
       "    </tr>\n",
       "  </thead>\n",
       "  <tbody>\n",
       "    <tr>\n",
       "      <th>0</th>\n",
       "      <td>330</td>\n",
       "      <td>254</td>\n",
       "    </tr>\n",
       "    <tr>\n",
       "      <th>1</th>\n",
       "      <td>1925</td>\n",
       "      <td>855</td>\n",
       "    </tr>\n",
       "  </tbody>\n",
       "</table>\n",
       "</div>"
      ],
      "text/plain": [
       "sexphys         0    1\n",
       "Fam_support           \n",
       "0             330  254\n",
       "1            1925  855"
      ]
     },
     "execution_count": 170,
     "metadata": {},
     "output_type": "execute_result"
    }
   ],
   "source": [
    "fam_tab = pd.crosstab(df_train.Fam_support, df_train.sexphys)\n",
    "fam_tab"
   ]
  },
  {
   "cell_type": "code",
   "execution_count": 171,
   "metadata": {},
   "outputs": [
    {
     "data": {
      "text/plain": [
       "(34.86003335248448,\n",
       " 3.542791312826392e-09,\n",
       " 1,\n",
       " array([[ 391.4744352,  192.5255648],\n",
       "        [1863.5255648,  916.4744352]]))"
      ]
     },
     "execution_count": 171,
     "metadata": {},
     "output_type": "execute_result"
    }
   ],
   "source": [
    "chi2_contingency(observed= fam_tab)"
   ]
  },
  {
   "cell_type": "code",
   "execution_count": 177,
   "metadata": {},
   "outputs": [
    {
     "data": {
      "text/plain": [
       "(array([6.15145966]), array([0.01313037]))"
      ]
     },
     "execution_count": 177,
     "metadata": {},
     "output_type": "execute_result"
    }
   ],
   "source": [
    "#chi2(df_train['Fam_support'].values.reshape(-1,1), df_train.iloc[:,-1])"
   ]
  },
  {
   "cell_type": "code",
   "execution_count": 231,
   "metadata": {},
   "outputs": [
    {
     "data": {
      "text/html": [
       "<div>\n",
       "<style scoped>\n",
       "    .dataframe tbody tr th:only-of-type {\n",
       "        vertical-align: middle;\n",
       "    }\n",
       "\n",
       "    .dataframe tbody tr th {\n",
       "        vertical-align: top;\n",
       "    }\n",
       "\n",
       "    .dataframe thead th {\n",
       "        text-align: right;\n",
       "    }\n",
       "</style>\n",
       "<table border=\"1\" class=\"dataframe\">\n",
       "  <thead>\n",
       "    <tr style=\"text-align: right;\">\n",
       "      <th>Fam_support</th>\n",
       "      <th>0</th>\n",
       "      <th>1</th>\n",
       "    </tr>\n",
       "    <tr>\n",
       "      <th>country</th>\n",
       "      <th></th>\n",
       "      <th></th>\n",
       "    </tr>\n",
       "  </thead>\n",
       "  <tbody>\n",
       "    <tr>\n",
       "      <th>1</th>\n",
       "      <td>103</td>\n",
       "      <td>870</td>\n",
       "    </tr>\n",
       "    <tr>\n",
       "      <th>2</th>\n",
       "      <td>197</td>\n",
       "      <td>485</td>\n",
       "    </tr>\n",
       "    <tr>\n",
       "      <th>3</th>\n",
       "      <td>204</td>\n",
       "      <td>792</td>\n",
       "    </tr>\n",
       "    <tr>\n",
       "      <th>4</th>\n",
       "      <td>80</td>\n",
       "      <td>633</td>\n",
       "    </tr>\n",
       "  </tbody>\n",
       "</table>\n",
       "</div>"
      ],
      "text/plain": [
       "Fam_support    0    1\n",
       "country              \n",
       "1            103  870\n",
       "2            197  485\n",
       "3            204  792\n",
       "4             80  633"
      ]
     },
     "execution_count": 231,
     "metadata": {},
     "output_type": "execute_result"
    }
   ],
   "source": [
    "famC_tab = pd.crosstab(df_train.country, df_train.Fam_support)\n",
    "famC_tab"
   ]
  },
  {
   "cell_type": "code",
   "execution_count": 232,
   "metadata": {},
   "outputs": [
    {
     "data": {
      "text/plain": [
       "(119.77359152425586,\n",
       " 8.633706220067872e-26,\n",
       " 3,\n",
       " array([[168.91557669, 804.08442331],\n",
       "        [118.39714625, 563.60285375],\n",
       "        [172.90844233, 823.09155767],\n",
       "        [123.77883472, 589.22116528]]))"
      ]
     },
     "execution_count": 232,
     "metadata": {},
     "output_type": "execute_result"
    }
   ],
   "source": [
    "chi2_contingency(observed= famC_tab)"
   ]
  },
  {
   "cell_type": "code",
   "execution_count": 225,
   "metadata": {},
   "outputs": [],
   "source": [
    "X_nominal_dummies['GuyanaFam'] = X_nominal_dummies.country_Guyana*X_train.Fam_support\n",
    "X_nominal_dummies['JamaicaFam'] = X_nominal_dummies.country_Jamaica*X_train.Fam_support\n",
    "X_nominal_dummies['SurinameFam'] = X_nominal_dummies.country_Suriname*X_train.Fam_support\n",
    "X_nominal_dummies['TrinidadFam'] = X_nominal_dummies.country_Trinidad*X_train.Fam_support"
   ]
  },
  {
   "cell_type": "code",
   "execution_count": 227,
   "metadata": {},
   "outputs": [],
   "source": [
    "X_nominal_dummies['Fam_support'] = X_train.Fam_support"
   ]
  },
  {
   "cell_type": "code",
   "execution_count": 236,
   "metadata": {},
   "outputs": [],
   "source": [
    "#X_nominal_dummies.head()\n",
    "#df_train.head()"
   ]
  },
  {
   "cell_type": "code",
   "execution_count": 237,
   "metadata": {},
   "outputs": [
    {
     "name": "stdout",
     "output_type": "stream",
     "text": [
      "(5,)\n"
     ]
    },
    {
     "data": {
      "text/plain": [
       "country_Guyana     0.001277\n",
       "JamaicaFam         0.002849\n",
       "country_Jamaica    0.004549\n",
       "TrinidadFam        0.005727\n",
       "Fam_support        0.013130\n",
       "dtype: float64"
      ]
     },
     "execution_count": 237,
     "metadata": {},
     "output_type": "execute_result"
    }
   ],
   "source": [
    "#chi2 test: all the features with the target variable\n",
    "from sklearn.feature_selection import chi2\n",
    "\n",
    "df_chi2 = chi2(X_nominal_dummies, df_train.iloc[:,-1])\n",
    "\n",
    "#df_chi2 = chi2(X_train.values, y_train.values)\n",
    "\n",
    "# Convert the chi2 tests into one-dimensional 1darray with corresponding df column names as axis labels\n",
    "#f_chi2 = pd.Series(df_chi2[1], df_train.iloc[:,:-1].columns)\n",
    "f_chi2 = pd.Series(df_chi2[1], X_nominal_dummies.columns)\n",
    "\n",
    "# Sort the array in ascending order of the pvalues\n",
    "f_chi2.sort_values(ascending=True, inplace=True)\n",
    "\n",
    "# Select the significant features \n",
    "sign_chi2 = f_chi2[f_chi2<=0.1]\n",
    "\n",
    "print(sign_chi2.shape)\n",
    "sign_chi2"
   ]
  },
  {
   "cell_type": "code",
   "execution_count": null,
   "metadata": {},
   "outputs": [],
   "source": []
  },
  {
   "cell_type": "code",
   "execution_count": null,
   "metadata": {},
   "outputs": [],
   "source": []
  },
  {
   "cell_type": "code",
   "execution_count": null,
   "metadata": {},
   "outputs": [],
   "source": []
  },
  {
   "cell_type": "code",
   "execution_count": null,
   "metadata": {},
   "outputs": [],
   "source": []
  },
  {
   "cell_type": "code",
   "execution_count": null,
   "metadata": {},
   "outputs": [],
   "source": []
  },
  {
   "cell_type": "code",
   "execution_count": null,
   "metadata": {},
   "outputs": [],
   "source": []
  },
  {
   "cell_type": "code",
   "execution_count": null,
   "metadata": {},
   "outputs": [],
   "source": []
  },
  {
   "cell_type": "code",
   "execution_count": null,
   "metadata": {},
   "outputs": [],
   "source": []
  },
  {
   "cell_type": "code",
   "execution_count": 190,
   "metadata": {},
   "outputs": [],
   "source": [
    "x1 = np.arange(9.0).reshape((3, 3))"
   ]
  },
  {
   "cell_type": "code",
   "execution_count": 191,
   "metadata": {},
   "outputs": [],
   "source": [
    "x2 = np.arange(3.0)"
   ]
  },
  {
   "cell_type": "code",
   "execution_count": 193,
   "metadata": {},
   "outputs": [
    {
     "data": {
      "text/plain": [
       "array([0., 1., 2.])"
      ]
     },
     "execution_count": 193,
     "metadata": {},
     "output_type": "execute_result"
    }
   ],
   "source": [
    "x2"
   ]
  },
  {
   "cell_type": "code",
   "execution_count": 196,
   "metadata": {},
   "outputs": [
    {
     "data": {
      "text/plain": [
       "array([[0., 1., 2.],\n",
       "       [3., 4., 5.],\n",
       "       [6., 7., 8.]])"
      ]
     },
     "execution_count": 196,
     "metadata": {},
     "output_type": "execute_result"
    }
   ],
   "source": [
    "x1"
   ]
  },
  {
   "cell_type": "code",
   "execution_count": 111,
   "metadata": {},
   "outputs": [
    {
     "name": "stdout",
     "output_type": "stream",
     "text": [
      "(5,)\n"
     ]
    },
    {
     "data": {
      "text/plain": [
       "EP3            0.001055\n",
       "Fam_support    0.013130\n",
       "ageyr5         0.013281\n",
       "FCMAR          0.037063\n",
       "country        0.060847\n",
       "dtype: float64"
      ]
     },
     "execution_count": 111,
     "metadata": {},
     "output_type": "execute_result"
    }
   ],
   "source": [
    "#chi2 test: all the features with the target variable\n",
    "from sklearn.feature_selection import chi2\n",
    "\n",
    "#df_chi2 = chi2(df_train.iloc[:,:-1], df_train.iloc[:,-1])\n",
    "\n",
    "df_chi2 = chi2(X_train.values, y_train.values)\n",
    "\n",
    "# Convert the chi2 tests into one-dimensional 1darray with corresponding df column names as axis labels\n",
    "#f_chi2 = pd.Series(df_chi2[1], df_train.iloc[:,:-1].columns)\n",
    "f_chi2 = pd.Series(df_chi2[1], X_train.columns)\n",
    "\n",
    "# Sort the array in ascending order of the pvalues\n",
    "f_chi2.sort_values(ascending=True, inplace=True)\n",
    "\n",
    "# Select the significant features \n",
    "sign_chi2 = f_chi2[f_chi2<=0.1]\n",
    "\n",
    "print(sign_chi2.shape)\n",
    "sign_chi2"
   ]
  },
  {
   "cell_type": "code",
   "execution_count": 109,
   "metadata": {},
   "outputs": [
    {
     "data": {
      "text/plain": [
       "(array([ 3.5141565 , 10.7292541 ,  0.43982987,  4.3475372 ,  6.13128781,\n",
       "         2.43353458,  1.53997017,  0.86598977,  0.50864832,  0.63622763,\n",
       "         1.20083104,  6.15145966]),\n",
       " array([0.06084662, 0.00105455, 0.50720458, 0.03706251, 0.01328101,\n",
       "        0.11876484, 0.21462224, 0.35206791, 0.47572457, 0.42508014,\n",
       "        0.27315564, 0.01313037]))"
      ]
     },
     "execution_count": 109,
     "metadata": {},
     "output_type": "execute_result"
    }
   ],
   "source": [
    "df_chi2"
   ]
  },
  {
   "cell_type": "code",
   "execution_count": null,
   "metadata": {},
   "outputs": [],
   "source": [
    "chi2()"
   ]
  },
  {
   "cell_type": "raw",
   "metadata": {},
   "source": [
    "### Interactions\n",
    "#create a function \n",
    "\n",
    "def chi2_interaction(feature_i, df=df):\n",
    "    \n",
    "    other_features = sign_chi2.index.drop(labels=feature_i)\n",
    "    \n",
    "    interaction_chi2 = pd.Series()\n",
    "    \n",
    "    for index in other_features:\n",
    "        test_chi2 = chi2(df[index].values.reshape(-1,1), df[feature_i].values)\n",
    "        interaction_chi2.set_value(index, test_chi2[1])\n",
    "    \n",
    "    interaction_chi2.sort_values(ascending=True, inplace=True)\n",
    "        \n",
    "    return interaction_chi2[interaction_chi2<=0.05]"
   ]
  },
  {
   "cell_type": "code",
   "execution_count": 101,
   "metadata": {},
   "outputs": [
    {
     "data": {
      "text/html": [
       "<div>\n",
       "<style scoped>\n",
       "    .dataframe tbody tr th:only-of-type {\n",
       "        vertical-align: middle;\n",
       "    }\n",
       "\n",
       "    .dataframe tbody tr th {\n",
       "        vertical-align: top;\n",
       "    }\n",
       "\n",
       "    .dataframe thead th {\n",
       "        text-align: right;\n",
       "    }\n",
       "</style>\n",
       "<table border=\"1\" class=\"dataframe\">\n",
       "  <thead>\n",
       "    <tr style=\"text-align: right;\">\n",
       "      <th></th>\n",
       "      <th>country</th>\n",
       "      <th>EP3</th>\n",
       "      <th>earlymarriage</th>\n",
       "      <th>FCMAR</th>\n",
       "      <th>ageyr5</th>\n",
       "      <th>ageyr10</th>\n",
       "      <th>edresp</th>\n",
       "      <th>w_religion</th>\n",
       "      <th>ETHNICITY</th>\n",
       "      <th>employstatus</th>\n",
       "      <th>SourceIncome</th>\n",
       "      <th>Fam_support</th>\n",
       "    </tr>\n",
       "  </thead>\n",
       "  <tbody>\n",
       "    <tr>\n",
       "      <th>995</th>\n",
       "      <td>1</td>\n",
       "      <td>2</td>\n",
       "      <td>1</td>\n",
       "      <td>0</td>\n",
       "      <td>3</td>\n",
       "      <td>2</td>\n",
       "      <td>1</td>\n",
       "      <td>1</td>\n",
       "      <td>6</td>\n",
       "      <td>2</td>\n",
       "      <td>5</td>\n",
       "      <td>0</td>\n",
       "    </tr>\n",
       "    <tr>\n",
       "      <th>962</th>\n",
       "      <td>1</td>\n",
       "      <td>1</td>\n",
       "      <td>0</td>\n",
       "      <td>0</td>\n",
       "      <td>3</td>\n",
       "      <td>2</td>\n",
       "      <td>2</td>\n",
       "      <td>1</td>\n",
       "      <td>5</td>\n",
       "      <td>2</td>\n",
       "      <td>4</td>\n",
       "      <td>1</td>\n",
       "    </tr>\n",
       "    <tr>\n",
       "      <th>998</th>\n",
       "      <td>1</td>\n",
       "      <td>2</td>\n",
       "      <td>0</td>\n",
       "      <td>0</td>\n",
       "      <td>4</td>\n",
       "      <td>2</td>\n",
       "      <td>1</td>\n",
       "      <td>0</td>\n",
       "      <td>4</td>\n",
       "      <td>2</td>\n",
       "      <td>4</td>\n",
       "      <td>1</td>\n",
       "    </tr>\n",
       "    <tr>\n",
       "      <th>639</th>\n",
       "      <td>1</td>\n",
       "      <td>4</td>\n",
       "      <td>9</td>\n",
       "      <td>9</td>\n",
       "      <td>8</td>\n",
       "      <td>4</td>\n",
       "      <td>2</td>\n",
       "      <td>1</td>\n",
       "      <td>1</td>\n",
       "      <td>1</td>\n",
       "      <td>5</td>\n",
       "      <td>1</td>\n",
       "    </tr>\n",
       "    <tr>\n",
       "      <th>932</th>\n",
       "      <td>1</td>\n",
       "      <td>4</td>\n",
       "      <td>0</td>\n",
       "      <td>0</td>\n",
       "      <td>7</td>\n",
       "      <td>4</td>\n",
       "      <td>2</td>\n",
       "      <td>0</td>\n",
       "      <td>4</td>\n",
       "      <td>1</td>\n",
       "      <td>5</td>\n",
       "      <td>1</td>\n",
       "    </tr>\n",
       "  </tbody>\n",
       "</table>\n",
       "</div>"
      ],
      "text/plain": [
       "     country  EP3  earlymarriage  FCMAR  ageyr5  ageyr10  edresp  w_religion  \\\n",
       "995        1    2              1      0       3        2       1           1   \n",
       "962        1    1              0      0       3        2       2           1   \n",
       "998        1    2              0      0       4        2       1           0   \n",
       "639        1    4              9      9       8        4       2           1   \n",
       "932        1    4              0      0       7        4       2           0   \n",
       "\n",
       "     ETHNICITY  employstatus  SourceIncome  Fam_support  \n",
       "995          6             2             5            0  \n",
       "962          5             2             4            1  \n",
       "998          4             2             4            1  \n",
       "639          1             1             5            1  \n",
       "932          4             1             5            1  "
      ]
     },
     "execution_count": 101,
     "metadata": {},
     "output_type": "execute_result"
    }
   ],
   "source": [
    "df_train.iloc[:,:12].head()"
   ]
  },
  {
   "cell_type": "code",
   "execution_count": null,
   "metadata": {},
   "outputs": [],
   "source": [
    "df_chi2 = chi2(df_train.iloc[:1,:-2], df_train.iloc[:,-1])\n",
    "\n",
    "# Convert the chi2 tests into one-dimensional 1darray with corresponding df column names as axis labels\n",
    "f_chi2 = pd.Series(df_chi2[1], df_train.iloc[:,:-2].columns)\n",
    "\n",
    "# Sort the array in ascending order of the pvalues\n",
    "f_chi2.sort_values(ascending=True, inplace=True)\n",
    "\n",
    "# Select the significant features \n",
    "sign_chi2 = f_chi2[f_chi2<=0.05]\n",
    "\n",
    "print(sign_chi2.shape)\n",
    "sign_chi2"
   ]
  },
  {
   "cell_type": "raw",
   "metadata": {},
   "source": [
    "from scipy.stats.stats import pearsonr "
   ]
  },
  {
   "cell_type": "code",
   "execution_count": null,
   "metadata": {},
   "outputs": [],
   "source": [
    "pearsonr()"
   ]
  },
  {
   "cell_type": "code",
   "execution_count": 115,
   "metadata": {},
   "outputs": [
    {
     "data": {
      "text/html": [
       "<div>\n",
       "<style scoped>\n",
       "    .dataframe tbody tr th:only-of-type {\n",
       "        vertical-align: middle;\n",
       "    }\n",
       "\n",
       "    .dataframe tbody tr th {\n",
       "        vertical-align: top;\n",
       "    }\n",
       "\n",
       "    .dataframe thead th {\n",
       "        text-align: right;\n",
       "    }\n",
       "</style>\n",
       "<table border=\"1\" class=\"dataframe\">\n",
       "  <thead>\n",
       "    <tr style=\"text-align: right;\">\n",
       "      <th></th>\n",
       "      <th>0</th>\n",
       "      <th>1</th>\n",
       "      <th>2</th>\n",
       "      <th>3</th>\n",
       "      <th>4</th>\n",
       "      <th>5</th>\n",
       "      <th>6</th>\n",
       "      <th>7</th>\n",
       "      <th>8</th>\n",
       "      <th>9</th>\n",
       "      <th>10</th>\n",
       "      <th>11</th>\n",
       "    </tr>\n",
       "  </thead>\n",
       "  <tbody>\n",
       "    <tr>\n",
       "      <th>0</th>\n",
       "      <td>0.000000</td>\n",
       "      <td>4172.583333</td>\n",
       "      <td>3142.166667</td>\n",
       "      <td>6762.000000</td>\n",
       "      <td>8122.199206</td>\n",
       "      <td>4883.483333</td>\n",
       "      <td>3673.333333</td>\n",
       "      <td>7048.5</td>\n",
       "      <td>3173.083333</td>\n",
       "      <td>4434.500000</td>\n",
       "      <td>3582.033333</td>\n",
       "      <td>3830.0</td>\n",
       "    </tr>\n",
       "    <tr>\n",
       "      <th>1</th>\n",
       "      <td>3716.000000</td>\n",
       "      <td>0.000000</td>\n",
       "      <td>1932.833333</td>\n",
       "      <td>3830.166667</td>\n",
       "      <td>8111.282540</td>\n",
       "      <td>4022.883333</td>\n",
       "      <td>2470.500000</td>\n",
       "      <td>5803.5</td>\n",
       "      <td>2827.416667</td>\n",
       "      <td>2740.750000</td>\n",
       "      <td>3806.483333</td>\n",
       "      <td>2563.0</td>\n",
       "    </tr>\n",
       "    <tr>\n",
       "      <th>2</th>\n",
       "      <td>2048.833333</td>\n",
       "      <td>2236.333333</td>\n",
       "      <td>0.000000</td>\n",
       "      <td>2130.166667</td>\n",
       "      <td>8201.264683</td>\n",
       "      <td>3680.066667</td>\n",
       "      <td>1532.000000</td>\n",
       "      <td>4129.0</td>\n",
       "      <td>2537.000000</td>\n",
       "      <td>2177.250000</td>\n",
       "      <td>3007.783333</td>\n",
       "      <td>1659.5</td>\n",
       "    </tr>\n",
       "    <tr>\n",
       "      <th>3</th>\n",
       "      <td>2742.833333</td>\n",
       "      <td>2593.083333</td>\n",
       "      <td>1708.333333</td>\n",
       "      <td>0.000000</td>\n",
       "      <td>9648.938095</td>\n",
       "      <td>4074.233333</td>\n",
       "      <td>1790.833333</td>\n",
       "      <td>2630.5</td>\n",
       "      <td>3559.250000</td>\n",
       "      <td>2568.583333</td>\n",
       "      <td>3729.183333</td>\n",
       "      <td>1641.0</td>\n",
       "    </tr>\n",
       "    <tr>\n",
       "      <th>4</th>\n",
       "      <td>33689.583333</td>\n",
       "      <td>30749.750000</td>\n",
       "      <td>33718.333333</td>\n",
       "      <td>53198.666667</td>\n",
       "      <td>0.000000</td>\n",
       "      <td>7529.566667</td>\n",
       "      <td>37583.166667</td>\n",
       "      <td>60673.0</td>\n",
       "      <td>19714.250000</td>\n",
       "      <td>35122.500000</td>\n",
       "      <td>27566.533333</td>\n",
       "      <td>37720.5</td>\n",
       "    </tr>\n",
       "    <tr>\n",
       "      <th>5</th>\n",
       "      <td>7315.666667</td>\n",
       "      <td>6394.750000</td>\n",
       "      <td>7087.833333</td>\n",
       "      <td>12596.333333</td>\n",
       "      <td>3448.060317</td>\n",
       "      <td>0.000000</td>\n",
       "      <td>8282.500000</td>\n",
       "      <td>13325.0</td>\n",
       "      <td>4561.333333</td>\n",
       "      <td>8209.500000</td>\n",
       "      <td>5572.350000</td>\n",
       "      <td>7412.5</td>\n",
       "    </tr>\n",
       "    <tr>\n",
       "      <th>6</th>\n",
       "      <td>2491.250000</td>\n",
       "      <td>2007.000000</td>\n",
       "      <td>1251.500000</td>\n",
       "      <td>2888.166667</td>\n",
       "      <td>8573.184127</td>\n",
       "      <td>3866.983333</td>\n",
       "      <td>0.000000</td>\n",
       "      <td>3503.0</td>\n",
       "      <td>2875.333333</td>\n",
       "      <td>1932.916667</td>\n",
       "      <td>2762.300000</td>\n",
       "      <td>1273.0</td>\n",
       "    </tr>\n",
       "    <tr>\n",
       "      <th>7</th>\n",
       "      <td>2577.500000</td>\n",
       "      <td>2160.833333</td>\n",
       "      <td>1882.833333</td>\n",
       "      <td>1676.166667</td>\n",
       "      <td>9982.584127</td>\n",
       "      <td>3864.066667</td>\n",
       "      <td>1677.333333</td>\n",
       "      <td>0.0</td>\n",
       "      <td>3896.916667</td>\n",
       "      <td>2783.416667</td>\n",
       "      <td>3692.683333</td>\n",
       "      <td>1050.0</td>\n",
       "    </tr>\n",
       "    <tr>\n",
       "      <th>8</th>\n",
       "      <td>5770.666667</td>\n",
       "      <td>5714.833333</td>\n",
       "      <td>5006.166667</td>\n",
       "      <td>10093.000000</td>\n",
       "      <td>7623.955159</td>\n",
       "      <td>6278.333333</td>\n",
       "      <td>5720.000000</td>\n",
       "      <td>13319.0</td>\n",
       "      <td>0.000000</td>\n",
       "      <td>6341.416667</td>\n",
       "      <td>4494.466667</td>\n",
       "      <td>6446.0</td>\n",
       "    </tr>\n",
       "    <tr>\n",
       "      <th>9</th>\n",
       "      <td>3927.083333</td>\n",
       "      <td>3143.666667</td>\n",
       "      <td>2490.666667</td>\n",
       "      <td>5206.833333</td>\n",
       "      <td>8229.436111</td>\n",
       "      <td>4563.450000</td>\n",
       "      <td>2554.333333</td>\n",
       "      <td>6990.5</td>\n",
       "      <td>3291.416667</td>\n",
       "      <td>0.000000</td>\n",
       "      <td>3393.550000</td>\n",
       "      <td>3044.0</td>\n",
       "    </tr>\n",
       "    <tr>\n",
       "      <th>10</th>\n",
       "      <td>5562.250000</td>\n",
       "      <td>5539.083333</td>\n",
       "      <td>5330.833333</td>\n",
       "      <td>10211.666667</td>\n",
       "      <td>7880.725794</td>\n",
       "      <td>6090.983333</td>\n",
       "      <td>6049.500000</td>\n",
       "      <td>12366.0</td>\n",
       "      <td>3683.500000</td>\n",
       "      <td>5466.583333</td>\n",
       "      <td>0.000000</td>\n",
       "      <td>6497.0</td>\n",
       "    </tr>\n",
       "    <tr>\n",
       "      <th>11</th>\n",
       "      <td>2317.500000</td>\n",
       "      <td>1544.083333</td>\n",
       "      <td>1152.833333</td>\n",
       "      <td>1938.166667</td>\n",
       "      <td>8503.376984</td>\n",
       "      <td>3146.416667</td>\n",
       "      <td>1004.833333</td>\n",
       "      <td>1801.5</td>\n",
       "      <td>2789.916667</td>\n",
       "      <td>2037.916667</td>\n",
       "      <td>2689.583333</td>\n",
       "      <td>0.0</td>\n",
       "    </tr>\n",
       "  </tbody>\n",
       "</table>\n",
       "</div>"
      ],
      "text/plain": [
       "              0             1             2             3            4   \\\n",
       "0       0.000000   4172.583333   3142.166667   6762.000000  8122.199206   \n",
       "1    3716.000000      0.000000   1932.833333   3830.166667  8111.282540   \n",
       "2    2048.833333   2236.333333      0.000000   2130.166667  8201.264683   \n",
       "3    2742.833333   2593.083333   1708.333333      0.000000  9648.938095   \n",
       "4   33689.583333  30749.750000  33718.333333  53198.666667     0.000000   \n",
       "5    7315.666667   6394.750000   7087.833333  12596.333333  3448.060317   \n",
       "6    2491.250000   2007.000000   1251.500000   2888.166667  8573.184127   \n",
       "7    2577.500000   2160.833333   1882.833333   1676.166667  9982.584127   \n",
       "8    5770.666667   5714.833333   5006.166667  10093.000000  7623.955159   \n",
       "9    3927.083333   3143.666667   2490.666667   5206.833333  8229.436111   \n",
       "10   5562.250000   5539.083333   5330.833333  10211.666667  7880.725794   \n",
       "11   2317.500000   1544.083333   1152.833333   1938.166667  8503.376984   \n",
       "\n",
       "             5             6        7             8             9   \\\n",
       "0   4883.483333   3673.333333   7048.5   3173.083333   4434.500000   \n",
       "1   4022.883333   2470.500000   5803.5   2827.416667   2740.750000   \n",
       "2   3680.066667   1532.000000   4129.0   2537.000000   2177.250000   \n",
       "3   4074.233333   1790.833333   2630.5   3559.250000   2568.583333   \n",
       "4   7529.566667  37583.166667  60673.0  19714.250000  35122.500000   \n",
       "5      0.000000   8282.500000  13325.0   4561.333333   8209.500000   \n",
       "6   3866.983333      0.000000   3503.0   2875.333333   1932.916667   \n",
       "7   3864.066667   1677.333333      0.0   3896.916667   2783.416667   \n",
       "8   6278.333333   5720.000000  13319.0      0.000000   6341.416667   \n",
       "9   4563.450000   2554.333333   6990.5   3291.416667      0.000000   \n",
       "10  6090.983333   6049.500000  12366.0   3683.500000   5466.583333   \n",
       "11  3146.416667   1004.833333   1801.5   2789.916667   2037.916667   \n",
       "\n",
       "              10       11  \n",
       "0    3582.033333   3830.0  \n",
       "1    3806.483333   2563.0  \n",
       "2    3007.783333   1659.5  \n",
       "3    3729.183333   1641.0  \n",
       "4   27566.533333  37720.5  \n",
       "5    5572.350000   7412.5  \n",
       "6    2762.300000   1273.0  \n",
       "7    3692.683333   1050.0  \n",
       "8    4494.466667   6446.0  \n",
       "9    3393.550000   3044.0  \n",
       "10      0.000000   6497.0  \n",
       "11   2689.583333      0.0  "
      ]
     },
     "execution_count": 115,
     "metadata": {},
     "output_type": "execute_result"
    }
   ],
   "source": [
    "from scipy.stats import chisquare\n",
    "ddf=X_train.apply(lambda x : pd.factorize(x)[0])+1\n",
    "\n",
    "pd.DataFrame([chisquare(ddf[x].values,f_exp=ddf.values.T,axis=1)[0] for x in ddf])"
   ]
  },
  {
   "cell_type": "code",
   "execution_count": null,
   "metadata": {},
   "outputs": [],
   "source": [
    "chisquare()"
   ]
  },
  {
   "cell_type": "code",
   "execution_count": null,
   "metadata": {},
   "outputs": [],
   "source": []
  },
  {
   "cell_type": "code",
   "execution_count": null,
   "metadata": {},
   "outputs": [],
   "source": []
  },
  {
   "cell_type": "code",
   "execution_count": null,
   "metadata": {},
   "outputs": [],
   "source": []
  },
  {
   "cell_type": "code",
   "execution_count": 116,
   "metadata": {},
   "outputs": [],
   "source": [
    "np.random.seed(10)\n",
    "\n",
    "# Sample data randomly at fixed probabilities\n",
    "voter_race = np.random.choice(a= [\"asian\",\"black\",\"hispanic\",\"other\",\"white\"],\n",
    "                              p = [0.05, 0.15 ,0.25, 0.05, 0.5],\n",
    "                              size=1000)\n",
    "\n",
    "# Sample data randomly at fixed probabilities\n",
    "voter_party = np.random.choice(a= [\"democrat\",\"independent\",\"republican\"],\n",
    "                              p = [0.4, 0.2, 0.4],\n",
    "                              size=1000)\n",
    "\n",
    "voters = pd.DataFrame({\"race\":voter_race, \n",
    "                       \"party\":voter_party})\n",
    "\n",
    "voter_tab = pd.crosstab(voters.race, voters.party, margins = True)"
   ]
  },
  {
   "cell_type": "code",
   "execution_count": 120,
   "metadata": {},
   "outputs": [
    {
     "data": {
      "text/html": [
       "<div>\n",
       "<style scoped>\n",
       "    .dataframe tbody tr th:only-of-type {\n",
       "        vertical-align: middle;\n",
       "    }\n",
       "\n",
       "    .dataframe tbody tr th {\n",
       "        vertical-align: top;\n",
       "    }\n",
       "\n",
       "    .dataframe thead th {\n",
       "        text-align: right;\n",
       "    }\n",
       "</style>\n",
       "<table border=\"1\" class=\"dataframe\">\n",
       "  <thead>\n",
       "    <tr style=\"text-align: right;\">\n",
       "      <th>party</th>\n",
       "      <th>democrat</th>\n",
       "      <th>independent</th>\n",
       "      <th>republican</th>\n",
       "      <th>All</th>\n",
       "    </tr>\n",
       "    <tr>\n",
       "      <th>race</th>\n",
       "      <th></th>\n",
       "      <th></th>\n",
       "      <th></th>\n",
       "      <th></th>\n",
       "    </tr>\n",
       "  </thead>\n",
       "  <tbody>\n",
       "    <tr>\n",
       "      <th>asian</th>\n",
       "      <td>21</td>\n",
       "      <td>7</td>\n",
       "      <td>32</td>\n",
       "      <td>60</td>\n",
       "    </tr>\n",
       "    <tr>\n",
       "      <th>black</th>\n",
       "      <td>65</td>\n",
       "      <td>25</td>\n",
       "      <td>64</td>\n",
       "      <td>154</td>\n",
       "    </tr>\n",
       "    <tr>\n",
       "      <th>hispanic</th>\n",
       "      <td>107</td>\n",
       "      <td>50</td>\n",
       "      <td>94</td>\n",
       "      <td>251</td>\n",
       "    </tr>\n",
       "    <tr>\n",
       "      <th>other</th>\n",
       "      <td>15</td>\n",
       "      <td>8</td>\n",
       "      <td>15</td>\n",
       "      <td>38</td>\n",
       "    </tr>\n",
       "    <tr>\n",
       "      <th>white</th>\n",
       "      <td>189</td>\n",
       "      <td>96</td>\n",
       "      <td>212</td>\n",
       "      <td>497</td>\n",
       "    </tr>\n",
       "    <tr>\n",
       "      <th>All</th>\n",
       "      <td>397</td>\n",
       "      <td>186</td>\n",
       "      <td>417</td>\n",
       "      <td>1000</td>\n",
       "    </tr>\n",
       "  </tbody>\n",
       "</table>\n",
       "</div>"
      ],
      "text/plain": [
       "party     democrat  independent  republican   All\n",
       "race                                             \n",
       "asian           21            7          32    60\n",
       "black           65           25          64   154\n",
       "hispanic       107           50          94   251\n",
       "other           15            8          15    38\n",
       "white          189           96         212   497\n",
       "All            397          186         417  1000"
      ]
     },
     "execution_count": 120,
     "metadata": {},
     "output_type": "execute_result"
    }
   ],
   "source": [
    "voter_tab"
   ]
  },
  {
   "cell_type": "code",
   "execution_count": 129,
   "metadata": {},
   "outputs": [
    {
     "data": {
      "text/html": [
       "<div>\n",
       "<style scoped>\n",
       "    .dataframe tbody tr th:only-of-type {\n",
       "        vertical-align: middle;\n",
       "    }\n",
       "\n",
       "    .dataframe tbody tr th {\n",
       "        vertical-align: top;\n",
       "    }\n",
       "\n",
       "    .dataframe thead th {\n",
       "        text-align: right;\n",
       "    }\n",
       "</style>\n",
       "<table border=\"1\" class=\"dataframe\">\n",
       "  <thead>\n",
       "    <tr style=\"text-align: right;\">\n",
       "      <th></th>\n",
       "      <th>democrat</th>\n",
       "      <th>independent</th>\n",
       "      <th>republican</th>\n",
       "      <th>row_totals</th>\n",
       "    </tr>\n",
       "  </thead>\n",
       "  <tbody>\n",
       "    <tr>\n",
       "      <th>asian</th>\n",
       "      <td>21</td>\n",
       "      <td>7</td>\n",
       "      <td>32</td>\n",
       "      <td>60</td>\n",
       "    </tr>\n",
       "    <tr>\n",
       "      <th>black</th>\n",
       "      <td>65</td>\n",
       "      <td>25</td>\n",
       "      <td>64</td>\n",
       "      <td>154</td>\n",
       "    </tr>\n",
       "    <tr>\n",
       "      <th>hispanic</th>\n",
       "      <td>107</td>\n",
       "      <td>50</td>\n",
       "      <td>94</td>\n",
       "      <td>251</td>\n",
       "    </tr>\n",
       "    <tr>\n",
       "      <th>other</th>\n",
       "      <td>15</td>\n",
       "      <td>8</td>\n",
       "      <td>15</td>\n",
       "      <td>38</td>\n",
       "    </tr>\n",
       "    <tr>\n",
       "      <th>white</th>\n",
       "      <td>189</td>\n",
       "      <td>96</td>\n",
       "      <td>212</td>\n",
       "      <td>497</td>\n",
       "    </tr>\n",
       "    <tr>\n",
       "      <th>col_totals</th>\n",
       "      <td>397</td>\n",
       "      <td>186</td>\n",
       "      <td>417</td>\n",
       "      <td>1000</td>\n",
       "    </tr>\n",
       "  </tbody>\n",
       "</table>\n",
       "</div>"
      ],
      "text/plain": [
       "            democrat  independent  republican  row_totals\n",
       "asian             21            7          32          60\n",
       "black             65           25          64         154\n",
       "hispanic         107           50          94         251\n",
       "other             15            8          15          38\n",
       "white            189           96         212         497\n",
       "col_totals       397          186         417        1000"
      ]
     },
     "execution_count": 129,
     "metadata": {},
     "output_type": "execute_result"
    }
   ],
   "source": [
    "voter_tab.columns = [\"democrat\",\"independent\",\"republican\",\"row_totals\"]\n",
    "\n",
    "voter_tab.index = [\"asian\",\"black\",\"hispanic\",\"other\",\"white\",\"col_totals\"]\n",
    "\n",
    "observed = voter_tab.iloc[0:5,0:3]   # Get table without totals for later use\n",
    "voter_tab"
   ]
  },
  {
   "cell_type": "code",
   "execution_count": 128,
   "metadata": {},
   "outputs": [
    {
     "data": {
      "text/html": [
       "<div>\n",
       "<style scoped>\n",
       "    .dataframe tbody tr th:only-of-type {\n",
       "        vertical-align: middle;\n",
       "    }\n",
       "\n",
       "    .dataframe tbody tr th {\n",
       "        vertical-align: top;\n",
       "    }\n",
       "\n",
       "    .dataframe thead th {\n",
       "        text-align: right;\n",
       "    }\n",
       "</style>\n",
       "<table border=\"1\" class=\"dataframe\">\n",
       "  <thead>\n",
       "    <tr style=\"text-align: right;\">\n",
       "      <th></th>\n",
       "      <th>democrat</th>\n",
       "      <th>independent</th>\n",
       "      <th>republican</th>\n",
       "    </tr>\n",
       "  </thead>\n",
       "  <tbody>\n",
       "    <tr>\n",
       "      <th>asian</th>\n",
       "      <td>21</td>\n",
       "      <td>7</td>\n",
       "      <td>32</td>\n",
       "    </tr>\n",
       "    <tr>\n",
       "      <th>black</th>\n",
       "      <td>65</td>\n",
       "      <td>25</td>\n",
       "      <td>64</td>\n",
       "    </tr>\n",
       "    <tr>\n",
       "      <th>hispanic</th>\n",
       "      <td>107</td>\n",
       "      <td>50</td>\n",
       "      <td>94</td>\n",
       "    </tr>\n",
       "    <tr>\n",
       "      <th>other</th>\n",
       "      <td>15</td>\n",
       "      <td>8</td>\n",
       "      <td>15</td>\n",
       "    </tr>\n",
       "    <tr>\n",
       "      <th>white</th>\n",
       "      <td>189</td>\n",
       "      <td>96</td>\n",
       "      <td>212</td>\n",
       "    </tr>\n",
       "  </tbody>\n",
       "</table>\n",
       "</div>"
      ],
      "text/plain": [
       "          democrat  independent  republican\n",
       "asian           21            7          32\n",
       "black           65           25          64\n",
       "hispanic       107           50          94\n",
       "other           15            8          15\n",
       "white          189           96         212"
      ]
     },
     "execution_count": 128,
     "metadata": {},
     "output_type": "execute_result"
    }
   ],
   "source": [
    "observed"
   ]
  },
  {
   "cell_type": "code",
   "execution_count": 122,
   "metadata": {},
   "outputs": [],
   "source": [
    "national = pd.DataFrame([\"white\"]*100000 + [\"hispanic\"]*60000 +\\\n",
    "                        [\"black\"]*50000 + [\"asian\"]*15000 + [\"other\"]*35000)"
   ]
  },
  {
   "cell_type": "code",
   "execution_count": 123,
   "metadata": {},
   "outputs": [
    {
     "data": {
      "text/html": [
       "<div>\n",
       "<style scoped>\n",
       "    .dataframe tbody tr th:only-of-type {\n",
       "        vertical-align: middle;\n",
       "    }\n",
       "\n",
       "    .dataframe tbody tr th {\n",
       "        vertical-align: top;\n",
       "    }\n",
       "\n",
       "    .dataframe thead th {\n",
       "        text-align: right;\n",
       "    }\n",
       "</style>\n",
       "<table border=\"1\" class=\"dataframe\">\n",
       "  <thead>\n",
       "    <tr style=\"text-align: right;\">\n",
       "      <th></th>\n",
       "      <th>0</th>\n",
       "    </tr>\n",
       "  </thead>\n",
       "  <tbody>\n",
       "    <tr>\n",
       "      <th>0</th>\n",
       "      <td>white</td>\n",
       "    </tr>\n",
       "    <tr>\n",
       "      <th>1</th>\n",
       "      <td>white</td>\n",
       "    </tr>\n",
       "    <tr>\n",
       "      <th>2</th>\n",
       "      <td>white</td>\n",
       "    </tr>\n",
       "    <tr>\n",
       "      <th>3</th>\n",
       "      <td>white</td>\n",
       "    </tr>\n",
       "    <tr>\n",
       "      <th>4</th>\n",
       "      <td>white</td>\n",
       "    </tr>\n",
       "  </tbody>\n",
       "</table>\n",
       "</div>"
      ],
      "text/plain": [
       "       0\n",
       "0  white\n",
       "1  white\n",
       "2  white\n",
       "3  white\n",
       "4  white"
      ]
     },
     "execution_count": 123,
     "metadata": {},
     "output_type": "execute_result"
    }
   ],
   "source": [
    "national.head()"
   ]
  },
  {
   "cell_type": "code",
   "execution_count": null,
   "metadata": {},
   "outputs": [],
   "source": []
  },
  {
   "cell_type": "code",
   "execution_count": null,
   "metadata": {},
   "outputs": [],
   "source": []
  },
  {
   "cell_type": "code",
   "execution_count": null,
   "metadata": {},
   "outputs": [],
   "source": []
  },
  {
   "cell_type": "code",
   "execution_count": 63,
   "metadata": {},
   "outputs": [
    {
     "data": {
      "text/plain": [
       "79"
      ]
     },
     "execution_count": 63,
     "metadata": {},
     "output_type": "execute_result"
    }
   ],
   "source": [
    "(Guyanay_val==1).sum()"
   ]
  },
  {
   "cell_type": "code",
   "execution_count": 64,
   "metadata": {},
   "outputs": [
    {
     "data": {
      "text/plain": [
       "917     0\n",
       "836     1\n",
       "463     0\n",
       "200     0\n",
       "535     1\n",
       "102     0\n",
       "564     0\n",
       "1005    1\n",
       "401     0\n",
       "1174    0\n",
       "395     0\n",
       "281     0\n",
       "613     1\n",
       "522     0\n",
       "441     0\n",
       "586     1\n",
       "1199    0\n",
       "57      1\n",
       "1328    0\n",
       "197     0\n",
       "1035    1\n",
       "453     0\n",
       "191     1\n",
       "1209    0\n",
       "1251    1\n",
       "873     1\n",
       "417     0\n",
       "885     0\n",
       "470     0\n",
       "664     0\n",
       "       ..\n",
       "361     0\n",
       "1171    1\n",
       "351     1\n",
       "911     0\n",
       "641     0\n",
       "415     0\n",
       "1314    0\n",
       "1088    0\n",
       "1168    0\n",
       "662     0\n",
       "427     0\n",
       "224     0\n",
       "996     1\n",
       "881     1\n",
       "923     0\n",
       "369     0\n",
       "153     0\n",
       "58      1\n",
       "523     1\n",
       "774     0\n",
       "143     0\n",
       "1144    0\n",
       "1003    1\n",
       "498     0\n",
       "1002    0\n",
       "716     0\n",
       "436     1\n",
       "971     0\n",
       "175     1\n",
       "802     1\n",
       "Name: sexphys, Length: 209, dtype: int64"
      ]
     },
     "execution_count": 64,
     "metadata": {},
     "output_type": "execute_result"
    }
   ],
   "source": [
    "Guyanay_val"
   ]
  },
  {
   "cell_type": "code",
   "execution_count": 62,
   "metadata": {},
   "outputs": [
    {
     "data": {
      "text/plain": [
       "0.37799043062200954"
      ]
     },
     "execution_count": 62,
     "metadata": {},
     "output_type": "execute_result"
    }
   ],
   "source": [
    "79/209"
   ]
  },
  {
   "cell_type": "code",
   "execution_count": 58,
   "metadata": {},
   "outputs": [
    {
     "data": {
      "text/plain": [
       "0.38095238095238093"
      ]
     },
     "execution_count": 58,
     "metadata": {},
     "output_type": "execute_result"
    }
   ],
   "source": [
    "48/126"
   ]
  },
  {
   "cell_type": "code",
   "execution_count": 42,
   "metadata": {},
   "outputs": [
    {
     "data": {
      "text/plain": [
       "0.2785923753665689"
      ]
     },
     "execution_count": 42,
     "metadata": {},
     "output_type": "execute_result"
    }
   ],
   "source": [
    "190/682"
   ]
  },
  {
   "cell_type": "code",
   "execution_count": null,
   "metadata": {},
   "outputs": [],
   "source": []
  },
  {
   "cell_type": "code",
   "execution_count": null,
   "metadata": {},
   "outputs": [],
   "source": []
  },
  {
   "cell_type": "code",
   "execution_count": 3,
   "metadata": {},
   "outputs": [
    {
     "data": {
      "text/html": [
       "<div>\n",
       "<style scoped>\n",
       "    .dataframe tbody tr th:only-of-type {\n",
       "        vertical-align: middle;\n",
       "    }\n",
       "\n",
       "    .dataframe tbody tr th {\n",
       "        vertical-align: top;\n",
       "    }\n",
       "\n",
       "    .dataframe thead th {\n",
       "        text-align: right;\n",
       "    }\n",
       "</style>\n",
       "<table border=\"1\" class=\"dataframe\">\n",
       "  <thead>\n",
       "    <tr style=\"text-align: right;\">\n",
       "      <th></th>\n",
       "      <th>weighing</th>\n",
       "      <th>country</th>\n",
       "      <th>EP3</th>\n",
       "      <th>earlymarriage</th>\n",
       "      <th>FCMAR</th>\n",
       "      <th>ageyr5</th>\n",
       "      <th>ageyr10</th>\n",
       "      <th>edresp</th>\n",
       "      <th>w_religion</th>\n",
       "      <th>ETHNICITY</th>\n",
       "      <th>...</th>\n",
       "      <th>tQ602b</th>\n",
       "      <th>tQ602c</th>\n",
       "      <th>tQ602d</th>\n",
       "      <th>justify</th>\n",
       "      <th>CONTROLNUM</th>\n",
       "      <th>econviol</th>\n",
       "      <th>emotvio</th>\n",
       "      <th>physvio</th>\n",
       "      <th>sexvio</th>\n",
       "      <th>sexphys</th>\n",
       "    </tr>\n",
       "  </thead>\n",
       "  <tbody>\n",
       "    <tr>\n",
       "      <th>0</th>\n",
       "      <td>1.183286</td>\n",
       "      <td>1</td>\n",
       "      <td>1</td>\n",
       "      <td>0</td>\n",
       "      <td>0</td>\n",
       "      <td>6</td>\n",
       "      <td>3</td>\n",
       "      <td>2</td>\n",
       "      <td>0</td>\n",
       "      <td>4</td>\n",
       "      <td>...</td>\n",
       "      <td>0</td>\n",
       "      <td>0</td>\n",
       "      <td>0</td>\n",
       "      <td>0</td>\n",
       "      <td>0</td>\n",
       "      <td>0</td>\n",
       "      <td>0</td>\n",
       "      <td>0</td>\n",
       "      <td>0</td>\n",
       "      <td>0</td>\n",
       "    </tr>\n",
       "    <tr>\n",
       "      <th>1</th>\n",
       "      <td>0.204913</td>\n",
       "      <td>1</td>\n",
       "      <td>4</td>\n",
       "      <td>1</td>\n",
       "      <td>0</td>\n",
       "      <td>9</td>\n",
       "      <td>5</td>\n",
       "      <td>2</td>\n",
       "      <td>1</td>\n",
       "      <td>1</td>\n",
       "      <td>...</td>\n",
       "      <td>0</td>\n",
       "      <td>0</td>\n",
       "      <td>0</td>\n",
       "      <td>0</td>\n",
       "      <td>3</td>\n",
       "      <td>1</td>\n",
       "      <td>1</td>\n",
       "      <td>1</td>\n",
       "      <td>1</td>\n",
       "      <td>1</td>\n",
       "    </tr>\n",
       "    <tr>\n",
       "      <th>2</th>\n",
       "      <td>1.349522</td>\n",
       "      <td>1</td>\n",
       "      <td>4</td>\n",
       "      <td>9</td>\n",
       "      <td>9</td>\n",
       "      <td>2</td>\n",
       "      <td>1</td>\n",
       "      <td>3</td>\n",
       "      <td>1</td>\n",
       "      <td>6</td>\n",
       "      <td>...</td>\n",
       "      <td>0</td>\n",
       "      <td>0</td>\n",
       "      <td>0</td>\n",
       "      <td>0</td>\n",
       "      <td>0</td>\n",
       "      <td>0</td>\n",
       "      <td>0</td>\n",
       "      <td>0</td>\n",
       "      <td>0</td>\n",
       "      <td>0</td>\n",
       "    </tr>\n",
       "    <tr>\n",
       "      <th>3</th>\n",
       "      <td>0.069748</td>\n",
       "      <td>1</td>\n",
       "      <td>1</td>\n",
       "      <td>0</td>\n",
       "      <td>0</td>\n",
       "      <td>9</td>\n",
       "      <td>5</td>\n",
       "      <td>2</td>\n",
       "      <td>1</td>\n",
       "      <td>5</td>\n",
       "      <td>...</td>\n",
       "      <td>0</td>\n",
       "      <td>1</td>\n",
       "      <td>1</td>\n",
       "      <td>0</td>\n",
       "      <td>0</td>\n",
       "      <td>0</td>\n",
       "      <td>1</td>\n",
       "      <td>1</td>\n",
       "      <td>0</td>\n",
       "      <td>1</td>\n",
       "    </tr>\n",
       "    <tr>\n",
       "      <th>4</th>\n",
       "      <td>0.270909</td>\n",
       "      <td>1</td>\n",
       "      <td>4</td>\n",
       "      <td>1</td>\n",
       "      <td>1</td>\n",
       "      <td>8</td>\n",
       "      <td>4</td>\n",
       "      <td>1</td>\n",
       "      <td>0</td>\n",
       "      <td>4</td>\n",
       "      <td>...</td>\n",
       "      <td>0</td>\n",
       "      <td>0</td>\n",
       "      <td>0</td>\n",
       "      <td>1</td>\n",
       "      <td>0</td>\n",
       "      <td>0</td>\n",
       "      <td>0</td>\n",
       "      <td>1</td>\n",
       "      <td>0</td>\n",
       "      <td>1</td>\n",
       "    </tr>\n",
       "  </tbody>\n",
       "</table>\n",
       "<p>5 rows × 48 columns</p>\n",
       "</div>"
      ],
      "text/plain": [
       "   weighing  country  EP3  earlymarriage  FCMAR  ageyr5  ageyr10  edresp  \\\n",
       "0  1.183286        1    1              0      0       6        3       2   \n",
       "1  0.204913        1    4              1      0       9        5       2   \n",
       "2  1.349522        1    4              9      9       2        1       3   \n",
       "3  0.069748        1    1              0      0       9        5       2   \n",
       "4  0.270909        1    4              1      1       8        4       1   \n",
       "\n",
       "   w_religion  ETHNICITY   ...     tQ602b  tQ602c  tQ602d  justify  \\\n",
       "0           0          4   ...          0       0       0        0   \n",
       "1           1          1   ...          0       0       0        0   \n",
       "2           1          6   ...          0       0       0        0   \n",
       "3           1          5   ...          0       1       1        0   \n",
       "4           0          4   ...          0       0       0        1   \n",
       "\n",
       "   CONTROLNUM  econviol  emotvio  physvio  sexvio  sexphys  \n",
       "0           0         0        0        0       0        0  \n",
       "1           3         1        1        1       1        1  \n",
       "2           0         0        0        0       0        0  \n",
       "3           0         0        1        1       0        1  \n",
       "4           0         0        0        1       0        1  \n",
       "\n",
       "[5 rows x 48 columns]"
      ]
     },
     "execution_count": 3,
     "metadata": {},
     "output_type": "execute_result"
    }
   ],
   "source": [
    "new_data = data[[\"weighing\", \"country\", \"EP3\", \"earlymarriage\", \"FCMAR\", \"ageyr5\", \"ageyr10\", \"edresp\", \"w_religion\",\n",
    "                 \"ETHNICITY\", \"employstatus\", \"SourceIncome\", \"Fam_support\", \"mcv1006\", \"mcv1006a\", \"mcv1006b\", \n",
    "                 \"agepartner\", \"sumdiffage\", \"edpart\", \"p_employ\", \"men_alcohol_all\", \"mcv1008\", \"mcv1009\", \"Q513R\",\n",
    "                 \"Q515R\", \"Q516R\", \"rQ701a\", \"rQ701b\", \"rQ701c\", \"rQ701d\", \"Q702R\",\n",
    "                 \"sQ601a\", \"sQ601b\", \"sQ601c\", \"sQ601d\", \"sQ601e\", \"sQ601f\", \"tQ602a\", \"tQ602b\", \"tQ602c\", \"tQ602d\", \n",
    "                 #\"sQ607a\", \"sQ607b\", \"sQ607c\", \"sQ607d\", \"sQ607e\", \"sQ607f\", \n",
    "                 \"justify\", \n",
    "                 #\"eQ703a\", \"eQ703b\", \"eQ703c\", \"eQ703d\", \"eQ703e\", \"eQ703f\", \"eQ703g\", \"eQ703h\", \"CONTROLLING\", \"CONTROL\", \n",
    "                 \"CONTROLNUM\",\n",
    "                 \"econviol\", \"emotvio\", \"physvio\", \"sexvio\", \"sexphys\"]]\n",
    "new_data.head()"
   ]
  },
  {
   "cell_type": "code",
   "execution_count": 4,
   "metadata": {},
   "outputs": [
    {
     "data": {
      "text/plain": [
       "weighing           0\n",
       "country            0\n",
       "EP3                0\n",
       "earlymarriage      0\n",
       "FCMAR              0\n",
       "ageyr5             0\n",
       "ageyr10            0\n",
       "edresp             0\n",
       "w_religion         0\n",
       "ETHNICITY          0\n",
       "employstatus       0\n",
       "SourceIncome       0\n",
       "Fam_support        0\n",
       "mcv1006            0\n",
       "mcv1006a           0\n",
       "mcv1006b           0\n",
       "agepartner         0\n",
       "sumdiffage         0\n",
       "edpart             0\n",
       "p_employ           0\n",
       "men_alcohol_all    0\n",
       "mcv1008            0\n",
       "mcv1009            0\n",
       "Q513R              0\n",
       "Q515R              0\n",
       "Q516R              0\n",
       "rQ701a             0\n",
       "rQ701b             0\n",
       "rQ701c             0\n",
       "rQ701d             0\n",
       "Q702R              0\n",
       "sQ601a             0\n",
       "sQ601b             0\n",
       "sQ601c             0\n",
       "sQ601d             0\n",
       "sQ601e             0\n",
       "sQ601f             0\n",
       "tQ602a             0\n",
       "tQ602b             0\n",
       "tQ602c             0\n",
       "tQ602d             0\n",
       "justify            0\n",
       "CONTROLNUM         0\n",
       "econviol           0\n",
       "emotvio            0\n",
       "physvio            0\n",
       "sexvio             0\n",
       "sexphys            0\n",
       "dtype: int64"
      ]
     },
     "execution_count": 4,
     "metadata": {},
     "output_type": "execute_result"
    }
   ],
   "source": [
    "#Check for missing values\n",
    "new_data.isnull().sum()"
   ]
  },
  {
   "cell_type": "raw",
   "metadata": {},
   "source": [
    "#Create the data frame for the chi2 test\n",
    "\n",
    "#combine all the features \n",
    "X_combined = pd.concat([X_nominal, X_binary, X_ord_num], axis=1)\n",
    "\n",
    "#define the target variable\n",
    "y = new_data[['sexphys']]\n",
    "\n",
    "#combine features and target\n",
    "df = pd.concat([X_combined, y], axis=1)\n",
    "df.head()"
   ]
  },
  {
   "cell_type": "code",
   "execution_count": 34,
   "metadata": {},
   "outputs": [
    {
     "name": "stdout",
     "output_type": "stream",
     "text": [
      "(31,)\n"
     ]
    },
    {
     "data": {
      "text/plain": [
       "physvio             0.000000e+00\n",
       "emotvio            1.432178e-214\n",
       "CONTROLNUM         2.719638e-135\n",
       "econviol            3.415469e-66\n",
       "Q515R               8.784907e-40\n",
       "Q513R               8.791912e-37\n",
       "Q702R               1.877142e-28\n",
       "mcv1006a            1.078970e-25\n",
       "mcv1008             4.693964e-25\n",
       "mcv1006             4.945723e-25\n",
       "men_alcohol_all     2.042065e-24\n",
       "mcv1006b            4.014216e-24\n",
       "mcv1009             1.188694e-17\n",
       "weighing            5.386119e-13\n",
       "Q516R               8.133129e-10\n",
       "EP3                 1.454431e-04\n",
       "edpart              6.737000e-04\n",
       "ageyr5              1.310095e-03\n",
       "justify             3.222218e-03\n",
       "rQ701d              3.226796e-03\n",
       "Fam_support         4.572124e-03\n",
       "FCMAR               5.538731e-03\n",
       "tQ602d              6.775929e-03\n",
       "rQ701c              8.337348e-03\n",
       "sQ601c              1.625554e-02\n",
       "tQ602c              1.869789e-02\n",
       "rQ701a              2.322470e-02\n",
       "country             2.489931e-02\n",
       "ageyr10             3.612142e-02\n",
       "rQ701b              3.641475e-02\n",
       "ETHNICITY           3.989005e-02\n",
       "dtype: float64"
      ]
     },
     "execution_count": 34,
     "metadata": {},
     "output_type": "execute_result"
    }
   ],
   "source": [
    "#chi2 test: all the features with the target variable\n",
    "from sklearn.feature_selection import chi2\n",
    "\n",
    "df_chi2 = chi2(new_data.iloc[:,:-2].values, new_data.iloc[:,-1].values)\n",
    "\n",
    "# Convert the chi2 tests into one-dimensional 1darray with corresponding df column names as axis labels\n",
    "f_chi2 = pd.Series(df_chi2[1], new_data.iloc[:,:-2].columns)\n",
    "\n",
    "# Sort the array in ascending order of the pvalues\n",
    "f_chi2.sort_values(ascending=True, inplace=True)\n",
    "\n",
    "# Select the significant features \n",
    "sign_chi2 = f_chi2[f_chi2<=0.05]\n",
    "\n",
    "print(sign_chi2.shape)\n",
    "sign_chi2"
   ]
  },
  {
   "cell_type": "code",
   "execution_count": 33,
   "metadata": {},
   "outputs": [
    {
     "data": {
      "text/plain": [
       "(array([5.20588766e+01, 5.03087559e+00, 1.44303016e+01, 1.44859672e+00,\n",
       "        7.69456659e+00, 1.03282480e+01, 4.39136313e+00, 2.75810932e+00,\n",
       "        4.21009435e-01, 4.22255501e+00, 1.84245301e-01, 2.06427031e+00,\n",
       "        8.04135849e+00, 1.06791439e+02, 1.09809098e+02, 1.02642533e+02,\n",
       "        5.43423484e-01, 2.09885340e+00, 1.15604376e+01, 7.60004601e-02,\n",
       "        1.03981572e+02, 1.06894979e+02, 7.31713391e+01, 1.60501474e+02,\n",
       "        1.74237417e+02, 3.77279396e+01, 5.15161953e+00, 4.37757619e+00,\n",
       "        6.95953973e+00, 8.67457808e+00, 1.22410286e+02, 2.72316046e-03,\n",
       "        8.35670874e-03, 5.77501954e+00, 3.29389349e+00, 2.62560638e+00,\n",
       "        1.90811404e-02, 1.92001059e-01, 6.65021091e-01, 5.52955252e+00,\n",
       "        7.33142559e+00, 8.67716540e+00, 6.12824067e+02, 2.95338183e+02,\n",
       "        9.77449457e+02, 2.96754545e+03]),\n",
       " array([5.38611949e-013, 2.48993074e-002, 1.45443130e-004, 2.28753255e-001,\n",
       "        5.53873085e-003, 1.31009503e-003, 3.61214226e-002, 9.67625319e-002,\n",
       "        5.16433785e-001, 3.98900515e-002, 6.67749997e-001, 1.50787088e-001,\n",
       "        4.57212357e-003, 4.94572280e-025, 1.07897036e-025, 4.01421590e-024,\n",
       "        4.61017377e-001, 1.47409645e-001, 6.73699954e-004, 7.82792468e-001,\n",
       "        2.04206528e-024, 4.69396360e-025, 1.18869421e-017, 8.79191224e-037,\n",
       "        8.78490742e-040, 8.13312905e-010, 2.32247022e-002, 3.64147450e-002,\n",
       "        8.33734781e-003, 3.22679553e-003, 1.87714217e-028, 9.58382153e-001,\n",
       "        9.27162815e-001, 1.62555394e-002, 6.95379453e-002, 1.05152327e-001,\n",
       "        8.90134119e-001, 6.61256346e-001, 4.14792886e-001, 1.86978867e-002,\n",
       "        6.77592904e-003, 3.22221767e-003, 2.71963765e-135, 3.41546900e-066,\n",
       "        1.43217775e-214, 0.00000000e+000]))"
      ]
     },
     "execution_count": 33,
     "metadata": {},
     "output_type": "execute_result"
    }
   ],
   "source": [
    "df_chi2"
   ]
  },
  {
   "cell_type": "code",
   "execution_count": null,
   "metadata": {},
   "outputs": [],
   "source": []
  }
 ],
 "metadata": {
  "kernelspec": {
   "display_name": "Python 3",
   "language": "python",
   "name": "python3"
  },
  "language_info": {
   "codemirror_mode": {
    "name": "ipython",
    "version": 3
   },
   "file_extension": ".py",
   "mimetype": "text/x-python",
   "name": "python",
   "nbconvert_exporter": "python",
   "pygments_lexer": "ipython3",
   "version": "3.6.5"
  }
 },
 "nbformat": 4,
 "nbformat_minor": 2
}
