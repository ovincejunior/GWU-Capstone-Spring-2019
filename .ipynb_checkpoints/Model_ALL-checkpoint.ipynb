{
 "cells": [
  {
   "cell_type": "code",
   "execution_count": 1,
   "metadata": {},
   "outputs": [],
   "source": [
    "import os\n",
    "import pandas as pd\n",
    "import numpy as np\n",
    "import matplotlib.pyplot as plt"
   ]
  },
  {
   "cell_type": "code",
   "execution_count": 2,
   "metadata": {},
   "outputs": [
    {
     "data": {
      "text/html": [
       "<div>\n",
       "<style scoped>\n",
       "    .dataframe tbody tr th:only-of-type {\n",
       "        vertical-align: middle;\n",
       "    }\n",
       "\n",
       "    .dataframe tbody tr th {\n",
       "        vertical-align: top;\n",
       "    }\n",
       "\n",
       "    .dataframe thead th {\n",
       "        text-align: right;\n",
       "    }\n",
       "</style>\n",
       "<table border=\"1\" class=\"dataframe\">\n",
       "  <thead>\n",
       "    <tr style=\"text-align: right;\">\n",
       "      <th></th>\n",
       "      <th>ep1</th>\n",
       "      <th>econviol</th>\n",
       "      <th>emotvio</th>\n",
       "      <th>physvio</th>\n",
       "      <th>sexvio</th>\n",
       "      <th>sexphys</th>\n",
       "      <th>typevio</th>\n",
       "      <th>physcur</th>\n",
       "      <th>sexcur</th>\n",
       "      <th>emotcur</th>\n",
       "      <th>...</th>\n",
       "      <th>rQ701c</th>\n",
       "      <th>rQ701d</th>\n",
       "      <th>HighIncome</th>\n",
       "      <th>Island</th>\n",
       "      <th>Governance</th>\n",
       "      <th>HDI</th>\n",
       "      <th>LAWDV</th>\n",
       "      <th>Governance1</th>\n",
       "      <th>HDI1</th>\n",
       "      <th>LAWDV1</th>\n",
       "    </tr>\n",
       "  </thead>\n",
       "  <tbody>\n",
       "    <tr>\n",
       "      <th>0</th>\n",
       "      <td>1</td>\n",
       "      <td>0</td>\n",
       "      <td>0</td>\n",
       "      <td>0</td>\n",
       "      <td>0</td>\n",
       "      <td>0</td>\n",
       "      <td>0</td>\n",
       "      <td>0</td>\n",
       "      <td>0</td>\n",
       "      <td>0</td>\n",
       "      <td>...</td>\n",
       "      <td>1</td>\n",
       "      <td>1</td>\n",
       "      <td>0</td>\n",
       "      <td>0</td>\n",
       "      <td>0.16</td>\n",
       "      <td>0.654</td>\n",
       "      <td>37</td>\n",
       "      <td>0</td>\n",
       "      <td>0</td>\n",
       "      <td>0</td>\n",
       "    </tr>\n",
       "    <tr>\n",
       "      <th>1</th>\n",
       "      <td>1</td>\n",
       "      <td>1</td>\n",
       "      <td>1</td>\n",
       "      <td>1</td>\n",
       "      <td>1</td>\n",
       "      <td>1</td>\n",
       "      <td>3</td>\n",
       "      <td>0</td>\n",
       "      <td>0</td>\n",
       "      <td>0</td>\n",
       "      <td>...</td>\n",
       "      <td>1</td>\n",
       "      <td>1</td>\n",
       "      <td>0</td>\n",
       "      <td>0</td>\n",
       "      <td>0.16</td>\n",
       "      <td>0.654</td>\n",
       "      <td>37</td>\n",
       "      <td>0</td>\n",
       "      <td>0</td>\n",
       "      <td>0</td>\n",
       "    </tr>\n",
       "    <tr>\n",
       "      <th>2</th>\n",
       "      <td>1</td>\n",
       "      <td>0</td>\n",
       "      <td>0</td>\n",
       "      <td>0</td>\n",
       "      <td>0</td>\n",
       "      <td>0</td>\n",
       "      <td>0</td>\n",
       "      <td>0</td>\n",
       "      <td>0</td>\n",
       "      <td>0</td>\n",
       "      <td>...</td>\n",
       "      <td>1</td>\n",
       "      <td>1</td>\n",
       "      <td>0</td>\n",
       "      <td>0</td>\n",
       "      <td>0.16</td>\n",
       "      <td>0.654</td>\n",
       "      <td>37</td>\n",
       "      <td>0</td>\n",
       "      <td>0</td>\n",
       "      <td>0</td>\n",
       "    </tr>\n",
       "    <tr>\n",
       "      <th>3</th>\n",
       "      <td>1</td>\n",
       "      <td>0</td>\n",
       "      <td>1</td>\n",
       "      <td>1</td>\n",
       "      <td>0</td>\n",
       "      <td>1</td>\n",
       "      <td>1</td>\n",
       "      <td>0</td>\n",
       "      <td>0</td>\n",
       "      <td>1</td>\n",
       "      <td>...</td>\n",
       "      <td>1</td>\n",
       "      <td>1</td>\n",
       "      <td>0</td>\n",
       "      <td>0</td>\n",
       "      <td>0.16</td>\n",
       "      <td>0.654</td>\n",
       "      <td>37</td>\n",
       "      <td>0</td>\n",
       "      <td>0</td>\n",
       "      <td>0</td>\n",
       "    </tr>\n",
       "    <tr>\n",
       "      <th>4</th>\n",
       "      <td>1</td>\n",
       "      <td>0</td>\n",
       "      <td>0</td>\n",
       "      <td>1</td>\n",
       "      <td>0</td>\n",
       "      <td>1</td>\n",
       "      <td>1</td>\n",
       "      <td>0</td>\n",
       "      <td>0</td>\n",
       "      <td>0</td>\n",
       "      <td>...</td>\n",
       "      <td>1</td>\n",
       "      <td>1</td>\n",
       "      <td>0</td>\n",
       "      <td>0</td>\n",
       "      <td>0.16</td>\n",
       "      <td>0.654</td>\n",
       "      <td>37</td>\n",
       "      <td>0</td>\n",
       "      <td>0</td>\n",
       "      <td>0</td>\n",
       "    </tr>\n",
       "  </tbody>\n",
       "</table>\n",
       "<p>5 rows × 91 columns</p>\n",
       "</div>"
      ],
      "text/plain": [
       "   ep1  econviol  emotvio  physvio  sexvio  sexphys  typevio  physcur  sexcur  \\\n",
       "0    1         0        0        0       0        0        0        0       0   \n",
       "1    1         1        1        1       1        1        3        0       0   \n",
       "2    1         0        0        0       0        0        0        0       0   \n",
       "3    1         0        1        1       0        1        1        0       0   \n",
       "4    1         0        0        1       0        1        1        0       0   \n",
       "\n",
       "   emotcur   ...    rQ701c  rQ701d  HighIncome  Island  Governance    HDI  \\\n",
       "0        0   ...         1       1           0       0        0.16  0.654   \n",
       "1        0   ...         1       1           0       0        0.16  0.654   \n",
       "2        0   ...         1       1           0       0        0.16  0.654   \n",
       "3        1   ...         1       1           0       0        0.16  0.654   \n",
       "4        0   ...         1       1           0       0        0.16  0.654   \n",
       "\n",
       "   LAWDV  Governance1  HDI1  LAWDV1  \n",
       "0     37            0     0       0  \n",
       "1     37            0     0       0  \n",
       "2     37            0     0       0  \n",
       "3     37            0     0       0  \n",
       "4     37            0     0       0  \n",
       "\n",
       "[5 rows x 91 columns]"
      ]
     },
     "execution_count": 2,
     "metadata": {},
     "output_type": "execute_result"
    }
   ],
   "source": [
    "# Import data from csv file\n",
    "data = pd.read_csv(\"CaribbeanAllFinal.csv\", low_memory=False)\n",
    "data.head()"
   ]
  },
  {
   "cell_type": "code",
   "execution_count": 3,
   "metadata": {},
   "outputs": [
    {
     "data": {
      "text/plain": [
       "(5795, 91)"
      ]
     },
     "execution_count": 3,
     "metadata": {},
     "output_type": "execute_result"
    }
   ],
   "source": [
    "data.shape"
   ]
  },
  {
   "cell_type": "code",
   "execution_count": 4,
   "metadata": {},
   "outputs": [],
   "source": [
    "#data.columns"
   ]
  },
  {
   "cell_type": "code",
   "execution_count": 5,
   "metadata": {},
   "outputs": [
    {
     "data": {
      "text/html": [
       "<div>\n",
       "<style scoped>\n",
       "    .dataframe tbody tr th:only-of-type {\n",
       "        vertical-align: middle;\n",
       "    }\n",
       "\n",
       "    .dataframe tbody tr th {\n",
       "        vertical-align: top;\n",
       "    }\n",
       "\n",
       "    .dataframe thead th {\n",
       "        text-align: right;\n",
       "    }\n",
       "</style>\n",
       "<table border=\"1\" class=\"dataframe\">\n",
       "  <thead>\n",
       "    <tr style=\"text-align: right;\">\n",
       "      <th></th>\n",
       "      <th>country</th>\n",
       "      <th>EP3</th>\n",
       "      <th>earlymarriage</th>\n",
       "      <th>FCMAR</th>\n",
       "      <th>ageyr5</th>\n",
       "      <th>ageyr10</th>\n",
       "      <th>edresp</th>\n",
       "      <th>w_religion</th>\n",
       "      <th>ETHNICITY</th>\n",
       "      <th>employstatus</th>\n",
       "      <th>...</th>\n",
       "      <th>eQ703g</th>\n",
       "      <th>eQ703h</th>\n",
       "      <th>CONTROLNUM</th>\n",
       "      <th>CONTROL</th>\n",
       "      <th>HighIncome</th>\n",
       "      <th>Island</th>\n",
       "      <th>Governance1</th>\n",
       "      <th>HDI1</th>\n",
       "      <th>LAWDV1</th>\n",
       "      <th>sexphys</th>\n",
       "    </tr>\n",
       "  </thead>\n",
       "  <tbody>\n",
       "    <tr>\n",
       "      <th>0</th>\n",
       "      <td>1</td>\n",
       "      <td>1</td>\n",
       "      <td>0</td>\n",
       "      <td>0</td>\n",
       "      <td>6</td>\n",
       "      <td>3</td>\n",
       "      <td>2</td>\n",
       "      <td>0</td>\n",
       "      <td>4</td>\n",
       "      <td>4</td>\n",
       "      <td>...</td>\n",
       "      <td>0</td>\n",
       "      <td>0</td>\n",
       "      <td>0</td>\n",
       "      <td>0</td>\n",
       "      <td>0</td>\n",
       "      <td>0</td>\n",
       "      <td>0</td>\n",
       "      <td>0</td>\n",
       "      <td>0</td>\n",
       "      <td>0</td>\n",
       "    </tr>\n",
       "    <tr>\n",
       "      <th>1</th>\n",
       "      <td>1</td>\n",
       "      <td>4</td>\n",
       "      <td>1</td>\n",
       "      <td>0</td>\n",
       "      <td>9</td>\n",
       "      <td>5</td>\n",
       "      <td>2</td>\n",
       "      <td>1</td>\n",
       "      <td>1</td>\n",
       "      <td>2</td>\n",
       "      <td>...</td>\n",
       "      <td>0</td>\n",
       "      <td>1</td>\n",
       "      <td>3</td>\n",
       "      <td>6</td>\n",
       "      <td>0</td>\n",
       "      <td>0</td>\n",
       "      <td>0</td>\n",
       "      <td>0</td>\n",
       "      <td>0</td>\n",
       "      <td>1</td>\n",
       "    </tr>\n",
       "    <tr>\n",
       "      <th>2</th>\n",
       "      <td>1</td>\n",
       "      <td>4</td>\n",
       "      <td>9</td>\n",
       "      <td>9</td>\n",
       "      <td>2</td>\n",
       "      <td>1</td>\n",
       "      <td>3</td>\n",
       "      <td>1</td>\n",
       "      <td>6</td>\n",
       "      <td>4</td>\n",
       "      <td>...</td>\n",
       "      <td>0</td>\n",
       "      <td>0</td>\n",
       "      <td>0</td>\n",
       "      <td>0</td>\n",
       "      <td>0</td>\n",
       "      <td>0</td>\n",
       "      <td>0</td>\n",
       "      <td>0</td>\n",
       "      <td>0</td>\n",
       "      <td>0</td>\n",
       "    </tr>\n",
       "    <tr>\n",
       "      <th>3</th>\n",
       "      <td>1</td>\n",
       "      <td>1</td>\n",
       "      <td>0</td>\n",
       "      <td>0</td>\n",
       "      <td>9</td>\n",
       "      <td>5</td>\n",
       "      <td>2</td>\n",
       "      <td>1</td>\n",
       "      <td>5</td>\n",
       "      <td>4</td>\n",
       "      <td>...</td>\n",
       "      <td>0</td>\n",
       "      <td>0</td>\n",
       "      <td>0</td>\n",
       "      <td>0</td>\n",
       "      <td>0</td>\n",
       "      <td>0</td>\n",
       "      <td>0</td>\n",
       "      <td>0</td>\n",
       "      <td>0</td>\n",
       "      <td>1</td>\n",
       "    </tr>\n",
       "    <tr>\n",
       "      <th>4</th>\n",
       "      <td>1</td>\n",
       "      <td>4</td>\n",
       "      <td>1</td>\n",
       "      <td>1</td>\n",
       "      <td>8</td>\n",
       "      <td>4</td>\n",
       "      <td>1</td>\n",
       "      <td>0</td>\n",
       "      <td>4</td>\n",
       "      <td>3</td>\n",
       "      <td>...</td>\n",
       "      <td>0</td>\n",
       "      <td>0</td>\n",
       "      <td>0</td>\n",
       "      <td>0</td>\n",
       "      <td>0</td>\n",
       "      <td>0</td>\n",
       "      <td>0</td>\n",
       "      <td>0</td>\n",
       "      <td>0</td>\n",
       "      <td>1</td>\n",
       "    </tr>\n",
       "  </tbody>\n",
       "</table>\n",
       "<p>5 rows × 62 columns</p>\n",
       "</div>"
      ],
      "text/plain": [
       "   country  EP3  earlymarriage  FCMAR  ageyr5  ageyr10  edresp  w_religion  \\\n",
       "0        1    1              0      0       6        3       2           0   \n",
       "1        1    4              1      0       9        5       2           1   \n",
       "2        1    4              9      9       2        1       3           1   \n",
       "3        1    1              0      0       9        5       2           1   \n",
       "4        1    4              1      1       8        4       1           0   \n",
       "\n",
       "   ETHNICITY  employstatus   ...     eQ703g  eQ703h  CONTROLNUM  CONTROL  \\\n",
       "0          4             4   ...          0       0           0        0   \n",
       "1          1             2   ...          0       1           3        6   \n",
       "2          6             4   ...          0       0           0        0   \n",
       "3          5             4   ...          0       0           0        0   \n",
       "4          4             3   ...          0       0           0        0   \n",
       "\n",
       "   HighIncome  Island  Governance1  HDI1  LAWDV1  sexphys  \n",
       "0           0       0            0     0       0        0  \n",
       "1           0       0            0     0       0        1  \n",
       "2           0       0            0     0       0        0  \n",
       "3           0       0            0     0       0        1  \n",
       "4           0       0            0     0       0        1  \n",
       "\n",
       "[5 rows x 62 columns]"
      ]
     },
     "execution_count": 5,
     "metadata": {},
     "output_type": "execute_result"
    }
   ],
   "source": [
    "df_caribbean = data[[\"country\", \"EP3\", \"earlymarriage\", \"FCMAR\", \"ageyr5\", \"ageyr10\", \"edresp\", \"w_religion\",\n",
    "                 \"ETHNICITY\", \"employstatus\", \"SourceIncome\", \"Fam_support\", 'mcv1006', 'mcv1006a', 'mcv1006b',\n",
    "                 'agepartner', 'sumdiffage', 'edpart', 'p_employ', 'men_alcohol_all', 'mcv1008', 'mcv1009',\n",
    "                 'Q513R', 'Q515R', 'Q516R', \n",
    "                  \"rQ701a\", \"rQ701b\", \"rQ701c\", \"rQ701d\", \"Q702R\",\n",
    "                  \"sQ601a\", 'sQ601b', 'sQ601c', 'sQ601d', 'sQ601e', 'sQ601f',\n",
    "                  \"tQ602a\", \"tQ602b\", 'tQ602c', \"tQ602d\",\n",
    "                  \"sQ607a\", \"sQ607b\", \"sQ607c\", 'sQ607d', \"sQ607e\",  \"justify\", #\"sQ607f\",\n",
    "                  \"eQ703a\", 'eQ703b', \"eQ703c\", \"eQ703d\", \"eQ703e\", \"eQ703f\", \"eQ703g\", \"eQ703h\", \"CONTROLNUM\", 'CONTROL',\n",
    "                  \"HighIncome\", \"Island\", \"Governance1\", \"HDI1\", \"LAWDV1\", #\"Governance\", \"HDI\", \"LAWDV\"\n",
    "                  #\"econviol\", \"emotvio\",                  \n",
    "                     \"sexphys\"]]\n",
    "df_caribbean.head()"
   ]
  },
  {
   "cell_type": "code",
   "execution_count": 6,
   "metadata": {},
   "outputs": [],
   "source": [
    "Guyana = df_caribbean[df_caribbean['country']==1]\n",
    "Jamaica = df_caribbean[df_caribbean['country']==2]\n",
    "Suriname = df_caribbean[df_caribbean['country']==3]\n",
    "Trinidad = df_caribbean[df_caribbean['country']==4]\n",
    "Grenada = df_caribbean[df_caribbean['country']==5]"
   ]
  },
  {
   "cell_type": "code",
   "execution_count": 7,
   "metadata": {},
   "outputs": [],
   "source": [
    "Guyana_X = Guyana.iloc[:, :-1]\n",
    "Guyana_y = Guyana.iloc[:, -1]"
   ]
  },
  {
   "cell_type": "code",
   "execution_count": 8,
   "metadata": {},
   "outputs": [],
   "source": [
    "Jamaica_X = Jamaica.iloc[:, :-1]\n",
    "Jamaica_y = Jamaica.iloc[:, -1]"
   ]
  },
  {
   "cell_type": "code",
   "execution_count": 9,
   "metadata": {},
   "outputs": [],
   "source": [
    "Suriname_X = Suriname.iloc[:, :-1]\n",
    "Suriname_y = Suriname.iloc[:, -1]"
   ]
  },
  {
   "cell_type": "code",
   "execution_count": 10,
   "metadata": {},
   "outputs": [],
   "source": [
    "Trinidad_X = Trinidad.iloc[:, :-1]\n",
    "Trinidad_y = Trinidad.iloc[:, -1]"
   ]
  },
  {
   "cell_type": "code",
   "execution_count": 11,
   "metadata": {},
   "outputs": [],
   "source": [
    "Grenada_X = Grenada.iloc[:, :-1]\n",
    "Grenada_y = Grenada.iloc[:, -1]"
   ]
  },
  {
   "cell_type": "code",
   "execution_count": 12,
   "metadata": {},
   "outputs": [],
   "source": [
    "# Randomly choose 30% of the data for validation and testing\n",
    "from sklearn.model_selection import train_test_split\n",
    "GuyanaX_train, GuyanaX_rest, Guyanay_train, Guyanay_rest = train_test_split(Guyana_X, \n",
    "                                                                            Guyana_y, \n",
    "                                                                            test_size=0.3, \n",
    "                                                                            random_state=0, \n",
    "                                                                            stratify=Guyana_y)"
   ]
  },
  {
   "cell_type": "code",
   "execution_count": 13,
   "metadata": {},
   "outputs": [],
   "source": [
    "JamaicaX_train, JamaicaX_rest, Jamaicay_train, Jamaicay_rest = train_test_split(Jamaica_X, \n",
    "                                                                                Jamaica_y, \n",
    "                                                                                test_size=0.3, \n",
    "                                                                                random_state=0, \n",
    "                                                                                stratify=Jamaica_y)"
   ]
  },
  {
   "cell_type": "code",
   "execution_count": 14,
   "metadata": {},
   "outputs": [],
   "source": [
    "SurinameX_train, SurinameX_rest, Surinamey_train, Surinamey_rest = train_test_split(Suriname_X, \n",
    "                                                                                    Suriname_y, \n",
    "                                                                                    test_size=0.3, \n",
    "                                                                                    random_state=0, \n",
    "                                                                                    stratify=Suriname_y)"
   ]
  },
  {
   "cell_type": "code",
   "execution_count": 15,
   "metadata": {},
   "outputs": [],
   "source": [
    "TrinidadX_train, TrinidadX_rest, Trinidady_train, Trinidady_rest = train_test_split(Trinidad_X, \n",
    "                                                                                    Trinidad_y, \n",
    "                                                                                    test_size=0.3, \n",
    "                                                                                    random_state=0, \n",
    "                                                                                    stratify=Trinidad_y)"
   ]
  },
  {
   "cell_type": "code",
   "execution_count": 16,
   "metadata": {},
   "outputs": [],
   "source": [
    "GrenadaX_train, GrenadaX_rest, Grenaday_train, Grenaday_rest = train_test_split(Grenada_X, \n",
    "                                                                                    Grenada_y, \n",
    "                                                                                    test_size=0.3, \n",
    "                                                                                    random_state=0, \n",
    "                                                                                    stratify=Grenada_y)"
   ]
  },
  {
   "cell_type": "code",
   "execution_count": 17,
   "metadata": {},
   "outputs": [],
   "source": [
    "# Randomly choose 50% of the data for testing\n",
    "GuyanaX_val, GuyanaX_test, Guyanay_val, Guyanay_test = train_test_split(GuyanaX_rest, \n",
    "                                                                            Guyanay_rest, \n",
    "                                                                            test_size=0.5, \n",
    "                                                                            random_state=0, \n",
    "                                                                            stratify=Guyanay_rest)"
   ]
  },
  {
   "cell_type": "code",
   "execution_count": 18,
   "metadata": {},
   "outputs": [],
   "source": [
    "JamaicaX_val, JamaicaX_test, Jamaicay_val, Jamaicay_test = train_test_split(JamaicaX_rest, \n",
    "                                                                            Jamaicay_rest, \n",
    "                                                                            test_size=0.5, \n",
    "                                                                            random_state=0, \n",
    "                                                                            stratify=Jamaicay_rest)"
   ]
  },
  {
   "cell_type": "code",
   "execution_count": 19,
   "metadata": {},
   "outputs": [],
   "source": [
    "SurinameX_val, SurinameX_test, Surinamey_val, Surinamey_test = train_test_split(SurinameX_rest, \n",
    "                                                                            Surinamey_rest, \n",
    "                                                                            test_size=0.5, \n",
    "                                                                            random_state=0, \n",
    "                                                                            stratify=Surinamey_rest)"
   ]
  },
  {
   "cell_type": "code",
   "execution_count": 20,
   "metadata": {},
   "outputs": [],
   "source": [
    "TrinidadX_val, TrinidadX_test, Trinidady_val, Trinidady_test = train_test_split(TrinidadX_rest, \n",
    "                                                                            Trinidady_rest, \n",
    "                                                                            test_size=0.5, \n",
    "                                                                            random_state=0, \n",
    "                                                                            stratify=Trinidady_rest)"
   ]
  },
  {
   "cell_type": "code",
   "execution_count": 21,
   "metadata": {},
   "outputs": [],
   "source": [
    "GrenadaX_val, GrenadaX_test, Grenaday_val, Grenaday_test = train_test_split(GrenadaX_rest, \n",
    "                                                                            Grenaday_rest, \n",
    "                                                                            test_size=0.5, \n",
    "                                                                            random_state=0, \n",
    "                                                                            stratify=Grenaday_rest)"
   ]
  },
  {
   "cell_type": "code",
   "execution_count": 22,
   "metadata": {},
   "outputs": [],
   "source": [
    "X_train = pd.concat([GuyanaX_train, JamaicaX_train, SurinameX_train, TrinidadX_train, GrenadaX_train])\n",
    "y_train = pd.concat([Guyanay_train, Jamaicay_train, Surinamey_train, Trinidady_train, Grenaday_train])\n",
    "#df_train = X_train.join(y_train)"
   ]
  },
  {
   "cell_type": "code",
   "execution_count": 23,
   "metadata": {},
   "outputs": [],
   "source": [
    "X_val = pd.concat([GuyanaX_val, JamaicaX_val, SurinameX_val, TrinidadX_val, GrenadaX_val])\n",
    "y_val = pd.concat([Guyanay_val, Jamaicay_val, Surinamey_val, Trinidady_val, Grenaday_val])\n",
    "#df_val = X_val.join(y_val)"
   ]
  },
  {
   "cell_type": "code",
   "execution_count": 24,
   "metadata": {},
   "outputs": [],
   "source": [
    "X_test = pd.concat([GuyanaX_test, JamaicaX_test, SurinameX_test, TrinidadX_test, GrenadaX_test])\n",
    "y_test = pd.concat([Guyanay_test, Jamaicay_test, Surinamey_test, Trinidady_test, Grenaday_test])\n",
    "#df_test = X_test.join(y_test)"
   ]
  },
  {
   "cell_type": "code",
   "execution_count": 25,
   "metadata": {},
   "outputs": [],
   "source": [
    "#(y_train==1).sum()/y_train.shape[0]"
   ]
  },
  {
   "cell_type": "code",
   "execution_count": 26,
   "metadata": {},
   "outputs": [],
   "source": [
    "#(y_val==1).sum()/y_val.shape[0]"
   ]
  },
  {
   "cell_type": "code",
   "execution_count": 27,
   "metadata": {},
   "outputs": [],
   "source": [
    "#(y_test==1).sum()/y_test.shape[0]"
   ]
  },
  {
   "cell_type": "code",
   "execution_count": null,
   "metadata": {},
   "outputs": [],
   "source": []
  },
  {
   "cell_type": "markdown",
   "metadata": {},
   "source": [
    "# Feature selection using chi2 and random forest"
   ]
  },
  {
   "cell_type": "code",
   "execution_count": 28,
   "metadata": {},
   "outputs": [],
   "source": [
    "from scipy.stats import chi2_contingency"
   ]
  },
  {
   "cell_type": "code",
   "execution_count": 29,
   "metadata": {},
   "outputs": [],
   "source": [
    "def chi2_sexphys(dfr_Xtrain, dfr_ytrain):\n",
    "    'Do a Chi2 test of independence and choose the significant dependence'\n",
    "    columns=dfr_Xtrain.columns.tolist()\n",
    "    \n",
    "    p_value = []\n",
    "    for column in columns:\n",
    "        observed = pd.crosstab(dfr_Xtrain[column], dfr_ytrain)\n",
    "        p_value.append(chi2_contingency(observed= observed)[1])\n",
    "\n",
    "    df = pd.DataFrame({\"variable\":columns, \n",
    "                           \"p_value\":p_value})\n",
    "    df2 = df[df.p_value <= 0.05]\n",
    "    df2 = df2.sort_values(by='p_value', ascending=True)\n",
    "    return df2"
   ]
  },
  {
   "cell_type": "code",
   "execution_count": 35,
   "metadata": {},
   "outputs": [],
   "source": [
    "All_sign=chi2_sexphys(X_train, y_train)\n",
    "#All_sign"
   ]
  },
  {
   "cell_type": "code",
   "execution_count": 31,
   "metadata": {},
   "outputs": [
    {
     "data": {
      "text/plain": [
       "(46, 2)"
      ]
     },
     "execution_count": 31,
     "metadata": {},
     "output_type": "execute_result"
    }
   ],
   "source": [
    "All_sign.shape"
   ]
  },
  {
   "cell_type": "raw",
   "metadata": {},
   "source": [
    "# Select only the significant variables \n",
    "X_train_reduced = X_train[list(All_sign.variable)].copy()  #might need to create a function???\n",
    "X_train_reduced.head()"
   ]
  },
  {
   "cell_type": "code",
   "execution_count": 32,
   "metadata": {},
   "outputs": [],
   "source": [
    "colsig = [\"country\", \"EP3\", \"earlymarriage\", \"FCMAR\", \"ageyr10\", \"edresp\", #\"w_religion\", 'ageyr5'\n",
    "                 \"SourceIncome\", \"Fam_support\", 'mcv1006', 'mcv1006a', 'mcv1006b', #\"ETHNICITY\", \"employstatus\", \"Fam_support\", 'mcv1006', 'mcv1006a', 'mcv1006b',\n",
    "                  'sumdiffage', 'edpart',  'men_alcohol_all', 'mcv1008', 'mcv1009',#'p_employ','agepartner',\n",
    "                 'Q513R', 'Q515R', 'Q516R', \n",
    "                  \"rQ701a\", \"rQ701b\", \"rQ701c\", \"rQ701d\", \"Q702R\",\n",
    "                  'sQ601c', 'sQ601d', #'sQ601e', 'sQ601f', \"sQ601a\", 'sQ601b', \n",
    "                   'tQ602c', \"tQ602d\", #\"tQ602a\", \"tQ602b\",\n",
    "                  \"justify\", #\"sQ607a\", \"sQ607b\", \"sQ607c\", 'sQ607d', \"sQ607e\",  \"justify\", #\"sQ607f\",\n",
    "                  'CONTROL', #\"eQ703a\", 'eQ703b', \"eQ703c\", \"eQ703d\", \"eQ703e\", \"eQ703f\", \"eQ703g\", \"eQ703h\", \"CONTROLNUM\", 'CONTROL',\n",
    "                   \"Island\", \"Governance1\", \"HDI1\", \"LAWDV1\", #\"Governance\", \"HDI\", \"LAWDV\", \"HighIncome\",\n",
    "                  #\"econviol\", \"emotvio\",                  \n",
    "                     #\"sexphys\"\n",
    "         ]"
   ]
  },
  {
   "cell_type": "code",
   "execution_count": 33,
   "metadata": {},
   "outputs": [
    {
     "data": {
      "text/plain": [
       "34"
      ]
     },
     "execution_count": 33,
     "metadata": {},
     "output_type": "execute_result"
    }
   ],
   "source": [
    "len(colsig)"
   ]
  },
  {
   "cell_type": "code",
   "execution_count": 34,
   "metadata": {},
   "outputs": [
    {
     "data": {
      "text/html": [
       "<div>\n",
       "<style scoped>\n",
       "    .dataframe tbody tr th:only-of-type {\n",
       "        vertical-align: middle;\n",
       "    }\n",
       "\n",
       "    .dataframe tbody tr th {\n",
       "        vertical-align: top;\n",
       "    }\n",
       "\n",
       "    .dataframe thead th {\n",
       "        text-align: right;\n",
       "    }\n",
       "</style>\n",
       "<table border=\"1\" class=\"dataframe\">\n",
       "  <thead>\n",
       "    <tr style=\"text-align: right;\">\n",
       "      <th></th>\n",
       "      <th>country</th>\n",
       "      <th>EP3</th>\n",
       "      <th>earlymarriage</th>\n",
       "      <th>FCMAR</th>\n",
       "      <th>ageyr10</th>\n",
       "      <th>edresp</th>\n",
       "      <th>SourceIncome</th>\n",
       "      <th>Fam_support</th>\n",
       "      <th>mcv1006</th>\n",
       "      <th>mcv1006a</th>\n",
       "      <th>...</th>\n",
       "      <th>sQ601c</th>\n",
       "      <th>sQ601d</th>\n",
       "      <th>tQ602c</th>\n",
       "      <th>tQ602d</th>\n",
       "      <th>justify</th>\n",
       "      <th>CONTROL</th>\n",
       "      <th>Island</th>\n",
       "      <th>Governance1</th>\n",
       "      <th>HDI1</th>\n",
       "      <th>LAWDV1</th>\n",
       "    </tr>\n",
       "  </thead>\n",
       "  <tbody>\n",
       "    <tr>\n",
       "      <th>995</th>\n",
       "      <td>1</td>\n",
       "      <td>2</td>\n",
       "      <td>1</td>\n",
       "      <td>0</td>\n",
       "      <td>2</td>\n",
       "      <td>1</td>\n",
       "      <td>5</td>\n",
       "      <td>0</td>\n",
       "      <td>0</td>\n",
       "      <td>1</td>\n",
       "      <td>...</td>\n",
       "      <td>1</td>\n",
       "      <td>1</td>\n",
       "      <td>0</td>\n",
       "      <td>1</td>\n",
       "      <td>0</td>\n",
       "      <td>0</td>\n",
       "      <td>0</td>\n",
       "      <td>0</td>\n",
       "      <td>0</td>\n",
       "      <td>0</td>\n",
       "    </tr>\n",
       "    <tr>\n",
       "      <th>962</th>\n",
       "      <td>1</td>\n",
       "      <td>1</td>\n",
       "      <td>0</td>\n",
       "      <td>0</td>\n",
       "      <td>2</td>\n",
       "      <td>2</td>\n",
       "      <td>4</td>\n",
       "      <td>1</td>\n",
       "      <td>0</td>\n",
       "      <td>0</td>\n",
       "      <td>...</td>\n",
       "      <td>1</td>\n",
       "      <td>1</td>\n",
       "      <td>0</td>\n",
       "      <td>1</td>\n",
       "      <td>1</td>\n",
       "      <td>0</td>\n",
       "      <td>0</td>\n",
       "      <td>0</td>\n",
       "      <td>0</td>\n",
       "      <td>0</td>\n",
       "    </tr>\n",
       "    <tr>\n",
       "      <th>998</th>\n",
       "      <td>1</td>\n",
       "      <td>2</td>\n",
       "      <td>0</td>\n",
       "      <td>0</td>\n",
       "      <td>2</td>\n",
       "      <td>1</td>\n",
       "      <td>4</td>\n",
       "      <td>1</td>\n",
       "      <td>0</td>\n",
       "      <td>0</td>\n",
       "      <td>...</td>\n",
       "      <td>1</td>\n",
       "      <td>0</td>\n",
       "      <td>0</td>\n",
       "      <td>0</td>\n",
       "      <td>0</td>\n",
       "      <td>0</td>\n",
       "      <td>0</td>\n",
       "      <td>0</td>\n",
       "      <td>0</td>\n",
       "      <td>0</td>\n",
       "    </tr>\n",
       "    <tr>\n",
       "      <th>639</th>\n",
       "      <td>1</td>\n",
       "      <td>4</td>\n",
       "      <td>9</td>\n",
       "      <td>9</td>\n",
       "      <td>4</td>\n",
       "      <td>2</td>\n",
       "      <td>5</td>\n",
       "      <td>1</td>\n",
       "      <td>0</td>\n",
       "      <td>0</td>\n",
       "      <td>...</td>\n",
       "      <td>0</td>\n",
       "      <td>0</td>\n",
       "      <td>0</td>\n",
       "      <td>0</td>\n",
       "      <td>1</td>\n",
       "      <td>1</td>\n",
       "      <td>0</td>\n",
       "      <td>0</td>\n",
       "      <td>0</td>\n",
       "      <td>0</td>\n",
       "    </tr>\n",
       "    <tr>\n",
       "      <th>932</th>\n",
       "      <td>1</td>\n",
       "      <td>4</td>\n",
       "      <td>0</td>\n",
       "      <td>0</td>\n",
       "      <td>4</td>\n",
       "      <td>2</td>\n",
       "      <td>5</td>\n",
       "      <td>1</td>\n",
       "      <td>0</td>\n",
       "      <td>0</td>\n",
       "      <td>...</td>\n",
       "      <td>0</td>\n",
       "      <td>0</td>\n",
       "      <td>0</td>\n",
       "      <td>0</td>\n",
       "      <td>0</td>\n",
       "      <td>0</td>\n",
       "      <td>0</td>\n",
       "      <td>0</td>\n",
       "      <td>0</td>\n",
       "      <td>0</td>\n",
       "    </tr>\n",
       "  </tbody>\n",
       "</table>\n",
       "<p>5 rows × 34 columns</p>\n",
       "</div>"
      ],
      "text/plain": [
       "     country  EP3  earlymarriage  FCMAR  ageyr10  edresp  SourceIncome  \\\n",
       "995        1    2              1      0        2       1             5   \n",
       "962        1    1              0      0        2       2             4   \n",
       "998        1    2              0      0        2       1             4   \n",
       "639        1    4              9      9        4       2             5   \n",
       "932        1    4              0      0        4       2             5   \n",
       "\n",
       "     Fam_support  mcv1006  mcv1006a   ...    sQ601c  sQ601d  tQ602c  tQ602d  \\\n",
       "995            0        0         1   ...         1       1       0       1   \n",
       "962            1        0         0   ...         1       1       0       1   \n",
       "998            1        0         0   ...         1       0       0       0   \n",
       "639            1        0         0   ...         0       0       0       0   \n",
       "932            1        0         0   ...         0       0       0       0   \n",
       "\n",
       "     justify  CONTROL  Island  Governance1  HDI1  LAWDV1  \n",
       "995        0        0       0            0     0       0  \n",
       "962        1        0       0            0     0       0  \n",
       "998        0        0       0            0     0       0  \n",
       "639        1        1       0            0     0       0  \n",
       "932        0        0       0            0     0       0  \n",
       "\n",
       "[5 rows x 34 columns]"
      ]
     },
     "execution_count": 34,
     "metadata": {},
     "output_type": "execute_result"
    }
   ],
   "source": [
    "# Select only the significant variables \n",
    "X_train_reduced = X_train[colsig].copy()  #might need to create a function???\n",
    "X_train_reduced.head()"
   ]
  },
  {
   "cell_type": "code",
   "execution_count": null,
   "metadata": {},
   "outputs": [],
   "source": []
  },
  {
   "cell_type": "code",
   "execution_count": 40,
   "metadata": {},
   "outputs": [],
   "source": [
    "nominal_var = [\"earlymarriage\", 'edpart', 'country', 'EP3', \n",
    "               'sumdiffage', 'SourceIncome', 'edresp', 'FCMAR', 'ageyr10', 'sumdiffage',  \n",
    "               \"Q702R\", \"Governance1\", \"HDI1\", \"LAWDV1\"]\n",
    "for var in nominal_var:\n",
    "    X_train_reduced[var] = X_train_reduced[var].astype('category')"
   ]
  },
  {
   "cell_type": "code",
   "execution_count": 55,
   "metadata": {},
   "outputs": [],
   "source": [
    "#X_train_reduced.dtypes"
   ]
  },
  {
   "cell_type": "code",
   "execution_count": 41,
   "metadata": {},
   "outputs": [],
   "source": [
    "X_train_dummies = pd.get_dummies(X_train_reduced)"
   ]
  },
  {
   "cell_type": "code",
   "execution_count": 42,
   "metadata": {},
   "outputs": [
    {
     "data": {
      "text/plain": [
       "(4054, 68)"
      ]
     },
     "execution_count": 42,
     "metadata": {},
     "output_type": "execute_result"
    }
   ],
   "source": [
    "X_train_dummies.shape"
   ]
  },
  {
   "cell_type": "code",
   "execution_count": 45,
   "metadata": {},
   "outputs": [
    {
     "data": {
      "text/plain": [
       "Index(['Fam_support', 'mcv1006', 'mcv1006a', 'mcv1006b', 'men_alcohol_all',\n",
       "       'mcv1008', 'mcv1009', 'Q513R', 'Q515R', 'Q516R', 'rQ701a', 'rQ701b',\n",
       "       'rQ701c', 'rQ701d', 'sQ601c', 'sQ601d', 'tQ602c', 'tQ602d', 'justify',\n",
       "       'CONTROL', 'Island', 'country_1', 'country_2', 'country_3', 'country_4',\n",
       "       'country_5', 'EP3_1', 'EP3_2', 'EP3_3', 'EP3_4', 'earlymarriage_0',\n",
       "       'earlymarriage_1', 'earlymarriage_9', 'FCMAR_0', 'FCMAR_1', 'FCMAR_9',\n",
       "       'ageyr10_1', 'ageyr10_2', 'ageyr10_3', 'ageyr10_4', 'ageyr10_5',\n",
       "       'edresp_1', 'edresp_2', 'edresp_3', 'SourceIncome_1', 'SourceIncome_2',\n",
       "       'SourceIncome_3', 'SourceIncome_4', 'SourceIncome_5', 'sumdiffage_1',\n",
       "       'sumdiffage_2', 'sumdiffage_3', 'sumdiffage_4', 'edpart_1', 'edpart_2',\n",
       "       'edpart_3', 'Q702R_1', 'Q702R_2', 'Q702R_3', 'Governance1_0',\n",
       "       'Governance1_1', 'Governance1_2', 'HDI1_0', 'HDI1_1', 'HDI1_2',\n",
       "       'LAWDV1_0', 'LAWDV1_1', 'LAWDV1_2'],\n",
       "      dtype='object')"
      ]
     },
     "execution_count": 45,
     "metadata": {},
     "output_type": "execute_result"
    }
   ],
   "source": [
    "X_train_dummies.columns"
   ]
  },
  {
   "cell_type": "code",
   "execution_count": 46,
   "metadata": {},
   "outputs": [],
   "source": [
    "#chi2 test: all the features with the target variable\n",
    "from sklearn.feature_selection import chi2"
   ]
  },
  {
   "cell_type": "code",
   "execution_count": 47,
   "metadata": {},
   "outputs": [],
   "source": [
    "def chi2_selection(df_X, df_y):\n",
    "    \"To add commments\"\n",
    "    df_chi2 = chi2(df_X, df_y)\n",
    "\n",
    "    # Convert the chi2 tests into one-dimensional 1darray with corresponding df column names as axis labels\n",
    "    f_chi2 = pd.Series(df_chi2[1], df_X.columns)\n",
    "\n",
    "    # Sort the array in ascending order of the pvalues\n",
    "    f_chi2.sort_values(ascending=True, inplace=True)\n",
    "\n",
    "    # Select the significant features \n",
    "    sign_chi2 = f_chi2[f_chi2<=0.05]\n",
    "\n",
    "    print(sign_chi2.shape)\n",
    "    return sign_chi2"
   ]
  },
  {
   "cell_type": "code",
   "execution_count": 48,
   "metadata": {},
   "outputs": [
    {
     "name": "stdout",
     "output_type": "stream",
     "text": [
      "(42,)\n"
     ]
    }
   ],
   "source": [
    "result_chi2 = chi2_selection(X_train_dummies, y_train)"
   ]
  },
  {
   "cell_type": "code",
   "execution_count": 66,
   "metadata": {},
   "outputs": [],
   "source": [
    "#result_chi2"
   ]
  },
  {
   "cell_type": "code",
   "execution_count": 51,
   "metadata": {},
   "outputs": [],
   "source": [
    "cols = list(result_chi2.keys())"
   ]
  },
  {
   "cell_type": "code",
   "execution_count": 52,
   "metadata": {},
   "outputs": [],
   "source": [
    "cols.sort()"
   ]
  },
  {
   "cell_type": "code",
   "execution_count": 54,
   "metadata": {},
   "outputs": [
    {
     "name": "stdout",
     "output_type": "stream",
     "text": [
      "['CONTROL', 'EP3_1', 'EP3_2', 'FCMAR_1', 'FCMAR_9', 'Fam_support', 'Governance1_0', 'HDI1_0', 'HDI1_2', 'Island', 'LAWDV1_0', 'LAWDV1_1', 'Q513R', 'Q515R', 'Q516R', 'Q702R_1', 'Q702R_2', 'Q702R_3', 'SourceIncome_2', 'SourceIncome_3', 'ageyr10_1', 'country_1', 'country_2', 'earlymarriage_0', 'earlymarriage_1', 'earlymarriage_9', 'edpart_1', 'edpart_3', 'edresp_1', 'edresp_3', 'justify', 'mcv1006', 'mcv1006a', 'mcv1006b', 'mcv1008', 'mcv1009', 'men_alcohol_all', 'rQ701d', 'sQ601c', 'sumdiffage_1', 'tQ602c', 'tQ602d']\n"
     ]
    }
   ],
   "source": [
    "print(cols)"
   ]
  },
  {
   "cell_type": "code",
   "execution_count": 67,
   "metadata": {},
   "outputs": [],
   "source": [
    "#chi2(np.array(X_train_reduced['HDI1'].values).reshape(-1, 1), y_train)"
   ]
  },
  {
   "cell_type": "code",
   "execution_count": 68,
   "metadata": {},
   "outputs": [],
   "source": [
    "#np.array(X_train_reduced['HDI1'].values).reshape(-1, 1)  \n",
    "#Should I keep ordinal variables not dummies? -- NO, I created them and they don't seem to be really ordinal."
   ]
  },
  {
   "cell_type": "code",
   "execution_count": 69,
   "metadata": {},
   "outputs": [
    {
     "data": {
      "text/plain": [
       "'CONTROL + EP3_1 + EP3_2 + FCMAR_1 + FCMAR_9 + Fam_support + Governance1_0 + HDI1_0 + HDI1_2 + Island + LAWDV1_0 + LAWDV1_1 + Q513R + Q515R + Q516R + Q702R_1 + Q702R_2 + Q702R_3 + SourceIncome_2 + SourceIncome_3 + ageyr10_1 + country_1 + country_2 + earlymarriage_0 + earlymarriage_1 + earlymarriage_9 + edpart_1 + edpart_3 + edresp_1 + edresp_3 + justify + mcv1006 + mcv1006a + mcv1006b + mcv1008 + mcv1009 + men_alcohol_all + rQ701d + sQ601c + sumdiffage_1 + tQ602c + tQ602d'"
      ]
     },
     "execution_count": 69,
     "metadata": {},
     "output_type": "execute_result"
    }
   ],
   "source": [
    "' + '.join(cols)"
   ]
  },
  {
   "cell_type": "code",
   "execution_count": 70,
   "metadata": {},
   "outputs": [],
   "source": [
    "import statsmodels.api as sm"
   ]
  },
  {
   "cell_type": "code",
   "execution_count": 71,
   "metadata": {},
   "outputs": [
    {
     "name": "stdout",
     "output_type": "stream",
     "text": [
      "               Results: Generalized linear model\n",
      "================================================================\n",
      "Model:              GLM              AIC:            4210.7616  \n",
      "Link Function:      logit            BIC:            -29246.9175\n",
      "Dependent Variable: sexphys          Log-Likelihood: -2070.4    \n",
      "Date:               2019-03-26 12:51 LL-Null:        -2550.1    \n",
      "No. Observations:   4054             Deviance:       4140.8     \n",
      "Df Model:           34               Pearson chi2:   4.00e+03   \n",
      "Df Residuals:       4019             Scale:          1.0000     \n",
      "Method:             IRLS                                        \n",
      "----------------------------------------------------------------\n",
      "                 Coef.  Std.Err.    z     P>|z|   [0.025  0.975]\n",
      "----------------------------------------------------------------\n",
      "Intercept       -0.4471   0.1189  -3.7599 0.0002 -0.6801 -0.2140\n",
      "CONTROL          0.2378   0.0233  10.2268 0.0000  0.1923  0.2834\n",
      "EP3_1           -0.1963   0.1271  -1.5447 0.1224 -0.4453  0.0528\n",
      "EP3_2            0.2003   0.1117   1.7929 0.0730 -0.0187  0.4193\n",
      "FCMAR_1         -0.0214   0.1247  -0.1721 0.8634 -0.2658  0.2229\n",
      "FCMAR_9         -0.3009   0.0502  -5.9888 0.0000 -0.3994 -0.2024\n",
      "Fam_support     -0.4432   0.1020  -4.3474 0.0000 -0.6431 -0.2434\n",
      "Governance1_0    0.0148   0.0309   0.4788 0.6321 -0.0457  0.0753\n",
      "HDI1_0           0.0148   0.0309   0.4788 0.6321 -0.0457  0.0753\n",
      "HDI1_2          -0.0330   0.0595  -0.5544 0.5793 -0.1495  0.0836\n",
      "Island          -0.1442   0.0649  -2.2211 0.0263 -0.2715 -0.0170\n",
      "LAWDV1_0         0.0148   0.0309   0.4788 0.6321 -0.0457  0.0753\n",
      "LAWDV1_1        -0.1113   0.0494  -2.2507 0.0244 -0.2082 -0.0144\n",
      "Q513R            0.5389   0.1325   4.0682 0.0000  0.2793  0.7986\n",
      "Q515R            0.5644   0.1102   5.1223 0.0000  0.3484  0.7803\n",
      "Q516R           -0.1145   0.1703  -0.6726 0.5012 -0.4483  0.2192\n",
      "Q702R_1         -0.6608   0.0652 -10.1308 0.0000 -0.7886 -0.5330\n",
      "Q702R_2         -0.2954   0.0720  -4.1018 0.0000 -0.4365 -0.1542\n",
      "Q702R_3          0.5091   0.0884   5.7605 0.0000  0.3359  0.6824\n",
      "SourceIncome_2   0.1244   0.0952   1.3071 0.1912 -0.0622  0.3110\n",
      "SourceIncome_3  -0.1549   0.1051  -1.4734 0.1406 -0.3609  0.0511\n",
      "ageyr10_1       -0.5016   0.1287  -3.8985 0.0001 -0.7538 -0.2494\n",
      "country_1        0.0148   0.0309   0.4788 0.6321 -0.0457  0.0753\n",
      "country_2       -0.1113   0.0494  -2.2507 0.0244 -0.2082 -0.0144\n",
      "earlymarriage_0 -0.2583   0.0764  -3.3834 0.0007 -0.4080 -0.1087\n",
      "earlymarriage_1  0.1122   0.0884   1.2701 0.2040 -0.0610  0.2854\n",
      "earlymarriage_9 -0.3009   0.0502  -5.9888 0.0000 -0.3994 -0.2024\n",
      "edpart_1         0.0724   0.0916   0.7898 0.4296 -0.1072  0.2520\n",
      "edpart_3        -0.2213   0.1236  -1.7906 0.0734 -0.4635  0.0209\n",
      "edresp_1        -0.0181   0.1053  -0.1717 0.8637 -0.2245  0.1883\n",
      "edresp_3         0.0053   0.1075   0.0490 0.9609 -0.2053  0.2159\n",
      "justify         -0.0560   0.1151  -0.4864 0.6267 -0.2815  0.1696\n",
      "mcv1006          0.4532   0.0886   5.1150 0.0000  0.2796  0.6269\n",
      "mcv1006a         0.3102   0.1052   2.9486 0.0032  0.1040  0.5163\n",
      "mcv1006b         0.3858   0.1015   3.8013 0.0001  0.1869  0.5846\n",
      "mcv1008          0.4189   0.1302   3.2182 0.0013  0.1638  0.6741\n",
      "mcv1009          0.2928   0.1105   2.6486 0.0081  0.0761  0.5095\n",
      "men_alcohol_all  0.2527   0.0924   2.7332 0.0063  0.0715  0.4339\n",
      "rQ701d          -0.2209   0.1013  -2.1797 0.0293 -0.4195 -0.0223\n",
      "sQ601c           0.0884   0.0898   0.9836 0.3253 -0.0877  0.2644\n",
      "sumdiffage_1     0.3606   0.1051   3.4319 0.0006  0.1547  0.5665\n",
      "tQ602c           0.1055   0.1319   0.8000 0.4237 -0.1530  0.3640\n",
      "tQ602d           0.1148   0.1114   1.0304 0.3028 -0.1036  0.3332\n",
      "================================================================\n",
      "\n"
     ]
    }
   ],
   "source": [
    "model = sm.formula.glm(formula='''sexphys ~ CONTROL + EP3_1 + EP3_2 + FCMAR_1 + FCMAR_9 + Fam_support + Governance1_0 + \n",
    "                                  HDI1_0 + HDI1_2 + Island + LAWDV1_0 + LAWDV1_1 + Q513R + Q515R + Q516R + Q702R_1 + \n",
    "                                  Q702R_2 + Q702R_3 + SourceIncome_2 + SourceIncome_3 + ageyr10_1 + country_1 + \n",
    "                                  country_2 + earlymarriage_0 + earlymarriage_1 + earlymarriage_9 + edpart_1 + \n",
    "                                  edpart_3 + edresp_1 + edresp_3 + justify + mcv1006 + mcv1006a + mcv1006b + \n",
    "                                  mcv1008 + mcv1009 + men_alcohol_all + rQ701d + sQ601c + sumdiffage_1 + tQ602c + tQ602d''',\n",
    "                       family=sm.families.Binomial(), data=X_train_dummies[cols].join(y_train)).fit()\n",
    "print(model.summary2())"
   ]
  },
  {
   "cell_type": "code",
   "execution_count": 84,
   "metadata": {},
   "outputs": [],
   "source": [
    "#model.params\n",
    "cols2 = list(model.pvalues[model.pvalues <=0.05].index)"
   ]
  },
  {
   "cell_type": "code",
   "execution_count": 85,
   "metadata": {},
   "outputs": [
    {
     "data": {
      "text/plain": [
       "'Intercept + CONTROL + FCMAR_9 + Fam_support + Island + LAWDV1_1 + Q513R + Q515R + Q702R_1 + Q702R_2 + Q702R_3 + ageyr10_1 + country_2 + earlymarriage_0 + earlymarriage_9 + mcv1006 + mcv1006a + mcv1006b + mcv1008 + mcv1009 + men_alcohol_all + rQ701d + sumdiffage_1'"
      ]
     },
     "execution_count": 85,
     "metadata": {},
     "output_type": "execute_result"
    }
   ],
   "source": [
    "' + '.join(cols2)"
   ]
  },
  {
   "cell_type": "code",
   "execution_count": 87,
   "metadata": {},
   "outputs": [
    {
     "name": "stdout",
     "output_type": "stream",
     "text": [
      "               Results: Generalized linear model\n",
      "================================================================\n",
      "Model:              GLM              AIC:            4212.9021  \n",
      "Link Function:      logit            BIC:            -29339.3888\n",
      "Dependent Variable: sexphys          Log-Likelihood: -2086.5    \n",
      "Date:               2019-03-26 13:01 LL-Null:        -2550.1    \n",
      "No. Observations:   4054             Deviance:       4172.9     \n",
      "Df Model:           19               Pearson chi2:   3.99e+03   \n",
      "Df Residuals:       4034             Scale:          1.0000     \n",
      "Method:             IRLS                                        \n",
      "----------------------------------------------------------------\n",
      "                  Coef.  Std.Err.    z    P>|z|   [0.025  0.975]\n",
      "----------------------------------------------------------------\n",
      "Intercept        -0.2813   0.1197 -2.3489 0.0188 -0.5159 -0.0466\n",
      "CONTROL           0.2446   0.0225 10.8485 0.0000  0.2004  0.2888\n",
      "FCMAR_9          -0.3099   0.0582 -5.3284 0.0000 -0.4238 -0.1959\n",
      "Fam_support      -0.4479   0.1000 -4.4773 0.0000 -0.6439 -0.2518\n",
      "Island           -0.2672   0.0885 -3.0209 0.0025 -0.4406 -0.0938\n",
      "LAWDV1_1         -0.0755   0.0607 -1.2450 0.2131 -0.1944  0.0434\n",
      "Q513R             0.5208   0.1310  3.9742 0.0001  0.2640  0.7776\n",
      "Q515R             0.5451   0.0931  5.8527 0.0000  0.3626  0.7276\n",
      "Q702R_1          -0.6123   0.0626 -9.7760 0.0000 -0.7350 -0.4895\n",
      "Q702R_2          -0.2410   0.0695 -3.4653 0.0005 -0.3773 -0.1047\n",
      "Q702R_3           0.5720   0.0905  6.3170 0.0000  0.3945  0.7495\n",
      "ageyr10_1        -0.4746   0.1216 -3.9024 0.0001 -0.7130 -0.2362\n",
      "country_2        -0.0755   0.0607 -1.2450 0.2131 -0.1944  0.0434\n",
      "earlymarriage_0  -0.4276   0.1048 -4.0816 0.0000 -0.6330 -0.2223\n",
      "earlymarriage_9  -0.3099   0.0582 -5.3284 0.0000 -0.4238 -0.1959\n",
      "mcv1006           0.4524   0.0876  5.1651 0.0000  0.2807  0.6241\n",
      "mcv1006a          0.3194   0.1040  3.0710 0.0021  0.1155  0.5232\n",
      "mcv1006b          0.3876   0.0998  3.8842 0.0001  0.1920  0.5832\n",
      "mcv1008           0.3806   0.1277  2.9804 0.0029  0.1303  0.6309\n",
      "mcv1009           0.2829   0.1091  2.5917 0.0096  0.0689  0.4968\n",
      "men_alcohol_all   0.2787   0.0911  3.0606 0.0022  0.1002  0.4572\n",
      "rQ701d           -0.2683   0.0985 -2.7230 0.0065 -0.4614 -0.0752\n",
      "sumdiffage_1      0.4269   0.1019  4.1912 0.0000  0.2273  0.6266\n",
      "================================================================\n",
      "\n"
     ]
    }
   ],
   "source": [
    "model2 = sm.formula.glm(formula='''sexphys ~ CONTROL + FCMAR_9 + Fam_support + Island + LAWDV1_1 + Q513R + Q515R + \n",
    "                                   Q702R_1 + Q702R_2 + Q702R_3 + ageyr10_1 + country_2 + earlymarriage_0 + \n",
    "                                   earlymarriage_9 + mcv1006 + mcv1006a + mcv1006b + mcv1008 + mcv1009 + \n",
    "                                   men_alcohol_all + rQ701d + sumdiffage_1''',\n",
    "                       family=sm.families.Binomial(), data=X_train_dummies[cols].join(y_train)).fit()\n",
    "print(model2.summary2())"
   ]
  },
  {
   "cell_type": "code",
   "execution_count": 89,
   "metadata": {},
   "outputs": [],
   "source": [
    "cols3 = list(model2.pvalues[model2.pvalues <=0.05].index)"
   ]
  },
  {
   "cell_type": "code",
   "execution_count": 92,
   "metadata": {},
   "outputs": [],
   "source": [
    "cols3.remove('Intercept')"
   ]
  },
  {
   "cell_type": "code",
   "execution_count": 90,
   "metadata": {},
   "outputs": [
    {
     "data": {
      "text/plain": [
       "'Intercept + CONTROL + FCMAR_9 + Fam_support + Island + Q513R + Q515R + Q702R_1 + Q702R_2 + Q702R_3 + ageyr10_1 + earlymarriage_0 + earlymarriage_9 + mcv1006 + mcv1006a + mcv1006b + mcv1008 + mcv1009 + men_alcohol_all + rQ701d + sumdiffage_1'"
      ]
     },
     "execution_count": 90,
     "metadata": {},
     "output_type": "execute_result"
    }
   ],
   "source": [
    "' + '.join(cols3)"
   ]
  },
  {
   "cell_type": "code",
   "execution_count": 91,
   "metadata": {},
   "outputs": [
    {
     "name": "stdout",
     "output_type": "stream",
     "text": [
      "               Results: Generalized linear model\n",
      "================================================================\n",
      "Model:              GLM              AIC:            4212.4611  \n",
      "Link Function:      logit            BIC:            -29346.1372\n",
      "Dependent Variable: sexphys          Log-Likelihood: -2087.2    \n",
      "Date:               2019-03-26 13:04 LL-Null:        -2550.1    \n",
      "No. Observations:   4054             Deviance:       4174.5     \n",
      "Df Model:           18               Pearson chi2:   3.99e+03   \n",
      "Df Residuals:       4035             Scale:          1.0000     \n",
      "Method:             IRLS                                        \n",
      "----------------------------------------------------------------\n",
      "                 Coef.  Std.Err.    z     P>|z|   [0.025  0.975]\n",
      "----------------------------------------------------------------\n",
      "Intercept       -0.2952   0.1192  -2.4773 0.0132 -0.5287 -0.0616\n",
      "CONTROL          0.2448   0.0225  10.8631 0.0000  0.2006  0.2889\n",
      "FCMAR_9         -0.3104   0.0581  -5.3382 0.0000 -0.4244 -0.1964\n",
      "Fam_support     -0.4308   0.0990  -4.3527 0.0000 -0.6247 -0.2368\n",
      "Island          -0.3147   0.0801  -3.9303 0.0001 -0.4717 -0.1578\n",
      "Q513R            0.5269   0.1309   4.0252 0.0001  0.2703  0.7835\n",
      "Q515R            0.5377   0.0929   5.7892 0.0000  0.3557  0.7198\n",
      "Q702R_1         -0.6220   0.0621 -10.0119 0.0000 -0.7438 -0.5003\n",
      "Q702R_2         -0.2449   0.0695  -3.5255 0.0004 -0.3811 -0.1088\n",
      "Q702R_3          0.5717   0.0905   6.3173 0.0000  0.3944  0.7491\n",
      "ageyr10_1       -0.4749   0.1216  -3.9053 0.0001 -0.7132 -0.2365\n",
      "earlymarriage_0 -0.4264   0.1048  -4.0690 0.0000 -0.6317 -0.2210\n",
      "earlymarriage_9 -0.3104   0.0581  -5.3382 0.0000 -0.4244 -0.1964\n",
      "mcv1006          0.4641   0.0871   5.3288 0.0000  0.2934  0.6348\n",
      "mcv1006a         0.3210   0.1040   3.0865 0.0020  0.1172  0.5248\n",
      "mcv1006b         0.3779   0.0994   3.8004 0.0001  0.1830  0.5728\n",
      "mcv1008          0.3862   0.1276   3.0268 0.0025  0.1361  0.6363\n",
      "mcv1009          0.2696   0.1086   2.4839 0.0130  0.0569  0.4824\n",
      "men_alcohol_all  0.2720   0.0909   2.9930 0.0028  0.0939  0.4502\n",
      "rQ701d          -0.2607   0.0982  -2.6538 0.0080 -0.4532 -0.0682\n",
      "sumdiffage_1     0.4370   0.1015   4.3050 0.0000  0.2381  0.6360\n",
      "================================================================\n",
      "\n"
     ]
    }
   ],
   "source": [
    "model3 = sm.formula.glm(formula='''sexphys ~ CONTROL + FCMAR_9 + Fam_support + Island + Q513R + Q515R + Q702R_1 + \n",
    "                                   Q702R_2 + Q702R_3 + ageyr10_1 + earlymarriage_0 + earlymarriage_9 + mcv1006 + \n",
    "                                   mcv1006a + mcv1006b + mcv1008 + mcv1009 + men_alcohol_all + rQ701d + sumdiffage_1''',\n",
    "                       family=sm.families.Binomial(), data=X_train_dummies[cols].join(y_train)).fit()\n",
    "print(model3.summary2())"
   ]
  },
  {
   "cell_type": "code",
   "execution_count": 149,
   "metadata": {},
   "outputs": [],
   "source": [
    "# Define a gridsearch function to tune hyperparameters \n",
    "\n",
    "from sklearn.model_selection import GridSearchCV\n",
    "from sklearn.preprocessing import StandardScaler\n",
    "#from sklearn.decomposition import PCA\n",
    "from sklearn.linear_model import LogisticRegression\n",
    "from sklearn.pipeline import Pipeline\n",
    "from sklearn.pipeline import make_pipeline\n",
    "\n",
    "\n",
    "def grid_logistic ():\n",
    "    \n",
    "    pipe_lr = make_pipeline(#StandardScaler(),\n",
    "                       LogisticRegression(random_state=1, max_iter=1000, class_weight={0:0.32966706302021404, 1:0.6703329369797859})) #tol=to be tested\n",
    "     \n",
    "    param_range = np.power(10.0, np.arange(-3, 3))\n",
    "    param_grid = [{'logisticregression__C': param_range, 'logisticregression__solver':['liblinear']}, \n",
    "                  {'logisticregression__C': param_range, 'logisticregression__solver':['sag']}, \n",
    "                  {'logisticregression__C': param_range, 'logisticregression__solver':['saga']}]\n",
    "\n",
    "    gs_lr = GridSearchCV(estimator = pipe_lr,\n",
    "                        param_grid = param_grid, \n",
    "                        scoring = 'roc_auc', \n",
    "                        cv=5)\n",
    "    return gs_lr"
   ]
  },
  {
   "cell_type": "code",
   "execution_count": 150,
   "metadata": {},
   "outputs": [
    {
     "data": {
      "text/plain": [
       "GridSearchCV(cv=5, error_score='raise',\n",
       "       estimator=Pipeline(memory=None,\n",
       "     steps=[('logisticregression', LogisticRegression(C=1.0,\n",
       "          class_weight={0: 0.32966706302021404, 1: 0.6703329369797859},\n",
       "          dual=False, fit_intercept=True, intercept_scaling=1,\n",
       "          max_iter=1000, multi_class='ovr', n_jobs=1, penalty='l2',\n",
       "          random_state=1, solver='liblinear', tol=0.0001, verbose=0,\n",
       "          warm_start=False))]),\n",
       "       fit_params=None, iid=True, n_jobs=1,\n",
       "       param_grid=[{'logisticregression__C': array([1.e-03, 1.e-02, 1.e-01, 1.e+00, 1.e+01, 1.e+02]), 'logisticregression__solver': ['liblinear']}, {'logisticregression__C': array([1.e-03, 1.e-02, 1.e-01, 1.e+00, 1.e+01, 1.e+02]), 'logisticregression__solver': ['sag']}, {'logisticregression__C': array([1.e-03, 1.e-02, 1.e-01, 1.e+00, 1.e+01, 1.e+02]), 'logisticregression__solver': ['saga']}],\n",
       "       pre_dispatch='2*n_jobs', refit=True, return_train_score='warn',\n",
       "       scoring='roc_auc', verbose=0)"
      ]
     },
     "execution_count": 150,
     "metadata": {},
     "output_type": "execute_result"
    }
   ],
   "source": [
    "#fit the gridsearch on all the datasets\n",
    "g1 = grid_logistic()\n",
    "g1.fit(X_train_dummies[cols3], y_train)"
   ]
  },
  {
   "cell_type": "code",
   "execution_count": 151,
   "metadata": {},
   "outputs": [
    {
     "name": "stdout",
     "output_type": "stream",
     "text": [
      "0.7627934690213365\n",
      "{'logisticregression__C': 0.1, 'logisticregression__solver': 'liblinear'}\n"
     ]
    }
   ],
   "source": [
    "# find the best score and the best parameters \n",
    "print(g1.best_score_)\n",
    "print(g1.best_params_)"
   ]
  },
  {
   "cell_type": "code",
   "execution_count": 103,
   "metadata": {},
   "outputs": [],
   "source": [
    "#define a learning curve function\n",
    "\n",
    "from sklearn.model_selection import learning_curve\n",
    "\n",
    "def l_curve(estimator, df_train, title):\n",
    "    train_sizes, train_scores, test_scores =\\\n",
    "                    learning_curve(estimator=estimator,\n",
    "                                   X=df_train,\n",
    "                                   y=y_train,\n",
    "                                   train_sizes=np.linspace(0.1, 1.0, 10),\n",
    "                                   cv=10,\n",
    "                                   n_jobs=1)\n",
    "\n",
    "    train_mean = np.mean(train_scores, axis=1)\n",
    "    train_std = np.std(train_scores, axis=1)\n",
    "    test_mean = np.mean(test_scores, axis=1)\n",
    "    test_std = np.std(test_scores, axis=1)\n",
    "\n",
    "    plt.plot(train_sizes, train_mean,\n",
    "             color='blue', marker='o',\n",
    "             markersize=5, label='training accuracy')\n",
    "\n",
    "    plt.fill_between(train_sizes,\n",
    "                     train_mean + train_std,\n",
    "                     train_mean - train_std,\n",
    "                     alpha=0.15, color='blue')\n",
    "\n",
    "    plt.plot(train_sizes, test_mean,\n",
    "             color='green', linestyle='--',\n",
    "             marker='s', markersize=5,\n",
    "             label='validation accuracy')\n",
    "\n",
    "    plt.fill_between(train_sizes,\n",
    "                     test_mean + test_std,\n",
    "                     test_mean - test_std,\n",
    "                     alpha=0.15, color='green')\n",
    "\n",
    "    plt.grid()\n",
    "    plt.xlabel('Number of training samples')\n",
    "    plt.ylabel('Accuracy')\n",
    "    plt.legend(loc='lower right')\n",
    "    plt.ylim([0.5, 1.03])\n",
    "    plt.tight_layout()\n",
    "    plt.title(title)\n",
    "    plt.show()"
   ]
  },
  {
   "cell_type": "code",
   "execution_count": 152,
   "metadata": {},
   "outputs": [
    {
     "data": {
      "image/png": "[encoded data removed]",
      "text/plain": [
       "<Figure size 432x288 with 1 Axes>"
      ]
     },
     "metadata": {},
     "output_type": "display_data"
    }
   ],
   "source": [
    "l_curve(g1.best_estimator_, X_train_dummies[cols3], \"Learning Curve for Logistic Regression, set 1\")"
   ]
  },
  {
   "cell_type": "code",
   "execution_count": 105,
   "metadata": {},
   "outputs": [],
   "source": [
    "#Define a function to create the confusion matrix\n",
    "\n",
    "from sklearn.metrics import confusion_matrix\n",
    "\n",
    "def conf_mat (estimator, np_train, np_test, title):\n",
    "    clf = estimator\n",
    "    clf.fit(np_train, y_train)\n",
    "    y_pred = clf.predict(np_test)\n",
    "    confmat = confusion_matrix(y_true=y_val, y_pred=y_pred)\n",
    "\n",
    "    fig, ax = plt.subplots(figsize=(5, 5))\n",
    "    ax.matshow(confmat, cmap=plt.cm.Blues, alpha=0.3)\n",
    "    for i in range(confmat.shape[0]):\n",
    "        for j in range(confmat.shape[1]):\n",
    "            ax.text(x=j, y=i,\n",
    "            s=confmat[i, j],\n",
    "            va='center', ha='center')\n",
    "    plt.xlabel('predicted label')\n",
    "    plt.ylabel('true label')\n",
    "    plt.title(title)\n",
    "    plt.show()"
   ]
  },
  {
   "cell_type": "code",
   "execution_count": 106,
   "metadata": {},
   "outputs": [],
   "source": [
    "# Create a function to calculate the scores\n",
    "\n",
    "from sklearn.metrics import precision_score\n",
    "from sklearn.metrics import recall_score, f1_score\n",
    "from sklearn.metrics import roc_curve\n",
    "from sklearn.metrics import roc_auc_score\n",
    "\n",
    "def different_scores (estimator, np_train, np_test, title):\n",
    "    \n",
    "    #instantiate the classifier and do predictions\n",
    "    clf = estimator\n",
    "    clf.fit(np_train, y_train)\n",
    "    y_pred = clf.predict(np_test)\n",
    "\n",
    "    #print the different scores \n",
    "    print('Precision: %.3f' % precision_score(\n",
    "    y_true=y_val, y_pred=y_pred))\n",
    "    print('Recall: %.3f' % recall_score(\n",
    "    y_true=y_val, y_pred=y_pred))\n",
    "    print('F1: %.3f' % f1_score(\n",
    "    y_true=y_val, y_pred=y_pred))\n",
    "    \n",
    "    #create the AUC \n",
    "    fpr, tpr, _ = roc_curve(y_val,  y_pred)\n",
    "    auc = roc_auc_score(y_val, y_pred)\n",
    "    plt.plot(fpr,tpr,label=\"auc=\"+str(auc))\n",
    "    plt.legend(loc=4)\n",
    "    plt.title(title)\n",
    "    plt.show()\n"
   ]
  },
  {
   "cell_type": "code",
   "execution_count": 108,
   "metadata": {},
   "outputs": [],
   "source": [
    "X_val_reduced = X_val[list(All_sign.variable)].copy()  #might need to create a function???\n",
    "#X_val_reduced.head()"
   ]
  },
  {
   "cell_type": "code",
   "execution_count": 109,
   "metadata": {},
   "outputs": [],
   "source": [
    "#nominal_var = ['CONTROLNUM', \"Q702R\", \"earlymarriage\", 'edpart', 'country', 'EP3', 'sumdiffage', 'SourceIncome', 'edresp']\n",
    "\n",
    "nominal_var = [\"earlymarriage\", 'edpart', 'country', 'EP3', \n",
    "               'sumdiffage', 'SourceIncome', 'edresp', 'FCMAR', 'ageyr10', 'sumdiffage',  \n",
    "               \"Q702R\", \"Governance1\", \"HDI1\", \"LAWDV1\"]\n",
    "\n",
    "for var in nominal_var:\n",
    "    X_val_reduced[var] = X_val_reduced[var].astype('category')"
   ]
  },
  {
   "cell_type": "code",
   "execution_count": 110,
   "metadata": {},
   "outputs": [],
   "source": [
    "X_val_dummies = pd.get_dummies(X_val_reduced)"
   ]
  },
  {
   "cell_type": "code",
   "execution_count": 153,
   "metadata": {},
   "outputs": [
    {
     "data": {
      "image/png": "[encoded data removed]",
      "text/plain": [
       "<Figure size 360x360 with 1 Axes>"
      ]
     },
     "metadata": {},
     "output_type": "display_data"
    }
   ],
   "source": [
    "conf_mat(g1.best_estimator_, X_train_dummies[cols3], X_val_dummies[cols3], \"Confusion Matrix for Logistic regression, set 1\")"
   ]
  },
  {
   "cell_type": "code",
   "execution_count": 154,
   "metadata": {},
   "outputs": [
    {
     "name": "stdout",
     "output_type": "stream",
     "text": [
      "Precision: 0.554\n",
      "Recall: 0.618\n",
      "F1: 0.584\n"
     ]
    },
    {
     "data": {
      "image/png": "[encoded data removed]",
      "text/plain": [
       "<Figure size 432x288 with 1 Axes>"
      ]
     },
     "metadata": {},
     "output_type": "display_data"
    }
   ],
   "source": [
    "different_scores(g1.best_estimator_, X_train_dummies[cols3].values, X_val_dummies[cols3].values, \"Logistic regression AUC, set 2\")"
   ]
  },
  {
   "cell_type": "code",
   "execution_count": null,
   "metadata": {},
   "outputs": [],
   "source": []
  },
  {
   "cell_type": "code",
   "execution_count": null,
   "metadata": {},
   "outputs": [],
   "source": []
  }
 ],
 "metadata": {
  "kernelspec": {
   "display_name": "Python 3",
   "language": "python",
   "name": "python3"
  },
  "language_info": {
   "codemirror_mode": {
    "name": "ipython",
    "version": 3
   },
   "file_extension": ".py",
   "mimetype": "text/x-python",
   "name": "python",
   "nbconvert_exporter": "python",
   "pygments_lexer": "ipython3",
   "version": "3.6.5"
  }
 },
 "nbformat": 4,
 "nbformat_minor": 2
}
