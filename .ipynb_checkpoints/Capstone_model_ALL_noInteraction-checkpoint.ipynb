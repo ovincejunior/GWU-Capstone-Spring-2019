{
 "cells": [
  {
   "cell_type": "code",
   "execution_count": 1,
   "metadata": {},
   "outputs": [],
   "source": [
    "import os\n",
    "import pandas as pd\n",
    "import numpy as np\n",
    "import matplotlib.pyplot as plt"
   ]
  },
  {
   "cell_type": "code",
   "execution_count": 2,
   "metadata": {
    "scrolled": true
   },
   "outputs": [
    {
     "data": {
      "text/html": [
       "<div>\n",
       "<style scoped>\n",
       "    .dataframe tbody tr th:only-of-type {\n",
       "        vertical-align: middle;\n",
       "    }\n",
       "\n",
       "    .dataframe tbody tr th {\n",
       "        vertical-align: top;\n",
       "    }\n",
       "\n",
       "    .dataframe thead th {\n",
       "        text-align: right;\n",
       "    }\n",
       "</style>\n",
       "<table border=\"1\" class=\"dataframe\">\n",
       "  <thead>\n",
       "    <tr style=\"text-align: right;\">\n",
       "      <th></th>\n",
       "      <th>ep1</th>\n",
       "      <th>econviol</th>\n",
       "      <th>emotvio</th>\n",
       "      <th>physvio</th>\n",
       "      <th>sexvio</th>\n",
       "      <th>sexphys</th>\n",
       "      <th>typevio</th>\n",
       "      <th>physcur</th>\n",
       "      <th>sexcur</th>\n",
       "      <th>emotcur</th>\n",
       "      <th>...</th>\n",
       "      <th>eQ703e</th>\n",
       "      <th>eQ703f</th>\n",
       "      <th>eQ703g</th>\n",
       "      <th>eQ703h</th>\n",
       "      <th>country</th>\n",
       "      <th>weighing</th>\n",
       "      <th>rQ701a</th>\n",
       "      <th>rQ701b</th>\n",
       "      <th>rQ701c</th>\n",
       "      <th>rQ701d</th>\n",
       "    </tr>\n",
       "  </thead>\n",
       "  <tbody>\n",
       "    <tr>\n",
       "      <th>0</th>\n",
       "      <td>1</td>\n",
       "      <td>0</td>\n",
       "      <td>0</td>\n",
       "      <td>0</td>\n",
       "      <td>0</td>\n",
       "      <td>0</td>\n",
       "      <td>0</td>\n",
       "      <td>0</td>\n",
       "      <td>0</td>\n",
       "      <td>0</td>\n",
       "      <td>...</td>\n",
       "      <td>0</td>\n",
       "      <td>0</td>\n",
       "      <td>0</td>\n",
       "      <td>0</td>\n",
       "      <td>1</td>\n",
       "      <td>1.183286</td>\n",
       "      <td>1</td>\n",
       "      <td>1</td>\n",
       "      <td>1</td>\n",
       "      <td>1</td>\n",
       "    </tr>\n",
       "    <tr>\n",
       "      <th>1</th>\n",
       "      <td>1</td>\n",
       "      <td>1</td>\n",
       "      <td>1</td>\n",
       "      <td>1</td>\n",
       "      <td>1</td>\n",
       "      <td>1</td>\n",
       "      <td>3</td>\n",
       "      <td>0</td>\n",
       "      <td>0</td>\n",
       "      <td>0</td>\n",
       "      <td>...</td>\n",
       "      <td>1</td>\n",
       "      <td>1</td>\n",
       "      <td>0</td>\n",
       "      <td>1</td>\n",
       "      <td>1</td>\n",
       "      <td>0.204913</td>\n",
       "      <td>0</td>\n",
       "      <td>0</td>\n",
       "      <td>1</td>\n",
       "      <td>1</td>\n",
       "    </tr>\n",
       "    <tr>\n",
       "      <th>2</th>\n",
       "      <td>1</td>\n",
       "      <td>0</td>\n",
       "      <td>0</td>\n",
       "      <td>0</td>\n",
       "      <td>0</td>\n",
       "      <td>0</td>\n",
       "      <td>0</td>\n",
       "      <td>0</td>\n",
       "      <td>0</td>\n",
       "      <td>0</td>\n",
       "      <td>...</td>\n",
       "      <td>0</td>\n",
       "      <td>0</td>\n",
       "      <td>0</td>\n",
       "      <td>0</td>\n",
       "      <td>1</td>\n",
       "      <td>1.349522</td>\n",
       "      <td>1</td>\n",
       "      <td>1</td>\n",
       "      <td>1</td>\n",
       "      <td>1</td>\n",
       "    </tr>\n",
       "    <tr>\n",
       "      <th>3</th>\n",
       "      <td>1</td>\n",
       "      <td>0</td>\n",
       "      <td>1</td>\n",
       "      <td>1</td>\n",
       "      <td>0</td>\n",
       "      <td>1</td>\n",
       "      <td>1</td>\n",
       "      <td>0</td>\n",
       "      <td>0</td>\n",
       "      <td>1</td>\n",
       "      <td>...</td>\n",
       "      <td>0</td>\n",
       "      <td>0</td>\n",
       "      <td>0</td>\n",
       "      <td>0</td>\n",
       "      <td>1</td>\n",
       "      <td>0.069748</td>\n",
       "      <td>1</td>\n",
       "      <td>0</td>\n",
       "      <td>1</td>\n",
       "      <td>1</td>\n",
       "    </tr>\n",
       "    <tr>\n",
       "      <th>4</th>\n",
       "      <td>1</td>\n",
       "      <td>0</td>\n",
       "      <td>0</td>\n",
       "      <td>1</td>\n",
       "      <td>0</td>\n",
       "      <td>1</td>\n",
       "      <td>1</td>\n",
       "      <td>0</td>\n",
       "      <td>0</td>\n",
       "      <td>0</td>\n",
       "      <td>...</td>\n",
       "      <td>0</td>\n",
       "      <td>0</td>\n",
       "      <td>0</td>\n",
       "      <td>0</td>\n",
       "      <td>1</td>\n",
       "      <td>0.270909</td>\n",
       "      <td>1</td>\n",
       "      <td>1</td>\n",
       "      <td>1</td>\n",
       "      <td>1</td>\n",
       "    </tr>\n",
       "  </tbody>\n",
       "</table>\n",
       "<p>5 rows × 155 columns</p>\n",
       "</div>"
      ],
      "text/plain": [
       "   ep1  econviol  emotvio  physvio  sexvio  sexphys  typevio  physcur  sexcur  \\\n",
       "0    1         0        0        0       0        0        0        0       0   \n",
       "1    1         1        1        1       1        1        3        0       0   \n",
       "2    1         0        0        0       0        0        0        0       0   \n",
       "3    1         0        1        1       0        1        1        0       0   \n",
       "4    1         0        0        1       0        1        1        0       0   \n",
       "\n",
       "   emotcur   ...    eQ703e  eQ703f  eQ703g  eQ703h  country  weighing  rQ701a  \\\n",
       "0        0   ...         0       0       0       0        1  1.183286       1   \n",
       "1        0   ...         1       1       0       1        1  0.204913       0   \n",
       "2        0   ...         0       0       0       0        1  1.349522       1   \n",
       "3        1   ...         0       0       0       0        1  0.069748       1   \n",
       "4        0   ...         0       0       0       0        1  0.270909       1   \n",
       "\n",
       "   rQ701b  rQ701c  rQ701d  \n",
       "0       1       1       1  \n",
       "1       0       1       1  \n",
       "2       1       1       1  \n",
       "3       0       1       1  \n",
       "4       1       1       1  \n",
       "\n",
       "[5 rows x 155 columns]"
      ]
     },
     "execution_count": 2,
     "metadata": {},
     "output_type": "execute_result"
    }
   ],
   "source": [
    "# Import data from csv file\n",
    "data = pd.read_csv(\"CaribbeanAll.csv\", low_memory=False)\n",
    "data.head()"
   ]
  },
  {
   "cell_type": "code",
   "execution_count": null,
   "metadata": {},
   "outputs": [],
   "source": []
  },
  {
   "cell_type": "code",
   "execution_count": 3,
   "metadata": {},
   "outputs": [
    {
     "data": {
      "text/html": [
       "<div>\n",
       "<style scoped>\n",
       "    .dataframe tbody tr th:only-of-type {\n",
       "        vertical-align: middle;\n",
       "    }\n",
       "\n",
       "    .dataframe tbody tr th {\n",
       "        vertical-align: top;\n",
       "    }\n",
       "\n",
       "    .dataframe thead th {\n",
       "        text-align: right;\n",
       "    }\n",
       "</style>\n",
       "<table border=\"1\" class=\"dataframe\">\n",
       "  <thead>\n",
       "    <tr style=\"text-align: right;\">\n",
       "      <th></th>\n",
       "      <th>country</th>\n",
       "      <th>EP3</th>\n",
       "      <th>earlymarriage</th>\n",
       "      <th>FCMAR</th>\n",
       "      <th>ageyr5</th>\n",
       "      <th>ageyr10</th>\n",
       "      <th>edresp</th>\n",
       "      <th>w_religion</th>\n",
       "      <th>ETHNICITY</th>\n",
       "      <th>employstatus</th>\n",
       "      <th>...</th>\n",
       "      <th>eQ703c</th>\n",
       "      <th>eQ703d</th>\n",
       "      <th>eQ703e</th>\n",
       "      <th>eQ703f</th>\n",
       "      <th>eQ703g</th>\n",
       "      <th>eQ703h</th>\n",
       "      <th>CONTROLNUM</th>\n",
       "      <th>econviol</th>\n",
       "      <th>emotvio</th>\n",
       "      <th>sexphys</th>\n",
       "    </tr>\n",
       "  </thead>\n",
       "  <tbody>\n",
       "    <tr>\n",
       "      <th>0</th>\n",
       "      <td>1</td>\n",
       "      <td>1</td>\n",
       "      <td>0</td>\n",
       "      <td>0</td>\n",
       "      <td>6</td>\n",
       "      <td>3</td>\n",
       "      <td>2</td>\n",
       "      <td>0</td>\n",
       "      <td>4</td>\n",
       "      <td>4</td>\n",
       "      <td>...</td>\n",
       "      <td>0</td>\n",
       "      <td>0</td>\n",
       "      <td>0</td>\n",
       "      <td>0</td>\n",
       "      <td>0</td>\n",
       "      <td>0</td>\n",
       "      <td>0</td>\n",
       "      <td>0</td>\n",
       "      <td>0</td>\n",
       "      <td>0</td>\n",
       "    </tr>\n",
       "    <tr>\n",
       "      <th>1</th>\n",
       "      <td>1</td>\n",
       "      <td>4</td>\n",
       "      <td>1</td>\n",
       "      <td>0</td>\n",
       "      <td>9</td>\n",
       "      <td>5</td>\n",
       "      <td>2</td>\n",
       "      <td>1</td>\n",
       "      <td>1</td>\n",
       "      <td>2</td>\n",
       "      <td>...</td>\n",
       "      <td>1</td>\n",
       "      <td>1</td>\n",
       "      <td>1</td>\n",
       "      <td>1</td>\n",
       "      <td>0</td>\n",
       "      <td>1</td>\n",
       "      <td>3</td>\n",
       "      <td>1</td>\n",
       "      <td>1</td>\n",
       "      <td>1</td>\n",
       "    </tr>\n",
       "    <tr>\n",
       "      <th>2</th>\n",
       "      <td>1</td>\n",
       "      <td>4</td>\n",
       "      <td>9</td>\n",
       "      <td>9</td>\n",
       "      <td>2</td>\n",
       "      <td>1</td>\n",
       "      <td>3</td>\n",
       "      <td>1</td>\n",
       "      <td>6</td>\n",
       "      <td>4</td>\n",
       "      <td>...</td>\n",
       "      <td>0</td>\n",
       "      <td>0</td>\n",
       "      <td>0</td>\n",
       "      <td>0</td>\n",
       "      <td>0</td>\n",
       "      <td>0</td>\n",
       "      <td>0</td>\n",
       "      <td>0</td>\n",
       "      <td>0</td>\n",
       "      <td>0</td>\n",
       "    </tr>\n",
       "    <tr>\n",
       "      <th>3</th>\n",
       "      <td>1</td>\n",
       "      <td>1</td>\n",
       "      <td>0</td>\n",
       "      <td>0</td>\n",
       "      <td>9</td>\n",
       "      <td>5</td>\n",
       "      <td>2</td>\n",
       "      <td>1</td>\n",
       "      <td>5</td>\n",
       "      <td>4</td>\n",
       "      <td>...</td>\n",
       "      <td>0</td>\n",
       "      <td>0</td>\n",
       "      <td>0</td>\n",
       "      <td>0</td>\n",
       "      <td>0</td>\n",
       "      <td>0</td>\n",
       "      <td>0</td>\n",
       "      <td>0</td>\n",
       "      <td>1</td>\n",
       "      <td>1</td>\n",
       "    </tr>\n",
       "    <tr>\n",
       "      <th>4</th>\n",
       "      <td>1</td>\n",
       "      <td>4</td>\n",
       "      <td>1</td>\n",
       "      <td>1</td>\n",
       "      <td>8</td>\n",
       "      <td>4</td>\n",
       "      <td>1</td>\n",
       "      <td>0</td>\n",
       "      <td>4</td>\n",
       "      <td>3</td>\n",
       "      <td>...</td>\n",
       "      <td>0</td>\n",
       "      <td>0</td>\n",
       "      <td>0</td>\n",
       "      <td>0</td>\n",
       "      <td>0</td>\n",
       "      <td>0</td>\n",
       "      <td>0</td>\n",
       "      <td>0</td>\n",
       "      <td>0</td>\n",
       "      <td>1</td>\n",
       "    </tr>\n",
       "  </tbody>\n",
       "</table>\n",
       "<p>5 rows × 58 columns</p>\n",
       "</div>"
      ],
      "text/plain": [
       "   country  EP3  earlymarriage  FCMAR  ageyr5  ageyr10  edresp  w_religion  \\\n",
       "0        1    1              0      0       6        3       2           0   \n",
       "1        1    4              1      0       9        5       2           1   \n",
       "2        1    4              9      9       2        1       3           1   \n",
       "3        1    1              0      0       9        5       2           1   \n",
       "4        1    4              1      1       8        4       1           0   \n",
       "\n",
       "   ETHNICITY  employstatus   ...     eQ703c  eQ703d  eQ703e  eQ703f  eQ703g  \\\n",
       "0          4             4   ...          0       0       0       0       0   \n",
       "1          1             2   ...          1       1       1       1       0   \n",
       "2          6             4   ...          0       0       0       0       0   \n",
       "3          5             4   ...          0       0       0       0       0   \n",
       "4          4             3   ...          0       0       0       0       0   \n",
       "\n",
       "   eQ703h  CONTROLNUM  econviol  emotvio  sexphys  \n",
       "0       0           0         0        0        0  \n",
       "1       1           3         1        1        1  \n",
       "2       0           0         0        0        0  \n",
       "3       0           0         0        1        1  \n",
       "4       0           0         0        0        1  \n",
       "\n",
       "[5 rows x 58 columns]"
      ]
     },
     "execution_count": 3,
     "metadata": {},
     "output_type": "execute_result"
    }
   ],
   "source": [
    "df_caribbean = data[[\"country\", \"EP3\", \"earlymarriage\", \"FCMAR\", \"ageyr5\", \"ageyr10\", \"edresp\", \"w_religion\",\n",
    "                 \"ETHNICITY\", \"employstatus\", \"SourceIncome\", \"Fam_support\", 'mcv1006', 'mcv1006a', 'mcv1006b',\n",
    "                 'agepartner', 'sumdiffage', 'edpart', 'p_employ', 'men_alcohol_all', 'mcv1008', 'mcv1009',\n",
    "                 'Q513R', 'Q515R', 'Q516R', \n",
    "                  \"rQ701a\", \"rQ701b\", \"rQ701c\", \"rQ701d\", \"Q702R\",\n",
    "                  \"sQ601a\", 'sQ601b', 'sQ601c', 'sQ601d', 'sQ601e', 'sQ601f',\n",
    "                  \"tQ602a\", \"tQ602b\", 'tQ602c', \"tQ602d\",\n",
    "                  \"sQ607a\", \"sQ607b\", \"sQ607c\", 'sQ607d', \"sQ607e\",  \"justify\", #\"sQ607f\",\n",
    "                  \"eQ703a\", 'eQ703b', \"eQ703c\", \"eQ703d\", \"eQ703e\", \"eQ703f\", \"eQ703g\", \"eQ703h\", \"CONTROLNUM\", #control,\n",
    "                  \"econviol\", \"emotvio\",                  \n",
    "                     \"sexphys\"]]\n",
    "df_caribbean.head()"
   ]
  },
  {
   "cell_type": "code",
   "execution_count": 4,
   "metadata": {},
   "outputs": [],
   "source": [
    "Guyana = df_caribbean[df_caribbean['country']==1]\n",
    "Jamaica = df_caribbean[df_caribbean['country']==2]\n",
    "Suriname = df_caribbean[df_caribbean['country']==3]\n",
    "Trinidad = df_caribbean[df_caribbean['country']==4]"
   ]
  },
  {
   "cell_type": "code",
   "execution_count": 5,
   "metadata": {},
   "outputs": [],
   "source": [
    "Guyana_X = Guyana.iloc[:, :-1]\n",
    "Guyana_y = Guyana.iloc[:, -1]"
   ]
  },
  {
   "cell_type": "code",
   "execution_count": 6,
   "metadata": {},
   "outputs": [],
   "source": [
    "Jamaica_X = Jamaica.iloc[:, :-1]\n",
    "Jamaica_y = Jamaica.iloc[:, -1]"
   ]
  },
  {
   "cell_type": "code",
   "execution_count": 7,
   "metadata": {},
   "outputs": [],
   "source": [
    "Suriname_X = Suriname.iloc[:, :-1]\n",
    "Suriname_y = Suriname.iloc[:, -1]"
   ]
  },
  {
   "cell_type": "code",
   "execution_count": 8,
   "metadata": {},
   "outputs": [],
   "source": [
    "Trinidad_X = Trinidad.iloc[:, :-1]\n",
    "Trinidad_y = Trinidad.iloc[:, -1]"
   ]
  },
  {
   "cell_type": "code",
   "execution_count": 9,
   "metadata": {},
   "outputs": [],
   "source": [
    "# Randomly choose 30% of the data for validation and testing\n",
    "from sklearn.model_selection import train_test_split\n",
    "GuyanaX_train, GuyanaX_rest, Guyanay_train, Guyanay_rest = train_test_split(Guyana_X, \n",
    "                                                                            Guyana_y, \n",
    "                                                                            test_size=0.3, \n",
    "                                                                            random_state=0, \n",
    "                                                                            stratify=Guyana_y)"
   ]
  },
  {
   "cell_type": "code",
   "execution_count": 10,
   "metadata": {},
   "outputs": [],
   "source": [
    "JamaicaX_train, JamaicaX_rest, Jamaicay_train, Jamaicay_rest = train_test_split(Jamaica_X, \n",
    "                                                                                Jamaica_y, \n",
    "                                                                                test_size=0.3, \n",
    "                                                                                random_state=0, \n",
    "                                                                                stratify=Jamaica_y)"
   ]
  },
  {
   "cell_type": "code",
   "execution_count": 11,
   "metadata": {},
   "outputs": [],
   "source": [
    "SurinameX_train, SurinameX_rest, Surinamey_train, Surinamey_rest = train_test_split(Suriname_X, \n",
    "                                                                                    Suriname_y, \n",
    "                                                                                    test_size=0.3, \n",
    "                                                                                    random_state=0, \n",
    "                                                                                    stratify=Suriname_y)"
   ]
  },
  {
   "cell_type": "code",
   "execution_count": 12,
   "metadata": {},
   "outputs": [],
   "source": [
    "TrinidadX_train, TrinidadX_rest, Trinidady_train, Trinidady_rest = train_test_split(Trinidad_X, \n",
    "                                                                                    Trinidad_y, \n",
    "                                                                                    test_size=0.3, \n",
    "                                                                                    random_state=0, \n",
    "                                                                                    stratify=Trinidad_y)"
   ]
  },
  {
   "cell_type": "code",
   "execution_count": 13,
   "metadata": {},
   "outputs": [],
   "source": [
    "# Randomly choose 50% of the data for testing\n",
    "GuyanaX_val, GuyanaX_test, Guyanay_val, Guyanay_test = train_test_split(GuyanaX_rest, \n",
    "                                                                            Guyanay_rest, \n",
    "                                                                            test_size=0.5, \n",
    "                                                                            random_state=0, \n",
    "                                                                            stratify=Guyanay_rest)"
   ]
  },
  {
   "cell_type": "code",
   "execution_count": 14,
   "metadata": {},
   "outputs": [],
   "source": [
    "JamaicaX_val, JamaicaX_test, Jamaicay_val, Jamaicay_test = train_test_split(JamaicaX_rest, \n",
    "                                                                            Jamaicay_rest, \n",
    "                                                                            test_size=0.5, \n",
    "                                                                            random_state=0, \n",
    "                                                                            stratify=Jamaicay_rest)"
   ]
  },
  {
   "cell_type": "code",
   "execution_count": 15,
   "metadata": {},
   "outputs": [],
   "source": [
    "SurinameX_val, SurinameX_test, Surinamey_val, Surinamey_test = train_test_split(SurinameX_rest, \n",
    "                                                                            Surinamey_rest, \n",
    "                                                                            test_size=0.5, \n",
    "                                                                            random_state=0, \n",
    "                                                                            stratify=Surinamey_rest)"
   ]
  },
  {
   "cell_type": "code",
   "execution_count": 16,
   "metadata": {},
   "outputs": [],
   "source": [
    "TrinidadX_val, TrinidadX_test, Trinidady_val, Trinidady_test = train_test_split(TrinidadX_rest, \n",
    "                                                                            Trinidady_rest, \n",
    "                                                                            test_size=0.5, \n",
    "                                                                            random_state=0, \n",
    "                                                                            stratify=Trinidady_rest)"
   ]
  },
  {
   "cell_type": "code",
   "execution_count": 17,
   "metadata": {},
   "outputs": [],
   "source": [
    "X_train = pd.concat([GuyanaX_train, JamaicaX_train, SurinameX_train, TrinidadX_train])\n",
    "y_train = pd.concat([Guyanay_train, Jamaicay_train, Surinamey_train, Trinidady_train])\n",
    "#df_train = X_train.join(y_train)"
   ]
  },
  {
   "cell_type": "code",
   "execution_count": 18,
   "metadata": {},
   "outputs": [],
   "source": [
    "X_val = pd.concat([GuyanaX_val, JamaicaX_val, SurinameX_val, TrinidadX_val])\n",
    "y_val = pd.concat([Guyanay_val, Jamaicay_val, Surinamey_val, Trinidady_val])\n",
    "#df_val = X_val.join(y_val)"
   ]
  },
  {
   "cell_type": "code",
   "execution_count": 19,
   "metadata": {},
   "outputs": [],
   "source": [
    "X_test = pd.concat([GuyanaX_test, JamaicaX_test, SurinameX_test, TrinidadX_test])\n",
    "y_test = pd.concat([Guyanay_test, Jamaicay_test, Surinamey_test, Trinidady_test])\n",
    "#df_test = X_test.join(y_test)"
   ]
  },
  {
   "cell_type": "code",
   "execution_count": 20,
   "metadata": {},
   "outputs": [],
   "source": [
    "#(y_train==1).sum()/y_train.shape[0]"
   ]
  },
  {
   "cell_type": "code",
   "execution_count": 21,
   "metadata": {},
   "outputs": [],
   "source": [
    "#(y_val==1).sum()/y_val.shape[0]"
   ]
  },
  {
   "cell_type": "markdown",
   "metadata": {},
   "source": [
    "# Feature selection using chi2 and random forest"
   ]
  },
  {
   "cell_type": "code",
   "execution_count": 22,
   "metadata": {},
   "outputs": [],
   "source": [
    "from scipy.stats import chi2_contingency"
   ]
  },
  {
   "cell_type": "code",
   "execution_count": 23,
   "metadata": {},
   "outputs": [],
   "source": [
    "#var = []\n",
    "def chi2_sexphys(dfr_Xtrain, dfr_ytrain):\n",
    "    'Do a Chi2 test of independence and choose the significant dependence'\n",
    "    columns=dfr_Xtrain.columns.tolist()\n",
    "    \n",
    "    p_value = []\n",
    "    for column in columns:\n",
    "        observed = pd.crosstab(dfr_Xtrain[column], dfr_ytrain)\n",
    "        p_value.append(chi2_contingency(observed= observed)[1])\n",
    "\n",
    "    df = pd.DataFrame({\"variable\":columns, \n",
    "                           \"p_value\":p_value})\n",
    "    df2 = df[df.p_value <= 0.05]\n",
    "    df2 = df2.sort_values(by='p_value', ascending=True)\n",
    "    return df2"
   ]
  },
  {
   "cell_type": "code",
   "execution_count": 24,
   "metadata": {},
   "outputs": [],
   "source": [
    "All_sign=chi2_sexphys(X_train, y_train)\n",
    "#All_sign"
   ]
  },
  {
   "cell_type": "code",
   "execution_count": 25,
   "metadata": {},
   "outputs": [
    {
     "data": {
      "text/plain": [
       "(40, 2)"
      ]
     },
     "execution_count": 25,
     "metadata": {},
     "output_type": "execute_result"
    }
   ],
   "source": [
    "All_sign.shape"
   ]
  },
  {
   "cell_type": "code",
   "execution_count": 26,
   "metadata": {},
   "outputs": [
    {
     "data": {
      "text/html": [
       "<div>\n",
       "<style scoped>\n",
       "    .dataframe tbody tr th:only-of-type {\n",
       "        vertical-align: middle;\n",
       "    }\n",
       "\n",
       "    .dataframe tbody tr th {\n",
       "        vertical-align: top;\n",
       "    }\n",
       "\n",
       "    .dataframe thead th {\n",
       "        text-align: right;\n",
       "    }\n",
       "</style>\n",
       "<table border=\"1\" class=\"dataframe\">\n",
       "  <thead>\n",
       "    <tr style=\"text-align: right;\">\n",
       "      <th></th>\n",
       "      <th>emotvio</th>\n",
       "      <th>CONTROLNUM</th>\n",
       "      <th>Q702R</th>\n",
       "      <th>eQ703e</th>\n",
       "      <th>eQ703d</th>\n",
       "      <th>econviol</th>\n",
       "      <th>eQ703a</th>\n",
       "      <th>eQ703h</th>\n",
       "      <th>eQ703b</th>\n",
       "      <th>Q515R</th>\n",
       "      <th>...</th>\n",
       "      <th>sumdiffage</th>\n",
       "      <th>sQ601c</th>\n",
       "      <th>SourceIncome</th>\n",
       "      <th>tQ602d</th>\n",
       "      <th>sQ601d</th>\n",
       "      <th>sQ607e</th>\n",
       "      <th>justify</th>\n",
       "      <th>edresp</th>\n",
       "      <th>tQ602c</th>\n",
       "      <th>sQ607b</th>\n",
       "    </tr>\n",
       "  </thead>\n",
       "  <tbody>\n",
       "    <tr>\n",
       "      <th>995</th>\n",
       "      <td>0</td>\n",
       "      <td>0</td>\n",
       "      <td>2</td>\n",
       "      <td>0</td>\n",
       "      <td>0</td>\n",
       "      <td>0</td>\n",
       "      <td>0</td>\n",
       "      <td>0</td>\n",
       "      <td>0</td>\n",
       "      <td>0</td>\n",
       "      <td>...</td>\n",
       "      <td>2</td>\n",
       "      <td>1</td>\n",
       "      <td>5</td>\n",
       "      <td>1</td>\n",
       "      <td>1</td>\n",
       "      <td>0</td>\n",
       "      <td>0</td>\n",
       "      <td>1</td>\n",
       "      <td>0</td>\n",
       "      <td>0</td>\n",
       "    </tr>\n",
       "    <tr>\n",
       "      <th>962</th>\n",
       "      <td>0</td>\n",
       "      <td>0</td>\n",
       "      <td>2</td>\n",
       "      <td>0</td>\n",
       "      <td>0</td>\n",
       "      <td>0</td>\n",
       "      <td>0</td>\n",
       "      <td>0</td>\n",
       "      <td>0</td>\n",
       "      <td>0</td>\n",
       "      <td>...</td>\n",
       "      <td>3</td>\n",
       "      <td>1</td>\n",
       "      <td>4</td>\n",
       "      <td>1</td>\n",
       "      <td>1</td>\n",
       "      <td>1</td>\n",
       "      <td>1</td>\n",
       "      <td>2</td>\n",
       "      <td>0</td>\n",
       "      <td>1</td>\n",
       "    </tr>\n",
       "    <tr>\n",
       "      <th>998</th>\n",
       "      <td>0</td>\n",
       "      <td>0</td>\n",
       "      <td>1</td>\n",
       "      <td>0</td>\n",
       "      <td>0</td>\n",
       "      <td>0</td>\n",
       "      <td>0</td>\n",
       "      <td>0</td>\n",
       "      <td>0</td>\n",
       "      <td>0</td>\n",
       "      <td>...</td>\n",
       "      <td>4</td>\n",
       "      <td>1</td>\n",
       "      <td>4</td>\n",
       "      <td>0</td>\n",
       "      <td>0</td>\n",
       "      <td>0</td>\n",
       "      <td>0</td>\n",
       "      <td>1</td>\n",
       "      <td>0</td>\n",
       "      <td>0</td>\n",
       "    </tr>\n",
       "    <tr>\n",
       "      <th>639</th>\n",
       "      <td>0</td>\n",
       "      <td>1</td>\n",
       "      <td>1</td>\n",
       "      <td>0</td>\n",
       "      <td>0</td>\n",
       "      <td>0</td>\n",
       "      <td>0</td>\n",
       "      <td>0</td>\n",
       "      <td>0</td>\n",
       "      <td>1</td>\n",
       "      <td>...</td>\n",
       "      <td>2</td>\n",
       "      <td>0</td>\n",
       "      <td>5</td>\n",
       "      <td>0</td>\n",
       "      <td>0</td>\n",
       "      <td>0</td>\n",
       "      <td>1</td>\n",
       "      <td>2</td>\n",
       "      <td>0</td>\n",
       "      <td>1</td>\n",
       "    </tr>\n",
       "    <tr>\n",
       "      <th>932</th>\n",
       "      <td>0</td>\n",
       "      <td>0</td>\n",
       "      <td>2</td>\n",
       "      <td>0</td>\n",
       "      <td>0</td>\n",
       "      <td>0</td>\n",
       "      <td>0</td>\n",
       "      <td>0</td>\n",
       "      <td>0</td>\n",
       "      <td>0</td>\n",
       "      <td>...</td>\n",
       "      <td>1</td>\n",
       "      <td>0</td>\n",
       "      <td>5</td>\n",
       "      <td>0</td>\n",
       "      <td>0</td>\n",
       "      <td>0</td>\n",
       "      <td>0</td>\n",
       "      <td>2</td>\n",
       "      <td>0</td>\n",
       "      <td>0</td>\n",
       "    </tr>\n",
       "  </tbody>\n",
       "</table>\n",
       "<p>5 rows × 40 columns</p>\n",
       "</div>"
      ],
      "text/plain": [
       "     emotvio  CONTROLNUM  Q702R  eQ703e  eQ703d  econviol  eQ703a  eQ703h  \\\n",
       "995        0           0      2       0       0         0       0       0   \n",
       "962        0           0      2       0       0         0       0       0   \n",
       "998        0           0      1       0       0         0       0       0   \n",
       "639        0           1      1       0       0         0       0       0   \n",
       "932        0           0      2       0       0         0       0       0   \n",
       "\n",
       "     eQ703b  Q515R   ...    sumdiffage  sQ601c  SourceIncome  tQ602d  sQ601d  \\\n",
       "995       0      0   ...             2       1             5       1       1   \n",
       "962       0      0   ...             3       1             4       1       1   \n",
       "998       0      0   ...             4       1             4       0       0   \n",
       "639       0      1   ...             2       0             5       0       0   \n",
       "932       0      0   ...             1       0             5       0       0   \n",
       "\n",
       "     sQ607e  justify  edresp  tQ602c  sQ607b  \n",
       "995       0        0       1       0       0  \n",
       "962       1        1       2       0       1  \n",
       "998       0        0       1       0       0  \n",
       "639       0        1       2       0       1  \n",
       "932       0        0       2       0       0  \n",
       "\n",
       "[5 rows x 40 columns]"
      ]
     },
     "execution_count": 26,
     "metadata": {},
     "output_type": "execute_result"
    }
   ],
   "source": [
    "# Select only the significant variables \n",
    "#X_train_reduced = X_train[['country', 'EP3', 'edresp', 'SourceIncome', 'earlymarriage', 'Fam_support']]\n",
    "X_train_reduced = X_train[list(All_sign.variable)].copy()  #might need to create a function???\n",
    "X_train_reduced.head()"
   ]
  },
  {
   "cell_type": "code",
   "execution_count": 27,
   "metadata": {},
   "outputs": [
    {
     "data": {
      "text/plain": [
       "Index(['emotvio', 'CONTROLNUM', 'Q702R', 'eQ703e', 'eQ703d', 'econviol',\n",
       "       'eQ703a', 'eQ703h', 'eQ703b', 'Q515R', 'eQ703c', 'Q513R', 'mcv1006a',\n",
       "       'mcv1006', 'mcv1008', 'men_alcohol_all', 'mcv1006b', 'mcv1009',\n",
       "       'eQ703f', 'earlymarriage', 'rQ701d', 'eQ703g', 'Fam_support', 'Q516R',\n",
       "       'edpart', 'rQ701c', 'rQ701b', 'rQ701a', 'country', 'EP3', 'sumdiffage',\n",
       "       'sQ601c', 'SourceIncome', 'tQ602d', 'sQ601d', 'sQ607e', 'justify',\n",
       "       'edresp', 'tQ602c', 'sQ607b'],\n",
       "      dtype='object')"
      ]
     },
     "execution_count": 27,
     "metadata": {},
     "output_type": "execute_result"
    }
   ],
   "source": [
    "X_train_reduced.columns"
   ]
  },
  {
   "cell_type": "code",
   "execution_count": 28,
   "metadata": {},
   "outputs": [],
   "source": [
    "nominal_var = ['CONTROLNUM', \"Q702R\", \"earlymarriage\", 'edpart', 'country', 'EP3', 'sumdiffage', 'SourceIncome', 'edresp']\n",
    "for var in nominal_var:\n",
    "    X_train_reduced[var] = X_train_reduced[var].astype('category')"
   ]
  },
  {
   "cell_type": "code",
   "execution_count": 29,
   "metadata": {},
   "outputs": [],
   "source": [
    "#X_train_reduced.dtypes"
   ]
  },
  {
   "cell_type": "code",
   "execution_count": 30,
   "metadata": {},
   "outputs": [],
   "source": [
    "X_train_dummies = pd.get_dummies(X_train_reduced)"
   ]
  },
  {
   "cell_type": "code",
   "execution_count": 31,
   "metadata": {},
   "outputs": [
    {
     "data": {
      "text/plain": [
       "(3364, 64)"
      ]
     },
     "execution_count": 31,
     "metadata": {},
     "output_type": "execute_result"
    }
   ],
   "source": [
    "X_train_dummies.shape"
   ]
  },
  {
   "cell_type": "code",
   "execution_count": 32,
   "metadata": {},
   "outputs": [],
   "source": [
    "#chi2 test: all the features with the target variable\n",
    "from sklearn.feature_selection import chi2"
   ]
  },
  {
   "cell_type": "code",
   "execution_count": 33,
   "metadata": {},
   "outputs": [],
   "source": [
    "def chi2_selection(df_X, df_y):\n",
    "    \"To add commments\"\n",
    "    df_chi2 = chi2(df_X, df_y)\n",
    "\n",
    "    # Convert the chi2 tests into one-dimensional 1darray with corresponding df column names as axis labels\n",
    "    f_chi2 = pd.Series(df_chi2[1], df_X.columns)\n",
    "\n",
    "    # Sort the array in ascending order of the pvalues\n",
    "    f_chi2.sort_values(ascending=True, inplace=True)\n",
    "\n",
    "    # Select the significant features \n",
    "    sign_chi2 = f_chi2[f_chi2<=0.05]\n",
    "\n",
    "    print(sign_chi2.shape)\n",
    "    return sign_chi2"
   ]
  },
  {
   "cell_type": "code",
   "execution_count": 34,
   "metadata": {},
   "outputs": [
    {
     "name": "stdout",
     "output_type": "stream",
     "text": [
      "(48,)\n"
     ]
    }
   ],
   "source": [
    "result_chi2 = chi2_selection(X_train_dummies, y_train)"
   ]
  },
  {
   "cell_type": "code",
   "execution_count": 35,
   "metadata": {},
   "outputs": [],
   "source": [
    "cols = list(result_chi2.keys())"
   ]
  },
  {
   "cell_type": "code",
   "execution_count": 36,
   "metadata": {},
   "outputs": [],
   "source": [
    "cols.sort()"
   ]
  },
  {
   "cell_type": "code",
   "execution_count": 37,
   "metadata": {},
   "outputs": [
    {
     "name": "stdout",
     "output_type": "stream",
     "text": [
      "['CONTROLNUM_0', 'CONTROLNUM_1', 'CONTROLNUM_2', 'CONTROLNUM_3', 'EP3_1', 'EP3_4', 'Fam_support', 'Q513R', 'Q515R', 'Q516R', 'Q702R_1', 'Q702R_2', 'Q702R_3', 'SourceIncome_2', 'SourceIncome_3', 'country_1', 'country_2', 'eQ703a', 'eQ703b', 'eQ703c', 'eQ703d', 'eQ703e', 'eQ703f', 'eQ703g', 'eQ703h', 'earlymarriage_0', 'earlymarriage_1', 'econviol', 'edpart_1', 'edpart_3', 'edresp_1', 'emotvio', 'justify', 'mcv1006', 'mcv1006a', 'mcv1006b', 'mcv1008', 'mcv1009', 'men_alcohol_all', 'rQ701a', 'rQ701b', 'rQ701c', 'rQ701d', 'sQ601c', 'sQ607e', 'sumdiffage_1', 'tQ602c', 'tQ602d']\n"
     ]
    }
   ],
   "source": [
    "print(cols)"
   ]
  },
  {
   "cell_type": "code",
   "execution_count": 38,
   "metadata": {},
   "outputs": [
    {
     "data": {
      "text/plain": [
       "emotvio            1.501549e-152\n",
       "Q702R_3             2.647337e-55\n",
       "CONTROLNUM_3        2.107511e-51\n",
       "eQ703e              4.287350e-51\n",
       "econviol            5.698229e-40\n",
       "eQ703a              7.079205e-40\n",
       "eQ703d              2.026741e-38\n",
       "eQ703b              1.221939e-32\n",
       "eQ703h              1.115893e-30\n",
       "Q515R               1.326630e-26\n",
       "Q513R               3.665136e-24\n",
       "CONTROLNUM_0        4.681157e-24\n",
       "eQ703c              1.154866e-22\n",
       "Q702R_1             6.730217e-20\n",
       "mcv1006a            2.005994e-19\n",
       "mcv1008             2.347623e-19\n",
       "mcv1006             5.061553e-18\n",
       "men_alcohol_all     1.241659e-16\n",
       "mcv1006b            2.765351e-16\n",
       "eQ703f              6.857886e-15\n",
       "mcv1009             1.203003e-14\n",
       "earlymarriage_1     5.980072e-10\n",
       "eQ703g              6.018818e-09\n",
       "Q516R               3.302561e-08\n",
       "CONTROLNUM_2        5.907214e-06\n",
       "edpart_1            1.520643e-05\n",
       "sumdiffage_1        6.147895e-05\n",
       "edpart_3            9.723934e-05\n",
       "EP3_1               8.945812e-04\n",
       "SourceIncome_3      1.218161e-03\n",
       "country_1           1.276647e-03\n",
       "earlymarriage_0     1.398548e-03\n",
       "CONTROLNUM_1        1.521676e-03\n",
       "tQ602d              1.534640e-03\n",
       "SourceIncome_2      2.236767e-03\n",
       "rQ701d              4.350275e-03\n",
       "country_2           4.548791e-03\n",
       "sQ607e              8.468170e-03\n",
       "EP3_4               1.045391e-02\n",
       "Fam_support         1.313037e-02\n",
       "justify             1.855010e-02\n",
       "tQ602c              2.515417e-02\n",
       "edresp_1            3.362393e-02\n",
       "Q702R_2             3.924626e-02\n",
       "rQ701c              3.967475e-02\n",
       "rQ701b              4.659062e-02\n",
       "sQ601c              4.743616e-02\n",
       "rQ701a              4.926746e-02\n",
       "dtype: float64"
      ]
     },
     "execution_count": 38,
     "metadata": {},
     "output_type": "execute_result"
    }
   ],
   "source": [
    "result_chi2"
   ]
  },
  {
   "cell_type": "code",
   "execution_count": 39,
   "metadata": {},
   "outputs": [],
   "source": [
    "cols.remove('CONTROLNUM_1')\n",
    "cols.remove('Q702R_2')"
   ]
  },
  {
   "cell_type": "code",
   "execution_count": 40,
   "metadata": {},
   "outputs": [
    {
     "data": {
      "text/plain": [
       "'CONTROLNUM_0 + CONTROLNUM_2 + CONTROLNUM_3 + EP3_1 + EP3_4 + Fam_support + Q513R + Q515R + Q516R + Q702R_1 + Q702R_3 + SourceIncome_2 + SourceIncome_3 + country_1 + country_2 + eQ703a + eQ703b + eQ703c + eQ703d + eQ703e + eQ703f + eQ703g + eQ703h + earlymarriage_0 + earlymarriage_1 + econviol + edpart_1 + edpart_3 + edresp_1 + emotvio + justify + mcv1006 + mcv1006a + mcv1006b + mcv1008 + mcv1009 + men_alcohol_all + rQ701a + rQ701b + rQ701c + rQ701d + sQ601c + sQ607e + sumdiffage_1 + tQ602c + tQ602d'"
      ]
     },
     "execution_count": 40,
     "metadata": {},
     "output_type": "execute_result"
    }
   ],
   "source": [
    "' + '.join(cols)"
   ]
  },
  {
   "cell_type": "code",
   "execution_count": 41,
   "metadata": {},
   "outputs": [],
   "source": [
    "import statsmodels.api as sm"
   ]
  },
  {
   "cell_type": "code",
   "execution_count": null,
   "metadata": {},
   "outputs": [],
   "source": []
  },
  {
   "cell_type": "code",
   "execution_count": 42,
   "metadata": {},
   "outputs": [
    {
     "name": "stdout",
     "output_type": "stream",
     "text": [
      "               Results: Generalized linear model\n",
      "================================================================\n",
      "Model:              GLM              AIC:            2969.4183  \n",
      "Link Function:      logit            BIC:            -24061.5606\n",
      "Dependent Variable: sexphys          Log-Likelihood: -1437.7    \n",
      "Date:               2019-03-11 14:21 LL-Null:        -2132.6    \n",
      "No. Observations:   3364             Deviance:       2875.4     \n",
      "Df Model:           46               Pearson chi2:   3.21e+03   \n",
      "Df Residuals:       3317             Scale:          1.0000     \n",
      "Method:             IRLS                                        \n",
      "----------------------------------------------------------------\n",
      "                  Coef.  Std.Err.    z    P>|z|   [0.025  0.975]\n",
      "----------------------------------------------------------------\n",
      "Intercept        -2.0685   0.2886 -7.1666 0.0000 -2.6343 -1.5028\n",
      "CONTROLNUM_0     -0.0377   0.1673 -0.2256 0.8215 -0.3655  0.2901\n",
      "CONTROLNUM_2     -0.0331   0.1865 -0.1776 0.8590 -0.3987  0.3325\n",
      "CONTROLNUM_3      0.1913   0.2754  0.6946 0.4873 -0.3485  0.7311\n",
      "EP3_1            -0.2172   0.1382 -1.5717 0.1160 -0.4881  0.0537\n",
      "EP3_4            -0.2930   0.1360 -2.1538 0.0313 -0.5596 -0.0264\n",
      "Fam_support      -0.4194   0.1240 -3.3815 0.0007 -0.6625 -0.1763\n",
      "Q513R             0.3827   0.1622  2.3596 0.0183  0.0648  0.7006\n",
      "Q515R             0.2911   0.1353  2.1513 0.0315  0.0259  0.5563\n",
      "Q516R            -0.0825   0.2005 -0.4115 0.6807 -0.4754  0.3104\n",
      "Q702R_1          -0.1914   0.1063 -1.8002 0.0718 -0.3998  0.0170\n",
      "Q702R_3           0.5450   0.1575  3.4611 0.0005  0.2364  0.8536\n",
      "SourceIncome_2    0.0194   0.1180  0.1644 0.8694 -0.2119  0.2507\n",
      "SourceIncome_3   -0.2129   0.1241 -1.7155 0.0863 -0.4562  0.0303\n",
      "country_1         0.0562   0.1265  0.4443 0.6568 -0.1917  0.3041\n",
      "country_2        -0.0460   0.1566 -0.2936 0.7691 -0.3529  0.2610\n",
      "eQ703a            0.0601   0.2009  0.2991 0.7649 -0.3337  0.4539\n",
      "eQ703b            0.0810   0.2258  0.3587 0.7198 -0.3616  0.5236\n",
      "eQ703c            0.0588   0.1499  0.3919 0.6951 -0.2351  0.3526\n",
      "eQ703d            0.2183   0.1616  1.3512 0.1766 -0.0983  0.5349\n",
      "eQ703e            0.1408   0.1569  0.8974 0.3695 -0.1667  0.4483\n",
      "eQ703f            0.0401   0.1933  0.2073 0.8358 -0.3387  0.4189\n",
      "eQ703g            0.0019   0.1494  0.0124 0.9901 -0.2910  0.2947\n",
      "eQ703h            0.2750   0.1650  1.6673 0.0954 -0.0483  0.5983\n",
      "earlymarriage_0   0.1472   0.1464  1.0057 0.3146 -0.1397  0.4341\n",
      "earlymarriage_1   0.4276   0.1680  2.5445 0.0109  0.0982  0.7570\n",
      "econviol          0.2901   0.1364  2.1264 0.0335  0.0227  0.5575\n",
      "edpart_1          0.2379   0.1127  2.1105 0.0348  0.0170  0.4588\n",
      "edpart_3         -0.2505   0.1481 -1.6913 0.0908 -0.5408  0.0398\n",
      "edresp_1         -0.0133   0.1308 -0.1014 0.9192 -0.2697  0.2431\n",
      "emotvio           2.1904   0.0996 21.9895 0.0000  1.9951  2.3856\n",
      "justify           0.0064   0.1467  0.0439 0.9650 -0.2811  0.2940\n",
      "mcv1006           0.4547   0.1093  4.1596 0.0000  0.2405  0.6690\n",
      "mcv1006a          0.2191   0.1326  1.6527 0.0984 -0.0407  0.4789\n",
      "mcv1006b          0.0558   0.1261  0.4424 0.6582 -0.1913  0.3028\n",
      "mcv1008           0.4632   0.1543  3.0015 0.0027  0.1607  0.7656\n",
      "mcv1009           0.1499   0.1344  1.1152 0.2647 -0.1135  0.4133\n",
      "men_alcohol_all   0.1453   0.1131  1.2849 0.1988 -0.0764  0.3671\n",
      "rQ701a            0.3436   0.2296  1.4963 0.1346 -0.1065  0.7937\n",
      "rQ701b           -0.2910   0.2442 -1.1915 0.2334 -0.7698  0.1877\n",
      "rQ701c            0.0269   0.2126  0.1264 0.8994 -0.3898  0.4435\n",
      "rQ701d           -0.1965   0.2021 -0.9726 0.3308 -0.5926  0.1995\n",
      "sQ601c            0.1643   0.1114  1.4743 0.1404 -0.0541  0.3827\n",
      "sQ607e            0.2507   0.3384  0.7408 0.4588 -0.4126  0.9140\n",
      "sumdiffage_1      0.4045   0.1315  3.0753 0.0021  0.1467  0.6622\n",
      "tQ602c            0.1497   0.1555  0.9628 0.3357 -0.1550  0.4544\n",
      "tQ602d            0.0800   0.1302  0.6139 0.5393 -0.1753  0.3352\n",
      "================================================================\n",
      "\n"
     ]
    }
   ],
   "source": [
    "model = sm.formula.glm(formula='''sexphys ~ CONTROLNUM_0 + CONTROLNUM_2 + CONTROLNUM_3 + EP3_1 + EP3_4 + Fam_support + \n",
    "                                    Q513R + Q515R + Q516R + Q702R_1 + Q702R_3 + SourceIncome_2 + SourceIncome_3 + \n",
    "                                    country_1 + country_2 + eQ703a + eQ703b + eQ703c + eQ703d + eQ703e + eQ703f + \n",
    "                                    eQ703g + eQ703h + earlymarriage_0 + earlymarriage_1 + econviol + edpart_1 + edpart_3 + \n",
    "                                    edresp_1 + emotvio + justify + mcv1006 + mcv1006a + mcv1006b + mcv1008 + mcv1009 + \n",
    "                                    men_alcohol_all + rQ701a + rQ701b + rQ701c + rQ701d + sQ601c + sQ607e + sumdiffage_1 + \n",
    "                                    tQ602c + tQ602d''',\n",
    "                       family=sm.families.Binomial(), data=X_train_dummies[cols].join(y_train)).fit()\n",
    "print(model.summary2())"
   ]
  },
  {
   "cell_type": "code",
   "execution_count": 43,
   "metadata": {},
   "outputs": [
    {
     "name": "stdout",
     "output_type": "stream",
     "text": [
      "               Results: Generalized linear model\n",
      "================================================================\n",
      "Model:              GLM              AIC:            2979.6382  \n",
      "Link Function:      logit            BIC:            -24259.4508\n",
      "Dependent Variable: sexphys          Log-Likelihood: -1476.8    \n",
      "Date:               2019-03-11 14:21 LL-Null:        -2132.6    \n",
      "No. Observations:   3364             Deviance:       2953.6     \n",
      "Df Model:           12               Pearson chi2:   3.30e+03   \n",
      "Df Residuals:       3351             Scale:          1.0000     \n",
      "Method:             IRLS                                        \n",
      "----------------------------------------------------------------\n",
      "                 Coef.  Std.Err.    z     P>|z|   [0.025  0.975]\n",
      "----------------------------------------------------------------\n",
      "Intercept       -2.1439   0.1334 -16.0679 0.0000 -2.4054 -1.8824\n",
      "EP3_4           -0.1643   0.1147  -1.4321 0.1521 -0.3891  0.0605\n",
      "Fam_support     -0.4301   0.1190  -3.6147 0.0003 -0.6634 -0.1969\n",
      "Q513R            0.4741   0.1565   3.0298 0.0024  0.1674  0.7808\n",
      "Q515R            0.3859   0.1111   3.4729 0.0005  0.1681  0.6037\n",
      "Q702R_3          0.8208   0.1394   5.8871 0.0000  0.5475  1.0940\n",
      "earlymarriage_1  0.3788   0.1170   3.2372 0.0012  0.1495  0.6082\n",
      "econviol         0.5279   0.1280   4.1248 0.0000  0.2771  0.7788\n",
      "edpart_1         0.3244   0.0992   3.2703 0.0011  0.1300  0.5188\n",
      "emotvio          2.3369   0.0943  24.7739 0.0000  2.1520  2.5217\n",
      "mcv1006          0.5277   0.1045   5.0502 0.0000  0.3229  0.7324\n",
      "mcv1008          0.5390   0.1467   3.6756 0.0002  0.2516  0.8265\n",
      "sumdiffage_1     0.3999   0.1287   3.1083 0.0019  0.1477  0.6521\n",
      "================================================================\n",
      "\n"
     ]
    }
   ],
   "source": [
    "model2 = sm.formula.glm(formula='''sexphys ~ EP3_4 + Fam_support + \n",
    "                                    Q513R + Q515R + Q702R_3 + earlymarriage_1 + econviol + edpart_1 + \n",
    "                                    emotvio + mcv1006 + mcv1008 + sumdiffage_1''',\n",
    "                       family=sm.families.Binomial(), data=X_train_dummies[cols].join(y_train)).fit()\n",
    "print(model2.summary2())"
   ]
  },
  {
   "cell_type": "code",
   "execution_count": 44,
   "metadata": {},
   "outputs": [
    {
     "name": "stdout",
     "output_type": "stream",
     "text": [
      "               Results: Generalized linear model\n",
      "================================================================\n",
      "Model:              GLM              AIC:            2979.7043  \n",
      "Link Function:      logit            BIC:            -24265.5057\n",
      "Dependent Variable: sexphys          Log-Likelihood: -1477.9    \n",
      "Date:               2019-03-11 14:21 LL-Null:        -2132.6    \n",
      "No. Observations:   3364             Deviance:       2955.7     \n",
      "Df Model:           11               Pearson chi2:   3.30e+03   \n",
      "Df Residuals:       3352             Scale:          1.0000     \n",
      "Method:             IRLS                                        \n",
      "----------------------------------------------------------------\n",
      "                 Coef.  Std.Err.    z     P>|z|   [0.025  0.975]\n",
      "----------------------------------------------------------------\n",
      "Intercept       -2.1662   0.1325 -16.3437 0.0000 -2.4260 -1.9065\n",
      "Fam_support     -0.4322   0.1189  -3.6358 0.0003 -0.6651 -0.1992\n",
      "Q513R            0.4774   0.1566   3.0488 0.0023  0.1705  0.7844\n",
      "Q515R            0.3609   0.1096   3.2920 0.0010  0.1460  0.5758\n",
      "Q702R_3          0.7986   0.1385   5.7649 0.0000  0.5271  1.0701\n",
      "earlymarriage_1  0.3896   0.1168   3.3354 0.0009  0.1607  0.6186\n",
      "econviol         0.5122   0.1276   4.0125 0.0001  0.2620  0.7623\n",
      "edpart_1         0.3131   0.0988   3.1687 0.0015  0.1194  0.5067\n",
      "emotvio          2.3352   0.0943  24.7738 0.0000  2.1505  2.5200\n",
      "mcv1006          0.5318   0.1045   5.0909 0.0000  0.3270  0.7365\n",
      "mcv1008          0.5487   0.1465   3.7451 0.0002  0.2616  0.8359\n",
      "sumdiffage_1     0.3868   0.1281   3.0187 0.0025  0.1357  0.6380\n",
      "================================================================\n",
      "\n"
     ]
    }
   ],
   "source": [
    "model3 = sm.formula.glm(formula='''sexphys ~ Fam_support + \n",
    "                                    Q513R + Q515R + Q702R_3 + earlymarriage_1 + econviol + edpart_1 + \n",
    "                                    emotvio + mcv1006 + mcv1008 + sumdiffage_1''',\n",
    "                       family=sm.families.Binomial(), data=X_train_dummies[cols].join(y_train)).fit()\n",
    "print(model3.summary2())"
   ]
  },
  {
   "cell_type": "markdown",
   "metadata": {},
   "source": [
    "modelv = sm.formula.glm(formula='''sexphys ~ Fam_support + \n",
    "                                    Q513R + Q515R + Q702R_3 + earlymarriage_1 + econviol + edpart_1 + \n",
    "                                    emotvio + mcv1006 + mcv1008 + sumdiffage_1 + country_1 + country_2''',\n",
    "                       family=sm.families.Binomial(), data=X_train_dummies[cols].join(y_train)).fit()\n",
    "print(modelv.summary2())"
   ]
  },
  {
   "cell_type": "code",
   "execution_count": 345,
   "metadata": {},
   "outputs": [],
   "source": [
    "#from rpy2.robjects.packages import importr"
   ]
  },
  {
   "cell_type": "code",
   "execution_count": null,
   "metadata": {},
   "outputs": [],
   "source": []
  },
  {
   "cell_type": "code",
   "execution_count": 339,
   "metadata": {},
   "outputs": [],
   "source": [
    "#model3.predict(X_val_dummies[cols3])<=0.5"
   ]
  },
  {
   "cell_type": "code",
   "execution_count": 45,
   "metadata": {},
   "outputs": [],
   "source": [
    "cols3=['Fam_support', 'Q513R', 'Q515R', 'Q702R_3', 'earlymarriage_1', 'econviol', 'edpart_1',\n",
    "       'emotvio', 'mcv1006', 'mcv1008', 'sumdiffage_1']"
   ]
  },
  {
   "cell_type": "raw",
   "metadata": {},
   "source": [
    "Random Forest\n",
    "emotvio            0.153845\n",
    "CONTROLNUM_3       0.032194\n",
    "Q702R_3            0.032166\n",
    "econviol           0.025307\n",
    "eQ703d             0.023212\n",
    "Q702R_1            0.022939\n",
    "mcv1006            0.019975"
   ]
  },
  {
   "cell_type": "code",
   "execution_count": 46,
   "metadata": {},
   "outputs": [],
   "source": [
    "# Define a gridsearch function to tune hyperparameters \n",
    "\n",
    "from sklearn.model_selection import GridSearchCV\n",
    "from sklearn.preprocessing import StandardScaler\n",
    "#from sklearn.decomposition import PCA\n",
    "from sklearn.linear_model import LogisticRegression\n",
    "from sklearn.pipeline import Pipeline\n",
    "from sklearn.pipeline import make_pipeline\n",
    "\n",
    "\n",
    "def grid_logistic ():\n",
    "    \n",
    "    pipe_lr = make_pipeline(#StandardScaler(),\n",
    "                       LogisticRegression(random_state=1, max_iter=300, class_weight={0:0.32966706302021404, 1:0.6703329369797859})) #tol=to be tested\n",
    "     \n",
    "    param_range = np.power(10.0, np.arange(-3, 3))\n",
    "    param_grid = [{'logisticregression__C': param_range, 'logisticregression__solver':['liblinear']}, \n",
    "                  {'logisticregression__C': param_range, 'logisticregression__solver':['sag']}, \n",
    "                  {'logisticregression__C': param_range, 'logisticregression__solver':['saga']}]\n",
    "\n",
    "    gs_lr = GridSearchCV(estimator = pipe_lr,\n",
    "                        param_grid = param_grid, \n",
    "                        scoring = 'accuracy', \n",
    "                        cv=10)\n",
    "    return gs_lr"
   ]
  },
  {
   "cell_type": "code",
   "execution_count": 47,
   "metadata": {},
   "outputs": [
    {
     "data": {
      "text/plain": [
       "GridSearchCV(cv=10, error_score='raise',\n",
       "       estimator=Pipeline(memory=None,\n",
       "     steps=[('logisticregression', LogisticRegression(C=1.0,\n",
       "          class_weight={0: 0.32966706302021404, 1: 0.6703329369797859},\n",
       "          dual=False, fit_intercept=True, intercept_scaling=1,\n",
       "          max_iter=300, multi_class='ovr', n_jobs=1, penalty='l2',\n",
       "          random_state=1, solver='liblinear', tol=0.0001, verbose=0,\n",
       "          warm_start=False))]),\n",
       "       fit_params=None, iid=True, n_jobs=1,\n",
       "       param_grid=[{'logisticregression__C': array([1.e-03, 1.e-02, 1.e-01, 1.e+00, 1.e+01, 1.e+02]), 'logisticregression__solver': ['liblinear']}, {'logisticregression__C': array([1.e-03, 1.e-02, 1.e-01, 1.e+00, 1.e+01, 1.e+02]), 'logisticregression__solver': ['sag']}, {'logisticregression__C': array([1.e-03, 1.e-02, 1.e-01, 1.e+00, 1.e+01, 1.e+02]), 'logisticregression__solver': ['saga']}],\n",
       "       pre_dispatch='2*n_jobs', refit=True, return_train_score='warn',\n",
       "       scoring='accuracy', verbose=0)"
      ]
     },
     "execution_count": 47,
     "metadata": {},
     "output_type": "execute_result"
    }
   ],
   "source": [
    "#fit the gridsearch on all the datasets\n",
    "g1 = grid_logistic()\n",
    "g1.fit(X_train_dummies[cols3], y_train)"
   ]
  },
  {
   "cell_type": "code",
   "execution_count": 48,
   "metadata": {},
   "outputs": [
    {
     "name": "stdout",
     "output_type": "stream",
     "text": [
      "0.8014268727705113\n",
      "{'logisticregression__C': 0.1, 'logisticregression__solver': 'sag'}\n"
     ]
    }
   ],
   "source": [
    "# find the best score and the best parameters \n",
    "print(g1.best_score_)\n",
    "print(g1.best_params_)"
   ]
  },
  {
   "cell_type": "code",
   "execution_count": 49,
   "metadata": {},
   "outputs": [],
   "source": [
    "#define a learning curve function\n",
    "\n",
    "from sklearn.model_selection import learning_curve\n",
    "\n",
    "def l_curve(estimator, df_train, title):\n",
    "    train_sizes, train_scores, test_scores =\\\n",
    "                    learning_curve(estimator=estimator,\n",
    "                                   X=df_train,\n",
    "                                   y=y_train,\n",
    "                                   train_sizes=np.linspace(0.1, 1.0, 10),\n",
    "                                   cv=10,\n",
    "                                   n_jobs=1)\n",
    "\n",
    "    train_mean = np.mean(train_scores, axis=1)\n",
    "    train_std = np.std(train_scores, axis=1)\n",
    "    test_mean = np.mean(test_scores, axis=1)\n",
    "    test_std = np.std(test_scores, axis=1)\n",
    "\n",
    "    plt.plot(train_sizes, train_mean,\n",
    "             color='blue', marker='o',\n",
    "             markersize=5, label='training accuracy')\n",
    "\n",
    "    plt.fill_between(train_sizes,\n",
    "                     train_mean + train_std,\n",
    "                     train_mean - train_std,\n",
    "                     alpha=0.15, color='blue')\n",
    "\n",
    "    plt.plot(train_sizes, test_mean,\n",
    "             color='green', linestyle='--',\n",
    "             marker='s', markersize=5,\n",
    "             label='validation accuracy')\n",
    "\n",
    "    plt.fill_between(train_sizes,\n",
    "                     test_mean + test_std,\n",
    "                     test_mean - test_std,\n",
    "                     alpha=0.15, color='green')\n",
    "\n",
    "    plt.grid()\n",
    "    plt.xlabel('Number of training samples')\n",
    "    plt.ylabel('Accuracy')\n",
    "    plt.legend(loc='lower right')\n",
    "    plt.ylim([0.5, 1.03])\n",
    "    plt.tight_layout()\n",
    "    plt.title(title)\n",
    "    plt.show()"
   ]
  },
  {
   "cell_type": "code",
   "execution_count": 50,
   "metadata": {},
   "outputs": [
    {
     "data": {
      "image/png": "[encoded data removed]",
      "text/plain": [
       "<Figure size 432x288 with 1 Axes>"
      ]
     },
     "metadata": {},
     "output_type": "display_data"
    }
   ],
   "source": [
    "l_curve(g1.best_estimator_, X_train_dummies[cols3], \"Learning Curve for Logistic Regression, set 1\")"
   ]
  },
  {
   "cell_type": "code",
   "execution_count": 51,
   "metadata": {},
   "outputs": [],
   "source": [
    "#Define a function to create the confusion matrix\n",
    "\n",
    "from sklearn.metrics import confusion_matrix\n",
    "\n",
    "def conf_mat (estimator, np_train, np_test, title):\n",
    "    clf = estimator\n",
    "    clf.fit(np_train, y_train)\n",
    "    y_pred = clf.predict(np_test)\n",
    "    confmat = confusion_matrix(y_true=y_val, y_pred=y_pred)\n",
    "\n",
    "    fig, ax = plt.subplots(figsize=(5, 5))\n",
    "    ax.matshow(confmat, cmap=plt.cm.Blues, alpha=0.3)\n",
    "    for i in range(confmat.shape[0]):\n",
    "        for j in range(confmat.shape[1]):\n",
    "            ax.text(x=j, y=i,\n",
    "            s=confmat[i, j],\n",
    "            va='center', ha='center')\n",
    "    plt.xlabel('predicted label')\n",
    "    plt.ylabel('true label')\n",
    "    plt.title(title)\n",
    "    plt.show()"
   ]
  },
  {
   "cell_type": "code",
   "execution_count": 52,
   "metadata": {},
   "outputs": [],
   "source": [
    "# Create a function to calculate the scores\n",
    "\n",
    "from sklearn.metrics import precision_score\n",
    "from sklearn.metrics import recall_score, f1_score\n",
    "from sklearn.metrics import roc_curve\n",
    "from sklearn.metrics import roc_auc_score\n",
    "\n",
    "def different_scores (estimator, np_train, np_test, title):\n",
    "    \n",
    "    #instantiate the classifier and do predictions\n",
    "    clf = estimator\n",
    "    clf.fit(np_train, y_train)\n",
    "    y_pred = clf.predict(np_test)\n",
    "\n",
    "    #print the different scores \n",
    "    print('Precision: %.3f' % precision_score(\n",
    "    y_true=y_val, y_pred=y_pred))\n",
    "    print('Recall: %.3f' % recall_score(\n",
    "    y_true=y_val, y_pred=y_pred))\n",
    "    print('F1: %.3f' % f1_score(\n",
    "    y_true=y_val, y_pred=y_pred))\n",
    "    \n",
    "    #create the AUC \n",
    "    fpr, tpr, _ = roc_curve(y_val,  y_pred)\n",
    "    auc = roc_auc_score(y_val, y_pred)\n",
    "    plt.plot(fpr,tpr,label=\"auc=\"+str(auc))\n",
    "    plt.legend(loc=4)\n",
    "    plt.title(title)\n",
    "    plt.show()\n"
   ]
  },
  {
   "cell_type": "code",
   "execution_count": 53,
   "metadata": {},
   "outputs": [
    {
     "data": {
      "text/html": [
       "<div>\n",
       "<style scoped>\n",
       "    .dataframe tbody tr th:only-of-type {\n",
       "        vertical-align: middle;\n",
       "    }\n",
       "\n",
       "    .dataframe tbody tr th {\n",
       "        vertical-align: top;\n",
       "    }\n",
       "\n",
       "    .dataframe thead th {\n",
       "        text-align: right;\n",
       "    }\n",
       "</style>\n",
       "<table border=\"1\" class=\"dataframe\">\n",
       "  <thead>\n",
       "    <tr style=\"text-align: right;\">\n",
       "      <th></th>\n",
       "      <th>emotvio</th>\n",
       "      <th>CONTROLNUM</th>\n",
       "      <th>Q702R</th>\n",
       "      <th>eQ703e</th>\n",
       "      <th>eQ703d</th>\n",
       "      <th>econviol</th>\n",
       "      <th>eQ703a</th>\n",
       "      <th>eQ703h</th>\n",
       "      <th>eQ703b</th>\n",
       "      <th>Q515R</th>\n",
       "      <th>...</th>\n",
       "      <th>sumdiffage</th>\n",
       "      <th>sQ601c</th>\n",
       "      <th>SourceIncome</th>\n",
       "      <th>tQ602d</th>\n",
       "      <th>sQ601d</th>\n",
       "      <th>sQ607e</th>\n",
       "      <th>justify</th>\n",
       "      <th>edresp</th>\n",
       "      <th>tQ602c</th>\n",
       "      <th>sQ607b</th>\n",
       "    </tr>\n",
       "  </thead>\n",
       "  <tbody>\n",
       "    <tr>\n",
       "      <th>917</th>\n",
       "      <td>1</td>\n",
       "      <td>1</td>\n",
       "      <td>1</td>\n",
       "      <td>0</td>\n",
       "      <td>0</td>\n",
       "      <td>0</td>\n",
       "      <td>0</td>\n",
       "      <td>0</td>\n",
       "      <td>0</td>\n",
       "      <td>1</td>\n",
       "      <td>...</td>\n",
       "      <td>1</td>\n",
       "      <td>1</td>\n",
       "      <td>3</td>\n",
       "      <td>0</td>\n",
       "      <td>1</td>\n",
       "      <td>0</td>\n",
       "      <td>0</td>\n",
       "      <td>3</td>\n",
       "      <td>0</td>\n",
       "      <td>0</td>\n",
       "    </tr>\n",
       "    <tr>\n",
       "      <th>836</th>\n",
       "      <td>1</td>\n",
       "      <td>2</td>\n",
       "      <td>3</td>\n",
       "      <td>0</td>\n",
       "      <td>0</td>\n",
       "      <td>1</td>\n",
       "      <td>1</td>\n",
       "      <td>0</td>\n",
       "      <td>1</td>\n",
       "      <td>1</td>\n",
       "      <td>...</td>\n",
       "      <td>2</td>\n",
       "      <td>1</td>\n",
       "      <td>2</td>\n",
       "      <td>0</td>\n",
       "      <td>1</td>\n",
       "      <td>0</td>\n",
       "      <td>0</td>\n",
       "      <td>1</td>\n",
       "      <td>0</td>\n",
       "      <td>0</td>\n",
       "    </tr>\n",
       "    <tr>\n",
       "      <th>463</th>\n",
       "      <td>0</td>\n",
       "      <td>0</td>\n",
       "      <td>2</td>\n",
       "      <td>0</td>\n",
       "      <td>0</td>\n",
       "      <td>0</td>\n",
       "      <td>0</td>\n",
       "      <td>0</td>\n",
       "      <td>0</td>\n",
       "      <td>0</td>\n",
       "      <td>...</td>\n",
       "      <td>1</td>\n",
       "      <td>1</td>\n",
       "      <td>4</td>\n",
       "      <td>1</td>\n",
       "      <td>1</td>\n",
       "      <td>0</td>\n",
       "      <td>0</td>\n",
       "      <td>1</td>\n",
       "      <td>1</td>\n",
       "      <td>0</td>\n",
       "    </tr>\n",
       "    <tr>\n",
       "      <th>200</th>\n",
       "      <td>0</td>\n",
       "      <td>1</td>\n",
       "      <td>1</td>\n",
       "      <td>0</td>\n",
       "      <td>0</td>\n",
       "      <td>0</td>\n",
       "      <td>0</td>\n",
       "      <td>0</td>\n",
       "      <td>0</td>\n",
       "      <td>0</td>\n",
       "      <td>...</td>\n",
       "      <td>2</td>\n",
       "      <td>1</td>\n",
       "      <td>4</td>\n",
       "      <td>0</td>\n",
       "      <td>1</td>\n",
       "      <td>0</td>\n",
       "      <td>0</td>\n",
       "      <td>2</td>\n",
       "      <td>0</td>\n",
       "      <td>0</td>\n",
       "    </tr>\n",
       "    <tr>\n",
       "      <th>535</th>\n",
       "      <td>0</td>\n",
       "      <td>0</td>\n",
       "      <td>2</td>\n",
       "      <td>0</td>\n",
       "      <td>0</td>\n",
       "      <td>0</td>\n",
       "      <td>0</td>\n",
       "      <td>0</td>\n",
       "      <td>0</td>\n",
       "      <td>1</td>\n",
       "      <td>...</td>\n",
       "      <td>1</td>\n",
       "      <td>1</td>\n",
       "      <td>2</td>\n",
       "      <td>0</td>\n",
       "      <td>1</td>\n",
       "      <td>0</td>\n",
       "      <td>0</td>\n",
       "      <td>3</td>\n",
       "      <td>0</td>\n",
       "      <td>0</td>\n",
       "    </tr>\n",
       "  </tbody>\n",
       "</table>\n",
       "<p>5 rows × 40 columns</p>\n",
       "</div>"
      ],
      "text/plain": [
       "     emotvio  CONTROLNUM  Q702R  eQ703e  eQ703d  econviol  eQ703a  eQ703h  \\\n",
       "917        1           1      1       0       0         0       0       0   \n",
       "836        1           2      3       0       0         1       1       0   \n",
       "463        0           0      2       0       0         0       0       0   \n",
       "200        0           1      1       0       0         0       0       0   \n",
       "535        0           0      2       0       0         0       0       0   \n",
       "\n",
       "     eQ703b  Q515R   ...    sumdiffage  sQ601c  SourceIncome  tQ602d  sQ601d  \\\n",
       "917       0      1   ...             1       1             3       0       1   \n",
       "836       1      1   ...             2       1             2       0       1   \n",
       "463       0      0   ...             1       1             4       1       1   \n",
       "200       0      0   ...             2       1             4       0       1   \n",
       "535       0      1   ...             1       1             2       0       1   \n",
       "\n",
       "     sQ607e  justify  edresp  tQ602c  sQ607b  \n",
       "917       0        0       3       0       0  \n",
       "836       0        0       1       0       0  \n",
       "463       0        0       1       1       0  \n",
       "200       0        0       2       0       0  \n",
       "535       0        0       3       0       0  \n",
       "\n",
       "[5 rows x 40 columns]"
      ]
     },
     "execution_count": 53,
     "metadata": {},
     "output_type": "execute_result"
    }
   ],
   "source": [
    "X_val_reduced = X_val[list(All_sign.variable)].copy()  #might need to create a function???\n",
    "X_val_reduced.head()"
   ]
  },
  {
   "cell_type": "code",
   "execution_count": 54,
   "metadata": {},
   "outputs": [],
   "source": [
    "nominal_var = ['CONTROLNUM', \"Q702R\", \"earlymarriage\", 'edpart', 'country', 'EP3', 'sumdiffage', 'SourceIncome', 'edresp']\n",
    "for var in nominal_var:\n",
    "    X_val_reduced[var] = X_val_reduced[var].astype('category')"
   ]
  },
  {
   "cell_type": "code",
   "execution_count": 55,
   "metadata": {},
   "outputs": [],
   "source": [
    "X_val_dummies = pd.get_dummies(X_val_reduced)"
   ]
  },
  {
   "cell_type": "code",
   "execution_count": 56,
   "metadata": {},
   "outputs": [
    {
     "data": {
      "image/png": "[encoded data removed]",
      "text/plain": [
       "<Figure size 360x360 with 1 Axes>"
      ]
     },
     "metadata": {},
     "output_type": "display_data"
    }
   ],
   "source": [
    "conf_mat(g1.best_estimator_, X_train_dummies[cols3], X_val_dummies[cols3], \"Confusion Matrix for Logistic regression, set 1\")"
   ]
  },
  {
   "cell_type": "code",
   "execution_count": 57,
   "metadata": {},
   "outputs": [
    {
     "name": "stdout",
     "output_type": "stream",
     "text": [
      "Precision: 0.661\n",
      "Recall: 0.755\n",
      "F1: 0.705\n"
     ]
    },
    {
     "data": {
      "image/png": "[encoded data removed]",
      "text/plain": [
       "<Figure size 432x288 with 1 Axes>"
      ]
     },
     "metadata": {},
     "output_type": "display_data"
    }
   ],
   "source": [
    "different_scores(g1.best_estimator_, X_train_dummies[cols3].values, X_val_dummies[cols3].values, \"Logistic regression AUC, set 2\")"
   ]
  },
  {
   "cell_type": "code",
   "execution_count": 58,
   "metadata": {},
   "outputs": [],
   "source": [
    "lr1 = LogisticRegression(random_state=0, C=0.1, tol=0.1, max_iter=300, class_weight={0:0.32966706302021404, 1:0.6703329369797859}, solver='sag')"
   ]
  },
  {
   "cell_type": "code",
   "execution_count": 59,
   "metadata": {},
   "outputs": [
    {
     "data": {
      "text/plain": [
       "LogisticRegression(C=0.1,\n",
       "          class_weight={0: 0.32966706302021404, 1: 0.6703329369797859},\n",
       "          dual=False, fit_intercept=True, intercept_scaling=1,\n",
       "          max_iter=300, multi_class='ovr', n_jobs=1, penalty='l2',\n",
       "          random_state=0, solver='sag', tol=0.1, verbose=0,\n",
       "          warm_start=False)"
      ]
     },
     "execution_count": 59,
     "metadata": {},
     "output_type": "execute_result"
    }
   ],
   "source": [
    "lr1.fit(X_train_dummies[cols3], y_train)"
   ]
  },
  {
   "cell_type": "code",
   "execution_count": 60,
   "metadata": {},
   "outputs": [
    {
     "data": {
      "text/plain": [
       "0.7933425797503467"
      ]
     },
     "execution_count": 60,
     "metadata": {},
     "output_type": "execute_result"
    }
   ],
   "source": [
    "lr1.score(X_val_dummies[cols3], y_val)"
   ]
  },
  {
   "cell_type": "code",
   "execution_count": null,
   "metadata": {},
   "outputs": [],
   "source": []
  },
  {
   "cell_type": "markdown",
   "metadata": {},
   "source": [
    "# SVM"
   ]
  },
  {
   "cell_type": "code",
   "execution_count": 97,
   "metadata": {},
   "outputs": [],
   "source": [
    "# define a gridsearch function for svm \n",
    "\n",
    "from sklearn.model_selection import GridSearchCV\n",
    "from sklearn.svm import SVC\n",
    "\n",
    "def grid_svm ():\n",
    "    \n",
    "    pipe_svc = make_pipeline(#StandardScaler(),\n",
    "                             SVC(random_state=1))   #class_weight={0:0.32966706302021404, 1:0.6703329369797859}\n",
    "\n",
    "    param_range = [0.01, 0.1, 1.0]\n",
    "    param_grid = [{'svc__C': param_range, \n",
    "                   'svc__kernel': ['linear']},\n",
    "                  {'svc__C': param_range, \n",
    "                   'svc__gamma': param_range, \n",
    "                   'svc__kernel': ['rbf']}]\n",
    "\n",
    "    gs_svc = GridSearchCV(estimator=pipe_svc, \n",
    "                      param_grid=param_grid, \n",
    "                      scoring='accuracy', \n",
    "                      cv=10)\n",
    "    return gs_svc\n"
   ]
  },
  {
   "cell_type": "code",
   "execution_count": 98,
   "metadata": {},
   "outputs": [
    {
     "data": {
      "text/plain": [
       "GridSearchCV(cv=10, error_score='raise',\n",
       "       estimator=Pipeline(memory=None,\n",
       "     steps=[('svc', SVC(C=1.0, cache_size=200, class_weight=None, coef0=0.0,\n",
       "  decision_function_shape='ovr', degree=3, gamma='auto', kernel='rbf',\n",
       "  max_iter=-1, probability=False, random_state=1, shrinking=True,\n",
       "  tol=0.001, verbose=False))]),\n",
       "       fit_params=None, iid=True, n_jobs=1,\n",
       "       param_grid=[{'svc__C': [0.01, 0.1, 1.0], 'svc__kernel': ['linear']}, {'svc__C': [0.01, 0.1, 1.0], 'svc__gamma': [0.01, 0.1, 1.0], 'svc__kernel': ['rbf']}],\n",
       "       pre_dispatch='2*n_jobs', refit=True, return_train_score='warn',\n",
       "       scoring='accuracy', verbose=0)"
      ]
     },
     "execution_count": 98,
     "metadata": {},
     "output_type": "execute_result"
    }
   ],
   "source": [
    "#fit the model on all the data\n",
    "gv1 = grid_svm()\n",
    "gv1.fit(X_train_dummies[cols3], y_train)"
   ]
  },
  {
   "cell_type": "code",
   "execution_count": 93,
   "metadata": {},
   "outputs": [
    {
     "name": "stdout",
     "output_type": "stream",
     "text": [
      "0.8035077288941737\n",
      "{'svc__C': 0.01, 'svc__kernel': 'linear'}\n"
     ]
    }
   ],
   "source": [
    "# find the best score and the best parameters \n",
    "print(gv1.best_score_)\n",
    "print(gv1.best_params_)"
   ]
  },
  {
   "cell_type": "code",
   "execution_count": 94,
   "metadata": {},
   "outputs": [
    {
     "data": {
      "image/png": "[encoded data removed]",
      "text/plain": [
       "<Figure size 432x288 with 1 Axes>"
      ]
     },
     "metadata": {},
     "output_type": "display_data"
    }
   ],
   "source": [
    "l_curve(gv1.best_estimator_, X_train_dummies[cols3], \"Learning Curve for SVM, set 1\")"
   ]
  },
  {
   "cell_type": "code",
   "execution_count": 90,
   "metadata": {},
   "outputs": [
    {
     "data": {
      "image/png": "[encoded data removed]",
      "text/plain": [
       "<Figure size 360x360 with 1 Axes>"
      ]
     },
     "metadata": {},
     "output_type": "display_data"
    }
   ],
   "source": [
    "#create the confusion matrix for set1\n",
    "conf_mat(gv1.best_estimator_, X_train_dummies[cols3], X_val_dummies[cols3], \"Confusion Matrix for SVM, set 1\")"
   ]
  },
  {
   "cell_type": "code",
   "execution_count": 85,
   "metadata": {},
   "outputs": [
    {
     "name": "stdout",
     "output_type": "stream",
     "text": [
      "Precision: 0.672\n",
      "Recall: 0.726\n",
      "F1: 0.698\n"
     ]
    },
    {
     "data": {
      "image/png": "[encoded data removed]",
      "text/plain": [
       "<Figure size 432x288 with 1 Axes>"
      ]
     },
     "metadata": {},
     "output_type": "display_data"
    }
   ],
   "source": [
    "#scores and AUC for set1\n",
    "different_scores(gv1.best_estimator_, X_train_dummies[cols3], X_val_dummies[cols3], \"SVM AUC, set 1\")"
   ]
  },
  {
   "cell_type": "code",
   "execution_count": null,
   "metadata": {},
   "outputs": [],
   "source": [
    "{'svc__C': 0.01, 'svc__kernel': 'linear'}"
   ]
  },
  {
   "cell_type": "code",
   "execution_count": null,
   "metadata": {},
   "outputs": [],
   "source": []
  },
  {
   "cell_type": "markdown",
   "metadata": {},
   "source": [
    "# NAIVE BAYES"
   ]
  },
  {
   "cell_type": "code",
   "execution_count": null,
   "metadata": {},
   "outputs": [],
   "source": []
  },
  {
   "cell_type": "markdown",
   "metadata": {},
   "source": [
    "#### Majority votes --- to do eventually"
   ]
  },
  {
   "cell_type": "code",
   "execution_count": 99,
   "metadata": {},
   "outputs": [],
   "source": [
    "from sklearn.naive_bayes import GaussianNB"
   ]
  },
  {
   "cell_type": "code",
   "execution_count": 127,
   "metadata": {},
   "outputs": [],
   "source": [
    "nb = GaussianNB()   #priors=np.array([0.3, 0.7]"
   ]
  },
  {
   "cell_type": "code",
   "execution_count": 128,
   "metadata": {},
   "outputs": [
    {
     "data": {
      "text/plain": [
       "GaussianNB(priors=None)"
      ]
     },
     "execution_count": 128,
     "metadata": {},
     "output_type": "execute_result"
    }
   ],
   "source": [
    "nb.fit(X_train_dummies[cols3], y_train)"
   ]
  },
  {
   "cell_type": "code",
   "execution_count": 129,
   "metadata": {},
   "outputs": [
    {
     "data": {
      "text/plain": [
       "0.7475728155339806"
      ]
     },
     "execution_count": 129,
     "metadata": {},
     "output_type": "execute_result"
    }
   ],
   "source": [
    "nb.score(X_val_dummies[cols3], y_val)"
   ]
  },
  {
   "cell_type": "code",
   "execution_count": 130,
   "metadata": {},
   "outputs": [
    {
     "data": {
      "image/png": "[encoded data removed]",
      "text/plain": [
       "<Figure size 360x360 with 1 Axes>"
      ]
     },
     "metadata": {},
     "output_type": "display_data"
    }
   ],
   "source": [
    "conf_mat(nb, X_train_dummies[cols3], X_val_dummies[cols3], \"Confusion Matrix for SVM, set 1\")"
   ]
  },
  {
   "cell_type": "code",
   "execution_count": 131,
   "metadata": {},
   "outputs": [
    {
     "name": "stdout",
     "output_type": "stream",
     "text": [
      "Precision: 0.617\n",
      "Recall: 0.612\n",
      "F1: 0.614\n"
     ]
    },
    {
     "data": {
      "image/png": "[encoded data removed]",
      "text/plain": [
       "<Figure size 432x288 with 1 Axes>"
      ]
     },
     "metadata": {},
     "output_type": "display_data"
    }
   ],
   "source": [
    "different_scores(nb, X_train_dummies[cols3], X_val_dummies[cols3], \"SVM AUC, set 1\")"
   ]
  },
  {
   "cell_type": "code",
   "execution_count": null,
   "metadata": {},
   "outputs": [],
   "source": []
  },
  {
   "cell_type": "markdown",
   "metadata": {},
   "source": [
    "# KNN"
   ]
  },
  {
   "cell_type": "code",
   "execution_count": 132,
   "metadata": {},
   "outputs": [],
   "source": [
    "#from sklearn.neural_network import multilayer_perceptron\n",
    "from sklearn.neighbors import KNeighborsClassifier"
   ]
  },
  {
   "cell_type": "code",
   "execution_count": 173,
   "metadata": {},
   "outputs": [],
   "source": [
    "knn = KNeighborsClassifier(n_neighbors=7)    #metric='minkowski', p=2"
   ]
  },
  {
   "cell_type": "code",
   "execution_count": 174,
   "metadata": {},
   "outputs": [
    {
     "data": {
      "text/plain": [
       "KNeighborsClassifier(algorithm='auto', leaf_size=30, metric='minkowski',\n",
       "           metric_params=None, n_jobs=1, n_neighbors=7, p=2,\n",
       "           weights='uniform')"
      ]
     },
     "execution_count": 174,
     "metadata": {},
     "output_type": "execute_result"
    }
   ],
   "source": [
    "knn.fit(X_train_dummies[cols3], y_train)"
   ]
  },
  {
   "cell_type": "code",
   "execution_count": 175,
   "metadata": {},
   "outputs": [
    {
     "data": {
      "text/plain": [
       "0.7808599167822469"
      ]
     },
     "execution_count": 175,
     "metadata": {},
     "output_type": "execute_result"
    }
   ],
   "source": [
    "knn.score(X_val_dummies[cols3], y_val)"
   ]
  },
  {
   "cell_type": "code",
   "execution_count": 176,
   "metadata": {},
   "outputs": [
    {
     "data": {
      "image/png": "[encoded data removed]",
      "text/plain": [
       "<Figure size 360x360 with 1 Axes>"
      ]
     },
     "metadata": {},
     "output_type": "display_data"
    }
   ],
   "source": [
    "conf_mat(knn, X_train_dummies[cols3], X_val_dummies[cols3], \"Confusion Matrix for SVM, set 1\")"
   ]
  },
  {
   "cell_type": "code",
   "execution_count": 177,
   "metadata": {},
   "outputs": [
    {
     "name": "stdout",
     "output_type": "stream",
     "text": [
      "Precision: 0.680\n",
      "Recall: 0.629\n",
      "F1: 0.654\n"
     ]
    },
    {
     "data": {
      "image/png": "[encoded data removed]",
      "text/plain": [
       "<Figure size 432x288 with 1 Axes>"
      ]
     },
     "metadata": {},
     "output_type": "display_data"
    }
   ],
   "source": [
    "different_scores(knn, X_train_dummies[cols3], X_val_dummies[cols3], \"SVM AUC, set 1\")"
   ]
  },
  {
   "cell_type": "code",
   "execution_count": null,
   "metadata": {},
   "outputs": [],
   "source": []
  },
  {
   "cell_type": "code",
   "execution_count": null,
   "metadata": {},
   "outputs": [],
   "source": []
  },
  {
   "cell_type": "markdown",
   "metadata": {},
   "source": [
    "# Random forest  --- DON't GET IT ???"
   ]
  },
  {
   "cell_type": "code",
   "execution_count": 71,
   "metadata": {},
   "outputs": [],
   "source": [
    "from sklearn.preprocessing import StandardScaler"
   ]
  },
  {
   "cell_type": "code",
   "execution_count": 78,
   "metadata": {},
   "outputs": [],
   "source": [
    "sc = StandardScaler()"
   ]
  },
  {
   "cell_type": "code",
   "execution_count": 82,
   "metadata": {},
   "outputs": [
    {
     "data": {
      "text/plain": [
       "(3364, 57)"
      ]
     },
     "execution_count": 82,
     "metadata": {},
     "output_type": "execute_result"
    }
   ],
   "source": [
    "X_train_sc = sc.fit_transform(X_train)\n",
    "X_train_sc.shape"
   ]
  },
  {
   "cell_type": "code",
   "execution_count": 95,
   "metadata": {},
   "outputs": [],
   "source": [
    "from sklearn.ensemble import RandomForestClassifier\n",
    "\n",
    "# Random forest classifier\n",
    "rfc = RandomForestClassifier(n_estimators=10, random_state=0)\n",
    "\n",
    "# Train the model \n",
    "rfc.fit(X_train_dummies, y_train)\n",
    "\n",
    "# Get the feature importances\n",
    "importances = rfc.feature_importances_"
   ]
  },
  {
   "cell_type": "code",
   "execution_count": 96,
   "metadata": {},
   "outputs": [
    {
     "data": {
      "text/plain": [
       "emotvio            0.153845\n",
       "CONTROLNUM_3       0.032194\n",
       "Q702R_3            0.032166\n",
       "econviol           0.025307\n",
       "eQ703d             0.023212\n",
       "Q702R_1            0.022939\n",
       "mcv1006            0.019975\n",
       "CONTROLNUM_0       0.018127\n",
       "men_alcohol_all    0.017647\n",
       "mcv1009            0.017611\n",
       "eQ703e             0.017236\n",
       "earlymarriage_0    0.016488\n",
       "dtype: float64"
      ]
     },
     "execution_count": 96,
     "metadata": {},
     "output_type": "execute_result"
    }
   ],
   "source": [
    "# Convert the importances into one-dimensional 1darray with corresponding df column names as axis labels\n",
    "f_importances = pd.Series(importances, X_train_dummies.columns)\n",
    "\n",
    "# Sort the array in descending order of the importances\n",
    "f_importances.sort_values(ascending=False, inplace=True)\n",
    "\n",
    "f_importances[:12]"
   ]
  },
  {
   "cell_type": "code",
   "execution_count": 100,
   "metadata": {},
   "outputs": [
    {
     "name": "stderr",
     "output_type": "stream",
     "text": [
      "C:\\Users\\ovinc\\Anaconda3\\lib\\site-packages\\ipykernel_launcher.py:21: FutureWarning: set_value is deprecated and will be removed in a future release. Please use .at[] or .iat[] accessors instead\n",
      "C:\\Users\\ovinc\\Anaconda3\\lib\\site-packages\\ipykernel_launcher.py:21: FutureWarning: set_value is deprecated and will be removed in a future release. Please use .at[] or .iat[] accessors instead\n",
      "C:\\Users\\ovinc\\Anaconda3\\lib\\site-packages\\ipykernel_launcher.py:21: FutureWarning: set_value is deprecated and will be removed in a future release. Please use .at[] or .iat[] accessors instead\n",
      "C:\\Users\\ovinc\\Anaconda3\\lib\\site-packages\\ipykernel_launcher.py:21: FutureWarning: set_value is deprecated and will be removed in a future release. Please use .at[] or .iat[] accessors instead\n",
      "C:\\Users\\ovinc\\Anaconda3\\lib\\site-packages\\ipykernel_launcher.py:21: FutureWarning: set_value is deprecated and will be removed in a future release. Please use .at[] or .iat[] accessors instead\n",
      "C:\\Users\\ovinc\\Anaconda3\\lib\\site-packages\\ipykernel_launcher.py:21: FutureWarning: set_value is deprecated and will be removed in a future release. Please use .at[] or .iat[] accessors instead\n",
      "C:\\Users\\ovinc\\Anaconda3\\lib\\site-packages\\ipykernel_launcher.py:21: FutureWarning: set_value is deprecated and will be removed in a future release. Please use .at[] or .iat[] accessors instead\n",
      "C:\\Users\\ovinc\\Anaconda3\\lib\\site-packages\\ipykernel_launcher.py:21: FutureWarning: set_value is deprecated and will be removed in a future release. Please use .at[] or .iat[] accessors instead\n",
      "C:\\Users\\ovinc\\Anaconda3\\lib\\site-packages\\ipykernel_launcher.py:21: FutureWarning: set_value is deprecated and will be removed in a future release. Please use .at[] or .iat[] accessors instead\n",
      "C:\\Users\\ovinc\\Anaconda3\\lib\\site-packages\\ipykernel_launcher.py:21: FutureWarning: set_value is deprecated and will be removed in a future release. Please use .at[] or .iat[] accessors instead\n"
     ]
    },
    {
     "name": "stdout",
     "output_type": "stream",
     "text": [
      "Top 1     0.793343\n",
      "Top 2     0.793343\n",
      "Top 3     0.793343\n",
      "Top 4     0.796117\n",
      "Top 5     0.794730\n",
      "Top 6     0.794730\n",
      "Top 7     0.797503\n",
      "Top 8     0.786408\n",
      "Top 9     0.783634\n",
      "Top 10    0.765603\n",
      "Top 11    0.754508\n",
      "Top 12    0.757282\n",
      "dtype: float64\n"
     ]
    },
    {
     "name": "stderr",
     "output_type": "stream",
     "text": [
      "C:\\Users\\ovinc\\Anaconda3\\lib\\site-packages\\ipykernel_launcher.py:21: FutureWarning: set_value is deprecated and will be removed in a future release. Please use .at[] or .iat[] accessors instead\n",
      "C:\\Users\\ovinc\\Anaconda3\\lib\\site-packages\\ipykernel_launcher.py:21: FutureWarning: set_value is deprecated and will be removed in a future release. Please use .at[] or .iat[] accessors instead\n"
     ]
    }
   ],
   "source": [
    "from sklearn.metrics import precision_recall_fscore_support\n",
    "\n",
    "top_fscores = pd.Series()\n",
    "\n",
    "\n",
    "for k in range(1,importances[:12].shape[0]+1): \n",
    "    #Select the top features\n",
    "    top = f_importances[:12].index[0:k].tolist()\n",
    "    \n",
    "    #Instantiate the Random forest classifier\n",
    "    top_rfc = RandomForestClassifier(random_state=0)\n",
    "    \n",
    "    #Train the model\n",
    "    top_rfc.fit(X_train_dummies[top].values, y_train)\n",
    "    \n",
    "    #Test the model\n",
    "    y_test_pred = top_rfc.predict(X_val_dummies[top])\n",
    "    \n",
    "    #Calculate the precision, recall, and fscore and select the fscore\n",
    "    score = precision_recall_fscore_support(y_val, y_test_pred, average='micro')[2]\n",
    "    top_fscores.set_value(\"Top \" + str(k), score)\n",
    "\n",
    "print(top_fscores)"
   ]
  },
  {
   "cell_type": "code",
   "execution_count": 101,
   "metadata": {},
   "outputs": [
    {
     "name": "stdout",
     "output_type": "stream",
     "text": [
      "CV accuracy scores: [0.79821958 0.78041543 0.79228487 0.83976261 0.80118694 0.83035714\n",
      " 0.81547619 0.77380952 0.8125     0.79104478]\n",
      "CV accuracy: 0.804 +/- 0.020\n"
     ]
    }
   ],
   "source": [
    "#Cross-validation\n",
    "\n",
    "from sklearn.model_selection import cross_val_score\n",
    "\n",
    "scores_rft = cross_val_score(estimator=RandomForestClassifier(random_state=0),\n",
    "                         X=X_train['emotvio'].values.reshape(-1,1),\n",
    "                         y=y_train,\n",
    "                         cv=10,\n",
    "                         n_jobs=1)\n",
    "print('CV accuracy scores: %s' % scores_rft)\n",
    "print('CV accuracy: %.3f +/- %.3f' % (np.mean(scores_rft), np.std(scores_rft)))"
   ]
  },
  {
   "cell_type": "code",
   "execution_count": 90,
   "metadata": {},
   "outputs": [
    {
     "data": {
      "image/png": "[encoded data removed]",
      "text/plain": [
       "<Figure size 432x288 with 1 Axes>"
      ]
     },
     "metadata": {},
     "output_type": "display_data"
    }
   ],
   "source": [
    "l_curve(RandomForestClassifier(random_state=0), X_train['emotvio'].values.reshape(-1,1), \"Learning Curve for Random Forest\")"
   ]
  },
  {
   "cell_type": "code",
   "execution_count": 92,
   "metadata": {},
   "outputs": [
    {
     "data": {
      "image/png": "[encoded data removed]",
      "text/plain": [
       "<Figure size 360x360 with 1 Axes>"
      ]
     },
     "metadata": {},
     "output_type": "display_data"
    }
   ],
   "source": [
    "conf_mat(RandomForestClassifier(random_state=0), X_train['emotvio'].values.reshape(-1,1), X_val['emotvio'].values.reshape(-1,1), \"Confusion Matrix for Random Forest\")"
   ]
  },
  {
   "cell_type": "code",
   "execution_count": 94,
   "metadata": {},
   "outputs": [
    {
     "name": "stdout",
     "output_type": "stream",
     "text": [
      "Precision: 0.672\n",
      "Recall: 0.726\n",
      "F1: 0.698\n"
     ]
    },
    {
     "data": {
      "image/png": "[encoded data removed]",
      "text/plain": [
       "<Figure size 432x288 with 1 Axes>"
      ]
     },
     "metadata": {},
     "output_type": "display_data"
    }
   ],
   "source": [
    "different_scores(RandomForestClassifier(random_state=0), X_train['emotvio'].values.reshape(-1,1), X_val['emotvio'].values.reshape(-1,1), \"Random Forest AUC\")"
   ]
  },
  {
   "cell_type": "code",
   "execution_count": null,
   "metadata": {},
   "outputs": [],
   "source": []
  },
  {
   "cell_type": "markdown",
   "metadata": {},
   "source": [
    "# NEURAL NETWORK --- MLP"
   ]
  },
  {
   "cell_type": "code",
   "execution_count": 184,
   "metadata": {},
   "outputs": [],
   "source": [
    "import torch\n",
    "#import torchvision\n",
    "#import torchvision.transforms as transforms\n",
    "import matplotlib.pyplot as plt\n",
    "import numpy as np\n",
    "import torch.nn as nn\n",
    "from torch.autograd import Variable"
   ]
  },
  {
   "cell_type": "code",
   "execution_count": 330,
   "metadata": {},
   "outputs": [],
   "source": [
    "# Choose the right values for x.\n",
    "input_size = 11\n",
    "hidden_size = 8\n",
    "hidden_size2 = 4\n",
    "num_classes = 2\n",
    "num_epochs = 10\n",
    "#batch_size = 100\n",
    "learning_rate = 0.001"
   ]
  },
  {
   "cell_type": "code",
   "execution_count": 314,
   "metadata": {},
   "outputs": [
    {
     "data": {
      "text/plain": [
       "(3364, 11)"
      ]
     },
     "execution_count": 314,
     "metadata": {},
     "output_type": "execute_result"
    }
   ],
   "source": [
    "#X_train_dummies[cols3].shape"
   ]
  },
  {
   "cell_type": "code",
   "execution_count": 332,
   "metadata": {},
   "outputs": [],
   "source": [
    "# Choose the right argument for xx\n",
    "class Net(nn.Module):\n",
    "    def __init__(self, input_size, hidden_size, hidden_size2, num_classes):\n",
    "        super(Net, self).__init__()\n",
    "        self.fc1 = nn.Linear(input_size, hidden_size)\n",
    "        self.relu = nn.ReLU()\n",
    "        self.fcM = nn.Linear(hidden_size, hidden_size2)\n",
    "        self.relu = nn.ReLU()\n",
    "        self.fc2 = nn.Linear(hidden_size2, num_classes)\n",
    "        self.lr = nn.Sigmoid()\n",
    "        #self.lr = nn.LogSoftmax(dim=1)\n",
    "\n",
    "    def forward(self, x):\n",
    "        out = self.fc1(x)\n",
    "        out = self.relu(out)\n",
    "        out = self.fcM(out)\n",
    "        out = self.relu(out)\n",
    "        out = self.fc2(out)\n",
    "        out = self.lr(out)\n",
    "        return out"
   ]
  },
  {
   "cell_type": "raw",
   "metadata": {},
   "source": [
    "# define and initialize a multilayer-perceptron, a criterion, and an optimizer\n",
    "class MLP(nn.Module):\n",
    "    def __init__(self):\n",
    "        super(MLP, self).__init__()\n",
    "        self.l1 = nn.Linear(1 * 28 * 28, 20)\n",
    "        self.t1 = nn.Tanh()\n",
    "        self.l2 = nn.Linear(20, 10)\n",
    "        self.t2 = nn.LogSoftmax(dim=1)\n",
    "\n",
    "    def forward(self, x):\n",
    "        x = x.view(-1, 1 * 28 * 28)\n",
    "        x = self.t1(self.l1(x))\n",
    "        x = self.t2(self.l2(x))\n",
    "        return x"
   ]
  },
  {
   "cell_type": "code",
   "execution_count": 333,
   "metadata": {},
   "outputs": [],
   "source": [
    "# Choose the right argument for x\n",
    "net = Net(input_size, hidden_size, hidden_size2, num_classes)\n",
    "# --------------------------------------------------------------------------------------------\n",
    "# Choose the right argument for x\n",
    "criterion = nn.CrossEntropyLoss()\n",
    "optimizer = torch.optim.Adam(net.parameters(), lr=learning_rate)"
   ]
  },
  {
   "cell_type": "raw",
   "metadata": {},
   "source": [
    "net = Net(input_size, hidden_size, num_classes)\n",
    "criterion = nn.CrossEntropyLoss()\n",
    "optimizer = torch.optim.SGD(net.parameters(), lr=learning_rate)"
   ]
  },
  {
   "cell_type": "code",
   "execution_count": 334,
   "metadata": {},
   "outputs": [],
   "source": [
    "p = Variable(torch.tensor(X_train_dummies[cols3].values, dtype=torch.float64))\n",
    "p = p.type(torch.FloatTensor)\n",
    "t = Variable(torch.tensor(y_train.values), requires_grad=False)\n",
    "#t = t.type(torch.FloatTensor)"
   ]
  },
  {
   "cell_type": "code",
   "execution_count": null,
   "metadata": {},
   "outputs": [],
   "source": []
  },
  {
   "cell_type": "code",
   "execution_count": null,
   "metadata": {},
   "outputs": [],
   "source": []
  },
  {
   "cell_type": "code",
   "execution_count": 279,
   "metadata": {},
   "outputs": [],
   "source": [
    "epoch = 600"
   ]
  },
  {
   "cell_type": "code",
   "execution_count": 335,
   "metadata": {
    "scrolled": true
   },
   "outputs": [
    {
     "name": "stdout",
     "output_type": "stream",
     "text": [
      "0 0.7010957598686218\n",
      "1 0.7008458971977234\n",
      "2 0.700596272945404\n",
      "3 0.7003451585769653\n",
      "4 0.7001011967658997\n",
      "5 0.6998512148857117\n",
      "6 0.699604868888855\n",
      "7 0.6993509531021118\n",
      "8 0.6991021037101746\n",
      "9 0.6988609433174133\n",
      "10 0.6986074447631836\n",
      "11 0.6983548998832703\n",
      "12 0.6981027722358704\n",
      "13 0.6978589296340942\n",
      "14 0.6976061463356018\n",
      "15 0.6973516345024109\n",
      "16 0.6971032619476318\n",
      "17 0.6968479752540588\n",
      "18 0.6965896487236023\n",
      "19 0.6963474154472351\n",
      "20 0.6960895657539368\n",
      "21 0.695835530757904\n",
      "22 0.6955761909484863\n",
      "23 0.6953216195106506\n",
      "24 0.6950626969337463\n",
      "25 0.6948031187057495\n",
      "26 0.6945444941520691\n",
      "27 0.6942859888076782\n",
      "28 0.6940273642539978\n",
      "29 0.6937515139579773\n",
      "30 0.693490743637085\n",
      "31 0.6932240128517151\n",
      "32 0.6929580569267273\n",
      "33 0.6926898956298828\n",
      "34 0.692419171333313\n",
      "35 0.6921500563621521\n",
      "36 0.6918808817863464\n",
      "37 0.6916037201881409\n",
      "38 0.6913319230079651\n",
      "39 0.6910610795021057\n",
      "40 0.6907927989959717\n",
      "41 0.690510094165802\n",
      "42 0.6902341246604919\n",
      "43 0.6899607181549072\n",
      "44 0.6896775960922241\n",
      "45 0.689401388168335\n",
      "46 0.689113974571228\n",
      "47 0.6888320446014404\n",
      "48 0.6885536909103394\n",
      "49 0.6882650256156921\n",
      "50 0.6879791617393494\n",
      "51 0.6876984238624573\n",
      "52 0.6874070763587952\n",
      "53 0.6871231198310852\n",
      "54 0.68683260679245\n",
      "55 0.6865306496620178\n",
      "56 0.6862443685531616\n",
      "57 0.6859456896781921\n",
      "58 0.6856409311294556\n",
      "59 0.6853396892547607\n",
      "60 0.6850386261940002\n",
      "61 0.6847359538078308\n",
      "62 0.684421181678772\n",
      "63 0.6841083765029907\n",
      "64 0.6837947368621826\n",
      "65 0.6834761500358582\n",
      "66 0.6831549406051636\n",
      "67 0.6828310489654541\n",
      "68 0.682518482208252\n",
      "69 0.6821866035461426\n",
      "70 0.681857168674469\n",
      "71 0.6815195679664612\n",
      "72 0.6811848282814026\n",
      "73 0.6808421611785889\n",
      "74 0.6804973483085632\n",
      "75 0.6801413297653198\n",
      "76 0.679792582988739\n",
      "77 0.6794349551200867\n",
      "78 0.6790770888328552\n",
      "79 0.678706705570221\n",
      "80 0.6783407330513\n",
      "81 0.6779612898826599\n",
      "82 0.6775916814804077\n",
      "83 0.6772063374519348\n",
      "84 0.6768154501914978\n",
      "85 0.6764310598373413\n",
      "86 0.6760334968566895\n",
      "87 0.6756322383880615\n",
      "88 0.6752269268035889\n",
      "89 0.6748170256614685\n",
      "90 0.6744041442871094\n",
      "91 0.6739861369132996\n",
      "92 0.6735636591911316\n",
      "93 0.6731312870979309\n",
      "94 0.6727007627487183\n",
      "95 0.6722643375396729\n",
      "96 0.6718121767044067\n",
      "97 0.6713443994522095\n",
      "98 0.6708803772926331\n",
      "99 0.6704111099243164\n",
      "100 0.6699289679527283\n",
      "101 0.6694512367248535\n",
      "102 0.6689621210098267\n",
      "103 0.6684709191322327\n",
      "104 0.6679679751396179\n",
      "105 0.6674587726593018\n",
      "106 0.6669517755508423\n",
      "107 0.6664161086082458\n",
      "108 0.6658725142478943\n",
      "109 0.6653188467025757\n",
      "110 0.6647558808326721\n",
      "111 0.6641969084739685\n",
      "112 0.6636269688606262\n",
      "113 0.6630396842956543\n",
      "114 0.6624539494514465\n",
      "115 0.6618592739105225\n",
      "116 0.6612522602081299\n",
      "117 0.6606534123420715\n",
      "118 0.6600324511528015\n",
      "119 0.6594067811965942\n",
      "120 0.6587707996368408\n",
      "121 0.6581224799156189\n",
      "122 0.6574394106864929\n",
      "123 0.656757652759552\n",
      "124 0.6560626029968262\n",
      "125 0.6553558111190796\n",
      "126 0.6546491384506226\n",
      "127 0.6539222002029419\n",
      "128 0.653181254863739\n",
      "129 0.6524220108985901\n",
      "130 0.651648759841919\n",
      "131 0.6508604884147644\n",
      "132 0.6500688195228577\n",
      "133 0.6492730975151062\n",
      "134 0.6484638452529907\n",
      "135 0.647657036781311\n",
      "136 0.6468431949615479\n",
      "137 0.6460152268409729\n",
      "138 0.645183265209198\n",
      "139 0.6443597078323364\n",
      "140 0.6435258984565735\n",
      "141 0.6426889896392822\n",
      "142 0.6418473720550537\n",
      "143 0.6410036683082581\n",
      "144 0.6401407122612\n",
      "145 0.6392832398414612\n",
      "146 0.6384264826774597\n",
      "147 0.6375564336776733\n",
      "148 0.636691689491272\n",
      "149 0.635817289352417\n",
      "150 0.6349536776542664\n",
      "151 0.6340807676315308\n",
      "152 0.6332151293754578\n",
      "153 0.6323423385620117\n",
      "154 0.6314837336540222\n",
      "155 0.6306120157241821\n",
      "156 0.6297547221183777\n",
      "157 0.6288893222808838\n",
      "158 0.628036618232727\n",
      "159 0.6271836161613464\n",
      "160 0.6263214945793152\n",
      "161 0.6254727244377136\n",
      "162 0.6246293187141418\n",
      "163 0.623783528804779\n",
      "164 0.6229383945465088\n",
      "165 0.6221022605895996\n",
      "166 0.6212633848190308\n",
      "167 0.620425283908844\n",
      "168 0.6196001768112183\n",
      "169 0.618766725063324\n",
      "170 0.6179503202438354\n",
      "171 0.6171329021453857\n",
      "172 0.6163094639778137\n",
      "173 0.6154947280883789\n",
      "174 0.6146851778030396\n",
      "175 0.6138857007026672\n",
      "176 0.6130806803703308\n",
      "177 0.612282931804657\n",
      "178 0.6114831566810608\n",
      "179 0.6106948852539062\n",
      "180 0.6099103093147278\n",
      "181 0.6091287732124329\n",
      "182 0.6083438396453857\n",
      "183 0.6075757145881653\n",
      "184 0.6067962646484375\n",
      "185 0.6060284376144409\n",
      "186 0.6052713394165039\n",
      "187 0.6045012474060059\n",
      "188 0.6037553548812866\n",
      "189 0.603001058101654\n",
      "190 0.6022464632987976\n",
      "191 0.6015082597732544\n",
      "192 0.6007716655731201\n",
      "193 0.6000453233718872\n",
      "194 0.5993273258209229\n",
      "195 0.5986104607582092\n",
      "196 0.597899317741394\n",
      "197 0.5972036123275757\n",
      "198 0.5965015888214111\n",
      "199 0.5958152413368225\n",
      "200 0.5951266288757324\n",
      "201 0.5944450497627258\n",
      "202 0.5937681198120117\n",
      "203 0.5930898189544678\n",
      "204 0.5924152135848999\n",
      "205 0.5917415022850037\n",
      "206 0.5910812616348267\n",
      "207 0.5904293060302734\n",
      "208 0.5897743105888367\n",
      "209 0.5891252756118774\n",
      "210 0.5884820222854614\n",
      "211 0.5878359079360962\n",
      "212 0.5871970653533936\n",
      "213 0.5865687727928162\n",
      "214 0.5859401226043701\n",
      "215 0.5853162407875061\n",
      "216 0.5846840739250183\n",
      "217 0.5840755105018616\n",
      "218 0.5834589004516602\n",
      "219 0.5828372836112976\n",
      "220 0.5822373032569885\n",
      "221 0.5816401243209839\n",
      "222 0.5810350775718689\n",
      "223 0.5804410576820374\n",
      "224 0.5798476934432983\n",
      "225 0.5792640447616577\n",
      "226 0.5786771178245544\n",
      "227 0.5781058669090271\n",
      "228 0.5775251388549805\n",
      "229 0.576957106590271\n",
      "230 0.5763902068138123\n",
      "231 0.5758292078971863\n",
      "232 0.5752673149108887\n",
      "233 0.5747073292732239\n",
      "234 0.5741637945175171\n",
      "235 0.5736101269721985\n",
      "236 0.5730748772621155\n",
      "237 0.5725288987159729\n",
      "238 0.5719932317733765\n",
      "239 0.5714561343193054\n",
      "240 0.5709224343299866\n",
      "241 0.5703941583633423\n",
      "242 0.5698700547218323\n",
      "243 0.569352388381958\n",
      "244 0.5688359141349792\n",
      "245 0.5683228969573975\n",
      "246 0.5678160190582275\n",
      "247 0.5673040151596069\n",
      "248 0.5668042302131653\n",
      "249 0.5663042664527893\n",
      "250 0.5658069849014282\n",
      "251 0.5653106570243835\n",
      "252 0.5648164749145508\n",
      "253 0.5643218159675598\n",
      "254 0.563831627368927\n",
      "255 0.563353955745697\n",
      "256 0.5628692507743835\n",
      "257 0.5623946785926819\n",
      "258 0.5619208812713623\n",
      "259 0.5614528059959412\n",
      "260 0.5609762072563171\n",
      "261 0.5605114102363586\n",
      "262 0.5600515007972717\n",
      "263 0.5595962405204773\n",
      "264 0.5591342449188232\n",
      "265 0.5586735606193542\n",
      "266 0.5582286715507507\n",
      "267 0.5577728152275085\n",
      "268 0.5573312640190125\n",
      "269 0.5568808317184448\n",
      "270 0.5564446449279785\n",
      "271 0.5560076236724854\n",
      "272 0.5555698871612549\n",
      "273 0.5551401376724243\n",
      "274 0.5547155141830444\n",
      "275 0.554291844367981\n",
      "276 0.5538647174835205\n",
      "277 0.5534558892250061\n",
      "278 0.553042471408844\n",
      "279 0.5526221990585327\n",
      "280 0.5522202849388123\n",
      "281 0.5518101453781128\n",
      "282 0.551403820514679\n",
      "283 0.5510099530220032\n",
      "284 0.550613284111023\n",
      "285 0.5502136945724487\n",
      "286 0.5498254299163818\n",
      "287 0.5494385957717896\n",
      "288 0.5490431785583496\n",
      "289 0.5486602783203125\n",
      "290 0.5482795238494873\n",
      "291 0.5478999614715576\n",
      "292 0.5475217700004578\n",
      "293 0.5471497774124146\n",
      "294 0.5467830896377563\n",
      "295 0.5464130640029907\n",
      "296 0.5460421442985535\n",
      "297 0.5456781387329102\n",
      "298 0.5453197360038757\n",
      "299 0.5449604392051697\n",
      "300 0.5446135401725769\n",
      "301 0.5442531108856201\n",
      "302 0.5439081192016602\n",
      "303 0.5435564517974854\n",
      "304 0.5432170033454895\n",
      "305 0.542872965335846\n",
      "306 0.5425328016281128\n",
      "307 0.5422009825706482\n",
      "308 0.5418693423271179\n",
      "309 0.54153972864151\n",
      "310 0.541201651096344\n",
      "311 0.5408758521080017\n",
      "312 0.5405489802360535\n",
      "313 0.5402230620384216\n",
      "314 0.5398997068405151\n",
      "315 0.5395771861076355\n",
      "316 0.5392687320709229\n",
      "317 0.5389502644538879\n",
      "318 0.5386291742324829\n",
      "319 0.5383141040802002\n",
      "320 0.5380100607872009\n",
      "321 0.5377002954483032\n",
      "322 0.5373854637145996\n",
      "323 0.5370818972587585\n",
      "324 0.536774754524231\n",
      "325 0.5364786386489868\n",
      "326 0.5361707806587219\n",
      "327 0.5358743071556091\n",
      "328 0.5355717539787292\n",
      "329 0.5352780818939209\n",
      "330 0.5349773168563843\n",
      "331 0.5346837043762207\n",
      "332 0.5343963503837585\n",
      "333 0.5340989232063293\n",
      "334 0.5338067412376404\n",
      "335 0.5335218906402588\n",
      "336 0.5332352519035339\n",
      "337 0.532943606376648\n",
      "338 0.5326529145240784\n",
      "339 0.5323666930198669\n",
      "340 0.5320897102355957\n",
      "341 0.5318076014518738\n",
      "342 0.5315248370170593\n",
      "343 0.5312403440475464\n",
      "344 0.5309625864028931\n",
      "345 0.5306805372238159\n",
      "346 0.5303996205329895\n",
      "347 0.5301254391670227\n",
      "348 0.5298489928245544\n",
      "349 0.529569149017334\n",
      "350 0.5292893052101135\n",
      "351 0.5290126204490662\n",
      "352 0.528738796710968\n",
      "353 0.5284643173217773\n",
      "354 0.5281836986541748\n",
      "355 0.527908205986023\n",
      "356 0.5276373028755188\n",
      "357 0.5273592472076416\n",
      "358 0.5270919799804688\n",
      "359 0.5268162488937378\n",
      "360 0.5265417098999023\n",
      "361 0.526275098323822\n",
      "362 0.5259948968887329\n",
      "363 0.5257290601730347\n",
      "364 0.5254513621330261\n",
      "365 0.5251867175102234\n",
      "366 0.5249123573303223\n",
      "367 0.5246471166610718\n",
      "368 0.5243740081787109\n",
      "369 0.5241118669509888\n",
      "370 0.5238391757011414\n",
      "371 0.5235826969146729\n",
      "372 0.5233133435249329\n",
      "373 0.523059606552124\n",
      "374 0.5227962136268616\n",
      "375 0.5225449800491333\n",
      "376 0.5222898721694946\n",
      "377 0.5220452547073364\n",
      "378 0.5217936038970947\n",
      "379 0.521547794342041\n",
      "380 0.5213086009025574\n",
      "381 0.5210639238357544\n",
      "382 0.5208296179771423\n",
      "383 0.5205956101417542\n",
      "384 0.5203585624694824\n",
      "385 0.5201268792152405\n",
      "386 0.5199005007743835\n",
      "387 0.5196691155433655\n",
      "388 0.5194434523582458\n",
      "389 0.5192214846611023\n",
      "390 0.5190005302429199\n",
      "391 0.5187810659408569\n",
      "392 0.5185694098472595\n",
      "393 0.5183568596839905\n",
      "394 0.5181427001953125\n",
      "395 0.51792973279953\n",
      "396 0.5177209377288818\n",
      "397 0.5175156593322754\n"
     ]
    },
    {
     "name": "stdout",
     "output_type": "stream",
     "text": [
      "398 0.5173160433769226\n",
      "399 0.5171131491661072\n",
      "400 0.5169131755828857\n",
      "401 0.5167140960693359\n",
      "402 0.5165137052536011\n",
      "403 0.516318678855896\n",
      "404 0.5161243081092834\n",
      "405 0.5159319639205933\n",
      "406 0.5157436728477478\n",
      "407 0.5155568718910217\n",
      "408 0.5153703093528748\n",
      "409 0.5151861310005188\n",
      "410 0.5150042176246643\n",
      "411 0.51482093334198\n",
      "412 0.5146408081054688\n",
      "413 0.5144639611244202\n",
      "414 0.514281153678894\n",
      "415 0.5141081809997559\n",
      "416 0.5139380693435669\n",
      "417 0.5137649774551392\n",
      "418 0.5135937333106995\n",
      "419 0.5134234428405762\n",
      "420 0.5132553577423096\n",
      "421 0.5130878686904907\n",
      "422 0.5129193663597107\n",
      "423 0.5127549171447754\n",
      "424 0.5125936269760132\n",
      "425 0.5124333500862122\n",
      "426 0.5122795104980469\n",
      "427 0.5121211409568787\n",
      "428 0.511961817741394\n",
      "429 0.5118042230606079\n",
      "430 0.5116492509841919\n",
      "431 0.5114931464195251\n",
      "432 0.5113455653190613\n",
      "433 0.5112010836601257\n",
      "434 0.51105135679245\n",
      "435 0.5108988881111145\n",
      "436 0.5107511281967163\n",
      "437 0.5106048583984375\n",
      "438 0.510468065738678\n",
      "439 0.5103253126144409\n",
      "440 0.5101798176765442\n",
      "441 0.510039746761322\n",
      "442 0.5099064111709595\n",
      "443 0.5097691416740417\n",
      "444 0.5096315145492554\n",
      "445 0.5095010995864868\n",
      "446 0.5093671083450317\n",
      "447 0.5092335343360901\n",
      "448 0.5091111660003662\n",
      "449 0.5089787840843201\n",
      "450 0.5088488459587097\n",
      "451 0.5087282657623291\n",
      "452 0.5086015462875366\n",
      "453 0.5084763169288635\n",
      "454 0.5083590745925903\n",
      "455 0.5082323551177979\n",
      "456 0.508119523525238\n",
      "457 0.5079981684684753\n",
      "458 0.5078782439231873\n",
      "459 0.5077658295631409\n",
      "460 0.507649302482605\n",
      "461 0.5075382590293884\n",
      "462 0.507422924041748\n",
      "463 0.5073177814483643\n",
      "464 0.5072059035301208\n",
      "465 0.507100522518158\n",
      "466 0.5069931745529175\n",
      "467 0.5068913102149963\n",
      "468 0.5067867040634155\n",
      "469 0.5066846013069153\n",
      "470 0.5065779089927673\n",
      "471 0.5064818263053894\n",
      "472 0.5063783526420593\n",
      "473 0.5062841773033142\n",
      "474 0.5061818361282349\n",
      "475 0.5060929656028748\n",
      "476 0.5059929490089417\n",
      "477 0.5059033036231995\n",
      "478 0.5058063864707947\n",
      "479 0.505719780921936\n",
      "480 0.5056237578392029\n",
      "481 0.5055378675460815\n",
      "482 0.5054439306259155\n",
      "483 0.5053595900535583\n",
      "484 0.5052748322486877\n",
      "485 0.505185067653656\n",
      "486 0.5051020979881287\n",
      "487 0.5050190091133118\n",
      "488 0.5049368739128113\n",
      "489 0.5048503875732422\n",
      "490 0.5047690272331238\n",
      "491 0.504694938659668\n",
      "492 0.5046047568321228\n",
      "493 0.5045340657234192\n",
      "494 0.5044530034065247\n",
      "495 0.5043743848800659\n",
      "496 0.5043033957481384\n",
      "497 0.5042240023612976\n",
      "498 0.5041523575782776\n",
      "499 0.5040826797485352\n",
      "500 0.5040008425712585\n",
      "501 0.5039359927177429\n",
      "502 0.5038659572601318\n",
      "503 0.5037904381752014\n",
      "504 0.5037262439727783\n",
      "505 0.5036491751670837\n",
      "506 0.5035812854766846\n",
      "507 0.5035200715065002\n",
      "508 0.5034465193748474\n",
      "509 0.5033815503120422\n",
      "510 0.5033208131790161\n",
      "511 0.5032587647438049\n",
      "512 0.5031865835189819\n",
      "513 0.5031284689903259\n",
      "514 0.5030665993690491\n",
      "515 0.5030010342597961\n",
      "516 0.5029417276382446\n",
      "517 0.5028817057609558\n",
      "518 0.5028193593025208\n",
      "519 0.5027578473091125\n",
      "520 0.5027034878730774\n",
      "521 0.5026475191116333\n",
      "522 0.5025869607925415\n",
      "523 0.5025302767753601\n",
      "524 0.502475917339325\n",
      "525 0.5024170875549316\n",
      "526 0.502360463142395\n",
      "527 0.5023080110549927\n",
      "528 0.5022556185722351\n",
      "529 0.5021989345550537\n",
      "530 0.5021453499794006\n",
      "531 0.502094566822052\n",
      "532 0.502042293548584\n",
      "533 0.5019888281822205\n",
      "534 0.5019371509552002\n",
      "535 0.5018876791000366\n",
      "536 0.5018373131752014\n",
      "537 0.5017827749252319\n",
      "538 0.501731276512146\n",
      "539 0.5016859173774719\n",
      "540 0.5016348361968994\n",
      "541 0.5015824437141418\n",
      "542 0.5015354156494141\n",
      "543 0.5014888644218445\n",
      "544 0.501440167427063\n",
      "545 0.5013961791992188\n",
      "546 0.5013450384140015\n",
      "547 0.501300036907196\n",
      "548 0.501257598400116\n",
      "549 0.5012125372886658\n",
      "550 0.5011633038520813\n",
      "551 0.5011208653450012\n",
      "552 0.5010772347450256\n",
      "553 0.5010378360748291\n",
      "554 0.5009916424751282\n",
      "555 0.5009416937828064\n",
      "556 0.5009028315544128\n",
      "557 0.5008635520935059\n",
      "558 0.5008242726325989\n",
      "559 0.5007843971252441\n",
      "560 0.5007421970367432\n",
      "561 0.5006976127624512\n",
      "562 0.5006557703018188\n",
      "563 0.5006202459335327\n",
      "564 0.5005845427513123\n",
      "565 0.5005424618721008\n",
      "566 0.5005077123641968\n",
      "567 0.5004644989967346\n",
      "568 0.5004262328147888\n",
      "569 0.5003907680511475\n",
      "570 0.5003555417060852\n",
      "571 0.5003204345703125\n",
      "572 0.5002900958061218\n",
      "573 0.5002456307411194\n",
      "574 0.5002118349075317\n",
      "575 0.500177264213562\n",
      "576 0.500148355960846\n",
      "577 0.5001145005226135\n",
      "578 0.5000810623168945\n",
      "579 0.5000398755073547\n",
      "580 0.5000097155570984\n",
      "581 0.49997594952583313\n",
      "582 0.4999440908432007\n",
      "583 0.49991557002067566\n",
      "584 0.49988365173339844\n",
      "585 0.49985623359680176\n",
      "586 0.4998175799846649\n",
      "587 0.49978703260421753\n",
      "588 0.49975746870040894\n",
      "589 0.4997274875640869\n",
      "590 0.49969935417175293\n",
      "591 0.49966946244239807\n",
      "592 0.4996403157711029\n",
      "593 0.49960649013519287\n",
      "594 0.4995766282081604\n",
      "595 0.49954718351364136\n",
      "596 0.4995171129703522\n",
      "597 0.4994913637638092\n",
      "598 0.49946650862693787\n",
      "599 0.4994369447231293\n"
     ]
    }
   ],
   "source": [
    "#def trainEpoch(epoch):\n",
    "net.train()\n",
    "for index in range(epoch):\n",
    "\n",
    "    optimizer.zero_grad()\n",
    "\n",
    "    a = net(p)\n",
    "\n",
    "    loss = criterion(a, t)\n",
    "\n",
    "    print(index, loss.data.item())\n",
    "\n",
    "    loss.backward()\n",
    "\n",
    "    optimizer.step()\n"
   ]
  },
  {
   "cell_type": "code",
   "execution_count": 265,
   "metadata": {},
   "outputs": [
    {
     "data": {
      "text/plain": [
       "torch.Size([3364])"
      ]
     },
     "execution_count": 265,
     "metadata": {},
     "output_type": "execute_result"
    }
   ],
   "source": [
    "torch.max(a.data, 1)[1].shape"
   ]
  },
  {
   "cell_type": "code",
   "execution_count": 267,
   "metadata": {},
   "outputs": [
    {
     "data": {
      "text/plain": [
       "721"
      ]
     },
     "execution_count": 267,
     "metadata": {},
     "output_type": "execute_result"
    }
   ],
   "source": []
  },
  {
   "cell_type": "code",
   "execution_count": 336,
   "metadata": {},
   "outputs": [
    {
     "name": "stdout",
     "output_type": "stream",
     "text": [
      "Accuracy of the model on validation set: 78 %\n"
     ]
    }
   ],
   "source": [
    "net.eval()\n",
    "test_loss = 0\n",
    "correct = 0\n",
    "\n",
    "\n",
    "# Test the Model\n",
    "correct = 0\n",
    "total = 0\n",
    "\n",
    "p2 = Variable(torch.tensor(X_val_dummies[cols3].values, dtype=torch.float64))\n",
    "p2 = p2.type(torch.FloatTensor)\n",
    "t2 = Variable(torch.tensor(y_val.values), requires_grad=False)\n",
    "\n",
    "outputs = net(p2)\n",
    "_, predicted = torch.max(outputs.data, 1)\n",
    "total += y_val.shape[0]\n",
    "correct += (predicted == t2).sum()\n",
    "# ------------------------------------------------------------------------------------\n",
    "print('Accuracy of the model on validation set: %d %%' % (100 * correct / total))\n"
   ]
  },
  {
   "cell_type": "code",
   "execution_count": null,
   "metadata": {},
   "outputs": [],
   "source": []
  },
  {
   "cell_type": "code",
   "execution_count": null,
   "metadata": {},
   "outputs": [],
   "source": []
  },
  {
   "cell_type": "code",
   "execution_count": null,
   "metadata": {},
   "outputs": [],
   "source": []
  },
  {
   "cell_type": "code",
   "execution_count": null,
   "metadata": {},
   "outputs": [],
   "source": [
    "def Model_test(dataloader):\n",
    "    mlp.eval()\n",
    "    test_loss = 0\n",
    "    correct = 0\n",
    "    for inputs, targets in dataloader:\n",
    "        inputs, targets = Variable(inputs), Variable(targets)\n",
    "        outputs = mlp(inputs)\n",
    "        test_loss += F.nll_loss(outputs, targets, size_average=False).data[0]\n",
    "        pred = outputs.data.max(1, keepdim=True)[1]\n",
    "        correct += pred.eq(targets.data.view_as(pred)).sum()\n",
    "    test_loss /= len(dataloader.dataset)\n",
    "    print('Test set: Average loss: {:.3f}, Accuracy: {}/{} ({:.0f}%)\\n'.format(\n",
    "          test_loss, correct, len(testloader.dataset),\n",
    "          100. * correct / len(testloader.dataset)))"
   ]
  },
  {
   "cell_type": "code",
   "execution_count": 256,
   "metadata": {},
   "outputs": [
    {
     "name": "stdout",
     "output_type": "stream",
     "text": [
      "EPOCH---- 1\n",
      "0 0.12918469309806824\n",
      "EPOCH---- 2\n",
      "0 0.12904150784015656\n",
      "EPOCH---- 2\n",
      "1 0.12890471518039703\n",
      "EPOCH---- 3\n",
      "0 0.12876835465431213\n",
      "EPOCH---- 3\n",
      "1 0.12864480912685394\n",
      "EPOCH---- 3\n",
      "2 0.12851811945438385\n",
      "EPOCH---- 4\n",
      "0 0.12839257717132568\n",
      "EPOCH---- 4\n",
      "1 0.12826445698738098\n",
      "EPOCH---- 4\n",
      "2 0.1281428188085556\n",
      "EPOCH---- 4\n",
      "3 0.12802080810070038\n",
      "EPOCH---- 5\n",
      "0 0.12789897620677948\n",
      "EPOCH---- 5\n",
      "1 0.12776772677898407\n",
      "EPOCH---- 5\n",
      "2 0.12763728201389313\n",
      "EPOCH---- 5\n",
      "3 0.1275019645690918\n",
      "EPOCH---- 5\n",
      "4 0.1273604929447174\n",
      "EPOCH---- 6\n",
      "0 0.1272321194410324\n",
      "EPOCH---- 6\n",
      "1 0.12710072100162506\n",
      "EPOCH---- 6\n",
      "2 0.12696710228919983\n",
      "EPOCH---- 6\n",
      "3 0.12684540450572968\n",
      "EPOCH---- 6\n",
      "4 0.12670938670635223\n",
      "EPOCH---- 6\n",
      "5 0.1265847533941269\n",
      "EPOCH---- 7\n",
      "0 0.1264648139476776\n",
      "EPOCH---- 7\n",
      "1 0.1263563185930252\n",
      "EPOCH---- 7\n",
      "2 0.12624502182006836\n",
      "EPOCH---- 7\n",
      "3 0.12612834572792053\n",
      "EPOCH---- 7\n",
      "4 0.12599413096904755\n",
      "EPOCH---- 7\n",
      "5 0.125848188996315\n",
      "EPOCH---- 7\n",
      "6 0.12570050358772278\n",
      "EPOCH---- 8\n",
      "0 0.1255536824464798\n",
      "EPOCH---- 8\n",
      "1 0.1254264861345291\n",
      "EPOCH---- 8\n",
      "2 0.12530240416526794\n",
      "EPOCH---- 8\n",
      "3 0.12518851459026337\n",
      "EPOCH---- 8\n",
      "4 0.12506602704524994\n",
      "EPOCH---- 8\n",
      "5 0.12493348866701126\n",
      "EPOCH---- 8\n",
      "6 0.12479624152183533\n",
      "EPOCH---- 8\n",
      "7 0.12466263025999069\n",
      "EPOCH---- 9\n",
      "0 0.12452753633260727\n",
      "EPOCH---- 9\n",
      "1 0.12439732253551483\n",
      "EPOCH---- 9\n",
      "2 0.12426824122667313\n",
      "EPOCH---- 9\n",
      "3 0.12413763999938965\n",
      "EPOCH---- 9\n",
      "4 0.12400732934474945\n",
      "EPOCH---- 9\n",
      "5 0.12387997657060623\n",
      "EPOCH---- 9\n",
      "6 0.12375662475824356\n",
      "EPOCH---- 9\n",
      "7 0.12364158034324646\n",
      "EPOCH---- 9\n",
      "8 0.1235216036438942\n",
      "EPOCH---- 10\n",
      "0 0.12340984493494034\n",
      "EPOCH---- 10\n",
      "1 0.123294897377491\n",
      "EPOCH---- 10\n",
      "2 0.12316599488258362\n",
      "EPOCH---- 10\n",
      "3 0.1230272650718689\n",
      "EPOCH---- 10\n",
      "4 0.12289028614759445\n",
      "EPOCH---- 10\n",
      "5 0.12274984270334244\n",
      "EPOCH---- 10\n",
      "6 0.12262121587991714\n",
      "EPOCH---- 10\n",
      "7 0.12249025702476501\n",
      "EPOCH---- 10\n",
      "8 0.12236261367797852\n",
      "EPOCH---- 10\n",
      "9 0.12224145978689194\n",
      "EPOCH---- 11\n",
      "0 0.12211421877145767\n",
      "EPOCH---- 11\n",
      "1 0.12199380993843079\n",
      "EPOCH---- 11\n",
      "2 0.12188489735126495\n",
      "EPOCH---- 11\n",
      "3 0.1217779740691185\n",
      "EPOCH---- 11\n",
      "4 0.12167175859212875\n",
      "EPOCH---- 11\n",
      "5 0.1215483769774437\n",
      "EPOCH---- 11\n",
      "6 0.12140108644962311\n",
      "EPOCH---- 11\n",
      "7 0.12124015390872955\n",
      "EPOCH---- 11\n",
      "8 0.12110663950443268\n",
      "EPOCH---- 11\n",
      "9 0.12098786979913712\n",
      "EPOCH---- 11\n",
      "10 0.12088964879512787\n",
      "EPOCH---- 12\n",
      "0 0.120807945728302\n",
      "EPOCH---- 12\n",
      "1 0.12067779153585434\n",
      "EPOCH---- 12\n",
      "2 0.12051679939031601\n",
      "EPOCH---- 12\n",
      "3 0.12036536633968353\n",
      "EPOCH---- 12\n",
      "4 0.12023799866437912\n",
      "EPOCH---- 12\n",
      "5 0.12013453245162964\n",
      "EPOCH---- 12\n",
      "6 0.12002567946910858\n",
      "EPOCH---- 12\n",
      "7 0.11991070210933685\n",
      "EPOCH---- 12\n",
      "8 0.11977191269397736\n",
      "EPOCH---- 12\n",
      "9 0.11962573975324631\n",
      "EPOCH---- 12\n",
      "10 0.11950349062681198\n",
      "EPOCH---- 12\n",
      "11 0.11938652396202087\n",
      "EPOCH---- 13\n",
      "0 0.11927519738674164\n",
      "EPOCH---- 13\n",
      "1 0.11916105449199677\n",
      "EPOCH---- 13\n",
      "2 0.11903581768274307\n",
      "EPOCH---- 13\n",
      "3 0.11891110986471176\n",
      "EPOCH---- 13\n",
      "4 0.11878035962581635\n",
      "EPOCH---- 13\n",
      "5 0.11865638941526413\n",
      "EPOCH---- 13\n",
      "6 0.11853263527154922\n",
      "EPOCH---- 13\n",
      "7 0.1184101551771164\n",
      "EPOCH---- 13\n",
      "8 0.11829917877912521\n",
      "EPOCH---- 13\n",
      "9 0.11818229407072067\n",
      "EPOCH---- 13\n",
      "10 0.11806283891201019\n",
      "EPOCH---- 13\n",
      "11 0.11793458461761475\n",
      "EPOCH---- 13\n",
      "12 0.11780456453561783\n",
      "EPOCH---- 14\n",
      "0 0.1176837608218193\n",
      "EPOCH---- 14\n",
      "1 0.11756709963083267\n",
      "EPOCH---- 14\n",
      "2 0.1174468845129013\n",
      "EPOCH---- 14\n",
      "3 0.11732861399650574\n",
      "EPOCH---- 14\n",
      "4 0.11721779406070709\n",
      "EPOCH---- 14\n",
      "5 0.11709990352392197\n",
      "EPOCH---- 14\n",
      "6 0.11699556559324265\n",
      "EPOCH---- 14\n",
      "7 0.11688421666622162\n",
      "EPOCH---- 14\n",
      "8 0.11675653606653214\n",
      "EPOCH---- 14\n",
      "9 0.11662275344133377\n",
      "EPOCH---- 14\n",
      "10 0.11649459600448608\n",
      "EPOCH---- 14\n",
      "11 0.11637473106384277\n",
      "EPOCH---- 14\n",
      "12 0.1162511557340622\n",
      "EPOCH---- 14\n",
      "13 0.11614343523979187\n",
      "EPOCH---- 15\n",
      "0 0.11603445559740067\n",
      "EPOCH---- 15\n",
      "1 0.1159253716468811\n",
      "EPOCH---- 15\n",
      "2 0.1158134937286377\n",
      "EPOCH---- 15\n",
      "3 0.11567264050245285\n",
      "EPOCH---- 15\n",
      "4 0.11555565893650055\n",
      "EPOCH---- 15\n",
      "5 0.11543028801679611\n",
      "EPOCH---- 15\n",
      "6 0.11531364172697067\n",
      "EPOCH---- 15\n",
      "7 0.11521416157484055\n",
      "EPOCH---- 15\n",
      "8 0.11511251330375671\n",
      "EPOCH---- 15\n",
      "9 0.11501529067754745\n",
      "EPOCH---- 15\n",
      "10 0.11489076167345047\n",
      "EPOCH---- 15\n",
      "11 0.11474541574716568\n",
      "EPOCH---- 15\n",
      "12 0.1146189421415329\n",
      "EPOCH---- 15\n",
      "13 0.11451421678066254\n",
      "EPOCH---- 15\n",
      "14 0.11440763622522354\n",
      "EPOCH---- 16\n",
      "0 0.11429933458566666\n",
      "EPOCH---- 16\n",
      "1 0.11418850719928741\n",
      "EPOCH---- 16\n",
      "2 0.11406584084033966\n",
      "EPOCH---- 16\n",
      "3 0.11394115537405014\n",
      "EPOCH---- 16\n",
      "4 0.11381983757019043\n",
      "EPOCH---- 16\n",
      "5 0.11370652914047241\n",
      "EPOCH---- 16\n",
      "6 0.11361154913902283\n",
      "EPOCH---- 16\n",
      "7 0.11351096630096436\n",
      "EPOCH---- 16\n",
      "8 0.11340072751045227\n",
      "EPOCH---- 16\n",
      "9 0.1132785975933075\n",
      "EPOCH---- 16\n",
      "10 0.11314655095338821\n",
      "EPOCH---- 16\n",
      "11 0.11302696168422699\n",
      "EPOCH---- 16\n",
      "12 0.11292583495378494\n",
      "EPOCH---- 16\n",
      "13 0.11283344030380249\n",
      "EPOCH---- 16\n",
      "14 0.11275254189968109\n",
      "EPOCH---- 16\n",
      "15 0.11265259981155396\n",
      "EPOCH---- 17\n",
      "0 0.11253432929515839\n",
      "EPOCH---- 17\n",
      "1 0.11240407824516296\n",
      "EPOCH---- 17\n",
      "2 0.11227326840162277\n",
      "EPOCH---- 17\n",
      "3 0.11214958876371384\n",
      "EPOCH---- 17\n",
      "4 0.11203737556934357\n",
      "EPOCH---- 17\n",
      "5 0.11194071173667908\n",
      "EPOCH---- 17\n",
      "6 0.11185351014137268\n",
      "EPOCH---- 17\n",
      "7 0.11177170276641846\n",
      "EPOCH---- 17\n",
      "8 0.11167716234922409\n",
      "EPOCH---- 17\n",
      "9 0.1115485280752182\n",
      "EPOCH---- 17\n",
      "10 0.11141306161880493\n",
      "EPOCH---- 17\n",
      "11 0.11128243058919907\n",
      "EPOCH---- 17\n",
      "12 0.11117524653673172\n",
      "EPOCH---- 17\n",
      "13 0.11107173562049866\n",
      "EPOCH---- 17\n",
      "14 0.11097503453493118\n",
      "EPOCH---- 17\n",
      "15 0.11087928712368011\n",
      "EPOCH---- 17\n",
      "16 0.11077412962913513\n",
      "EPOCH---- 18\n",
      "0 0.11067503690719604\n",
      "EPOCH---- 18\n",
      "1 0.11056770384311676\n",
      "EPOCH---- 18\n",
      "2 0.11045049130916595\n",
      "EPOCH---- 18\n",
      "3 0.1103367879986763\n",
      "EPOCH---- 18\n",
      "4 0.11022653430700302\n",
      "EPOCH---- 18\n",
      "5 0.1101110428571701\n",
      "EPOCH---- 18\n",
      "6 0.11000033468008041\n",
      "EPOCH---- 18\n",
      "7 0.1098957508802414\n",
      "EPOCH---- 18\n",
      "8 0.10978759825229645\n",
      "EPOCH---- 18\n",
      "9 0.10968338698148727\n",
      "EPOCH---- 18\n",
      "10 0.10957925766706467\n",
      "EPOCH---- 18\n",
      "11 0.10947076976299286\n",
      "EPOCH---- 18\n",
      "12 0.10936693847179413\n",
      "EPOCH---- 18\n",
      "13 0.10926503688097\n",
      "EPOCH---- 18\n",
      "14 0.10915756970643997\n",
      "EPOCH---- 18\n",
      "15 0.10906078666448593\n",
      "EPOCH---- 18\n",
      "16 0.1089627593755722\n",
      "EPOCH---- 18\n",
      "17 0.10886094719171524\n",
      "EPOCH---- 19\n",
      "0 0.10877344757318497\n",
      "EPOCH---- 19\n",
      "1 0.10866489261388779\n",
      "EPOCH---- 19\n",
      "2 0.10855163633823395\n",
      "EPOCH---- 19\n",
      "3 0.10844597220420837\n",
      "EPOCH---- 19\n",
      "4 0.10833224654197693\n",
      "EPOCH---- 19\n",
      "5 0.10822471976280212\n",
      "EPOCH---- 19\n",
      "6 0.1081201359629631\n",
      "EPOCH---- 19\n",
      "7 0.10801651328802109\n",
      "EPOCH---- 19\n",
      "8 0.10791746526956558\n",
      "EPOCH---- 19\n",
      "9 0.10781469941139221\n",
      "EPOCH---- 19\n",
      "10 0.10771249234676361\n",
      "EPOCH---- 19\n",
      "11 0.10760904103517532\n",
      "EPOCH---- 19\n",
      "12 0.10750730335712433\n",
      "EPOCH---- 19\n",
      "13 0.10740707814693451\n",
      "EPOCH---- 19\n",
      "14 0.10730580240488052\n",
      "EPOCH---- 19\n",
      "15 0.10720066726207733\n",
      "EPOCH---- 19\n",
      "16 0.10708669573068619\n",
      "EPOCH---- 19\n",
      "17 0.1069837361574173\n",
      "EPOCH---- 19\n",
      "18 0.10687864571809769\n"
     ]
    }
   ],
   "source": [
    "# run the training epoch 30 times and test the result\n",
    "for epoch in range(20):\n",
    "    trainEpoch(epoch)"
   ]
  },
  {
   "cell_type": "code",
   "execution_count": 227,
   "metadata": {},
   "outputs": [
    {
     "data": {
      "text/plain": [
       "torch.Size([])"
      ]
     },
     "execution_count": 227,
     "metadata": {},
     "output_type": "execute_result"
    }
   ],
   "source": [
    "labels.shape"
   ]
  },
  {
   "cell_type": "code",
   "execution_count": 237,
   "metadata": {},
   "outputs": [
    {
     "data": {
      "text/plain": [
       "tensor(1)"
      ]
     },
     "execution_count": 237,
     "metadata": {},
     "output_type": "execute_result"
    }
   ],
   "source": [
    "labels"
   ]
  },
  {
   "cell_type": "code",
   "execution_count": 246,
   "metadata": {},
   "outputs": [
    {
     "data": {
      "text/plain": [
       "torch.Size([3364, 2])"
      ]
     },
     "execution_count": 246,
     "metadata": {},
     "output_type": "execute_result"
    }
   ],
   "source": [
    "a.shape"
   ]
  },
  {
   "cell_type": "raw",
   "metadata": {},
   "source": [
    "for index in range(500):\n",
    "\n",
    "    a = net(p)\n",
    "\n",
    "    loss = criterion(a, t)\n",
    "\n",
    "    print(index, loss.data.item())\n",
    "\n",
    "    optimizer.zero_grad()\n",
    "\n",
    "    loss.backward()\n",
    "\n",
    "    optimizer.step()"
   ]
  },
  {
   "cell_type": "code",
   "execution_count": null,
   "metadata": {},
   "outputs": [],
   "source": [
    "torch.tensor(X_train_dummies.values, dtype=torch.FloatTensor)"
   ]
  },
  {
   "cell_type": "code",
   "execution_count": 215,
   "metadata": {},
   "outputs": [],
   "source": [
    "p = p.type(torch.FloatTensor)"
   ]
  },
  {
   "cell_type": "code",
   "execution_count": 216,
   "metadata": {},
   "outputs": [
    {
     "data": {
      "text/plain": [
       "tensor([[0., 0., 0.,  ..., 1., 0., 0.],\n",
       "        [0., 0., 0.,  ..., 0., 1., 0.],\n",
       "        [0., 0., 0.,  ..., 1., 0., 0.],\n",
       "        ...,\n",
       "        [0., 0., 0.,  ..., 0., 1., 0.],\n",
       "        [0., 0., 1.,  ..., 0., 0., 1.],\n",
       "        [0., 0., 0.,  ..., 0., 1., 0.]])"
      ]
     },
     "execution_count": 216,
     "metadata": {},
     "output_type": "execute_result"
    }
   ],
   "source": [
    "p"
   ]
  },
  {
   "cell_type": "code",
   "execution_count": null,
   "metadata": {},
   "outputs": [],
   "source": []
  },
  {
   "cell_type": "code",
   "execution_count": null,
   "metadata": {},
   "outputs": [],
   "source": []
  },
  {
   "cell_type": "code",
   "execution_count": 178,
   "metadata": {},
   "outputs": [
    {
     "name": "stdout",
     "output_type": "stream",
     "text": [
      "tensor([2.])\n",
      "tensor([1.])\n",
      "tensor([1.])\n"
     ]
    }
   ],
   "source": [
    "import torch\n",
    "import torch.nn as nn\n",
    "from torch.autograd import Variable\n",
    "\n",
    "#======================= Basic autograd example 1 =======================#\n",
    "# Create tensors.\n",
    "p = Variable(torch.Tensor([1]), requires_grad=True)\n",
    "w = Variable(torch.Tensor([2]), requires_grad=True)\n",
    "b = Variable(torch.Tensor([3]), requires_grad=True)\n",
    "\n",
    "# Build a computational graph.\n",
    "y = w * p + b\n",
    "\n",
    "# Compute gradients.\n",
    "y.backward()\n",
    "\n",
    "# Print out the gradients.\n",
    "print(p.grad)\n",
    "print(w.grad)\n",
    "print(b.grad)"
   ]
  },
  {
   "cell_type": "code",
   "execution_count": 179,
   "metadata": {},
   "outputs": [
    {
     "name": "stdout",
     "output_type": "stream",
     "text": [
      "w:  Parameter containing:\n",
      "tensor([[-0.0540, -0.0047, -0.1399],\n",
      "        [-0.4247, -0.4992,  0.5244]], requires_grad=True)\n",
      "b:  Parameter containing:\n",
      "tensor([ 0.5140, -0.2910], requires_grad=True)\n",
      "loss:  1.0209075212478638\n",
      "de/dw:  tensor([[ 0.5108,  0.6320, -0.6459],\n",
      "        [-0.1884, -0.4109,  0.2100]])\n",
      "de/db:  tensor([ 1.0640, -0.4629])\n"
     ]
    }
   ],
   "source": [
    "#======================== Basic autograd example 2 =======================#\n",
    "# Create tensors.\n",
    "p = Variable(torch.randn(5, 3))\n",
    "y = Variable(torch.randn(5, 2))\n",
    "\n",
    "# Build a linear layer.\n",
    "linear = nn.Linear(3, 2)\n",
    "print ('w: ', linear.weight)\n",
    "print ('b: ', linear.bias)\n",
    "\n",
    "# Build Loss and Optimizer.\n",
    "criterion = nn.MSELoss()\n",
    "optimizer = torch.optim.SGD(linear.parameters(), lr=0.01)\n",
    "\n",
    "# Forward propagation.\n",
    "pred = linear(p)\n",
    "\n",
    "# Compute loss.\n",
    "performance_index = criterion(pred, y)\n",
    "print('loss: ', performance_index.item())\n",
    "\n",
    "# Backpropagation.\n",
    "performance_index.backward()\n",
    "\n",
    "# Print out the gradients.\n",
    "print ('de/dw: ', linear.weight.grad)\n",
    "print ('de/db: ', linear.bias.grad)"
   ]
  },
  {
   "cell_type": "code",
   "execution_count": 183,
   "metadata": {},
   "outputs": [
    {
     "name": "stdout",
     "output_type": "stream",
     "text": [
      "loss after 1 step optimization:  0.9944549798965454\n"
     ]
    }
   ],
   "source": [
    "# 1-step Optimization (gradient descent).\n",
    "optimizer.step()\n",
    "\n",
    "\n",
    "# Print out the loss after optimization.\n",
    "pred = linear(p)\n",
    "loss = criterion(pred, y)\n",
    "print('loss after 1 step optimization: ', loss.item())"
   ]
  },
  {
   "cell_type": "code",
   "execution_count": null,
   "metadata": {},
   "outputs": [],
   "source": []
  },
  {
   "cell_type": "code",
   "execution_count": null,
   "metadata": {},
   "outputs": [],
   "source": []
  }
 ],
 "metadata": {
  "kernelspec": {
   "display_name": "Python 3",
   "language": "python",
   "name": "python3"
  },
  "language_info": {
   "codemirror_mode": {
    "name": "ipython",
    "version": 3
   },
   "file_extension": ".py",
   "mimetype": "text/x-python",
   "name": "python",
   "nbconvert_exporter": "python",
   "pygments_lexer": "ipython3",
   "version": "3.6.5"
  }
 },
 "nbformat": 4,
 "nbformat_minor": 2
}
