{
 "cells": [
  {
   "cell_type": "markdown",
   "metadata": {},
   "source": [
    "# Importing Packages"
   ]
  },
  {
   "cell_type": "code",
   "execution_count": 1,
   "metadata": {},
   "outputs": [],
   "source": [
    "import os\n",
    "import pandas as pd\n",
    "import numpy as np\n",
    "import matplotlib.pyplot as plt"
   ]
  },
  {
   "cell_type": "markdown",
   "metadata": {},
   "source": [
    "# Importing Data"
   ]
  },
  {
   "cell_type": "code",
   "execution_count": 2,
   "metadata": {},
   "outputs": [
    {
     "data": {
      "text/html": [
       "<div>\n",
       "<style scoped>\n",
       "    .dataframe tbody tr th:only-of-type {\n",
       "        vertical-align: middle;\n",
       "    }\n",
       "\n",
       "    .dataframe tbody tr th {\n",
       "        vertical-align: top;\n",
       "    }\n",
       "\n",
       "    .dataframe thead th {\n",
       "        text-align: right;\n",
       "    }\n",
       "</style>\n",
       "<table border=\"1\" class=\"dataframe\">\n",
       "  <thead>\n",
       "    <tr style=\"text-align: right;\">\n",
       "      <th></th>\n",
       "      <th>ep1</th>\n",
       "      <th>econviol</th>\n",
       "      <th>emotvio</th>\n",
       "      <th>physvio</th>\n",
       "      <th>sexvio</th>\n",
       "      <th>sexphys</th>\n",
       "      <th>typevio</th>\n",
       "      <th>physcur</th>\n",
       "      <th>sexcur</th>\n",
       "      <th>emotcur</th>\n",
       "      <th>...</th>\n",
       "      <th>rQ701c</th>\n",
       "      <th>rQ701d</th>\n",
       "      <th>HighIncome</th>\n",
       "      <th>Island</th>\n",
       "      <th>Governance</th>\n",
       "      <th>HDI</th>\n",
       "      <th>LAWDV</th>\n",
       "      <th>Governance1</th>\n",
       "      <th>HDI1</th>\n",
       "      <th>LAWDV1</th>\n",
       "    </tr>\n",
       "  </thead>\n",
       "  <tbody>\n",
       "    <tr>\n",
       "      <th>0</th>\n",
       "      <td>1</td>\n",
       "      <td>0</td>\n",
       "      <td>0</td>\n",
       "      <td>0</td>\n",
       "      <td>0</td>\n",
       "      <td>0</td>\n",
       "      <td>0</td>\n",
       "      <td>0</td>\n",
       "      <td>0</td>\n",
       "      <td>0</td>\n",
       "      <td>...</td>\n",
       "      <td>1</td>\n",
       "      <td>1</td>\n",
       "      <td>0</td>\n",
       "      <td>0</td>\n",
       "      <td>0.16</td>\n",
       "      <td>0.654</td>\n",
       "      <td>37</td>\n",
       "      <td>0</td>\n",
       "      <td>0</td>\n",
       "      <td>0</td>\n",
       "    </tr>\n",
       "    <tr>\n",
       "      <th>1</th>\n",
       "      <td>1</td>\n",
       "      <td>1</td>\n",
       "      <td>1</td>\n",
       "      <td>1</td>\n",
       "      <td>1</td>\n",
       "      <td>1</td>\n",
       "      <td>3</td>\n",
       "      <td>0</td>\n",
       "      <td>0</td>\n",
       "      <td>0</td>\n",
       "      <td>...</td>\n",
       "      <td>1</td>\n",
       "      <td>1</td>\n",
       "      <td>0</td>\n",
       "      <td>0</td>\n",
       "      <td>0.16</td>\n",
       "      <td>0.654</td>\n",
       "      <td>37</td>\n",
       "      <td>0</td>\n",
       "      <td>0</td>\n",
       "      <td>0</td>\n",
       "    </tr>\n",
       "    <tr>\n",
       "      <th>2</th>\n",
       "      <td>1</td>\n",
       "      <td>0</td>\n",
       "      <td>0</td>\n",
       "      <td>0</td>\n",
       "      <td>0</td>\n",
       "      <td>0</td>\n",
       "      <td>0</td>\n",
       "      <td>0</td>\n",
       "      <td>0</td>\n",
       "      <td>0</td>\n",
       "      <td>...</td>\n",
       "      <td>1</td>\n",
       "      <td>1</td>\n",
       "      <td>0</td>\n",
       "      <td>0</td>\n",
       "      <td>0.16</td>\n",
       "      <td>0.654</td>\n",
       "      <td>37</td>\n",
       "      <td>0</td>\n",
       "      <td>0</td>\n",
       "      <td>0</td>\n",
       "    </tr>\n",
       "    <tr>\n",
       "      <th>3</th>\n",
       "      <td>1</td>\n",
       "      <td>0</td>\n",
       "      <td>1</td>\n",
       "      <td>1</td>\n",
       "      <td>0</td>\n",
       "      <td>1</td>\n",
       "      <td>1</td>\n",
       "      <td>0</td>\n",
       "      <td>0</td>\n",
       "      <td>1</td>\n",
       "      <td>...</td>\n",
       "      <td>1</td>\n",
       "      <td>1</td>\n",
       "      <td>0</td>\n",
       "      <td>0</td>\n",
       "      <td>0.16</td>\n",
       "      <td>0.654</td>\n",
       "      <td>37</td>\n",
       "      <td>0</td>\n",
       "      <td>0</td>\n",
       "      <td>0</td>\n",
       "    </tr>\n",
       "    <tr>\n",
       "      <th>4</th>\n",
       "      <td>1</td>\n",
       "      <td>0</td>\n",
       "      <td>0</td>\n",
       "      <td>1</td>\n",
       "      <td>0</td>\n",
       "      <td>1</td>\n",
       "      <td>1</td>\n",
       "      <td>0</td>\n",
       "      <td>0</td>\n",
       "      <td>0</td>\n",
       "      <td>...</td>\n",
       "      <td>1</td>\n",
       "      <td>1</td>\n",
       "      <td>0</td>\n",
       "      <td>0</td>\n",
       "      <td>0.16</td>\n",
       "      <td>0.654</td>\n",
       "      <td>37</td>\n",
       "      <td>0</td>\n",
       "      <td>0</td>\n",
       "      <td>0</td>\n",
       "    </tr>\n",
       "  </tbody>\n",
       "</table>\n",
       "<p>5 rows × 91 columns</p>\n",
       "</div>"
      ],
      "text/plain": [
       "   ep1  econviol  emotvio  physvio  sexvio  sexphys  typevio  physcur  sexcur  \\\n",
       "0    1         0        0        0       0        0        0        0       0   \n",
       "1    1         1        1        1       1        1        3        0       0   \n",
       "2    1         0        0        0       0        0        0        0       0   \n",
       "3    1         0        1        1       0        1        1        0       0   \n",
       "4    1         0        0        1       0        1        1        0       0   \n",
       "\n",
       "   emotcur   ...    rQ701c  rQ701d  HighIncome  Island  Governance    HDI  \\\n",
       "0        0   ...         1       1           0       0        0.16  0.654   \n",
       "1        0   ...         1       1           0       0        0.16  0.654   \n",
       "2        0   ...         1       1           0       0        0.16  0.654   \n",
       "3        1   ...         1       1           0       0        0.16  0.654   \n",
       "4        0   ...         1       1           0       0        0.16  0.654   \n",
       "\n",
       "   LAWDV  Governance1  HDI1  LAWDV1  \n",
       "0     37            0     0       0  \n",
       "1     37            0     0       0  \n",
       "2     37            0     0       0  \n",
       "3     37            0     0       0  \n",
       "4     37            0     0       0  \n",
       "\n",
       "[5 rows x 91 columns]"
      ]
     },
     "execution_count": 2,
     "metadata": {},
     "output_type": "execute_result"
    }
   ],
   "source": [
    "# Import data from csv file\n",
    "data = pd.read_csv(\"CaribbeanAllFinal.csv\", low_memory=False)\n",
    "data.head()"
   ]
  },
  {
   "cell_type": "code",
   "execution_count": 3,
   "metadata": {},
   "outputs": [
    {
     "data": {
      "text/plain": [
       "(5795, 91)"
      ]
     },
     "execution_count": 3,
     "metadata": {},
     "output_type": "execute_result"
    }
   ],
   "source": [
    "data.shape"
   ]
  },
  {
   "cell_type": "code",
   "execution_count": 4,
   "metadata": {},
   "outputs": [],
   "source": [
    "#data.columns"
   ]
  },
  {
   "cell_type": "code",
   "execution_count": 5,
   "metadata": {},
   "outputs": [
    {
     "data": {
      "text/html": [
       "<div>\n",
       "<style scoped>\n",
       "    .dataframe tbody tr th:only-of-type {\n",
       "        vertical-align: middle;\n",
       "    }\n",
       "\n",
       "    .dataframe tbody tr th {\n",
       "        vertical-align: top;\n",
       "    }\n",
       "\n",
       "    .dataframe thead th {\n",
       "        text-align: right;\n",
       "    }\n",
       "</style>\n",
       "<table border=\"1\" class=\"dataframe\">\n",
       "  <thead>\n",
       "    <tr style=\"text-align: right;\">\n",
       "      <th></th>\n",
       "      <th>country</th>\n",
       "      <th>EP3</th>\n",
       "      <th>earlymarriage</th>\n",
       "      <th>FCMAR</th>\n",
       "      <th>ageyr10</th>\n",
       "      <th>edresp</th>\n",
       "      <th>w_religion</th>\n",
       "      <th>ETHNICITY</th>\n",
       "      <th>employstatus</th>\n",
       "      <th>SourceIncome</th>\n",
       "      <th>...</th>\n",
       "      <th>CONTROLNUM</th>\n",
       "      <th>econviol</th>\n",
       "      <th>emotvio</th>\n",
       "      <th>anyIPV</th>\n",
       "      <th>HighIncome</th>\n",
       "      <th>Island</th>\n",
       "      <th>Governance1</th>\n",
       "      <th>HDI1</th>\n",
       "      <th>LAWDV1</th>\n",
       "      <th>sexphys</th>\n",
       "    </tr>\n",
       "  </thead>\n",
       "  <tbody>\n",
       "    <tr>\n",
       "      <th>0</th>\n",
       "      <td>1</td>\n",
       "      <td>1</td>\n",
       "      <td>0</td>\n",
       "      <td>0</td>\n",
       "      <td>3</td>\n",
       "      <td>2</td>\n",
       "      <td>0</td>\n",
       "      <td>4</td>\n",
       "      <td>4</td>\n",
       "      <td>2</td>\n",
       "      <td>...</td>\n",
       "      <td>0</td>\n",
       "      <td>0</td>\n",
       "      <td>0</td>\n",
       "      <td>0</td>\n",
       "      <td>0</td>\n",
       "      <td>0</td>\n",
       "      <td>0</td>\n",
       "      <td>0</td>\n",
       "      <td>0</td>\n",
       "      <td>0</td>\n",
       "    </tr>\n",
       "    <tr>\n",
       "      <th>1</th>\n",
       "      <td>1</td>\n",
       "      <td>4</td>\n",
       "      <td>1</td>\n",
       "      <td>0</td>\n",
       "      <td>5</td>\n",
       "      <td>2</td>\n",
       "      <td>1</td>\n",
       "      <td>1</td>\n",
       "      <td>2</td>\n",
       "      <td>5</td>\n",
       "      <td>...</td>\n",
       "      <td>3</td>\n",
       "      <td>1</td>\n",
       "      <td>1</td>\n",
       "      <td>1</td>\n",
       "      <td>0</td>\n",
       "      <td>0</td>\n",
       "      <td>0</td>\n",
       "      <td>0</td>\n",
       "      <td>0</td>\n",
       "      <td>1</td>\n",
       "    </tr>\n",
       "    <tr>\n",
       "      <th>2</th>\n",
       "      <td>1</td>\n",
       "      <td>4</td>\n",
       "      <td>9</td>\n",
       "      <td>9</td>\n",
       "      <td>1</td>\n",
       "      <td>3</td>\n",
       "      <td>1</td>\n",
       "      <td>6</td>\n",
       "      <td>4</td>\n",
       "      <td>5</td>\n",
       "      <td>...</td>\n",
       "      <td>0</td>\n",
       "      <td>0</td>\n",
       "      <td>0</td>\n",
       "      <td>0</td>\n",
       "      <td>0</td>\n",
       "      <td>0</td>\n",
       "      <td>0</td>\n",
       "      <td>0</td>\n",
       "      <td>0</td>\n",
       "      <td>0</td>\n",
       "    </tr>\n",
       "    <tr>\n",
       "      <th>3</th>\n",
       "      <td>1</td>\n",
       "      <td>1</td>\n",
       "      <td>0</td>\n",
       "      <td>0</td>\n",
       "      <td>5</td>\n",
       "      <td>2</td>\n",
       "      <td>1</td>\n",
       "      <td>5</td>\n",
       "      <td>4</td>\n",
       "      <td>3</td>\n",
       "      <td>...</td>\n",
       "      <td>0</td>\n",
       "      <td>0</td>\n",
       "      <td>1</td>\n",
       "      <td>1</td>\n",
       "      <td>0</td>\n",
       "      <td>0</td>\n",
       "      <td>0</td>\n",
       "      <td>0</td>\n",
       "      <td>0</td>\n",
       "      <td>1</td>\n",
       "    </tr>\n",
       "    <tr>\n",
       "      <th>4</th>\n",
       "      <td>1</td>\n",
       "      <td>4</td>\n",
       "      <td>1</td>\n",
       "      <td>1</td>\n",
       "      <td>4</td>\n",
       "      <td>1</td>\n",
       "      <td>0</td>\n",
       "      <td>4</td>\n",
       "      <td>3</td>\n",
       "      <td>2</td>\n",
       "      <td>...</td>\n",
       "      <td>0</td>\n",
       "      <td>0</td>\n",
       "      <td>0</td>\n",
       "      <td>1</td>\n",
       "      <td>0</td>\n",
       "      <td>0</td>\n",
       "      <td>0</td>\n",
       "      <td>0</td>\n",
       "      <td>0</td>\n",
       "      <td>1</td>\n",
       "    </tr>\n",
       "  </tbody>\n",
       "</table>\n",
       "<p>5 rows × 50 columns</p>\n",
       "</div>"
      ],
      "text/plain": [
       "   country  EP3  earlymarriage  FCMAR  ageyr10  edresp  w_religion  ETHNICITY  \\\n",
       "0        1    1              0      0        3       2           0          4   \n",
       "1        1    4              1      0        5       2           1          1   \n",
       "2        1    4              9      9        1       3           1          6   \n",
       "3        1    1              0      0        5       2           1          5   \n",
       "4        1    4              1      1        4       1           0          4   \n",
       "\n",
       "   employstatus  SourceIncome   ...     CONTROLNUM  econviol  emotvio  anyIPV  \\\n",
       "0             4             2   ...              0         0        0       0   \n",
       "1             2             5   ...              3         1        1       1   \n",
       "2             4             5   ...              0         0        0       0   \n",
       "3             4             3   ...              0         0        1       1   \n",
       "4             3             2   ...              0         0        0       1   \n",
       "\n",
       "   HighIncome  Island  Governance1  HDI1  LAWDV1  sexphys  \n",
       "0           0       0            0     0       0        0  \n",
       "1           0       0            0     0       0        1  \n",
       "2           0       0            0     0       0        0  \n",
       "3           0       0            0     0       0        1  \n",
       "4           0       0            0     0       0        1  \n",
       "\n",
       "[5 rows x 50 columns]"
      ]
     },
     "execution_count": 5,
     "metadata": {},
     "output_type": "execute_result"
    }
   ],
   "source": [
    "df_caribbean = data[[\"country\", \"EP3\", \"earlymarriage\", \"FCMAR\", \"ageyr10\", \"edresp\", \"w_religion\",\n",
    "                 \"ETHNICITY\", \"employstatus\", \"SourceIncome\", \"Fam_support\", 'mcv1006', 'mcv1006a', 'mcv1006b',\n",
    "                 'agepartner', 'sumdiffage', 'edpart', 'p_employ', 'men_alcohol_all', 'mcv1008', 'mcv1009',\n",
    "                 'Q513R', 'Q515R', 'Q516R', \n",
    "                  \"rQ701a\", \"rQ701b\", \"rQ701c\", \"rQ701d\", \"Q702R\",\n",
    "                  \"sQ601a\", 'sQ601b', 'sQ601c', 'sQ601d', 'sQ601e', 'sQ601f',\n",
    "                  \"tQ602a\", \"tQ602b\", 'tQ602c', \"tQ602d\",\n",
    "                  \"justify\", \n",
    "                  'CONTROLNUM', \n",
    "                     'econviol', 'emotvio',\n",
    "                   'anyIPV', 'HighIncome', 'Island', 'Governance1', 'HDI1', 'LAWDV1',\n",
    "                   \"sexphys\"]]\n",
    "df_caribbean.head()"
   ]
  },
  {
   "cell_type": "markdown",
   "metadata": {},
   "source": [
    "# OVERALL PREPROCESSING"
   ]
  },
  {
   "cell_type": "markdown",
   "metadata": {},
   "source": [
    "# Checking for Missing Values"
   ]
  },
  {
   "cell_type": "code",
   "execution_count": 6,
   "metadata": {},
   "outputs": [],
   "source": [
    "#Check for missing values\n",
    "#df_caribbean.isnull().sum()"
   ]
  },
  {
   "cell_type": "markdown",
   "metadata": {},
   "source": [
    "# Split the Data"
   ]
  },
  {
   "cell_type": "code",
   "execution_count": 7,
   "metadata": {},
   "outputs": [],
   "source": [
    "Guyana = df_caribbean[df_caribbean['country']==1]\n",
    "Jamaica = df_caribbean[df_caribbean['country']==2]\n",
    "Suriname = df_caribbean[df_caribbean['country']==3]\n",
    "Trinidad = df_caribbean[df_caribbean['country']==4]\n",
    "Grenada = df_caribbean[df_caribbean['country']==5]"
   ]
  },
  {
   "cell_type": "code",
   "execution_count": 8,
   "metadata": {},
   "outputs": [],
   "source": [
    "Guyana_X = Guyana.iloc[:, :-1]\n",
    "Guyana_y = Guyana.iloc[:, -1]\n",
    "\n",
    "Jamaica_X = Jamaica.iloc[:, :-1]\n",
    "Jamaica_y = Jamaica.iloc[:, -1]\n",
    "\n",
    "Suriname_X = Suriname.iloc[:, :-1]\n",
    "Suriname_y = Suriname.iloc[:, -1]\n",
    "\n",
    "Trinidad_X = Trinidad.iloc[:, :-1]\n",
    "Trinidad_y = Trinidad.iloc[:, -1]\n",
    "\n",
    "Grenada_X = Grenada.iloc[:, :-1]\n",
    "Grenada_y = Grenada.iloc[:, -1]"
   ]
  },
  {
   "cell_type": "code",
   "execution_count": 9,
   "metadata": {},
   "outputs": [],
   "source": [
    "# Randomly choose 30% of the data for validation and testing\n",
    "from sklearn.model_selection import train_test_split\n",
    "GuyanaX_train, GuyanaX_rest, Guyanay_train, Guyanay_rest = train_test_split(Guyana_X, \n",
    "                                                                            Guyana_y, \n",
    "                                                                            test_size=0.3, \n",
    "                                                                            random_state=0, \n",
    "                                                                            stratify=Guyana_y)"
   ]
  },
  {
   "cell_type": "code",
   "execution_count": 10,
   "metadata": {},
   "outputs": [],
   "source": [
    "JamaicaX_train, JamaicaX_rest, Jamaicay_train, Jamaicay_rest = train_test_split(Jamaica_X, \n",
    "                                                                                Jamaica_y, \n",
    "                                                                                test_size=0.3, \n",
    "                                                                                random_state=0, \n",
    "                                                                                stratify=Jamaica_y)"
   ]
  },
  {
   "cell_type": "code",
   "execution_count": 11,
   "metadata": {},
   "outputs": [],
   "source": [
    "SurinameX_train, SurinameX_rest, Surinamey_train, Surinamey_rest = train_test_split(Suriname_X, \n",
    "                                                                                    Suriname_y, \n",
    "                                                                                    test_size=0.3, \n",
    "                                                                                    random_state=0, \n",
    "                                                                                    stratify=Suriname_y)"
   ]
  },
  {
   "cell_type": "code",
   "execution_count": 12,
   "metadata": {},
   "outputs": [],
   "source": [
    "TrinidadX_train, TrinidadX_rest, Trinidady_train, Trinidady_rest = train_test_split(Trinidad_X, \n",
    "                                                                                    Trinidad_y, \n",
    "                                                                                    test_size=0.3, \n",
    "                                                                                    random_state=0, \n",
    "                                                                                    stratify=Trinidad_y)"
   ]
  },
  {
   "cell_type": "code",
   "execution_count": 13,
   "metadata": {},
   "outputs": [],
   "source": [
    "GrenadaX_train, GrenadaX_rest, Grenaday_train, Grenaday_rest = train_test_split(Grenada_X, \n",
    "                                                                                    Grenada_y, \n",
    "                                                                                    test_size=0.3, \n",
    "                                                                                    random_state=0, \n",
    "                                                                                    stratify=Grenada_y)"
   ]
  },
  {
   "cell_type": "code",
   "execution_count": 14,
   "metadata": {},
   "outputs": [],
   "source": [
    "# Randomly choose 50% of the data for testing\n",
    "GuyanaX_val, GuyanaX_test, Guyanay_val, Guyanay_test = train_test_split(GuyanaX_rest, \n",
    "                                                                            Guyanay_rest, \n",
    "                                                                            test_size=0.5, \n",
    "                                                                            random_state=0, \n",
    "                                                                            stratify=Guyanay_rest)"
   ]
  },
  {
   "cell_type": "code",
   "execution_count": 15,
   "metadata": {},
   "outputs": [],
   "source": [
    "JamaicaX_val, JamaicaX_test, Jamaicay_val, Jamaicay_test = train_test_split(JamaicaX_rest, \n",
    "                                                                            Jamaicay_rest, \n",
    "                                                                            test_size=0.5, \n",
    "                                                                            random_state=0, \n",
    "                                                                            stratify=Jamaicay_rest)"
   ]
  },
  {
   "cell_type": "code",
   "execution_count": 16,
   "metadata": {},
   "outputs": [],
   "source": [
    "SurinameX_val, SurinameX_test, Surinamey_val, Surinamey_test = train_test_split(SurinameX_rest, \n",
    "                                                                            Surinamey_rest, \n",
    "                                                                            test_size=0.5, \n",
    "                                                                            random_state=0, \n",
    "                                                                            stratify=Surinamey_rest)"
   ]
  },
  {
   "cell_type": "code",
   "execution_count": 17,
   "metadata": {},
   "outputs": [],
   "source": [
    "TrinidadX_val, TrinidadX_test, Trinidady_val, Trinidady_test = train_test_split(TrinidadX_rest, \n",
    "                                                                            Trinidady_rest, \n",
    "                                                                            test_size=0.5, \n",
    "                                                                            random_state=0, \n",
    "                                                                            stratify=Trinidady_rest)"
   ]
  },
  {
   "cell_type": "code",
   "execution_count": 18,
   "metadata": {},
   "outputs": [],
   "source": [
    "GrenadaX_val, GrenadaX_test, Grenaday_val, Grenaday_test = train_test_split(GrenadaX_rest, \n",
    "                                                                            Grenaday_rest, \n",
    "                                                                            test_size=0.5, \n",
    "                                                                            random_state=0, \n",
    "                                                                            stratify=Grenaday_rest)"
   ]
  },
  {
   "cell_type": "code",
   "execution_count": 19,
   "metadata": {},
   "outputs": [],
   "source": [
    "X_train = pd.concat([GuyanaX_train, JamaicaX_train, SurinameX_train, TrinidadX_train, GrenadaX_train])\n",
    "y_train = pd.concat([Guyanay_train, Jamaicay_train, Surinamey_train, Trinidady_train, Grenaday_train])\n",
    "#df_train = X_train.join(y_train)"
   ]
  },
  {
   "cell_type": "code",
   "execution_count": 20,
   "metadata": {},
   "outputs": [],
   "source": [
    "X_train_other = X_train[['anyIPV', 'HighIncome', 'Island', 'Governance1', 'HDI1', 'LAWDV1']]"
   ]
  },
  {
   "cell_type": "code",
   "execution_count": 21,
   "metadata": {},
   "outputs": [
    {
     "data": {
      "text/plain": [
       "1900"
      ]
     },
     "execution_count": 21,
     "metadata": {},
     "output_type": "execute_result"
    }
   ],
   "source": [
    "(X_train_other['anyIPV']==1).sum() #/y_train.shape[0]"
   ]
  },
  {
   "cell_type": "code",
   "execution_count": 22,
   "metadata": {},
   "outputs": [],
   "source": [
    "X_train.drop(columns=['anyIPV', 'HighIncome', 'Island', 'Governance1', 'HDI1', 'LAWDV1'], inplace=True)"
   ]
  },
  {
   "cell_type": "code",
   "execution_count": 23,
   "metadata": {},
   "outputs": [],
   "source": [
    "#X_train.columns"
   ]
  },
  {
   "cell_type": "code",
   "execution_count": 24,
   "metadata": {},
   "outputs": [],
   "source": [
    "df_train = X_train.join(y_train)"
   ]
  },
  {
   "cell_type": "code",
   "execution_count": 25,
   "metadata": {},
   "outputs": [],
   "source": [
    "X_val = pd.concat([GuyanaX_val, JamaicaX_val, SurinameX_val, TrinidadX_val, GrenadaX_val])\n",
    "y_val = pd.concat([Guyanay_val, Jamaicay_val, Surinamey_val, Trinidady_val, Grenaday_val])\n",
    "#df_val = X_val.join(y_val)"
   ]
  },
  {
   "cell_type": "code",
   "execution_count": 26,
   "metadata": {},
   "outputs": [],
   "source": [
    "X_val_other = X_val[['anyIPV', 'HighIncome', 'Island', 'Governance1', 'HDI1', 'LAWDV1']]\n",
    "X_val.drop(columns=['anyIPV', 'HighIncome', 'Island', 'Governance1', 'HDI1', 'LAWDV1'], inplace=True)\n",
    "df_val = X_val.join(y_val)"
   ]
  },
  {
   "cell_type": "code",
   "execution_count": 27,
   "metadata": {},
   "outputs": [],
   "source": [
    "X_test = pd.concat([GuyanaX_test, JamaicaX_test, SurinameX_test, TrinidadX_test, GrenadaX_test])\n",
    "y_test = pd.concat([Guyanay_test, Jamaicay_test, Surinamey_test, Trinidady_test, Grenaday_test])\n",
    "#df_test = X_test.join(y_test)"
   ]
  },
  {
   "cell_type": "code",
   "execution_count": 28,
   "metadata": {},
   "outputs": [],
   "source": [
    "X_test_other = X_test[['anyIPV', 'HighIncome', 'Island', 'Governance1', 'HDI1', 'LAWDV1']]\n",
    "X_test.drop(columns=['anyIPV', 'HighIncome', 'Island', 'Governance1', 'HDI1', 'LAWDV1'], inplace=True)\n",
    "df_test = X_test.join(y_test)"
   ]
  },
  {
   "cell_type": "code",
   "execution_count": 29,
   "metadata": {},
   "outputs": [
    {
     "data": {
      "text/plain": [
       "0.32289097187962507"
      ]
     },
     "execution_count": 29,
     "metadata": {},
     "output_type": "execute_result"
    }
   ],
   "source": [
    "(y_train==1).sum()/y_train.shape[0]"
   ]
  },
  {
   "cell_type": "code",
   "execution_count": 30,
   "metadata": {},
   "outputs": [
    {
     "data": {
      "text/plain": [
       "0.3222094361334868"
      ]
     },
     "execution_count": 30,
     "metadata": {},
     "output_type": "execute_result"
    }
   ],
   "source": [
    "(y_val==1).sum()/y_val.shape[0]"
   ]
  },
  {
   "cell_type": "code",
   "execution_count": 31,
   "metadata": {},
   "outputs": [
    {
     "data": {
      "text/plain": [
       "0.32224770642201833"
      ]
     },
     "execution_count": 31,
     "metadata": {},
     "output_type": "execute_result"
    }
   ],
   "source": [
    "(y_test==1).sum()/y_test.shape[0]"
   ]
  },
  {
   "cell_type": "code",
   "execution_count": 32,
   "metadata": {},
   "outputs": [
    {
     "data": {
      "text/plain": [
       "0.4686729156388752"
      ]
     },
     "execution_count": 32,
     "metadata": {},
     "output_type": "execute_result"
    }
   ],
   "source": [
    "(X_train_other['anyIPV']==1).sum() /y_train.shape[0]"
   ]
  },
  {
   "cell_type": "code",
   "execution_count": 33,
   "metadata": {},
   "outputs": [
    {
     "data": {
      "text/plain": [
       "0.4672036823935558"
      ]
     },
     "execution_count": 33,
     "metadata": {},
     "output_type": "execute_result"
    }
   ],
   "source": [
    "(X_val_other['anyIPV']==1).sum() /y_val.shape[0]"
   ]
  },
  {
   "cell_type": "code",
   "execution_count": 34,
   "metadata": {},
   "outputs": [
    {
     "data": {
      "text/plain": [
       "0.44839449541284404"
      ]
     },
     "execution_count": 34,
     "metadata": {},
     "output_type": "execute_result"
    }
   ],
   "source": [
    "(X_test_other['anyIPV']==1).sum() /y_test.shape[0]"
   ]
  },
  {
   "cell_type": "markdown",
   "metadata": {},
   "source": [
    "# Features Selection"
   ]
  },
  {
   "cell_type": "markdown",
   "metadata": {},
   "source": [
    "## SET 1: CHI2"
   ]
  },
  {
   "cell_type": "code",
   "execution_count": 35,
   "metadata": {},
   "outputs": [],
   "source": [
    "from scipy.stats import chi2_contingency"
   ]
  },
  {
   "cell_type": "code",
   "execution_count": 36,
   "metadata": {},
   "outputs": [],
   "source": [
    "def chi2_sexphys(dfr_Xtrain, dfr_ytrain):\n",
    "    'Do a Chi2 test of independence and choose the significant dependence'\n",
    "    columns=dfr_Xtrain.columns.tolist()\n",
    "    \n",
    "    p_value = []\n",
    "    for column in columns:\n",
    "        observed = pd.crosstab(dfr_Xtrain[column], dfr_ytrain)\n",
    "        p_value.append(chi2_contingency(observed= observed)[1])\n",
    "\n",
    "    df = pd.DataFrame({\"variable\":columns, \n",
    "                           \"p_value\":p_value})\n",
    "    df2 = df[df.p_value <= 0.05]\n",
    "    df2 = df2.sort_values(by='p_value', ascending=True)\n",
    "    return df2"
   ]
  },
  {
   "cell_type": "code",
   "execution_count": 37,
   "metadata": {},
   "outputs": [],
   "source": [
    "All_sign=chi2_sexphys(X_train, y_train)"
   ]
  },
  {
   "cell_type": "code",
   "execution_count": 38,
   "metadata": {},
   "outputs": [
    {
     "data": {
      "text/plain": [
       "(32, 2)"
      ]
     },
     "execution_count": 38,
     "metadata": {},
     "output_type": "execute_result"
    }
   ],
   "source": [
    "All_sign.shape"
   ]
  },
  {
   "cell_type": "code",
   "execution_count": 39,
   "metadata": {},
   "outputs": [],
   "source": [
    "colsig = list(All_sign.variable.values)"
   ]
  },
  {
   "cell_type": "code",
   "execution_count": 40,
   "metadata": {},
   "outputs": [
    {
     "data": {
      "text/html": [
       "<div>\n",
       "<style scoped>\n",
       "    .dataframe tbody tr th:only-of-type {\n",
       "        vertical-align: middle;\n",
       "    }\n",
       "\n",
       "    .dataframe tbody tr th {\n",
       "        vertical-align: top;\n",
       "    }\n",
       "\n",
       "    .dataframe thead th {\n",
       "        text-align: right;\n",
       "    }\n",
       "</style>\n",
       "<table border=\"1\" class=\"dataframe\">\n",
       "  <thead>\n",
       "    <tr style=\"text-align: right;\">\n",
       "      <th></th>\n",
       "      <th>emotvio</th>\n",
       "      <th>CONTROLNUM</th>\n",
       "      <th>Q702R</th>\n",
       "      <th>econviol</th>\n",
       "      <th>Q515R</th>\n",
       "      <th>Q513R</th>\n",
       "      <th>mcv1006</th>\n",
       "      <th>mcv1006a</th>\n",
       "      <th>mcv1006b</th>\n",
       "      <th>mcv1008</th>\n",
       "      <th>...</th>\n",
       "      <th>rQ701c</th>\n",
       "      <th>sQ601c</th>\n",
       "      <th>sQ601d</th>\n",
       "      <th>EP3</th>\n",
       "      <th>FCMAR</th>\n",
       "      <th>tQ602d</th>\n",
       "      <th>SourceIncome</th>\n",
       "      <th>ageyr10</th>\n",
       "      <th>justify</th>\n",
       "      <th>tQ602c</th>\n",
       "    </tr>\n",
       "  </thead>\n",
       "  <tbody>\n",
       "    <tr>\n",
       "      <th>995</th>\n",
       "      <td>0</td>\n",
       "      <td>0</td>\n",
       "      <td>2</td>\n",
       "      <td>0</td>\n",
       "      <td>0</td>\n",
       "      <td>0</td>\n",
       "      <td>0</td>\n",
       "      <td>1</td>\n",
       "      <td>1</td>\n",
       "      <td>0</td>\n",
       "      <td>...</td>\n",
       "      <td>0</td>\n",
       "      <td>1</td>\n",
       "      <td>1</td>\n",
       "      <td>2</td>\n",
       "      <td>0</td>\n",
       "      <td>1</td>\n",
       "      <td>5</td>\n",
       "      <td>2</td>\n",
       "      <td>0</td>\n",
       "      <td>0</td>\n",
       "    </tr>\n",
       "    <tr>\n",
       "      <th>962</th>\n",
       "      <td>0</td>\n",
       "      <td>0</td>\n",
       "      <td>2</td>\n",
       "      <td>0</td>\n",
       "      <td>0</td>\n",
       "      <td>0</td>\n",
       "      <td>0</td>\n",
       "      <td>0</td>\n",
       "      <td>0</td>\n",
       "      <td>1</td>\n",
       "      <td>...</td>\n",
       "      <td>1</td>\n",
       "      <td>1</td>\n",
       "      <td>1</td>\n",
       "      <td>1</td>\n",
       "      <td>0</td>\n",
       "      <td>1</td>\n",
       "      <td>4</td>\n",
       "      <td>2</td>\n",
       "      <td>1</td>\n",
       "      <td>0</td>\n",
       "    </tr>\n",
       "    <tr>\n",
       "      <th>998</th>\n",
       "      <td>0</td>\n",
       "      <td>0</td>\n",
       "      <td>1</td>\n",
       "      <td>0</td>\n",
       "      <td>0</td>\n",
       "      <td>0</td>\n",
       "      <td>0</td>\n",
       "      <td>0</td>\n",
       "      <td>1</td>\n",
       "      <td>0</td>\n",
       "      <td>...</td>\n",
       "      <td>1</td>\n",
       "      <td>1</td>\n",
       "      <td>0</td>\n",
       "      <td>2</td>\n",
       "      <td>0</td>\n",
       "      <td>0</td>\n",
       "      <td>4</td>\n",
       "      <td>2</td>\n",
       "      <td>0</td>\n",
       "      <td>0</td>\n",
       "    </tr>\n",
       "    <tr>\n",
       "      <th>639</th>\n",
       "      <td>0</td>\n",
       "      <td>1</td>\n",
       "      <td>1</td>\n",
       "      <td>0</td>\n",
       "      <td>1</td>\n",
       "      <td>0</td>\n",
       "      <td>0</td>\n",
       "      <td>0</td>\n",
       "      <td>0</td>\n",
       "      <td>0</td>\n",
       "      <td>...</td>\n",
       "      <td>1</td>\n",
       "      <td>0</td>\n",
       "      <td>0</td>\n",
       "      <td>4</td>\n",
       "      <td>9</td>\n",
       "      <td>0</td>\n",
       "      <td>5</td>\n",
       "      <td>4</td>\n",
       "      <td>1</td>\n",
       "      <td>0</td>\n",
       "    </tr>\n",
       "    <tr>\n",
       "      <th>932</th>\n",
       "      <td>0</td>\n",
       "      <td>0</td>\n",
       "      <td>2</td>\n",
       "      <td>0</td>\n",
       "      <td>0</td>\n",
       "      <td>0</td>\n",
       "      <td>0</td>\n",
       "      <td>0</td>\n",
       "      <td>0</td>\n",
       "      <td>0</td>\n",
       "      <td>...</td>\n",
       "      <td>1</td>\n",
       "      <td>0</td>\n",
       "      <td>0</td>\n",
       "      <td>4</td>\n",
       "      <td>0</td>\n",
       "      <td>0</td>\n",
       "      <td>5</td>\n",
       "      <td>4</td>\n",
       "      <td>0</td>\n",
       "      <td>0</td>\n",
       "    </tr>\n",
       "  </tbody>\n",
       "</table>\n",
       "<p>5 rows × 32 columns</p>\n",
       "</div>"
      ],
      "text/plain": [
       "     emotvio  CONTROLNUM  Q702R  econviol  Q515R  Q513R  mcv1006  mcv1006a  \\\n",
       "995        0           0      2         0      0      0        0         1   \n",
       "962        0           0      2         0      0      0        0         0   \n",
       "998        0           0      1         0      0      0        0         0   \n",
       "639        0           1      1         0      1      0        0         0   \n",
       "932        0           0      2         0      0      0        0         0   \n",
       "\n",
       "     mcv1006b  mcv1008   ...    rQ701c  sQ601c  sQ601d  EP3  FCMAR  tQ602d  \\\n",
       "995         1        0   ...         0       1       1    2      0       1   \n",
       "962         0        1   ...         1       1       1    1      0       1   \n",
       "998         1        0   ...         1       1       0    2      0       0   \n",
       "639         0        0   ...         1       0       0    4      9       0   \n",
       "932         0        0   ...         1       0       0    4      0       0   \n",
       "\n",
       "     SourceIncome  ageyr10  justify  tQ602c  \n",
       "995             5        2        0       0  \n",
       "962             4        2        1       0  \n",
       "998             4        2        0       0  \n",
       "639             5        4        1       0  \n",
       "932             5        4        0       0  \n",
       "\n",
       "[5 rows x 32 columns]"
      ]
     },
     "execution_count": 40,
     "metadata": {},
     "output_type": "execute_result"
    }
   ],
   "source": [
    "# Select only the significant variables \n",
    "X_train_reduced = X_train[colsig].copy()  #might need to create a function???\n",
    "X_train_reduced.head()"
   ]
  },
  {
   "cell_type": "code",
   "execution_count": 41,
   "metadata": {},
   "outputs": [
    {
     "data": {
      "text/plain": [
       "Index(['emotvio', 'CONTROLNUM', 'Q702R', 'econviol', 'Q515R', 'Q513R',\n",
       "       'mcv1006', 'mcv1006a', 'mcv1006b', 'mcv1008', 'men_alcohol_all',\n",
       "       'mcv1009', 'earlymarriage', 'Fam_support', 'Q516R', 'edpart', 'rQ701d',\n",
       "       'rQ701b', 'rQ701a', 'sumdiffage', 'edresp', 'country', 'rQ701c',\n",
       "       'sQ601c', 'sQ601d', 'EP3', 'FCMAR', 'tQ602d', 'SourceIncome', 'ageyr10',\n",
       "       'justify', 'tQ602c'],\n",
       "      dtype='object')"
      ]
     },
     "execution_count": 41,
     "metadata": {},
     "output_type": "execute_result"
    }
   ],
   "source": [
    "X_train_reduced.columns"
   ]
  },
  {
   "cell_type": "code",
   "execution_count": 42,
   "metadata": {},
   "outputs": [
    {
     "data": {
      "text/html": [
       "<div>\n",
       "<style scoped>\n",
       "    .dataframe tbody tr th:only-of-type {\n",
       "        vertical-align: middle;\n",
       "    }\n",
       "\n",
       "    .dataframe tbody tr th {\n",
       "        vertical-align: top;\n",
       "    }\n",
       "\n",
       "    .dataframe thead th {\n",
       "        text-align: right;\n",
       "    }\n",
       "</style>\n",
       "<table border=\"1\" class=\"dataframe\">\n",
       "  <thead>\n",
       "    <tr style=\"text-align: right;\">\n",
       "      <th>sexphys</th>\n",
       "      <th>0</th>\n",
       "      <th>1</th>\n",
       "    </tr>\n",
       "    <tr>\n",
       "      <th>CONTROLNUM</th>\n",
       "      <th></th>\n",
       "      <th></th>\n",
       "    </tr>\n",
       "  </thead>\n",
       "  <tbody>\n",
       "    <tr>\n",
       "      <th>0</th>\n",
       "      <td>1489</td>\n",
       "      <td>367</td>\n",
       "    </tr>\n",
       "    <tr>\n",
       "      <th>1</th>\n",
       "      <td>622</td>\n",
       "      <td>245</td>\n",
       "    </tr>\n",
       "    <tr>\n",
       "      <th>2</th>\n",
       "      <td>339</td>\n",
       "      <td>258</td>\n",
       "    </tr>\n",
       "    <tr>\n",
       "      <th>3</th>\n",
       "      <td>295</td>\n",
       "      <td>439</td>\n",
       "    </tr>\n",
       "  </tbody>\n",
       "</table>\n",
       "</div>"
      ],
      "text/plain": [
       "sexphys        0    1\n",
       "CONTROLNUM           \n",
       "0           1489  367\n",
       "1            622  245\n",
       "2            339  258\n",
       "3            295  439"
      ]
     },
     "execution_count": 42,
     "metadata": {},
     "output_type": "execute_result"
    }
   ],
   "source": [
    "pd.crosstab(X_train_reduced['CONTROLNUM'], y_train)"
   ]
  },
  {
   "cell_type": "code",
   "execution_count": 43,
   "metadata": {},
   "outputs": [
    {
     "data": {
      "text/plain": [
       "CONTROLNUM\n",
       "0      1856\n",
       "1       867\n",
       "2       597\n",
       "3       734\n",
       "All    4054\n",
       "Name: All, dtype: int64"
      ]
     },
     "execution_count": 43,
     "metadata": {},
     "output_type": "execute_result"
    }
   ],
   "source": [
    "pd.crosstab(X_train_reduced['CONTROLNUM'], y_train, margins=True)['All']"
   ]
  },
  {
   "cell_type": "code",
   "execution_count": 44,
   "metadata": {},
   "outputs": [
    {
     "data": {
      "text/plain": [
       "CONTROLNUM\n",
       "0      0.197737\n",
       "1      0.282584\n",
       "2      0.432161\n",
       "3      0.598093\n",
       "All    0.322891\n",
       "dtype: float64"
      ]
     },
     "execution_count": 44,
     "metadata": {},
     "output_type": "execute_result"
    }
   ],
   "source": [
    "pd.crosstab(X_train_reduced['CONTROLNUM'], y_train, margins=True)[1] / pd.crosstab(X_train_reduced['CONTROLNUM'], y_train, margins=True)['All']"
   ]
  },
  {
   "cell_type": "code",
   "execution_count": 45,
   "metadata": {},
   "outputs": [
    {
     "name": "stdout",
     "output_type": "stream",
     "text": [
      "earlymarriage\n",
      "0      0.302930\n",
      "1      0.447482\n",
      "9      0.287208\n",
      "All    0.322891\n",
      "dtype: float64\n",
      "edpart\n",
      "1      0.372140\n",
      "2      0.313984\n",
      "3      0.239227\n",
      "All    0.322891\n",
      "dtype: float64\n",
      "sumdiffage\n",
      "1      0.405732\n",
      "2      0.303571\n",
      "3      0.311203\n",
      "4      0.304950\n",
      "All    0.322891\n",
      "dtype: float64\n",
      "edresp\n",
      "1      0.376048\n",
      "2      0.324205\n",
      "3      0.273298\n",
      "All    0.322891\n",
      "dtype: float64\n",
      "country\n",
      "1      0.378212\n",
      "2      0.278592\n",
      "3      0.337349\n",
      "4      0.301543\n",
      "5      0.289855\n",
      "All    0.322891\n",
      "dtype: float64\n",
      "EP3\n",
      "1      0.286312\n",
      "2      0.363429\n",
      "3      0.332432\n",
      "4      0.342430\n",
      "All    0.322891\n",
      "dtype: float64\n",
      "FCMAR\n",
      "0      0.327026\n",
      "1      0.370667\n",
      "9      0.287208\n",
      "All    0.322891\n",
      "dtype: float64\n",
      "ageyr10\n",
      "1      0.259067\n",
      "2      0.317682\n",
      "3      0.347503\n",
      "4      0.327081\n",
      "5      0.345588\n",
      "All    0.322891\n",
      "dtype: float64\n",
      "SourceIncome\n",
      "1      0.325333\n",
      "2      0.360841\n",
      "3      0.280042\n",
      "4      0.316667\n",
      "5      0.320819\n",
      "All    0.322891\n",
      "dtype: float64\n",
      "Q702R\n",
      "1      0.223394\n",
      "2      0.348054\n",
      "3      0.663569\n",
      "All    0.322891\n",
      "dtype: float64\n",
      "CONTROLNUM\n",
      "0      0.197737\n",
      "1      0.282584\n",
      "2      0.432161\n",
      "3      0.598093\n",
      "All    0.322891\n",
      "dtype: float64\n"
     ]
    }
   ],
   "source": [
    "nominal_var = [\"earlymarriage\", 'edpart', 'sumdiffage','edresp','country',\n",
    "                'EP3', 'FCMAR','ageyr10','SourceIncome',\"Q702R\", 'CONTROLNUM' ]\n",
    "for var in nominal_var:\n",
    "    print(pd.crosstab(X_train_reduced[var], y_train, margins=True)[1] / pd.crosstab(X_train_reduced[var], y_train, margins=True)['All'])"
   ]
  },
  {
   "cell_type": "code",
   "execution_count": 46,
   "metadata": {},
   "outputs": [],
   "source": [
    "nominal_var = [\"earlymarriage\", 'edpart', 'sumdiffage','edresp','country',\n",
    "                'EP3', 'FCMAR','ageyr10','SourceIncome',\"Q702R\", 'CONTROLNUM' ]\n",
    "for var in nominal_var:\n",
    "    X_train_reduced[var] = X_train_reduced[var].astype('category')"
   ]
  },
  {
   "cell_type": "code",
   "execution_count": 47,
   "metadata": {},
   "outputs": [],
   "source": [
    "X_train_dummies = pd.get_dummies(X_train_reduced)"
   ]
  },
  {
   "cell_type": "code",
   "execution_count": 48,
   "metadata": {},
   "outputs": [
    {
     "data": {
      "text/plain": [
       "(4054, 63)"
      ]
     },
     "execution_count": 48,
     "metadata": {},
     "output_type": "execute_result"
    }
   ],
   "source": [
    "X_train_dummies.shape"
   ]
  },
  {
   "cell_type": "code",
   "execution_count": 49,
   "metadata": {},
   "outputs": [
    {
     "data": {
      "text/plain": [
       "Index(['emotvio', 'econviol', 'Q515R', 'Q513R', 'mcv1006', 'mcv1006a',\n",
       "       'mcv1006b', 'mcv1008', 'men_alcohol_all', 'mcv1009', 'Fam_support',\n",
       "       'Q516R', 'rQ701d', 'rQ701b', 'rQ701a', 'rQ701c', 'sQ601c', 'sQ601d',\n",
       "       'tQ602d', 'justify', 'tQ602c', 'CONTROLNUM_0', 'CONTROLNUM_1',\n",
       "       'CONTROLNUM_2', 'CONTROLNUM_3', 'Q702R_1', 'Q702R_2', 'Q702R_3',\n",
       "       'earlymarriage_0', 'earlymarriage_1', 'earlymarriage_9', 'edpart_1',\n",
       "       'edpart_2', 'edpart_3', 'sumdiffage_1', 'sumdiffage_2', 'sumdiffage_3',\n",
       "       'sumdiffage_4', 'edresp_1', 'edresp_2', 'edresp_3', 'country_1',\n",
       "       'country_2', 'country_3', 'country_4', 'country_5', 'EP3_1', 'EP3_2',\n",
       "       'EP3_3', 'EP3_4', 'FCMAR_0', 'FCMAR_1', 'FCMAR_9', 'SourceIncome_1',\n",
       "       'SourceIncome_2', 'SourceIncome_3', 'SourceIncome_4', 'SourceIncome_5',\n",
       "       'ageyr10_1', 'ageyr10_2', 'ageyr10_3', 'ageyr10_4', 'ageyr10_5'],\n",
       "      dtype='object')"
      ]
     },
     "execution_count": 49,
     "metadata": {},
     "output_type": "execute_result"
    }
   ],
   "source": [
    "X_train_dummies.columns"
   ]
  },
  {
   "cell_type": "code",
   "execution_count": 50,
   "metadata": {},
   "outputs": [],
   "source": [
    "#Drop columns based on theory and chi2 contingency\n",
    "X_train_dummies.drop(columns=['earlymarriage_9', 'edpart_3', 'sumdiffage_4', 'edresp_3', 'country_2', 'EP3_1', 'FCMAR_9', \n",
    "                              'ageyr10_1', 'SourceIncome_3', 'Q702R_1', 'CONTROLNUM_0'], inplace=True)"
   ]
  },
  {
   "cell_type": "code",
   "execution_count": 51,
   "metadata": {},
   "outputs": [],
   "source": [
    "'''cols = list(result_chi2.keys())\n",
    "cols.sort()'''\n",
    "\n",
    "cols0 = list(X_train_dummies.columns)"
   ]
  },
  {
   "cell_type": "code",
   "execution_count": 52,
   "metadata": {},
   "outputs": [],
   "source": [
    "#chi2 test: all the features with the target variable\n",
    "from sklearn.feature_selection import chi2"
   ]
  },
  {
   "cell_type": "code",
   "execution_count": 53,
   "metadata": {},
   "outputs": [],
   "source": [
    "def chi2_selection(df_X, df_y):\n",
    "    \"To add commments\"\n",
    "    df_chi2 = chi2(df_X, df_y)\n",
    "\n",
    "    # Convert the chi2 tests into one-dimensional 1darray with corresponding df column names as axis labels\n",
    "    f_chi2 = pd.Series(df_chi2[1], df_X.columns)\n",
    "\n",
    "    # Sort the array in ascending order of the pvalues\n",
    "    f_chi2.sort_values(ascending=True, inplace=True)\n",
    "\n",
    "    # Select the significant features \n",
    "    sign_chi2 = f_chi2[f_chi2<=0.05]\n",
    "\n",
    "    print(sign_chi2.shape)\n",
    "    return sign_chi2"
   ]
  },
  {
   "cell_type": "code",
   "execution_count": 54,
   "metadata": {},
   "outputs": [
    {
     "name": "stdout",
     "output_type": "stream",
     "text": [
      "(31,)\n"
     ]
    }
   ],
   "source": [
    "result_chi2 = chi2_selection(X_train_dummies, y_train)"
   ]
  },
  {
   "cell_type": "code",
   "execution_count": 55,
   "metadata": {
    "scrolled": false
   },
   "outputs": [
    {
     "data": {
      "text/plain": [
       "emotvio            1.161629e-185\n",
       "Q702R_3             4.525820e-64\n",
       "CONTROLNUM_3        3.055143e-57\n",
       "econviol            2.697641e-50\n",
       "Q515R               4.053025e-30\n",
       "Q513R               7.075178e-28\n",
       "mcv1006             1.047921e-21\n",
       "mcv1006a            7.428265e-21\n",
       "mcv1008             3.768960e-20\n",
       "mcv1006b            1.229658e-19\n",
       "mcv1009             6.515760e-17\n",
       "men_alcohol_all     1.224368e-16\n",
       "earlymarriage_1     2.146712e-12\n",
       "Q516R               5.800714e-09\n",
       "CONTROLNUM_2        1.130279e-08\n",
       "sumdiffage_1        5.070108e-06\n",
       "edpart_1            4.902647e-05\n",
       "country_1           2.237989e-04\n",
       "edresp_1            1.019536e-03\n",
       "tQ602d              1.903722e-03\n",
       "SourceIncome_2      4.324852e-03\n",
       "FCMAR_1             5.138660e-03\n",
       "justify             7.202083e-03\n",
       "rQ701d              7.924162e-03\n",
       "EP3_2               1.033209e-02\n",
       "CONTROLNUM_1        1.114044e-02\n",
       "Fam_support         1.205877e-02\n",
       "tQ602c              1.598623e-02\n",
       "sQ601c              3.044801e-02\n",
       "Q702R_2             4.918182e-02\n",
       "earlymarriage_0     4.956180e-02\n",
       "dtype: float64"
      ]
     },
     "execution_count": 55,
     "metadata": {},
     "output_type": "execute_result"
    }
   ],
   "source": [
    "result_chi2"
   ]
  },
  {
   "cell_type": "code",
   "execution_count": null,
   "metadata": {},
   "outputs": [],
   "source": []
  },
  {
   "cell_type": "code",
   "execution_count": 56,
   "metadata": {},
   "outputs": [],
   "source": [
    "cols1 = list(result_chi2.keys())\n",
    "cols1.sort()"
   ]
  },
  {
   "cell_type": "code",
   "execution_count": 57,
   "metadata": {},
   "outputs": [
    {
     "name": "stdout",
     "output_type": "stream",
     "text": [
      "['CONTROLNUM_1', 'CONTROLNUM_2', 'CONTROLNUM_3', 'EP3_2', 'FCMAR_1', 'Fam_support', 'Q513R', 'Q515R', 'Q516R', 'Q702R_2', 'Q702R_3', 'SourceIncome_2', 'country_1', 'earlymarriage_0', 'earlymarriage_1', 'econviol', 'edpart_1', 'edresp_1', 'emotvio', 'justify', 'mcv1006', 'mcv1006a', 'mcv1006b', 'mcv1008', 'mcv1009', 'men_alcohol_all', 'rQ701d', 'sQ601c', 'sumdiffage_1', 'tQ602c', 'tQ602d']\n"
     ]
    }
   ],
   "source": [
    "print(cols1)"
   ]
  },
  {
   "cell_type": "markdown",
   "metadata": {},
   "source": [
    "## SET 2: LOGISTIC MODEL"
   ]
  },
  {
   "cell_type": "code",
   "execution_count": 58,
   "metadata": {},
   "outputs": [],
   "source": [
    "import statsmodels.api as sm"
   ]
  },
  {
   "cell_type": "code",
   "execution_count": 59,
   "metadata": {},
   "outputs": [
    {
     "data": {
      "text/plain": [
       "'emotvio + econviol + Q515R + Q513R + mcv1006 + mcv1006a + mcv1006b + mcv1008 + men_alcohol_all + mcv1009 + Fam_support + Q516R + rQ701d + rQ701b + rQ701a + rQ701c + sQ601c + sQ601d + tQ602d + justify + tQ602c + CONTROLNUM_1 + CONTROLNUM_2 + CONTROLNUM_3 + Q702R_2 + Q702R_3 + earlymarriage_0 + earlymarriage_1 + edpart_1 + edpart_2 + sumdiffage_1 + sumdiffage_2 + sumdiffage_3 + edresp_1 + edresp_2 + country_1 + country_3 + country_4 + country_5 + EP3_2 + EP3_3 + EP3_4 + FCMAR_0 + FCMAR_1 + SourceIncome_1 + SourceIncome_2 + SourceIncome_4 + SourceIncome_5 + ageyr10_2 + ageyr10_3 + ageyr10_4 + ageyr10_5'"
      ]
     },
     "execution_count": 59,
     "metadata": {},
     "output_type": "execute_result"
    }
   ],
   "source": [
    "' + '.join(cols0)"
   ]
  },
  {
   "cell_type": "code",
   "execution_count": 60,
   "metadata": {},
   "outputs": [
    {
     "name": "stdout",
     "output_type": "stream",
     "text": [
      "               Results: Generalized linear model\n",
      "================================================================\n",
      "Model:              GLM              AIC:            3525.5548  \n",
      "Link Function:      logit            BIC:            -29824.8974\n",
      "Dependent Variable: sexphys          Log-Likelihood: -1710.8    \n",
      "Date:               2019-04-30 18:07 LL-Null:        -2550.1    \n",
      "No. Observations:   4054             Deviance:       3421.6     \n",
      "Df Model:           51               Pearson chi2:   3.87e+03   \n",
      "Df Residuals:       4002             Scale:          1.0000     \n",
      "Method:             IRLS                                        \n",
      "----------------------------------------------------------------\n",
      "                 Coef.  Std.Err.    z     P>|z|   [0.025  0.975]\n",
      "----------------------------------------------------------------\n",
      "Intercept       -3.8903   0.3301 -11.7855 0.0000 -4.5372 -3.2433\n",
      "emotvio          2.2237   0.0913  24.3689 0.0000  2.0449  2.4026\n",
      "econviol         0.3832   0.1284   2.9854 0.0028  0.1316  0.6348\n",
      "Q515R            0.3111   0.1248   2.4926 0.0127  0.0665  0.5558\n",
      "Q513R            0.3841   0.1502   2.5574 0.0105  0.0897  0.6784\n",
      "mcv1006          0.3841   0.1002   3.8327 0.0001  0.1877  0.5805\n",
      "mcv1006a         0.1453   0.1186   1.2256 0.2204 -0.0871  0.3778\n",
      "mcv1006b         0.1694   0.1142   1.4839 0.1378 -0.0543  0.3932\n",
      "mcv1008          0.3705   0.1467   2.5263 0.0115  0.0831  0.6580\n",
      "men_alcohol_all  0.1384   0.1053   1.3144 0.1887 -0.0680  0.3448\n",
      "mcv1009          0.2048   0.1251   1.6364 0.1018 -0.0405  0.4501\n",
      "Fam_support     -0.3786   0.1142  -3.3145 0.0009 -0.6025 -0.1547\n",
      "Q516R           -0.1198   0.1897  -0.6316 0.5276 -0.4915  0.2519\n",
      "rQ701d          -0.1470   0.1838  -0.8000 0.4237 -0.5072  0.2132\n",
      "rQ701b          -0.3879   0.2215  -1.7514 0.0799 -0.8219  0.0462\n",
      "rQ701a           0.3665   0.2112   1.7352 0.0827 -0.0475  0.7805\n",
      "rQ701c           0.1153   0.1964   0.5871 0.5571 -0.2697  0.5003\n",
      "sQ601c           0.0093   0.1041   0.0897 0.9285 -0.1947  0.2134\n",
      "sQ601d           0.3082   0.1057   2.9152 0.0036  0.1010  0.5155\n",
      "tQ602d           0.0647   0.1253   0.5167 0.6053 -0.1808  0.3103\n",
      "justify          0.0691   0.1308   0.5286 0.5971 -0.1872  0.3255\n",
      "tQ602c           0.1061   0.1499   0.7080 0.4789 -0.1877  0.3999\n",
      "CONTROLNUM_1     0.1724   0.1173   1.4695 0.1417 -0.0575  0.4024\n",
      "CONTROLNUM_2     0.3851   0.1309   2.9424 0.0033  0.1286  0.6416\n",
      "CONTROLNUM_3     0.7728   0.1339   5.7699 0.0000  0.5103  1.0354\n",
      "Q702R_2          0.1848   0.0982   1.8808 0.0600 -0.0078  0.3773\n",
      "Q702R_3          0.7238   0.1382   5.2369 0.0000  0.4529  0.9947\n",
      "earlymarriage_0  0.0646   0.0809   0.7978 0.4250 -0.0940  0.2232\n",
      "earlymarriage_1  0.3868   0.1001   3.8652 0.0001  0.1906  0.5829\n",
      "edpart_1         0.3341   0.1493   2.2378 0.0252  0.0415  0.6266\n",
      "edpart_2         0.1711   0.1382   1.2382 0.2156 -0.0997  0.4419\n",
      "sumdiffage_1     0.4338   0.1411   3.0747 0.0021  0.1573  0.7104\n",
      "sumdiffage_2     0.0249   0.1232   0.2018 0.8401 -0.2166  0.2663\n",
      "sumdiffage_3     0.0461   0.1210   0.3807 0.7035 -0.1912  0.2833\n",
      "edresp_1         0.2414   0.1561   1.5469 0.1219 -0.0645  0.5473\n",
      "edresp_2         0.1660   0.1211   1.3711 0.1704 -0.0713  0.4034\n",
      "country_1        0.0140   0.1686   0.0831 0.9338 -0.3164  0.3445\n",
      "country_3        0.0275   0.1666   0.1651 0.8689 -0.2991  0.3541\n",
      "country_4        0.0388   0.1725   0.2248 0.8221 -0.2994  0.3770\n",
      "country_5       -0.0218   0.1751  -0.1246 0.9008 -0.3651  0.3215\n",
      "EP3_2            0.3044   0.1416   2.1506 0.0315  0.0270  0.5819\n",
      "EP3_3            0.3830   0.2103   1.8211 0.0686 -0.0292  0.7952\n",
      "EP3_4            0.0120   0.1564   0.0765 0.9390 -0.2946  0.3186\n",
      "FCMAR_0          0.2154   0.0987   2.1829 0.0290  0.0220  0.4087\n",
      "FCMAR_1          0.2360   0.0957   2.4650 0.0137  0.0483  0.4236\n",
      "SourceIncome_1   0.1973   0.1862   1.0592 0.2895 -0.1678  0.5623\n",
      "SourceIncome_2   0.2884   0.1356   2.1275 0.0334  0.0227  0.5541\n",
      "SourceIncome_4   0.1688   0.1344   1.2557 0.2092 -0.0947  0.4323\n",
      "SourceIncome_5   0.3723   0.1698   2.1930 0.0283  0.0396  0.7050\n",
      "ageyr10_2        0.4811   0.1585   3.0348 0.0024  0.1704  0.7917\n",
      "ageyr10_3        0.5349   0.1661   3.2206 0.0013  0.2094  0.8604\n",
      "ageyr10_4        0.3929   0.1754   2.2401 0.0251  0.0491  0.7367\n",
      "ageyr10_5        0.2990   0.1883   1.5881 0.1123 -0.0700  0.6679\n",
      "================================================================\n",
      "\n"
     ]
    }
   ],
   "source": [
    "model = sm.formula.glm(formula='''sexphys ~ emotvio + econviol + Q515R + Q513R + mcv1006 + mcv1006a + mcv1006b + mcv1008 + \n",
    "                        men_alcohol_all + mcv1009 + Fam_support + Q516R + rQ701d + rQ701b + rQ701a + rQ701c + sQ601c + \n",
    "                        sQ601d + tQ602d + justify + tQ602c + CONTROLNUM_1 + CONTROLNUM_2 + CONTROLNUM_3 + Q702R_2 + \n",
    "                        Q702R_3 + earlymarriage_0 + earlymarriage_1 + edpart_1 + edpart_2 + sumdiffage_1 + sumdiffage_2 + \n",
    "                        sumdiffage_3 + edresp_1 + edresp_2 + country_1 + country_3 + country_4 + country_5 + EP3_2 + \n",
    "                        EP3_3 + EP3_4 + FCMAR_0 + FCMAR_1 + SourceIncome_1 + SourceIncome_2 + SourceIncome_4 + \n",
    "                        SourceIncome_5 + ageyr10_2 + ageyr10_3 + ageyr10_4 + ageyr10_5''',\n",
    "                       family=sm.families.Binomial(), data=X_train_dummies.join(y_train)).fit()\n",
    "print(model.summary2())\n"
   ]
  },
  {
   "cell_type": "code",
   "execution_count": 61,
   "metadata": {},
   "outputs": [],
   "source": [
    "#Selection A. \n",
    "cols01 = list(model.pvalues[model.pvalues <=0.05].index)"
   ]
  },
  {
   "cell_type": "code",
   "execution_count": 62,
   "metadata": {},
   "outputs": [],
   "source": [
    "cols01.sort()\n",
    "cols01.remove(\"Intercept\")"
   ]
  },
  {
   "cell_type": "code",
   "execution_count": 63,
   "metadata": {},
   "outputs": [
    {
     "name": "stdout",
     "output_type": "stream",
     "text": [
      "['CONTROLNUM_2', 'CONTROLNUM_3', 'EP3_2', 'FCMAR_0', 'FCMAR_1', 'Fam_support', 'Q513R', 'Q515R', 'Q702R_3', 'SourceIncome_2', 'SourceIncome_5', 'ageyr10_2', 'ageyr10_3', 'ageyr10_4', 'earlymarriage_1', 'econviol', 'edpart_1', 'emotvio', 'mcv1006', 'mcv1008', 'sQ601d', 'sumdiffage_1']\n"
     ]
    }
   ],
   "source": [
    "print(cols01)"
   ]
  },
  {
   "cell_type": "code",
   "execution_count": 64,
   "metadata": {},
   "outputs": [
    {
     "data": {
      "text/plain": [
       "'CONTROLNUM_2 + CONTROLNUM_3 + EP3_2 + FCMAR_0 + FCMAR_1 + Fam_support + Q513R + Q515R + Q702R_3 + SourceIncome_2 + SourceIncome_5 + ageyr10_2 + ageyr10_3 + ageyr10_4 + earlymarriage_1 + econviol + edpart_1 + emotvio + mcv1006 + mcv1008 + sQ601d + sumdiffage_1'"
      ]
     },
     "execution_count": 64,
     "metadata": {},
     "output_type": "execute_result"
    }
   ],
   "source": [
    "' + '.join(cols01)"
   ]
  },
  {
   "cell_type": "code",
   "execution_count": 65,
   "metadata": {},
   "outputs": [],
   "source": [
    "#len(cols01)"
   ]
  },
  {
   "cell_type": "code",
   "execution_count": 66,
   "metadata": {},
   "outputs": [
    {
     "name": "stdout",
     "output_type": "stream",
     "text": [
      "               Results: Generalized linear model\n",
      "================================================================\n",
      "Model:              GLM              AIC:            3509.1917  \n",
      "Link Function:      logit            BIC:            -30024.1768\n",
      "Dependent Variable: sexphys          Log-Likelihood: -1731.6    \n",
      "Date:               2019-04-30 18:07 LL-Null:        -2550.1    \n",
      "No. Observations:   4054             Deviance:       3463.2     \n",
      "Df Model:           22               Pearson chi2:   3.94e+03   \n",
      "Df Residuals:       4031             Scale:          1.0000     \n",
      "Method:             IRLS                                        \n",
      "----------------------------------------------------------------\n",
      "                 Coef.  Std.Err.    z     P>|z|   [0.025  0.975]\n",
      "----------------------------------------------------------------\n",
      "Intercept       -3.0704   0.1891 -16.2370 0.0000 -3.4410 -2.6997\n",
      "CONTROLNUM_2     0.3849   0.1179   3.2632 0.0011  0.1537  0.6160\n",
      "CONTROLNUM_3     0.7544   0.1163   6.4867 0.0000  0.5264  0.9823\n",
      "EP3_2            0.2285   0.1095   2.0871 0.0369  0.0139  0.4431\n",
      "FCMAR_0          0.2462   0.1162   2.1193 0.0341  0.0185  0.4739\n",
      "FCMAR_1          0.3267   0.1302   2.5095 0.0121  0.0715  0.5819\n",
      "Fam_support     -0.3921   0.1111  -3.5310 0.0004 -0.6098 -0.1745\n",
      "Q513R            0.4313   0.1475   2.9247 0.0034  0.1423  0.7203\n",
      "Q515R            0.3541   0.1042   3.3999 0.0007  0.1500  0.5583\n",
      "Q702R_3          0.6323   0.1270   4.9774 0.0000  0.3833  0.8813\n",
      "SourceIncome_2   0.1749   0.1028   1.7007 0.0890 -0.0267  0.3764\n",
      "SourceIncome_5   0.2727   0.1395   1.9557 0.0505 -0.0006  0.5461\n",
      "ageyr10_2        0.2957   0.1206   2.4523 0.0142  0.0594  0.5321\n",
      "ageyr10_3        0.3252   0.1215   2.6767 0.0074  0.0871  0.5633\n",
      "ageyr10_4        0.1633   0.1264   1.2924 0.1962 -0.0844  0.4110\n",
      "earlymarriage_1  0.3648   0.1184   3.0808 0.0021  0.1327  0.5969\n",
      "econviol         0.4323   0.1249   3.4600 0.0005  0.1874  0.6771\n",
      "edpart_1         0.2515   0.0914   2.7519 0.0059  0.0724  0.4307\n",
      "emotvio          2.2750   0.0881  25.8366 0.0000  2.1024  2.4475\n",
      "mcv1006          0.4501   0.0966   4.6605 0.0000  0.2608  0.6394\n",
      "mcv1008          0.4290   0.1413   3.0372 0.0024  0.1522  0.7059\n",
      "sQ601d           0.3328   0.1002   3.3217 0.0009  0.1364  0.5291\n",
      "sumdiffage_1     0.4397   0.1142   3.8498 0.0001  0.2158  0.6635\n",
      "================================================================\n",
      "\n"
     ]
    }
   ],
   "source": [
    "model2 = sm.formula.glm(formula='''sexphys ~ CONTROLNUM_2 + CONTROLNUM_3 + EP3_2 + FCMAR_0 + FCMAR_1 + Fam_support + Q513R +\n",
    "                            Q515R + Q702R_3 + SourceIncome_2 + SourceIncome_5 + ageyr10_2 + ageyr10_3 + ageyr10_4 + \n",
    "                            earlymarriage_1 + econviol + edpart_1 + emotvio + mcv1006 + mcv1008 + sQ601d + sumdiffage_1''',\n",
    "                       family=sm.families.Binomial(), data=X_train_dummies.join(y_train)).fit()\n",
    "print(model2.summary2())"
   ]
  },
  {
   "cell_type": "code",
   "execution_count": 67,
   "metadata": {},
   "outputs": [],
   "source": [
    "cols02 = list(model2.pvalues[model2.pvalues <=0.01].index)\n",
    "cols02.remove('Intercept')\n",
    "cols02.sort()"
   ]
  },
  {
   "cell_type": "code",
   "execution_count": 68,
   "metadata": {},
   "outputs": [
    {
     "data": {
      "text/plain": [
       "'CONTROLNUM_2 + CONTROLNUM_3 + Fam_support + Q513R + Q515R + Q702R_3 + ageyr10_3 + earlymarriage_1 + econviol + edpart_1 + emotvio + mcv1006 + mcv1008 + sQ601d + sumdiffage_1'"
      ]
     },
     "execution_count": 68,
     "metadata": {},
     "output_type": "execute_result"
    }
   ],
   "source": [
    "' + '.join(cols02)"
   ]
  },
  {
   "cell_type": "code",
   "execution_count": 69,
   "metadata": {},
   "outputs": [
    {
     "name": "stdout",
     "output_type": "stream",
     "text": [
      "               Results: Generalized linear model\n",
      "================================================================\n",
      "Model:              GLM              AIC:            3516.1411  \n",
      "Link Function:      logit            BIC:            -30061.3797\n",
      "Dependent Variable: sexphys          Log-Likelihood: -1742.1    \n",
      "Date:               2019-04-30 18:07 LL-Null:        -2550.1    \n",
      "No. Observations:   4054             Deviance:       3484.1     \n",
      "Df Model:           15               Pearson chi2:   3.93e+03   \n",
      "Df Residuals:       4038             Scale:          1.0000     \n",
      "Method:             IRLS                                        \n",
      "----------------------------------------------------------------\n",
      "                 Coef.  Std.Err.    z     P>|z|   [0.025  0.975]\n",
      "----------------------------------------------------------------\n",
      "Intercept       -2.5947   0.1482 -17.5036 0.0000 -2.8852 -2.3042\n",
      "CONTROLNUM_2     0.3776   0.1174   3.2173 0.0013  0.1476  0.6076\n",
      "CONTROLNUM_3     0.7108   0.1140   6.2363 0.0000  0.4874  0.9343\n",
      "Fam_support     -0.3880   0.1104  -3.5136 0.0004 -0.6045 -0.1716\n",
      "Q513R            0.4440   0.1466   3.0291 0.0025  0.1567  0.7312\n",
      "Q515R            0.3422   0.1028   3.3304 0.0009  0.1408  0.5436\n",
      "Q702R_3          0.6434   0.1259   5.1107 0.0000  0.3966  0.8901\n",
      "ageyr10_3        0.1800   0.1000   1.8000 0.0719 -0.0160  0.3759\n",
      "earlymarriage_1  0.4251   0.1112   3.8231 0.0001  0.2072  0.6430\n",
      "econviol         0.4427   0.1244   3.5587 0.0004  0.1989  0.6866\n",
      "edpart_1         0.2336   0.0900   2.5968 0.0094  0.0573  0.4100\n",
      "emotvio          2.2753   0.0874  26.0352 0.0000  2.1040  2.4466\n",
      "mcv1006          0.4582   0.0962   4.7632 0.0000  0.2696  0.6467\n",
      "mcv1008          0.4339   0.1403   3.0921 0.0020  0.1589  0.7089\n",
      "sQ601d           0.3319   0.0994   3.3400 0.0008  0.1372  0.5267\n",
      "sumdiffage_1     0.4319   0.1126   3.8372 0.0001  0.2113  0.6525\n",
      "================================================================\n",
      "\n"
     ]
    }
   ],
   "source": [
    "model3 = sm.formula.glm(formula='''sexphys ~ CONTROLNUM_2 + CONTROLNUM_3 + Fam_support + Q513R + Q515R + Q702R_3 + \n",
    "                        ageyr10_3 + earlymarriage_1 + econviol + edpart_1 + emotvio + mcv1006 + mcv1008 + sQ601d + \n",
    "                        sumdiffage_1''',\n",
    "                       family=sm.families.Binomial(), data=X_train_dummies.join(y_train)).fit()\n",
    "print(model3.summary2())"
   ]
  },
  {
   "cell_type": "code",
   "execution_count": 70,
   "metadata": {},
   "outputs": [],
   "source": [
    "cols03 = list(model3.pvalues[model3.pvalues <=0.05].index)\n",
    "cols03.remove('Intercept')\n",
    "cols03.sort()"
   ]
  },
  {
   "cell_type": "code",
   "execution_count": 71,
   "metadata": {},
   "outputs": [
    {
     "data": {
      "text/plain": [
       "'CONTROLNUM_2 + CONTROLNUM_3 + Fam_support + Q513R + Q515R + Q702R_3 + earlymarriage_1 + econviol + edpart_1 + emotvio + mcv1006 + mcv1008 + sQ601d + sumdiffage_1'"
      ]
     },
     "execution_count": 71,
     "metadata": {},
     "output_type": "execute_result"
    }
   ],
   "source": [
    "' + '.join(cols03)"
   ]
  },
  {
   "cell_type": "code",
   "execution_count": 72,
   "metadata": {},
   "outputs": [
    {
     "name": "stdout",
     "output_type": "stream",
     "text": [
      "               Results: Generalized linear model\n",
      "================================================================\n",
      "Model:              GLM              AIC:            3517.3646  \n",
      "Link Function:      logit            BIC:            -30066.4636\n",
      "Dependent Variable: sexphys          Log-Likelihood: -1743.7    \n",
      "Date:               2019-04-30 18:07 LL-Null:        -2550.1    \n",
      "No. Observations:   4054             Deviance:       3487.4     \n",
      "Df Model:           14               Pearson chi2:   3.93e+03   \n",
      "Df Residuals:       4039             Scale:          1.0000     \n",
      "Method:             IRLS                                        \n",
      "----------------------------------------------------------------\n",
      "                 Coef.  Std.Err.    z     P>|z|   [0.025  0.975]\n",
      "----------------------------------------------------------------\n",
      "Intercept       -2.5485   0.1456 -17.5008 0.0000 -2.8339 -2.2631\n",
      "CONTROLNUM_2     0.3823   0.1171   3.2647 0.0011  0.1528  0.6119\n",
      "CONTROLNUM_3     0.7135   0.1140   6.2611 0.0000  0.4901  0.9368\n",
      "Fam_support     -0.3897   0.1104  -3.5300 0.0004 -0.6060 -0.1733\n",
      "Q513R            0.4399   0.1464   3.0057 0.0026  0.1531  0.7268\n",
      "Q515R            0.3410   0.1027   3.3203 0.0009  0.1397  0.5423\n",
      "Q702R_3          0.6436   0.1258   5.1138 0.0000  0.3969  0.8902\n",
      "earlymarriage_1  0.4196   0.1112   3.7729 0.0002  0.2016  0.6375\n",
      "econviol         0.4409   0.1243   3.5482 0.0004  0.1973  0.6844\n",
      "edpart_1         0.2317   0.0899   2.5760 0.0100  0.0554  0.4079\n",
      "emotvio          2.2749   0.0873  26.0520 0.0000  2.1037  2.4460\n",
      "mcv1006          0.4604   0.0962   4.7880 0.0000  0.2719  0.6488\n",
      "mcv1008          0.4363   0.1404   3.1077 0.0019  0.1611  0.7115\n",
      "sQ601d           0.3319   0.0993   3.3413 0.0008  0.1372  0.5266\n",
      "sumdiffage_1     0.4248   0.1124   3.7796 0.0002  0.2045  0.6451\n",
      "================================================================\n",
      "\n"
     ]
    }
   ],
   "source": [
    "model32 = sm.formula.glm(formula='''sexphys ~ CONTROLNUM_2 + CONTROLNUM_3 + Fam_support + Q513R + Q515R + Q702R_3 + \n",
    "                        earlymarriage_1 + econviol + edpart_1 + emotvio + mcv1006 + mcv1008 + sQ601d + sumdiffage_1''',\n",
    "                       family=sm.families.Binomial(), data=X_train_dummies.join(y_train)).fit()\n",
    "print(model32.summary2())"
   ]
  },
  {
   "cell_type": "code",
   "execution_count": 73,
   "metadata": {},
   "outputs": [],
   "source": [
    "cols032 = list(model32.pvalues[model32.pvalues <=0.05].index)\n",
    "cols032.remove('Intercept')\n",
    "cols032.sort()"
   ]
  },
  {
   "cell_type": "code",
   "execution_count": 74,
   "metadata": {},
   "outputs": [
    {
     "data": {
      "text/plain": [
       "True"
      ]
     },
     "execution_count": 74,
     "metadata": {},
     "output_type": "execute_result"
    }
   ],
   "source": [
    "cols032 == cols03"
   ]
  },
  {
   "cell_type": "code",
   "execution_count": 75,
   "metadata": {},
   "outputs": [
    {
     "data": {
      "text/plain": [
       "14"
      ]
     },
     "execution_count": 75,
     "metadata": {},
     "output_type": "execute_result"
    }
   ],
   "source": [
    "len(cols03)"
   ]
  },
  {
   "cell_type": "code",
   "execution_count": 76,
   "metadata": {},
   "outputs": [],
   "source": [
    "#cols03"
   ]
  },
  {
   "cell_type": "markdown",
   "metadata": {},
   "source": [
    "#### -- Sklearn Chi2 selection"
   ]
  },
  {
   "cell_type": "code",
   "execution_count": 77,
   "metadata": {},
   "outputs": [
    {
     "data": {
      "text/plain": [
       "'CONTROLNUM_1 + CONTROLNUM_2 + CONTROLNUM_3 + EP3_2 + FCMAR_1 + Fam_support + Q513R + Q515R + Q516R + Q702R_2 + Q702R_3 + SourceIncome_2 + country_1 + earlymarriage_0 + earlymarriage_1 + econviol + edpart_1 + edresp_1 + emotvio + justify + mcv1006 + mcv1006a + mcv1006b + mcv1008 + mcv1009 + men_alcohol_all + rQ701d + sQ601c + sumdiffage_1 + tQ602c + tQ602d'"
      ]
     },
     "execution_count": 77,
     "metadata": {},
     "output_type": "execute_result"
    }
   ],
   "source": [
    "' + '.join(cols1)"
   ]
  },
  {
   "cell_type": "code",
   "execution_count": 78,
   "metadata": {},
   "outputs": [
    {
     "name": "stdout",
     "output_type": "stream",
     "text": [
      "               Results: Generalized linear model\n",
      "================================================================\n",
      "Model:              GLM              AIC:            3523.8313  \n",
      "Link Function:      logit            BIC:            -29952.7701\n",
      "Dependent Variable: sexphys          Log-Likelihood: -1729.9    \n",
      "Date:               2019-04-30 18:07 LL-Null:        -2550.1    \n",
      "No. Observations:   4054             Deviance:       3459.8     \n",
      "Df Model:           31               Pearson chi2:   3.88e+03   \n",
      "Df Residuals:       4022             Scale:          1.0000     \n",
      "Method:             IRLS                                        \n",
      "----------------------------------------------------------------\n",
      "                 Coef.  Std.Err.    z     P>|z|   [0.025  0.975]\n",
      "----------------------------------------------------------------\n",
      "Intercept       -2.8270   0.1960 -14.4215 0.0000 -3.2112 -2.4428\n",
      "CONTROLNUM_1     0.1866   0.1151   1.6214 0.1049 -0.0390  0.4121\n",
      "CONTROLNUM_2     0.3970   0.1280   3.1026 0.0019  0.1462  0.6478\n",
      "CONTROLNUM_3     0.7421   0.1280   5.7996 0.0000  0.4913  0.9928\n",
      "EP3_2            0.2139   0.1081   1.9785 0.0479  0.0020  0.4259\n",
      "FCMAR_1          0.0490   0.1250   0.3923 0.6948 -0.1959  0.2940\n",
      "Fam_support     -0.3694   0.1120  -3.2986 0.0010 -0.5889 -0.1499\n",
      "Q513R            0.3558   0.1485   2.3960 0.0166  0.0648  0.6469\n",
      "Q515R            0.3219   0.1233   2.6105 0.0090  0.0802  0.5636\n",
      "Q516R           -0.0719   0.1869  -0.3846 0.7006 -0.4382  0.2944\n",
      "Q702R_2          0.1668   0.0965   1.7289 0.0838 -0.0223  0.3559\n",
      "Q702R_3          0.7117   0.1363   5.2207 0.0000  0.4445  0.9789\n",
      "SourceIncome_2   0.1537   0.0965   1.5935 0.1111 -0.0354  0.3428\n",
      "country_1        0.0612   0.1107   0.5527 0.5805 -0.1557  0.2781\n",
      "earlymarriage_0  0.2115   0.1165   1.8162 0.0693 -0.0167  0.4398\n",
      "earlymarriage_1  0.5084   0.1456   3.4903 0.0005  0.2229  0.7938\n",
      "econviol         0.3981   0.1263   3.1519 0.0016  0.1506  0.6457\n",
      "edpart_1         0.2185   0.0969   2.2546 0.0242  0.0285  0.4084\n",
      "edresp_1         0.1143   0.1144   0.9987 0.3179 -0.1100  0.3386\n",
      "emotvio          2.2085   0.0893  24.7197 0.0000  2.0334  2.3836\n",
      "justify          0.0638   0.1288   0.4951 0.6205 -0.1886  0.3162\n",
      "mcv1006          0.3976   0.0987   4.0289 0.0001  0.2042  0.5911\n",
      "mcv1006a         0.1441   0.1171   1.2308 0.2184 -0.0854  0.3735\n",
      "mcv1006b         0.1520   0.1118   1.3589 0.1742 -0.0672  0.3712\n",
      "mcv1008          0.3655   0.1449   2.5225 0.0117  0.0815  0.6495\n",
      "mcv1009          0.2173   0.1236   1.7581 0.0787 -0.0249  0.4595\n",
      "men_alcohol_all  0.1409   0.1035   1.3610 0.1735 -0.0620  0.3437\n",
      "rQ701d          -0.0539   0.1132  -0.4764 0.6338 -0.2757  0.1679\n",
      "sQ601c           0.1047   0.0982   1.0668 0.2861 -0.0877  0.2972\n",
      "sumdiffage_1     0.4094   0.1143   3.5811 0.0003  0.1853  0.6335\n",
      "tQ602c           0.1183   0.1470   0.8047 0.4210 -0.1698  0.4065\n",
      "tQ602d           0.0815   0.1215   0.6712 0.5021 -0.1565  0.3196\n",
      "================================================================\n",
      "\n"
     ]
    }
   ],
   "source": [
    "model4 = sm.formula.glm(formula='''sexphys ~ CONTROLNUM_1 + CONTROLNUM_2 + CONTROLNUM_3 + EP3_2 + FCMAR_1 + Fam_support + \n",
    "                                Q513R + Q515R + Q516R + Q702R_2 + Q702R_3 + SourceIncome_2 + country_1 + earlymarriage_0 + \n",
    "                                earlymarriage_1 + econviol + edpart_1 + edresp_1 + emotvio + justify + mcv1006 + mcv1006a + \n",
    "                                mcv1006b + mcv1008 + mcv1009 + men_alcohol_all + rQ701d + sQ601c + sumdiffage_1 + tQ602c + \n",
    "                                tQ602d''',\n",
    "                       family=sm.families.Binomial(), data=X_train_dummies.join(y_train)).fit()\n",
    "print(model4.summary2())"
   ]
  },
  {
   "cell_type": "code",
   "execution_count": 79,
   "metadata": {},
   "outputs": [],
   "source": [
    "cols11 = list(model4.pvalues[model4.pvalues <=0.05].index)\n",
    "cols11.remove('Intercept')\n",
    "cols11.sort()"
   ]
  },
  {
   "cell_type": "code",
   "execution_count": 80,
   "metadata": {},
   "outputs": [
    {
     "data": {
      "text/plain": [
       "'CONTROLNUM_2 + CONTROLNUM_3 + EP3_2 + Fam_support + Q513R + Q515R + Q702R_3 + earlymarriage_1 + econviol + edpart_1 + emotvio + mcv1006 + mcv1008 + sumdiffage_1'"
      ]
     },
     "execution_count": 80,
     "metadata": {},
     "output_type": "execute_result"
    }
   ],
   "source": [
    "' + '.join(cols11)"
   ]
  },
  {
   "cell_type": "code",
   "execution_count": 81,
   "metadata": {},
   "outputs": [
    {
     "name": "stdout",
     "output_type": "stream",
     "text": [
      "               Results: Generalized linear model\n",
      "================================================================\n",
      "Model:              GLM              AIC:            3524.3462  \n",
      "Link Function:      logit            BIC:            -30059.4820\n",
      "Dependent Variable: sexphys          Log-Likelihood: -1747.2    \n",
      "Date:               2019-04-30 18:07 LL-Null:        -2550.1    \n",
      "No. Observations:   4054             Deviance:       3494.3     \n",
      "Df Model:           14               Pearson chi2:   3.94e+03   \n",
      "Df Residuals:       4039             Scale:          1.0000     \n",
      "Method:             IRLS                                        \n",
      "----------------------------------------------------------------\n",
      "                 Coef.  Std.Err.    z     P>|z|   [0.025  0.975]\n",
      "----------------------------------------------------------------\n",
      "Intercept       -2.3662   0.1286 -18.4058 0.0000 -2.6182 -2.1143\n",
      "CONTROLNUM_2     0.3675   0.1172   3.1367 0.0017  0.1379  0.5971\n",
      "CONTROLNUM_3     0.6957   0.1138   6.1114 0.0000  0.4726  0.9188\n",
      "EP3_2            0.2112   0.1008   2.0946 0.0362  0.0136  0.4088\n",
      "Fam_support     -0.3764   0.1101  -3.4190 0.0006 -0.5922 -0.1606\n",
      "Q513R            0.4217   0.1461   2.8869 0.0039  0.1354  0.7081\n",
      "Q515R            0.3452   0.1028   3.3596 0.0008  0.1438  0.5466\n",
      "Q702R_3          0.6504   0.1257   5.1748 0.0000  0.4041  0.8967\n",
      "earlymarriage_1  0.4275   0.1112   3.8456 0.0001  0.2096  0.6454\n",
      "econviol         0.4620   0.1240   3.7257 0.0002  0.2190  0.7050\n",
      "edpart_1         0.2551   0.0898   2.8394 0.0045  0.0790  0.4311\n",
      "emotvio          2.2690   0.0872  26.0351 0.0000  2.0982  2.4398\n",
      "mcv1006          0.4620   0.0960   4.8130 0.0000  0.2739  0.6502\n",
      "mcv1008          0.4353   0.1405   3.0987 0.0019  0.1600  0.7107\n",
      "sumdiffage_1     0.4207   0.1121   3.7513 0.0002  0.2009  0.6404\n",
      "================================================================\n",
      "\n"
     ]
    }
   ],
   "source": [
    "model5 = sm.formula.glm(formula='''sexphys ~ CONTROLNUM_2 + CONTROLNUM_3 + EP3_2 + Fam_support + Q513R + Q515R + Q702R_3 + \n",
    "                            earlymarriage_1 + econviol + edpart_1 + emotvio + mcv1006 + mcv1008 + sumdiffage_1''',\n",
    "                       family=sm.families.Binomial(), data=X_train_dummies.join(y_train)).fit()\n",
    "print(model5.summary2())"
   ]
  },
  {
   "cell_type": "code",
   "execution_count": 82,
   "metadata": {},
   "outputs": [],
   "source": [
    "cols12 = list(model5.pvalues[model5.pvalues <=0.05].index)\n",
    "cols12.remove('Intercept')\n",
    "cols12.sort()"
   ]
  },
  {
   "cell_type": "code",
   "execution_count": 83,
   "metadata": {},
   "outputs": [
    {
     "data": {
      "text/plain": [
       "'CONTROLNUM_2 + CONTROLNUM_3 + EP3_2 + Fam_support + Q513R + Q515R + Q702R_3 + earlymarriage_1 + econviol + edpart_1 + emotvio + mcv1006 + mcv1008 + sumdiffage_1'"
      ]
     },
     "execution_count": 83,
     "metadata": {},
     "output_type": "execute_result"
    }
   ],
   "source": [
    "' + '.join(cols12)"
   ]
  },
  {
   "cell_type": "code",
   "execution_count": 84,
   "metadata": {},
   "outputs": [
    {
     "name": "stdout",
     "output_type": "stream",
     "text": [
      "               Results: Generalized linear model\n",
      "================================================================\n",
      "Model:              GLM              AIC:            3524.3462  \n",
      "Link Function:      logit            BIC:            -30059.4820\n",
      "Dependent Variable: sexphys          Log-Likelihood: -1747.2    \n",
      "Date:               2019-04-30 18:07 LL-Null:        -2550.1    \n",
      "No. Observations:   4054             Deviance:       3494.3     \n",
      "Df Model:           14               Pearson chi2:   3.94e+03   \n",
      "Df Residuals:       4039             Scale:          1.0000     \n",
      "Method:             IRLS                                        \n",
      "----------------------------------------------------------------\n",
      "                 Coef.  Std.Err.    z     P>|z|   [0.025  0.975]\n",
      "----------------------------------------------------------------\n",
      "Intercept       -2.3662   0.1286 -18.4058 0.0000 -2.6182 -2.1143\n",
      "CONTROLNUM_2     0.3675   0.1172   3.1367 0.0017  0.1379  0.5971\n",
      "CONTROLNUM_3     0.6957   0.1138   6.1114 0.0000  0.4726  0.9188\n",
      "EP3_2            0.2112   0.1008   2.0946 0.0362  0.0136  0.4088\n",
      "Fam_support     -0.3764   0.1101  -3.4190 0.0006 -0.5922 -0.1606\n",
      "Q513R            0.4217   0.1461   2.8869 0.0039  0.1354  0.7081\n",
      "Q515R            0.3452   0.1028   3.3596 0.0008  0.1438  0.5466\n",
      "Q702R_3          0.6504   0.1257   5.1748 0.0000  0.4041  0.8967\n",
      "earlymarriage_1  0.4275   0.1112   3.8456 0.0001  0.2096  0.6454\n",
      "econviol         0.4620   0.1240   3.7257 0.0002  0.2190  0.7050\n",
      "edpart_1         0.2551   0.0898   2.8394 0.0045  0.0790  0.4311\n",
      "emotvio          2.2690   0.0872  26.0351 0.0000  2.0982  2.4398\n",
      "mcv1006          0.4620   0.0960   4.8130 0.0000  0.2739  0.6502\n",
      "mcv1008          0.4353   0.1405   3.0987 0.0019  0.1600  0.7107\n",
      "sumdiffage_1     0.4207   0.1121   3.7513 0.0002  0.2009  0.6404\n",
      "================================================================\n",
      "\n"
     ]
    }
   ],
   "source": [
    "model6 = sm.formula.glm(formula='''sexphys ~ CONTROLNUM_2 + CONTROLNUM_3 + EP3_2 + Fam_support + Q513R + Q515R + Q702R_3 + \n",
    "                            earlymarriage_1 + econviol + edpart_1 + emotvio + mcv1006 + mcv1008 + sumdiffage_1''',\n",
    "                       family=sm.families.Binomial(), data=X_train_dummies.join(y_train)).fit()\n",
    "print(model6.summary2())"
   ]
  },
  {
   "cell_type": "code",
   "execution_count": 85,
   "metadata": {},
   "outputs": [],
   "source": [
    "cols13 = list(model6.pvalues[model6.pvalues <=0.05].index)\n",
    "cols13.remove('Intercept')\n",
    "cols13.sort()"
   ]
  },
  {
   "cell_type": "code",
   "execution_count": 86,
   "metadata": {},
   "outputs": [
    {
     "data": {
      "text/plain": [
       "True"
      ]
     },
     "execution_count": 86,
     "metadata": {},
     "output_type": "execute_result"
    }
   ],
   "source": [
    "cols12==cols13"
   ]
  },
  {
   "cell_type": "code",
   "execution_count": 87,
   "metadata": {},
   "outputs": [
    {
     "data": {
      "text/plain": [
       "14"
      ]
     },
     "execution_count": 87,
     "metadata": {},
     "output_type": "execute_result"
    }
   ],
   "source": [
    "len(cols13)"
   ]
  },
  {
   "cell_type": "markdown",
   "metadata": {},
   "source": [
    "### Create the dummies data for validation and test set"
   ]
  },
  {
   "cell_type": "code",
   "execution_count": 88,
   "metadata": {},
   "outputs": [],
   "source": [
    "def dummies(df):    \n",
    "    df_reduced = df[list(All_sign.variable)].copy() \n",
    "\n",
    "    for var in nominal_var:\n",
    "        df_reduced[var] = df_reduced[var].astype('category')  ### Might need to consider reduced for the multilevel regression\n",
    "\n",
    "    df_dummies = pd.get_dummies(df_reduced)\n",
    "    \n",
    "    return df_dummies\n"
   ]
  },
  {
   "cell_type": "code",
   "execution_count": 89,
   "metadata": {},
   "outputs": [],
   "source": [
    "X_val_dummies = dummies(X_val)"
   ]
  },
  {
   "cell_type": "code",
   "execution_count": 90,
   "metadata": {},
   "outputs": [],
   "source": [
    "X_test_dummies = dummies(X_test)"
   ]
  },
  {
   "cell_type": "code",
   "execution_count": 91,
   "metadata": {},
   "outputs": [],
   "source": [
    "#X_test_dummies.head()"
   ]
  },
  {
   "cell_type": "code",
   "execution_count": 92,
   "metadata": {},
   "outputs": [],
   "source": [
    "from sklearn.model_selection import PredefinedSplit"
   ]
  },
  {
   "cell_type": "code",
   "execution_count": 93,
   "metadata": {},
   "outputs": [],
   "source": [
    "fold = np.array([-1 for x in range(X_train_dummies.shape[0])] + [0 for x in range(X_val_dummies.shape[0])])\n",
    "ps = PredefinedSplit(test_fold=fold)"
   ]
  },
  {
   "cell_type": "code",
   "execution_count": 94,
   "metadata": {},
   "outputs": [],
   "source": [
    "#Drop columns based on theory and chi2 contingency\n",
    "X_val_dummies.drop(columns=['earlymarriage_9', 'edpart_3', 'sumdiffage_4', 'edresp_3', 'country_2', 'EP3_1', 'FCMAR_9', \n",
    "                              'ageyr10_1', 'SourceIncome_3', 'Q702R_1', 'CONTROLNUM_0'], inplace=True)"
   ]
  },
  {
   "cell_type": "code",
   "execution_count": 95,
   "metadata": {},
   "outputs": [],
   "source": [
    "#Drop columns based on theory and chi2 contingency\n",
    "X_test_dummies.drop(columns=['earlymarriage_9', 'edpart_3', 'sumdiffage_4', 'edresp_3', 'country_2', 'EP3_1', 'FCMAR_9', \n",
    "                              'ageyr10_1', 'SourceIncome_3', 'Q702R_1', 'CONTROLNUM_0'], inplace=True)"
   ]
  },
  {
   "cell_type": "code",
   "execution_count": 96,
   "metadata": {},
   "outputs": [],
   "source": [
    "X_all_dummies = pd.concat([X_train_dummies, X_val_dummies]) #pd.concat([X_train_dummies[cols2], X_val_dummies[cols2] ])\n",
    "X_all_dummies = X_all_dummies.reset_index()\n",
    "X_all_dummies = X_all_dummies.drop(labels='index', axis=1)\n",
    "\n",
    "y_all = pd.concat([y_train, y_val])\n",
    "#y_all = y_all.reset_index()\n",
    "#y_all = y_all.drop(labels='index', axis=1)"
   ]
  },
  {
   "cell_type": "code",
   "execution_count": 97,
   "metadata": {},
   "outputs": [],
   "source": [
    "#y_all.tail(10)"
   ]
  },
  {
   "cell_type": "code",
   "execution_count": 98,
   "metadata": {},
   "outputs": [],
   "source": [
    "#y_val.tail(10)"
   ]
  },
  {
   "cell_type": "markdown",
   "metadata": {},
   "source": [
    "# MODEL TRAINING"
   ]
  },
  {
   "cell_type": "markdown",
   "metadata": {},
   "source": [
    "## 1. LOGISTIC REGRESSION CLASSIFIER"
   ]
  },
  {
   "cell_type": "code",
   "execution_count": 99,
   "metadata": {},
   "outputs": [],
   "source": [
    "from sklearn.model_selection import GridSearchCV, PredefinedSplit\n",
    "from sklearn.preprocessing import StandardScaler, MinMaxScaler\n",
    "from sklearn.linear_model import LogisticRegression\n",
    "from sklearn.pipeline import Pipeline, make_pipeline\n",
    "#from sklearn.pipeline import make_pipeline\n",
    "#from sklearn.model_selection import PredefinedSplit"
   ]
  },
  {
   "cell_type": "code",
   "execution_count": 100,
   "metadata": {},
   "outputs": [],
   "source": [
    "#define a learning curve function\n",
    "\n",
    "from sklearn.model_selection import learning_curve\n",
    "\n",
    "def l_curve(estimator, df_train, df_target, title):\n",
    "    train_sizes, train_scores, test_scores =\\\n",
    "                    learning_curve(estimator=estimator,\n",
    "                                   X=df_train,  #Need to add a scorer related to recall\n",
    "                                   y=df_target,\n",
    "                                   train_sizes=np.linspace(0.1, 1.0, 10),\n",
    "                                   cv=ps,\n",
    "                                   scoring='roc_auc',\n",
    "                                   n_jobs=1)\n",
    "\n",
    "    train_mean = np.mean(train_scores, axis=1)\n",
    "    train_std = np.std(train_scores, axis=1)\n",
    "    test_mean = np.mean(test_scores, axis=1)\n",
    "    test_std = np.std(test_scores, axis=1)\n",
    "\n",
    "    plt.plot(train_sizes, train_mean,\n",
    "             color='blue', marker='o',\n",
    "             markersize=5, label='training accuracy')\n",
    "\n",
    "    plt.fill_between(train_sizes,\n",
    "                     train_mean + train_std,\n",
    "                     train_mean - train_std,\n",
    "                     alpha=0.15, color='blue')\n",
    "\n",
    "    plt.plot(train_sizes, test_mean,\n",
    "             color='green', linestyle='--',\n",
    "             marker='s', markersize=5,\n",
    "             label='validation accuracy')\n",
    "\n",
    "    plt.fill_between(train_sizes,\n",
    "                     test_mean + test_std,\n",
    "                     test_mean - test_std,\n",
    "                     alpha=0.15, color='green')\n",
    "\n",
    "    plt.grid()\n",
    "    plt.xlabel('Number of training samples')\n",
    "    plt.ylabel('Accuracy')\n",
    "    plt.legend(loc='lower right')\n",
    "    plt.ylim([0.5, 1.03])\n",
    "    plt.tight_layout()\n",
    "    plt.title(title)\n",
    "    plt.show()\n",
    "    #return train_sizes, train_scores, test_scores"
   ]
  },
  {
   "cell_type": "code",
   "execution_count": 101,
   "metadata": {},
   "outputs": [],
   "source": [
    "#Define a function to create the confusion matrix\n",
    "\n",
    "from sklearn.metrics import confusion_matrix\n",
    "\n",
    "def conf_mat (estimator, np_train, np_test, title, y_true=y_val):\n",
    "    clf = estimator\n",
    "    clf.fit(np_train, y_train)\n",
    "    y_pred = clf.predict(np_test)\n",
    "    confmat = confusion_matrix(y_true=y_val, y_pred=y_pred)\n",
    "\n",
    "    fig, ax = plt.subplots(figsize=(5, 5))\n",
    "    ax.matshow(confmat, cmap=plt.cm.Blues, alpha=0.3)\n",
    "    for i in range(confmat.shape[0]):\n",
    "        for j in range(confmat.shape[1]):\n",
    "            ax.text(x=j, y=i,\n",
    "            s=confmat[i, j],\n",
    "            va='center', ha='center')\n",
    "    plt.xlabel('predicted label')\n",
    "    plt.ylabel('true label')\n",
    "    plt.title(title)\n",
    "    plt.show()"
   ]
  },
  {
   "cell_type": "code",
   "execution_count": 102,
   "metadata": {},
   "outputs": [],
   "source": [
    "# Create a function to calculate the scores\n",
    "\n",
    "from sklearn.metrics import classification_report, f1_score\n",
    "\n",
    "#from sklearn.metrics import precision_score\n",
    "#from sklearn.metrics import recall_score, f1_score\n",
    "from sklearn.metrics import roc_curve\n",
    "from sklearn.metrics import roc_auc_score, accuracy_score\n",
    "\n",
    "def different_scores (estimator, np_train, np_test, title, y=y_val):\n",
    "    \n",
    "    #instantiate the classifier and do predictions\n",
    "    clf = estimator\n",
    "    clf.fit(np_train, y_train)\n",
    "    y_pred = clf.predict(np_test)\n",
    "    \n",
    "    print(classification_report(y, y_pred, target_names=['no', 'yes']))  #sample_weight=[0.33, 0.67]\n",
    "    \n",
    "    #precision_score(y_true=y, y_pred=y_pred)\n",
    "    '''#print the different scores \n",
    "    print('Precision: %.3f' % precision_score(\n",
    "    y_true=y, y_pred=y_pred))\n",
    "    print('Recall: %.3f' % recall_score(\n",
    "    y_true=y, y_pred=y_pred))\n",
    "    print('F1: %.3f' % f1_score(\n",
    "    y_true=y, y_pred=y_pred))'''\n",
    "    print('Accuracy: %.3f' % accuracy_score(\n",
    "    y_true=y, y_pred=y_pred))\n",
    "    \n",
    "    #create the AUC \n",
    "    \n",
    "    auc = roc_auc_score(y, clf.predict_proba(np_test)[:,1])#y_pred)average='micro'\n",
    "    fpr, tpr, thresholds = roc_curve(y, clf.predict_proba(np_test)[:,1])\n",
    "    plt.figure()\n",
    "    plt.plot(fpr, tpr, label='AUC = %0.3f' % auc)\n",
    "    plt.plot([0, 1], [0, 1],'r--')\n",
    "    plt.xlim([0.0, 1.0])\n",
    "    plt.ylim([0.0, 1.05])\n",
    "    plt.xlabel('False Positive Rate')\n",
    "    plt.ylabel('True Positive Rate')\n",
    "    plt.title('Receiver Operating Characteristic - '+title)\n",
    "    plt.legend(loc=\"lower right\")\n",
    "    #plt.savefig('Log_ROC')\n",
    "    plt.show()"
   ]
  },
  {
   "cell_type": "markdown",
   "metadata": {},
   "source": [
    "## 6. MLP"
   ]
  },
  {
   "cell_type": "code",
   "execution_count": null,
   "metadata": {},
   "outputs": [],
   "source": []
  },
  {
   "cell_type": "code",
   "execution_count": 103,
   "metadata": {},
   "outputs": [
    {
     "data": {
      "text/plain": [
       "<torch._C.Generator at 0x25fedc8fcb0>"
      ]
     },
     "execution_count": 103,
     "metadata": {},
     "output_type": "execute_result"
    }
   ],
   "source": [
    "#----------------    Importing packages\n",
    "\n",
    "import torch\n",
    "import torchvision\n",
    "import torchvision.transforms as transforms\n",
    "import matplotlib.pyplot as plt\n",
    "import numpy as np\n",
    "import torch.nn as nn\n",
    "import torch.nn.functional as F\n",
    "import torch.optim as optim\n",
    "from torch.autograd import Variable\n",
    "from torchvision import transforms\n",
    "from torch.utils.data import DataLoader, Dataset, TensorDataset\n",
    "from time import clock\n",
    "#from tensorboardX import SummaryWriter\n",
    "from sklearn import metrics\n",
    "from sklearn.preprocessing import label_binarize\n",
    "import pandas as pd\n",
    "\n",
    "\n",
    "torch.backends.cudnn.deterministic = True\n",
    "torch.manual_seed(999)"
   ]
  },
  {
   "cell_type": "code",
   "execution_count": 104,
   "metadata": {},
   "outputs": [],
   "source": [
    "# ----------- Initialization of some key variables\n",
    "#  Write models outputs in tensorboard files\n",
    "#writer_train = SummaryWriter('runsLN/models')\n",
    "\n",
    "batch_size = 64\n",
    "epochs = 20\n",
    "\n",
    "#--------------------      Data preprocessing\n",
    "is_cuda=False\n",
    "if torch.cuda.is_available():\n",
    "    is_cuda = True"
   ]
  },
  {
   "cell_type": "code",
   "execution_count": 105,
   "metadata": {},
   "outputs": [],
   "source": [
    "def customDataset(df_X, df_y, batch_size=batch_size):\n",
    "    X_tensor = torch.tensor(df_X.values)\n",
    "    X_tensor = X_tensor.type(torch.FloatTensor)\n",
    "    y_tensor = torch.tensor(df_y.values)\n",
    "    \n",
    "    dataset_tensor = TensorDataset(X_tensor, y_tensor)\n",
    "    dataset_loader = DataLoader(dataset=dataset_tensor, batch_size=batch_size, shuffle=True)\n",
    "    return dataset_loader\n",
    "    "
   ]
  },
  {
   "cell_type": "code",
   "execution_count": null,
   "metadata": {},
   "outputs": [],
   "source": []
  },
  {
   "cell_type": "markdown",
   "metadata": {},
   "source": [
    "## Set 2 \n",
    "### -- 2 layers"
   ]
  },
  {
   "cell_type": "markdown",
   "metadata": {},
   "source": [
    "### AUC"
   ]
  },
  {
   "cell_type": "code",
   "execution_count": 106,
   "metadata": {},
   "outputs": [],
   "source": [
    "train_loader = customDataset(X_train_dummies[cols03], y_train)\n",
    "train_iter = iter(train_loader)"
   ]
  },
  {
   "cell_type": "code",
   "execution_count": 107,
   "metadata": {},
   "outputs": [
    {
     "name": "stdout",
     "output_type": "stream",
     "text": [
      "inputs shape on batch size = torch.Size([64, 14])\n",
      "labels shape on batch size = torch.Size([64])\n"
     ]
    }
   ],
   "source": [
    "inputs, labels = train_iter.next()\n",
    "\n",
    "print('inputs shape on batch size = {}'.format(inputs.size()))\n",
    "print('labels shape on batch size = {}'.format(labels.size()))"
   ]
  },
  {
   "cell_type": "code",
   "execution_count": 108,
   "metadata": {},
   "outputs": [],
   "source": [
    "val_loader = customDataset(X_val_dummies[cols03], y_val)\n",
    "val_iter = iter(val_loader)"
   ]
  },
  {
   "cell_type": "code",
   "execution_count": 118,
   "metadata": {},
   "outputs": [
    {
     "data": {
      "text/plain": [
       "14"
      ]
     },
     "execution_count": 118,
     "metadata": {},
     "output_type": "execute_result"
    }
   ],
   "source": [
    "len(cols03)"
   ]
  },
  {
   "cell_type": "code",
   "execution_count": 108,
   "metadata": {},
   "outputs": [],
   "source": [
    "#cols02"
   ]
  },
  {
   "cell_type": "code",
   "execution_count": 109,
   "metadata": {},
   "outputs": [],
   "source": [
    "# Choose the right values for x.\n",
    "input_size = 14\n",
    "hidden_size = 5    #11\n",
    "#hidden_size2 = 4    #6\n",
    "num_classes = 2\n",
    "num_epochs = 20\n",
    "#batch_size = 100\n",
    "learning_rate = 0.001"
   ]
  },
  {
   "cell_type": "code",
   "execution_count": 110,
   "metadata": {},
   "outputs": [],
   "source": [
    "class Net(nn.Module):\n",
    "    def __init__(self, input_size, hidden_size, num_classes):\n",
    "        super(Net, self).__init__()\n",
    "        self.fc1 = nn.Linear(input_size, hidden_size)\n",
    "        self.relu = nn.ReLU()\n",
    "        self.fc2 = nn.Linear(hidden_size, num_classes)\n",
    "        self.lr = nn.Sigmoid()\n",
    "\n",
    "    def forward(self, x):\n",
    "        out = self.fc1(x)\n",
    "        out = self.relu(out)\n",
    "        out = self.fc2(out)\n",
    "        out = self.lr(out)\n",
    "        return out"
   ]
  },
  {
   "cell_type": "code",
   "execution_count": 111,
   "metadata": {},
   "outputs": [],
   "source": [
    "net = Net(input_size, hidden_size, num_classes)\n",
    "\n",
    "if is_cuda:\n",
    "    net.cuda()"
   ]
  },
  {
   "cell_type": "code",
   "execution_count": 112,
   "metadata": {},
   "outputs": [],
   "source": [
    "# Loss and Optimizer\n",
    "\n",
    "#learning_rate = 0.001\n",
    "#weights = [0.4, 1]\n",
    "#class_weights=torch.FloatTensor(weights).cuda()   # might need to add is cuda\n",
    "class_weights=torch.FloatTensor([1, 2])\n",
    "criterion = nn.CrossEntropyLoss(weight=class_weights)\n",
    "\n",
    "#criterion = F.cross_entropy()\n",
    "optimizer = torch.optim.Adam(net.parameters(), lr=learning_rate)\n",
    "# -----------------------------------------------------------------------------------"
   ]
  },
  {
   "cell_type": "code",
   "execution_count": 113,
   "metadata": {},
   "outputs": [],
   "source": [
    "#   Training of the model\n",
    "#   A. Design the setup\n",
    "def fit(epoch, model, data_loader, opti, phase='training', volatile=False):\n",
    "    if phase == 'training':\n",
    "        model.train()\n",
    "    if phase == 'validation':\n",
    "        model.eval()\n",
    "        volatile = True\n",
    "    \n",
    "    running_loss = 0.0\n",
    "    running_correct = 0\n",
    "    \n",
    "    y_score1 = np.empty([0]) #\n",
    "    y_true1 = np.empty([0])  #\n",
    "    y_pred1 = np.empty([0])\n",
    "    \n",
    "    for batch_idx, (data, target) in enumerate(data_loader):\n",
    "\n",
    "        if is_cuda:\n",
    "            data, target = data.cuda(), target.cuda()\n",
    "        data, target = Variable(data, volatile), Variable(target)\n",
    "\n",
    "        if phase == 'training':\n",
    "            opti.zero_grad()\n",
    "        output = model(data)\n",
    "        #loss = F.nll_loss(output, target)\n",
    "        loss = criterion(output, target)\n",
    "\n",
    "        #running_loss += F.nll_loss(output, target, reduction='sum').data.item()\n",
    "        running_loss += criterion(output, target).cpu().data.item()\n",
    "        preds = output.data.max(dim=1, keepdim=True)[1]\n",
    "        \n",
    "        _, pred = torch.max(output.data, 1)\n",
    "        \n",
    "        running_correct += preds.eq(target.data.view_as(preds)).cpu().sum()\n",
    "        if phase == 'training':\n",
    "            loss.backward()\n",
    "            opti.step()\n",
    "        \n",
    "        y_score1 = np.concatenate((y_score1, output.detach().cpu().numpy()[:, 1]), axis=None) #\n",
    "        y_true1 = np.concatenate((y_true1, target.data.cpu().numpy()), axis=None)\n",
    "        y_pred1 = np.concatenate((y_pred1, pred.data.cpu().numpy()), axis=None)\n",
    "        \n",
    "    auc1 = roc_auc_score(y_true1, y_score1) #\n",
    "    #print(y_true1)\n",
    "    #print(y_pred1)\n",
    "    fscore = f1_score(y_true1, y_pred1)\n",
    "\n",
    "    loss = running_loss / len(data_loader.dataset)\n",
    "    accuracy = 100. * running_correct / len(data_loader.dataset)\n",
    "\n",
    "    print(\n",
    "        '{} loss is {} and {} accuracy is {}/{}, {}'.format(phase, loss, phase, running_correct, len(data_loader.dataset), accuracy ))\n",
    "    \n",
    "    print(\n",
    "        '{} AUC is {}'.format(phase, auc1))\n",
    "    \n",
    "    print('F1: %.3f' % fscore)\n",
    "    print('________________')\n",
    "    return loss, accuracy, auc1, fscore\n",
    "# -----------------------------------------------------------------------------------"
   ]
  },
  {
   "cell_type": "code",
   "execution_count": 114,
   "metadata": {},
   "outputs": [
    {
     "data": {
      "text/plain": [
       "Net(\n",
       "  (fc1): Linear(in_features=14, out_features=5, bias=True)\n",
       "  (relu): ReLU()\n",
       "  (fc2): Linear(in_features=5, out_features=2, bias=True)\n",
       "  (lr): Sigmoid()\n",
       ")"
      ]
     },
     "execution_count": 114,
     "metadata": {},
     "output_type": "execute_result"
    }
   ],
   "source": [
    "#  C. Training final preparation\n",
    "\n",
    "# ----- Weight initialization\n",
    "def init_weights(m):\n",
    "    if type(m) == nn.Linear:\n",
    "        torch.nn.init.xavier_normal_(m.weight)\n",
    "        #m.bias.data.fill_(0.01)\n",
    "\n",
    "net.apply(init_weights)"
   ]
  },
  {
   "cell_type": "code",
   "execution_count": 115,
   "metadata": {},
   "outputs": [],
   "source": [
    "# ----- Learning rate regularization\n",
    "#####  NEED TO CHANGE THE patience\n",
    "scheduler = optim.lr_scheduler.ReduceLROnPlateau(optimizer, mode='max', patience=2, verbose=True)"
   ]
  },
  {
   "cell_type": "code",
   "execution_count": 126,
   "metadata": {},
   "outputs": [],
   "source": [
    "#val_loader.dataset.tensors[0].shape"
   ]
  },
  {
   "cell_type": "code",
   "execution_count": 116,
   "metadata": {},
   "outputs": [
    {
     "name": "stdout",
     "output_type": "stream",
     "text": [
      "training loss is 0.010886010699632078 and training accuracy is 2742/4054, 67\n",
      "training AUC is 0.5577796145780717\n",
      "F1: 0.159\n",
      "________________\n",
      "validation loss is 0.011073533835701893 and validation accuracy is 607/869, 69\n",
      "validation AUC is 0.5935059422750425\n",
      "F1: 0.280\n",
      "________________\n",
      "training loss is 0.010768498628081862 and training accuracy is 2823/4054, 69\n",
      "training AUC is 0.6602773846746846\n",
      "F1: 0.373\n",
      "________________\n",
      "validation loss is 0.01091022040133372 and validation accuracy is 624/869, 71\n",
      "validation AUC is 0.6905529953917051\n",
      "F1: 0.473\n",
      "________________\n",
      "training loss is 0.010574992634006833 and training accuracy is 2937/4054, 72\n",
      "training AUC is 0.7476996163592113\n",
      "F1: 0.567\n",
      "________________\n",
      "validation loss is 0.010700396070271833 and validation accuracy is 628/869, 72\n",
      "validation AUC is 0.7568214892068882\n",
      "F1: 0.599\n",
      "________________\n",
      "training loss is 0.010226862340592138 and training accuracy is 3001/4054, 74\n",
      "training AUC is 0.8006263210699084\n",
      "F1: 0.649\n",
      "________________\n",
      "validation loss is 0.010291767751388637 and validation accuracy is 643/869, 73\n",
      "validation AUC is 0.7891705069124424\n",
      "F1: 0.664\n",
      "________________\n",
      "training loss is 0.009795177347505981 and training accuracy is 3015/4054, 74\n",
      "training AUC is 0.8198157355341541\n",
      "F1: 0.672\n",
      "________________\n",
      "validation loss is 0.00985595950871809 and validation accuracy is 651/869, 74\n",
      "validation AUC is 0.807749211739025\n",
      "F1: 0.672\n",
      "________________\n",
      "training loss is 0.009402989223783218 and training accuracy is 3074/4054, 75\n",
      "training AUC is 0.8254910309876557\n",
      "F1: 0.684\n",
      "________________\n",
      "validation loss is 0.009496977812127222 and validation accuracy is 664/869, 76\n",
      "validation AUC is 0.8142796507397527\n",
      "F1: 0.685\n",
      "________________\n",
      "training loss is 0.009093935259116595 and training accuracy is 3156/4054, 77\n",
      "training AUC is 0.8292947382629158\n",
      "F1: 0.701\n",
      "________________\n",
      "validation loss is 0.009301023941457065 and validation accuracy is 679/869, 78\n",
      "validation AUC is 0.8188818821246665\n",
      "F1: 0.696\n",
      "________________\n",
      "training loss is 0.008873096301041628 and training accuracy is 3181/4054, 78\n",
      "training AUC is 0.8333674254600002\n",
      "F1: 0.703\n",
      "________________\n",
      "validation loss is 0.009054860325210799 and validation accuracy is 681/869, 78\n",
      "validation AUC is 0.8213982536987628\n",
      "F1: 0.697\n",
      "________________\n",
      "training loss is 0.008703320792113023 and training accuracy is 3197/4054, 78\n",
      "training AUC is 0.8380916201552653\n",
      "F1: 0.706\n",
      "________________\n",
      "validation loss is 0.008886967861748401 and validation accuracy is 685/869, 78\n",
      "validation AUC is 0.8276740237691003\n",
      "F1: 0.701\n",
      "________________\n",
      "training loss is 0.008579988034417256 and training accuracy is 3210/4054, 79\n",
      "training AUC is 0.8407798887066004\n",
      "F1: 0.709\n",
      "________________\n",
      "validation loss is 0.008793909715700753 and validation accuracy is 687/869, 79\n",
      "validation AUC is 0.8297235023041473\n",
      "F1: 0.704\n",
      "________________\n",
      "training loss is 0.00852280616260363 and training accuracy is 3228/4054, 79\n",
      "training AUC is 0.8414336226293797\n",
      "F1: 0.711\n",
      "________________\n",
      "validation loss is 0.008742273196800944 and validation accuracy is 690/869, 79\n",
      "validation AUC is 0.8335132185301964\n",
      "F1: 0.707\n",
      "________________\n",
      "training loss is 0.008430016073147887 and training accuracy is 3236/4054, 79\n",
      "training AUC is 0.8425844058438079\n",
      "F1: 0.712\n",
      "________________\n",
      "validation loss is 0.008698548731513073 and validation accuracy is 691/869, 79\n",
      "validation AUC is 0.8356475867087072\n",
      "F1: 0.709\n",
      "________________\n",
      "training loss is 0.008374037865235056 and training accuracy is 3236/4054, 79\n",
      "training AUC is 0.8437751255494745\n",
      "F1: 0.713\n",
      "________________\n",
      "validation loss is 0.008653919427935355 and validation accuracy is 693/869, 79\n",
      "validation AUC is 0.8364237205918021\n",
      "F1: 0.711\n",
      "________________\n",
      "training loss is 0.008345291437512262 and training accuracy is 3235/4054, 79\n",
      "training AUC is 0.8444706049334786\n",
      "F1: 0.711\n",
      "________________\n",
      "validation loss is 0.008625197568340324 and validation accuracy is 692/869, 79\n",
      "validation AUC is 0.8370361387339317\n",
      "F1: 0.709\n",
      "________________\n",
      "training loss is 0.00830897415395905 and training accuracy is 3235/4054, 79\n",
      "training AUC is 0.8448361560222699\n",
      "F1: 0.712\n",
      "________________\n",
      "validation loss is 0.008600900856342908 and validation accuracy is 693/869, 79\n",
      "validation AUC is 0.8376849381518312\n",
      "F1: 0.711\n",
      "________________\n",
      "training loss is 0.008273268692823955 and training accuracy is 3244/4054, 80\n",
      "training AUC is 0.8453162288263542\n",
      "F1: 0.714\n",
      "________________\n",
      "validation loss is 0.008538523566736587 and validation accuracy is 695/869, 79\n",
      "validation AUC is 0.8385884065001215\n",
      "F1: 0.713\n",
      "________________\n",
      "training loss is 0.00826260490139894 and training accuracy is 3246/4054, 80\n",
      "training AUC is 0.8462098599996382\n",
      "F1: 0.715\n",
      "________________\n",
      "validation loss is 0.008498130891347782 and validation accuracy is 693/869, 79\n",
      "validation AUC is 0.8401709919961193\n",
      "F1: 0.711\n",
      "________________\n",
      "training loss is 0.008223971498088997 and training accuracy is 3249/4054, 80\n",
      "training AUC is 0.8461732631452978\n",
      "F1: 0.715\n",
      "________________\n",
      "validation loss is 0.008540552525306324 and validation accuracy is 693/869, 79\n",
      "validation AUC is 0.8402073732718894\n",
      "F1: 0.711\n",
      "________________\n",
      "training loss is 0.008212173740794403 and training accuracy is 3245/4054, 80\n",
      "training AUC is 0.8467762067569202\n",
      "F1: 0.714\n",
      "________________\n",
      "validation loss is 0.008539781231600341 and validation accuracy is 693/869, 79\n",
      "validation AUC is 0.8404135338345865\n",
      "F1: 0.711\n",
      "________________\n",
      "training loss is 0.008210334237655749 and training accuracy is 3245/4054, 80\n",
      "training AUC is 0.848258448933473\n",
      "F1: 0.715\n",
      "________________\n",
      "validation loss is 0.008496915032043282 and validation accuracy is 694/869, 79\n",
      "validation AUC is 0.8406015037593986\n",
      "F1: 0.712\n",
      "________________\n"
     ]
    }
   ],
   "source": [
    "# ----- Full training\n",
    "train_losses, train_accuracy, train_auc, train_fscore = [], [], [], []\n",
    "val_losses, val_accuracy, val_auc, val_fscore= [], [], [], []\n",
    "\n",
    "\n",
    "start = clock()\n",
    "for epoch in range(0, epochs):\n",
    "    epoch_loss, epoch_accuracy, epo_auc, epo_f = fit(epoch, net, train_loader, optimizer, phase='training')\n",
    "    val_epoch_loss, val_epoch_accuracy, val_epo_auc, val_epo_f = fit(epoch, net, val_loader, optimizer, phase='validation')\n",
    "\n",
    "    train_losses.append(epoch_loss)\n",
    "    train_accuracy.append(epoch_accuracy)\n",
    "    train_auc.append(epo_auc)\n",
    "    train_fscore.append(epo_f)\n",
    "\n",
    "    val_losses.append(val_epoch_loss)\n",
    "    val_accuracy.append(val_epoch_accuracy)\n",
    "    val_auc.append(val_epo_auc)\n",
    "    val_fscore.append(val_epo_f)\n",
    "\n",
    "    # Learning rate scheduler update\n",
    "    scheduler.step(val_epo_auc)\n",
    "\n",
    "elapsed = clock() - start"
   ]
  },
  {
   "cell_type": "code",
   "execution_count": 128,
   "metadata": {},
   "outputs": [
    {
     "name": "stdout",
     "output_type": "stream",
     "text": [
      "3.725027733355246\n"
     ]
    }
   ],
   "source": [
    "print(elapsed)"
   ]
  },
  {
   "cell_type": "code",
   "execution_count": 117,
   "metadata": {},
   "outputs": [
    {
     "data": {
      "image/png": "[encoded data removed]",
      "text/plain": [
       "<Figure size 432x288 with 1 Axes>"
      ]
     },
     "metadata": {},
     "output_type": "display_data"
    }
   ],
   "source": [
    "plt.plot(range(1,len(train_auc)+1),train_auc,'bo',label = 'training AUC')\n",
    "plt.plot(range(1,len(val_auc)+1),val_auc,'r',label = 'validation AUC')\n",
    "plt.legend()\n",
    "plt.show()"
   ]
  },
  {
   "cell_type": "code",
   "execution_count": 118,
   "metadata": {},
   "outputs": [
    {
     "data": {
      "image/png": "[encoded data removed]",
      "text/plain": [
       "<Figure size 432x288 with 1 Axes>"
      ]
     },
     "metadata": {},
     "output_type": "display_data"
    }
   ],
   "source": [
    "plt.plot(range(1,len(train_losses)+1),train_losses,'bo',label = 'training loss')\n",
    "plt.plot(range(1,len(val_losses)+1),val_losses,'r',label = 'validation loss')\n",
    "plt.legend()\n",
    "plt.show()"
   ]
  },
  {
   "cell_type": "code",
   "execution_count": 119,
   "metadata": {},
   "outputs": [
    {
     "data": {
      "text/plain": [
       "<matplotlib.legend.Legend at 0x25ff0ad8390>"
      ]
     },
     "execution_count": 119,
     "metadata": {},
     "output_type": "execute_result"
    },
    {
     "data": {
      "image/png": "[encoded data removed]",
      "text/plain": [
       "<Figure size 432x288 with 1 Axes>"
      ]
     },
     "metadata": {},
     "output_type": "display_data"
    }
   ],
   "source": [
    "plt.plot(range(1,len(train_accuracy)+1),train_accuracy,'bo',label = 'train accuracy')\n",
    "plt.plot(range(1,len(val_accuracy)+1),val_accuracy,'r',label = 'val accuracy')\n",
    "plt.legend()"
   ]
  },
  {
   "cell_type": "code",
   "execution_count": null,
   "metadata": {},
   "outputs": [],
   "source": []
  },
  {
   "cell_type": "code",
   "execution_count": 120,
   "metadata": {},
   "outputs": [],
   "source": [
    "# Model classification metrics\n",
    "\n",
    "def eval_net(clf, t_loader=val_loader):\n",
    "    #parameters initialization\n",
    "    classes = [0,1]\n",
    "\n",
    "    correct = 0\n",
    "    total = 0\n",
    "\n",
    "    y_pred = np.empty([0])\n",
    "    y_true = np.empty([0])\n",
    "    #scores = np.empty([0])\n",
    "    y_score = np.empty([0])\n",
    "\n",
    "    #Model evaluation\n",
    "    clf.eval()\n",
    "    for images, labels in t_loader:\n",
    "        if is_cuda:\n",
    "            images = images.cuda()\n",
    "        images = Variable(images)\n",
    "        outputs = clf(images)\n",
    "        _, predicted = torch.max(outputs.data, 1)\n",
    "        total += labels.size(0)\n",
    "        correct += (predicted.cpu() == labels).sum()\n",
    "\n",
    "        y_pred = np.concatenate((y_pred, predicted.data.cpu().numpy()), axis=None)\n",
    "        y_true = np.concatenate((y_true, labels.data.cpu().numpy()), axis=None)\n",
    "        #scores = np.concatenate((scores, score.data.cpu().numpy()), axis=None)\n",
    "        y_score = np.concatenate((y_score, outputs.detach().cpu().numpy()[:, 1]), axis=None)\n",
    "\n",
    "\n",
    "    conf_matrix = metrics.confusion_matrix(y_true, y_pred)\n",
    "\n",
    "    np.trace(conf_matrix)\n",
    "\n",
    "    print(\"classification rate :\", np.trace(conf_matrix)/y_val.shape[0])\n",
    "\n",
    "    print('Accuracy of the network on the validation set : %d %%' % (100 * correct / total))\n",
    "\n",
    "    df_conf_matrix = pd.DataFrame(data=conf_matrix, index=classes, columns=classes)\n",
    "\n",
    "    print(\"Confusion Matrix for the 2 classes: \\n\", df_conf_matrix)\n",
    "\n",
    "    #--------------!\n",
    "\n",
    "    #y_pred = clf.predict(np_test)\n",
    "    confmat = confusion_matrix(y_true=y_true, y_pred=y_pred)\n",
    "\n",
    "    fig, ax = plt.subplots(figsize=(5, 5))\n",
    "    ax.matshow(confmat, cmap=plt.cm.Blues, alpha=0.3)\n",
    "    for i in range(confmat.shape[0]):\n",
    "        for j in range(confmat.shape[1]):\n",
    "            ax.text(x=j, y=i,\n",
    "            s=confmat[i, j],\n",
    "            va='center', ha='center')\n",
    "    plt.xlabel('predicted label')\n",
    "    plt.ylabel('true label')\n",
    "    plt.title(\"MLP title 2\")\n",
    "    plt.show()\n",
    "    print(\"----------Model Classification-------------\\n\")\n",
    "    print(classification_report(y_true, y_pred, target_names=['no', 'yes']))\n",
    "    print(\" \")\n",
    "    print(\"----------Model Accuracy-------------\\n\")\n",
    "    print('Accuracy: %.3f' % accuracy_score(y_true=y_true, y_pred=y_pred))\n",
    "    print(\" \")\n",
    "    print(\"----------Model ROC/AUC-------------\\n\")\n",
    "    auc = roc_auc_score(y_true, y_score )#y_pred)average='micro'\n",
    "    fpr, tpr, thresholds = roc_curve(y_true, y_score)\n",
    "    plt.figure()\n",
    "    plt.plot(fpr, tpr, label='AUC = %0.3f' % auc)\n",
    "    plt.plot([0, 1], [0, 1],'r--')\n",
    "    plt.xlim([0.0, 1.0])\n",
    "    plt.ylim([0.0, 1.05])\n",
    "    plt.xlabel('False Positive Rate')\n",
    "    plt.ylabel('True Positive Rate')\n",
    "    plt.title('Receiver Operating Characteristic - '+ 'test 1')\n",
    "    plt.legend(loc=\"lower right\")\n",
    "    #plt.savefig('Log_ROC')\n",
    "    plt.show()"
   ]
  },
  {
   "cell_type": "code",
   "execution_count": 121,
   "metadata": {
    "scrolled": false
   },
   "outputs": [
    {
     "name": "stdout",
     "output_type": "stream",
     "text": [
      "classification rate : 0.7986191024165707\n",
      "Accuracy of the network on the validation set : 79 %\n",
      "Confusion Matrix for the 2 classes: \n",
      "      0    1\n",
      "0  478  111\n",
      "1   64  216\n"
     ]
    },
    {
     "data": {
      "image/png": "[encoded data removed]",
      "text/plain": [
       "<Figure size 360x360 with 1 Axes>"
      ]
     },
     "metadata": {},
     "output_type": "display_data"
    },
    {
     "name": "stdout",
     "output_type": "stream",
     "text": [
      "----------Model Classification-------------\n",
      "\n",
      "             precision    recall  f1-score   support\n",
      "\n",
      "         no       0.88      0.81      0.85       589\n",
      "        yes       0.66      0.77      0.71       280\n",
      "\n",
      "avg / total       0.81      0.80      0.80       869\n",
      "\n",
      " \n",
      "----------Model Accuracy-------------\n",
      "\n",
      "Accuracy: 0.799\n",
      " \n",
      "----------Model ROC/AUC-------------\n",
      "\n"
     ]
    },
    {
     "data": {
      "image/png": "[encoded data removed]",
      "text/plain": [
       "<Figure size 432x288 with 1 Axes>"
      ]
     },
     "metadata": {},
     "output_type": "display_data"
    }
   ],
   "source": [
    "eval_net(net)"
   ]
  },
  {
   "cell_type": "code",
   "execution_count": null,
   "metadata": {},
   "outputs": [],
   "source": []
  },
  {
   "cell_type": "markdown",
   "metadata": {},
   "source": [
    "#### --- Fscore"
   ]
  },
  {
   "cell_type": "code",
   "execution_count": 122,
   "metadata": {},
   "outputs": [],
   "source": [
    "# Choose the right values for x.\n",
    "input_size = 14\n",
    "hidden_size = 5    #11\n",
    "#hidden_size2 = 4    #6\n",
    "num_classes = 2\n",
    "num_epochs = 20\n",
    "#batch_size = 100\n",
    "learning_rate = 0.001"
   ]
  },
  {
   "cell_type": "code",
   "execution_count": 123,
   "metadata": {},
   "outputs": [],
   "source": [
    "netf2 = Net(input_size, hidden_size, num_classes)\n",
    "\n",
    "if is_cuda:\n",
    "    netf2.cuda()"
   ]
  },
  {
   "cell_type": "code",
   "execution_count": 124,
   "metadata": {},
   "outputs": [],
   "source": [
    "# Loss and Optimizer\n",
    "\n",
    "#learning_rate = 0.001\n",
    "#weights = [0.4, 1]\n",
    "#class_weights=torch.FloatTensor(weights).cuda()   # might need to add is cuda\n",
    "class_weights=torch.FloatTensor([1, 2])\n",
    "criterion = nn.CrossEntropyLoss(weight=class_weights)\n",
    "\n",
    "#criterion = F.cross_entropy()\n",
    "optimizerf2 = torch.optim.Adam(netf2.parameters(), lr=learning_rate)\n",
    "# -----------------------------------------------------------------------------------"
   ]
  },
  {
   "cell_type": "code",
   "execution_count": null,
   "metadata": {},
   "outputs": [],
   "source": []
  },
  {
   "cell_type": "code",
   "execution_count": 125,
   "metadata": {},
   "outputs": [
    {
     "data": {
      "text/plain": [
       "Net(\n",
       "  (fc1): Linear(in_features=14, out_features=5, bias=True)\n",
       "  (relu): ReLU()\n",
       "  (fc2): Linear(in_features=5, out_features=2, bias=True)\n",
       "  (lr): Sigmoid()\n",
       ")"
      ]
     },
     "execution_count": 125,
     "metadata": {},
     "output_type": "execute_result"
    }
   ],
   "source": [
    "#  C. Training final preparation\n",
    "\n",
    "# ----- Weight initialization\n",
    "def init_weights(m):\n",
    "    if type(m) == nn.Linear:\n",
    "        torch.nn.init.xavier_normal_(m.weight)\n",
    "        #m.bias.data.fill_(0.01)\n",
    "\n",
    "netf2.apply(init_weights)"
   ]
  },
  {
   "cell_type": "code",
   "execution_count": 126,
   "metadata": {},
   "outputs": [],
   "source": [
    "# ----- Learning rate regularization\n",
    "#####  NEED TO CHANGE THE patience\n",
    "schedulerf2 = optim.lr_scheduler.ReduceLROnPlateau(optimizerf2, mode='max', patience=2, verbose=True)"
   ]
  },
  {
   "cell_type": "code",
   "execution_count": null,
   "metadata": {},
   "outputs": [],
   "source": []
  },
  {
   "cell_type": "code",
   "execution_count": 127,
   "metadata": {},
   "outputs": [
    {
     "name": "stdout",
     "output_type": "stream",
     "text": [
      "training loss is 0.010967557072698276 and training accuracy is 1306/4054, 32\n",
      "training AUC is 0.5081971387660876\n",
      "F1: 0.484\n",
      "________________\n",
      "validation loss is 0.011135804982399364 and validation accuracy is 273/869, 31\n",
      "validation AUC is 0.528583555663352\n",
      "F1: 0.454\n",
      "________________\n",
      "training loss is 0.010833669279265063 and training accuracy is 1499/4054, 36\n",
      "training AUC is 0.5501479876600417\n",
      "F1: 0.478\n",
      "________________\n",
      "validation loss is 0.011013972196809442 and validation accuracy is 393/869, 45\n",
      "validation AUC is 0.5638097259277225\n",
      "F1: 0.485\n",
      "________________\n",
      "training loss is 0.01071919970578258 and training accuracy is 1932/4054, 47\n",
      "training AUC is 0.5822082235775582\n",
      "F1: 0.519\n",
      "________________\n",
      "validation loss is 0.010896418187917308 and validation accuracy is 428/869, 49\n",
      "validation AUC is 0.596701430996847\n",
      "F1: 0.508\n",
      "________________\n",
      "training loss is 0.01058483578091957 and training accuracy is 2059/4054, 50\n",
      "training AUC is 0.6068880011020801\n",
      "F1: 0.534\n",
      "________________\n",
      "validation loss is 0.01077519173726388 and validation accuracy is 449/869, 51\n",
      "validation AUC is 0.6167717681300025\n",
      "F1: 0.522\n",
      "________________\n",
      "training loss is 0.010426676914382581 and training accuracy is 2238/4054, 55\n",
      "training AUC is 0.6395147229284164\n",
      "F1: 0.557\n",
      "________________\n",
      "validation loss is 0.010585463362541243 and validation accuracy is 498/869, 57\n",
      "validation AUC is 0.6707737084647103\n",
      "F1: 0.560\n",
      "________________\n",
      "training loss is 0.010207928632596001 and training accuracy is 2417/4054, 59\n",
      "training AUC is 0.7014613694459403\n",
      "F1: 0.587\n",
      "________________\n",
      "validation loss is 0.010338717555012061 and validation accuracy is 546/869, 62\n",
      "validation AUC is 0.723999514916323\n",
      "F1: 0.601\n",
      "________________\n",
      "training loss is 0.009992998282663564 and training accuracy is 2638/4054, 65\n",
      "training AUC is 0.7573842850602734\n",
      "F1: 0.619\n",
      "________________\n",
      "validation loss is 0.010159525141480054 and validation accuracy is 578/869, 66\n",
      "validation AUC is 0.7622483628425903\n",
      "F1: 0.626\n",
      "________________\n",
      "training loss is 0.009815446778830485 and training accuracy is 2767/4054, 68\n",
      "training AUC is 0.7926722800396862\n",
      "F1: 0.643\n",
      "________________\n",
      "validation loss is 0.00998831199968643 and validation accuracy is 606/869, 69\n",
      "validation AUC is 0.7865055784622847\n",
      "F1: 0.642\n",
      "________________\n",
      "training loss is 0.009677814934485407 and training accuracy is 2867/4054, 70\n",
      "training AUC is 0.8091188785499297\n",
      "F1: 0.661\n",
      "________________\n",
      "validation loss is 0.009900987971364012 and validation accuracy is 626/869, 72\n",
      "validation AUC is 0.8032652195003638\n",
      "F1: 0.662\n",
      "________________\n",
      "training loss is 0.00953616324644931 and training accuracy is 2962/4054, 73\n",
      "training AUC is 0.8189637106705574\n",
      "F1: 0.676\n",
      "________________\n",
      "validation loss is 0.009763764772645624 and validation accuracy is 639/869, 73\n",
      "validation AUC is 0.8126576521950037\n",
      "F1: 0.671\n",
      "________________\n",
      "training loss is 0.009411994994539432 and training accuracy is 3022/4054, 74\n",
      "training AUC is 0.8270425706298415\n",
      "F1: 0.686\n",
      "________________\n",
      "validation loss is 0.009652957200180948 and validation accuracy is 647/869, 74\n",
      "validation AUC is 0.8180481445549357\n",
      "F1: 0.676\n",
      "________________\n",
      "training loss is 0.00932775535604668 and training accuracy is 3055/4054, 75\n",
      "training AUC is 0.8323141874733003\n",
      "F1: 0.690\n",
      "________________\n",
      "validation loss is 0.009561658865837562 and validation accuracy is 652/869, 75\n",
      "validation AUC is 0.8199915110356536\n",
      "F1: 0.678\n",
      "________________\n",
      "training loss is 0.009217213014104888 and training accuracy is 3080/4054, 75\n",
      "training AUC is 0.8332929793874827\n",
      "F1: 0.694\n",
      "________________\n",
      "validation loss is 0.009439360354657277 and validation accuracy is 660/869, 75\n",
      "validation AUC is 0.8231445549357266\n",
      "F1: 0.686\n",
      "________________\n",
      "training loss is 0.009087696061324885 and training accuracy is 3116/4054, 76\n",
      "training AUC is 0.8354331300329372\n",
      "F1: 0.699\n",
      "________________\n",
      "validation loss is 0.009301961291371336 and validation accuracy is 669/869, 76\n",
      "validation AUC is 0.825848896434635\n",
      "F1: 0.690\n",
      "________________\n",
      "training loss is 0.008931254599561348 and training accuracy is 3174/4054, 78\n",
      "training AUC is 0.8343855972592713\n",
      "F1: 0.706\n",
      "________________\n",
      "validation loss is 0.009084924386752078 and validation accuracy is 678/869, 78\n",
      "validation AUC is 0.8246483143342226\n",
      "F1: 0.695\n",
      "________________\n",
      "training loss is 0.00874433776370163 and training accuracy is 3208/4054, 79\n",
      "training AUC is 0.8359605143597431\n",
      "F1: 0.712\n",
      "________________\n",
      "validation loss is 0.008993417813396564 and validation accuracy is 678/869, 78\n",
      "validation AUC is 0.8322277467863205\n",
      "F1: 0.692\n",
      "________________\n",
      "training loss is 0.008614882701832376 and training accuracy is 3221/4054, 79\n",
      "training AUC is 0.8380635115447074\n",
      "F1: 0.714\n",
      "________________\n",
      "validation loss is 0.008854278555124896 and validation accuracy is 685/869, 78\n",
      "validation AUC is 0.8341983992238661\n",
      "F1: 0.700\n",
      "________________\n",
      "training loss is 0.008485143900388088 and training accuracy is 3233/4054, 79\n",
      "training AUC is 0.8387507809880038\n",
      "F1: 0.714\n",
      "________________\n",
      "validation loss is 0.00872505016376289 and validation accuracy is 686/869, 78\n",
      "validation AUC is 0.8392068881882125\n",
      "F1: 0.701\n",
      "________________\n",
      "training loss is 0.008415671077395638 and training accuracy is 3233/4054, 79\n",
      "training AUC is 0.840126433086896\n",
      "F1: 0.714\n",
      "________________\n",
      "validation loss is 0.00870536077420374 and validation accuracy is 688/869, 79\n",
      "validation AUC is 0.8397404802328401\n",
      "F1: 0.704\n",
      "________________\n",
      "training loss is 0.008358182904752064 and training accuracy is 3234/4054, 79\n",
      "training AUC is 0.8409662126152\n",
      "F1: 0.713\n",
      "________________\n",
      "validation loss is 0.008679105991324017 and validation accuracy is 689/869, 79\n",
      "validation AUC is 0.8418142129517341\n",
      "F1: 0.705\n",
      "________________\n"
     ]
    }
   ],
   "source": [
    "# ----- Full training\n",
    "train_losses1, train_accuracy1, train_auc1, train_fscore1 = [], [], [], []\n",
    "val_losses1, val_accuracy1, val_auc1, val_fscore1= [], [], [], []\n",
    "\n",
    "start = clock()\n",
    "for epoch in range(0, epochs):\n",
    "    epoch_loss1, epoch_accuracy1, epo_auc1, epo_f1 = fit(epoch, netf2, train_loader, optimizerf2, phase='training')\n",
    "    val_epoch_loss1, val_epoch_accuracy1, val_epo_auc1, val_epo_f1 = fit(epoch, netf2, val_loader, optimizerf2, phase='validation')\n",
    "\n",
    "    train_losses1.append(epoch_loss1)\n",
    "    train_accuracy1.append(epoch_accuracy1)\n",
    "    train_auc1.append(epo_auc1)\n",
    "    train_fscore1.append(epo_f1)\n",
    "\n",
    "    val_losses1.append(val_epoch_loss1)\n",
    "    val_accuracy1.append(val_epoch_accuracy1)\n",
    "    val_auc1.append(val_epo_auc1)\n",
    "    val_fscore1.append(val_epo_f1)\n",
    "\n",
    "    # Learning rate scheduler update\n",
    "    schedulerf2.step(val_epo_f1)\n",
    "\n",
    "elapsed = clock() - start"
   ]
  },
  {
   "cell_type": "code",
   "execution_count": 143,
   "metadata": {},
   "outputs": [
    {
     "name": "stdout",
     "output_type": "stream",
     "text": [
      "2.813541778600893\n"
     ]
    }
   ],
   "source": [
    "print(elapsed)"
   ]
  },
  {
   "cell_type": "code",
   "execution_count": 128,
   "metadata": {},
   "outputs": [
    {
     "data": {
      "image/png": "[encoded data removed]",
      "text/plain": [
       "<Figure size 432x288 with 1 Axes>"
      ]
     },
     "metadata": {},
     "output_type": "display_data"
    }
   ],
   "source": [
    "plt.plot(range(1,len(train_fscore1)+1),train_fscore1,'bo',label = 'training AUC')\n",
    "plt.plot(range(1,len(val_fscore1)+1),val_fscore1,'r',label = 'validation AUC')\n",
    "plt.legend()\n",
    "plt.show()"
   ]
  },
  {
   "cell_type": "code",
   "execution_count": 129,
   "metadata": {},
   "outputs": [
    {
     "data": {
      "image/png": "[encoded data removed]",
      "text/plain": [
       "<Figure size 432x288 with 1 Axes>"
      ]
     },
     "metadata": {},
     "output_type": "display_data"
    }
   ],
   "source": [
    "plt.plot(range(1,len(train_auc1)+1),train_auc1,'bo',label = 'training AUC')\n",
    "plt.plot(range(1,len(val_auc1)+1),val_auc1,'r',label = 'validation AUC')\n",
    "plt.legend()\n",
    "plt.show()"
   ]
  },
  {
   "cell_type": "code",
   "execution_count": 130,
   "metadata": {},
   "outputs": [
    {
     "data": {
      "image/png": "[encoded data removed]",
      "text/plain": [
       "<Figure size 432x288 with 1 Axes>"
      ]
     },
     "metadata": {},
     "output_type": "display_data"
    }
   ],
   "source": [
    "plt.plot(range(1,len(train_losses1)+1),train_losses1,'bo',label = 'training loss')\n",
    "plt.plot(range(1,len(val_losses1)+1),val_losses1,'r',label = 'validation loss')\n",
    "plt.legend()\n",
    "plt.show()"
   ]
  },
  {
   "cell_type": "code",
   "execution_count": 131,
   "metadata": {},
   "outputs": [
    {
     "data": {
      "image/png": "[encoded data removed]",
      "text/plain": [
       "<Figure size 432x288 with 1 Axes>"
      ]
     },
     "metadata": {},
     "output_type": "display_data"
    }
   ],
   "source": [
    "plt.plot(range(1,len(train_accuracy1)+1),train_accuracy1,'bo',label = 'train accuracy')\n",
    "plt.plot(range(1,len(val_accuracy1)+1),val_accuracy1,'r',label = 'val accuracy')\n",
    "plt.legend()\n",
    "plt.show()"
   ]
  },
  {
   "cell_type": "code",
   "execution_count": 132,
   "metadata": {
    "scrolled": false
   },
   "outputs": [
    {
     "name": "stdout",
     "output_type": "stream",
     "text": [
      "classification rate : 0.7928653624856157\n",
      "Accuracy of the network on the validation set : 79 %\n",
      "Confusion Matrix for the 2 classes: \n",
      "      0    1\n",
      "0  474  115\n",
      "1   65  215\n"
     ]
    },
    {
     "data": {
      "image/png": "[encoded data removed]",
      "text/plain": [
       "<Figure size 360x360 with 1 Axes>"
      ]
     },
     "metadata": {},
     "output_type": "display_data"
    },
    {
     "name": "stdout",
     "output_type": "stream",
     "text": [
      "----------Model Classification-------------\n",
      "\n",
      "             precision    recall  f1-score   support\n",
      "\n",
      "         no       0.88      0.80      0.84       589\n",
      "        yes       0.65      0.77      0.70       280\n",
      "\n",
      "avg / total       0.81      0.79      0.80       869\n",
      "\n",
      " \n",
      "----------Model Accuracy-------------\n",
      "\n",
      "Accuracy: 0.793\n",
      " \n",
      "----------Model ROC/AUC-------------\n",
      "\n"
     ]
    },
    {
     "data": {
      "image/png": "[encoded data removed]",
      "text/plain": [
       "<Figure size 432x288 with 1 Axes>"
      ]
     },
     "metadata": {},
     "output_type": "display_data"
    }
   ],
   "source": [
    "eval_net(netf2)"
   ]
  },
  {
   "cell_type": "code",
   "execution_count": null,
   "metadata": {},
   "outputs": [],
   "source": []
  },
  {
   "cell_type": "code",
   "execution_count": null,
   "metadata": {},
   "outputs": [],
   "source": []
  },
  {
   "cell_type": "markdown",
   "metadata": {},
   "source": [
    "### 3 layers"
   ]
  },
  {
   "cell_type": "markdown",
   "metadata": {},
   "source": [
    "#### ---AUC"
   ]
  },
  {
   "cell_type": "code",
   "execution_count": 220,
   "metadata": {},
   "outputs": [],
   "source": [
    "train_loader = customDataset(X_train_dummies[cols03], y_train)\n",
    "train_iter = iter(train_loader)"
   ]
  },
  {
   "cell_type": "code",
   "execution_count": 221,
   "metadata": {},
   "outputs": [
    {
     "name": "stdout",
     "output_type": "stream",
     "text": [
      "inputs shape on batch size = torch.Size([64, 14])\n",
      "labels shape on batch size = torch.Size([64])\n"
     ]
    }
   ],
   "source": [
    "inputs, labels = train_iter.next()\n",
    "\n",
    "print('inputs shape on batch size = {}'.format(inputs.size()))\n",
    "print('labels shape on batch size = {}'.format(labels.size()))"
   ]
  },
  {
   "cell_type": "code",
   "execution_count": 222,
   "metadata": {},
   "outputs": [],
   "source": [
    "val_loader = customDataset(X_val_dummies[cols03], y_val)\n",
    "val_iter = iter(val_loader)"
   ]
  },
  {
   "cell_type": "code",
   "execution_count": 223,
   "metadata": {},
   "outputs": [
    {
     "data": {
      "text/plain": [
       "14"
      ]
     },
     "execution_count": 223,
     "metadata": {},
     "output_type": "execute_result"
    }
   ],
   "source": [
    "len(cols03)"
   ]
  },
  {
   "cell_type": "code",
   "execution_count": 1306,
   "metadata": {},
   "outputs": [],
   "source": [
    "#cols02"
   ]
  },
  {
   "cell_type": "code",
   "execution_count": 224,
   "metadata": {},
   "outputs": [],
   "source": [
    "# Choose the right values for x.\n",
    "input_size = 14\n",
    "hidden_size = 8    #11\n",
    "hidden_size2 = 4    #6\n",
    "num_classes = 2\n",
    "num_epochs = 20\n",
    "#batch_size = 100\n",
    "learning_rate = 0.001"
   ]
  },
  {
   "cell_type": "code",
   "execution_count": 225,
   "metadata": {},
   "outputs": [],
   "source": [
    "class Net02(nn.Module):\n",
    "    def __init__(self, input_size, hidden_size, hidden_size2, num_classes):\n",
    "        super(Net02, self).__init__()\n",
    "        self.fc1 = nn.Linear(input_size, hidden_size)\n",
    "        self.relu = nn.ReLU()\n",
    "        self.fcM = nn.Linear(hidden_size, hidden_size2)\n",
    "        self.relu = nn.ReLU()\n",
    "        self.fc2 = nn.Linear(hidden_size2, num_classes)\n",
    "        self.lr = nn.Sigmoid()\n",
    "\n",
    "    def forward(self, x):\n",
    "        out = self.fc1(x)\n",
    "        out = self.relu(out)\n",
    "        out = self.fcM(out)\n",
    "        out = self.relu(out)\n",
    "        out = self.fc2(out)\n",
    "        out = self.lr(out)\n",
    "        return out"
   ]
  },
  {
   "cell_type": "code",
   "execution_count": 226,
   "metadata": {},
   "outputs": [],
   "source": [
    "net02 = Net02(input_size, hidden_size, hidden_size2, num_classes)\n",
    "\n",
    "if is_cuda:\n",
    "    net.cuda()"
   ]
  },
  {
   "cell_type": "code",
   "execution_count": 227,
   "metadata": {},
   "outputs": [],
   "source": [
    "# Loss and Optimizer\n",
    "\n",
    "#learning_rate = 0.001\n",
    "#weights = [0.4, 1]\n",
    "#class_weights=torch.FloatTensor(weights).cuda()   # might need to add is cuda\n",
    "class_weights=torch.FloatTensor([1, 2])\n",
    "criterion = nn.CrossEntropyLoss(weight=class_weights)\n",
    "\n",
    "#criterion = F.cross_entropy()\n",
    "optimizer02 = torch.optim.Adam(net02.parameters(), lr=learning_rate)\n",
    "# -----------------------------------------------------------------------------------"
   ]
  },
  {
   "cell_type": "code",
   "execution_count": 228,
   "metadata": {},
   "outputs": [],
   "source": [
    "#   Training of the model\n",
    "#   A. Design the setup\n",
    "def fit(epoch, model, data_loader, opti, phase='training', volatile=False):\n",
    "    if phase == 'training':\n",
    "        model.train()\n",
    "    if phase == 'validation':\n",
    "        model.eval()\n",
    "        volatile = True\n",
    "    \n",
    "    running_loss = 0.0\n",
    "    running_correct = 0\n",
    "    \n",
    "    y_score1 = np.empty([0]) #\n",
    "    y_true1 = np.empty([0])  #\n",
    "    y_pred1 = np.empty([0])\n",
    "    \n",
    "    for batch_idx, (data, target) in enumerate(data_loader):\n",
    "\n",
    "        if is_cuda:\n",
    "            data, target = data.cuda(), target.cuda()\n",
    "        data, target = Variable(data, volatile), Variable(target)\n",
    "\n",
    "        if phase == 'training':\n",
    "            opti.zero_grad()\n",
    "        output = model(data)\n",
    "        #loss = F.nll_loss(output, target)\n",
    "        loss = criterion(output, target)\n",
    "\n",
    "        #running_loss += F.nll_loss(output, target, reduction='sum').data.item()\n",
    "        running_loss += criterion(output, target).cpu().data.item()\n",
    "        preds = output.data.max(dim=1, keepdim=True)[1]\n",
    "        \n",
    "        _, pred = torch.max(output.data, 1)\n",
    "        \n",
    "        running_correct += preds.eq(target.data.view_as(preds)).cpu().sum()\n",
    "        if phase == 'training':\n",
    "            loss.backward()\n",
    "            opti.step()\n",
    "        \n",
    "        y_score1 = np.concatenate((y_score1, output.detach().cpu().numpy()[:, 1]), axis=None) #\n",
    "        y_true1 = np.concatenate((y_true1, target.data.cpu().numpy()), axis=None)\n",
    "        y_pred1 = np.concatenate((y_pred1, pred.data.cpu().numpy()), axis=None)\n",
    "        \n",
    "    auc1 = roc_auc_score(y_true1, y_score1) #\n",
    "    #print(y_true1)\n",
    "    #print(y_pred1)\n",
    "    fscore = f1_score(y_true1, y_pred1)\n",
    "\n",
    "    loss = running_loss / len(data_loader.dataset)\n",
    "    accuracy = 100. * running_correct / len(data_loader.dataset)\n",
    "\n",
    "    print(\n",
    "        '{} loss is {} and {} accuracy is {}/{}, {}'.format(phase, loss, phase, running_correct, len(data_loader.dataset), accuracy ))\n",
    "    \n",
    "    print(\n",
    "        '{} AUC is {}'.format(phase, auc1))\n",
    "    \n",
    "    print('F1: %.3f' % fscore)\n",
    "    print('________________')\n",
    "    return loss, accuracy, auc1, fscore\n",
    "# -----------------------------------------------------------------------------------"
   ]
  },
  {
   "cell_type": "code",
   "execution_count": 229,
   "metadata": {},
   "outputs": [
    {
     "data": {
      "text/plain": [
       "Net02(\n",
       "  (fc1): Linear(in_features=14, out_features=8, bias=True)\n",
       "  (relu): ReLU()\n",
       "  (fcM): Linear(in_features=8, out_features=4, bias=True)\n",
       "  (fc2): Linear(in_features=4, out_features=2, bias=True)\n",
       "  (lr): Sigmoid()\n",
       ")"
      ]
     },
     "execution_count": 229,
     "metadata": {},
     "output_type": "execute_result"
    }
   ],
   "source": [
    "#  C. Training final preparation\n",
    "\n",
    "# ----- Weight initialization\n",
    "def init_weights(m):\n",
    "    if type(m) == nn.Linear:\n",
    "        torch.nn.init.xavier_normal_(m.weight)\n",
    "        #m.bias.data.fill_(0.01)\n",
    "\n",
    "net02.apply(init_weights)"
   ]
  },
  {
   "cell_type": "code",
   "execution_count": 230,
   "metadata": {},
   "outputs": [],
   "source": [
    "# ----- Learning rate regularization\n",
    "#####  NEED TO CHANGE THE patience\n",
    "scheduler02 = optim.lr_scheduler.ReduceLROnPlateau(optimizer02, mode='max', patience=2, verbose=True)"
   ]
  },
  {
   "cell_type": "code",
   "execution_count": 178,
   "metadata": {},
   "outputs": [],
   "source": [
    "#val_loader.dataset.tensors[0].shape"
   ]
  },
  {
   "cell_type": "code",
   "execution_count": 231,
   "metadata": {},
   "outputs": [
    {
     "name": "stdout",
     "output_type": "stream",
     "text": [
      "training loss is 0.01097403229253305 and training accuracy is 1308/4054, 32\n",
      "training AUC is 0.35800670988713423\n",
      "F1: 0.488\n",
      "________________\n",
      "validation loss is 0.011145097819790329 and validation accuracy is 281/869, 32\n",
      "validation AUC is 0.34488843075430514\n",
      "F1: 0.488\n",
      "________________\n",
      "training loss is 0.010829594476974593 and training accuracy is 1497/4054, 36\n",
      "training AUC is 0.32614281678891127\n",
      "F1: 0.497\n",
      "________________\n",
      "validation loss is 0.01091233406846076 and validation accuracy is 473/869, 54\n",
      "validation AUC is 0.28019645888915834\n",
      "F1: 0.556\n",
      "________________\n",
      "training loss is 0.010467906788057686 and training accuracy is 2562/4054, 63\n",
      "training AUC is 0.31581916422803596\n",
      "F1: 0.600\n",
      "________________\n",
      "validation loss is 0.010392658729684916 and validation accuracy is 624/869, 71\n",
      "validation AUC is 0.4355869512490904\n",
      "F1: 0.638\n",
      "________________\n",
      "training loss is 0.00987388000267153 and training accuracy is 2930/4054, 72\n",
      "training AUC is 0.6394372155220757\n",
      "F1: 0.659\n",
      "________________\n",
      "validation loss is 0.009801385591987637 and validation accuracy is 653/869, 75\n",
      "validation AUC is 0.7437121028377395\n",
      "F1: 0.676\n",
      "________________\n",
      "training loss is 0.009286805068440901 and training accuracy is 3089/4054, 76\n",
      "training AUC is 0.7961619222949985\n",
      "F1: 0.691\n",
      "________________\n",
      "validation loss is 0.00928600055301697 and validation accuracy is 665/869, 76\n",
      "validation AUC is 0.8152801358234296\n",
      "F1: 0.688\n",
      "________________\n",
      "training loss is 0.008877859776632857 and training accuracy is 3144/4054, 77\n",
      "training AUC is 0.8263617021572663\n",
      "F1: 0.700\n",
      "________________\n",
      "validation loss is 0.00899344898751745 and validation accuracy is 673/869, 77\n",
      "validation AUC is 0.827940819791414\n",
      "F1: 0.694\n",
      "________________\n",
      "training loss is 0.008603415196025437 and training accuracy is 3170/4054, 78\n",
      "training AUC is 0.8341643463147803\n",
      "F1: 0.704\n",
      "________________\n",
      "validation loss is 0.008769509810161261 and validation accuracy is 674/869, 77\n",
      "validation AUC is 0.8341862721319427\n",
      "F1: 0.695\n",
      "________________\n",
      "training loss is 0.008450077593944082 and training accuracy is 3181/4054, 78\n",
      "training AUC is 0.8380625374839454\n",
      "F1: 0.706\n",
      "________________\n",
      "validation loss is 0.008669920325690776 and validation accuracy is 676/869, 77\n",
      "validation AUC is 0.83789716226049\n",
      "F1: 0.694\n",
      "________________\n",
      "training loss is 0.008340081559300246 and training accuracy is 3197/4054, 78\n",
      "training AUC is 0.8398002618831935\n",
      "F1: 0.708\n",
      "________________\n",
      "validation loss is 0.008560858538290712 and validation accuracy is 679/869, 78\n",
      "validation AUC is 0.8384186272131944\n",
      "F1: 0.696\n",
      "________________\n",
      "training loss is 0.008242100499272641 and training accuracy is 3207/4054, 79\n",
      "training AUC is 0.8442346039260215\n",
      "F1: 0.709\n",
      "________________\n",
      "validation loss is 0.008560765598942413 and validation accuracy is 685/869, 78\n",
      "validation AUC is 0.8386914867814698\n",
      "F1: 0.701\n",
      "________________\n",
      "training loss is 0.00820689714919421 and training accuracy is 3214/4054, 79\n",
      "training AUC is 0.8445435203390844\n",
      "F1: 0.711\n",
      "________________\n",
      "validation loss is 0.00850506200614815 and validation accuracy is 685/869, 78\n",
      "validation AUC is 0.8388733931603201\n",
      "F1: 0.701\n",
      "________________\n",
      "training loss is 0.008200498530296604 and training accuracy is 3220/4054, 79\n",
      "training AUC is 0.8456600722753085\n",
      "F1: 0.712\n",
      "________________\n",
      "validation loss is 0.008494778661651084 and validation accuracy is 686/869, 78\n",
      "validation AUC is 0.8392190152801358\n",
      "F1: 0.702\n",
      "________________\n",
      "training loss is 0.008139444179704287 and training accuracy is 3230/4054, 79\n",
      "training AUC is 0.846618130610416\n",
      "F1: 0.715\n",
      "________________\n",
      "validation loss is 0.008510859158014401 and validation accuracy is 686/869, 78\n",
      "validation AUC is 0.8394494300266795\n",
      "F1: 0.702\n",
      "________________\n",
      "training loss is 0.008159533143043518 and training accuracy is 3242/4054, 79\n",
      "training AUC is 0.8476105593752653\n",
      "F1: 0.717\n",
      "________________\n",
      "validation loss is 0.008494924175176851 and validation accuracy is 686/869, 78\n",
      "validation AUC is 0.8398920688818822\n",
      "F1: 0.702\n",
      "________________\n",
      "training loss is 0.008137813961794062 and training accuracy is 3241/4054, 79\n",
      "training AUC is 0.8482154511084116\n",
      "F1: 0.718\n",
      "________________\n",
      "validation loss is 0.008442432820042478 and validation accuracy is 688/869, 79\n",
      "validation AUC is 0.8393342226534077\n",
      "F1: 0.705\n",
      "________________\n",
      "training loss is 0.008117004971699463 and training accuracy is 3243/4054, 79\n",
      "training AUC is 0.8480988421200572\n",
      "F1: 0.717\n",
      "________________\n",
      "validation loss is 0.008457325681855407 and validation accuracy is 689/869, 79\n",
      "validation AUC is 0.839461557118603\n",
      "F1: 0.706\n",
      "________________\n",
      "training loss is 0.008104764252210052 and training accuracy is 3247/4054, 80\n",
      "training AUC is 0.8482226869883571\n",
      "F1: 0.719\n",
      "________________\n",
      "validation loss is 0.008439824242312011 and validation accuracy is 689/869, 79\n",
      "validation AUC is 0.8395828280378366\n",
      "F1: 0.706\n",
      "________________\n",
      "Epoch    16: reducing learning rate of group 0 to 1.0000e-04.\n",
      "training loss is 0.008115947989036604 and training accuracy is 3248/4054, 80\n",
      "training AUC is 0.8490620490620491\n",
      "F1: 0.717\n",
      "________________\n",
      "validation loss is 0.008535902471344819 and validation accuracy is 689/869, 79\n",
      "validation AUC is 0.8391765704584041\n",
      "F1: 0.706\n",
      "________________\n",
      "training loss is 0.00809994827336611 and training accuracy is 3247/4054, 80\n",
      "training AUC is 0.8493702697174249\n",
      "F1: 0.717\n",
      "________________\n",
      "validation loss is 0.008453808561979147 and validation accuracy is 689/869, 79\n",
      "validation AUC is 0.8392614601018675\n",
      "F1: 0.706\n",
      "________________\n",
      "training loss is 0.00810388593645477 and training accuracy is 3247/4054, 80\n",
      "training AUC is 0.8493929514180237\n",
      "F1: 0.718\n",
      "________________\n",
      "validation loss is 0.008454790941179142 and validation accuracy is 689/869, 79\n",
      "validation AUC is 0.8392796507397526\n",
      "F1: 0.706\n",
      "________________\n",
      "Epoch    19: reducing learning rate of group 0 to 1.0000e-05.\n"
     ]
    }
   ],
   "source": [
    "# ----- Full training\n",
    "train_losses, train_accuracy, train_auc, train_fscore = [], [], [], []\n",
    "val_losses, val_accuracy, val_auc, val_fscore= [], [], [], []\n",
    "\n",
    "\n",
    "start = clock()\n",
    "for epoch in range(0, epochs):\n",
    "    epoch_loss, epoch_accuracy, epo_auc, epo_f = fit(epoch, net02, train_loader, optimizer02, phase='training')\n",
    "    val_epoch_loss, val_epoch_accuracy, val_epo_auc, val_epo_f = fit(epoch, net02, val_loader, optimizer02, phase='validation')\n",
    "\n",
    "    train_losses.append(epoch_loss)\n",
    "    train_accuracy.append(epoch_accuracy)\n",
    "    train_auc.append(epo_auc)\n",
    "    train_fscore.append(epo_f)\n",
    "\n",
    "    val_losses.append(val_epoch_loss)\n",
    "    val_accuracy.append(val_epoch_accuracy)\n",
    "    val_auc.append(val_epo_auc)\n",
    "    val_fscore.append(val_epo_f)\n",
    "\n",
    "    # Learning rate scheduler update\n",
    "    scheduler02.step(val_epo_auc)\n",
    "\n",
    "elapsed = clock() - start"
   ]
  },
  {
   "cell_type": "code",
   "execution_count": 161,
   "metadata": {},
   "outputs": [
    {
     "name": "stdout",
     "output_type": "stream",
     "text": [
      "3.0522027079132386\n"
     ]
    }
   ],
   "source": [
    "print(elapsed)"
   ]
  },
  {
   "cell_type": "code",
   "execution_count": 232,
   "metadata": {},
   "outputs": [
    {
     "data": {
      "image/png": "[encoded data removed]",
      "text/plain": [
       "<Figure size 432x288 with 1 Axes>"
      ]
     },
     "metadata": {},
     "output_type": "display_data"
    }
   ],
   "source": [
    "plt.plot(range(1,len(train_auc)+1),train_auc,'bo',label = 'training AUC')\n",
    "plt.plot(range(1,len(val_auc)+1),val_auc,'r',label = 'validation AUC')\n",
    "plt.legend()\n",
    "plt.show()"
   ]
  },
  {
   "cell_type": "code",
   "execution_count": 233,
   "metadata": {},
   "outputs": [
    {
     "data": {
      "image/png": "[encoded data removed]",
      "text/plain": [
       "<Figure size 432x288 with 1 Axes>"
      ]
     },
     "metadata": {},
     "output_type": "display_data"
    }
   ],
   "source": [
    "plt.plot(range(1,len(train_losses)+1),train_losses,'bo',label = 'training loss')\n",
    "plt.plot(range(1,len(val_losses)+1),val_losses,'r',label = 'validation loss')\n",
    "plt.legend()\n",
    "plt.show()"
   ]
  },
  {
   "cell_type": "code",
   "execution_count": 234,
   "metadata": {},
   "outputs": [
    {
     "data": {
      "text/plain": [
       "<matplotlib.legend.Legend at 0x25ff09a52b0>"
      ]
     },
     "execution_count": 234,
     "metadata": {},
     "output_type": "execute_result"
    },
    {
     "data": {
      "image/png": "[encoded data removed]",
      "text/plain": [
       "<Figure size 432x288 with 1 Axes>"
      ]
     },
     "metadata": {},
     "output_type": "display_data"
    }
   ],
   "source": [
    "plt.plot(range(1,len(train_accuracy)+1),train_accuracy,'bo',label = 'train accuracy')\n",
    "plt.plot(range(1,len(val_accuracy)+1),val_accuracy,'r',label = 'val accuracy')\n",
    "plt.legend()"
   ]
  },
  {
   "cell_type": "code",
   "execution_count": null,
   "metadata": {},
   "outputs": [],
   "source": []
  },
  {
   "cell_type": "code",
   "execution_count": 236,
   "metadata": {},
   "outputs": [],
   "source": [
    "# Model classification metrics\n",
    "\n",
    "def eval_net(clf, t_loader=val_loader):\n",
    "    #parameters initialization\n",
    "    classes = [0,1]\n",
    "\n",
    "    correct = 0\n",
    "    total = 0\n",
    "\n",
    "    y_pred = np.empty([0])\n",
    "    y_true = np.empty([0])\n",
    "    #scores = np.empty([0])\n",
    "    y_score = np.empty([0])\n",
    "\n",
    "    #Model evaluation\n",
    "    clf.eval()\n",
    "    for images, labels in t_loader:\n",
    "        if is_cuda:\n",
    "            images = images.cuda()\n",
    "        images = Variable(images)\n",
    "        outputs = clf(images)\n",
    "        _, predicted = torch.max(outputs.data, 1)\n",
    "        total += labels.size(0)\n",
    "        correct += (predicted.cpu() == labels).sum()\n",
    "\n",
    "        y_pred = np.concatenate((y_pred, predicted.data.cpu().numpy()), axis=None)\n",
    "        y_true = np.concatenate((y_true, labels.data.cpu().numpy()), axis=None)\n",
    "        #scores = np.concatenate((scores, score.data.cpu().numpy()), axis=None)\n",
    "        y_score = np.concatenate((y_score, outputs.detach().cpu().numpy()[:, 1]), axis=None)\n",
    "\n",
    "\n",
    "    conf_matrix = metrics.confusion_matrix(y_true, y_pred)\n",
    "\n",
    "    np.trace(conf_matrix)\n",
    "\n",
    "    print(\"classification rate :\", np.trace(conf_matrix)/y_val.shape[0])\n",
    "\n",
    "    print('Accuracy of the network on the validation set : %d %%' % (100 * correct / total))\n",
    "\n",
    "    df_conf_matrix = pd.DataFrame(data=conf_matrix, index=classes, columns=classes)\n",
    "\n",
    "    print(\"Confusion Matrix for the 2 classes: \\n\", df_conf_matrix)\n",
    "\n",
    "    #--------------!\n",
    "\n",
    "    #y_pred = clf.predict(np_test)\n",
    "    confmat = confusion_matrix(y_true=y_true, y_pred=y_pred)\n",
    "\n",
    "    fig, ax = plt.subplots(figsize=(5, 5))\n",
    "    ax.matshow(confmat, cmap=plt.cm.Blues, alpha=0.3)\n",
    "    for i in range(confmat.shape[0]):\n",
    "        for j in range(confmat.shape[1]):\n",
    "            ax.text(x=j, y=i,\n",
    "            s=confmat[i, j],\n",
    "            va='center', ha='center')\n",
    "    plt.xlabel('predicted label')\n",
    "    plt.ylabel('true label')\n",
    "    plt.title(\"MLP title 2\")\n",
    "    plt.show()\n",
    "    print(\"----------Model Classification-------------\\n\")\n",
    "    print(classification_report(y_true, y_pred, target_names=['no', 'yes']))\n",
    "    print(\" \")\n",
    "    print(\"----------Model Accuracy-------------\\n\")\n",
    "    print('Accuracy: %.3f' % accuracy_score(y_true=y_true, y_pred=y_pred))\n",
    "    print(\" \")\n",
    "    print(\"----------Model ROC/AUC-------------\\n\")\n",
    "    auc = roc_auc_score(y_true, y_score )#y_pred)average='micro'\n",
    "    fpr, tpr, thresholds = roc_curve(y_true, y_score)\n",
    "    plt.figure()\n",
    "    plt.plot(fpr, tpr, label='AUC = %0.3f' % auc)\n",
    "    plt.plot([0, 1], [0, 1],'r--')\n",
    "    plt.xlim([0.0, 1.0])\n",
    "    plt.ylim([0.0, 1.05])\n",
    "    plt.xlabel('False Positive Rate')\n",
    "    plt.ylabel('True Positive Rate')\n",
    "    plt.title('Receiver Operating Characteristic - '+ 'test 1')\n",
    "    plt.legend(loc=\"lower right\")\n",
    "    #plt.savefig('Log_ROC')\n",
    "    plt.show()"
   ]
  },
  {
   "cell_type": "code",
   "execution_count": 238,
   "metadata": {},
   "outputs": [
    {
     "name": "stdout",
     "output_type": "stream",
     "text": [
      "classification rate : 0.7928653624856157\n",
      "Accuracy of the network on the validation set : 79 %\n",
      "Confusion Matrix for the 2 classes: \n",
      "      0    1\n",
      "0  473  116\n",
      "1   64  216\n"
     ]
    },
    {
     "data": {
      "image/png": "[encoded data removed]",
      "text/plain": [
       "<Figure size 360x360 with 1 Axes>"
      ]
     },
     "metadata": {},
     "output_type": "display_data"
    },
    {
     "name": "stdout",
     "output_type": "stream",
     "text": [
      "----------Model Classification-------------\n",
      "\n",
      "             precision    recall  f1-score   support\n",
      "\n",
      "         no       0.88      0.80      0.84       589\n",
      "        yes       0.65      0.77      0.71       280\n",
      "\n",
      "avg / total       0.81      0.79      0.80       869\n",
      "\n",
      " \n",
      "----------Model Accuracy-------------\n",
      "\n",
      "Accuracy: 0.793\n",
      " \n",
      "----------Model ROC/AUC-------------\n",
      "\n"
     ]
    },
    {
     "data": {
      "image/png": "[encoded data removed]",
      "text/plain": [
       "<Figure size 432x288 with 1 Axes>"
      ]
     },
     "metadata": {},
     "output_type": "display_data"
    }
   ],
   "source": [
    "eval_net(net02)"
   ]
  },
  {
   "cell_type": "code",
   "execution_count": null,
   "metadata": {},
   "outputs": [],
   "source": []
  },
  {
   "cell_type": "markdown",
   "metadata": {},
   "source": [
    "#### --- Fscore"
   ]
  },
  {
   "cell_type": "code",
   "execution_count": 149,
   "metadata": {},
   "outputs": [],
   "source": [
    "# Choose the right values for x.\n",
    "input_size = 14\n",
    "hidden_size = 8    #11\n",
    "hidden_size2 = 4    #6\n",
    "num_classes = 2\n",
    "num_epochs = 20\n",
    "#batch_size = 100\n",
    "learning_rate = 0.001"
   ]
  },
  {
   "cell_type": "code",
   "execution_count": 150,
   "metadata": {},
   "outputs": [],
   "source": [
    "net2 = Net02(input_size, hidden_size, hidden_size2, num_classes)\n",
    "\n",
    "if is_cuda:\n",
    "    net2.cuda()"
   ]
  },
  {
   "cell_type": "code",
   "execution_count": 151,
   "metadata": {},
   "outputs": [],
   "source": [
    "# Loss and Optimizer\n",
    "\n",
    "#learning_rate = 0.001\n",
    "#weights = [0.4, 1]\n",
    "#class_weights=torch.FloatTensor(weights).cuda()   # might need to add is cuda\n",
    "class_weights=torch.FloatTensor([1, 2])\n",
    "criterion = nn.CrossEntropyLoss(weight=class_weights)\n",
    "\n",
    "#criterion = F.cross_entropy()\n",
    "optimizer2 = torch.optim.Adam(net2.parameters(), lr=learning_rate)\n",
    "# -----------------------------------------------------------------------------------"
   ]
  },
  {
   "cell_type": "code",
   "execution_count": null,
   "metadata": {},
   "outputs": [],
   "source": []
  },
  {
   "cell_type": "code",
   "execution_count": 152,
   "metadata": {},
   "outputs": [
    {
     "data": {
      "text/plain": [
       "Net02(\n",
       "  (fc1): Linear(in_features=14, out_features=8, bias=True)\n",
       "  (relu): ReLU()\n",
       "  (fcM): Linear(in_features=8, out_features=4, bias=True)\n",
       "  (fc2): Linear(in_features=4, out_features=2, bias=True)\n",
       "  (lr): Sigmoid()\n",
       ")"
      ]
     },
     "execution_count": 152,
     "metadata": {},
     "output_type": "execute_result"
    }
   ],
   "source": [
    "#  C. Training final preparation\n",
    "\n",
    "# ----- Weight initialization\n",
    "def init_weights(m):\n",
    "    if type(m) == nn.Linear:\n",
    "        torch.nn.init.xavier_normal_(m.weight)\n",
    "        #m.bias.data.fill_(0.01)\n",
    "\n",
    "net2.apply(init_weights)"
   ]
  },
  {
   "cell_type": "code",
   "execution_count": 153,
   "metadata": {},
   "outputs": [],
   "source": [
    "# ----- Learning rate regularization\n",
    "#####  NEED TO CHANGE THE patience\n",
    "scheduler2 = optim.lr_scheduler.ReduceLROnPlateau(optimizer2, mode='max', patience=2, verbose=True)"
   ]
  },
  {
   "cell_type": "code",
   "execution_count": null,
   "metadata": {},
   "outputs": [],
   "source": []
  },
  {
   "cell_type": "code",
   "execution_count": 154,
   "metadata": {},
   "outputs": [
    {
     "name": "stdout",
     "output_type": "stream",
     "text": [
      "training loss is 0.010620745109347327 and training accuracy is 2380/4054, 58\n",
      "training AUC is 0.7384330980280835\n",
      "F1: 0.573\n",
      "________________\n",
      "validation loss is 0.010621632544711764 and validation accuracy is 559/869, 64\n",
      "validation AUC is 0.7848471986417658\n",
      "F1: 0.608\n",
      "________________\n",
      "training loss is 0.010157731744416193 and training accuracy is 2686/4054, 66\n",
      "training AUC is 0.798366360950739\n",
      "F1: 0.619\n",
      "________________\n",
      "validation loss is 0.010154261413460085 and validation accuracy is 594/869, 68\n",
      "validation AUC is 0.817893524132913\n",
      "F1: 0.641\n",
      "________________\n",
      "training loss is 0.00969717385854754 and training accuracy is 2887/4054, 71\n",
      "training AUC is 0.8228157035293004\n",
      "F1: 0.654\n",
      "________________\n",
      "validation loss is 0.009696067339806068 and validation accuracy is 646/869, 74\n",
      "validation AUC is 0.832088285229202\n",
      "F1: 0.677\n",
      "________________\n",
      "training loss is 0.009278493308056501 and training accuracy is 3074/4054, 75\n",
      "training AUC is 0.8301118360906211\n",
      "F1: 0.686\n",
      "________________\n",
      "validation loss is 0.009327707822907231 and validation accuracy is 667/869, 76\n",
      "validation AUC is 0.8341438273102111\n",
      "F1: 0.689\n",
      "________________\n",
      "training loss is 0.008936065800035888 and training accuracy is 3137/4054, 77\n",
      "training AUC is 0.8362211451893226\n",
      "F1: 0.697\n",
      "________________\n",
      "validation loss is 0.009082709549485745 and validation accuracy is 681/869, 78\n",
      "validation AUC is 0.8336526800873151\n",
      "F1: 0.700\n",
      "________________\n",
      "training loss is 0.008697486086966784 and training accuracy is 3212/4054, 79\n",
      "training AUC is 0.8355996944232238\n",
      "F1: 0.710\n",
      "________________\n",
      "validation loss is 0.00888266476992222 and validation accuracy is 687/869, 79\n",
      "validation AUC is 0.8352231384913897\n",
      "F1: 0.706\n",
      "________________\n",
      "training loss is 0.008519845808381568 and training accuracy is 3220/4054, 79\n",
      "training AUC is 0.8373797208898461\n",
      "F1: 0.710\n",
      "________________\n",
      "validation loss is 0.008760075300280326 and validation accuracy is 687/869, 79\n",
      "validation AUC is 0.8339194761096289\n",
      "F1: 0.704\n",
      "________________\n",
      "training loss is 0.008420254989216112 and training accuracy is 3232/4054, 79\n",
      "training AUC is 0.8388640503394602\n",
      "F1: 0.712\n",
      "________________\n",
      "validation loss is 0.008694953624892152 and validation accuracy is 689/869, 79\n",
      "validation AUC is 0.836520737327189\n",
      "F1: 0.706\n",
      "________________\n",
      "training loss is 0.008344470726837945 and training accuracy is 3243/4054, 79\n",
      "training AUC is 0.8407332729415661\n",
      "F1: 0.714\n",
      "________________\n",
      "validation loss is 0.008575801162094186 and validation accuracy is 692/869, 79\n",
      "validation AUC is 0.8357446034440941\n",
      "F1: 0.709\n",
      "________________\n",
      "training loss is 0.00828115081163716 and training accuracy is 3246/4054, 80\n",
      "training AUC is 0.8412481336300044\n",
      "F1: 0.715\n",
      "________________\n",
      "validation loss is 0.00849306751449857 and validation accuracy is 690/869, 79\n",
      "validation AUC is 0.8377334465195247\n",
      "F1: 0.707\n",
      "________________\n",
      "training loss is 0.00822519889945871 and training accuracy is 3245/4054, 80\n",
      "training AUC is 0.8425884412383929\n",
      "F1: 0.715\n",
      "________________\n",
      "validation loss is 0.008503073618519019 and validation accuracy is 692/869, 79\n",
      "validation AUC is 0.835198884307543\n",
      "F1: 0.708\n",
      "________________\n",
      "training loss is 0.008204378661817674 and training accuracy is 3250/4054, 80\n",
      "training AUC is 0.8415353424032306\n",
      "F1: 0.715\n",
      "________________\n",
      "validation loss is 0.008499191428767249 and validation accuracy is 692/869, 79\n",
      "validation AUC is 0.8371089012854717\n",
      "F1: 0.709\n",
      "________________\n",
      "Epoch    11: reducing learning rate of group 0 to 1.0000e-04.\n",
      "training loss is 0.008220928316346871 and training accuracy is 3251/4054, 80\n",
      "training AUC is 0.8436919129301\n",
      "F1: 0.717\n",
      "________________\n",
      "validation loss is 0.008523347977253043 and validation accuracy is 692/869, 79\n",
      "validation AUC is 0.837121028377395\n",
      "F1: 0.709\n",
      "________________\n",
      "training loss is 0.008205814010472384 and training accuracy is 3251/4054, 80\n",
      "training AUC is 0.8436391744974194\n",
      "F1: 0.717\n",
      "________________\n",
      "validation loss is 0.008492850941810563 and validation accuracy is 692/869, 79\n",
      "validation AUC is 0.8371089012854718\n",
      "F1: 0.708\n",
      "________________\n",
      "training loss is 0.008180435671556978 and training accuracy is 3250/4054, 80\n",
      "training AUC is 0.8435061456276499\n",
      "F1: 0.717\n",
      "________________\n",
      "validation loss is 0.008472871176804168 and validation accuracy is 691/869, 79\n",
      "validation AUC is 0.8371937909289353\n",
      "F1: 0.707\n",
      "________________\n",
      "Epoch    14: reducing learning rate of group 0 to 1.0000e-05.\n",
      "training loss is 0.008169699917888783 and training accuracy is 3252/4054, 80\n",
      "training AUC is 0.8438193757383728\n",
      "F1: 0.717\n",
      "________________\n",
      "validation loss is 0.008505843896997538 and validation accuracy is 691/869, 79\n",
      "validation AUC is 0.8371907591559544\n",
      "F1: 0.707\n",
      "________________\n",
      "training loss is 0.008177806620063838 and training accuracy is 3253/4054, 80\n",
      "training AUC is 0.8436075870984261\n",
      "F1: 0.717\n",
      "________________\n",
      "validation loss is 0.008520183169526253 and validation accuracy is 691/869, 79\n",
      "validation AUC is 0.8371998544748969\n",
      "F1: 0.707\n",
      "________________\n",
      "training loss is 0.0081799453079377 and training accuracy is 3253/4054, 80\n",
      "training AUC is 0.8436980355977463\n",
      "F1: 0.717\n",
      "________________\n",
      "validation loss is 0.00849651954253606 and validation accuracy is 691/869, 79\n",
      "validation AUC is 0.8372059180208585\n",
      "F1: 0.707\n",
      "________________\n",
      "Epoch    17: reducing learning rate of group 0 to 1.0000e-06.\n",
      "training loss is 0.008221443145217482 and training accuracy is 3253/4054, 80\n",
      "training AUC is 0.8435115725376092\n",
      "F1: 0.717\n",
      "________________\n",
      "validation loss is 0.008476853473551392 and validation accuracy is 691/869, 79\n",
      "validation AUC is 0.8372059180208585\n",
      "F1: 0.707\n",
      "________________\n",
      "training loss is 0.008171398201833291 and training accuracy is 3253/4054, 80\n",
      "training AUC is 0.8436958091731476\n",
      "F1: 0.717\n",
      "________________\n",
      "validation loss is 0.008524695837868097 and validation accuracy is 691/869, 79\n",
      "validation AUC is 0.8372059180208585\n",
      "F1: 0.707\n",
      "________________\n"
     ]
    }
   ],
   "source": [
    "# ----- Full training\n",
    "train_losses1, train_accuracy1, train_auc1, train_fscore1 = [], [], [], []\n",
    "val_losses1, val_accuracy1, val_auc1, val_fscore1= [], [], [], []\n",
    "\n",
    "start = clock()\n",
    "for epoch in range(0, epochs):\n",
    "    epoch_loss1, epoch_accuracy1, epo_auc1, epo_f1 = fit(epoch, net2, train_loader, optimizer2, phase='training')\n",
    "    val_epoch_loss1, val_epoch_accuracy1, val_epo_auc1, val_epo_f1 = fit(epoch, net2, val_loader, optimizer2, phase='validation')\n",
    "\n",
    "    train_losses1.append(epoch_loss1)\n",
    "    train_accuracy1.append(epoch_accuracy1)\n",
    "    train_auc1.append(epo_auc1)\n",
    "    train_fscore1.append(epo_f1)\n",
    "\n",
    "    val_losses1.append(val_epoch_loss1)\n",
    "    val_accuracy1.append(val_epoch_accuracy1)\n",
    "    val_auc1.append(val_epo_auc1)\n",
    "    val_fscore1.append(val_epo_f1)\n",
    "\n",
    "    # Learning rate scheduler update\n",
    "    scheduler2.step(val_epo_f1)\n",
    "\n",
    "elapsed = clock() - start"
   ]
  },
  {
   "cell_type": "code",
   "execution_count": 191,
   "metadata": {},
   "outputs": [
    {
     "name": "stdout",
     "output_type": "stream",
     "text": [
      "3.2017735915248977\n"
     ]
    }
   ],
   "source": [
    "print(elapsed)"
   ]
  },
  {
   "cell_type": "code",
   "execution_count": 155,
   "metadata": {},
   "outputs": [
    {
     "data": {
      "image/png": "[encoded data removed]",
      "text/plain": [
       "<Figure size 432x288 with 1 Axes>"
      ]
     },
     "metadata": {},
     "output_type": "display_data"
    }
   ],
   "source": [
    "plt.plot(range(1,len(train_fscore1)+1),train_fscore1,'bo',label = 'training AUC')\n",
    "plt.plot(range(1,len(val_fscore1)+1),val_fscore1,'r',label = 'validation AUC')\n",
    "plt.legend()\n",
    "plt.show()"
   ]
  },
  {
   "cell_type": "code",
   "execution_count": 156,
   "metadata": {},
   "outputs": [
    {
     "data": {
      "image/png": "[encoded data removed]",
      "text/plain": [
       "<Figure size 432x288 with 1 Axes>"
      ]
     },
     "metadata": {},
     "output_type": "display_data"
    }
   ],
   "source": [
    "plt.plot(range(1,len(train_auc1)+1),train_auc1,'bo',label = 'training AUC')\n",
    "plt.plot(range(1,len(val_auc1)+1),val_auc1,'r',label = 'validation AUC')\n",
    "plt.legend()\n",
    "plt.show()"
   ]
  },
  {
   "cell_type": "code",
   "execution_count": 157,
   "metadata": {},
   "outputs": [
    {
     "data": {
      "image/png": "[encoded data removed]",
      "text/plain": [
       "<Figure size 432x288 with 1 Axes>"
      ]
     },
     "metadata": {},
     "output_type": "display_data"
    }
   ],
   "source": [
    "plt.plot(range(1,len(train_losses1)+1),train_losses1,'bo',label = 'training loss')\n",
    "plt.plot(range(1,len(val_losses1)+1),val_losses1,'r',label = 'validation loss')\n",
    "plt.legend()\n",
    "plt.show()"
   ]
  },
  {
   "cell_type": "code",
   "execution_count": 158,
   "metadata": {},
   "outputs": [
    {
     "data": {
      "image/png": "[encoded data removed]",
      "text/plain": [
       "<Figure size 432x288 with 1 Axes>"
      ]
     },
     "metadata": {},
     "output_type": "display_data"
    }
   ],
   "source": [
    "plt.plot(range(1,len(train_accuracy1)+1),train_accuracy1,'bo',label = 'train accuracy')\n",
    "plt.plot(range(1,len(val_accuracy1)+1),val_accuracy1,'r',label = 'val accuracy')\n",
    "plt.legend()\n",
    "plt.show()"
   ]
  },
  {
   "cell_type": "code",
   "execution_count": 159,
   "metadata": {
    "scrolled": false
   },
   "outputs": [
    {
     "name": "stdout",
     "output_type": "stream",
     "text": [
      "classification rate : 0.7951668584579977\n",
      "Accuracy of the network on the validation set : 79 %\n",
      "Confusion Matrix for the 2 classes: \n",
      "      0    1\n",
      "0  476  113\n",
      "1   65  215\n"
     ]
    },
    {
     "data": {
      "image/png": "[encoded data removed]",
      "text/plain": [
       "<Figure size 360x360 with 1 Axes>"
      ]
     },
     "metadata": {},
     "output_type": "display_data"
    },
    {
     "name": "stdout",
     "output_type": "stream",
     "text": [
      "----------Model Classification-------------\n",
      "\n",
      "             precision    recall  f1-score   support\n",
      "\n",
      "         no       0.88      0.81      0.84       589\n",
      "        yes       0.66      0.77      0.71       280\n",
      "\n",
      "avg / total       0.81      0.80      0.80       869\n",
      "\n",
      " \n",
      "----------Model Accuracy-------------\n",
      "\n",
      "Accuracy: 0.795\n",
      " \n",
      "----------Model ROC/AUC-------------\n",
      "\n"
     ]
    },
    {
     "data": {
      "image/png": "[encoded data removed]",
      "text/plain": [
       "<Figure size 432x288 with 1 Axes>"
      ]
     },
     "metadata": {},
     "output_type": "display_data"
    }
   ],
   "source": [
    "eval_net(net2)"
   ]
  },
  {
   "cell_type": "markdown",
   "metadata": {},
   "source": [
    "## SET 3"
   ]
  },
  {
   "cell_type": "code",
   "execution_count": null,
   "metadata": {},
   "outputs": [],
   "source": []
  },
  {
   "cell_type": "code",
   "execution_count": 197,
   "metadata": {},
   "outputs": [
    {
     "data": {
      "text/plain": [
       "True"
      ]
     },
     "execution_count": 197,
     "metadata": {},
     "output_type": "execute_result"
    }
   ],
   "source": [
    "cols12==cols13"
   ]
  },
  {
   "cell_type": "markdown",
   "metadata": {},
   "source": [
    "### -- 2 layers"
   ]
  },
  {
   "cell_type": "markdown",
   "metadata": {},
   "source": [
    "### AUC"
   ]
  },
  {
   "cell_type": "code",
   "execution_count": 160,
   "metadata": {},
   "outputs": [],
   "source": [
    "train_loader = customDataset(X_train_dummies[cols13], y_train)\n",
    "train_iter = iter(train_loader)"
   ]
  },
  {
   "cell_type": "code",
   "execution_count": 161,
   "metadata": {},
   "outputs": [
    {
     "name": "stdout",
     "output_type": "stream",
     "text": [
      "inputs shape on batch size = torch.Size([64, 14])\n",
      "labels shape on batch size = torch.Size([64])\n"
     ]
    }
   ],
   "source": [
    "inputs, labels = train_iter.next()\n",
    "\n",
    "print('inputs shape on batch size = {}'.format(inputs.size()))\n",
    "print('labels shape on batch size = {}'.format(labels.size()))"
   ]
  },
  {
   "cell_type": "code",
   "execution_count": 162,
   "metadata": {},
   "outputs": [],
   "source": [
    "val_loader = customDataset(X_val_dummies[cols13], y_val)\n",
    "val_iter = iter(val_loader)"
   ]
  },
  {
   "cell_type": "code",
   "execution_count": 199,
   "metadata": {},
   "outputs": [
    {
     "data": {
      "text/plain": [
       "14"
      ]
     },
     "execution_count": 199,
     "metadata": {},
     "output_type": "execute_result"
    }
   ],
   "source": [
    "len(cols13)"
   ]
  },
  {
   "cell_type": "code",
   "execution_count": 108,
   "metadata": {},
   "outputs": [],
   "source": [
    "#cols02"
   ]
  },
  {
   "cell_type": "code",
   "execution_count": 163,
   "metadata": {},
   "outputs": [],
   "source": [
    "# Choose the right values for x.\n",
    "input_size = 14\n",
    "hidden_size = 5    #11\n",
    "#hidden_size2 = 4    #6\n",
    "num_classes = 2\n",
    "num_epochs = 20\n",
    "#batch_size = 100\n",
    "learning_rate = 0.001"
   ]
  },
  {
   "cell_type": "code",
   "execution_count": 164,
   "metadata": {},
   "outputs": [],
   "source": [
    "class Net(nn.Module):\n",
    "    def __init__(self, input_size, hidden_size, num_classes):\n",
    "        super(Net, self).__init__()\n",
    "        self.fc1 = nn.Linear(input_size, hidden_size)\n",
    "        self.relu = nn.ReLU()\n",
    "        self.fc2 = nn.Linear(hidden_size, num_classes)\n",
    "        self.lr = nn.Sigmoid()\n",
    "\n",
    "    def forward(self, x):\n",
    "        out = self.fc1(x)\n",
    "        out = self.relu(out)\n",
    "        out = self.fc2(out)\n",
    "        out = self.lr(out)\n",
    "        return out"
   ]
  },
  {
   "cell_type": "code",
   "execution_count": 165,
   "metadata": {},
   "outputs": [],
   "source": [
    "net = Net(input_size, hidden_size, num_classes)\n",
    "\n",
    "if is_cuda:\n",
    "    net.cuda()"
   ]
  },
  {
   "cell_type": "code",
   "execution_count": 166,
   "metadata": {},
   "outputs": [],
   "source": [
    "# Loss and Optimizer\n",
    "\n",
    "#learning_rate = 0.001\n",
    "#weights = [0.4, 1]\n",
    "#class_weights=torch.FloatTensor(weights).cuda()   # might need to add is cuda\n",
    "class_weights=torch.FloatTensor([1, 2])\n",
    "criterion = nn.CrossEntropyLoss(weight=class_weights)\n",
    "\n",
    "#criterion = F.cross_entropy()\n",
    "optimizer = torch.optim.Adam(net.parameters(), lr=learning_rate)\n",
    "# -----------------------------------------------------------------------------------"
   ]
  },
  {
   "cell_type": "code",
   "execution_count": 242,
   "metadata": {},
   "outputs": [],
   "source": [
    "#   Training of the model\n",
    "#   A. Design the setup\n",
    "def fit(epoch, model, data_loader, opti, phase='training', volatile=False):\n",
    "    if phase == 'training':\n",
    "        model.train()\n",
    "    if phase == 'validation':\n",
    "        model.eval()\n",
    "        volatile = True\n",
    "    \n",
    "    running_loss = 0.0\n",
    "    running_correct = 0\n",
    "    \n",
    "    y_score1 = np.empty([0]) #\n",
    "    y_true1 = np.empty([0])  #\n",
    "    y_pred1 = np.empty([0])\n",
    "    \n",
    "    for batch_idx, (data, target) in enumerate(data_loader):\n",
    "\n",
    "        if is_cuda:\n",
    "            data, target = data.cuda(), target.cuda()\n",
    "        data, target = Variable(data, volatile), Variable(target)\n",
    "\n",
    "        if phase == 'training':\n",
    "            opti.zero_grad()\n",
    "        output = model(data)\n",
    "        #loss = F.nll_loss(output, target)\n",
    "        loss = criterion(output, target)\n",
    "\n",
    "        #running_loss += F.nll_loss(output, target, reduction='sum').data.item()\n",
    "        running_loss += criterion(output, target).cpu().data.item()\n",
    "        preds = output.data.max(dim=1, keepdim=True)[1]\n",
    "        \n",
    "        _, pred = torch.max(output.data, 1)\n",
    "        \n",
    "        running_correct += preds.eq(target.data.view_as(preds)).cpu().sum()\n",
    "        if phase == 'training':\n",
    "            loss.backward()\n",
    "            opti.step()\n",
    "        \n",
    "        y_score1 = np.concatenate((y_score1, output.detach().cpu().numpy()[:, 1]), axis=None) #\n",
    "        y_true1 = np.concatenate((y_true1, target.data.cpu().numpy()), axis=None)\n",
    "        y_pred1 = np.concatenate((y_pred1, pred.data.cpu().numpy()), axis=None)\n",
    "        \n",
    "    auc1 = roc_auc_score(y_true1, y_score1) #\n",
    "    #print(y_true1)\n",
    "    #print(y_pred1)\n",
    "    fscore = f1_score(y_true1, y_pred1)\n",
    "\n",
    "    loss = running_loss / len(data_loader.dataset)\n",
    "    accuracy = 100. * running_correct / len(data_loader.dataset)\n",
    "\n",
    "    print(\n",
    "        '{} loss is {} and {} accuracy is {}/{}, {}'.format(phase, loss, phase, running_correct, len(data_loader.dataset), accuracy ))\n",
    "    \n",
    "    print(\n",
    "        '{} AUC is {}'.format(phase, auc1))\n",
    "    \n",
    "    print('F1: %.3f' % fscore)\n",
    "    print('________________')\n",
    "    return loss, accuracy, auc1, fscore\n",
    "# -----------------------------------------------------------------------------------"
   ]
  },
  {
   "cell_type": "code",
   "execution_count": 167,
   "metadata": {},
   "outputs": [
    {
     "data": {
      "text/plain": [
       "Net(\n",
       "  (fc1): Linear(in_features=14, out_features=5, bias=True)\n",
       "  (relu): ReLU()\n",
       "  (fc2): Linear(in_features=5, out_features=2, bias=True)\n",
       "  (lr): Sigmoid()\n",
       ")"
      ]
     },
     "execution_count": 167,
     "metadata": {},
     "output_type": "execute_result"
    }
   ],
   "source": [
    "#  C. Training final preparation\n",
    "\n",
    "# ----- Weight initialization\n",
    "def init_weights(m):\n",
    "    if type(m) == nn.Linear:\n",
    "        torch.nn.init.xavier_normal_(m.weight)\n",
    "        #m.bias.data.fill_(0.01)\n",
    "\n",
    "net.apply(init_weights)"
   ]
  },
  {
   "cell_type": "code",
   "execution_count": 168,
   "metadata": {},
   "outputs": [],
   "source": [
    "# ----- Learning rate regularization\n",
    "#####  NEED TO CHANGE THE patience\n",
    "scheduler = optim.lr_scheduler.ReduceLROnPlateau(optimizer, mode='max', patience=2, verbose=True)"
   ]
  },
  {
   "cell_type": "code",
   "execution_count": 116,
   "metadata": {},
   "outputs": [],
   "source": [
    "#val_loader.dataset.tensors[0].shape"
   ]
  },
  {
   "cell_type": "code",
   "execution_count": 169,
   "metadata": {},
   "outputs": [
    {
     "name": "stdout",
     "output_type": "stream",
     "text": [
      "training loss is 0.011063467135968088 and training accuracy is 1319/4054, 32\n",
      "training AUC is 0.5977571555199328\n",
      "F1: 0.484\n",
      "________________\n",
      "validation loss is 0.01123944552501683 and validation accuracy is 289/869, 33\n",
      "validation AUC is 0.6034653165170991\n",
      "F1: 0.489\n",
      "________________\n",
      "training loss is 0.010893152641673716 and training accuracy is 1339/4054, 33\n",
      "training AUC is 0.6860404569179883\n",
      "F1: 0.486\n",
      "________________\n",
      "validation loss is 0.011052833396354123 and validation accuracy is 301/869, 34\n",
      "validation AUC is 0.7003880669415474\n",
      "F1: 0.492\n",
      "________________\n",
      "training loss is 0.010703361102025615 and training accuracy is 1585/4054, 39\n",
      "training AUC is 0.7494448549414798\n",
      "F1: 0.504\n",
      "________________\n",
      "validation loss is 0.010843509565974544 and validation accuracy is 393/869, 45\n",
      "validation AUC is 0.7455341983992241\n",
      "F1: 0.525\n",
      "________________\n",
      "training loss is 0.010463975733821476 and training accuracy is 2371/4054, 58\n",
      "training AUC is 0.7862075779144246\n",
      "F1: 0.587\n",
      "________________\n",
      "validation loss is 0.010598981202128842 and validation accuracy is 563/869, 64\n",
      "validation AUC is 0.7810059422750425\n",
      "F1: 0.607\n",
      "________________\n",
      "training loss is 0.010184077997188823 and training accuracy is 2771/4054, 68\n",
      "training AUC is 0.8115584833039028\n",
      "F1: 0.636\n",
      "________________\n",
      "validation loss is 0.010306811305266667 and validation accuracy is 622/869, 71\n",
      "validation AUC is 0.7997968712102836\n",
      "F1: 0.648\n",
      "________________\n",
      "training loss is 0.00987158587076538 and training accuracy is 3026/4054, 74\n",
      "training AUC is 0.8254819861377238\n",
      "F1: 0.679\n",
      "________________\n",
      "validation loss is 0.009989168619259043 and validation accuracy is 653/869, 75\n",
      "validation AUC is 0.8158531409168082\n",
      "F1: 0.673\n",
      "________________\n",
      "training loss is 0.009565872853767948 and training accuracy is 3163/4054, 78\n",
      "training AUC is 0.8331943209474549\n",
      "F1: 0.702\n",
      "________________\n",
      "validation loss is 0.009666029205256419 and validation accuracy is 665/869, 76\n",
      "validation AUC is 0.8244573126364299\n",
      "F1: 0.679\n",
      "________________\n",
      "training loss is 0.009266941430948613 and training accuracy is 3188/4054, 78\n",
      "training AUC is 0.8372802275405941\n",
      "F1: 0.705\n",
      "________________\n",
      "validation loss is 0.009318232124776369 and validation accuracy is 679/869, 78\n",
      "validation AUC is 0.8298356779044385\n",
      "F1: 0.694\n",
      "________________\n",
      "training loss is 0.00894925850303407 and training accuracy is 3202/4054, 78\n",
      "training AUC is 0.8411533714330243\n",
      "F1: 0.706\n",
      "________________\n",
      "validation loss is 0.009090977790577914 and validation accuracy is 682/869, 78\n",
      "validation AUC is 0.8327886247877759\n",
      "F1: 0.698\n",
      "________________\n",
      "training loss is 0.008747865589722424 and training accuracy is 3221/4054, 79\n",
      "training AUC is 0.8425062026797804\n",
      "F1: 0.709\n",
      "________________\n",
      "validation loss is 0.008906974856954998 and validation accuracy is 683/869, 78\n",
      "validation AUC is 0.8349715013339801\n",
      "F1: 0.698\n",
      "________________\n",
      "training loss is 0.008590379958677362 and training accuracy is 3229/4054, 79\n",
      "training AUC is 0.8449030879117667\n",
      "F1: 0.710\n",
      "________________\n",
      "validation loss is 0.00885246664937264 and validation accuracy is 685/869, 78\n",
      "validation AUC is 0.8373787290807664\n",
      "F1: 0.701\n",
      "________________\n",
      "training loss is 0.008477357371016918 and training accuracy is 3237/4054, 79\n",
      "training AUC is 0.8468506528294377\n",
      "F1: 0.713\n",
      "________________\n",
      "validation loss is 0.008702287465436824 and validation accuracy is 685/869, 78\n",
      "validation AUC is 0.8382821974290565\n",
      "F1: 0.700\n",
      "________________\n",
      "training loss is 0.008415534783597644 and training accuracy is 3237/4054, 79\n",
      "training AUC is 0.8480301012605737\n",
      "F1: 0.712\n",
      "________________\n",
      "validation loss is 0.008690775572499143 and validation accuracy is 686/869, 78\n",
      "validation AUC is 0.8394767159835071\n",
      "F1: 0.701\n",
      "________________\n",
      "training loss is 0.00836770251194832 and training accuracy is 3236/4054, 79\n",
      "training AUC is 0.8491324597399814\n",
      "F1: 0.712\n",
      "________________\n",
      "validation loss is 0.00866069480931114 and validation accuracy is 689/869, 79\n",
      "validation AUC is 0.8393615086102353\n",
      "F1: 0.704\n",
      "________________\n",
      "training loss is 0.008302592399029762 and training accuracy is 3238/4054, 79\n",
      "training AUC is 0.849776592206679\n",
      "F1: 0.711\n",
      "________________\n",
      "validation loss is 0.008582924740223945 and validation accuracy is 688/869, 79\n",
      "validation AUC is 0.8398102110113994\n",
      "F1: 0.703\n",
      "________________\n",
      "training loss is 0.008295616758945957 and training accuracy is 3242/4054, 79\n",
      "training AUC is 0.849887356830462\n",
      "F1: 0.712\n",
      "________________\n",
      "validation loss is 0.008609412145834112 and validation accuracy is 690/869, 79\n",
      "validation AUC is 0.8403134853262187\n",
      "F1: 0.705\n",
      "________________\n",
      "training loss is 0.008240866915428056 and training accuracy is 3238/4054, 79\n",
      "training AUC is 0.8507171174480721\n",
      "F1: 0.712\n",
      "________________\n",
      "validation loss is 0.008631216574318801 and validation accuracy is 690/869, 79\n",
      "validation AUC is 0.8399617996604414\n",
      "F1: 0.705\n",
      "________________\n",
      "training loss is 0.008235586280592216 and training accuracy is 3238/4054, 79\n",
      "training AUC is 0.8506987494451332\n",
      "F1: 0.712\n",
      "________________\n",
      "validation loss is 0.008519168655946423 and validation accuracy is 691/869, 79\n",
      "validation AUC is 0.8398465922871696\n",
      "F1: 0.706\n",
      "________________\n",
      "training loss is 0.008209482496985674 and training accuracy is 3243/4054, 79\n",
      "training AUC is 0.8514252596219809\n",
      "F1: 0.713\n",
      "________________\n",
      "validation loss is 0.008523683896410452 and validation accuracy is 691/869, 79\n",
      "validation AUC is 0.8397556390977444\n",
      "F1: 0.706\n",
      "________________\n",
      "Epoch    18: reducing learning rate of group 0 to 1.0000e-04.\n",
      "training loss is 0.008195914963988995 and training accuracy is 3243/4054, 79\n",
      "training AUC is 0.851554113945628\n",
      "F1: 0.713\n",
      "________________\n",
      "validation loss is 0.00851681698177983 and validation accuracy is 691/869, 79\n",
      "validation AUC is 0.8396464952704342\n",
      "F1: 0.706\n",
      "________________\n"
     ]
    }
   ],
   "source": [
    "# ----- Full training\n",
    "train_losses, train_accuracy, train_auc, train_fscore = [], [], [], []\n",
    "val_losses, val_accuracy, val_auc, val_fscore= [], [], [], []\n",
    "\n",
    "\n",
    "start = clock()\n",
    "for epoch in range(0, epochs):\n",
    "    epoch_loss, epoch_accuracy, epo_auc, epo_f = fit(epoch, net, train_loader, optimizer, phase='training')\n",
    "    val_epoch_loss, val_epoch_accuracy, val_epo_auc, val_epo_f = fit(epoch, net, val_loader, optimizer, phase='validation')\n",
    "\n",
    "    train_losses.append(epoch_loss)\n",
    "    train_accuracy.append(epoch_accuracy)\n",
    "    train_auc.append(epo_auc)\n",
    "    train_fscore.append(epo_f)\n",
    "\n",
    "    val_losses.append(val_epoch_loss)\n",
    "    val_accuracy.append(val_epoch_accuracy)\n",
    "    val_auc.append(val_epo_auc)\n",
    "    val_fscore.append(val_epo_f)\n",
    "\n",
    "    # Learning rate scheduler update\n",
    "    scheduler.step(val_epo_auc)\n",
    "\n",
    "elapsed = clock() - start"
   ]
  },
  {
   "cell_type": "code",
   "execution_count": 208,
   "metadata": {},
   "outputs": [
    {
     "name": "stdout",
     "output_type": "stream",
     "text": [
      "2.836129450768908\n"
     ]
    }
   ],
   "source": [
    "print(elapsed)"
   ]
  },
  {
   "cell_type": "code",
   "execution_count": 170,
   "metadata": {},
   "outputs": [
    {
     "data": {
      "image/png": "[encoded data removed]",
      "text/plain": [
       "<Figure size 432x288 with 1 Axes>"
      ]
     },
     "metadata": {},
     "output_type": "display_data"
    }
   ],
   "source": [
    "plt.plot(range(1,len(train_auc)+1),train_auc,'bo',label = 'training AUC')\n",
    "plt.plot(range(1,len(val_auc)+1),val_auc,'r',label = 'validation AUC')\n",
    "plt.legend()\n",
    "plt.show()"
   ]
  },
  {
   "cell_type": "code",
   "execution_count": 171,
   "metadata": {},
   "outputs": [
    {
     "data": {
      "image/png": "[encoded data removed]",
      "text/plain": [
       "<Figure size 432x288 with 1 Axes>"
      ]
     },
     "metadata": {},
     "output_type": "display_data"
    }
   ],
   "source": [
    "plt.plot(range(1,len(train_losses)+1),train_losses,'bo',label = 'training loss')\n",
    "plt.plot(range(1,len(val_losses)+1),val_losses,'r',label = 'validation loss')\n",
    "plt.legend()\n",
    "plt.show()"
   ]
  },
  {
   "cell_type": "code",
   "execution_count": 172,
   "metadata": {},
   "outputs": [
    {
     "data": {
      "text/plain": [
       "<matplotlib.legend.Legend at 0x25ff0d9f908>"
      ]
     },
     "execution_count": 172,
     "metadata": {},
     "output_type": "execute_result"
    },
    {
     "data": {
      "image/png": "[encoded data removed]",
      "text/plain": [
       "<Figure size 432x288 with 1 Axes>"
      ]
     },
     "metadata": {},
     "output_type": "display_data"
    }
   ],
   "source": [
    "plt.plot(range(1,len(train_accuracy)+1),train_accuracy,'bo',label = 'train accuracy')\n",
    "plt.plot(range(1,len(val_accuracy)+1),val_accuracy,'r',label = 'val accuracy')\n",
    "plt.legend()"
   ]
  },
  {
   "cell_type": "code",
   "execution_count": null,
   "metadata": {},
   "outputs": [],
   "source": []
  },
  {
   "cell_type": "code",
   "execution_count": 174,
   "metadata": {},
   "outputs": [],
   "source": [
    "# Model classification metrics\n",
    "\n",
    "def eval_net(clf, t_loader=val_loader):\n",
    "    #parameters initialization\n",
    "    classes = [0,1]\n",
    "\n",
    "    correct = 0\n",
    "    total = 0\n",
    "\n",
    "    y_pred = np.empty([0])\n",
    "    y_true = np.empty([0])\n",
    "    #scores = np.empty([0])\n",
    "    y_score = np.empty([0])\n",
    "\n",
    "    #Model evaluation\n",
    "    clf.eval()\n",
    "    for images, labels in t_loader:\n",
    "        if is_cuda:\n",
    "            images = images.cuda()\n",
    "        images = Variable(images)\n",
    "        outputs = clf(images)\n",
    "        _, predicted = torch.max(outputs.data, 1)\n",
    "        total += labels.size(0)\n",
    "        correct += (predicted.cpu() == labels).sum()\n",
    "\n",
    "        y_pred = np.concatenate((y_pred, predicted.data.cpu().numpy()), axis=None)\n",
    "        y_true = np.concatenate((y_true, labels.data.cpu().numpy()), axis=None)\n",
    "        #scores = np.concatenate((scores, score.data.cpu().numpy()), axis=None)\n",
    "        y_score = np.concatenate((y_score, outputs.detach().cpu().numpy()[:, 1]), axis=None)\n",
    "\n",
    "\n",
    "    conf_matrix = metrics.confusion_matrix(y_true, y_pred)\n",
    "\n",
    "    np.trace(conf_matrix)\n",
    "\n",
    "    print(\"classification rate :\", np.trace(conf_matrix)/y_val.shape[0])\n",
    "\n",
    "    print('Accuracy of the network on the validation set : %d %%' % (100 * correct / total))\n",
    "\n",
    "    df_conf_matrix = pd.DataFrame(data=conf_matrix, index=classes, columns=classes)\n",
    "\n",
    "    print(\"Confusion Matrix for the 2 classes: \\n\", df_conf_matrix)\n",
    "\n",
    "    #--------------!\n",
    "\n",
    "    #y_pred = clf.predict(np_test)\n",
    "    confmat = confusion_matrix(y_true=y_true, y_pred=y_pred)\n",
    "\n",
    "    fig, ax = plt.subplots(figsize=(5, 5))\n",
    "    ax.matshow(confmat, cmap=plt.cm.Blues, alpha=0.3)\n",
    "    for i in range(confmat.shape[0]):\n",
    "        for j in range(confmat.shape[1]):\n",
    "            ax.text(x=j, y=i,\n",
    "            s=confmat[i, j],\n",
    "            va='center', ha='center')\n",
    "    plt.xlabel('predicted label')\n",
    "    plt.ylabel('true label')\n",
    "    plt.title(\"MLP title 2\")\n",
    "    plt.show()\n",
    "    print(\"----------Model Classification-------------\\n\")\n",
    "    print(classification_report(y_true, y_pred, target_names=['no', 'yes']))\n",
    "    print(\" \")\n",
    "    print(\"----------Model Accuracy-------------\\n\")\n",
    "    print('Accuracy: %.3f' % accuracy_score(y_true=y_true, y_pred=y_pred))\n",
    "    print(\" \")\n",
    "    print(\"----------Model ROC/AUC-------------\\n\")\n",
    "    auc = roc_auc_score(y_true, y_score )#y_pred)average='micro'\n",
    "    fpr, tpr, thresholds = roc_curve(y_true, y_score)\n",
    "    plt.figure()\n",
    "    plt.plot(fpr, tpr, label='AUC = %0.3f' % auc)\n",
    "    plt.plot([0, 1], [0, 1],'r--')\n",
    "    plt.xlim([0.0, 1.0])\n",
    "    plt.ylim([0.0, 1.05])\n",
    "    plt.xlabel('False Positive Rate')\n",
    "    plt.ylabel('True Positive Rate')\n",
    "    plt.title('Receiver Operating Characteristic - '+ 'test 1')\n",
    "    plt.legend(loc=\"lower right\")\n",
    "    #plt.savefig('Log_ROC')\n",
    "    plt.show()"
   ]
  },
  {
   "cell_type": "code",
   "execution_count": 175,
   "metadata": {
    "scrolled": false
   },
   "outputs": [
    {
     "name": "stdout",
     "output_type": "stream",
     "text": [
      "classification rate : 0.7951668584579977\n",
      "Accuracy of the network on the validation set : 79 %\n",
      "Confusion Matrix for the 2 classes: \n",
      "      0    1\n",
      "0  477  112\n",
      "1   66  214\n"
     ]
    },
    {
     "data": {
      "image/png": "[encoded data removed]",
      "text/plain": [
       "<Figure size 360x360 with 1 Axes>"
      ]
     },
     "metadata": {},
     "output_type": "display_data"
    },
    {
     "name": "stdout",
     "output_type": "stream",
     "text": [
      "----------Model Classification-------------\n",
      "\n",
      "             precision    recall  f1-score   support\n",
      "\n",
      "         no       0.88      0.81      0.84       589\n",
      "        yes       0.66      0.76      0.71       280\n",
      "\n",
      "avg / total       0.81      0.80      0.80       869\n",
      "\n",
      " \n",
      "----------Model Accuracy-------------\n",
      "\n",
      "Accuracy: 0.795\n",
      " \n",
      "----------Model ROC/AUC-------------\n",
      "\n"
     ]
    },
    {
     "data": {
      "image/png": "[encoded data removed]",
      "text/plain": [
       "<Figure size 432x288 with 1 Axes>"
      ]
     },
     "metadata": {},
     "output_type": "display_data"
    }
   ],
   "source": [
    "eval_net(net)"
   ]
  },
  {
   "cell_type": "code",
   "execution_count": null,
   "metadata": {},
   "outputs": [],
   "source": []
  },
  {
   "cell_type": "markdown",
   "metadata": {},
   "source": [
    "#### --- Fscore"
   ]
  },
  {
   "cell_type": "code",
   "execution_count": 176,
   "metadata": {},
   "outputs": [],
   "source": [
    "# Choose the right values for x.\n",
    "input_size = 14\n",
    "hidden_size = 5    #11\n",
    "#hidden_size2 = 4    #6\n",
    "num_classes = 2\n",
    "num_epochs = 20\n",
    "#batch_size = 100\n",
    "learning_rate = 0.001"
   ]
  },
  {
   "cell_type": "code",
   "execution_count": 177,
   "metadata": {},
   "outputs": [],
   "source": [
    "netf2 = Net(input_size, hidden_size, num_classes)\n",
    "\n",
    "if is_cuda:\n",
    "    netf2.cuda()"
   ]
  },
  {
   "cell_type": "code",
   "execution_count": 178,
   "metadata": {},
   "outputs": [],
   "source": [
    "# Loss and Optimizer\n",
    "\n",
    "#learning_rate = 0.001\n",
    "#weights = [0.4, 1]\n",
    "#class_weights=torch.FloatTensor(weights).cuda()   # might need to add is cuda\n",
    "class_weights=torch.FloatTensor([1, 2])\n",
    "criterion = nn.CrossEntropyLoss(weight=class_weights)\n",
    "\n",
    "#criterion = F.cross_entropy()\n",
    "optimizerf2 = torch.optim.Adam(netf2.parameters(), lr=learning_rate)\n",
    "# -----------------------------------------------------------------------------------"
   ]
  },
  {
   "cell_type": "code",
   "execution_count": null,
   "metadata": {},
   "outputs": [],
   "source": []
  },
  {
   "cell_type": "code",
   "execution_count": 179,
   "metadata": {},
   "outputs": [
    {
     "data": {
      "text/plain": [
       "Net(\n",
       "  (fc1): Linear(in_features=14, out_features=5, bias=True)\n",
       "  (relu): ReLU()\n",
       "  (fc2): Linear(in_features=5, out_features=2, bias=True)\n",
       "  (lr): Sigmoid()\n",
       ")"
      ]
     },
     "execution_count": 179,
     "metadata": {},
     "output_type": "execute_result"
    }
   ],
   "source": [
    "#  C. Training final preparation\n",
    "\n",
    "# ----- Weight initialization\n",
    "def init_weights(m):\n",
    "    if type(m) == nn.Linear:\n",
    "        torch.nn.init.xavier_normal_(m.weight)\n",
    "        #m.bias.data.fill_(0.01)\n",
    "\n",
    "netf2.apply(init_weights)"
   ]
  },
  {
   "cell_type": "code",
   "execution_count": 180,
   "metadata": {},
   "outputs": [],
   "source": [
    "# ----- Learning rate regularization\n",
    "#####  NEED TO CHANGE THE patience\n",
    "schedulerf2 = optim.lr_scheduler.ReduceLROnPlateau(optimizerf2, mode='max', patience=2, verbose=True)"
   ]
  },
  {
   "cell_type": "code",
   "execution_count": null,
   "metadata": {},
   "outputs": [],
   "source": []
  },
  {
   "cell_type": "code",
   "execution_count": 181,
   "metadata": {},
   "outputs": [
    {
     "name": "stdout",
     "output_type": "stream",
     "text": [
      "training loss is 0.010831038015019324 and training accuracy is 1493/4054, 36\n",
      "training AUC is 0.5258096880083379\n",
      "F1: 0.480\n",
      "________________\n",
      "validation loss is 0.01098137215997325 and validation accuracy is 440/869, 50\n",
      "validation AUC is 0.602355687606112\n",
      "F1: 0.523\n",
      "________________\n",
      "training loss is 0.010715618736942708 and training accuracy is 2211/4054, 54\n",
      "training AUC is 0.6158052490742943\n",
      "F1: 0.541\n",
      "________________\n",
      "validation loss is 0.010825395309746745 and validation accuracy is 532/869, 61\n",
      "validation AUC is 0.7077583070579675\n",
      "F1: 0.558\n",
      "________________\n",
      "training loss is 0.010535658596769953 and training accuracy is 2505/4054, 61\n",
      "training AUC is 0.7041067793237514\n",
      "F1: 0.567\n",
      "________________\n",
      "validation loss is 0.010616674521987265 and validation accuracy is 577/869, 66\n",
      "validation AUC is 0.7321580160077613\n",
      "F1: 0.588\n",
      "________________\n",
      "training loss is 0.01030982719834473 and training accuracy is 2743/4054, 67\n",
      "training AUC is 0.7408789646012404\n",
      "F1: 0.601\n",
      "________________\n",
      "validation loss is 0.010392813537145511 and validation accuracy is 603/869, 69\n",
      "validation AUC is 0.7663139704098957\n",
      "F1: 0.605\n",
      "________________\n",
      "training loss is 0.010054915378878254 and training accuracy is 2806/4054, 69\n",
      "training AUC is 0.7734028534414262\n",
      "F1: 0.616\n",
      "________________\n",
      "validation loss is 0.010098670582502429 and validation accuracy is 609/869, 70\n",
      "validation AUC is 0.7881973077855932\n",
      "F1: 0.589\n",
      "________________\n",
      "training loss is 0.009737976942970416 and training accuracy is 2940/4054, 72\n",
      "training AUC is 0.7952059512329521\n",
      "F1: 0.633\n",
      "________________\n",
      "validation loss is 0.00979435210672429 and validation accuracy is 642/869, 73\n",
      "validation AUC is 0.8039261460101867\n",
      "F1: 0.608\n",
      "________________\n",
      "training loss is 0.009436475286709598 and training accuracy is 3082/4054, 76\n",
      "training AUC is 0.81442917952079\n",
      "F1: 0.659\n",
      "________________\n",
      "validation loss is 0.009520285903241473 and validation accuracy is 646/869, 74\n",
      "validation AUC is 0.8187333252486055\n",
      "F1: 0.612\n",
      "________________\n",
      "training loss is 0.009107768212155162 and training accuracy is 3125/4054, 77\n",
      "training AUC is 0.8294621375624268\n",
      "F1: 0.679\n",
      "________________\n",
      "validation loss is 0.0092580002937273 and validation accuracy is 664/869, 76\n",
      "validation AUC is 0.8254214164443368\n",
      "F1: 0.664\n",
      "________________\n",
      "training loss is 0.008879833640167733 and training accuracy is 3160/4054, 77\n",
      "training AUC is 0.8363107587794183\n",
      "F1: 0.691\n",
      "________________\n",
      "validation loss is 0.009049825893309915 and validation accuracy is 672/869, 77\n",
      "validation AUC is 0.8325278923114237\n",
      "F1: 0.684\n",
      "________________\n",
      "training loss is 0.008661888484656075 and training accuracy is 3200/4054, 78\n",
      "training AUC is 0.8425156649843246\n",
      "F1: 0.706\n",
      "________________\n",
      "validation loss is 0.008899938936749317 and validation accuracy is 677/869, 77\n",
      "validation AUC is 0.8355778559301479\n",
      "F1: 0.691\n",
      "________________\n",
      "training loss is 0.00856415825226534 and training accuracy is 3209/4054, 79\n",
      "training AUC is 0.8452704479705444\n",
      "F1: 0.710\n",
      "________________\n",
      "validation loss is 0.008794317139854914 and validation accuracy is 684/869, 78\n",
      "validation AUC is 0.8376697792869271\n",
      "F1: 0.699\n",
      "________________\n",
      "training loss is 0.008446577600087211 and training accuracy is 3225/4054, 79\n",
      "training AUC is 0.8473111052667466\n",
      "F1: 0.714\n",
      "________________\n",
      "validation loss is 0.008754493074943885 and validation accuracy is 687/869, 79\n",
      "validation AUC is 0.8385489934513704\n",
      "F1: 0.703\n",
      "________________\n",
      "training loss is 0.008396221967124563 and training accuracy is 3233/4054, 79\n",
      "training AUC is 0.8475352783935234\n",
      "F1: 0.713\n",
      "________________\n",
      "validation loss is 0.008645740079385913 and validation accuracy is 689/869, 79\n",
      "validation AUC is 0.8379790201309727\n",
      "F1: 0.705\n",
      "________________\n",
      "training loss is 0.008316588000411403 and training accuracy is 3231/4054, 79\n",
      "training AUC is 0.8488072625970408\n",
      "F1: 0.714\n",
      "________________\n",
      "validation loss is 0.00863335366490521 and validation accuracy is 690/869, 79\n",
      "validation AUC is 0.8381306087800147\n",
      "F1: 0.706\n",
      "________________\n",
      "training loss is 0.00829479021866097 and training accuracy is 3233/4054, 79\n",
      "training AUC is 0.8493335337115472\n",
      "F1: 0.713\n",
      "________________\n",
      "validation loss is 0.008599558997346287 and validation accuracy is 691/869, 79\n",
      "validation AUC is 0.8374878729080767\n",
      "F1: 0.707\n",
      "________________\n",
      "training loss is 0.008285256269005172 and training accuracy is 3239/4054, 79\n",
      "training AUC is 0.8499232579271152\n",
      "F1: 0.714\n",
      "________________\n",
      "validation loss is 0.008613971043785367 and validation accuracy is 690/869, 79\n",
      "validation AUC is 0.8351655348047538\n",
      "F1: 0.706\n",
      "________________\n",
      "training loss is 0.008243568509920042 and training accuracy is 3235/4054, 79\n",
      "training AUC is 0.850311073261893\n",
      "F1: 0.712\n",
      "________________\n",
      "validation loss is 0.008544006370976824 and validation accuracy is 691/869, 79\n",
      "validation AUC is 0.8354080766432208\n",
      "F1: 0.707\n",
      "________________\n",
      "training loss is 0.008220218125681132 and training accuracy is 3239/4054, 79\n",
      "training AUC is 0.8510307650134072\n",
      "F1: 0.714\n",
      "________________\n",
      "validation loss is 0.008508508752761419 and validation accuracy is 693/869, 79\n",
      "validation AUC is 0.8351230899830221\n",
      "F1: 0.710\n",
      "________________\n",
      "training loss is 0.008176296228955517 and training accuracy is 3241/4054, 79\n",
      "training AUC is 0.8507171174480721\n",
      "F1: 0.713\n",
      "________________\n",
      "validation loss is 0.008555706749028249 and validation accuracy is 691/869, 79\n",
      "validation AUC is 0.8351534077128305\n",
      "F1: 0.707\n",
      "________________\n",
      "training loss is 0.00817869850638822 and training accuracy is 3242/4054, 79\n",
      "training AUC is 0.8517521265833705\n",
      "F1: 0.715\n",
      "________________\n",
      "validation loss is 0.008492843739868444 and validation accuracy is 691/869, 79\n",
      "validation AUC is 0.8351594712587922\n",
      "F1: 0.707\n",
      "________________\n"
     ]
    }
   ],
   "source": [
    "# ----- Full training\n",
    "train_losses1, train_accuracy1, train_auc1, train_fscore1 = [], [], [], []\n",
    "val_losses1, val_accuracy1, val_auc1, val_fscore1= [], [], [], []\n",
    "\n",
    "start = clock()\n",
    "for epoch in range(0, epochs):\n",
    "    epoch_loss1, epoch_accuracy1, epo_auc1, epo_f1 = fit(epoch, netf2, train_loader, optimizerf2, phase='training')\n",
    "    val_epoch_loss1, val_epoch_accuracy1, val_epo_auc1, val_epo_f1 = fit(epoch, netf2, val_loader, optimizerf2, phase='validation')\n",
    "\n",
    "    train_losses1.append(epoch_loss1)\n",
    "    train_accuracy1.append(epoch_accuracy1)\n",
    "    train_auc1.append(epo_auc1)\n",
    "    train_fscore1.append(epo_f1)\n",
    "\n",
    "    val_losses1.append(val_epoch_loss1)\n",
    "    val_accuracy1.append(val_epoch_accuracy1)\n",
    "    val_auc1.append(val_epo_auc1)\n",
    "    val_fscore1.append(val_epo_f1)\n",
    "\n",
    "    # Learning rate scheduler update\n",
    "    schedulerf2.step(val_epo_f1)\n",
    "\n",
    "elapsed = clock() - start"
   ]
  },
  {
   "cell_type": "code",
   "execution_count": 220,
   "metadata": {},
   "outputs": [
    {
     "name": "stdout",
     "output_type": "stream",
     "text": [
      "2.988419941467555\n"
     ]
    }
   ],
   "source": [
    "print(elapsed)"
   ]
  },
  {
   "cell_type": "code",
   "execution_count": 182,
   "metadata": {},
   "outputs": [
    {
     "data": {
      "image/png": "[encoded data removed]",
      "text/plain": [
       "<Figure size 432x288 with 1 Axes>"
      ]
     },
     "metadata": {},
     "output_type": "display_data"
    }
   ],
   "source": [
    "plt.plot(range(1,len(train_fscore1)+1),train_fscore1,'bo',label = 'training AUC')\n",
    "plt.plot(range(1,len(val_fscore1)+1),val_fscore1,'r',label = 'validation AUC')\n",
    "plt.legend()\n",
    "plt.show()"
   ]
  },
  {
   "cell_type": "code",
   "execution_count": 183,
   "metadata": {},
   "outputs": [
    {
     "data": {
      "image/png": "[encoded data removed]",
      "text/plain": [
       "<Figure size 432x288 with 1 Axes>"
      ]
     },
     "metadata": {},
     "output_type": "display_data"
    }
   ],
   "source": [
    "plt.plot(range(1,len(train_auc1)+1),train_auc1,'bo',label = 'training AUC')\n",
    "plt.plot(range(1,len(val_auc1)+1),val_auc1,'r',label = 'validation AUC')\n",
    "plt.legend()\n",
    "plt.show()"
   ]
  },
  {
   "cell_type": "code",
   "execution_count": 184,
   "metadata": {},
   "outputs": [
    {
     "data": {
      "image/png": "[encoded data removed]",
      "text/plain": [
       "<Figure size 432x288 with 1 Axes>"
      ]
     },
     "metadata": {},
     "output_type": "display_data"
    }
   ],
   "source": [
    "plt.plot(range(1,len(train_losses1)+1),train_losses1,'bo',label = 'training loss')\n",
    "plt.plot(range(1,len(val_losses1)+1),val_losses1,'r',label = 'validation loss')\n",
    "plt.legend()\n",
    "plt.show()"
   ]
  },
  {
   "cell_type": "code",
   "execution_count": 185,
   "metadata": {},
   "outputs": [
    {
     "data": {
      "image/png": "[encoded data removed]",
      "text/plain": [
       "<Figure size 432x288 with 1 Axes>"
      ]
     },
     "metadata": {},
     "output_type": "display_data"
    }
   ],
   "source": [
    "plt.plot(range(1,len(train_accuracy1)+1),train_accuracy1,'bo',label = 'train accuracy')\n",
    "plt.plot(range(1,len(val_accuracy1)+1),val_accuracy1,'r',label = 'val accuracy')\n",
    "plt.legend()\n",
    "plt.show()"
   ]
  },
  {
   "cell_type": "code",
   "execution_count": 186,
   "metadata": {
    "scrolled": false
   },
   "outputs": [
    {
     "name": "stdout",
     "output_type": "stream",
     "text": [
      "classification rate : 0.7951668584579977\n",
      "Accuracy of the network on the validation set : 79 %\n",
      "Confusion Matrix for the 2 classes: \n",
      "      0    1\n",
      "0  476  113\n",
      "1   65  215\n"
     ]
    },
    {
     "data": {
      "image/png": "[encoded data removed]",
      "text/plain": [
       "<Figure size 360x360 with 1 Axes>"
      ]
     },
     "metadata": {},
     "output_type": "display_data"
    },
    {
     "name": "stdout",
     "output_type": "stream",
     "text": [
      "----------Model Classification-------------\n",
      "\n",
      "             precision    recall  f1-score   support\n",
      "\n",
      "         no       0.88      0.81      0.84       589\n",
      "        yes       0.66      0.77      0.71       280\n",
      "\n",
      "avg / total       0.81      0.80      0.80       869\n",
      "\n",
      " \n",
      "----------Model Accuracy-------------\n",
      "\n",
      "Accuracy: 0.795\n",
      " \n",
      "----------Model ROC/AUC-------------\n",
      "\n"
     ]
    },
    {
     "data": {
      "image/png": "[encoded data removed]",
      "text/plain": [
       "<Figure size 432x288 with 1 Axes>"
      ]
     },
     "metadata": {},
     "output_type": "display_data"
    }
   ],
   "source": [
    "eval_net(netf2)"
   ]
  },
  {
   "cell_type": "code",
   "execution_count": null,
   "metadata": {},
   "outputs": [],
   "source": []
  },
  {
   "cell_type": "code",
   "execution_count": null,
   "metadata": {},
   "outputs": [],
   "source": []
  },
  {
   "cell_type": "markdown",
   "metadata": {},
   "source": [
    "### 3 layers"
   ]
  },
  {
   "cell_type": "markdown",
   "metadata": {},
   "source": [
    "#### ---AUC"
   ]
  },
  {
   "cell_type": "code",
   "execution_count": 190,
   "metadata": {},
   "outputs": [],
   "source": [
    "train_loader = customDataset(X_train_dummies[cols13], y_train)\n",
    "train_iter = iter(train_loader)"
   ]
  },
  {
   "cell_type": "code",
   "execution_count": 191,
   "metadata": {},
   "outputs": [
    {
     "name": "stdout",
     "output_type": "stream",
     "text": [
      "inputs shape on batch size = torch.Size([64, 14])\n",
      "labels shape on batch size = torch.Size([64])\n"
     ]
    }
   ],
   "source": [
    "inputs, labels = train_iter.next()\n",
    "\n",
    "print('inputs shape on batch size = {}'.format(inputs.size()))\n",
    "print('labels shape on batch size = {}'.format(labels.size()))"
   ]
  },
  {
   "cell_type": "code",
   "execution_count": 192,
   "metadata": {},
   "outputs": [],
   "source": [
    "val_loader = customDataset(X_val_dummies[cols13], y_val)\n",
    "val_iter = iter(val_loader)"
   ]
  },
  {
   "cell_type": "code",
   "execution_count": 229,
   "metadata": {},
   "outputs": [
    {
     "data": {
      "text/plain": [
       "14"
      ]
     },
     "execution_count": 229,
     "metadata": {},
     "output_type": "execute_result"
    }
   ],
   "source": [
    "len(cols13)"
   ]
  },
  {
   "cell_type": "code",
   "execution_count": 1306,
   "metadata": {},
   "outputs": [],
   "source": [
    "#cols02"
   ]
  },
  {
   "cell_type": "code",
   "execution_count": 193,
   "metadata": {},
   "outputs": [],
   "source": [
    "# Choose the right values for x.\n",
    "input_size = 14\n",
    "hidden_size = 8    #11\n",
    "hidden_size2 = 4    #6\n",
    "num_classes = 2\n",
    "num_epochs = 20\n",
    "#batch_size = 100\n",
    "learning_rate = 0.001"
   ]
  },
  {
   "cell_type": "code",
   "execution_count": 194,
   "metadata": {},
   "outputs": [],
   "source": [
    "class Net02(nn.Module):\n",
    "    def __init__(self, input_size, hidden_size, hidden_size2, num_classes):\n",
    "        super(Net02, self).__init__()\n",
    "        self.fc1 = nn.Linear(input_size, hidden_size)\n",
    "        self.relu = nn.ReLU()\n",
    "        self.fcM = nn.Linear(hidden_size, hidden_size2)\n",
    "        self.relu = nn.ReLU()\n",
    "        self.fc2 = nn.Linear(hidden_size2, num_classes)\n",
    "        self.lr = nn.Sigmoid()\n",
    "\n",
    "    def forward(self, x):\n",
    "        out = self.fc1(x)\n",
    "        out = self.relu(out)\n",
    "        out = self.fcM(out)\n",
    "        out = self.relu(out)\n",
    "        out = self.fc2(out)\n",
    "        out = self.lr(out)\n",
    "        return out"
   ]
  },
  {
   "cell_type": "code",
   "execution_count": 195,
   "metadata": {},
   "outputs": [],
   "source": [
    "net02 = Net02(input_size, hidden_size, hidden_size2, num_classes)\n",
    "\n",
    "if is_cuda:\n",
    "    net.cuda()"
   ]
  },
  {
   "cell_type": "code",
   "execution_count": 197,
   "metadata": {},
   "outputs": [],
   "source": [
    "# Loss and Optimizer\n",
    "\n",
    "#learning_rate = 0.001\n",
    "#weights = [0.4, 1]\n",
    "#class_weights=torch.FloatTensor(weights).cuda()   # might need to add is cuda\n",
    "class_weights=torch.FloatTensor([1, 2])\n",
    "criterion = nn.CrossEntropyLoss(weight=class_weights)\n",
    "\n",
    "#criterion = F.cross_entropy()\n",
    "optimizer02 = torch.optim.Adam(net02.parameters(), lr=learning_rate)\n",
    "# -----------------------------------------------------------------------------------"
   ]
  },
  {
   "cell_type": "code",
   "execution_count": 198,
   "metadata": {},
   "outputs": [],
   "source": [
    "#   Training of the model\n",
    "#   A. Design the setup\n",
    "def fit(epoch, model, data_loader, opti, phase='training', volatile=False):\n",
    "    if phase == 'training':\n",
    "        model.train()\n",
    "    if phase == 'validation':\n",
    "        model.eval()\n",
    "        volatile = True\n",
    "    \n",
    "    running_loss = 0.0\n",
    "    running_correct = 0\n",
    "    \n",
    "    y_score1 = np.empty([0]) #\n",
    "    y_true1 = np.empty([0])  #\n",
    "    y_pred1 = np.empty([0])\n",
    "    \n",
    "    for batch_idx, (data, target) in enumerate(data_loader):\n",
    "\n",
    "        if is_cuda:\n",
    "            data, target = data.cuda(), target.cuda()\n",
    "        data, target = Variable(data, volatile), Variable(target)\n",
    "\n",
    "        if phase == 'training':\n",
    "            opti.zero_grad()\n",
    "        output = model(data)\n",
    "        #loss = F.nll_loss(output, target)\n",
    "        loss = criterion(output, target)\n",
    "\n",
    "        #running_loss += F.nll_loss(output, target, reduction='sum').data.item()\n",
    "        running_loss += criterion(output, target).cpu().data.item()\n",
    "        preds = output.data.max(dim=1, keepdim=True)[1]\n",
    "        \n",
    "        _, pred = torch.max(output.data, 1)\n",
    "        \n",
    "        running_correct += preds.eq(target.data.view_as(preds)).cpu().sum()\n",
    "        if phase == 'training':\n",
    "            loss.backward()\n",
    "            opti.step()\n",
    "        \n",
    "        y_score1 = np.concatenate((y_score1, output.detach().cpu().numpy()[:, 1]), axis=None) #\n",
    "        y_true1 = np.concatenate((y_true1, target.data.cpu().numpy()), axis=None)\n",
    "        y_pred1 = np.concatenate((y_pred1, pred.data.cpu().numpy()), axis=None)\n",
    "        \n",
    "    auc1 = roc_auc_score(y_true1, y_score1) #\n",
    "    #print(y_true1)\n",
    "    #print(y_pred1)\n",
    "    fscore = f1_score(y_true1, y_pred1)\n",
    "\n",
    "    loss = running_loss / len(data_loader.dataset)\n",
    "    accuracy = 100. * running_correct / len(data_loader.dataset)\n",
    "\n",
    "    print(\n",
    "        '{} loss is {} and {} accuracy is {}/{}, {}'.format(phase, loss, phase, running_correct, len(data_loader.dataset), accuracy ))\n",
    "    \n",
    "    print(\n",
    "        '{} AUC is {}'.format(phase, auc1))\n",
    "    \n",
    "    print('F1: %.3f' % fscore)\n",
    "    print('________________')\n",
    "    return loss, accuracy, auc1, fscore\n",
    "# -----------------------------------------------------------------------------------"
   ]
  },
  {
   "cell_type": "code",
   "execution_count": 200,
   "metadata": {},
   "outputs": [
    {
     "data": {
      "text/plain": [
       "Net02(\n",
       "  (fc1): Linear(in_features=14, out_features=8, bias=True)\n",
       "  (relu): ReLU()\n",
       "  (fcM): Linear(in_features=8, out_features=4, bias=True)\n",
       "  (fc2): Linear(in_features=4, out_features=2, bias=True)\n",
       "  (lr): Sigmoid()\n",
       ")"
      ]
     },
     "execution_count": 200,
     "metadata": {},
     "output_type": "execute_result"
    }
   ],
   "source": [
    "#  C. Training final preparation\n",
    "\n",
    "# ----- Weight initialization\n",
    "def init_weights(m):\n",
    "    if type(m) == nn.Linear:\n",
    "        torch.nn.init.xavier_normal_(m.weight)\n",
    "        #m.bias.data.fill_(0.01)\n",
    "\n",
    "net02.apply(init_weights)"
   ]
  },
  {
   "cell_type": "code",
   "execution_count": 201,
   "metadata": {},
   "outputs": [],
   "source": [
    "# ----- Learning rate regularization\n",
    "#####  NEED TO CHANGE THE patience\n",
    "scheduler02 = optim.lr_scheduler.ReduceLROnPlateau(optimizer02, mode='max', patience=2, verbose=True)"
   ]
  },
  {
   "cell_type": "code",
   "execution_count": 259,
   "metadata": {},
   "outputs": [],
   "source": [
    "#val_loader.dataset.tensors[0].shape"
   ]
  },
  {
   "cell_type": "code",
   "execution_count": 202,
   "metadata": {},
   "outputs": [
    {
     "name": "stdout",
     "output_type": "stream",
     "text": [
      "training loss is 0.011216023048274789 and training accuracy is 1530/4054, 37\n",
      "training AUC is 0.550876724261488\n",
      "F1: 0.250\n",
      "________________\n",
      "validation loss is 0.011308974103082585 and validation accuracy is 307/869, 35\n",
      "validation AUC is 0.6681997332039777\n",
      "F1: 0.336\n",
      "________________\n",
      "training loss is 0.011004962060153925 and training accuracy is 1507/4054, 37\n",
      "training AUC is 0.6797327177269319\n",
      "F1: 0.411\n",
      "________________\n",
      "validation loss is 0.011172043440394078 and validation accuracy is 345/869, 39\n",
      "validation AUC is 0.6832252000970167\n",
      "F1: 0.462\n",
      "________________\n",
      "training loss is 0.010899620495468275 and training accuracy is 1751/4054, 43\n",
      "training AUC is 0.6996736896447601\n",
      "F1: 0.485\n",
      "________________\n",
      "validation loss is 0.011061392664497823 and validation accuracy is 483/869, 55\n",
      "validation AUC is 0.7257215619694398\n",
      "F1: 0.535\n",
      "________________\n",
      "training loss is 0.010658591191758061 and training accuracy is 2727/4054, 67\n",
      "training AUC is 0.7613469033912621\n",
      "F1: 0.585\n",
      "________________\n",
      "validation loss is 0.010717769349540473 and validation accuracy is 595/869, 68\n",
      "validation AUC is 0.774284501576522\n",
      "F1: 0.546\n",
      "________________\n",
      "training loss is 0.010221444301906335 and training accuracy is 3049/4054, 75\n",
      "training AUC is 0.8007195525999768\n",
      "F1: 0.632\n",
      "________________\n",
      "validation loss is 0.01025215686396433 and validation accuracy is 657/869, 75\n",
      "validation AUC is 0.807352049478535\n",
      "F1: 0.604\n",
      "________________\n",
      "training loss is 0.009731572545921503 and training accuracy is 3176/4054, 78\n",
      "training AUC is 0.8240520649392395\n",
      "F1: 0.669\n",
      "________________\n",
      "validation loss is 0.009770397692747302 and validation accuracy is 655/869, 75\n",
      "validation AUC is 0.8233476837254428\n",
      "F1: 0.631\n",
      "________________\n",
      "training loss is 0.009279208975468708 and training accuracy is 3191/4054, 78\n",
      "training AUC is 0.8352434664874395\n",
      "F1: 0.690\n",
      "________________\n",
      "validation loss is 0.00936344722060806 and validation accuracy is 670/869, 77\n",
      "validation AUC is 0.8314425175842833\n",
      "F1: 0.680\n",
      "________________\n",
      "training loss is 0.008879135638019635 and training accuracy is 3200/4054, 78\n",
      "training AUC is 0.8422585129431802\n",
      "F1: 0.706\n",
      "________________\n",
      "validation loss is 0.008931697615271196 and validation accuracy is 675/869, 77\n",
      "validation AUC is 0.8356172689788989\n",
      "F1: 0.693\n",
      "________________\n",
      "training loss is 0.008522783491078656 and training accuracy is 3200/4054, 78\n",
      "training AUC is 0.8453020353695377\n",
      "F1: 0.710\n",
      "________________\n",
      "validation loss is 0.008717156869495422 and validation accuracy is 681/869, 78\n",
      "validation AUC is 0.837124060150376\n",
      "F1: 0.700\n",
      "________________\n",
      "training loss is 0.008330772354735725 and training accuracy is 3216/4054, 79\n",
      "training AUC is 0.8472640720471001\n",
      "F1: 0.713\n",
      "________________\n",
      "validation loss is 0.008620430602851753 and validation accuracy is 682/869, 78\n",
      "validation AUC is 0.8382154984234781\n",
      "F1: 0.699\n",
      "________________\n",
      "training loss is 0.008251815137453837 and training accuracy is 3231/4054, 79\n",
      "training AUC is 0.8471921307022561\n",
      "F1: 0.715\n",
      "________________\n",
      "validation loss is 0.008571439631651955 and validation accuracy is 685/869, 78\n",
      "validation AUC is 0.8386763279165657\n",
      "F1: 0.703\n",
      "________________\n",
      "training loss is 0.00819235703424097 and training accuracy is 3239/4054, 79\n",
      "training AUC is 0.8490214168131236\n",
      "F1: 0.717\n",
      "________________\n",
      "validation loss is 0.008553847207573122 and validation accuracy is 685/869, 78\n",
      "validation AUC is 0.8389431239388795\n",
      "F1: 0.703\n",
      "________________\n",
      "training loss is 0.008152528950364706 and training accuracy is 3236/4054, 79\n",
      "training AUC is 0.8501822189382459\n",
      "F1: 0.717\n",
      "________________\n",
      "validation loss is 0.008527334492280651 and validation accuracy is 687/869, 79\n",
      "validation AUC is 0.8372392675236479\n",
      "F1: 0.704\n",
      "________________\n",
      "training loss is 0.00816603595244808 and training accuracy is 3244/4054, 80\n",
      "training AUC is 0.8496840564342975\n",
      "F1: 0.718\n",
      "________________\n",
      "validation loss is 0.0085147051322858 and validation accuracy is 687/869, 79\n",
      "validation AUC is 0.8378941304875092\n",
      "F1: 0.704\n",
      "________________\n",
      "training loss is 0.00813077250518526 and training accuracy is 3237/4054, 79\n",
      "training AUC is 0.850198638819661\n",
      "F1: 0.716\n",
      "________________\n",
      "validation loss is 0.0084977939433415 and validation accuracy is 687/869, 79\n",
      "validation AUC is 0.8387612175600291\n",
      "F1: 0.704\n",
      "________________\n",
      "Epoch    14: reducing learning rate of group 0 to 1.0000e-04.\n",
      "training loss is 0.008111825101647286 and training accuracy is 3244/4054, 80\n",
      "training AUC is 0.8508171674034741\n",
      "F1: 0.718\n",
      "________________\n",
      "validation loss is 0.008498954519166496 and validation accuracy is 687/869, 79\n",
      "validation AUC is 0.8387551540140673\n",
      "F1: 0.704\n",
      "________________\n",
      "training loss is 0.008116833281211213 and training accuracy is 3242/4054, 79\n",
      "training AUC is 0.8507409123609702\n",
      "F1: 0.717\n",
      "________________\n",
      "validation loss is 0.00849280203719408 and validation accuracy is 687/869, 79\n",
      "validation AUC is 0.8388036623817607\n",
      "F1: 0.704\n",
      "________________\n",
      "training loss is 0.00810851142744037 and training accuracy is 3244/4054, 80\n",
      "training AUC is 0.8508637831685084\n",
      "F1: 0.718\n",
      "________________\n",
      "validation loss is 0.008473858871723347 and validation accuracy is 687/869, 79\n",
      "validation AUC is 0.8385308028134854\n",
      "F1: 0.704\n",
      "________________\n",
      "Epoch    17: reducing learning rate of group 0 to 1.0000e-05.\n",
      "training loss is 0.008128346549094341 and training accuracy is 3244/4054, 80\n",
      "training AUC is 0.8508985710528623\n",
      "F1: 0.718\n",
      "________________\n",
      "validation loss is 0.00845496354772526 and validation accuracy is 687/869, 79\n",
      "validation AUC is 0.838555056997332\n",
      "F1: 0.704\n",
      "________________\n",
      "training loss is 0.008098754482311631 and training accuracy is 3244/4054, 80\n",
      "training AUC is 0.8506611785300311\n",
      "F1: 0.718\n",
      "________________\n",
      "validation loss is 0.008478882089171504 and validation accuracy is 687/869, 79\n",
      "validation AUC is 0.8385429299054087\n",
      "F1: 0.704\n",
      "________________\n"
     ]
    }
   ],
   "source": [
    "# ----- Full training\n",
    "train_losses, train_accuracy, train_auc, train_fscore = [], [], [], []\n",
    "val_losses, val_accuracy, val_auc, val_fscore= [], [], [], []\n",
    "\n",
    "\n",
    "start = clock()\n",
    "for epoch in range(0, epochs):\n",
    "    epoch_loss, epoch_accuracy, epo_auc, epo_f = fit(epoch, net02, train_loader, optimizer02, phase='training')\n",
    "    val_epoch_loss, val_epoch_accuracy, val_epo_auc, val_epo_f = fit(epoch, net02, val_loader, optimizer02, phase='validation')\n",
    "\n",
    "    train_losses.append(epoch_loss)\n",
    "    train_accuracy.append(epoch_accuracy)\n",
    "    train_auc.append(epo_auc)\n",
    "    train_fscore.append(epo_f)\n",
    "\n",
    "    val_losses.append(val_epoch_loss)\n",
    "    val_accuracy.append(val_epoch_accuracy)\n",
    "    val_auc.append(val_epo_auc)\n",
    "    val_fscore.append(val_epo_f)\n",
    "\n",
    "    # Learning rate scheduler update\n",
    "    scheduler02.step(val_epo_auc)\n",
    "\n",
    "elapsed = clock() - start"
   ]
  },
  {
   "cell_type": "code",
   "execution_count": 261,
   "metadata": {},
   "outputs": [
    {
     "name": "stdout",
     "output_type": "stream",
     "text": [
      "3.867016981346751\n"
     ]
    }
   ],
   "source": [
    "print(elapsed)"
   ]
  },
  {
   "cell_type": "code",
   "execution_count": 203,
   "metadata": {},
   "outputs": [
    {
     "data": {
      "image/png": "[encoded data removed]",
      "text/plain": [
       "<Figure size 432x288 with 1 Axes>"
      ]
     },
     "metadata": {},
     "output_type": "display_data"
    }
   ],
   "source": [
    "plt.plot(range(1,len(train_auc)+1),train_auc,'bo',label = 'training AUC')\n",
    "plt.plot(range(1,len(val_auc)+1),val_auc,'r',label = 'validation AUC')\n",
    "plt.legend()\n",
    "plt.show()"
   ]
  },
  {
   "cell_type": "code",
   "execution_count": 204,
   "metadata": {},
   "outputs": [
    {
     "data": {
      "image/png": "[encoded data removed]",
      "text/plain": [
       "<Figure size 432x288 with 1 Axes>"
      ]
     },
     "metadata": {},
     "output_type": "display_data"
    }
   ],
   "source": [
    "plt.plot(range(1,len(train_losses)+1),train_losses,'bo',label = 'training loss')\n",
    "plt.plot(range(1,len(val_losses)+1),val_losses,'r',label = 'validation loss')\n",
    "plt.legend()\n",
    "plt.show()"
   ]
  },
  {
   "cell_type": "code",
   "execution_count": 205,
   "metadata": {},
   "outputs": [
    {
     "data": {
      "text/plain": [
       "<matplotlib.legend.Legend at 0x25ff2174208>"
      ]
     },
     "execution_count": 205,
     "metadata": {},
     "output_type": "execute_result"
    },
    {
     "data": {
      "image/png": "[encoded data removed]",
      "text/plain": [
       "<Figure size 432x288 with 1 Axes>"
      ]
     },
     "metadata": {},
     "output_type": "display_data"
    }
   ],
   "source": [
    "plt.plot(range(1,len(train_accuracy)+1),train_accuracy,'bo',label = 'train accuracy')\n",
    "plt.plot(range(1,len(val_accuracy)+1),val_accuracy,'r',label = 'val accuracy')\n",
    "plt.legend()"
   ]
  },
  {
   "cell_type": "code",
   "execution_count": null,
   "metadata": {},
   "outputs": [],
   "source": []
  },
  {
   "cell_type": "code",
   "execution_count": 207,
   "metadata": {},
   "outputs": [],
   "source": [
    "# Model classification metrics\n",
    "\n",
    "def eval_net(clf, t_loader=val_loader):\n",
    "    #parameters initialization\n",
    "    classes = [0,1]\n",
    "\n",
    "    correct = 0\n",
    "    total = 0\n",
    "\n",
    "    y_pred = np.empty([0])\n",
    "    y_true = np.empty([0])\n",
    "    #scores = np.empty([0])\n",
    "    y_score = np.empty([0])\n",
    "\n",
    "    #Model evaluation\n",
    "    clf.eval()\n",
    "    for images, labels in t_loader:\n",
    "        if is_cuda:\n",
    "            images = images.cuda()\n",
    "        images = Variable(images)\n",
    "        outputs = clf(images)\n",
    "        _, predicted = torch.max(outputs.data, 1)\n",
    "        total += labels.size(0)\n",
    "        correct += (predicted.cpu() == labels).sum()\n",
    "\n",
    "        y_pred = np.concatenate((y_pred, predicted.data.cpu().numpy()), axis=None)\n",
    "        y_true = np.concatenate((y_true, labels.data.cpu().numpy()), axis=None)\n",
    "        #scores = np.concatenate((scores, score.data.cpu().numpy()), axis=None)\n",
    "        y_score = np.concatenate((y_score, outputs.detach().cpu().numpy()[:, 1]), axis=None)\n",
    "\n",
    "\n",
    "    conf_matrix = metrics.confusion_matrix(y_true, y_pred)\n",
    "\n",
    "    np.trace(conf_matrix)\n",
    "\n",
    "    print(\"classification rate :\", np.trace(conf_matrix)/y_val.shape[0])\n",
    "\n",
    "    print('Accuracy of the network on the validation set : %d %%' % (100 * correct / total))\n",
    "\n",
    "    df_conf_matrix = pd.DataFrame(data=conf_matrix, index=classes, columns=classes)\n",
    "\n",
    "    print(\"Confusion Matrix for the 2 classes: \\n\", df_conf_matrix)\n",
    "\n",
    "    #--------------!\n",
    "\n",
    "    #y_pred = clf.predict(np_test)\n",
    "    confmat = confusion_matrix(y_true=y_true, y_pred=y_pred)\n",
    "\n",
    "    fig, ax = plt.subplots(figsize=(5, 5))\n",
    "    ax.matshow(confmat, cmap=plt.cm.Blues, alpha=0.3)\n",
    "    for i in range(confmat.shape[0]):\n",
    "        for j in range(confmat.shape[1]):\n",
    "            ax.text(x=j, y=i,\n",
    "            s=confmat[i, j],\n",
    "            va='center', ha='center')\n",
    "    plt.xlabel('predicted label')\n",
    "    plt.ylabel('true label')\n",
    "    plt.title(\"MLP title 2\")\n",
    "    plt.show()\n",
    "    print(\"----------Model Classification-------------\\n\")\n",
    "    print(classification_report(y_true, y_pred, target_names=['no', 'yes']))\n",
    "    print(\" \")\n",
    "    print(\"----------Model Accuracy-------------\\n\")\n",
    "    print('Accuracy: %.3f' % accuracy_score(y_true=y_true, y_pred=y_pred))\n",
    "    print(\" \")\n",
    "    print(\"----------Model ROC/AUC-------------\\n\")\n",
    "    auc = roc_auc_score(y_true, y_score )#y_pred)average='micro'\n",
    "    fpr, tpr, thresholds = roc_curve(y_true, y_score)\n",
    "    plt.figure()\n",
    "    plt.plot(fpr, tpr, label='AUC = %0.3f' % auc)\n",
    "    plt.plot([0, 1], [0, 1],'r--')\n",
    "    plt.xlim([0.0, 1.0])\n",
    "    plt.ylim([0.0, 1.05])\n",
    "    plt.xlabel('False Positive Rate')\n",
    "    plt.ylabel('True Positive Rate')\n",
    "    plt.title('Receiver Operating Characteristic - '+ 'test 1')\n",
    "    plt.legend(loc=\"lower right\")\n",
    "    #plt.savefig('Log_ROC')\n",
    "    plt.show()"
   ]
  },
  {
   "cell_type": "code",
   "execution_count": 208,
   "metadata": {},
   "outputs": [
    {
     "name": "stdout",
     "output_type": "stream",
     "text": [
      "classification rate : 0.7905638665132336\n",
      "Accuracy of the network on the validation set : 79 %\n",
      "Confusion Matrix for the 2 classes: \n",
      "      0    1\n",
      "0  471  118\n",
      "1   64  216\n"
     ]
    },
    {
     "data": {
      "image/png": "[encoded data removed]",
      "text/plain": [
       "<Figure size 360x360 with 1 Axes>"
      ]
     },
     "metadata": {},
     "output_type": "display_data"
    },
    {
     "name": "stdout",
     "output_type": "stream",
     "text": [
      "----------Model Classification-------------\n",
      "\n",
      "             precision    recall  f1-score   support\n",
      "\n",
      "         no       0.88      0.80      0.84       589\n",
      "        yes       0.65      0.77      0.70       280\n",
      "\n",
      "avg / total       0.81      0.79      0.79       869\n",
      "\n",
      " \n",
      "----------Model Accuracy-------------\n",
      "\n",
      "Accuracy: 0.791\n",
      " \n",
      "----------Model ROC/AUC-------------\n",
      "\n"
     ]
    },
    {
     "data": {
      "image/png": "[encoded data removed]",
      "text/plain": [
       "<Figure size 432x288 with 1 Axes>"
      ]
     },
     "metadata": {},
     "output_type": "display_data"
    }
   ],
   "source": [
    "eval_net(net02)"
   ]
  },
  {
   "cell_type": "code",
   "execution_count": null,
   "metadata": {},
   "outputs": [],
   "source": []
  },
  {
   "cell_type": "markdown",
   "metadata": {},
   "source": [
    "#### --- Fscore"
   ]
  },
  {
   "cell_type": "code",
   "execution_count": 210,
   "metadata": {},
   "outputs": [],
   "source": [
    "# Choose the right values for x.\n",
    "input_size = 14\n",
    "hidden_size = 8    #11\n",
    "hidden_size2 = 4    #6\n",
    "num_classes = 2\n",
    "num_epochs = 20\n",
    "#batch_size = 100\n",
    "learning_rate = 0.001"
   ]
  },
  {
   "cell_type": "code",
   "execution_count": 211,
   "metadata": {},
   "outputs": [],
   "source": [
    "net2 = Net02(input_size, hidden_size, hidden_size2, num_classes)\n",
    "\n",
    "if is_cuda:\n",
    "    net2.cuda()"
   ]
  },
  {
   "cell_type": "code",
   "execution_count": 212,
   "metadata": {},
   "outputs": [],
   "source": [
    "# Loss and Optimizer\n",
    "\n",
    "#learning_rate = 0.001\n",
    "#weights = [0.4, 1]\n",
    "#class_weights=torch.FloatTensor(weights).cuda()   # might need to add is cuda\n",
    "class_weights=torch.FloatTensor([1, 2])\n",
    "criterion = nn.CrossEntropyLoss(weight=class_weights)\n",
    "\n",
    "#criterion = F.cross_entropy()\n",
    "optimizer2 = torch.optim.Adam(net2.parameters(), lr=learning_rate)\n",
    "# -----------------------------------------------------------------------------------"
   ]
  },
  {
   "cell_type": "code",
   "execution_count": null,
   "metadata": {},
   "outputs": [],
   "source": []
  },
  {
   "cell_type": "code",
   "execution_count": 213,
   "metadata": {},
   "outputs": [
    {
     "data": {
      "text/plain": [
       "Net02(\n",
       "  (fc1): Linear(in_features=14, out_features=8, bias=True)\n",
       "  (relu): ReLU()\n",
       "  (fcM): Linear(in_features=8, out_features=4, bias=True)\n",
       "  (fc2): Linear(in_features=4, out_features=2, bias=True)\n",
       "  (lr): Sigmoid()\n",
       ")"
      ]
     },
     "execution_count": 213,
     "metadata": {},
     "output_type": "execute_result"
    }
   ],
   "source": [
    "#  C. Training final preparation\n",
    "\n",
    "# ----- Weight initialization\n",
    "def init_weights(m):\n",
    "    if type(m) == nn.Linear:\n",
    "        torch.nn.init.xavier_normal_(m.weight)\n",
    "        #m.bias.data.fill_(0.01)\n",
    "\n",
    "net2.apply(init_weights)"
   ]
  },
  {
   "cell_type": "code",
   "execution_count": 214,
   "metadata": {},
   "outputs": [],
   "source": [
    "# ----- Learning rate regularization\n",
    "#####  NEED TO CHANGE THE patience\n",
    "scheduler2 = optim.lr_scheduler.ReduceLROnPlateau(optimizer2, mode='max', patience=2, verbose=True)"
   ]
  },
  {
   "cell_type": "code",
   "execution_count": null,
   "metadata": {},
   "outputs": [],
   "source": []
  },
  {
   "cell_type": "code",
   "execution_count": 215,
   "metadata": {},
   "outputs": [
    {
     "name": "stdout",
     "output_type": "stream",
     "text": [
      "training loss is 0.010835222896238119 and training accuracy is 2806/4054, 69\n",
      "training AUC is 0.5210074293005826\n",
      "F1: 0.297\n",
      "________________\n",
      "validation loss is 0.01093864139122299 and validation accuracy is 623/869, 71\n",
      "validation AUC is 0.5534713800630608\n",
      "F1: 0.456\n",
      "________________\n",
      "training loss is 0.010627990940491085 and training accuracy is 2853/4054, 70\n",
      "training AUC is 0.6358690917996608\n",
      "F1: 0.536\n",
      "________________\n",
      "validation loss is 0.010624597961526745 and validation accuracy is 627/869, 72\n",
      "validation AUC is 0.7329038321610477\n",
      "F1: 0.607\n",
      "________________\n",
      "training loss is 0.010272073507544202 and training accuracy is 2847/4054, 70\n",
      "training AUC is 0.7602807243115826\n",
      "F1: 0.605\n",
      "________________\n",
      "validation loss is 0.010244832145879677 and validation accuracy is 610/869, 70\n",
      "validation AUC is 0.7916777831675964\n",
      "F1: 0.622\n",
      "________________\n",
      "training loss is 0.009885473635376646 and training accuracy is 2863/4054, 70\n",
      "training AUC is 0.8008098619477597\n",
      "F1: 0.633\n",
      "________________\n",
      "validation loss is 0.009895291440917652 and validation accuracy is 623/869, 71\n",
      "validation AUC is 0.8113661169051662\n",
      "F1: 0.635\n",
      "________________\n",
      "training loss is 0.009519588362129674 and training accuracy is 2975/4054, 73\n",
      "training AUC is 0.8156051491634906\n",
      "F1: 0.652\n",
      "________________\n",
      "validation loss is 0.00954393989334721 and validation accuracy is 655/869, 75\n",
      "validation AUC is 0.8285683967984477\n",
      "F1: 0.661\n",
      "________________\n",
      "training loss is 0.009125763536616977 and training accuracy is 3064/4054, 75\n",
      "training AUC is 0.8270852901518283\n",
      "F1: 0.673\n",
      "________________\n",
      "validation loss is 0.00913422401261412 and validation accuracy is 671/869, 77\n",
      "validation AUC is 0.8358022071307301\n",
      "F1: 0.690\n",
      "________________\n",
      "training loss is 0.008766202935163293 and training accuracy is 3151/4054, 77\n",
      "training AUC is 0.8372807841467436\n",
      "F1: 0.698\n",
      "________________\n",
      "validation loss is 0.008904979095908934 and validation accuracy is 678/869, 78\n",
      "validation AUC is 0.8392523647829251\n",
      "F1: 0.692\n",
      "________________\n",
      "training loss is 0.008533987194137968 and training accuracy is 3195/4054, 78\n",
      "training AUC is 0.8393008470154082\n",
      "F1: 0.706\n",
      "________________\n",
      "validation loss is 0.008687046406869922 and validation accuracy is 678/869, 78\n",
      "validation AUC is 0.8413806694154742\n",
      "F1: 0.695\n",
      "________________\n",
      "training loss is 0.008402206088206306 and training accuracy is 3214/4054, 79\n",
      "training AUC is 0.8423422821687045\n",
      "F1: 0.712\n",
      "________________\n",
      "validation loss is 0.008633937433756398 and validation accuracy is 687/869, 79\n",
      "validation AUC is 0.8392948096046569\n",
      "F1: 0.705\n",
      "________________\n",
      "training loss is 0.008301626506790364 and training accuracy is 3229/4054, 79\n",
      "training AUC is 0.8443044579978042\n",
      "F1: 0.714\n",
      "________________\n",
      "validation loss is 0.008504833087273653 and validation accuracy is 688/869, 79\n",
      "validation AUC is 0.8410896192093135\n",
      "F1: 0.705\n",
      "________________\n",
      "training loss is 0.00824482479469495 and training accuracy is 3225/4054, 79\n",
      "training AUC is 0.8467149800804574\n",
      "F1: 0.712\n",
      "________________\n",
      "validation loss is 0.008552464571866121 and validation accuracy is 692/869, 79\n",
      "validation AUC is 0.8381669900557845\n",
      "F1: 0.709\n",
      "________________\n",
      "training loss is 0.008188088171342117 and training accuracy is 3237/4054, 79\n",
      "training AUC is 0.84578169071901\n",
      "F1: 0.714\n",
      "________________\n",
      "validation loss is 0.00849450286156289 and validation accuracy is 692/869, 79\n",
      "validation AUC is 0.8399739267523646\n",
      "F1: 0.709\n",
      "________________\n",
      "training loss is 0.008177412603074362 and training accuracy is 3238/4054, 79\n",
      "training AUC is 0.8474554054110467\n",
      "F1: 0.714\n",
      "________________\n",
      "validation loss is 0.008503442220775662 and validation accuracy is 692/869, 79\n",
      "validation AUC is 0.8399981809362113\n",
      "F1: 0.709\n",
      "________________\n",
      "training loss is 0.008167256634695282 and training accuracy is 3238/4054, 79\n",
      "training AUC is 0.8484536785404673\n",
      "F1: 0.715\n",
      "________________\n",
      "validation loss is 0.008455472725033074 and validation accuracy is 691/869, 79\n",
      "validation AUC is 0.8398465922871695\n",
      "F1: 0.708\n",
      "________________\n",
      "Epoch    13: reducing learning rate of group 0 to 1.0000e-04.\n",
      "training loss is 0.008131215033651162 and training accuracy is 3238/4054, 79\n",
      "training AUC is 0.8484545134496919\n",
      "F1: 0.714\n",
      "________________\n",
      "validation loss is 0.008460053194515725 and validation accuracy is 691/869, 79\n",
      "validation AUC is 0.8399254183846712\n",
      "F1: 0.708\n",
      "________________\n",
      "training loss is 0.008117925491483564 and training accuracy is 3237/4054, 79\n",
      "training AUC is 0.848384937680984\n",
      "F1: 0.714\n",
      "________________\n",
      "validation loss is 0.008435132965805616 and validation accuracy is 691/869, 79\n",
      "validation AUC is 0.8399557361144797\n",
      "F1: 0.708\n",
      "________________\n",
      "training loss is 0.008137122112715485 and training accuracy is 3238/4054, 79\n",
      "training AUC is 0.8486416722675161\n",
      "F1: 0.715\n",
      "________________\n",
      "validation loss is 0.008458263923438701 and validation accuracy is 691/869, 79\n",
      "validation AUC is 0.8400497210768857\n",
      "F1: 0.708\n",
      "________________\n",
      "Epoch    16: reducing learning rate of group 0 to 1.0000e-05.\n",
      "training loss is 0.008120635370932957 and training accuracy is 3237/4054, 79\n",
      "training AUC is 0.8488513736344017\n",
      "F1: 0.714\n",
      "________________\n",
      "validation loss is 0.008428915597764203 and validation accuracy is 691/869, 79\n",
      "validation AUC is 0.8400284986660199\n",
      "F1: 0.708\n",
      "________________\n",
      "training loss is 0.008124809181037418 and training accuracy is 3237/4054, 79\n",
      "training AUC is 0.8485343864321685\n",
      "F1: 0.714\n",
      "________________\n",
      "validation loss is 0.008508109422218402 and validation accuracy is 691/869, 79\n",
      "validation AUC is 0.8400345622119815\n",
      "F1: 0.708\n",
      "________________\n",
      "training loss is 0.008126556072025741 and training accuracy is 3237/4054, 79\n",
      "training AUC is 0.848399966047025\n",
      "F1: 0.714\n",
      "________________\n",
      "validation loss is 0.008438873311592602 and validation accuracy is 691/869, 79\n",
      "validation AUC is 0.8400345622119816\n",
      "F1: 0.708\n",
      "________________\n",
      "Epoch    19: reducing learning rate of group 0 to 1.0000e-06.\n"
     ]
    }
   ],
   "source": [
    "# ----- Full training\n",
    "train_losses1, train_accuracy1, train_auc1, train_fscore1 = [], [], [], []\n",
    "val_losses1, val_accuracy1, val_auc1, val_fscore1= [], [], [], []\n",
    "\n",
    "start = clock()\n",
    "for epoch in range(0, epochs):\n",
    "    epoch_loss1, epoch_accuracy1, epo_auc1, epo_f1 = fit(epoch, net2, train_loader, optimizer2, phase='training')\n",
    "    val_epoch_loss1, val_epoch_accuracy1, val_epo_auc1, val_epo_f1 = fit(epoch, net2, val_loader, optimizer2, phase='validation')\n",
    "\n",
    "    train_losses1.append(epoch_loss1)\n",
    "    train_accuracy1.append(epoch_accuracy1)\n",
    "    train_auc1.append(epo_auc1)\n",
    "    train_fscore1.append(epo_f1)\n",
    "\n",
    "    val_losses1.append(val_epoch_loss1)\n",
    "    val_accuracy1.append(val_epoch_accuracy1)\n",
    "    val_auc1.append(val_epo_auc1)\n",
    "    val_fscore1.append(val_epo_f1)\n",
    "\n",
    "    # Learning rate scheduler update\n",
    "    scheduler2.step(val_epo_f1)\n",
    "\n",
    "elapsed = clock() - start"
   ]
  },
  {
   "cell_type": "code",
   "execution_count": 191,
   "metadata": {},
   "outputs": [
    {
     "name": "stdout",
     "output_type": "stream",
     "text": [
      "3.2017735915248977\n"
     ]
    }
   ],
   "source": [
    "print(elapsed)"
   ]
  },
  {
   "cell_type": "code",
   "execution_count": 216,
   "metadata": {},
   "outputs": [
    {
     "data": {
      "image/png": "[encoded data removed]",
      "text/plain": [
       "<Figure size 432x288 with 1 Axes>"
      ]
     },
     "metadata": {},
     "output_type": "display_data"
    }
   ],
   "source": [
    "plt.plot(range(1,len(train_fscore1)+1),train_fscore1,'bo',label = 'training AUC')\n",
    "plt.plot(range(1,len(val_fscore1)+1),val_fscore1,'r',label = 'validation AUC')\n",
    "plt.legend()\n",
    "plt.show()"
   ]
  },
  {
   "cell_type": "code",
   "execution_count": null,
   "metadata": {},
   "outputs": [],
   "source": []
  },
  {
   "cell_type": "code",
   "execution_count": 217,
   "metadata": {},
   "outputs": [
    {
     "data": {
      "image/png": "[encoded data removed]",
      "text/plain": [
       "<Figure size 432x288 with 1 Axes>"
      ]
     },
     "metadata": {},
     "output_type": "display_data"
    }
   ],
   "source": [
    "plt.plot(range(1,len(train_losses1)+1),train_losses1,'bo',label = 'training loss')\n",
    "plt.plot(range(1,len(val_losses1)+1),val_losses1,'r',label = 'validation loss')\n",
    "plt.legend()\n",
    "plt.show()"
   ]
  },
  {
   "cell_type": "code",
   "execution_count": 218,
   "metadata": {},
   "outputs": [
    {
     "data": {
      "image/png": "[encoded data removed]",
      "text/plain": [
       "<Figure size 432x288 with 1 Axes>"
      ]
     },
     "metadata": {},
     "output_type": "display_data"
    }
   ],
   "source": [
    "plt.plot(range(1,len(train_accuracy1)+1),train_accuracy1,'bo',label = 'train accuracy')\n",
    "plt.plot(range(1,len(val_accuracy1)+1),val_accuracy1,'r',label = 'val accuracy')\n",
    "plt.legend()\n",
    "plt.show()"
   ]
  },
  {
   "cell_type": "code",
   "execution_count": 219,
   "metadata": {
    "scrolled": false
   },
   "outputs": [
    {
     "name": "stdout",
     "output_type": "stream",
     "text": [
      "classification rate : 0.7951668584579977\n",
      "Accuracy of the network on the validation set : 79 %\n",
      "Confusion Matrix for the 2 classes: \n",
      "      0    1\n",
      "0  475  114\n",
      "1   64  216\n"
     ]
    },
    {
     "data": {
      "image/png": "[encoded data removed]",
      "text/plain": [
       "<Figure size 360x360 with 1 Axes>"
      ]
     },
     "metadata": {},
     "output_type": "display_data"
    },
    {
     "name": "stdout",
     "output_type": "stream",
     "text": [
      "----------Model Classification-------------\n",
      "\n",
      "             precision    recall  f1-score   support\n",
      "\n",
      "         no       0.88      0.81      0.84       589\n",
      "        yes       0.65      0.77      0.71       280\n",
      "\n",
      "avg / total       0.81      0.80      0.80       869\n",
      "\n",
      " \n",
      "----------Model Accuracy-------------\n",
      "\n",
      "Accuracy: 0.795\n",
      " \n",
      "----------Model ROC/AUC-------------\n",
      "\n"
     ]
    },
    {
     "data": {
      "image/png": "[encoded data removed]",
      "text/plain": [
       "<Figure size 432x288 with 1 Axes>"
      ]
     },
     "metadata": {},
     "output_type": "display_data"
    }
   ],
   "source": [
    "eval_net(net2)"
   ]
  },
  {
   "cell_type": "code",
   "execution_count": null,
   "metadata": {},
   "outputs": [],
   "source": []
  }
 ],
 "metadata": {
  "kernelspec": {
   "display_name": "Python 3",
   "language": "python",
   "name": "python3"
  },
  "language_info": {
   "codemirror_mode": {
    "name": "ipython",
    "version": 3
   },
   "file_extension": ".py",
   "mimetype": "text/x-python",
   "name": "python",
   "nbconvert_exporter": "python",
   "pygments_lexer": "ipython3",
   "version": "3.6.5"
  }
 },
 "nbformat": 4,
 "nbformat_minor": 2
}
