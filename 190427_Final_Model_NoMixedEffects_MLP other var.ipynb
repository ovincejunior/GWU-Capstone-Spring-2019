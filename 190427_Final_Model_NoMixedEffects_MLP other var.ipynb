{
 "cells": [
  {
   "cell_type": "markdown",
   "metadata": {},
   "source": [
    "# Importing Packages"
   ]
  },
  {
   "cell_type": "code",
   "execution_count": 1,
   "metadata": {},
   "outputs": [],
   "source": [
    "import os\n",
    "import pandas as pd\n",
    "import numpy as np\n",
    "import matplotlib.pyplot as plt"
   ]
  },
  {
   "cell_type": "markdown",
   "metadata": {},
   "source": [
    "# Importing Data"
   ]
  },
  {
   "cell_type": "code",
   "execution_count": 2,
   "metadata": {},
   "outputs": [
    {
     "data": {
      "text/html": [
       "<div>\n",
       "<style scoped>\n",
       "    .dataframe tbody tr th:only-of-type {\n",
       "        vertical-align: middle;\n",
       "    }\n",
       "\n",
       "    .dataframe tbody tr th {\n",
       "        vertical-align: top;\n",
       "    }\n",
       "\n",
       "    .dataframe thead th {\n",
       "        text-align: right;\n",
       "    }\n",
       "</style>\n",
       "<table border=\"1\" class=\"dataframe\">\n",
       "  <thead>\n",
       "    <tr style=\"text-align: right;\">\n",
       "      <th></th>\n",
       "      <th>ep1</th>\n",
       "      <th>econviol</th>\n",
       "      <th>emotvio</th>\n",
       "      <th>physvio</th>\n",
       "      <th>sexvio</th>\n",
       "      <th>sexphys</th>\n",
       "      <th>typevio</th>\n",
       "      <th>physcur</th>\n",
       "      <th>sexcur</th>\n",
       "      <th>emotcur</th>\n",
       "      <th>...</th>\n",
       "      <th>rQ701c</th>\n",
       "      <th>rQ701d</th>\n",
       "      <th>HighIncome</th>\n",
       "      <th>Island</th>\n",
       "      <th>Governance</th>\n",
       "      <th>HDI</th>\n",
       "      <th>LAWDV</th>\n",
       "      <th>Governance1</th>\n",
       "      <th>HDI1</th>\n",
       "      <th>LAWDV1</th>\n",
       "    </tr>\n",
       "  </thead>\n",
       "  <tbody>\n",
       "    <tr>\n",
       "      <th>0</th>\n",
       "      <td>1</td>\n",
       "      <td>0</td>\n",
       "      <td>0</td>\n",
       "      <td>0</td>\n",
       "      <td>0</td>\n",
       "      <td>0</td>\n",
       "      <td>0</td>\n",
       "      <td>0</td>\n",
       "      <td>0</td>\n",
       "      <td>0</td>\n",
       "      <td>...</td>\n",
       "      <td>1</td>\n",
       "      <td>1</td>\n",
       "      <td>0</td>\n",
       "      <td>0</td>\n",
       "      <td>0.16</td>\n",
       "      <td>0.654</td>\n",
       "      <td>37</td>\n",
       "      <td>0</td>\n",
       "      <td>0</td>\n",
       "      <td>0</td>\n",
       "    </tr>\n",
       "    <tr>\n",
       "      <th>1</th>\n",
       "      <td>1</td>\n",
       "      <td>1</td>\n",
       "      <td>1</td>\n",
       "      <td>1</td>\n",
       "      <td>1</td>\n",
       "      <td>1</td>\n",
       "      <td>3</td>\n",
       "      <td>0</td>\n",
       "      <td>0</td>\n",
       "      <td>0</td>\n",
       "      <td>...</td>\n",
       "      <td>1</td>\n",
       "      <td>1</td>\n",
       "      <td>0</td>\n",
       "      <td>0</td>\n",
       "      <td>0.16</td>\n",
       "      <td>0.654</td>\n",
       "      <td>37</td>\n",
       "      <td>0</td>\n",
       "      <td>0</td>\n",
       "      <td>0</td>\n",
       "    </tr>\n",
       "    <tr>\n",
       "      <th>2</th>\n",
       "      <td>1</td>\n",
       "      <td>0</td>\n",
       "      <td>0</td>\n",
       "      <td>0</td>\n",
       "      <td>0</td>\n",
       "      <td>0</td>\n",
       "      <td>0</td>\n",
       "      <td>0</td>\n",
       "      <td>0</td>\n",
       "      <td>0</td>\n",
       "      <td>...</td>\n",
       "      <td>1</td>\n",
       "      <td>1</td>\n",
       "      <td>0</td>\n",
       "      <td>0</td>\n",
       "      <td>0.16</td>\n",
       "      <td>0.654</td>\n",
       "      <td>37</td>\n",
       "      <td>0</td>\n",
       "      <td>0</td>\n",
       "      <td>0</td>\n",
       "    </tr>\n",
       "    <tr>\n",
       "      <th>3</th>\n",
       "      <td>1</td>\n",
       "      <td>0</td>\n",
       "      <td>1</td>\n",
       "      <td>1</td>\n",
       "      <td>0</td>\n",
       "      <td>1</td>\n",
       "      <td>1</td>\n",
       "      <td>0</td>\n",
       "      <td>0</td>\n",
       "      <td>1</td>\n",
       "      <td>...</td>\n",
       "      <td>1</td>\n",
       "      <td>1</td>\n",
       "      <td>0</td>\n",
       "      <td>0</td>\n",
       "      <td>0.16</td>\n",
       "      <td>0.654</td>\n",
       "      <td>37</td>\n",
       "      <td>0</td>\n",
       "      <td>0</td>\n",
       "      <td>0</td>\n",
       "    </tr>\n",
       "    <tr>\n",
       "      <th>4</th>\n",
       "      <td>1</td>\n",
       "      <td>0</td>\n",
       "      <td>0</td>\n",
       "      <td>1</td>\n",
       "      <td>0</td>\n",
       "      <td>1</td>\n",
       "      <td>1</td>\n",
       "      <td>0</td>\n",
       "      <td>0</td>\n",
       "      <td>0</td>\n",
       "      <td>...</td>\n",
       "      <td>1</td>\n",
       "      <td>1</td>\n",
       "      <td>0</td>\n",
       "      <td>0</td>\n",
       "      <td>0.16</td>\n",
       "      <td>0.654</td>\n",
       "      <td>37</td>\n",
       "      <td>0</td>\n",
       "      <td>0</td>\n",
       "      <td>0</td>\n",
       "    </tr>\n",
       "  </tbody>\n",
       "</table>\n",
       "<p>5 rows × 91 columns</p>\n",
       "</div>"
      ],
      "text/plain": [
       "   ep1  econviol  emotvio  physvio  sexvio  sexphys  typevio  physcur  sexcur  \\\n",
       "0    1         0        0        0       0        0        0        0       0   \n",
       "1    1         1        1        1       1        1        3        0       0   \n",
       "2    1         0        0        0       0        0        0        0       0   \n",
       "3    1         0        1        1       0        1        1        0       0   \n",
       "4    1         0        0        1       0        1        1        0       0   \n",
       "\n",
       "   emotcur   ...    rQ701c  rQ701d  HighIncome  Island  Governance    HDI  \\\n",
       "0        0   ...         1       1           0       0        0.16  0.654   \n",
       "1        0   ...         1       1           0       0        0.16  0.654   \n",
       "2        0   ...         1       1           0       0        0.16  0.654   \n",
       "3        1   ...         1       1           0       0        0.16  0.654   \n",
       "4        0   ...         1       1           0       0        0.16  0.654   \n",
       "\n",
       "   LAWDV  Governance1  HDI1  LAWDV1  \n",
       "0     37            0     0       0  \n",
       "1     37            0     0       0  \n",
       "2     37            0     0       0  \n",
       "3     37            0     0       0  \n",
       "4     37            0     0       0  \n",
       "\n",
       "[5 rows x 91 columns]"
      ]
     },
     "execution_count": 2,
     "metadata": {},
     "output_type": "execute_result"
    }
   ],
   "source": [
    "# Import data from csv file\n",
    "data = pd.read_csv(\"CaribbeanAllFinal.csv\", low_memory=False)\n",
    "data.head()"
   ]
  },
  {
   "cell_type": "code",
   "execution_count": 3,
   "metadata": {},
   "outputs": [
    {
     "data": {
      "text/plain": [
       "(5795, 91)"
      ]
     },
     "execution_count": 3,
     "metadata": {},
     "output_type": "execute_result"
    }
   ],
   "source": [
    "data.shape"
   ]
  },
  {
   "cell_type": "code",
   "execution_count": 4,
   "metadata": {},
   "outputs": [],
   "source": [
    "#data.columns"
   ]
  },
  {
   "cell_type": "code",
   "execution_count": 5,
   "metadata": {},
   "outputs": [
    {
     "data": {
      "text/html": [
       "<div>\n",
       "<style scoped>\n",
       "    .dataframe tbody tr th:only-of-type {\n",
       "        vertical-align: middle;\n",
       "    }\n",
       "\n",
       "    .dataframe tbody tr th {\n",
       "        vertical-align: top;\n",
       "    }\n",
       "\n",
       "    .dataframe thead th {\n",
       "        text-align: right;\n",
       "    }\n",
       "</style>\n",
       "<table border=\"1\" class=\"dataframe\">\n",
       "  <thead>\n",
       "    <tr style=\"text-align: right;\">\n",
       "      <th></th>\n",
       "      <th>country</th>\n",
       "      <th>EP3</th>\n",
       "      <th>earlymarriage</th>\n",
       "      <th>FCMAR</th>\n",
       "      <th>ageyr10</th>\n",
       "      <th>edresp</th>\n",
       "      <th>w_religion</th>\n",
       "      <th>ETHNICITY</th>\n",
       "      <th>employstatus</th>\n",
       "      <th>SourceIncome</th>\n",
       "      <th>...</th>\n",
       "      <th>CONTROLNUM</th>\n",
       "      <th>econviol</th>\n",
       "      <th>emotvio</th>\n",
       "      <th>anyIPV</th>\n",
       "      <th>HighIncome</th>\n",
       "      <th>Island</th>\n",
       "      <th>Governance1</th>\n",
       "      <th>HDI1</th>\n",
       "      <th>LAWDV1</th>\n",
       "      <th>sexphys</th>\n",
       "    </tr>\n",
       "  </thead>\n",
       "  <tbody>\n",
       "    <tr>\n",
       "      <th>0</th>\n",
       "      <td>1</td>\n",
       "      <td>1</td>\n",
       "      <td>0</td>\n",
       "      <td>0</td>\n",
       "      <td>3</td>\n",
       "      <td>2</td>\n",
       "      <td>0</td>\n",
       "      <td>4</td>\n",
       "      <td>4</td>\n",
       "      <td>2</td>\n",
       "      <td>...</td>\n",
       "      <td>0</td>\n",
       "      <td>0</td>\n",
       "      <td>0</td>\n",
       "      <td>0</td>\n",
       "      <td>0</td>\n",
       "      <td>0</td>\n",
       "      <td>0</td>\n",
       "      <td>0</td>\n",
       "      <td>0</td>\n",
       "      <td>0</td>\n",
       "    </tr>\n",
       "    <tr>\n",
       "      <th>1</th>\n",
       "      <td>1</td>\n",
       "      <td>4</td>\n",
       "      <td>1</td>\n",
       "      <td>0</td>\n",
       "      <td>5</td>\n",
       "      <td>2</td>\n",
       "      <td>1</td>\n",
       "      <td>1</td>\n",
       "      <td>2</td>\n",
       "      <td>5</td>\n",
       "      <td>...</td>\n",
       "      <td>3</td>\n",
       "      <td>1</td>\n",
       "      <td>1</td>\n",
       "      <td>1</td>\n",
       "      <td>0</td>\n",
       "      <td>0</td>\n",
       "      <td>0</td>\n",
       "      <td>0</td>\n",
       "      <td>0</td>\n",
       "      <td>1</td>\n",
       "    </tr>\n",
       "    <tr>\n",
       "      <th>2</th>\n",
       "      <td>1</td>\n",
       "      <td>4</td>\n",
       "      <td>9</td>\n",
       "      <td>9</td>\n",
       "      <td>1</td>\n",
       "      <td>3</td>\n",
       "      <td>1</td>\n",
       "      <td>6</td>\n",
       "      <td>4</td>\n",
       "      <td>5</td>\n",
       "      <td>...</td>\n",
       "      <td>0</td>\n",
       "      <td>0</td>\n",
       "      <td>0</td>\n",
       "      <td>0</td>\n",
       "      <td>0</td>\n",
       "      <td>0</td>\n",
       "      <td>0</td>\n",
       "      <td>0</td>\n",
       "      <td>0</td>\n",
       "      <td>0</td>\n",
       "    </tr>\n",
       "    <tr>\n",
       "      <th>3</th>\n",
       "      <td>1</td>\n",
       "      <td>1</td>\n",
       "      <td>0</td>\n",
       "      <td>0</td>\n",
       "      <td>5</td>\n",
       "      <td>2</td>\n",
       "      <td>1</td>\n",
       "      <td>5</td>\n",
       "      <td>4</td>\n",
       "      <td>3</td>\n",
       "      <td>...</td>\n",
       "      <td>0</td>\n",
       "      <td>0</td>\n",
       "      <td>1</td>\n",
       "      <td>1</td>\n",
       "      <td>0</td>\n",
       "      <td>0</td>\n",
       "      <td>0</td>\n",
       "      <td>0</td>\n",
       "      <td>0</td>\n",
       "      <td>1</td>\n",
       "    </tr>\n",
       "    <tr>\n",
       "      <th>4</th>\n",
       "      <td>1</td>\n",
       "      <td>4</td>\n",
       "      <td>1</td>\n",
       "      <td>1</td>\n",
       "      <td>4</td>\n",
       "      <td>1</td>\n",
       "      <td>0</td>\n",
       "      <td>4</td>\n",
       "      <td>3</td>\n",
       "      <td>2</td>\n",
       "      <td>...</td>\n",
       "      <td>0</td>\n",
       "      <td>0</td>\n",
       "      <td>0</td>\n",
       "      <td>1</td>\n",
       "      <td>0</td>\n",
       "      <td>0</td>\n",
       "      <td>0</td>\n",
       "      <td>0</td>\n",
       "      <td>0</td>\n",
       "      <td>1</td>\n",
       "    </tr>\n",
       "  </tbody>\n",
       "</table>\n",
       "<p>5 rows × 50 columns</p>\n",
       "</div>"
      ],
      "text/plain": [
       "   country  EP3  earlymarriage  FCMAR  ageyr10  edresp  w_religion  ETHNICITY  \\\n",
       "0        1    1              0      0        3       2           0          4   \n",
       "1        1    4              1      0        5       2           1          1   \n",
       "2        1    4              9      9        1       3           1          6   \n",
       "3        1    1              0      0        5       2           1          5   \n",
       "4        1    4              1      1        4       1           0          4   \n",
       "\n",
       "   employstatus  SourceIncome   ...     CONTROLNUM  econviol  emotvio  anyIPV  \\\n",
       "0             4             2   ...              0         0        0       0   \n",
       "1             2             5   ...              3         1        1       1   \n",
       "2             4             5   ...              0         0        0       0   \n",
       "3             4             3   ...              0         0        1       1   \n",
       "4             3             2   ...              0         0        0       1   \n",
       "\n",
       "   HighIncome  Island  Governance1  HDI1  LAWDV1  sexphys  \n",
       "0           0       0            0     0       0        0  \n",
       "1           0       0            0     0       0        1  \n",
       "2           0       0            0     0       0        0  \n",
       "3           0       0            0     0       0        1  \n",
       "4           0       0            0     0       0        1  \n",
       "\n",
       "[5 rows x 50 columns]"
      ]
     },
     "execution_count": 5,
     "metadata": {},
     "output_type": "execute_result"
    }
   ],
   "source": [
    "df_caribbean = data[[\"country\", \"EP3\", \"earlymarriage\", \"FCMAR\", \"ageyr10\", \"edresp\", \"w_religion\",\n",
    "                 \"ETHNICITY\", \"employstatus\", \"SourceIncome\", \"Fam_support\", 'mcv1006', 'mcv1006a', 'mcv1006b',\n",
    "                 'agepartner', 'sumdiffage', 'edpart', 'p_employ', 'men_alcohol_all', 'mcv1008', 'mcv1009',\n",
    "                 'Q513R', 'Q515R', 'Q516R', \n",
    "                  \"rQ701a\", \"rQ701b\", \"rQ701c\", \"rQ701d\", \"Q702R\",\n",
    "                  \"sQ601a\", 'sQ601b', 'sQ601c', 'sQ601d', 'sQ601e', 'sQ601f',\n",
    "                  \"tQ602a\", \"tQ602b\", 'tQ602c', \"tQ602d\",\n",
    "                  \"justify\", \n",
    "                  'CONTROLNUM', \n",
    "                     'econviol', 'emotvio',\n",
    "                   'anyIPV', 'HighIncome', 'Island', 'Governance1', 'HDI1', 'LAWDV1',\n",
    "                   \"sexphys\"]]\n",
    "df_caribbean.head()"
   ]
  },
  {
   "cell_type": "markdown",
   "metadata": {},
   "source": [
    "# OVERALL PREPROCESSING"
   ]
  },
  {
   "cell_type": "markdown",
   "metadata": {},
   "source": [
    "# Checking for Missing Values"
   ]
  },
  {
   "cell_type": "code",
   "execution_count": 6,
   "metadata": {},
   "outputs": [],
   "source": [
    "#Check for missing values\n",
    "#df_caribbean.isnull().sum()"
   ]
  },
  {
   "cell_type": "markdown",
   "metadata": {},
   "source": [
    "# Split the Data"
   ]
  },
  {
   "cell_type": "code",
   "execution_count": 7,
   "metadata": {},
   "outputs": [],
   "source": [
    "Guyana = df_caribbean[df_caribbean['country']==1]\n",
    "Jamaica = df_caribbean[df_caribbean['country']==2]\n",
    "Suriname = df_caribbean[df_caribbean['country']==3]\n",
    "Trinidad = df_caribbean[df_caribbean['country']==4]\n",
    "Grenada = df_caribbean[df_caribbean['country']==5]"
   ]
  },
  {
   "cell_type": "code",
   "execution_count": 8,
   "metadata": {},
   "outputs": [],
   "source": [
    "Guyana_X = Guyana.iloc[:, :-1]\n",
    "Guyana_y = Guyana.iloc[:, -1]\n",
    "\n",
    "Jamaica_X = Jamaica.iloc[:, :-1]\n",
    "Jamaica_y = Jamaica.iloc[:, -1]\n",
    "\n",
    "Suriname_X = Suriname.iloc[:, :-1]\n",
    "Suriname_y = Suriname.iloc[:, -1]\n",
    "\n",
    "Trinidad_X = Trinidad.iloc[:, :-1]\n",
    "Trinidad_y = Trinidad.iloc[:, -1]\n",
    "\n",
    "Grenada_X = Grenada.iloc[:, :-1]\n",
    "Grenada_y = Grenada.iloc[:, -1]"
   ]
  },
  {
   "cell_type": "code",
   "execution_count": 9,
   "metadata": {},
   "outputs": [],
   "source": [
    "# Randomly choose 30% of the data for validation and testing\n",
    "from sklearn.model_selection import train_test_split\n",
    "GuyanaX_train, GuyanaX_rest, Guyanay_train, Guyanay_rest = train_test_split(Guyana_X, \n",
    "                                                                            Guyana_y, \n",
    "                                                                            test_size=0.3, \n",
    "                                                                            random_state=0, \n",
    "                                                                            stratify=Guyana_y)"
   ]
  },
  {
   "cell_type": "code",
   "execution_count": 10,
   "metadata": {},
   "outputs": [],
   "source": [
    "JamaicaX_train, JamaicaX_rest, Jamaicay_train, Jamaicay_rest = train_test_split(Jamaica_X, \n",
    "                                                                                Jamaica_y, \n",
    "                                                                                test_size=0.3, \n",
    "                                                                                random_state=0, \n",
    "                                                                                stratify=Jamaica_y)"
   ]
  },
  {
   "cell_type": "code",
   "execution_count": 11,
   "metadata": {},
   "outputs": [],
   "source": [
    "SurinameX_train, SurinameX_rest, Surinamey_train, Surinamey_rest = train_test_split(Suriname_X, \n",
    "                                                                                    Suriname_y, \n",
    "                                                                                    test_size=0.3, \n",
    "                                                                                    random_state=0, \n",
    "                                                                                    stratify=Suriname_y)"
   ]
  },
  {
   "cell_type": "code",
   "execution_count": 12,
   "metadata": {},
   "outputs": [],
   "source": [
    "TrinidadX_train, TrinidadX_rest, Trinidady_train, Trinidady_rest = train_test_split(Trinidad_X, \n",
    "                                                                                    Trinidad_y, \n",
    "                                                                                    test_size=0.3, \n",
    "                                                                                    random_state=0, \n",
    "                                                                                    stratify=Trinidad_y)"
   ]
  },
  {
   "cell_type": "code",
   "execution_count": 13,
   "metadata": {},
   "outputs": [],
   "source": [
    "GrenadaX_train, GrenadaX_rest, Grenaday_train, Grenaday_rest = train_test_split(Grenada_X, \n",
    "                                                                                    Grenada_y, \n",
    "                                                                                    test_size=0.3, \n",
    "                                                                                    random_state=0, \n",
    "                                                                                    stratify=Grenada_y)"
   ]
  },
  {
   "cell_type": "code",
   "execution_count": 14,
   "metadata": {},
   "outputs": [],
   "source": [
    "# Randomly choose 50% of the data for testing\n",
    "GuyanaX_val, GuyanaX_test, Guyanay_val, Guyanay_test = train_test_split(GuyanaX_rest, \n",
    "                                                                            Guyanay_rest, \n",
    "                                                                            test_size=0.5, \n",
    "                                                                            random_state=0, \n",
    "                                                                            stratify=Guyanay_rest)"
   ]
  },
  {
   "cell_type": "code",
   "execution_count": 15,
   "metadata": {},
   "outputs": [],
   "source": [
    "JamaicaX_val, JamaicaX_test, Jamaicay_val, Jamaicay_test = train_test_split(JamaicaX_rest, \n",
    "                                                                            Jamaicay_rest, \n",
    "                                                                            test_size=0.5, \n",
    "                                                                            random_state=0, \n",
    "                                                                            stratify=Jamaicay_rest)"
   ]
  },
  {
   "cell_type": "code",
   "execution_count": 16,
   "metadata": {},
   "outputs": [],
   "source": [
    "SurinameX_val, SurinameX_test, Surinamey_val, Surinamey_test = train_test_split(SurinameX_rest, \n",
    "                                                                            Surinamey_rest, \n",
    "                                                                            test_size=0.5, \n",
    "                                                                            random_state=0, \n",
    "                                                                            stratify=Surinamey_rest)"
   ]
  },
  {
   "cell_type": "code",
   "execution_count": 17,
   "metadata": {},
   "outputs": [],
   "source": [
    "TrinidadX_val, TrinidadX_test, Trinidady_val, Trinidady_test = train_test_split(TrinidadX_rest, \n",
    "                                                                            Trinidady_rest, \n",
    "                                                                            test_size=0.5, \n",
    "                                                                            random_state=0, \n",
    "                                                                            stratify=Trinidady_rest)"
   ]
  },
  {
   "cell_type": "code",
   "execution_count": 18,
   "metadata": {},
   "outputs": [],
   "source": [
    "GrenadaX_val, GrenadaX_test, Grenaday_val, Grenaday_test = train_test_split(GrenadaX_rest, \n",
    "                                                                            Grenaday_rest, \n",
    "                                                                            test_size=0.5, \n",
    "                                                                            random_state=0, \n",
    "                                                                            stratify=Grenaday_rest)"
   ]
  },
  {
   "cell_type": "code",
   "execution_count": 19,
   "metadata": {},
   "outputs": [],
   "source": [
    "X_train = pd.concat([GuyanaX_train, JamaicaX_train, SurinameX_train, TrinidadX_train, GrenadaX_train])\n",
    "y_train = pd.concat([Guyanay_train, Jamaicay_train, Surinamey_train, Trinidady_train, Grenaday_train])\n",
    "#df_train = X_train.join(y_train)"
   ]
  },
  {
   "cell_type": "code",
   "execution_count": 20,
   "metadata": {},
   "outputs": [],
   "source": [
    "X_train_other = X_train[['anyIPV', 'HighIncome', 'Island', 'Governance1', 'HDI1', 'LAWDV1']]"
   ]
  },
  {
   "cell_type": "code",
   "execution_count": 21,
   "metadata": {},
   "outputs": [
    {
     "data": {
      "text/plain": [
       "1900"
      ]
     },
     "execution_count": 21,
     "metadata": {},
     "output_type": "execute_result"
    }
   ],
   "source": [
    "(X_train_other['anyIPV']==1).sum() #/y_train.shape[0]"
   ]
  },
  {
   "cell_type": "code",
   "execution_count": 22,
   "metadata": {},
   "outputs": [],
   "source": [
    "X_train.drop(columns=['anyIPV', 'HighIncome', 'Island', 'Governance1', 'HDI1', 'LAWDV1'], inplace=True)"
   ]
  },
  {
   "cell_type": "code",
   "execution_count": 23,
   "metadata": {},
   "outputs": [],
   "source": [
    "#X_train.columns"
   ]
  },
  {
   "cell_type": "code",
   "execution_count": 24,
   "metadata": {},
   "outputs": [],
   "source": [
    "df_train = X_train.join(y_train)"
   ]
  },
  {
   "cell_type": "code",
   "execution_count": 25,
   "metadata": {},
   "outputs": [],
   "source": [
    "X_val = pd.concat([GuyanaX_val, JamaicaX_val, SurinameX_val, TrinidadX_val, GrenadaX_val])\n",
    "y_val = pd.concat([Guyanay_val, Jamaicay_val, Surinamey_val, Trinidady_val, Grenaday_val])\n",
    "#df_val = X_val.join(y_val)"
   ]
  },
  {
   "cell_type": "code",
   "execution_count": 26,
   "metadata": {},
   "outputs": [],
   "source": [
    "X_val_other = X_val[['anyIPV', 'HighIncome', 'Island', 'Governance1', 'HDI1', 'LAWDV1']]\n",
    "X_val.drop(columns=['anyIPV', 'HighIncome', 'Island', 'Governance1', 'HDI1', 'LAWDV1'], inplace=True)\n",
    "df_val = X_val.join(y_val)"
   ]
  },
  {
   "cell_type": "code",
   "execution_count": 27,
   "metadata": {},
   "outputs": [],
   "source": [
    "X_test = pd.concat([GuyanaX_test, JamaicaX_test, SurinameX_test, TrinidadX_test, GrenadaX_test])\n",
    "y_test = pd.concat([Guyanay_test, Jamaicay_test, Surinamey_test, Trinidady_test, Grenaday_test])\n",
    "#df_test = X_test.join(y_test)"
   ]
  },
  {
   "cell_type": "code",
   "execution_count": 28,
   "metadata": {},
   "outputs": [],
   "source": [
    "X_test_other = X_test[['anyIPV', 'HighIncome', 'Island', 'Governance1', 'HDI1', 'LAWDV1']]\n",
    "X_test.drop(columns=['anyIPV', 'HighIncome', 'Island', 'Governance1', 'HDI1', 'LAWDV1'], inplace=True)\n",
    "df_test = X_test.join(y_test)"
   ]
  },
  {
   "cell_type": "code",
   "execution_count": 29,
   "metadata": {},
   "outputs": [
    {
     "data": {
      "text/plain": [
       "0.32289097187962507"
      ]
     },
     "execution_count": 29,
     "metadata": {},
     "output_type": "execute_result"
    }
   ],
   "source": [
    "(y_train==1).sum()/y_train.shape[0]"
   ]
  },
  {
   "cell_type": "code",
   "execution_count": 30,
   "metadata": {},
   "outputs": [
    {
     "data": {
      "text/plain": [
       "0.3222094361334868"
      ]
     },
     "execution_count": 30,
     "metadata": {},
     "output_type": "execute_result"
    }
   ],
   "source": [
    "(y_val==1).sum()/y_val.shape[0]"
   ]
  },
  {
   "cell_type": "code",
   "execution_count": 31,
   "metadata": {},
   "outputs": [
    {
     "data": {
      "text/plain": [
       "0.32224770642201833"
      ]
     },
     "execution_count": 31,
     "metadata": {},
     "output_type": "execute_result"
    }
   ],
   "source": [
    "(y_test==1).sum()/y_test.shape[0]"
   ]
  },
  {
   "cell_type": "code",
   "execution_count": 32,
   "metadata": {},
   "outputs": [
    {
     "data": {
      "text/plain": [
       "0.4686729156388752"
      ]
     },
     "execution_count": 32,
     "metadata": {},
     "output_type": "execute_result"
    }
   ],
   "source": [
    "(X_train_other['anyIPV']==1).sum() /y_train.shape[0]"
   ]
  },
  {
   "cell_type": "code",
   "execution_count": 33,
   "metadata": {},
   "outputs": [
    {
     "data": {
      "text/plain": [
       "0.4672036823935558"
      ]
     },
     "execution_count": 33,
     "metadata": {},
     "output_type": "execute_result"
    }
   ],
   "source": [
    "(X_val_other['anyIPV']==1).sum() /y_val.shape[0]"
   ]
  },
  {
   "cell_type": "code",
   "execution_count": 34,
   "metadata": {},
   "outputs": [
    {
     "data": {
      "text/plain": [
       "0.44839449541284404"
      ]
     },
     "execution_count": 34,
     "metadata": {},
     "output_type": "execute_result"
    }
   ],
   "source": [
    "(X_test_other['anyIPV']==1).sum() /y_test.shape[0]"
   ]
  },
  {
   "cell_type": "markdown",
   "metadata": {},
   "source": [
    "# Features Selection"
   ]
  },
  {
   "cell_type": "markdown",
   "metadata": {},
   "source": [
    "## SET 1: CHI2"
   ]
  },
  {
   "cell_type": "code",
   "execution_count": 35,
   "metadata": {},
   "outputs": [],
   "source": [
    "from scipy.stats import chi2_contingency"
   ]
  },
  {
   "cell_type": "code",
   "execution_count": 36,
   "metadata": {},
   "outputs": [],
   "source": [
    "def chi2_sexphys(dfr_Xtrain, dfr_ytrain):\n",
    "    'Do a Chi2 test of independence and choose the significant dependence'\n",
    "    columns=dfr_Xtrain.columns.tolist()\n",
    "    \n",
    "    p_value = []\n",
    "    for column in columns:\n",
    "        observed = pd.crosstab(dfr_Xtrain[column], dfr_ytrain)\n",
    "        p_value.append(chi2_contingency(observed= observed)[1])\n",
    "\n",
    "    df = pd.DataFrame({\"variable\":columns, \n",
    "                           \"p_value\":p_value})\n",
    "    df2 = df[df.p_value <= 0.05]\n",
    "    df2 = df2.sort_values(by='p_value', ascending=True)\n",
    "    return df2"
   ]
  },
  {
   "cell_type": "code",
   "execution_count": 37,
   "metadata": {},
   "outputs": [],
   "source": [
    "All_sign=chi2_sexphys(X_train, y_train)"
   ]
  },
  {
   "cell_type": "code",
   "execution_count": 38,
   "metadata": {},
   "outputs": [
    {
     "data": {
      "text/plain": [
       "(32, 2)"
      ]
     },
     "execution_count": 38,
     "metadata": {},
     "output_type": "execute_result"
    }
   ],
   "source": [
    "All_sign.shape"
   ]
  },
  {
   "cell_type": "code",
   "execution_count": 39,
   "metadata": {},
   "outputs": [],
   "source": [
    "colsig = list(All_sign.variable.values)"
   ]
  },
  {
   "cell_type": "code",
   "execution_count": 40,
   "metadata": {},
   "outputs": [
    {
     "data": {
      "text/html": [
       "<div>\n",
       "<style scoped>\n",
       "    .dataframe tbody tr th:only-of-type {\n",
       "        vertical-align: middle;\n",
       "    }\n",
       "\n",
       "    .dataframe tbody tr th {\n",
       "        vertical-align: top;\n",
       "    }\n",
       "\n",
       "    .dataframe thead th {\n",
       "        text-align: right;\n",
       "    }\n",
       "</style>\n",
       "<table border=\"1\" class=\"dataframe\">\n",
       "  <thead>\n",
       "    <tr style=\"text-align: right;\">\n",
       "      <th></th>\n",
       "      <th>emotvio</th>\n",
       "      <th>CONTROLNUM</th>\n",
       "      <th>Q702R</th>\n",
       "      <th>econviol</th>\n",
       "      <th>Q515R</th>\n",
       "      <th>Q513R</th>\n",
       "      <th>mcv1006</th>\n",
       "      <th>mcv1006a</th>\n",
       "      <th>mcv1006b</th>\n",
       "      <th>mcv1008</th>\n",
       "      <th>...</th>\n",
       "      <th>rQ701c</th>\n",
       "      <th>sQ601c</th>\n",
       "      <th>sQ601d</th>\n",
       "      <th>EP3</th>\n",
       "      <th>FCMAR</th>\n",
       "      <th>tQ602d</th>\n",
       "      <th>SourceIncome</th>\n",
       "      <th>ageyr10</th>\n",
       "      <th>justify</th>\n",
       "      <th>tQ602c</th>\n",
       "    </tr>\n",
       "  </thead>\n",
       "  <tbody>\n",
       "    <tr>\n",
       "      <th>995</th>\n",
       "      <td>0</td>\n",
       "      <td>0</td>\n",
       "      <td>2</td>\n",
       "      <td>0</td>\n",
       "      <td>0</td>\n",
       "      <td>0</td>\n",
       "      <td>0</td>\n",
       "      <td>1</td>\n",
       "      <td>1</td>\n",
       "      <td>0</td>\n",
       "      <td>...</td>\n",
       "      <td>0</td>\n",
       "      <td>1</td>\n",
       "      <td>1</td>\n",
       "      <td>2</td>\n",
       "      <td>0</td>\n",
       "      <td>1</td>\n",
       "      <td>5</td>\n",
       "      <td>2</td>\n",
       "      <td>0</td>\n",
       "      <td>0</td>\n",
       "    </tr>\n",
       "    <tr>\n",
       "      <th>962</th>\n",
       "      <td>0</td>\n",
       "      <td>0</td>\n",
       "      <td>2</td>\n",
       "      <td>0</td>\n",
       "      <td>0</td>\n",
       "      <td>0</td>\n",
       "      <td>0</td>\n",
       "      <td>0</td>\n",
       "      <td>0</td>\n",
       "      <td>1</td>\n",
       "      <td>...</td>\n",
       "      <td>1</td>\n",
       "      <td>1</td>\n",
       "      <td>1</td>\n",
       "      <td>1</td>\n",
       "      <td>0</td>\n",
       "      <td>1</td>\n",
       "      <td>4</td>\n",
       "      <td>2</td>\n",
       "      <td>1</td>\n",
       "      <td>0</td>\n",
       "    </tr>\n",
       "    <tr>\n",
       "      <th>998</th>\n",
       "      <td>0</td>\n",
       "      <td>0</td>\n",
       "      <td>1</td>\n",
       "      <td>0</td>\n",
       "      <td>0</td>\n",
       "      <td>0</td>\n",
       "      <td>0</td>\n",
       "      <td>0</td>\n",
       "      <td>1</td>\n",
       "      <td>0</td>\n",
       "      <td>...</td>\n",
       "      <td>1</td>\n",
       "      <td>1</td>\n",
       "      <td>0</td>\n",
       "      <td>2</td>\n",
       "      <td>0</td>\n",
       "      <td>0</td>\n",
       "      <td>4</td>\n",
       "      <td>2</td>\n",
       "      <td>0</td>\n",
       "      <td>0</td>\n",
       "    </tr>\n",
       "    <tr>\n",
       "      <th>639</th>\n",
       "      <td>0</td>\n",
       "      <td>1</td>\n",
       "      <td>1</td>\n",
       "      <td>0</td>\n",
       "      <td>1</td>\n",
       "      <td>0</td>\n",
       "      <td>0</td>\n",
       "      <td>0</td>\n",
       "      <td>0</td>\n",
       "      <td>0</td>\n",
       "      <td>...</td>\n",
       "      <td>1</td>\n",
       "      <td>0</td>\n",
       "      <td>0</td>\n",
       "      <td>4</td>\n",
       "      <td>9</td>\n",
       "      <td>0</td>\n",
       "      <td>5</td>\n",
       "      <td>4</td>\n",
       "      <td>1</td>\n",
       "      <td>0</td>\n",
       "    </tr>\n",
       "    <tr>\n",
       "      <th>932</th>\n",
       "      <td>0</td>\n",
       "      <td>0</td>\n",
       "      <td>2</td>\n",
       "      <td>0</td>\n",
       "      <td>0</td>\n",
       "      <td>0</td>\n",
       "      <td>0</td>\n",
       "      <td>0</td>\n",
       "      <td>0</td>\n",
       "      <td>0</td>\n",
       "      <td>...</td>\n",
       "      <td>1</td>\n",
       "      <td>0</td>\n",
       "      <td>0</td>\n",
       "      <td>4</td>\n",
       "      <td>0</td>\n",
       "      <td>0</td>\n",
       "      <td>5</td>\n",
       "      <td>4</td>\n",
       "      <td>0</td>\n",
       "      <td>0</td>\n",
       "    </tr>\n",
       "  </tbody>\n",
       "</table>\n",
       "<p>5 rows × 32 columns</p>\n",
       "</div>"
      ],
      "text/plain": [
       "     emotvio  CONTROLNUM  Q702R  econviol  Q515R  Q513R  mcv1006  mcv1006a  \\\n",
       "995        0           0      2         0      0      0        0         1   \n",
       "962        0           0      2         0      0      0        0         0   \n",
       "998        0           0      1         0      0      0        0         0   \n",
       "639        0           1      1         0      1      0        0         0   \n",
       "932        0           0      2         0      0      0        0         0   \n",
       "\n",
       "     mcv1006b  mcv1008   ...    rQ701c  sQ601c  sQ601d  EP3  FCMAR  tQ602d  \\\n",
       "995         1        0   ...         0       1       1    2      0       1   \n",
       "962         0        1   ...         1       1       1    1      0       1   \n",
       "998         1        0   ...         1       1       0    2      0       0   \n",
       "639         0        0   ...         1       0       0    4      9       0   \n",
       "932         0        0   ...         1       0       0    4      0       0   \n",
       "\n",
       "     SourceIncome  ageyr10  justify  tQ602c  \n",
       "995             5        2        0       0  \n",
       "962             4        2        1       0  \n",
       "998             4        2        0       0  \n",
       "639             5        4        1       0  \n",
       "932             5        4        0       0  \n",
       "\n",
       "[5 rows x 32 columns]"
      ]
     },
     "execution_count": 40,
     "metadata": {},
     "output_type": "execute_result"
    }
   ],
   "source": [
    "# Select only the significant variables \n",
    "X_train_reduced = X_train[colsig].copy()  #might need to create a function???\n",
    "X_train_reduced.head()"
   ]
  },
  {
   "cell_type": "code",
   "execution_count": 41,
   "metadata": {},
   "outputs": [
    {
     "data": {
      "text/plain": [
       "Index(['emotvio', 'CONTROLNUM', 'Q702R', 'econviol', 'Q515R', 'Q513R',\n",
       "       'mcv1006', 'mcv1006a', 'mcv1006b', 'mcv1008', 'men_alcohol_all',\n",
       "       'mcv1009', 'earlymarriage', 'Fam_support', 'Q516R', 'edpart', 'rQ701d',\n",
       "       'rQ701b', 'rQ701a', 'sumdiffage', 'edresp', 'country', 'rQ701c',\n",
       "       'sQ601c', 'sQ601d', 'EP3', 'FCMAR', 'tQ602d', 'SourceIncome', 'ageyr10',\n",
       "       'justify', 'tQ602c'],\n",
       "      dtype='object')"
      ]
     },
     "execution_count": 41,
     "metadata": {},
     "output_type": "execute_result"
    }
   ],
   "source": [
    "X_train_reduced.columns"
   ]
  },
  {
   "cell_type": "code",
   "execution_count": 42,
   "metadata": {},
   "outputs": [
    {
     "data": {
      "text/html": [
       "<div>\n",
       "<style scoped>\n",
       "    .dataframe tbody tr th:only-of-type {\n",
       "        vertical-align: middle;\n",
       "    }\n",
       "\n",
       "    .dataframe tbody tr th {\n",
       "        vertical-align: top;\n",
       "    }\n",
       "\n",
       "    .dataframe thead th {\n",
       "        text-align: right;\n",
       "    }\n",
       "</style>\n",
       "<table border=\"1\" class=\"dataframe\">\n",
       "  <thead>\n",
       "    <tr style=\"text-align: right;\">\n",
       "      <th>sexphys</th>\n",
       "      <th>0</th>\n",
       "      <th>1</th>\n",
       "    </tr>\n",
       "    <tr>\n",
       "      <th>CONTROLNUM</th>\n",
       "      <th></th>\n",
       "      <th></th>\n",
       "    </tr>\n",
       "  </thead>\n",
       "  <tbody>\n",
       "    <tr>\n",
       "      <th>0</th>\n",
       "      <td>1489</td>\n",
       "      <td>367</td>\n",
       "    </tr>\n",
       "    <tr>\n",
       "      <th>1</th>\n",
       "      <td>622</td>\n",
       "      <td>245</td>\n",
       "    </tr>\n",
       "    <tr>\n",
       "      <th>2</th>\n",
       "      <td>339</td>\n",
       "      <td>258</td>\n",
       "    </tr>\n",
       "    <tr>\n",
       "      <th>3</th>\n",
       "      <td>295</td>\n",
       "      <td>439</td>\n",
       "    </tr>\n",
       "  </tbody>\n",
       "</table>\n",
       "</div>"
      ],
      "text/plain": [
       "sexphys        0    1\n",
       "CONTROLNUM           \n",
       "0           1489  367\n",
       "1            622  245\n",
       "2            339  258\n",
       "3            295  439"
      ]
     },
     "execution_count": 42,
     "metadata": {},
     "output_type": "execute_result"
    }
   ],
   "source": [
    "pd.crosstab(X_train_reduced['CONTROLNUM'], y_train)"
   ]
  },
  {
   "cell_type": "code",
   "execution_count": 43,
   "metadata": {},
   "outputs": [
    {
     "data": {
      "text/plain": [
       "CONTROLNUM\n",
       "0      1856\n",
       "1       867\n",
       "2       597\n",
       "3       734\n",
       "All    4054\n",
       "Name: All, dtype: int64"
      ]
     },
     "execution_count": 43,
     "metadata": {},
     "output_type": "execute_result"
    }
   ],
   "source": [
    "pd.crosstab(X_train_reduced['CONTROLNUM'], y_train, margins=True)['All']"
   ]
  },
  {
   "cell_type": "code",
   "execution_count": 44,
   "metadata": {},
   "outputs": [
    {
     "data": {
      "text/plain": [
       "CONTROLNUM\n",
       "0      0.197737\n",
       "1      0.282584\n",
       "2      0.432161\n",
       "3      0.598093\n",
       "All    0.322891\n",
       "dtype: float64"
      ]
     },
     "execution_count": 44,
     "metadata": {},
     "output_type": "execute_result"
    }
   ],
   "source": [
    "pd.crosstab(X_train_reduced['CONTROLNUM'], y_train, margins=True)[1] / pd.crosstab(X_train_reduced['CONTROLNUM'], y_train, margins=True)['All']"
   ]
  },
  {
   "cell_type": "code",
   "execution_count": 45,
   "metadata": {},
   "outputs": [
    {
     "name": "stdout",
     "output_type": "stream",
     "text": [
      "earlymarriage\n",
      "0      0.302930\n",
      "1      0.447482\n",
      "9      0.287208\n",
      "All    0.322891\n",
      "dtype: float64\n",
      "edpart\n",
      "1      0.372140\n",
      "2      0.313984\n",
      "3      0.239227\n",
      "All    0.322891\n",
      "dtype: float64\n",
      "sumdiffage\n",
      "1      0.405732\n",
      "2      0.303571\n",
      "3      0.311203\n",
      "4      0.304950\n",
      "All    0.322891\n",
      "dtype: float64\n",
      "edresp\n",
      "1      0.376048\n",
      "2      0.324205\n",
      "3      0.273298\n",
      "All    0.322891\n",
      "dtype: float64\n",
      "country\n",
      "1      0.378212\n",
      "2      0.278592\n",
      "3      0.337349\n",
      "4      0.301543\n",
      "5      0.289855\n",
      "All    0.322891\n",
      "dtype: float64\n",
      "EP3\n",
      "1      0.286312\n",
      "2      0.363429\n",
      "3      0.332432\n",
      "4      0.342430\n",
      "All    0.322891\n",
      "dtype: float64\n",
      "FCMAR\n",
      "0      0.327026\n",
      "1      0.370667\n",
      "9      0.287208\n",
      "All    0.322891\n",
      "dtype: float64\n",
      "ageyr10\n",
      "1      0.259067\n",
      "2      0.317682\n",
      "3      0.347503\n",
      "4      0.327081\n",
      "5      0.345588\n",
      "All    0.322891\n",
      "dtype: float64\n",
      "SourceIncome\n",
      "1      0.325333\n",
      "2      0.360841\n",
      "3      0.280042\n",
      "4      0.316667\n",
      "5      0.320819\n",
      "All    0.322891\n",
      "dtype: float64\n",
      "Q702R\n",
      "1      0.223394\n",
      "2      0.348054\n",
      "3      0.663569\n",
      "All    0.322891\n",
      "dtype: float64\n",
      "CONTROLNUM\n",
      "0      0.197737\n",
      "1      0.282584\n",
      "2      0.432161\n",
      "3      0.598093\n",
      "All    0.322891\n",
      "dtype: float64\n"
     ]
    }
   ],
   "source": [
    "nominal_var = [\"earlymarriage\", 'edpart', 'sumdiffage','edresp','country',\n",
    "                'EP3', 'FCMAR','ageyr10','SourceIncome',\"Q702R\", 'CONTROLNUM' ]\n",
    "for var in nominal_var:\n",
    "    print(pd.crosstab(X_train_reduced[var], y_train, margins=True)[1] / pd.crosstab(X_train_reduced[var], y_train, margins=True)['All'])"
   ]
  },
  {
   "cell_type": "code",
   "execution_count": 46,
   "metadata": {},
   "outputs": [],
   "source": [
    "nominal_var = [\"earlymarriage\", 'edpart', 'sumdiffage','edresp','country',\n",
    "                'EP3', 'FCMAR','ageyr10','SourceIncome',\"Q702R\", 'CONTROLNUM' ]\n",
    "for var in nominal_var:\n",
    "    X_train_reduced[var] = X_train_reduced[var].astype('category')"
   ]
  },
  {
   "cell_type": "code",
   "execution_count": 47,
   "metadata": {},
   "outputs": [],
   "source": [
    "X_train_dummies = pd.get_dummies(X_train_reduced)"
   ]
  },
  {
   "cell_type": "code",
   "execution_count": 48,
   "metadata": {},
   "outputs": [
    {
     "data": {
      "text/plain": [
       "(4054, 63)"
      ]
     },
     "execution_count": 48,
     "metadata": {},
     "output_type": "execute_result"
    }
   ],
   "source": [
    "X_train_dummies.shape"
   ]
  },
  {
   "cell_type": "code",
   "execution_count": 49,
   "metadata": {},
   "outputs": [
    {
     "data": {
      "text/plain": [
       "Index(['emotvio', 'econviol', 'Q515R', 'Q513R', 'mcv1006', 'mcv1006a',\n",
       "       'mcv1006b', 'mcv1008', 'men_alcohol_all', 'mcv1009', 'Fam_support',\n",
       "       'Q516R', 'rQ701d', 'rQ701b', 'rQ701a', 'rQ701c', 'sQ601c', 'sQ601d',\n",
       "       'tQ602d', 'justify', 'tQ602c', 'CONTROLNUM_0', 'CONTROLNUM_1',\n",
       "       'CONTROLNUM_2', 'CONTROLNUM_3', 'Q702R_1', 'Q702R_2', 'Q702R_3',\n",
       "       'earlymarriage_0', 'earlymarriage_1', 'earlymarriage_9', 'edpart_1',\n",
       "       'edpart_2', 'edpart_3', 'sumdiffage_1', 'sumdiffage_2', 'sumdiffage_3',\n",
       "       'sumdiffage_4', 'edresp_1', 'edresp_2', 'edresp_3', 'country_1',\n",
       "       'country_2', 'country_3', 'country_4', 'country_5', 'EP3_1', 'EP3_2',\n",
       "       'EP3_3', 'EP3_4', 'FCMAR_0', 'FCMAR_1', 'FCMAR_9', 'SourceIncome_1',\n",
       "       'SourceIncome_2', 'SourceIncome_3', 'SourceIncome_4', 'SourceIncome_5',\n",
       "       'ageyr10_1', 'ageyr10_2', 'ageyr10_3', 'ageyr10_4', 'ageyr10_5'],\n",
       "      dtype='object')"
      ]
     },
     "execution_count": 49,
     "metadata": {},
     "output_type": "execute_result"
    }
   ],
   "source": [
    "X_train_dummies.columns"
   ]
  },
  {
   "cell_type": "code",
   "execution_count": 50,
   "metadata": {},
   "outputs": [],
   "source": [
    "#Drop columns based on theory and chi2 contingency\n",
    "X_train_dummies.drop(columns=['earlymarriage_9', 'edpart_3', 'sumdiffage_4', 'edresp_3', 'country_2', 'EP3_1', 'FCMAR_9', \n",
    "                              'ageyr10_1', 'SourceIncome_3', 'Q702R_1', 'CONTROLNUM_0'], inplace=True)"
   ]
  },
  {
   "cell_type": "code",
   "execution_count": 51,
   "metadata": {},
   "outputs": [],
   "source": [
    "'''cols = list(result_chi2.keys())\n",
    "cols.sort()'''\n",
    "\n",
    "cols0 = list(X_train_dummies.columns)"
   ]
  },
  {
   "cell_type": "code",
   "execution_count": 52,
   "metadata": {},
   "outputs": [],
   "source": [
    "#chi2 test: all the features with the target variable\n",
    "from sklearn.feature_selection import chi2"
   ]
  },
  {
   "cell_type": "code",
   "execution_count": 53,
   "metadata": {},
   "outputs": [],
   "source": [
    "def chi2_selection(df_X, df_y):\n",
    "    \"To add commments\"\n",
    "    df_chi2 = chi2(df_X, df_y)\n",
    "\n",
    "    # Convert the chi2 tests into one-dimensional 1darray with corresponding df column names as axis labels\n",
    "    f_chi2 = pd.Series(df_chi2[1], df_X.columns)\n",
    "\n",
    "    # Sort the array in ascending order of the pvalues\n",
    "    f_chi2.sort_values(ascending=True, inplace=True)\n",
    "\n",
    "    # Select the significant features \n",
    "    sign_chi2 = f_chi2[f_chi2<=0.05]\n",
    "\n",
    "    print(sign_chi2.shape)\n",
    "    return sign_chi2"
   ]
  },
  {
   "cell_type": "code",
   "execution_count": 54,
   "metadata": {},
   "outputs": [
    {
     "name": "stdout",
     "output_type": "stream",
     "text": [
      "(31,)\n"
     ]
    }
   ],
   "source": [
    "result_chi2 = chi2_selection(X_train_dummies, y_train)"
   ]
  },
  {
   "cell_type": "code",
   "execution_count": 55,
   "metadata": {
    "scrolled": false
   },
   "outputs": [
    {
     "data": {
      "text/plain": [
       "emotvio            1.161629e-185\n",
       "Q702R_3             4.525820e-64\n",
       "CONTROLNUM_3        3.055143e-57\n",
       "econviol            2.697641e-50\n",
       "Q515R               4.053025e-30\n",
       "Q513R               7.075178e-28\n",
       "mcv1006             1.047921e-21\n",
       "mcv1006a            7.428265e-21\n",
       "mcv1008             3.768960e-20\n",
       "mcv1006b            1.229658e-19\n",
       "mcv1009             6.515760e-17\n",
       "men_alcohol_all     1.224368e-16\n",
       "earlymarriage_1     2.146712e-12\n",
       "Q516R               5.800714e-09\n",
       "CONTROLNUM_2        1.130279e-08\n",
       "sumdiffage_1        5.070108e-06\n",
       "edpart_1            4.902647e-05\n",
       "country_1           2.237989e-04\n",
       "edresp_1            1.019536e-03\n",
       "tQ602d              1.903722e-03\n",
       "SourceIncome_2      4.324852e-03\n",
       "FCMAR_1             5.138660e-03\n",
       "justify             7.202083e-03\n",
       "rQ701d              7.924162e-03\n",
       "EP3_2               1.033209e-02\n",
       "CONTROLNUM_1        1.114044e-02\n",
       "Fam_support         1.205877e-02\n",
       "tQ602c              1.598623e-02\n",
       "sQ601c              3.044801e-02\n",
       "Q702R_2             4.918182e-02\n",
       "earlymarriage_0     4.956180e-02\n",
       "dtype: float64"
      ]
     },
     "execution_count": 55,
     "metadata": {},
     "output_type": "execute_result"
    }
   ],
   "source": [
    "result_chi2"
   ]
  },
  {
   "cell_type": "code",
   "execution_count": null,
   "metadata": {},
   "outputs": [],
   "source": []
  },
  {
   "cell_type": "code",
   "execution_count": 56,
   "metadata": {},
   "outputs": [],
   "source": [
    "cols1 = list(result_chi2.keys())\n",
    "cols1.sort()"
   ]
  },
  {
   "cell_type": "code",
   "execution_count": 57,
   "metadata": {},
   "outputs": [
    {
     "name": "stdout",
     "output_type": "stream",
     "text": [
      "['CONTROLNUM_1', 'CONTROLNUM_2', 'CONTROLNUM_3', 'EP3_2', 'FCMAR_1', 'Fam_support', 'Q513R', 'Q515R', 'Q516R', 'Q702R_2', 'Q702R_3', 'SourceIncome_2', 'country_1', 'earlymarriage_0', 'earlymarriage_1', 'econviol', 'edpart_1', 'edresp_1', 'emotvio', 'justify', 'mcv1006', 'mcv1006a', 'mcv1006b', 'mcv1008', 'mcv1009', 'men_alcohol_all', 'rQ701d', 'sQ601c', 'sumdiffage_1', 'tQ602c', 'tQ602d']\n"
     ]
    }
   ],
   "source": [
    "print(cols1)"
   ]
  },
  {
   "cell_type": "markdown",
   "metadata": {},
   "source": [
    "## SET 2: LOGISTIC MODEL"
   ]
  },
  {
   "cell_type": "code",
   "execution_count": 58,
   "metadata": {},
   "outputs": [],
   "source": [
    "import statsmodels.api as sm"
   ]
  },
  {
   "cell_type": "code",
   "execution_count": 59,
   "metadata": {},
   "outputs": [
    {
     "data": {
      "text/plain": [
       "'emotvio + econviol + Q515R + Q513R + mcv1006 + mcv1006a + mcv1006b + mcv1008 + men_alcohol_all + mcv1009 + Fam_support + Q516R + rQ701d + rQ701b + rQ701a + rQ701c + sQ601c + sQ601d + tQ602d + justify + tQ602c + CONTROLNUM_1 + CONTROLNUM_2 + CONTROLNUM_3 + Q702R_2 + Q702R_3 + earlymarriage_0 + earlymarriage_1 + edpart_1 + edpart_2 + sumdiffage_1 + sumdiffage_2 + sumdiffage_3 + edresp_1 + edresp_2 + country_1 + country_3 + country_4 + country_5 + EP3_2 + EP3_3 + EP3_4 + FCMAR_0 + FCMAR_1 + SourceIncome_1 + SourceIncome_2 + SourceIncome_4 + SourceIncome_5 + ageyr10_2 + ageyr10_3 + ageyr10_4 + ageyr10_5'"
      ]
     },
     "execution_count": 59,
     "metadata": {},
     "output_type": "execute_result"
    }
   ],
   "source": [
    "' + '.join(cols0)"
   ]
  },
  {
   "cell_type": "code",
   "execution_count": 60,
   "metadata": {},
   "outputs": [
    {
     "name": "stdout",
     "output_type": "stream",
     "text": [
      "               Results: Generalized linear model\n",
      "================================================================\n",
      "Model:              GLM              AIC:            3525.5548  \n",
      "Link Function:      logit            BIC:            -29824.8974\n",
      "Dependent Variable: sexphys          Log-Likelihood: -1710.8    \n",
      "Date:               2019-05-05 17:07 LL-Null:        -2550.1    \n",
      "No. Observations:   4054             Deviance:       3421.6     \n",
      "Df Model:           51               Pearson chi2:   3.87e+03   \n",
      "Df Residuals:       4002             Scale:          1.0000     \n",
      "Method:             IRLS                                        \n",
      "----------------------------------------------------------------\n",
      "                 Coef.  Std.Err.    z     P>|z|   [0.025  0.975]\n",
      "----------------------------------------------------------------\n",
      "Intercept       -3.8903   0.3301 -11.7855 0.0000 -4.5372 -3.2433\n",
      "emotvio          2.2237   0.0913  24.3689 0.0000  2.0449  2.4026\n",
      "econviol         0.3832   0.1284   2.9854 0.0028  0.1316  0.6348\n",
      "Q515R            0.3111   0.1248   2.4926 0.0127  0.0665  0.5558\n",
      "Q513R            0.3841   0.1502   2.5574 0.0105  0.0897  0.6784\n",
      "mcv1006          0.3841   0.1002   3.8327 0.0001  0.1877  0.5805\n",
      "mcv1006a         0.1453   0.1186   1.2256 0.2204 -0.0871  0.3778\n",
      "mcv1006b         0.1694   0.1142   1.4839 0.1378 -0.0543  0.3932\n",
      "mcv1008          0.3705   0.1467   2.5263 0.0115  0.0831  0.6580\n",
      "men_alcohol_all  0.1384   0.1053   1.3144 0.1887 -0.0680  0.3448\n",
      "mcv1009          0.2048   0.1251   1.6364 0.1018 -0.0405  0.4501\n",
      "Fam_support     -0.3786   0.1142  -3.3145 0.0009 -0.6025 -0.1547\n",
      "Q516R           -0.1198   0.1897  -0.6316 0.5276 -0.4915  0.2519\n",
      "rQ701d          -0.1470   0.1838  -0.8000 0.4237 -0.5072  0.2132\n",
      "rQ701b          -0.3879   0.2215  -1.7514 0.0799 -0.8219  0.0462\n",
      "rQ701a           0.3665   0.2112   1.7352 0.0827 -0.0475  0.7805\n",
      "rQ701c           0.1153   0.1964   0.5871 0.5571 -0.2697  0.5003\n",
      "sQ601c           0.0093   0.1041   0.0897 0.9285 -0.1947  0.2134\n",
      "sQ601d           0.3082   0.1057   2.9152 0.0036  0.1010  0.5155\n",
      "tQ602d           0.0647   0.1253   0.5167 0.6053 -0.1808  0.3103\n",
      "justify          0.0691   0.1308   0.5286 0.5971 -0.1872  0.3255\n",
      "tQ602c           0.1061   0.1499   0.7080 0.4789 -0.1877  0.3999\n",
      "CONTROLNUM_1     0.1724   0.1173   1.4695 0.1417 -0.0575  0.4024\n",
      "CONTROLNUM_2     0.3851   0.1309   2.9424 0.0033  0.1286  0.6416\n",
      "CONTROLNUM_3     0.7728   0.1339   5.7699 0.0000  0.5103  1.0354\n",
      "Q702R_2          0.1848   0.0982   1.8808 0.0600 -0.0078  0.3773\n",
      "Q702R_3          0.7238   0.1382   5.2369 0.0000  0.4529  0.9947\n",
      "earlymarriage_0  0.0646   0.0809   0.7978 0.4250 -0.0940  0.2232\n",
      "earlymarriage_1  0.3868   0.1001   3.8652 0.0001  0.1906  0.5829\n",
      "edpart_1         0.3341   0.1493   2.2378 0.0252  0.0415  0.6266\n",
      "edpart_2         0.1711   0.1382   1.2382 0.2156 -0.0997  0.4419\n",
      "sumdiffage_1     0.4338   0.1411   3.0747 0.0021  0.1573  0.7104\n",
      "sumdiffage_2     0.0249   0.1232   0.2018 0.8401 -0.2166  0.2663\n",
      "sumdiffage_3     0.0461   0.1210   0.3807 0.7035 -0.1912  0.2833\n",
      "edresp_1         0.2414   0.1561   1.5469 0.1219 -0.0645  0.5473\n",
      "edresp_2         0.1660   0.1211   1.3711 0.1704 -0.0713  0.4034\n",
      "country_1        0.0140   0.1686   0.0831 0.9338 -0.3164  0.3445\n",
      "country_3        0.0275   0.1666   0.1651 0.8689 -0.2991  0.3541\n",
      "country_4        0.0388   0.1725   0.2248 0.8221 -0.2994  0.3770\n",
      "country_5       -0.0218   0.1751  -0.1246 0.9008 -0.3651  0.3215\n",
      "EP3_2            0.3044   0.1416   2.1506 0.0315  0.0270  0.5819\n",
      "EP3_3            0.3830   0.2103   1.8211 0.0686 -0.0292  0.7952\n",
      "EP3_4            0.0120   0.1564   0.0765 0.9390 -0.2946  0.3186\n",
      "FCMAR_0          0.2154   0.0987   2.1829 0.0290  0.0220  0.4087\n",
      "FCMAR_1          0.2360   0.0957   2.4650 0.0137  0.0483  0.4236\n",
      "SourceIncome_1   0.1973   0.1862   1.0592 0.2895 -0.1678  0.5623\n",
      "SourceIncome_2   0.2884   0.1356   2.1275 0.0334  0.0227  0.5541\n",
      "SourceIncome_4   0.1688   0.1344   1.2557 0.2092 -0.0947  0.4323\n",
      "SourceIncome_5   0.3723   0.1698   2.1930 0.0283  0.0396  0.7050\n",
      "ageyr10_2        0.4811   0.1585   3.0348 0.0024  0.1704  0.7917\n",
      "ageyr10_3        0.5349   0.1661   3.2206 0.0013  0.2094  0.8604\n",
      "ageyr10_4        0.3929   0.1754   2.2401 0.0251  0.0491  0.7367\n",
      "ageyr10_5        0.2990   0.1883   1.5881 0.1123 -0.0700  0.6679\n",
      "================================================================\n",
      "\n"
     ]
    }
   ],
   "source": [
    "model = sm.formula.glm(formula='''sexphys ~ emotvio + econviol + Q515R + Q513R + mcv1006 + mcv1006a + mcv1006b + mcv1008 + \n",
    "                        men_alcohol_all + mcv1009 + Fam_support + Q516R + rQ701d + rQ701b + rQ701a + rQ701c + sQ601c + \n",
    "                        sQ601d + tQ602d + justify + tQ602c + CONTROLNUM_1 + CONTROLNUM_2 + CONTROLNUM_3 + Q702R_2 + \n",
    "                        Q702R_3 + earlymarriage_0 + earlymarriage_1 + edpart_1 + edpart_2 + sumdiffage_1 + sumdiffage_2 + \n",
    "                        sumdiffage_3 + edresp_1 + edresp_2 + country_1 + country_3 + country_4 + country_5 + EP3_2 + \n",
    "                        EP3_3 + EP3_4 + FCMAR_0 + FCMAR_1 + SourceIncome_1 + SourceIncome_2 + SourceIncome_4 + \n",
    "                        SourceIncome_5 + ageyr10_2 + ageyr10_3 + ageyr10_4 + ageyr10_5''',\n",
    "                       family=sm.families.Binomial(), data=X_train_dummies.join(y_train)).fit()\n",
    "print(model.summary2())\n"
   ]
  },
  {
   "cell_type": "code",
   "execution_count": 61,
   "metadata": {},
   "outputs": [],
   "source": [
    "#Selection A. \n",
    "cols01 = list(model.pvalues[model.pvalues <=0.05].index)"
   ]
  },
  {
   "cell_type": "code",
   "execution_count": 62,
   "metadata": {},
   "outputs": [],
   "source": [
    "cols01.sort()\n",
    "cols01.remove(\"Intercept\")"
   ]
  },
  {
   "cell_type": "code",
   "execution_count": 63,
   "metadata": {},
   "outputs": [
    {
     "name": "stdout",
     "output_type": "stream",
     "text": [
      "['CONTROLNUM_2', 'CONTROLNUM_3', 'EP3_2', 'FCMAR_0', 'FCMAR_1', 'Fam_support', 'Q513R', 'Q515R', 'Q702R_3', 'SourceIncome_2', 'SourceIncome_5', 'ageyr10_2', 'ageyr10_3', 'ageyr10_4', 'earlymarriage_1', 'econviol', 'edpart_1', 'emotvio', 'mcv1006', 'mcv1008', 'sQ601d', 'sumdiffage_1']\n"
     ]
    }
   ],
   "source": [
    "print(cols01)"
   ]
  },
  {
   "cell_type": "code",
   "execution_count": 64,
   "metadata": {},
   "outputs": [
    {
     "data": {
      "text/plain": [
       "'CONTROLNUM_2 + CONTROLNUM_3 + EP3_2 + FCMAR_0 + FCMAR_1 + Fam_support + Q513R + Q515R + Q702R_3 + SourceIncome_2 + SourceIncome_5 + ageyr10_2 + ageyr10_3 + ageyr10_4 + earlymarriage_1 + econviol + edpart_1 + emotvio + mcv1006 + mcv1008 + sQ601d + sumdiffage_1'"
      ]
     },
     "execution_count": 64,
     "metadata": {},
     "output_type": "execute_result"
    }
   ],
   "source": [
    "' + '.join(cols01)"
   ]
  },
  {
   "cell_type": "code",
   "execution_count": 65,
   "metadata": {},
   "outputs": [],
   "source": [
    "#len(cols01)"
   ]
  },
  {
   "cell_type": "code",
   "execution_count": 66,
   "metadata": {},
   "outputs": [
    {
     "name": "stdout",
     "output_type": "stream",
     "text": [
      "               Results: Generalized linear model\n",
      "================================================================\n",
      "Model:              GLM              AIC:            3509.1917  \n",
      "Link Function:      logit            BIC:            -30024.1768\n",
      "Dependent Variable: sexphys          Log-Likelihood: -1731.6    \n",
      "Date:               2019-05-05 17:07 LL-Null:        -2550.1    \n",
      "No. Observations:   4054             Deviance:       3463.2     \n",
      "Df Model:           22               Pearson chi2:   3.94e+03   \n",
      "Df Residuals:       4031             Scale:          1.0000     \n",
      "Method:             IRLS                                        \n",
      "----------------------------------------------------------------\n",
      "                 Coef.  Std.Err.    z     P>|z|   [0.025  0.975]\n",
      "----------------------------------------------------------------\n",
      "Intercept       -3.0704   0.1891 -16.2370 0.0000 -3.4410 -2.6997\n",
      "CONTROLNUM_2     0.3849   0.1179   3.2632 0.0011  0.1537  0.6160\n",
      "CONTROLNUM_3     0.7544   0.1163   6.4867 0.0000  0.5264  0.9823\n",
      "EP3_2            0.2285   0.1095   2.0871 0.0369  0.0139  0.4431\n",
      "FCMAR_0          0.2462   0.1162   2.1193 0.0341  0.0185  0.4739\n",
      "FCMAR_1          0.3267   0.1302   2.5095 0.0121  0.0715  0.5819\n",
      "Fam_support     -0.3921   0.1111  -3.5310 0.0004 -0.6098 -0.1745\n",
      "Q513R            0.4313   0.1475   2.9247 0.0034  0.1423  0.7203\n",
      "Q515R            0.3541   0.1042   3.3999 0.0007  0.1500  0.5583\n",
      "Q702R_3          0.6323   0.1270   4.9774 0.0000  0.3833  0.8813\n",
      "SourceIncome_2   0.1749   0.1028   1.7007 0.0890 -0.0267  0.3764\n",
      "SourceIncome_5   0.2727   0.1395   1.9557 0.0505 -0.0006  0.5461\n",
      "ageyr10_2        0.2957   0.1206   2.4523 0.0142  0.0594  0.5321\n",
      "ageyr10_3        0.3252   0.1215   2.6767 0.0074  0.0871  0.5633\n",
      "ageyr10_4        0.1633   0.1264   1.2924 0.1962 -0.0844  0.4110\n",
      "earlymarriage_1  0.3648   0.1184   3.0808 0.0021  0.1327  0.5969\n",
      "econviol         0.4323   0.1249   3.4600 0.0005  0.1874  0.6771\n",
      "edpart_1         0.2515   0.0914   2.7519 0.0059  0.0724  0.4307\n",
      "emotvio          2.2750   0.0881  25.8366 0.0000  2.1024  2.4475\n",
      "mcv1006          0.4501   0.0966   4.6605 0.0000  0.2608  0.6394\n",
      "mcv1008          0.4290   0.1413   3.0372 0.0024  0.1522  0.7059\n",
      "sQ601d           0.3328   0.1002   3.3217 0.0009  0.1364  0.5291\n",
      "sumdiffage_1     0.4397   0.1142   3.8498 0.0001  0.2158  0.6635\n",
      "================================================================\n",
      "\n"
     ]
    }
   ],
   "source": [
    "model2 = sm.formula.glm(formula='''sexphys ~ CONTROLNUM_2 + CONTROLNUM_3 + EP3_2 + FCMAR_0 + FCMAR_1 + Fam_support + Q513R +\n",
    "                            Q515R + Q702R_3 + SourceIncome_2 + SourceIncome_5 + ageyr10_2 + ageyr10_3 + ageyr10_4 + \n",
    "                            earlymarriage_1 + econviol + edpart_1 + emotvio + mcv1006 + mcv1008 + sQ601d + sumdiffage_1''',\n",
    "                       family=sm.families.Binomial(), data=X_train_dummies.join(y_train)).fit()\n",
    "print(model2.summary2())"
   ]
  },
  {
   "cell_type": "code",
   "execution_count": 67,
   "metadata": {},
   "outputs": [],
   "source": [
    "cols02 = list(model2.pvalues[model2.pvalues <=0.01].index)\n",
    "cols02.remove('Intercept')\n",
    "cols02.sort()"
   ]
  },
  {
   "cell_type": "code",
   "execution_count": 68,
   "metadata": {},
   "outputs": [
    {
     "data": {
      "text/plain": [
       "'CONTROLNUM_2 + CONTROLNUM_3 + Fam_support + Q513R + Q515R + Q702R_3 + ageyr10_3 + earlymarriage_1 + econviol + edpart_1 + emotvio + mcv1006 + mcv1008 + sQ601d + sumdiffage_1'"
      ]
     },
     "execution_count": 68,
     "metadata": {},
     "output_type": "execute_result"
    }
   ],
   "source": [
    "' + '.join(cols02)"
   ]
  },
  {
   "cell_type": "code",
   "execution_count": 69,
   "metadata": {},
   "outputs": [
    {
     "name": "stdout",
     "output_type": "stream",
     "text": [
      "               Results: Generalized linear model\n",
      "================================================================\n",
      "Model:              GLM              AIC:            3516.1411  \n",
      "Link Function:      logit            BIC:            -30061.3797\n",
      "Dependent Variable: sexphys          Log-Likelihood: -1742.1    \n",
      "Date:               2019-05-05 17:07 LL-Null:        -2550.1    \n",
      "No. Observations:   4054             Deviance:       3484.1     \n",
      "Df Model:           15               Pearson chi2:   3.93e+03   \n",
      "Df Residuals:       4038             Scale:          1.0000     \n",
      "Method:             IRLS                                        \n",
      "----------------------------------------------------------------\n",
      "                 Coef.  Std.Err.    z     P>|z|   [0.025  0.975]\n",
      "----------------------------------------------------------------\n",
      "Intercept       -2.5947   0.1482 -17.5036 0.0000 -2.8852 -2.3042\n",
      "CONTROLNUM_2     0.3776   0.1174   3.2173 0.0013  0.1476  0.6076\n",
      "CONTROLNUM_3     0.7108   0.1140   6.2363 0.0000  0.4874  0.9343\n",
      "Fam_support     -0.3880   0.1104  -3.5136 0.0004 -0.6045 -0.1716\n",
      "Q513R            0.4440   0.1466   3.0291 0.0025  0.1567  0.7312\n",
      "Q515R            0.3422   0.1028   3.3304 0.0009  0.1408  0.5436\n",
      "Q702R_3          0.6434   0.1259   5.1107 0.0000  0.3966  0.8901\n",
      "ageyr10_3        0.1800   0.1000   1.8000 0.0719 -0.0160  0.3759\n",
      "earlymarriage_1  0.4251   0.1112   3.8231 0.0001  0.2072  0.6430\n",
      "econviol         0.4427   0.1244   3.5587 0.0004  0.1989  0.6866\n",
      "edpart_1         0.2336   0.0900   2.5968 0.0094  0.0573  0.4100\n",
      "emotvio          2.2753   0.0874  26.0352 0.0000  2.1040  2.4466\n",
      "mcv1006          0.4582   0.0962   4.7632 0.0000  0.2696  0.6467\n",
      "mcv1008          0.4339   0.1403   3.0921 0.0020  0.1589  0.7089\n",
      "sQ601d           0.3319   0.0994   3.3400 0.0008  0.1372  0.5267\n",
      "sumdiffage_1     0.4319   0.1126   3.8372 0.0001  0.2113  0.6525\n",
      "================================================================\n",
      "\n"
     ]
    }
   ],
   "source": [
    "model3 = sm.formula.glm(formula='''sexphys ~ CONTROLNUM_2 + CONTROLNUM_3 + Fam_support + Q513R + Q515R + Q702R_3 + \n",
    "                        ageyr10_3 + earlymarriage_1 + econviol + edpart_1 + emotvio + mcv1006 + mcv1008 + sQ601d + \n",
    "                        sumdiffage_1''',\n",
    "                       family=sm.families.Binomial(), data=X_train_dummies.join(y_train)).fit()\n",
    "print(model3.summary2())"
   ]
  },
  {
   "cell_type": "code",
   "execution_count": 70,
   "metadata": {},
   "outputs": [],
   "source": [
    "cols03 = list(model3.pvalues[model3.pvalues <=0.05].index)\n",
    "cols03.remove('Intercept')\n",
    "cols03.sort()"
   ]
  },
  {
   "cell_type": "code",
   "execution_count": 71,
   "metadata": {},
   "outputs": [
    {
     "data": {
      "text/plain": [
       "'CONTROLNUM_2 + CONTROLNUM_3 + Fam_support + Q513R + Q515R + Q702R_3 + earlymarriage_1 + econviol + edpart_1 + emotvio + mcv1006 + mcv1008 + sQ601d + sumdiffage_1'"
      ]
     },
     "execution_count": 71,
     "metadata": {},
     "output_type": "execute_result"
    }
   ],
   "source": [
    "' + '.join(cols03)"
   ]
  },
  {
   "cell_type": "code",
   "execution_count": 72,
   "metadata": {},
   "outputs": [
    {
     "name": "stdout",
     "output_type": "stream",
     "text": [
      "               Results: Generalized linear model\n",
      "================================================================\n",
      "Model:              GLM              AIC:            3517.3646  \n",
      "Link Function:      logit            BIC:            -30066.4636\n",
      "Dependent Variable: sexphys          Log-Likelihood: -1743.7    \n",
      "Date:               2019-05-05 17:07 LL-Null:        -2550.1    \n",
      "No. Observations:   4054             Deviance:       3487.4     \n",
      "Df Model:           14               Pearson chi2:   3.93e+03   \n",
      "Df Residuals:       4039             Scale:          1.0000     \n",
      "Method:             IRLS                                        \n",
      "----------------------------------------------------------------\n",
      "                 Coef.  Std.Err.    z     P>|z|   [0.025  0.975]\n",
      "----------------------------------------------------------------\n",
      "Intercept       -2.5485   0.1456 -17.5008 0.0000 -2.8339 -2.2631\n",
      "CONTROLNUM_2     0.3823   0.1171   3.2647 0.0011  0.1528  0.6119\n",
      "CONTROLNUM_3     0.7135   0.1140   6.2611 0.0000  0.4901  0.9368\n",
      "Fam_support     -0.3897   0.1104  -3.5300 0.0004 -0.6060 -0.1733\n",
      "Q513R            0.4399   0.1464   3.0057 0.0026  0.1531  0.7268\n",
      "Q515R            0.3410   0.1027   3.3203 0.0009  0.1397  0.5423\n",
      "Q702R_3          0.6436   0.1258   5.1138 0.0000  0.3969  0.8902\n",
      "earlymarriage_1  0.4196   0.1112   3.7729 0.0002  0.2016  0.6375\n",
      "econviol         0.4409   0.1243   3.5482 0.0004  0.1973  0.6844\n",
      "edpart_1         0.2317   0.0899   2.5760 0.0100  0.0554  0.4079\n",
      "emotvio          2.2749   0.0873  26.0520 0.0000  2.1037  2.4460\n",
      "mcv1006          0.4604   0.0962   4.7880 0.0000  0.2719  0.6488\n",
      "mcv1008          0.4363   0.1404   3.1077 0.0019  0.1611  0.7115\n",
      "sQ601d           0.3319   0.0993   3.3413 0.0008  0.1372  0.5266\n",
      "sumdiffage_1     0.4248   0.1124   3.7796 0.0002  0.2045  0.6451\n",
      "================================================================\n",
      "\n"
     ]
    }
   ],
   "source": [
    "model32 = sm.formula.glm(formula='''sexphys ~ CONTROLNUM_2 + CONTROLNUM_3 + Fam_support + Q513R + Q515R + Q702R_3 + \n",
    "                        earlymarriage_1 + econviol + edpart_1 + emotvio + mcv1006 + mcv1008 + sQ601d + sumdiffage_1''',\n",
    "                       family=sm.families.Binomial(), data=X_train_dummies.join(y_train)).fit()\n",
    "print(model32.summary2())"
   ]
  },
  {
   "cell_type": "code",
   "execution_count": 73,
   "metadata": {},
   "outputs": [],
   "source": [
    "cols032 = list(model32.pvalues[model32.pvalues <=0.05].index)\n",
    "cols032.remove('Intercept')\n",
    "cols032.sort()"
   ]
  },
  {
   "cell_type": "code",
   "execution_count": 74,
   "metadata": {},
   "outputs": [
    {
     "data": {
      "text/plain": [
       "False"
      ]
     },
     "execution_count": 74,
     "metadata": {},
     "output_type": "execute_result"
    }
   ],
   "source": [
    "cols02 == cols03"
   ]
  },
  {
   "cell_type": "code",
   "execution_count": 75,
   "metadata": {},
   "outputs": [
    {
     "data": {
      "text/plain": [
       "True"
      ]
     },
     "execution_count": 75,
     "metadata": {},
     "output_type": "execute_result"
    }
   ],
   "source": [
    "cols032 == cols03"
   ]
  },
  {
   "cell_type": "code",
   "execution_count": 76,
   "metadata": {},
   "outputs": [
    {
     "data": {
      "text/plain": [
       "14"
      ]
     },
     "execution_count": 76,
     "metadata": {},
     "output_type": "execute_result"
    }
   ],
   "source": [
    "len(cols03)"
   ]
  },
  {
   "cell_type": "markdown",
   "metadata": {},
   "source": [
    "#### -- Sklearn Chi2 selection"
   ]
  },
  {
   "cell_type": "code",
   "execution_count": 77,
   "metadata": {},
   "outputs": [
    {
     "data": {
      "text/plain": [
       "'CONTROLNUM_1 + CONTROLNUM_2 + CONTROLNUM_3 + EP3_2 + FCMAR_1 + Fam_support + Q513R + Q515R + Q516R + Q702R_2 + Q702R_3 + SourceIncome_2 + country_1 + earlymarriage_0 + earlymarriage_1 + econviol + edpart_1 + edresp_1 + emotvio + justify + mcv1006 + mcv1006a + mcv1006b + mcv1008 + mcv1009 + men_alcohol_all + rQ701d + sQ601c + sumdiffage_1 + tQ602c + tQ602d'"
      ]
     },
     "execution_count": 77,
     "metadata": {},
     "output_type": "execute_result"
    }
   ],
   "source": [
    "' + '.join(cols1)"
   ]
  },
  {
   "cell_type": "code",
   "execution_count": 78,
   "metadata": {},
   "outputs": [
    {
     "name": "stdout",
     "output_type": "stream",
     "text": [
      "               Results: Generalized linear model\n",
      "================================================================\n",
      "Model:              GLM              AIC:            3523.8313  \n",
      "Link Function:      logit            BIC:            -29952.7701\n",
      "Dependent Variable: sexphys          Log-Likelihood: -1729.9    \n",
      "Date:               2019-05-05 17:07 LL-Null:        -2550.1    \n",
      "No. Observations:   4054             Deviance:       3459.8     \n",
      "Df Model:           31               Pearson chi2:   3.88e+03   \n",
      "Df Residuals:       4022             Scale:          1.0000     \n",
      "Method:             IRLS                                        \n",
      "----------------------------------------------------------------\n",
      "                 Coef.  Std.Err.    z     P>|z|   [0.025  0.975]\n",
      "----------------------------------------------------------------\n",
      "Intercept       -2.8270   0.1960 -14.4215 0.0000 -3.2112 -2.4428\n",
      "CONTROLNUM_1     0.1866   0.1151   1.6214 0.1049 -0.0390  0.4121\n",
      "CONTROLNUM_2     0.3970   0.1280   3.1026 0.0019  0.1462  0.6478\n",
      "CONTROLNUM_3     0.7421   0.1280   5.7996 0.0000  0.4913  0.9928\n",
      "EP3_2            0.2139   0.1081   1.9785 0.0479  0.0020  0.4259\n",
      "FCMAR_1          0.0490   0.1250   0.3923 0.6948 -0.1959  0.2940\n",
      "Fam_support     -0.3694   0.1120  -3.2986 0.0010 -0.5889 -0.1499\n",
      "Q513R            0.3558   0.1485   2.3960 0.0166  0.0648  0.6469\n",
      "Q515R            0.3219   0.1233   2.6105 0.0090  0.0802  0.5636\n",
      "Q516R           -0.0719   0.1869  -0.3846 0.7006 -0.4382  0.2944\n",
      "Q702R_2          0.1668   0.0965   1.7289 0.0838 -0.0223  0.3559\n",
      "Q702R_3          0.7117   0.1363   5.2207 0.0000  0.4445  0.9789\n",
      "SourceIncome_2   0.1537   0.0965   1.5935 0.1111 -0.0354  0.3428\n",
      "country_1        0.0612   0.1107   0.5527 0.5805 -0.1557  0.2781\n",
      "earlymarriage_0  0.2115   0.1165   1.8162 0.0693 -0.0167  0.4398\n",
      "earlymarriage_1  0.5084   0.1456   3.4903 0.0005  0.2229  0.7938\n",
      "econviol         0.3981   0.1263   3.1519 0.0016  0.1506  0.6457\n",
      "edpart_1         0.2185   0.0969   2.2546 0.0242  0.0285  0.4084\n",
      "edresp_1         0.1143   0.1144   0.9987 0.3179 -0.1100  0.3386\n",
      "emotvio          2.2085   0.0893  24.7197 0.0000  2.0334  2.3836\n",
      "justify          0.0638   0.1288   0.4951 0.6205 -0.1886  0.3162\n",
      "mcv1006          0.3976   0.0987   4.0289 0.0001  0.2042  0.5911\n",
      "mcv1006a         0.1441   0.1171   1.2308 0.2184 -0.0854  0.3735\n",
      "mcv1006b         0.1520   0.1118   1.3589 0.1742 -0.0672  0.3712\n",
      "mcv1008          0.3655   0.1449   2.5225 0.0117  0.0815  0.6495\n",
      "mcv1009          0.2173   0.1236   1.7581 0.0787 -0.0249  0.4595\n",
      "men_alcohol_all  0.1409   0.1035   1.3610 0.1735 -0.0620  0.3437\n",
      "rQ701d          -0.0539   0.1132  -0.4764 0.6338 -0.2757  0.1679\n",
      "sQ601c           0.1047   0.0982   1.0668 0.2861 -0.0877  0.2972\n",
      "sumdiffage_1     0.4094   0.1143   3.5811 0.0003  0.1853  0.6335\n",
      "tQ602c           0.1183   0.1470   0.8047 0.4210 -0.1698  0.4065\n",
      "tQ602d           0.0815   0.1215   0.6712 0.5021 -0.1565  0.3196\n",
      "================================================================\n",
      "\n"
     ]
    }
   ],
   "source": [
    "model4 = sm.formula.glm(formula='''sexphys ~ CONTROLNUM_1 + CONTROLNUM_2 + CONTROLNUM_3 + EP3_2 + FCMAR_1 + Fam_support + \n",
    "                                Q513R + Q515R + Q516R + Q702R_2 + Q702R_3 + SourceIncome_2 + country_1 + earlymarriage_0 + \n",
    "                                earlymarriage_1 + econviol + edpart_1 + edresp_1 + emotvio + justify + mcv1006 + mcv1006a + \n",
    "                                mcv1006b + mcv1008 + mcv1009 + men_alcohol_all + rQ701d + sQ601c + sumdiffage_1 + tQ602c + \n",
    "                                tQ602d''',\n",
    "                       family=sm.families.Binomial(), data=X_train_dummies.join(y_train)).fit()\n",
    "print(model4.summary2())"
   ]
  },
  {
   "cell_type": "code",
   "execution_count": 79,
   "metadata": {},
   "outputs": [],
   "source": [
    "cols11 = list(model4.pvalues[model4.pvalues <=0.05].index)\n",
    "cols11.remove('Intercept')\n",
    "cols11.sort()"
   ]
  },
  {
   "cell_type": "code",
   "execution_count": 80,
   "metadata": {},
   "outputs": [
    {
     "data": {
      "text/plain": [
       "'CONTROLNUM_2 + CONTROLNUM_3 + EP3_2 + Fam_support + Q513R + Q515R + Q702R_3 + earlymarriage_1 + econviol + edpart_1 + emotvio + mcv1006 + mcv1008 + sumdiffage_1'"
      ]
     },
     "execution_count": 80,
     "metadata": {},
     "output_type": "execute_result"
    }
   ],
   "source": [
    "' + '.join(cols11)"
   ]
  },
  {
   "cell_type": "code",
   "execution_count": 81,
   "metadata": {},
   "outputs": [
    {
     "name": "stdout",
     "output_type": "stream",
     "text": [
      "               Results: Generalized linear model\n",
      "================================================================\n",
      "Model:              GLM              AIC:            3524.3462  \n",
      "Link Function:      logit            BIC:            -30059.4820\n",
      "Dependent Variable: sexphys          Log-Likelihood: -1747.2    \n",
      "Date:               2019-05-05 17:07 LL-Null:        -2550.1    \n",
      "No. Observations:   4054             Deviance:       3494.3     \n",
      "Df Model:           14               Pearson chi2:   3.94e+03   \n",
      "Df Residuals:       4039             Scale:          1.0000     \n",
      "Method:             IRLS                                        \n",
      "----------------------------------------------------------------\n",
      "                 Coef.  Std.Err.    z     P>|z|   [0.025  0.975]\n",
      "----------------------------------------------------------------\n",
      "Intercept       -2.3662   0.1286 -18.4058 0.0000 -2.6182 -2.1143\n",
      "CONTROLNUM_2     0.3675   0.1172   3.1367 0.0017  0.1379  0.5971\n",
      "CONTROLNUM_3     0.6957   0.1138   6.1114 0.0000  0.4726  0.9188\n",
      "EP3_2            0.2112   0.1008   2.0946 0.0362  0.0136  0.4088\n",
      "Fam_support     -0.3764   0.1101  -3.4190 0.0006 -0.5922 -0.1606\n",
      "Q513R            0.4217   0.1461   2.8869 0.0039  0.1354  0.7081\n",
      "Q515R            0.3452   0.1028   3.3596 0.0008  0.1438  0.5466\n",
      "Q702R_3          0.6504   0.1257   5.1748 0.0000  0.4041  0.8967\n",
      "earlymarriage_1  0.4275   0.1112   3.8456 0.0001  0.2096  0.6454\n",
      "econviol         0.4620   0.1240   3.7257 0.0002  0.2190  0.7050\n",
      "edpart_1         0.2551   0.0898   2.8394 0.0045  0.0790  0.4311\n",
      "emotvio          2.2690   0.0872  26.0351 0.0000  2.0982  2.4398\n",
      "mcv1006          0.4620   0.0960   4.8130 0.0000  0.2739  0.6502\n",
      "mcv1008          0.4353   0.1405   3.0987 0.0019  0.1600  0.7107\n",
      "sumdiffage_1     0.4207   0.1121   3.7513 0.0002  0.2009  0.6404\n",
      "================================================================\n",
      "\n"
     ]
    }
   ],
   "source": [
    "model5 = sm.formula.glm(formula='''sexphys ~ CONTROLNUM_2 + CONTROLNUM_3 + EP3_2 + Fam_support + Q513R + Q515R + Q702R_3 + \n",
    "                            earlymarriage_1 + econviol + edpart_1 + emotvio + mcv1006 + mcv1008 + sumdiffage_1''',\n",
    "                       family=sm.families.Binomial(), data=X_train_dummies.join(y_train)).fit()\n",
    "print(model5.summary2())"
   ]
  },
  {
   "cell_type": "code",
   "execution_count": 82,
   "metadata": {},
   "outputs": [],
   "source": [
    "cols12 = list(model5.pvalues[model5.pvalues <=0.05].index)\n",
    "cols12.remove('Intercept')\n",
    "cols12.sort()"
   ]
  },
  {
   "cell_type": "code",
   "execution_count": 83,
   "metadata": {},
   "outputs": [
    {
     "data": {
      "text/plain": [
       "'CONTROLNUM_2 + CONTROLNUM_3 + EP3_2 + Fam_support + Q513R + Q515R + Q702R_3 + earlymarriage_1 + econviol + edpart_1 + emotvio + mcv1006 + mcv1008 + sumdiffage_1'"
      ]
     },
     "execution_count": 83,
     "metadata": {},
     "output_type": "execute_result"
    }
   ],
   "source": [
    "' + '.join(cols12)"
   ]
  },
  {
   "cell_type": "code",
   "execution_count": 84,
   "metadata": {},
   "outputs": [
    {
     "name": "stdout",
     "output_type": "stream",
     "text": [
      "               Results: Generalized linear model\n",
      "================================================================\n",
      "Model:              GLM              AIC:            3524.3462  \n",
      "Link Function:      logit            BIC:            -30059.4820\n",
      "Dependent Variable: sexphys          Log-Likelihood: -1747.2    \n",
      "Date:               2019-05-05 17:07 LL-Null:        -2550.1    \n",
      "No. Observations:   4054             Deviance:       3494.3     \n",
      "Df Model:           14               Pearson chi2:   3.94e+03   \n",
      "Df Residuals:       4039             Scale:          1.0000     \n",
      "Method:             IRLS                                        \n",
      "----------------------------------------------------------------\n",
      "                 Coef.  Std.Err.    z     P>|z|   [0.025  0.975]\n",
      "----------------------------------------------------------------\n",
      "Intercept       -2.3662   0.1286 -18.4058 0.0000 -2.6182 -2.1143\n",
      "CONTROLNUM_2     0.3675   0.1172   3.1367 0.0017  0.1379  0.5971\n",
      "CONTROLNUM_3     0.6957   0.1138   6.1114 0.0000  0.4726  0.9188\n",
      "EP3_2            0.2112   0.1008   2.0946 0.0362  0.0136  0.4088\n",
      "Fam_support     -0.3764   0.1101  -3.4190 0.0006 -0.5922 -0.1606\n",
      "Q513R            0.4217   0.1461   2.8869 0.0039  0.1354  0.7081\n",
      "Q515R            0.3452   0.1028   3.3596 0.0008  0.1438  0.5466\n",
      "Q702R_3          0.6504   0.1257   5.1748 0.0000  0.4041  0.8967\n",
      "earlymarriage_1  0.4275   0.1112   3.8456 0.0001  0.2096  0.6454\n",
      "econviol         0.4620   0.1240   3.7257 0.0002  0.2190  0.7050\n",
      "edpart_1         0.2551   0.0898   2.8394 0.0045  0.0790  0.4311\n",
      "emotvio          2.2690   0.0872  26.0351 0.0000  2.0982  2.4398\n",
      "mcv1006          0.4620   0.0960   4.8130 0.0000  0.2739  0.6502\n",
      "mcv1008          0.4353   0.1405   3.0987 0.0019  0.1600  0.7107\n",
      "sumdiffage_1     0.4207   0.1121   3.7513 0.0002  0.2009  0.6404\n",
      "================================================================\n",
      "\n"
     ]
    }
   ],
   "source": [
    "model6 = sm.formula.glm(formula='''sexphys ~ CONTROLNUM_2 + CONTROLNUM_3 + EP3_2 + Fam_support + Q513R + Q515R + Q702R_3 + \n",
    "                            earlymarriage_1 + econviol + edpart_1 + emotvio + mcv1006 + mcv1008 + sumdiffage_1''',\n",
    "                       family=sm.families.Binomial(), data=X_train_dummies.join(y_train)).fit()\n",
    "print(model6.summary2())"
   ]
  },
  {
   "cell_type": "code",
   "execution_count": 85,
   "metadata": {},
   "outputs": [],
   "source": [
    "cols13 = list(model6.pvalues[model6.pvalues <=0.05].index)\n",
    "cols13.remove('Intercept')\n",
    "cols13.sort()"
   ]
  },
  {
   "cell_type": "code",
   "execution_count": 86,
   "metadata": {},
   "outputs": [
    {
     "data": {
      "text/plain": [
       "True"
      ]
     },
     "execution_count": 86,
     "metadata": {},
     "output_type": "execute_result"
    }
   ],
   "source": [
    "cols12==cols13"
   ]
  },
  {
   "cell_type": "code",
   "execution_count": 87,
   "metadata": {},
   "outputs": [
    {
     "data": {
      "text/plain": [
       "14"
      ]
     },
     "execution_count": 87,
     "metadata": {},
     "output_type": "execute_result"
    }
   ],
   "source": [
    "len(cols13)"
   ]
  },
  {
   "cell_type": "markdown",
   "metadata": {},
   "source": [
    "### Create the dummies data for validation and test set"
   ]
  },
  {
   "cell_type": "code",
   "execution_count": 88,
   "metadata": {},
   "outputs": [],
   "source": [
    "def dummies(df):    \n",
    "    df_reduced = df[list(All_sign.variable)].copy() \n",
    "\n",
    "    for var in nominal_var:\n",
    "        df_reduced[var] = df_reduced[var].astype('category')  ### Might need to consider reduced for the multilevel regression\n",
    "\n",
    "    df_dummies = pd.get_dummies(df_reduced)\n",
    "    \n",
    "    return df_dummies\n"
   ]
  },
  {
   "cell_type": "code",
   "execution_count": 89,
   "metadata": {},
   "outputs": [],
   "source": [
    "X_val_dummies = dummies(X_val)"
   ]
  },
  {
   "cell_type": "code",
   "execution_count": 90,
   "metadata": {},
   "outputs": [],
   "source": [
    "X_test_dummies = dummies(X_test)"
   ]
  },
  {
   "cell_type": "code",
   "execution_count": 91,
   "metadata": {},
   "outputs": [],
   "source": [
    "#X_test_dummies.head()"
   ]
  },
  {
   "cell_type": "code",
   "execution_count": 92,
   "metadata": {},
   "outputs": [],
   "source": [
    "from sklearn.model_selection import PredefinedSplit"
   ]
  },
  {
   "cell_type": "code",
   "execution_count": 93,
   "metadata": {},
   "outputs": [],
   "source": [
    "fold = np.array([-1 for x in range(X_train_dummies.shape[0])] + [0 for x in range(X_val_dummies.shape[0])])\n",
    "ps = PredefinedSplit(test_fold=fold)"
   ]
  },
  {
   "cell_type": "code",
   "execution_count": 94,
   "metadata": {},
   "outputs": [],
   "source": [
    "#Drop columns based on theory and chi2 contingency\n",
    "X_val_dummies.drop(columns=['earlymarriage_9', 'edpart_3', 'sumdiffage_4', 'edresp_3', 'country_2', 'EP3_1', 'FCMAR_9', \n",
    "                              'ageyr10_1', 'SourceIncome_3', 'Q702R_1', 'CONTROLNUM_0'], inplace=True)"
   ]
  },
  {
   "cell_type": "code",
   "execution_count": 95,
   "metadata": {},
   "outputs": [],
   "source": [
    "#Drop columns based on theory and chi2 contingency\n",
    "X_test_dummies.drop(columns=['earlymarriage_9', 'edpart_3', 'sumdiffage_4', 'edresp_3', 'country_2', 'EP3_1', 'FCMAR_9', \n",
    "                              'ageyr10_1', 'SourceIncome_3', 'Q702R_1', 'CONTROLNUM_0'], inplace=True)"
   ]
  },
  {
   "cell_type": "code",
   "execution_count": 96,
   "metadata": {},
   "outputs": [],
   "source": [
    "X_all_dummies = pd.concat([X_train_dummies, X_val_dummies]) #pd.concat([X_train_dummies[cols2], X_val_dummies[cols2] ])\n",
    "X_all_dummies = X_all_dummies.reset_index()\n",
    "X_all_dummies = X_all_dummies.drop(labels='index', axis=1)\n",
    "\n",
    "y_all = pd.concat([y_train, y_val])\n",
    "#y_all = y_all.reset_index()\n",
    "#y_all = y_all.drop(labels='index', axis=1)"
   ]
  },
  {
   "cell_type": "code",
   "execution_count": 97,
   "metadata": {},
   "outputs": [],
   "source": [
    "#y_all.tail(10)"
   ]
  },
  {
   "cell_type": "code",
   "execution_count": 98,
   "metadata": {},
   "outputs": [],
   "source": [
    "#y_val.tail(10)"
   ]
  },
  {
   "cell_type": "markdown",
   "metadata": {},
   "source": [
    "# MODEL TRAINING"
   ]
  },
  {
   "cell_type": "markdown",
   "metadata": {},
   "source": [
    "## 1. LOGISTIC REGRESSION CLASSIFIER"
   ]
  },
  {
   "cell_type": "code",
   "execution_count": 99,
   "metadata": {},
   "outputs": [],
   "source": [
    "from sklearn.model_selection import GridSearchCV, PredefinedSplit\n",
    "from sklearn.preprocessing import StandardScaler, MinMaxScaler\n",
    "from sklearn.linear_model import LogisticRegression\n",
    "from sklearn.pipeline import Pipeline, make_pipeline\n",
    "#from sklearn.pipeline import make_pipeline\n",
    "#from sklearn.model_selection import PredefinedSplit"
   ]
  },
  {
   "cell_type": "code",
   "execution_count": 100,
   "metadata": {},
   "outputs": [],
   "source": [
    "#define a learning curve function\n",
    "\n",
    "from sklearn.model_selection import learning_curve\n",
    "\n",
    "def l_curve(estimator, df_train, df_target, title):\n",
    "    train_sizes, train_scores, test_scores =\\\n",
    "                    learning_curve(estimator=estimator,\n",
    "                                   X=df_train,  #Need to add a scorer related to recall\n",
    "                                   y=df_target,\n",
    "                                   train_sizes=np.linspace(0.1, 1.0, 10),\n",
    "                                   cv=ps,\n",
    "                                   scoring='roc_auc',\n",
    "                                   n_jobs=1)\n",
    "\n",
    "    train_mean = np.mean(train_scores, axis=1)\n",
    "    train_std = np.std(train_scores, axis=1)\n",
    "    test_mean = np.mean(test_scores, axis=1)\n",
    "    test_std = np.std(test_scores, axis=1)\n",
    "\n",
    "    plt.plot(train_sizes, train_mean,\n",
    "             color='blue', marker='o',\n",
    "             markersize=5, label='training accuracy')\n",
    "\n",
    "    plt.fill_between(train_sizes,\n",
    "                     train_mean + train_std,\n",
    "                     train_mean - train_std,\n",
    "                     alpha=0.15, color='blue')\n",
    "\n",
    "    plt.plot(train_sizes, test_mean,\n",
    "             color='green', linestyle='--',\n",
    "             marker='s', markersize=5,\n",
    "             label='validation accuracy')\n",
    "\n",
    "    plt.fill_between(train_sizes,\n",
    "                     test_mean + test_std,\n",
    "                     test_mean - test_std,\n",
    "                     alpha=0.15, color='green')\n",
    "\n",
    "    plt.grid()\n",
    "    plt.xlabel('Number of training samples')\n",
    "    plt.ylabel('Accuracy')\n",
    "    plt.legend(loc='lower right')\n",
    "    plt.ylim([0.5, 1.03])\n",
    "    plt.tight_layout()\n",
    "    plt.title(title)\n",
    "    plt.show()\n",
    "    #return train_sizes, train_scores, test_scores"
   ]
  },
  {
   "cell_type": "code",
   "execution_count": 101,
   "metadata": {},
   "outputs": [],
   "source": [
    "#Define a function to create the confusion matrix\n",
    "\n",
    "from sklearn.metrics import confusion_matrix\n",
    "\n",
    "def conf_mat (estimator, np_train, np_test, title, y_true=y_val):\n",
    "    clf = estimator\n",
    "    clf.fit(np_train, y_train)\n",
    "    y_pred = clf.predict(np_test)\n",
    "    confmat = confusion_matrix(y_true=y_val, y_pred=y_pred)\n",
    "\n",
    "    fig, ax = plt.subplots(figsize=(5, 5))\n",
    "    ax.matshow(confmat, cmap=plt.cm.Blues, alpha=0.3)\n",
    "    for i in range(confmat.shape[0]):\n",
    "        for j in range(confmat.shape[1]):\n",
    "            ax.text(x=j, y=i,\n",
    "            s=confmat[i, j],\n",
    "            va='center', ha='center')\n",
    "    plt.xlabel('predicted label')\n",
    "    plt.ylabel('true label')\n",
    "    plt.title(title)\n",
    "    plt.show()"
   ]
  },
  {
   "cell_type": "code",
   "execution_count": 102,
   "metadata": {},
   "outputs": [],
   "source": [
    "# Create a function to calculate the scores\n",
    "\n",
    "from sklearn.metrics import classification_report, f1_score\n",
    "\n",
    "#from sklearn.metrics import precision_score\n",
    "#from sklearn.metrics import recall_score, f1_score\n",
    "from sklearn.metrics import roc_curve\n",
    "from sklearn.metrics import roc_auc_score, accuracy_score\n",
    "\n",
    "def different_scores (estimator, np_train, np_test, title, y=y_val):\n",
    "    \n",
    "    #instantiate the classifier and do predictions\n",
    "    clf = estimator\n",
    "    clf.fit(np_train, y_train)\n",
    "    y_pred = clf.predict(np_test)\n",
    "    \n",
    "    print(classification_report(y, y_pred, target_names=['no', 'yes']))  #sample_weight=[0.33, 0.67]\n",
    "    \n",
    "    #precision_score(y_true=y, y_pred=y_pred)\n",
    "    '''#print the different scores \n",
    "    print('Precision: %.3f' % precision_score(\n",
    "    y_true=y, y_pred=y_pred))\n",
    "    print('Recall: %.3f' % recall_score(\n",
    "    y_true=y, y_pred=y_pred))\n",
    "    print('F1: %.3f' % f1_score(\n",
    "    y_true=y, y_pred=y_pred))'''\n",
    "    print('Accuracy: %.3f' % accuracy_score(\n",
    "    y_true=y, y_pred=y_pred))\n",
    "    \n",
    "    #create the AUC \n",
    "    \n",
    "    auc = roc_auc_score(y, clf.predict_proba(np_test)[:,1])#y_pred)average='micro'\n",
    "    fpr, tpr, thresholds = roc_curve(y, clf.predict_proba(np_test)[:,1])\n",
    "    plt.figure()\n",
    "    plt.plot(fpr, tpr, label='AUC = %0.3f' % auc)\n",
    "    plt.plot([0, 1], [0, 1],'r--')\n",
    "    plt.xlim([0.0, 1.0])\n",
    "    plt.ylim([0.0, 1.05])\n",
    "    plt.xlabel('False Positive Rate')\n",
    "    plt.ylabel('True Positive Rate')\n",
    "    plt.title('Receiver Operating Characteristic - '+title)\n",
    "    plt.legend(loc=\"lower right\")\n",
    "    #plt.savefig('Log_ROC')\n",
    "    plt.show()"
   ]
  },
  {
   "cell_type": "markdown",
   "metadata": {},
   "source": [
    "## 6. MLP"
   ]
  },
  {
   "cell_type": "code",
   "execution_count": 103,
   "metadata": {},
   "outputs": [
    {
     "data": {
      "text/plain": [
       "<torch._C.Generator at 0x2a097462d30>"
      ]
     },
     "execution_count": 103,
     "metadata": {},
     "output_type": "execute_result"
    }
   ],
   "source": [
    "#----------------    Importing packages\n",
    "\n",
    "import torch\n",
    "import torchvision\n",
    "import torchvision.transforms as transforms\n",
    "import matplotlib.pyplot as plt\n",
    "import numpy as np\n",
    "import torch.nn as nn\n",
    "import torch.nn.functional as F\n",
    "import torch.optim as optim\n",
    "from torch.autograd import Variable\n",
    "from torchvision import transforms\n",
    "from torch.utils.data import DataLoader, Dataset, TensorDataset\n",
    "from time import clock\n",
    "#from tensorboardX import SummaryWriter\n",
    "from sklearn import metrics\n",
    "from sklearn.preprocessing import label_binarize\n",
    "import pandas as pd\n",
    "\n",
    "\n",
    "torch.backends.cudnn.deterministic = True\n",
    "torch.manual_seed(999)"
   ]
  },
  {
   "cell_type": "code",
   "execution_count": 104,
   "metadata": {},
   "outputs": [],
   "source": [
    "# ----------- Initialization of some key variables\n",
    "#  Write models outputs in tensorboard files\n",
    "#writer_train = SummaryWriter('runsLN/models')\n",
    "\n",
    "batch_size = 64\n",
    "epochs = 20\n",
    "\n",
    "#--------------------      Data preprocessing\n",
    "is_cuda=False\n",
    "if torch.cuda.is_available():\n",
    "    is_cuda = True"
   ]
  },
  {
   "cell_type": "code",
   "execution_count": 105,
   "metadata": {},
   "outputs": [],
   "source": [
    "def customDataset(df_X, df_y, batch_size=batch_size):\n",
    "    X_tensor = torch.tensor(df_X.values)\n",
    "    X_tensor = X_tensor.type(torch.FloatTensor)\n",
    "    y_tensor = torch.tensor(df_y.values)\n",
    "    \n",
    "    dataset_tensor = TensorDataset(X_tensor, y_tensor)\n",
    "    dataset_loader = DataLoader(dataset=dataset_tensor, batch_size=batch_size, shuffle=True)\n",
    "    return dataset_loader\n",
    "    "
   ]
  },
  {
   "cell_type": "markdown",
   "metadata": {},
   "source": [
    "## SET 2"
   ]
  },
  {
   "cell_type": "code",
   "execution_count": 106,
   "metadata": {},
   "outputs": [],
   "source": [
    "train_loader = customDataset(X_train_dummies[cols03], y_train)\n",
    "train_iter = iter(train_loader)"
   ]
  },
  {
   "cell_type": "code",
   "execution_count": 107,
   "metadata": {},
   "outputs": [
    {
     "name": "stdout",
     "output_type": "stream",
     "text": [
      "inputs shape on batch size = torch.Size([64, 14])\n",
      "labels shape on batch size = torch.Size([64])\n"
     ]
    }
   ],
   "source": [
    "inputs, labels = train_iter.next()\n",
    "\n",
    "print('inputs shape on batch size = {}'.format(inputs.size()))\n",
    "print('labels shape on batch size = {}'.format(labels.size()))"
   ]
  },
  {
   "cell_type": "code",
   "execution_count": 108,
   "metadata": {},
   "outputs": [],
   "source": [
    "val_loader = customDataset(X_val_dummies[cols03], y_val)\n",
    "val_iter = iter(val_loader)"
   ]
  },
  {
   "cell_type": "code",
   "execution_count": 109,
   "metadata": {},
   "outputs": [
    {
     "data": {
      "text/plain": [
       "14"
      ]
     },
     "execution_count": 109,
     "metadata": {},
     "output_type": "execute_result"
    }
   ],
   "source": [
    "len(cols03)"
   ]
  },
  {
   "cell_type": "code",
   "execution_count": 110,
   "metadata": {},
   "outputs": [],
   "source": [
    "#cols02"
   ]
  },
  {
   "cell_type": "code",
   "execution_count": 111,
   "metadata": {},
   "outputs": [],
   "source": [
    "# Choose the right values for x.\n",
    "input_size = 14\n",
    "hidden_size = 8\n",
    "hidden_size2 = 4\n",
    "num_classes = 2\n",
    "num_epochs = 20\n",
    "#batch_size = 100\n",
    "learning_rate = 0.001"
   ]
  },
  {
   "cell_type": "code",
   "execution_count": 112,
   "metadata": {},
   "outputs": [],
   "source": [
    "class Net(nn.Module):\n",
    "    def __init__(self, input_size, hidden_size, hidden_size2, num_classes):\n",
    "        super(Net, self).__init__()\n",
    "        self.fc1 = nn.Linear(input_size, hidden_size)\n",
    "        self.relu = nn.ReLU()\n",
    "        self.fcM = nn.Linear(hidden_size, hidden_size2)\n",
    "        self.relu = nn.ReLU()\n",
    "        self.fc2 = nn.Linear(hidden_size2, num_classes)\n",
    "        self.lr = nn.Sigmoid()\n",
    "\n",
    "    def forward(self, x):\n",
    "        out = self.fc1(x)\n",
    "        out = self.relu(out)\n",
    "        out = self.fcM(out)\n",
    "        out = self.relu(out)\n",
    "        out = self.fc2(out)\n",
    "        out = self.lr(out)\n",
    "        return out"
   ]
  },
  {
   "cell_type": "code",
   "execution_count": 113,
   "metadata": {},
   "outputs": [],
   "source": [
    "net = Net(input_size, hidden_size, hidden_size2, num_classes)\n",
    "\n",
    "if is_cuda:\n",
    "    net.cuda()"
   ]
  },
  {
   "cell_type": "code",
   "execution_count": 114,
   "metadata": {},
   "outputs": [],
   "source": [
    "# Loss and Optimizer\n",
    "\n",
    "#learning_rate = 0.001\n",
    "#weights = [0.4, 1]\n",
    "#class_weights=torch.FloatTensor(weights).cuda()   # might need to add is cuda\n",
    "class_weights=torch.FloatTensor([0.33, 0.67])\n",
    "criterion = nn.CrossEntropyLoss(weight=class_weights)\n",
    "\n",
    "#criterion = F.cross_entropy()\n",
    "optimizer = torch.optim.Adam(net.parameters(), lr=learning_rate)\n",
    "# -----------------------------------------------------------------------------------"
   ]
  },
  {
   "cell_type": "code",
   "execution_count": 115,
   "metadata": {},
   "outputs": [],
   "source": [
    "#   Training of the model\n",
    "#   A. Design the setup\n",
    "def fit(epoch, model, data_loader, opti, phase='training', volatile=False):\n",
    "    if phase == 'training':\n",
    "        model.train()\n",
    "    if phase == 'validation':\n",
    "        model.eval()\n",
    "        volatile = True\n",
    "    \n",
    "    running_loss = 0.0\n",
    "    running_correct = 0\n",
    "    \n",
    "    y_score1 = np.empty([0]) #\n",
    "    y_true1 = np.empty([0])  #\n",
    "    y_pred1 = np.empty([0])\n",
    "    \n",
    "    for batch_idx, (data, target) in enumerate(data_loader):\n",
    "\n",
    "        if is_cuda:\n",
    "            data, target = data.cuda(), target.cuda()\n",
    "        data, target = Variable(data, volatile), Variable(target)\n",
    "\n",
    "        if phase == 'training':\n",
    "            opti.zero_grad()\n",
    "        output = model(data)\n",
    "        #loss = F.nll_loss(output, target)\n",
    "        loss = criterion(output, target)\n",
    "\n",
    "        #running_loss += F.nll_loss(output, target, reduction='sum').data.item()\n",
    "        running_loss += criterion(output, target).cpu().data.item()\n",
    "        preds = output.data.max(dim=1, keepdim=True)[1]\n",
    "        \n",
    "        _, pred = torch.max(output.data, 1)\n",
    "        \n",
    "        running_correct += preds.eq(target.data.view_as(preds)).cpu().sum()\n",
    "        if phase == 'training':\n",
    "            loss.backward()\n",
    "            opti.step()\n",
    "        \n",
    "        y_score1 = np.concatenate((y_score1, output.detach().cpu().numpy()[:, 1]), axis=None) #\n",
    "        y_true1 = np.concatenate((y_true1, target.data.cpu().numpy()), axis=None)\n",
    "        y_pred1 = np.concatenate((y_pred1, pred.data.cpu().numpy()), axis=None)\n",
    "        \n",
    "    auc1 = roc_auc_score(y_true1, y_score1) #\n",
    "    #print(y_true1)\n",
    "    #print(y_pred1)\n",
    "    fscore = f1_score(y_true1, y_pred1)\n",
    "\n",
    "    loss = running_loss / len(data_loader.dataset)\n",
    "    accuracy = 100. * running_correct / len(data_loader.dataset)\n",
    "\n",
    "    print(\n",
    "        '{} loss is {} and {} accuracy is {}/{}, {}'.format(phase, loss, phase, running_correct, len(data_loader.dataset), accuracy ))\n",
    "    \n",
    "    print(\n",
    "        '{} AUC is {}'.format(phase, auc1))\n",
    "    \n",
    "    print('F1: %.3f' % fscore)\n",
    "    print('________________')\n",
    "    return loss, accuracy, auc1, fscore\n",
    "# -----------------------------------------------------------------------------------"
   ]
  },
  {
   "cell_type": "code",
   "execution_count": 116,
   "metadata": {},
   "outputs": [
    {
     "data": {
      "text/plain": [
       "Net(\n",
       "  (fc1): Linear(in_features=14, out_features=8, bias=True)\n",
       "  (relu): ReLU()\n",
       "  (fcM): Linear(in_features=8, out_features=4, bias=True)\n",
       "  (fc2): Linear(in_features=4, out_features=2, bias=True)\n",
       "  (lr): Sigmoid()\n",
       ")"
      ]
     },
     "execution_count": 116,
     "metadata": {},
     "output_type": "execute_result"
    }
   ],
   "source": [
    "#  C. Training final preparation\n",
    "\n",
    "# ----- Weight initialization\n",
    "def init_weights(m):\n",
    "    if type(m) == nn.Linear:\n",
    "        torch.nn.init.xavier_normal_(m.weight)\n",
    "        #m.bias.data.fill_(0.01)\n",
    "\n",
    "net.apply(init_weights)"
   ]
  },
  {
   "cell_type": "code",
   "execution_count": 117,
   "metadata": {},
   "outputs": [],
   "source": [
    "# ----- Learning rate regularization\n",
    "#####  NEED TO CHANGE THE patience\n",
    "scheduler = optim.lr_scheduler.ReduceLROnPlateau(optimizer, mode='max', patience=2, verbose=True)"
   ]
  },
  {
   "cell_type": "code",
   "execution_count": 118,
   "metadata": {},
   "outputs": [],
   "source": [
    "#val_loader.dataset.tensors[0].shape"
   ]
  },
  {
   "cell_type": "code",
   "execution_count": 119,
   "metadata": {},
   "outputs": [
    {
     "name": "stdout",
     "output_type": "stream",
     "text": [
      "training loss is 0.010777600083847498 and training accuracy is 2379/4054, 58\n",
      "training AUC is 0.4924837297064877\n",
      "F1: 0.485\n",
      "________________\n",
      "validation loss is 0.010903530277234638 and validation accuracy is 494/869, 56\n",
      "validation AUC is 0.5684877516371574\n",
      "F1: 0.538\n",
      "________________\n",
      "training loss is 0.010464854630332424 and training accuracy is 2417/4054, 59\n",
      "training AUC is 0.671032128698474\n",
      "F1: 0.578\n",
      "________________\n",
      "validation loss is 0.010559459481606961 and validation accuracy is 540/869, 62\n",
      "validation AUC is 0.7385459616783895\n",
      "F1: 0.608\n",
      "________________\n",
      "training loss is 0.010114474695306372 and training accuracy is 2631/4054, 64\n",
      "training AUC is 0.784933506437846\n",
      "F1: 0.622\n",
      "________________\n",
      "validation loss is 0.010226626116332306 and validation accuracy is 601/869, 69\n",
      "validation AUC is 0.7969803541110841\n",
      "F1: 0.643\n",
      "________________\n",
      "training loss is 0.009762223095039928 and training accuracy is 2961/4054, 73\n",
      "training AUC is 0.8132746392148513\n",
      "F1: 0.670\n",
      "________________\n",
      "validation loss is 0.009864968040870167 and validation accuracy is 643/869, 73\n",
      "validation AUC is 0.8102959010429298\n",
      "F1: 0.669\n",
      "________________\n",
      "training loss is 0.009389316970983278 and training accuracy is 3094/4054, 76\n",
      "training AUC is 0.825078724982293\n",
      "F1: 0.691\n",
      "________________\n",
      "validation loss is 0.009517327894138384 and validation accuracy is 664/869, 76\n",
      "validation AUC is 0.8188758185787048\n",
      "F1: 0.683\n",
      "________________\n",
      "training loss is 0.009035646371436813 and training accuracy is 3170/4054, 78\n",
      "training AUC is 0.8287872526059603\n",
      "F1: 0.705\n",
      "________________\n",
      "validation loss is 0.009162869840277352 and validation accuracy is 670/869, 77\n",
      "validation AUC is 0.8151528013582343\n",
      "F1: 0.686\n",
      "________________\n",
      "training loss is 0.008701214832393889 and training accuracy is 3202/4054, 78\n",
      "training AUC is 0.8304061415922555\n",
      "F1: 0.711\n",
      "________________\n",
      "validation loss is 0.008893459075065148 and validation accuracy is 678/869, 78\n",
      "validation AUC is 0.8225563909774437\n",
      "F1: 0.694\n",
      "________________\n",
      "training loss is 0.008475956647162022 and training accuracy is 3229/4054, 79\n",
      "training AUC is 0.8363012964748742\n",
      "F1: 0.715\n",
      "________________\n",
      "validation loss is 0.008738673014525578 and validation accuracy is 679/869, 78\n",
      "validation AUC is 0.8341074460344409\n",
      "F1: 0.696\n",
      "________________\n",
      "training loss is 0.008335802110475334 and training accuracy is 3223/4054, 79\n",
      "training AUC is 0.841430422144019\n",
      "F1: 0.714\n",
      "________________\n",
      "validation loss is 0.008669077424103153 and validation accuracy is 684/869, 78\n",
      "validation AUC is 0.8351321853019645\n",
      "F1: 0.698\n",
      "________________\n",
      "training loss is 0.008255875384095977 and training accuracy is 3233/4054, 79\n",
      "training AUC is 0.841925384162607\n",
      "F1: 0.713\n",
      "________________\n",
      "validation loss is 0.008558650285657174 and validation accuracy is 685/869, 78\n",
      "validation AUC is 0.8376424933300994\n",
      "F1: 0.701\n",
      "________________\n",
      "training loss is 0.00822766417785413 and training accuracy is 3238/4054, 79\n",
      "training AUC is 0.844247823322076\n",
      "F1: 0.715\n",
      "________________\n",
      "validation loss is 0.008531058753730239 and validation accuracy is 687/869, 79\n",
      "validation AUC is 0.8385459616783895\n",
      "F1: 0.703\n",
      "________________\n",
      "training loss is 0.008196052603081759 and training accuracy is 3237/4054, 79\n",
      "training AUC is 0.8446725138142688\n",
      "F1: 0.715\n",
      "________________\n",
      "validation loss is 0.008548653269801781 and validation accuracy is 688/869, 79\n",
      "validation AUC is 0.8409956342469076\n",
      "F1: 0.705\n",
      "________________\n",
      "training loss is 0.008129585271523866 and training accuracy is 3242/4054, 79\n",
      "training AUC is 0.8460444088216509\n",
      "F1: 0.717\n",
      "________________\n",
      "validation loss is 0.008473153218575533 and validation accuracy is 688/869, 79\n",
      "validation AUC is 0.8375515401406743\n",
      "F1: 0.704\n",
      "________________\n",
      "training loss is 0.00812645174919471 and training accuracy is 3246/4054, 80\n",
      "training AUC is 0.84628138388987\n",
      "F1: 0.718\n",
      "________________\n",
      "validation loss is 0.008455419567841243 and validation accuracy is 685/869, 78\n",
      "validation AUC is 0.8410016977928694\n",
      "F1: 0.701\n",
      "________________\n",
      "training loss is 0.008143751379828413 and training accuracy is 3250/4054, 80\n",
      "training AUC is 0.8478862185708859\n",
      "F1: 0.720\n",
      "________________\n",
      "validation loss is 0.008448269856950082 and validation accuracy is 690/869, 79\n",
      "validation AUC is 0.8396919718651467\n",
      "F1: 0.706\n",
      "________________\n",
      "Epoch    14: reducing learning rate of group 0 to 1.0000e-04.\n",
      "training loss is 0.008105899563374399 and training accuracy is 3246/4054, 80\n",
      "training AUC is 0.8475483586380405\n",
      "F1: 0.717\n",
      "________________\n",
      "validation loss is 0.008489700195018386 and validation accuracy is 687/869, 79\n",
      "validation AUC is 0.8409895707009459\n",
      "F1: 0.703\n",
      "________________\n",
      "training loss is 0.008126873120511172 and training accuracy is 3245/4054, 80\n",
      "training AUC is 0.8479585773703422\n",
      "F1: 0.718\n",
      "________________\n",
      "validation loss is 0.008471163184788202 and validation accuracy is 687/869, 79\n",
      "validation AUC is 0.8410683967984477\n",
      "F1: 0.703\n",
      "________________\n",
      "training loss is 0.00811327364595288 and training accuracy is 3247/4054, 80\n",
      "training AUC is 0.8477959092231031\n",
      "F1: 0.718\n",
      "________________\n",
      "validation loss is 0.008450008474367535 and validation accuracy is 686/869, 78\n",
      "validation AUC is 0.8411290322580643\n",
      "F1: 0.701\n",
      "________________\n",
      "training loss is 0.008131886019633801 and training accuracy is 3247/4054, 80\n",
      "training AUC is 0.8481339083074859\n",
      "F1: 0.718\n",
      "________________\n",
      "validation loss is 0.008529087513582341 and validation accuracy is 686/869, 78\n",
      "validation AUC is 0.8411836041717196\n",
      "F1: 0.701\n",
      "________________\n",
      "training loss is 0.00809638047077177 and training accuracy is 3245/4054, 80\n",
      "training AUC is 0.8480913279370367\n",
      "F1: 0.718\n",
      "________________\n",
      "validation loss is 0.008505213864241974 and validation accuracy is 684/869, 78\n",
      "validation AUC is 0.8411593499878729\n",
      "F1: 0.699\n",
      "________________\n"
     ]
    }
   ],
   "source": [
    "# ----- Full training\n",
    "train_losses, train_accuracy, train_auc, train_fscore = [], [], [], []\n",
    "val_losses, val_accuracy, val_auc, val_fscore= [], [], [], []\n",
    "\n",
    "\n",
    "start = clock()\n",
    "for epoch in range(0, epochs):\n",
    "    epoch_loss, epoch_accuracy, epo_auc, epo_f = fit(epoch, net, train_loader, optimizer, phase='training')\n",
    "    val_epoch_loss, val_epoch_accuracy, val_epo_auc, val_epo_f = fit(epoch, net, val_loader, optimizer, phase='validation')\n",
    "\n",
    "    train_losses.append(epoch_loss)\n",
    "    train_accuracy.append(epoch_accuracy)\n",
    "    train_auc.append(epo_auc)\n",
    "    train_fscore.append(epo_f)\n",
    "\n",
    "    val_losses.append(val_epoch_loss)\n",
    "    val_accuracy.append(val_epoch_accuracy)\n",
    "    val_auc.append(val_epo_auc)\n",
    "    val_fscore.append(val_epo_f)\n",
    "\n",
    "    # Learning rate scheduler update\n",
    "    scheduler.step(val_epo_auc)\n",
    "\n",
    "elapsed = clock() - start"
   ]
  },
  {
   "cell_type": "code",
   "execution_count": 120,
   "metadata": {},
   "outputs": [
    {
     "name": "stdout",
     "output_type": "stream",
     "text": [
      "10.809155799826806\n"
     ]
    }
   ],
   "source": [
    "print(elapsed)"
   ]
  },
  {
   "cell_type": "code",
   "execution_count": 121,
   "metadata": {},
   "outputs": [
    {
     "data": {
      "image/png": "[encoded data removed]",
      "text/plain": [
       "<Figure size 432x288 with 1 Axes>"
      ]
     },
     "metadata": {},
     "output_type": "display_data"
    }
   ],
   "source": [
    "plt.plot(range(1,len(train_fscore)+1),train_fscore,'bo',label = 'training AUC')\n",
    "plt.plot(range(1,len(val_fscore)+1),val_fscore,'r',label = 'validation AUC')\n",
    "plt.legend()\n",
    "plt.show()"
   ]
  },
  {
   "cell_type": "code",
   "execution_count": 122,
   "metadata": {},
   "outputs": [
    {
     "data": {
      "image/png": "[encoded data removed]",
      "text/plain": [
       "<Figure size 432x288 with 1 Axes>"
      ]
     },
     "metadata": {},
     "output_type": "display_data"
    }
   ],
   "source": [
    "plt.plot(range(1,len(train_auc)+1),train_auc,'bo',label = 'training AUC')\n",
    "plt.plot(range(1,len(val_auc)+1),val_auc,'r',label = 'validation AUC')\n",
    "plt.legend()\n",
    "plt.show()"
   ]
  },
  {
   "cell_type": "code",
   "execution_count": 123,
   "metadata": {},
   "outputs": [
    {
     "data": {
      "image/png": "[encoded data removed]",
      "text/plain": [
       "<Figure size 432x288 with 1 Axes>"
      ]
     },
     "metadata": {},
     "output_type": "display_data"
    }
   ],
   "source": [
    "plt.plot(range(1,len(train_losses)+1),train_losses,'bo',label = 'training loss')\n",
    "plt.plot(range(1,len(val_losses)+1),val_losses,'r',label = 'validation loss')\n",
    "plt.legend()\n",
    "plt.show()"
   ]
  },
  {
   "cell_type": "code",
   "execution_count": 124,
   "metadata": {},
   "outputs": [
    {
     "data": {
      "text/plain": [
       "<matplotlib.legend.Legend at 0x2a09aa4e6a0>"
      ]
     },
     "execution_count": 124,
     "metadata": {},
     "output_type": "execute_result"
    },
    {
     "data": {
      "image/png": "[encoded data removed]",
      "text/plain": [
       "<Figure size 432x288 with 1 Axes>"
      ]
     },
     "metadata": {},
     "output_type": "display_data"
    }
   ],
   "source": [
    "plt.plot(range(1,len(train_accuracy)+1),train_accuracy,'bo',label = 'train accuracy')\n",
    "plt.plot(range(1,len(val_accuracy)+1),val_accuracy,'r',label = 'val accuracy')\n",
    "plt.legend()"
   ]
  },
  {
   "cell_type": "code",
   "execution_count": 125,
   "metadata": {},
   "outputs": [],
   "source": [
    "## HOW TO TAKE INTO ACCOUNT RECALL\n",
    "# Play with the weights \n",
    "# Update the scheduler based on recall"
   ]
  },
  {
   "cell_type": "code",
   "execution_count": 126,
   "metadata": {},
   "outputs": [],
   "source": [
    "# Model classification metrics\n",
    "\n",
    "def eval_net(clf, t_loader=val_loader):\n",
    "    #parameters initialization\n",
    "    classes = [0,1]\n",
    "\n",
    "    correct = 0\n",
    "    total = 0\n",
    "\n",
    "    y_pred = np.empty([0])\n",
    "    y_true = np.empty([0])\n",
    "    #scores = np.empty([0])\n",
    "    y_score = np.empty([0])\n",
    "\n",
    "    #Model evaluation\n",
    "    clf.eval()\n",
    "    for images, labels in t_loader:\n",
    "        if is_cuda:\n",
    "            images = images.cuda()\n",
    "        images = Variable(images)\n",
    "        outputs = clf(images)\n",
    "        _, predicted = torch.max(outputs.data, 1)\n",
    "        total += labels.size(0)\n",
    "        correct += (predicted.cpu() == labels).sum()\n",
    "\n",
    "        y_pred = np.concatenate((y_pred, predicted.data.cpu().numpy()), axis=None)\n",
    "        y_true = np.concatenate((y_true, labels.data.cpu().numpy()), axis=None)\n",
    "        #scores = np.concatenate((scores, score.data.cpu().numpy()), axis=None)\n",
    "        y_score = np.concatenate((y_score, outputs.detach().cpu().numpy()[:, 1]), axis=None)\n",
    "\n",
    "\n",
    "    conf_matrix = metrics.confusion_matrix(y_true, y_pred)\n",
    "\n",
    "    np.trace(conf_matrix)\n",
    "\n",
    "    print(\"classification rate :\", np.trace(conf_matrix)/y_val.shape[0])\n",
    "\n",
    "    print('Accuracy of the network on the validation set : %d %%' % (100 * correct / total))\n",
    "\n",
    "    df_conf_matrix = pd.DataFrame(data=conf_matrix, index=classes, columns=classes)\n",
    "\n",
    "    print(\"Confusion Matrix for the 2 classes: \\n\", df_conf_matrix)\n",
    "\n",
    "    #--------------!\n",
    "\n",
    "    #y_pred = clf.predict(np_test)\n",
    "    confmat = confusion_matrix(y_true=y_true, y_pred=y_pred)\n",
    "\n",
    "    fig, ax = plt.subplots(figsize=(5, 5))\n",
    "    ax.matshow(confmat, cmap=plt.cm.Blues, alpha=0.3)\n",
    "    for i in range(confmat.shape[0]):\n",
    "        for j in range(confmat.shape[1]):\n",
    "            ax.text(x=j, y=i,\n",
    "            s=confmat[i, j],\n",
    "            va='center', ha='center')\n",
    "    plt.xlabel('predicted label')\n",
    "    plt.ylabel('true label')\n",
    "    plt.title(\"MLP title 2\")\n",
    "    plt.show()\n",
    "    print(\"----------Model Classification-------------\\n\")\n",
    "    print(classification_report(y_true, y_pred, target_names=['no', 'yes']))\n",
    "    print(\" \")\n",
    "    print(\"----------Model Accuracy-------------\\n\")\n",
    "    print('Accuracy: %.3f' % accuracy_score(y_true=y_true, y_pred=y_pred))\n",
    "    print(\" \")\n",
    "    print(\"----------Model ROC/AUC-------------\\n\")\n",
    "    auc = roc_auc_score(y_true, y_score )#y_pred)average='micro'\n",
    "    fpr, tpr, thresholds = roc_curve(y_true, y_score)\n",
    "    plt.figure()\n",
    "    plt.plot(fpr, tpr, label='AUC = %0.3f' % auc)\n",
    "    plt.plot([0, 1], [0, 1],'r--')\n",
    "    plt.xlim([0.0, 1.0])\n",
    "    plt.ylim([0.0, 1.05])\n",
    "    plt.xlabel('False Positive Rate')\n",
    "    plt.ylabel('True Positive Rate')\n",
    "    plt.title('Receiver Operating Characteristic - '+ 'test 1')\n",
    "    plt.legend(loc=\"lower right\")\n",
    "    #plt.savefig('Log_ROC')\n",
    "    plt.show()"
   ]
  },
  {
   "cell_type": "code",
   "execution_count": 127,
   "metadata": {},
   "outputs": [
    {
     "name": "stdout",
     "output_type": "stream",
     "text": [
      "classification rate : 0.7871116225546605\n",
      "Accuracy of the network on the validation set : 78 %\n",
      "Confusion Matrix for the 2 classes: \n",
      "      0    1\n",
      "0  469  120\n",
      "1   65  215\n"
     ]
    },
    {
     "data": {
      "image/png": "[encoded data removed]",
      "text/plain": [
       "<Figure size 360x360 with 1 Axes>"
      ]
     },
     "metadata": {},
     "output_type": "display_data"
    },
    {
     "name": "stdout",
     "output_type": "stream",
     "text": [
      "----------Model Classification-------------\n",
      "\n",
      "             precision    recall  f1-score   support\n",
      "\n",
      "         no       0.88      0.80      0.84       589\n",
      "        yes       0.64      0.77      0.70       280\n",
      "\n",
      "avg / total       0.80      0.79      0.79       869\n",
      "\n",
      " \n",
      "----------Model Accuracy-------------\n",
      "\n",
      "Accuracy: 0.787\n",
      " \n",
      "----------Model ROC/AUC-------------\n",
      "\n"
     ]
    },
    {
     "data": {
      "image/png": "[encoded data removed]",
      "text/plain": [
       "<Figure size 432x288 with 1 Axes>"
      ]
     },
     "metadata": {},
     "output_type": "display_data"
    }
   ],
   "source": [
    "eval_net(net)"
   ]
  },
  {
   "cell_type": "code",
   "execution_count": 128,
   "metadata": {},
   "outputs": [
    {
     "ename": "NameError",
     "evalue": "name 'test_loader' is not defined",
     "output_type": "error",
     "traceback": [
      "\u001b[1;31m---------------------------------------------------------------------------\u001b[0m",
      "\u001b[1;31mNameError\u001b[0m                                 Traceback (most recent call last)",
      "\u001b[1;32m<ipython-input-128-9729e38b200c>\u001b[0m in \u001b[0;36m<module>\u001b[1;34m()\u001b[0m\n\u001b[1;32m----> 1\u001b[1;33m \u001b[0meval_net\u001b[0m\u001b[1;33m(\u001b[0m\u001b[0mnet\u001b[0m\u001b[1;33m,\u001b[0m \u001b[0mtest_loader\u001b[0m\u001b[1;33m)\u001b[0m\u001b[1;33m\u001b[0m\u001b[0m\n\u001b[0m",
      "\u001b[1;31mNameError\u001b[0m: name 'test_loader' is not defined"
     ]
    }
   ],
   "source": [
    "eval_net(net, test_loader)"
   ]
  },
  {
   "cell_type": "markdown",
   "metadata": {},
   "source": [
    "#### --- Fscore"
   ]
  },
  {
   "cell_type": "code",
   "execution_count": 125,
   "metadata": {},
   "outputs": [],
   "source": [
    "net2 = Net(input_size, hidden_size, hidden_size2, num_classes)\n",
    "\n",
    "if is_cuda:\n",
    "    net2.cuda()"
   ]
  },
  {
   "cell_type": "code",
   "execution_count": 126,
   "metadata": {},
   "outputs": [],
   "source": [
    "# Loss and Optimizer\n",
    "\n",
    "#learning_rate = 0.001\n",
    "#weights = [0.4, 1]\n",
    "#class_weights=torch.FloatTensor(weights).cuda()   # might need to add is cuda\n",
    "class_weights=torch.FloatTensor([0.33, 0.67])\n",
    "criterion = nn.CrossEntropyLoss(weight=class_weights)\n",
    "\n",
    "#criterion = F.cross_entropy()\n",
    "optimizer2 = torch.optim.Adam(net2.parameters(), lr=learning_rate)\n",
    "# -----------------------------------------------------------------------------------"
   ]
  },
  {
   "cell_type": "code",
   "execution_count": null,
   "metadata": {},
   "outputs": [],
   "source": []
  },
  {
   "cell_type": "code",
   "execution_count": 127,
   "metadata": {},
   "outputs": [
    {
     "data": {
      "text/plain": [
       "Net(\n",
       "  (fc1): Linear(in_features=14, out_features=8, bias=True)\n",
       "  (relu): ReLU()\n",
       "  (fcM): Linear(in_features=8, out_features=4, bias=True)\n",
       "  (fc2): Linear(in_features=4, out_features=2, bias=True)\n",
       "  (lr): Sigmoid()\n",
       ")"
      ]
     },
     "execution_count": 127,
     "metadata": {},
     "output_type": "execute_result"
    }
   ],
   "source": [
    "#  C. Training final preparation\n",
    "\n",
    "# ----- Weight initialization\n",
    "def init_weights(m):\n",
    "    if type(m) == nn.Linear:\n",
    "        torch.nn.init.xavier_normal_(m.weight)\n",
    "        #m.bias.data.fill_(0.01)\n",
    "\n",
    "net2.apply(init_weights)"
   ]
  },
  {
   "cell_type": "code",
   "execution_count": 128,
   "metadata": {},
   "outputs": [],
   "source": [
    "# ----- Learning rate regularization\n",
    "#####  NEED TO CHANGE THE patience\n",
    "scheduler2 = optim.lr_scheduler.ReduceLROnPlateau(optimizer2, mode='max', patience=2, verbose=True)"
   ]
  },
  {
   "cell_type": "code",
   "execution_count": null,
   "metadata": {},
   "outputs": [],
   "source": []
  },
  {
   "cell_type": "code",
   "execution_count": 129,
   "metadata": {},
   "outputs": [
    {
     "name": "stdout",
     "output_type": "stream",
     "text": [
      "training loss is 0.010815103873279686 and training accuracy is 1414/4054, 34\n",
      "training AUC is 0.5975595603368024\n",
      "F1: 0.496\n",
      "________________\n",
      "validation loss is 0.010904651928277229 and validation accuracy is 407/869, 46\n",
      "validation AUC is 0.6846046568032986\n",
      "F1: 0.540\n",
      "________________\n",
      "training loss is 0.010531259982763516 and training accuracy is 2056/4054, 50\n",
      "training AUC is 0.7202356948740749\n",
      "F1: 0.550\n",
      "________________\n",
      "validation loss is 0.010549979873850375 and validation accuracy is 501/869, 57\n",
      "validation AUC is 0.7705311666262431\n",
      "F1: 0.574\n",
      "________________\n",
      "training loss is 0.010130947219602098 and training accuracy is 2500/4054, 61\n",
      "training AUC is 0.7845473609215171\n",
      "F1: 0.590\n",
      "________________\n",
      "validation loss is 0.010134489956055742 and validation accuracy is 587/869, 67\n",
      "validation AUC is 0.8035593014795052\n",
      "F1: 0.613\n",
      "________________\n",
      "training loss is 0.009698914919925194 and training accuracy is 2915/4054, 71\n",
      "training AUC is 0.809269301361876\n",
      "F1: 0.649\n",
      "________________\n",
      "validation loss is 0.009706550555344418 and validation accuracy is 633/869, 72\n",
      "validation AUC is 0.8197792869269949\n",
      "F1: 0.657\n",
      "________________\n",
      "training loss is 0.009319846845931706 and training accuracy is 3015/4054, 74\n",
      "training AUC is 0.8237528891337957\n",
      "F1: 0.670\n",
      "________________\n",
      "validation loss is 0.009386125176081861 and validation accuracy is 651/869, 74\n",
      "validation AUC is 0.8276800873150618\n",
      "F1: 0.664\n",
      "________________\n",
      "training loss is 0.009008307342583403 and training accuracy is 3113/4054, 76\n",
      "training AUC is 0.8306831923032502\n",
      "F1: 0.687\n",
      "________________\n",
      "validation loss is 0.00912797005184775 and validation accuracy is 665/869, 76\n",
      "validation AUC is 0.8339679844773223\n",
      "F1: 0.676\n",
      "________________\n",
      "training loss is 0.008792851291152133 and training accuracy is 3150/4054, 77\n",
      "training AUC is 0.835962879935879\n",
      "F1: 0.699\n",
      "________________\n",
      "validation loss is 0.009018845196011701 and validation accuracy is 677/869, 77\n",
      "validation AUC is 0.8345440213436818\n",
      "F1: 0.686\n",
      "________________\n",
      "training loss is 0.008623981378792422 and training accuracy is 3187/4054, 78\n",
      "training AUC is 0.8386277710289283\n",
      "F1: 0.707\n",
      "________________\n",
      "validation loss is 0.008831282959708685 and validation accuracy is 679/869, 78\n",
      "validation AUC is 0.8380184331797236\n",
      "F1: 0.696\n",
      "________________\n",
      "training loss is 0.008468285305898767 and training accuracy is 3207/4054, 79\n",
      "training AUC is 0.8407968651941651\n",
      "F1: 0.710\n",
      "________________\n",
      "validation loss is 0.008725336286634789 and validation accuracy is 683/869, 78\n",
      "validation AUC is 0.8389522192578219\n",
      "F1: 0.700\n",
      "________________\n",
      "training loss is 0.008398857458389388 and training accuracy is 3217/4054, 79\n",
      "training AUC is 0.8426800029500126\n",
      "F1: 0.711\n",
      "________________\n",
      "validation loss is 0.008662317269690703 and validation accuracy is 685/869, 78\n",
      "validation AUC is 0.8401709919961193\n",
      "F1: 0.702\n",
      "________________\n",
      "training loss is 0.008322357263950862 and training accuracy is 3228/4054, 79\n",
      "training AUC is 0.8427200785927883\n",
      "F1: 0.712\n",
      "________________\n",
      "validation loss is 0.008596323404816955 and validation accuracy is 686/869, 78\n",
      "validation AUC is 0.8413715740965316\n",
      "F1: 0.702\n",
      "________________\n",
      "training loss is 0.008272442226052343 and training accuracy is 3230/4054, 79\n",
      "training AUC is 0.8436786935340455\n",
      "F1: 0.713\n",
      "________________\n",
      "validation loss is 0.008537604941871828 and validation accuracy is 690/869, 79\n",
      "validation AUC is 0.8419536745088527\n",
      "F1: 0.707\n",
      "________________\n",
      "training loss is 0.008254981637883197 and training accuracy is 3238/4054, 79\n",
      "training AUC is 0.8448759533619706\n",
      "F1: 0.714\n",
      "________________\n",
      "validation loss is 0.008493264093223457 and validation accuracy is 692/869, 79\n",
      "validation AUC is 0.8423114237205919\n",
      "F1: 0.709\n",
      "________________\n",
      "training loss is 0.008231659151970253 and training accuracy is 3238/4054, 79\n",
      "training AUC is 0.844828502687712\n",
      "F1: 0.713\n",
      "________________\n",
      "validation loss is 0.00856075486461916 and validation accuracy is 691/869, 79\n",
      "validation AUC is 0.8430087315061847\n",
      "F1: 0.708\n",
      "________________\n",
      "training loss is 0.008193861463414547 and training accuracy is 3242/4054, 79\n",
      "training AUC is 0.8450774447881487\n",
      "F1: 0.715\n",
      "________________\n",
      "validation loss is 0.008496140446020902 and validation accuracy is 693/869, 79\n",
      "validation AUC is 0.8432512733446519\n",
      "F1: 0.711\n",
      "________________\n",
      "training loss is 0.00817585730264501 and training accuracy is 3248/4054, 80\n",
      "training AUC is 0.8458287239386564\n",
      "F1: 0.717\n",
      "________________\n",
      "validation loss is 0.008441124364339305 and validation accuracy is 692/869, 79\n",
      "validation AUC is 0.8433634489449431\n",
      "F1: 0.709\n",
      "________________\n",
      "training loss is 0.008169504710471742 and training accuracy is 3250/4054, 80\n",
      "training AUC is 0.8467364094172195\n",
      "F1: 0.717\n",
      "________________\n",
      "validation loss is 0.008467480420243204 and validation accuracy is 694/869, 79\n",
      "validation AUC is 0.8426267281105991\n",
      "F1: 0.712\n",
      "________________\n",
      "training loss is 0.008141780714125368 and training accuracy is 3250/4054, 80\n",
      "training AUC is 0.8454463355138379\n",
      "F1: 0.716\n",
      "________________\n",
      "validation loss is 0.008477251123641248 and validation accuracy is 693/869, 79\n",
      "validation AUC is 0.843627213194276\n",
      "F1: 0.711\n",
      "________________\n",
      "training loss is 0.008136225969966668 and training accuracy is 3249/4054, 80\n",
      "training AUC is 0.8466044937597493\n",
      "F1: 0.716\n",
      "________________\n",
      "validation loss is 0.008486682924220147 and validation accuracy is 689/869, 79\n",
      "validation AUC is 0.8437727382973562\n",
      "F1: 0.706\n",
      "________________\n",
      "training loss is 0.008133625801878723 and training accuracy is 3248/4054, 80\n",
      "training AUC is 0.8484545134496919\n",
      "F1: 0.718\n",
      "________________\n",
      "validation loss is 0.008430788137010106 and validation accuracy is 692/869, 79\n",
      "validation AUC is 0.8442123453795779\n",
      "F1: 0.709\n",
      "________________\n",
      "Epoch    19: reducing learning rate of group 0 to 1.0000e-04.\n"
     ]
    }
   ],
   "source": [
    "# ----- Full training\n",
    "train_losses1, train_accuracy1, train_auc1, train_fscore1 = [], [], [], []\n",
    "val_losses1, val_accuracy1, val_auc1, val_fscore1= [], [], [], []\n",
    "\n",
    "start = clock()\n",
    "for epoch in range(0, epochs):\n",
    "    epoch_loss1, epoch_accuracy1, epo_auc1, epo_f1 = fit(epoch, net2, train_loader, optimizer2, phase='training')\n",
    "    val_epoch_loss1, val_epoch_accuracy1, val_epo_auc1, val_epo_f1 = fit(epoch, net2, val_loader, optimizer2, phase='validation')\n",
    "\n",
    "    train_losses1.append(epoch_loss1)\n",
    "    train_accuracy1.append(epoch_accuracy1)\n",
    "    train_auc1.append(epo_auc1)\n",
    "    train_fscore1.append(epo_f1)\n",
    "\n",
    "    val_losses1.append(val_epoch_loss1)\n",
    "    val_accuracy1.append(val_epoch_accuracy1)\n",
    "    val_auc1.append(val_epo_auc1)\n",
    "    val_fscore1.append(val_epo_f1)\n",
    "\n",
    "    # Learning rate scheduler update\n",
    "    scheduler2.step(val_epo_f1)\n",
    "\n",
    "elapsed = clock() - start"
   ]
  },
  {
   "cell_type": "code",
   "execution_count": 130,
   "metadata": {},
   "outputs": [
    {
     "name": "stdout",
     "output_type": "stream",
     "text": [
      "3.349310300689609\n"
     ]
    }
   ],
   "source": [
    "print(elapsed)"
   ]
  },
  {
   "cell_type": "code",
   "execution_count": 131,
   "metadata": {},
   "outputs": [
    {
     "data": {
      "image/png": "[encoded data removed]",
      "text/plain": [
       "<Figure size 432x288 with 1 Axes>"
      ]
     },
     "metadata": {},
     "output_type": "display_data"
    }
   ],
   "source": [
    "plt.plot(range(1,len(train_fscore1)+1),train_fscore1,'bo',label = 'training AUC')\n",
    "plt.plot(range(1,len(val_fscore1)+1),val_fscore1,'r',label = 'validation AUC')\n",
    "plt.legend()\n",
    "plt.show()"
   ]
  },
  {
   "cell_type": "code",
   "execution_count": 132,
   "metadata": {},
   "outputs": [
    {
     "data": {
      "image/png": "[encoded data removed]",
      "text/plain": [
       "<Figure size 432x288 with 1 Axes>"
      ]
     },
     "metadata": {},
     "output_type": "display_data"
    }
   ],
   "source": [
    "plt.plot(range(1,len(train_auc1)+1),train_auc1,'bo',label = 'training AUC')\n",
    "plt.plot(range(1,len(val_auc1)+1),val_auc1,'r',label = 'validation AUC')\n",
    "plt.legend()\n",
    "plt.show()"
   ]
  },
  {
   "cell_type": "code",
   "execution_count": 133,
   "metadata": {},
   "outputs": [
    {
     "data": {
      "image/png": "[encoded data removed]",
      "text/plain": [
       "<Figure size 432x288 with 1 Axes>"
      ]
     },
     "metadata": {},
     "output_type": "display_data"
    }
   ],
   "source": [
    "plt.plot(range(1,len(train_losses1)+1),train_losses1,'bo',label = 'training loss')\n",
    "plt.plot(range(1,len(val_losses1)+1),val_losses1,'r',label = 'validation loss')\n",
    "plt.legend()\n",
    "plt.show()"
   ]
  },
  {
   "cell_type": "code",
   "execution_count": 134,
   "metadata": {},
   "outputs": [
    {
     "data": {
      "text/plain": [
       "<matplotlib.legend.Legend at 0x2a652f97fd0>"
      ]
     },
     "execution_count": 134,
     "metadata": {},
     "output_type": "execute_result"
    },
    {
     "data": {
      "image/png": "[encoded data removed]",
      "text/plain": [
       "<Figure size 432x288 with 1 Axes>"
      ]
     },
     "metadata": {},
     "output_type": "display_data"
    }
   ],
   "source": [
    "plt.plot(range(1,len(train_accuracy1)+1),train_accuracy1,'bo',label = 'train accuracy')\n",
    "plt.plot(range(1,len(val_accuracy1)+1),val_accuracy1,'r',label = 'val accuracy')\n",
    "plt.legend()\n",
    "plt.show()"
   ]
  },
  {
   "cell_type": "code",
   "execution_count": 135,
   "metadata": {},
   "outputs": [
    {
     "name": "stdout",
     "output_type": "stream",
     "text": [
      "classification rate : 0.7963176064441887\n",
      "Accuracy of the network on the validation set : 79 %\n",
      "Confusion Matrix for the 2 classes: \n",
      "      0    1\n",
      "0  476  113\n",
      "1   64  216\n"
     ]
    },
    {
     "data": {
      "image/png": "[encoded data removed]",
      "text/plain": [
       "<Figure size 360x360 with 1 Axes>"
      ]
     },
     "metadata": {},
     "output_type": "display_data"
    },
    {
     "name": "stdout",
     "output_type": "stream",
     "text": [
      "----------Model Classification-------------\n",
      "\n",
      "             precision    recall  f1-score   support\n",
      "\n",
      "         no       0.88      0.81      0.84       589\n",
      "        yes       0.66      0.77      0.71       280\n",
      "\n",
      "avg / total       0.81      0.80      0.80       869\n",
      "\n",
      " \n",
      "----------Model Accuracy-------------\n",
      "\n",
      "Accuracy: 0.796\n",
      " \n",
      "----------Model ROC/AUC-------------\n",
      "\n"
     ]
    },
    {
     "data": {
      "image/png": "[encoded data removed]",
      "text/plain": [
       "<Figure size 432x288 with 1 Axes>"
      ]
     },
     "metadata": {},
     "output_type": "display_data"
    }
   ],
   "source": [
    "eval_net(net2)"
   ]
  },
  {
   "cell_type": "markdown",
   "metadata": {},
   "source": [
    "### 4 Layers"
   ]
  },
  {
   "cell_type": "code",
   "execution_count": null,
   "metadata": {},
   "outputs": [],
   "source": []
  },
  {
   "cell_type": "code",
   "execution_count": 137,
   "metadata": {},
   "outputs": [],
   "source": [
    "# Choose the right values for x.\n",
    "input_size = 14\n",
    "hidden_size1 = 10\n",
    "hidden_size21 = 8\n",
    "hidden_size31 = 4\n",
    "num_classes = 2\n",
    "#num_epochs = 20\n",
    "#batch_size = 100\n",
    "learning_rate = 0.001"
   ]
  },
  {
   "cell_type": "code",
   "execution_count": 145,
   "metadata": {},
   "outputs": [],
   "source": [
    "class Net2(nn.Module):\n",
    "    def __init__(self, input_size, hidden_size1, hidden_size21, hidden_size31, num_classes):\n",
    "        super(Net2, self).__init__()\n",
    "        self.fc1 = nn.Linear(input_size, hidden_size1)\n",
    "        self.relu1 = nn.ReLU()\n",
    "        self.fcM = nn.Linear(hidden_size1, hidden_size21)\n",
    "        self.relu2 = nn.ReLU()\n",
    "        self.fcM1 = nn.Linear(hidden_size21, hidden_size31)\n",
    "        self.relu3 = nn.ReLU()\n",
    "        self.fc2 = nn.Linear(hidden_size31, num_classes)\n",
    "        self.lr = nn.Sigmoid()\n",
    "\n",
    "    def forward(self, x):\n",
    "        out = self.fc1(x)\n",
    "        out = self.relu1(out)\n",
    "        out = self.fcM(out)\n",
    "        out = self.relu2(out)\n",
    "        out = self.fcM1(out)\n",
    "        out = self.relu3(out)\n",
    "        out = self.fc2(out)\n",
    "        out = self.lr(out)\n",
    "        return out"
   ]
  },
  {
   "cell_type": "code",
   "execution_count": 146,
   "metadata": {},
   "outputs": [],
   "source": [
    "net3 = Net2(input_size, hidden_size1, hidden_size21, hidden_size31, num_classes)\n",
    "\n",
    "if is_cuda:\n",
    "    net3.cuda()"
   ]
  },
  {
   "cell_type": "code",
   "execution_count": 147,
   "metadata": {},
   "outputs": [],
   "source": [
    "# Loss and Optimizer\n",
    "\n",
    "#learning_rate = 0.001\n",
    "#weights = [0.4, 1]\n",
    "#class_weights=torch.FloatTensor(weights).cuda()   # might need to add is cuda\n",
    "class_weights=torch.FloatTensor([0.33, 0.67])\n",
    "criterion = nn.CrossEntropyLoss(weight=class_weights)\n",
    "\n",
    "#criterion = F.cross_entropy()\n",
    "optimizer3 = torch.optim.Adam(net3.parameters(), lr=learning_rate)\n",
    "# -----------------------------------------------------------------------------------"
   ]
  },
  {
   "cell_type": "code",
   "execution_count": 148,
   "metadata": {},
   "outputs": [
    {
     "data": {
      "text/plain": [
       "Net2(\n",
       "  (fc1): Linear(in_features=14, out_features=10, bias=True)\n",
       "  (relu1): ReLU()\n",
       "  (fcM): Linear(in_features=10, out_features=8, bias=True)\n",
       "  (relu2): ReLU()\n",
       "  (fcM1): Linear(in_features=8, out_features=4, bias=True)\n",
       "  (relu3): ReLU()\n",
       "  (fc2): Linear(in_features=4, out_features=2, bias=True)\n",
       "  (lr): Sigmoid()\n",
       ")"
      ]
     },
     "execution_count": 148,
     "metadata": {},
     "output_type": "execute_result"
    }
   ],
   "source": [
    "#  C. Training final preparation\n",
    "\n",
    "# ----- Weight initialization\n",
    "def init_weights(m):\n",
    "    if type(m) == nn.Linear:\n",
    "        torch.nn.init.xavier_normal_(m.weight)\n",
    "        #m.bias.data.fill_(0.01)\n",
    "\n",
    "net3.apply(init_weights)"
   ]
  },
  {
   "cell_type": "code",
   "execution_count": 149,
   "metadata": {},
   "outputs": [],
   "source": [
    "# ----- Learning rate regularization\n",
    "#####  NEED TO CHANGE THE patience\n",
    "scheduler3 = optim.lr_scheduler.ReduceLROnPlateau(optimizer3, mode='max', patience=2, verbose=True)"
   ]
  },
  {
   "cell_type": "code",
   "execution_count": null,
   "metadata": {},
   "outputs": [],
   "source": []
  },
  {
   "cell_type": "code",
   "execution_count": 151,
   "metadata": {},
   "outputs": [
    {
     "name": "stdout",
     "output_type": "stream",
     "text": [
      "training loss is 0.010538195631571103 and training accuracy is 1660/4054, 40\n",
      "training AUC is 0.4656324924405927\n",
      "F1: 0.517\n",
      "________________\n",
      "validation loss is 0.01045804337884532 and validation accuracy is 585/869, 67\n",
      "validation AUC is 0.6530378365268009\n",
      "F1: 0.627\n",
      "________________\n",
      "training loss is 0.00987578714546689 and training accuracy is 3088/4054, 76\n",
      "training AUC is 0.7475721535509384\n",
      "F1: 0.684\n",
      "________________\n",
      "validation loss is 0.009749068009428105 and validation accuracy is 689/869, 79\n",
      "validation AUC is 0.7762066456463739\n",
      "F1: 0.700\n",
      "________________\n",
      "training loss is 0.009133267054195527 and training accuracy is 3244/4054, 80\n",
      "training AUC is 0.8011243444223193\n",
      "F1: 0.710\n",
      "________________\n",
      "validation loss is 0.009105314319509632 and validation accuracy is 693/869, 79\n",
      "validation AUC is 0.8015583313121515\n",
      "F1: 0.703\n",
      "________________\n",
      "training loss is 0.008654260935310548 and training accuracy is 3258/4054, 80\n",
      "training AUC is 0.8145256115362192\n",
      "F1: 0.714\n",
      "________________\n",
      "validation loss is 0.00870352825717904 and validation accuracy is 690/869, 79\n",
      "validation AUC is 0.8143948581130244\n",
      "F1: 0.702\n",
      "________________\n",
      "training loss is 0.00838544687644919 and training accuracy is 3244/4054, 80\n",
      "training AUC is 0.827748903833764\n",
      "F1: 0.711\n",
      "________________\n",
      "validation loss is 0.00856899968225196 and validation accuracy is 693/869, 79\n",
      "validation AUC is 0.8220106718408925\n",
      "F1: 0.708\n",
      "________________\n",
      "training loss is 0.008233385297484038 and training accuracy is 3244/4054, 80\n",
      "training AUC is 0.8344482154511084\n",
      "F1: 0.712\n",
      "________________\n",
      "validation loss is 0.008493787983070171 and validation accuracy is 691/869, 79\n",
      "validation AUC is 0.8262430269221441\n",
      "F1: 0.706\n",
      "________________\n",
      "training loss is 0.008158556775148125 and training accuracy is 3248/4054, 80\n",
      "training AUC is 0.838505178524465\n",
      "F1: 0.715\n",
      "________________\n",
      "validation loss is 0.00845101599177502 and validation accuracy is 693/869, 79\n",
      "validation AUC is 0.8271586223623575\n",
      "F1: 0.709\n",
      "________________\n",
      "training loss is 0.00815660872951069 and training accuracy is 3247/4054, 80\n",
      "training AUC is 0.8396238177337503\n",
      "F1: 0.715\n",
      "________________\n",
      "validation loss is 0.0083607204421343 and validation accuracy is 691/869, 79\n",
      "validation AUC is 0.830335920446277\n",
      "F1: 0.706\n",
      "________________\n",
      "training loss is 0.008160854443047632 and training accuracy is 3254/4054, 80\n",
      "training AUC is 0.8391398486866182\n",
      "F1: 0.717\n",
      "________________\n",
      "validation loss is 0.008415313323978999 and validation accuracy is 690/869, 79\n",
      "validation AUC is 0.8318457433907349\n",
      "F1: 0.706\n",
      "________________\n",
      "training loss is 0.008103350413568983 and training accuracy is 3248/4054, 80\n",
      "training AUC is 0.8420041439327842\n",
      "F1: 0.717\n",
      "________________\n",
      "validation loss is 0.008417992960871706 and validation accuracy is 690/869, 79\n",
      "validation AUC is 0.8322883822459375\n",
      "F1: 0.706\n",
      "________________\n",
      "training loss is 0.008072240979258627 and training accuracy is 3254/4054, 80\n",
      "training AUC is 0.8416306612063604\n",
      "F1: 0.718\n",
      "________________\n",
      "validation loss is 0.008388023930671437 and validation accuracy is 686/869, 78\n",
      "validation AUC is 0.8321125394130486\n",
      "F1: 0.701\n",
      "________________\n",
      "training loss is 0.00810406392703929 and training accuracy is 3247/4054, 80\n",
      "training AUC is 0.8423642681116162\n",
      "F1: 0.717\n",
      "________________\n",
      "validation loss is 0.008427955853239438 and validation accuracy is 685/869, 78\n",
      "validation AUC is 0.8352534562211981\n",
      "F1: 0.700\n",
      "________________\n",
      "training loss is 0.00808383043640402 and training accuracy is 3251/4054, 80\n",
      "training AUC is 0.8436192758275689\n",
      "F1: 0.719\n",
      "________________\n",
      "validation loss is 0.008424782643246843 and validation accuracy is 686/869, 78\n",
      "validation AUC is 0.8336708707252\n",
      "F1: 0.701\n",
      "________________\n",
      "training loss is 0.00807140355899408 and training accuracy is 3255/4054, 80\n",
      "training AUC is 0.8423820795084054\n",
      "F1: 0.720\n",
      "________________\n",
      "validation loss is 0.008494118689393284 and validation accuracy is 692/869, 79\n",
      "validation AUC is 0.8331130244967256\n",
      "F1: 0.708\n",
      "________________\n",
      "training loss is 0.008069407545879197 and training accuracy is 3254/4054, 80\n",
      "training AUC is 0.8431135991406\n",
      "F1: 0.720\n",
      "________________\n",
      "validation loss is 0.00842447608057731 and validation accuracy is 683/869, 78\n",
      "validation AUC is 0.8355930147950522\n",
      "F1: 0.699\n",
      "________________\n",
      "training loss is 0.008058747635960402 and training accuracy is 3247/4054, 80\n",
      "training AUC is 0.8429791787554566\n",
      "F1: 0.718\n",
      "________________\n",
      "validation loss is 0.008376909139104213 and validation accuracy is 687/869, 79\n",
      "validation AUC is 0.8344591317002182\n",
      "F1: 0.703\n",
      "________________\n",
      "training loss is 0.008061673835868251 and training accuracy is 3252/4054, 80\n",
      "training AUC is 0.8420207029657367\n",
      "F1: 0.718\n",
      "________________\n",
      "validation loss is 0.008394243425000524 and validation accuracy is 682/869, 78\n",
      "validation AUC is 0.8366662624302692\n",
      "F1: 0.698\n",
      "________________\n",
      "training loss is 0.008065029853779397 and training accuracy is 3236/4054, 79\n",
      "training AUC is 0.8446720963596566\n",
      "F1: 0.717\n",
      "________________\n",
      "validation loss is 0.008408240742458436 and validation accuracy is 689/869, 79\n",
      "validation AUC is 0.8352352655833133\n",
      "F1: 0.704\n",
      "________________\n",
      "training loss is 0.008063359923943782 and training accuracy is 3249/4054, 80\n",
      "training AUC is 0.8451751291674147\n",
      "F1: 0.720\n",
      "________________\n",
      "validation loss is 0.008464825818673102 and validation accuracy is 685/869, 78\n",
      "validation AUC is 0.8351564394858112\n",
      "F1: 0.700\n",
      "________________\n",
      "training loss is 0.0080672695563824 and training accuracy is 3246/4054, 80\n",
      "training AUC is 0.845142428556122\n",
      "F1: 0.719\n",
      "________________\n",
      "validation loss is 0.008400652947716664 and validation accuracy is 686/869, 78\n",
      "validation AUC is 0.8345864661654135\n",
      "F1: 0.700\n",
      "________________\n",
      "Epoch    19: reducing learning rate of group 0 to 1.0000e-04.\n"
     ]
    }
   ],
   "source": [
    "# ----- Full training\n",
    "train_losses3, train_accuracy3, train_auc3, train_fscore3 = [], [], [], []\n",
    "val_losses3, val_accuracy3, val_auc3, val_fscore3= [], [], [], []\n",
    "\n",
    "\n",
    "start = clock()\n",
    "for epoch in range(0, epochs):\n",
    "    epoch_loss3, epoch_accuracy3, epo_auc3, epo_f3 = fit(epoch, net3, train_loader, optimizer3, phase='training')\n",
    "    val_epoch_loss3, val_epoch_accuracy3, val_epo_auc3, val_epo_f3 = fit(epoch, net3, val_loader, optimizer3, phase='validation')\n",
    "\n",
    "    train_losses3.append(epoch_loss3)\n",
    "    train_accuracy3.append(epoch_accuracy3)\n",
    "    train_auc3.append(epo_auc3)\n",
    "    train_fscore3.append(epo_f3)\n",
    "\n",
    "    val_losses3.append(val_epoch_loss3)\n",
    "    val_accuracy3.append(val_epoch_accuracy3)\n",
    "    val_auc3.append(val_epo_auc3)\n",
    "    val_fscore3.append(val_epo_f3)\n",
    "\n",
    "    # Learning rate scheduler update\n",
    "    scheduler3.step(val_epo_auc3)\n",
    "\n",
    "elapsed = clock() - start"
   ]
  },
  {
   "cell_type": "code",
   "execution_count": 152,
   "metadata": {},
   "outputs": [
    {
     "name": "stdout",
     "output_type": "stream",
     "text": [
      "3.2659846052224566\n"
     ]
    }
   ],
   "source": [
    "print(elapsed)"
   ]
  },
  {
   "cell_type": "code",
   "execution_count": 153,
   "metadata": {},
   "outputs": [
    {
     "data": {
      "image/png": "[encoded data removed]",
      "text/plain": [
       "<Figure size 432x288 with 1 Axes>"
      ]
     },
     "metadata": {},
     "output_type": "display_data"
    }
   ],
   "source": [
    "plt.plot(range(1,len(train_auc3)+1),train_auc3,'bo',label = 'training AUC')\n",
    "plt.plot(range(1,len(val_auc3)+1),val_auc3,'r',label = 'validation AUC')\n",
    "plt.legend()\n",
    "plt.show()"
   ]
  },
  {
   "cell_type": "code",
   "execution_count": 154,
   "metadata": {},
   "outputs": [
    {
     "data": {
      "image/png": "[encoded data removed]",
      "text/plain": [
       "<Figure size 432x288 with 1 Axes>"
      ]
     },
     "metadata": {},
     "output_type": "display_data"
    }
   ],
   "source": [
    "plt.plot(range(1,len(train_losses3)+1),train_losses3,'bo',label = 'training loss')\n",
    "plt.plot(range(1,len(val_losses3)+1),val_losses3,'r',label = 'validation loss')\n",
    "plt.legend()\n",
    "plt.show()"
   ]
  },
  {
   "cell_type": "code",
   "execution_count": 155,
   "metadata": {},
   "outputs": [
    {
     "data": {
      "text/plain": [
       "<matplotlib.legend.Legend at 0x2a653625f60>"
      ]
     },
     "execution_count": 155,
     "metadata": {},
     "output_type": "execute_result"
    },
    {
     "data": {
      "image/png": "[encoded data removed]",
      "text/plain": [
       "<Figure size 432x288 with 1 Axes>"
      ]
     },
     "metadata": {},
     "output_type": "display_data"
    }
   ],
   "source": [
    "plt.plot(range(1,len(train_accuracy3)+1),train_accuracy3,'bo',label = 'train accuracy')\n",
    "plt.plot(range(1,len(val_accuracy3)+1),val_accuracy3,'r',label = 'val accuracy')\n",
    "plt.legend()"
   ]
  },
  {
   "cell_type": "code",
   "execution_count": 156,
   "metadata": {},
   "outputs": [
    {
     "name": "stdout",
     "output_type": "stream",
     "text": [
      "classification rate : 0.7894131185270425\n",
      "Accuracy of the network on the validation set : 78 %\n",
      "Confusion Matrix for the 2 classes: \n",
      "      0    1\n",
      "0  472  117\n",
      "1   66  214\n"
     ]
    },
    {
     "data": {
      "image/png": "[encoded data removed]",
      "text/plain": [
       "<Figure size 360x360 with 1 Axes>"
      ]
     },
     "metadata": {},
     "output_type": "display_data"
    },
    {
     "name": "stdout",
     "output_type": "stream",
     "text": [
      "----------Model Classification-------------\n",
      "\n",
      "             precision    recall  f1-score   support\n",
      "\n",
      "         no       0.88      0.80      0.84       589\n",
      "        yes       0.65      0.76      0.70       280\n",
      "\n",
      "avg / total       0.80      0.79      0.79       869\n",
      "\n",
      " \n",
      "----------Model Accuracy-------------\n",
      "\n",
      "Accuracy: 0.789\n",
      " \n",
      "----------Model ROC/AUC-------------\n",
      "\n"
     ]
    },
    {
     "data": {
      "image/png": "[encoded data removed]",
      "text/plain": [
       "<Figure size 432x288 with 1 Axes>"
      ]
     },
     "metadata": {},
     "output_type": "display_data"
    }
   ],
   "source": [
    "eval_net(net3)"
   ]
  },
  {
   "cell_type": "markdown",
   "metadata": {},
   "source": [
    "#### --- Fscore"
   ]
  },
  {
   "cell_type": "code",
   "execution_count": 145,
   "metadata": {},
   "outputs": [],
   "source": [
    "class Net2(nn.Module):\n",
    "    def __init__(self, input_size, hidden_size1, hidden_size21, hidden_size31, num_classes):\n",
    "        super(Net2, self).__init__()\n",
    "        self.fc1 = nn.Linear(input_size, hidden_size1)\n",
    "        self.relu1 = nn.ReLU()\n",
    "        self.fcM = nn.Linear(hidden_size1, hidden_size21)\n",
    "        self.relu2 = nn.ReLU()\n",
    "        self.fcM1 = nn.Linear(hidden_size21, hidden_size31)\n",
    "        self.relu3 = nn.ReLU()\n",
    "        self.fc2 = nn.Linear(hidden_size31, num_classes)\n",
    "        self.lr = nn.Sigmoid()\n",
    "\n",
    "    def forward(self, x):\n",
    "        out = self.fc1(x)\n",
    "        out = self.relu1(out)\n",
    "        out = self.fcM(out)\n",
    "        out = self.relu2(out)\n",
    "        out = self.fcM1(out)\n",
    "        out = self.relu3(out)\n",
    "        out = self.fc2(out)\n",
    "        out = self.lr(out)\n",
    "        return out"
   ]
  },
  {
   "cell_type": "code",
   "execution_count": 157,
   "metadata": {},
   "outputs": [],
   "source": [
    "net4 = Net2(input_size, hidden_size1, hidden_size21, hidden_size31, num_classes)\n",
    "\n",
    "if is_cuda:\n",
    "    net4.cuda()"
   ]
  },
  {
   "cell_type": "code",
   "execution_count": 158,
   "metadata": {},
   "outputs": [],
   "source": [
    "# Loss and Optimizer\n",
    "\n",
    "#learning_rate = 0.001\n",
    "#weights = [0.4, 1]\n",
    "#class_weights=torch.FloatTensor(weights).cuda()   # might need to add is cuda\n",
    "class_weights=torch.FloatTensor([0.33, 0.67])\n",
    "criterion = nn.CrossEntropyLoss(weight=class_weights)\n",
    "\n",
    "#criterion = F.cross_entropy()\n",
    "optimizer4 = torch.optim.Adam(net4.parameters(), lr=learning_rate)\n",
    "# -----------------------------------------------------------------------------------"
   ]
  },
  {
   "cell_type": "code",
   "execution_count": 159,
   "metadata": {},
   "outputs": [
    {
     "data": {
      "text/plain": [
       "Net2(\n",
       "  (fc1): Linear(in_features=14, out_features=10, bias=True)\n",
       "  (relu1): ReLU()\n",
       "  (fcM): Linear(in_features=10, out_features=8, bias=True)\n",
       "  (relu2): ReLU()\n",
       "  (fcM1): Linear(in_features=8, out_features=4, bias=True)\n",
       "  (relu3): ReLU()\n",
       "  (fc2): Linear(in_features=4, out_features=2, bias=True)\n",
       "  (lr): Sigmoid()\n",
       ")"
      ]
     },
     "execution_count": 159,
     "metadata": {},
     "output_type": "execute_result"
    }
   ],
   "source": [
    "#  C. Training final preparation\n",
    "\n",
    "# ----- Weight initialization\n",
    "def init_weights(m):\n",
    "    if type(m) == nn.Linear:\n",
    "        torch.nn.init.xavier_normal_(m.weight)\n",
    "        #m.bias.data.fill_(0.01)\n",
    "\n",
    "net4.apply(init_weights)"
   ]
  },
  {
   "cell_type": "code",
   "execution_count": 160,
   "metadata": {},
   "outputs": [],
   "source": [
    "# ----- Learning rate regularization\n",
    "#####  NEED TO CHANGE THE patience\n",
    "scheduler4 = optim.lr_scheduler.ReduceLROnPlateau(optimizer4, mode='max', patience=2, verbose=True)"
   ]
  },
  {
   "cell_type": "code",
   "execution_count": null,
   "metadata": {},
   "outputs": [],
   "source": []
  },
  {
   "cell_type": "code",
   "execution_count": 161,
   "metadata": {},
   "outputs": [
    {
     "name": "stdout",
     "output_type": "stream",
     "text": [
      "training loss is 0.010684593901824763 and training accuracy is 2906/4054, 71\n",
      "training AUC is 0.6595837142606671\n",
      "F1: 0.472\n",
      "________________\n",
      "validation loss is 0.01061028379291056 and validation accuracy is 630/869, 72\n",
      "validation AUC is 0.7373635702158622\n",
      "F1: 0.580\n",
      "________________\n",
      "training loss is 0.010074154049760906 and training accuracy is 2967/4054, 73\n",
      "training AUC is 0.746892259139125\n",
      "F1: 0.627\n",
      "________________\n",
      "validation loss is 0.00992132412962041 and validation accuracy is 626/869, 72\n",
      "validation AUC is 0.8017402376910017\n",
      "F1: 0.626\n",
      "________________\n",
      "training loss is 0.009356423778726834 and training accuracy is 3053/4054, 75\n",
      "training AUC is 0.806493645645044\n",
      "F1: 0.675\n",
      "________________\n",
      "validation loss is 0.009277640401425378 and validation accuracy is 646/869, 74\n",
      "validation AUC is 0.8248484113509581\n",
      "F1: 0.658\n",
      "________________\n",
      "training loss is 0.008773447229877504 and training accuracy is 3136/4054, 77\n",
      "training AUC is 0.8268048998039355\n",
      "F1: 0.696\n",
      "________________\n",
      "validation loss is 0.008843119694530895 and validation accuracy is 663/869, 76\n",
      "validation AUC is 0.8339406985204948\n",
      "F1: 0.680\n",
      "________________\n",
      "training loss is 0.008451678759368347 and training accuracy is 3178/4054, 78\n",
      "training AUC is 0.833889800331459\n",
      "F1: 0.704\n",
      "________________\n",
      "validation loss is 0.008739728270520823 and validation accuracy is 669/869, 76\n",
      "validation AUC is 0.8365328644191123\n",
      "F1: 0.685\n",
      "________________\n",
      "training loss is 0.008323792936064424 and training accuracy is 3207/4054, 79\n",
      "training AUC is 0.836413035159419\n",
      "F1: 0.709\n",
      "________________\n",
      "validation loss is 0.008546040610970782 and validation accuracy is 684/869, 78\n",
      "validation AUC is 0.8370725200097018\n",
      "F1: 0.700\n",
      "________________\n",
      "training loss is 0.008241746444154032 and training accuracy is 3218/4054, 79\n",
      "training AUC is 0.8386796745523843\n",
      "F1: 0.711\n",
      "________________\n",
      "validation loss is 0.008543991658437925 and validation accuracy is 687/869, 79\n",
      "validation AUC is 0.8386005335920447\n",
      "F1: 0.704\n",
      "________________\n",
      "training loss is 0.008207721756077424 and training accuracy is 3225/4054, 79\n",
      "training AUC is 0.8395602254811512\n",
      "F1: 0.711\n",
      "________________\n",
      "validation loss is 0.008497353870383067 and validation accuracy is 691/869, 79\n",
      "validation AUC is 0.8385762794081979\n",
      "F1: 0.708\n",
      "________________\n",
      "training loss is 0.008158059574784935 and training accuracy is 3229/4054, 79\n",
      "training AUC is 0.8407943604664916\n",
      "F1: 0.712\n",
      "________________\n",
      "validation loss is 0.0084894744655754 and validation accuracy is 694/869, 79\n",
      "validation AUC is 0.8391462527285956\n",
      "F1: 0.711\n",
      "________________\n",
      "training loss is 0.008156272266142817 and training accuracy is 3237/4054, 79\n",
      "training AUC is 0.8422231684526766\n",
      "F1: 0.713\n",
      "________________\n",
      "validation loss is 0.008436599692760595 and validation accuracy is 695/869, 79\n",
      "validation AUC is 0.8396192093136067\n",
      "F1: 0.713\n",
      "________________\n",
      "training loss is 0.008132180617134385 and training accuracy is 3238/4054, 79\n",
      "training AUC is 0.8429397988703679\n",
      "F1: 0.713\n",
      "________________\n",
      "validation loss is 0.008425098911390755 and validation accuracy is 693/869, 79\n",
      "validation AUC is 0.838988600533592\n",
      "F1: 0.711\n",
      "________________\n",
      "training loss is 0.008128671911942529 and training accuracy is 3240/4054, 79\n",
      "training AUC is 0.8446022422878741\n",
      "F1: 0.717\n",
      "________________\n",
      "validation loss is 0.00849840617701154 and validation accuracy is 696/869, 80\n",
      "validation AUC is 0.839497938394373\n",
      "F1: 0.713\n",
      "________________\n",
      "training loss is 0.008108040963891814 and training accuracy is 3240/4054, 79\n",
      "training AUC is 0.8433605931195132\n",
      "F1: 0.713\n",
      "________________\n",
      "validation loss is 0.00845733559309956 and validation accuracy is 686/869, 78\n",
      "validation AUC is 0.8405105505699733\n",
      "F1: 0.702\n",
      "________________\n",
      "training loss is 0.00811977485276586 and training accuracy is 3240/4054, 79\n",
      "training AUC is 0.844107280269286\n",
      "F1: 0.716\n",
      "________________\n",
      "validation loss is 0.008382939256650531 and validation accuracy is 693/869, 79\n",
      "validation AUC is 0.8408622362357506\n",
      "F1: 0.711\n",
      "________________\n",
      "training loss is 0.008097882025572368 and training accuracy is 3237/4054, 79\n",
      "training AUC is 0.8443715290388385\n",
      "F1: 0.714\n",
      "________________\n",
      "validation loss is 0.008423862818058396 and validation accuracy is 691/869, 79\n",
      "validation AUC is 0.8414685908319185\n",
      "F1: 0.708\n",
      "________________\n",
      "Epoch    14: reducing learning rate of group 0 to 1.0000e-04.\n",
      "training loss is 0.008095258590501109 and training accuracy is 3242/4054, 79\n",
      "training AUC is 0.8455103452210492\n",
      "F1: 0.716\n",
      "________________\n",
      "validation loss is 0.00842240295009591 and validation accuracy is 691/869, 79\n",
      "validation AUC is 0.8415231627455735\n",
      "F1: 0.708\n",
      "________________\n",
      "training loss is 0.008105067222884094 and training accuracy is 3242/4054, 79\n",
      "training AUC is 0.8455547345614849\n",
      "F1: 0.715\n",
      "________________\n",
      "validation loss is 0.008487706594554958 and validation accuracy is 692/869, 79\n",
      "validation AUC is 0.8414443366480718\n",
      "F1: 0.709\n",
      "________________\n",
      "training loss is 0.00807650096909307 and training accuracy is 3242/4054, 79\n",
      "training AUC is 0.8456735699744378\n",
      "F1: 0.716\n",
      "________________\n",
      "validation loss is 0.008411240351351 and validation accuracy is 691/869, 79\n",
      "validation AUC is 0.8414928450157653\n",
      "F1: 0.708\n",
      "________________\n",
      "Epoch    17: reducing learning rate of group 0 to 1.0000e-05.\n",
      "training loss is 0.008077855747088341 and training accuracy is 3242/4054, 79\n",
      "training AUC is 0.8453929013234702\n",
      "F1: 0.716\n",
      "________________\n",
      "validation loss is 0.008522745037517833 and validation accuracy is 691/869, 79\n",
      "validation AUC is 0.8414625272859568\n",
      "F1: 0.708\n",
      "________________\n",
      "training loss is 0.008091565212358908 and training accuracy is 3243/4054, 79\n",
      "training AUC is 0.8457225513156081\n",
      "F1: 0.716\n",
      "________________\n",
      "validation loss is 0.008429148014724872 and validation accuracy is 691/869, 79\n",
      "validation AUC is 0.8414140189182634\n",
      "F1: 0.708\n",
      "________________\n"
     ]
    }
   ],
   "source": [
    "# ----- Full training\n",
    "train_losses4, train_accuracy4, train_auc4, train_fscore4 = [], [], [], []\n",
    "val_losses4, val_accuracy4, val_auc4, val_fscore4= [], [], [], []\n",
    "\n",
    "\n",
    "start = clock()\n",
    "for epoch in range(0, epochs):\n",
    "    epoch_loss4, epoch_accuracy4, epo_auc4, epo_f4 = fit(epoch, net4, train_loader, optimizer4, phase='training')\n",
    "    val_epoch_loss4, val_epoch_accuracy4, val_epo_auc4, val_epo_f4 = fit(epoch, net4, val_loader, optimizer4, phase='validation')\n",
    "\n",
    "    train_losses4.append(epoch_loss4)\n",
    "    train_accuracy4.append(epoch_accuracy4)\n",
    "    train_auc4.append(epo_auc4)\n",
    "    train_fscore4.append(epo_f4)\n",
    "\n",
    "    val_losses4.append(val_epoch_loss4)\n",
    "    val_accuracy4.append(val_epoch_accuracy4)\n",
    "    val_auc4.append(val_epo_auc4)\n",
    "    val_fscore4.append(val_epo_f4)\n",
    "\n",
    "    # Learning rate scheduler update\n",
    "    scheduler4.step(val_epo_f4)\n",
    "\n",
    "elapsed = clock() - start"
   ]
  },
  {
   "cell_type": "code",
   "execution_count": 162,
   "metadata": {},
   "outputs": [
    {
     "name": "stdout",
     "output_type": "stream",
     "text": [
      "3.654506393684187\n"
     ]
    }
   ],
   "source": [
    "print(elapsed)"
   ]
  },
  {
   "cell_type": "code",
   "execution_count": 163,
   "metadata": {},
   "outputs": [
    {
     "data": {
      "image/png": "[encoded data removed]",
      "text/plain": [
       "<Figure size 432x288 with 1 Axes>"
      ]
     },
     "metadata": {},
     "output_type": "display_data"
    }
   ],
   "source": [
    "plt.plot(range(1,len(train_fscore4)+1),train_fscore4,'bo',label = 'training AUC')\n",
    "plt.plot(range(1,len(val_fscore4)+1),val_fscore4,'r',label = 'validation AUC')\n",
    "plt.legend()\n",
    "plt.show()"
   ]
  },
  {
   "cell_type": "code",
   "execution_count": 164,
   "metadata": {},
   "outputs": [
    {
     "data": {
      "image/png": "[encoded data removed]",
      "text/plain": [
       "<Figure size 432x288 with 1 Axes>"
      ]
     },
     "metadata": {},
     "output_type": "display_data"
    }
   ],
   "source": [
    "plt.plot(range(1,len(train_auc4)+1),train_auc4,'bo',label = 'training AUC')\n",
    "plt.plot(range(1,len(val_auc4)+1),val_auc4,'r',label = 'validation AUC')\n",
    "plt.legend()\n",
    "plt.show()"
   ]
  },
  {
   "cell_type": "code",
   "execution_count": 165,
   "metadata": {},
   "outputs": [
    {
     "data": {
      "image/png": "[encoded data removed]",
      "text/plain": [
       "<Figure size 432x288 with 1 Axes>"
      ]
     },
     "metadata": {},
     "output_type": "display_data"
    }
   ],
   "source": [
    "plt.plot(range(1,len(train_losses4)+1),train_losses4,'bo',label = 'training loss')\n",
    "plt.plot(range(1,len(val_losses4)+1),val_losses4,'r',label = 'validation loss')\n",
    "plt.legend()\n",
    "plt.show()"
   ]
  },
  {
   "cell_type": "code",
   "execution_count": 166,
   "metadata": {},
   "outputs": [
    {
     "data": {
      "text/plain": [
       "<matplotlib.legend.Legend at 0x2a654826a58>"
      ]
     },
     "execution_count": 166,
     "metadata": {},
     "output_type": "execute_result"
    },
    {
     "data": {
      "image/png": "[encoded data removed]",
      "text/plain": [
       "<Figure size 432x288 with 1 Axes>"
      ]
     },
     "metadata": {},
     "output_type": "display_data"
    }
   ],
   "source": [
    "plt.plot(range(1,len(train_accuracy4)+1),train_accuracy4,'bo',label = 'train accuracy')\n",
    "plt.plot(range(1,len(val_accuracy4)+1),val_accuracy4,'r',label = 'val accuracy')\n",
    "plt.legend()"
   ]
  },
  {
   "cell_type": "code",
   "execution_count": 167,
   "metadata": {
    "scrolled": true
   },
   "outputs": [
    {
     "name": "stdout",
     "output_type": "stream",
     "text": [
      "classification rate : 0.7951668584579977\n",
      "Accuracy of the network on the validation set : 79 %\n",
      "Confusion Matrix for the 2 classes: \n",
      "      0    1\n",
      "0  475  114\n",
      "1   64  216\n"
     ]
    },
    {
     "data": {
      "image/png": "[encoded data removed]",
      "text/plain": [
       "<Figure size 360x360 with 1 Axes>"
      ]
     },
     "metadata": {},
     "output_type": "display_data"
    },
    {
     "name": "stdout",
     "output_type": "stream",
     "text": [
      "----------Model Classification-------------\n",
      "\n",
      "             precision    recall  f1-score   support\n",
      "\n",
      "         no       0.88      0.81      0.84       589\n",
      "        yes       0.65      0.77      0.71       280\n",
      "\n",
      "avg / total       0.81      0.80      0.80       869\n",
      "\n",
      " \n",
      "----------Model Accuracy-------------\n",
      "\n",
      "Accuracy: 0.795\n",
      " \n",
      "----------Model ROC/AUC-------------\n",
      "\n"
     ]
    },
    {
     "data": {
      "image/png": "[encoded data removed]",
      "text/plain": [
       "<Figure size 432x288 with 1 Axes>"
      ]
     },
     "metadata": {},
     "output_type": "display_data"
    }
   ],
   "source": [
    "eval_net(net4)"
   ]
  },
  {
   "cell_type": "markdown",
   "metadata": {},
   "source": [
    "## SET 3"
   ]
  },
  {
   "cell_type": "code",
   "execution_count": 169,
   "metadata": {},
   "outputs": [
    {
     "data": {
      "text/plain": [
       "14"
      ]
     },
     "execution_count": 169,
     "metadata": {},
     "output_type": "execute_result"
    }
   ],
   "source": [
    "#len(cols13)"
   ]
  },
  {
   "cell_type": "code",
   "execution_count": 170,
   "metadata": {},
   "outputs": [],
   "source": [
    "train_loader = customDataset(X_train_dummies[cols13], y_train)\n",
    "train_iter = iter(train_loader)"
   ]
  },
  {
   "cell_type": "code",
   "execution_count": 172,
   "metadata": {},
   "outputs": [
    {
     "name": "stdout",
     "output_type": "stream",
     "text": [
      "inputs shape on batch size = torch.Size([64, 14])\n",
      "labels shape on batch size = torch.Size([64])\n"
     ]
    }
   ],
   "source": [
    "inputs, labels = train_iter.next()\n",
    "\n",
    "print('inputs shape on batch size = {}'.format(inputs.size()))\n",
    "print('labels shape on batch size = {}'.format(labels.size()))"
   ]
  },
  {
   "cell_type": "code",
   "execution_count": 171,
   "metadata": {},
   "outputs": [],
   "source": [
    "val_loader = customDataset(X_val_dummies[cols13], y_val)\n",
    "val_iter = iter(val_loader)"
   ]
  },
  {
   "cell_type": "code",
   "execution_count": 173,
   "metadata": {},
   "outputs": [],
   "source": [
    "# Choose the right values for x.\n",
    "input_size = 14\n",
    "hidden_size = 8\n",
    "hidden_size2 = 4\n",
    "num_classes = 2\n",
    "num_epochs = 20\n",
    "#batch_size = 100\n",
    "learning_rate = 0.001"
   ]
  },
  {
   "cell_type": "code",
   "execution_count": 112,
   "metadata": {},
   "outputs": [],
   "source": [
    "class Net(nn.Module):\n",
    "    def __init__(self, input_size, hidden_size, hidden_size2, num_classes):\n",
    "        super(Net, self).__init__()\n",
    "        self.fc1 = nn.Linear(input_size, hidden_size)\n",
    "        self.relu = nn.ReLU()\n",
    "        self.fcM = nn.Linear(hidden_size, hidden_size2)\n",
    "        self.relu = nn.ReLU()\n",
    "        self.fc2 = nn.Linear(hidden_size2, num_classes)\n",
    "        self.lr = nn.Sigmoid()\n",
    "\n",
    "    def forward(self, x):\n",
    "        out = self.fc1(x)\n",
    "        out = self.relu(out)\n",
    "        out = self.fcM(out)\n",
    "        out = self.relu(out)\n",
    "        out = self.fc2(out)\n",
    "        out = self.lr(out)\n",
    "        return out"
   ]
  },
  {
   "cell_type": "code",
   "execution_count": 174,
   "metadata": {},
   "outputs": [],
   "source": [
    "net5 = Net(input_size, hidden_size, hidden_size2, num_classes)\n",
    "\n",
    "if is_cuda:\n",
    "    net5.cuda()"
   ]
  },
  {
   "cell_type": "code",
   "execution_count": 175,
   "metadata": {},
   "outputs": [],
   "source": [
    "# Loss and Optimizer\n",
    "\n",
    "#learning_rate = 0.001\n",
    "#weights = [0.4, 1]\n",
    "#class_weights=torch.FloatTensor(weights).cuda()   # might need to add is cuda\n",
    "class_weights=torch.FloatTensor([0.33, 0.67])\n",
    "criterion = nn.CrossEntropyLoss(weight=class_weights)\n",
    "\n",
    "#criterion = F.cross_entropy()\n",
    "optimizer5 = torch.optim.Adam(net5.parameters(), lr=learning_rate)\n",
    "# -----------------------------------------------------------------------------------"
   ]
  },
  {
   "cell_type": "code",
   "execution_count": 176,
   "metadata": {},
   "outputs": [
    {
     "data": {
      "text/plain": [
       "Net(\n",
       "  (fc1): Linear(in_features=14, out_features=8, bias=True)\n",
       "  (relu): ReLU()\n",
       "  (fcM): Linear(in_features=8, out_features=4, bias=True)\n",
       "  (fc2): Linear(in_features=4, out_features=2, bias=True)\n",
       "  (lr): Sigmoid()\n",
       ")"
      ]
     },
     "execution_count": 176,
     "metadata": {},
     "output_type": "execute_result"
    }
   ],
   "source": [
    "#  C. Training final preparation\n",
    "\n",
    "# ----- Weight initialization\n",
    "def init_weights(m):\n",
    "    if type(m) == nn.Linear:\n",
    "        torch.nn.init.xavier_normal_(m.weight)\n",
    "        #m.bias.data.fill_(0.01)\n",
    "\n",
    "net5.apply(init_weights)"
   ]
  },
  {
   "cell_type": "code",
   "execution_count": 177,
   "metadata": {},
   "outputs": [],
   "source": [
    "# ----- Learning rate regularization\n",
    "#####  NEED TO CHANGE THE patience\n",
    "scheduler5 = optim.lr_scheduler.ReduceLROnPlateau(optimizer5, mode='max', patience=2, verbose=True)"
   ]
  },
  {
   "cell_type": "code",
   "execution_count": 122,
   "metadata": {},
   "outputs": [
    {
     "data": {
      "text/plain": [
       "torch.Size([869, 15])"
      ]
     },
     "execution_count": 122,
     "metadata": {},
     "output_type": "execute_result"
    }
   ],
   "source": [
    "#val_loader.dataset.tensors[0].shape"
   ]
  },
  {
   "cell_type": "code",
   "execution_count": 178,
   "metadata": {},
   "outputs": [
    {
     "name": "stdout",
     "output_type": "stream",
     "text": [
      "training loss is 0.010995381458910098 and training accuracy is 1308/4054, 32\n",
      "training AUC is 0.5026565420008043\n",
      "F1: 0.485\n",
      "________________\n",
      "validation loss is 0.011178954424051476 and validation accuracy is 287/869, 33\n",
      "validation AUC is 0.5742147707979626\n",
      "F1: 0.483\n",
      "________________\n",
      "training loss is 0.010842695589658363 and training accuracy is 1393/4054, 34\n",
      "training AUC is 0.630960243014245\n",
      "F1: 0.490\n",
      "________________\n",
      "validation loss is 0.011014131325435309 and validation accuracy is 307/869, 35\n",
      "validation AUC is 0.6874575551782682\n",
      "F1: 0.492\n",
      "________________\n",
      "training loss is 0.010658342496009077 and training accuracy is 1740/4054, 42\n",
      "training AUC is 0.7457686104744929\n",
      "F1: 0.517\n",
      "________________\n",
      "validation loss is 0.010809967172159561 and validation accuracy is 379/869, 43\n",
      "validation AUC is 0.7657076158137278\n",
      "F1: 0.518\n",
      "________________\n",
      "training loss is 0.010407154525978905 and training accuracy is 2322/4054, 57\n",
      "training AUC is 0.7927646766605302\n",
      "F1: 0.583\n",
      "________________\n",
      "validation loss is 0.010548818234881543 and validation accuracy is 520/869, 59\n",
      "validation AUC is 0.7944973320397769\n",
      "F1: 0.590\n",
      "________________\n",
      "training loss is 0.010108126830043144 and training accuracy is 2523/4054, 62\n",
      "training AUC is 0.818626546495399\n",
      "F1: 0.606\n",
      "________________\n",
      "validation loss is 0.010279646196903101 and validation accuracy is 556/869, 63\n",
      "validation AUC is 0.8080311666262429\n",
      "F1: 0.614\n",
      "________________\n",
      "training loss is 0.00987152795692824 and training accuracy is 2637/4054, 65\n",
      "training AUC is 0.8313384568929411\n",
      "F1: 0.626\n",
      "________________\n",
      "validation loss is 0.01007738417942587 and validation accuracy is 571/869, 65\n",
      "validation AUC is 0.8177298083919476\n",
      "F1: 0.623\n",
      "________________\n",
      "training loss is 0.009662359188387532 and training accuracy is 2823/4054, 69\n",
      "training AUC is 0.838328177768872\n",
      "F1: 0.652\n",
      "________________\n",
      "validation loss is 0.009882789898247932 and validation accuracy is 611/869, 70\n",
      "validation AUC is 0.8234052874120786\n",
      "F1: 0.651\n",
      "________________\n",
      "training loss is 0.00947445689837922 and training accuracy is 2946/4054, 72\n",
      "training AUC is 0.842497436132923\n",
      "F1: 0.671\n",
      "________________\n",
      "validation loss is 0.009696776628219902 and validation accuracy is 631/869, 72\n",
      "validation AUC is 0.8288109386369148\n",
      "F1: 0.663\n",
      "________________\n",
      "training loss is 0.009303595288139762 and training accuracy is 3006/4054, 74\n",
      "training AUC is 0.8456810841574584\n",
      "F1: 0.681\n",
      "________________\n",
      "validation loss is 0.009551903320812932 and validation accuracy is 643/869, 73\n",
      "validation AUC is 0.8327067669172932\n",
      "F1: 0.672\n",
      "________________\n",
      "training loss is 0.009159750887250217 and training accuracy is 3090/4054, 76\n",
      "training AUC is 0.8437262833598416\n",
      "F1: 0.694\n",
      "________________\n",
      "validation loss is 0.00942478403534796 and validation accuracy is 660/869, 75\n",
      "validation AUC is 0.837257458161533\n",
      "F1: 0.685\n",
      "________________\n",
      "training loss is 0.009058227724904312 and training accuracy is 3126/4054, 77\n",
      "training AUC is 0.8433756214855539\n",
      "F1: 0.700\n",
      "________________\n",
      "validation loss is 0.009326421898994401 and validation accuracy is 666/869, 76\n",
      "validation AUC is 0.8382670385641524\n",
      "F1: 0.686\n",
      "________________\n",
      "training loss is 0.008947491307651462 and training accuracy is 3177/4054, 78\n",
      "training AUC is 0.8444920342702406\n",
      "F1: 0.709\n",
      "________________\n",
      "validation loss is 0.009247100325804997 and validation accuracy is 670/869, 77\n",
      "validation AUC is 0.8388673296143584\n",
      "F1: 0.688\n",
      "________________\n",
      "training loss is 0.008881353323366705 and training accuracy is 3199/4054, 78\n",
      "training AUC is 0.8458091035718809\n",
      "F1: 0.713\n",
      "________________\n",
      "validation loss is 0.009215849589972283 and validation accuracy is 674/869, 77\n",
      "validation AUC is 0.8405075187969925\n",
      "F1: 0.692\n",
      "________________\n",
      "training loss is 0.008833602394267262 and training accuracy is 3224/4054, 79\n",
      "training AUC is 0.8444899469971794\n",
      "F1: 0.717\n",
      "________________\n",
      "validation loss is 0.009139609830700487 and validation accuracy is 680/869, 78\n",
      "validation AUC is 0.8361326703856414\n",
      "F1: 0.697\n",
      "________________\n",
      "training loss is 0.008747328170191554 and training accuracy is 3239/4054, 79\n",
      "training AUC is 0.8429896151207628\n",
      "F1: 0.718\n",
      "________________\n",
      "validation loss is 0.009048347986197169 and validation accuracy is 686/869, 78\n",
      "validation AUC is 0.830657288382246\n",
      "F1: 0.702\n",
      "________________\n",
      "training loss is 0.008709102589682986 and training accuracy is 3250/4054, 80\n",
      "training AUC is 0.8419701909576548\n",
      "F1: 0.719\n",
      "________________\n",
      "validation loss is 0.009024217776242554 and validation accuracy is 685/869, 78\n",
      "validation AUC is 0.8318002667960224\n",
      "F1: 0.701\n",
      "________________\n",
      "Epoch    15: reducing learning rate of group 0 to 1.0000e-04.\n",
      "training loss is 0.008693970574436367 and training accuracy is 3248/4054, 80\n",
      "training AUC is 0.8366013071895425\n",
      "F1: 0.720\n",
      "________________\n",
      "validation loss is 0.009003092765259386 and validation accuracy is 685/869, 78\n",
      "validation AUC is 0.8319973320397769\n",
      "F1: 0.701\n",
      "________________\n",
      "training loss is 0.008690766810077015 and training accuracy is 3246/4054, 80\n",
      "training AUC is 0.8438259158606314\n",
      "F1: 0.719\n",
      "________________\n",
      "validation loss is 0.009008588395815587 and validation accuracy is 685/869, 78\n",
      "validation AUC is 0.8308391947610961\n",
      "F1: 0.701\n",
      "________________\n",
      "training loss is 0.008669405933019264 and training accuracy is 3248/4054, 80\n",
      "training AUC is 0.8419379078009741\n",
      "F1: 0.720\n",
      "________________\n",
      "validation loss is 0.008989306258935785 and validation accuracy is 685/869, 78\n",
      "validation AUC is 0.8307846228474411\n",
      "F1: 0.701\n",
      "________________\n",
      "Epoch    18: reducing learning rate of group 0 to 1.0000e-05.\n",
      "training loss is 0.008691597040733447 and training accuracy is 3249/4054, 80\n",
      "training AUC is 0.840104307992447\n",
      "F1: 0.720\n",
      "________________\n",
      "validation loss is 0.009021924677871862 and validation accuracy is 685/869, 78\n",
      "validation AUC is 0.8307846228474411\n",
      "F1: 0.701\n",
      "________________\n"
     ]
    }
   ],
   "source": [
    "# ----- Full training\n",
    "train_losses, train_accuracy, train_auc, train_fscore = [], [], [], []\n",
    "val_losses, val_accuracy, val_auc, val_fscore= [], [], [], []\n",
    "\n",
    "\n",
    "start = clock()\n",
    "for epoch in range(0, epochs):\n",
    "    epoch_loss, epoch_accuracy, epo_auc, epo_f = fit(epoch, net5, train_loader, optimizer5, phase='training')\n",
    "    val_epoch_loss, val_epoch_accuracy, val_epo_auc, val_epo_f = fit(epoch, net5, val_loader, optimizer5, phase='validation')\n",
    "\n",
    "    train_losses.append(epoch_loss)\n",
    "    train_accuracy.append(epoch_accuracy)\n",
    "    train_auc.append(epo_auc)\n",
    "    train_fscore.append(epo_f)\n",
    "\n",
    "    val_losses.append(val_epoch_loss)\n",
    "    val_accuracy.append(val_epoch_accuracy)\n",
    "    val_auc.append(val_epo_auc)\n",
    "    val_fscore.append(val_epo_f)\n",
    "\n",
    "    # Learning rate scheduler update\n",
    "    scheduler5.step(val_epo_auc)\n",
    "\n",
    "elapsed = clock() - start"
   ]
  },
  {
   "cell_type": "code",
   "execution_count": 179,
   "metadata": {},
   "outputs": [
    {
     "name": "stdout",
     "output_type": "stream",
     "text": [
      "3.21823029588586\n"
     ]
    }
   ],
   "source": [
    "print(elapsed)"
   ]
  },
  {
   "cell_type": "code",
   "execution_count": 180,
   "metadata": {},
   "outputs": [
    {
     "data": {
      "image/png": "[encoded data removed]",
      "text/plain": [
       "<Figure size 432x288 with 1 Axes>"
      ]
     },
     "metadata": {},
     "output_type": "display_data"
    }
   ],
   "source": [
    "plt.plot(range(1,len(train_auc)+1),train_auc,'bo',label = 'training AUC')\n",
    "plt.plot(range(1,len(val_auc)+1),val_auc,'r',label = 'validation AUC')\n",
    "plt.legend()\n",
    "plt.show()"
   ]
  },
  {
   "cell_type": "code",
   "execution_count": 181,
   "metadata": {},
   "outputs": [
    {
     "data": {
      "image/png": "[encoded data removed]",
      "text/plain": [
       "<Figure size 432x288 with 1 Axes>"
      ]
     },
     "metadata": {},
     "output_type": "display_data"
    }
   ],
   "source": [
    "plt.plot(range(1,len(train_losses)+1),train_losses,'bo',label = 'training loss')\n",
    "plt.plot(range(1,len(val_losses)+1),val_losses,'r',label = 'validation loss')\n",
    "plt.legend()\n",
    "plt.show()"
   ]
  },
  {
   "cell_type": "code",
   "execution_count": 182,
   "metadata": {},
   "outputs": [
    {
     "data": {
      "text/plain": [
       "<matplotlib.legend.Legend at 0x2a652ff5390>"
      ]
     },
     "execution_count": 182,
     "metadata": {},
     "output_type": "execute_result"
    },
    {
     "data": {
      "image/png": "[encoded data removed]",
      "text/plain": [
       "<Figure size 432x288 with 1 Axes>"
      ]
     },
     "metadata": {},
     "output_type": "display_data"
    }
   ],
   "source": [
    "plt.plot(range(1,len(train_accuracy)+1),train_accuracy,'bo',label = 'train accuracy')\n",
    "plt.plot(range(1,len(val_accuracy)+1),val_accuracy,'r',label = 'val accuracy')\n",
    "plt.legend()"
   ]
  },
  {
   "cell_type": "code",
   "execution_count": 183,
   "metadata": {},
   "outputs": [
    {
     "name": "stdout",
     "output_type": "stream",
     "text": [
      "classification rate : 0.5822784810126582\n",
      "Accuracy of the network on the validation set : 58 %\n",
      "Confusion Matrix for the 2 classes: \n",
      "      0    1\n",
      "0  292  297\n",
      "1   66  214\n"
     ]
    },
    {
     "data": {
      "image/png": "[encoded data removed]",
      "text/plain": [
       "<Figure size 360x360 with 1 Axes>"
      ]
     },
     "metadata": {},
     "output_type": "display_data"
    },
    {
     "name": "stdout",
     "output_type": "stream",
     "text": [
      "----------Model Classification-------------\n",
      "\n",
      "             precision    recall  f1-score   support\n",
      "\n",
      "         no       0.82      0.50      0.62       589\n",
      "        yes       0.42      0.76      0.54       280\n",
      "\n",
      "avg / total       0.69      0.58      0.59       869\n",
      "\n",
      " \n",
      "----------Model Accuracy-------------\n",
      "\n",
      "Accuracy: 0.582\n",
      " \n",
      "----------Model ROC/AUC-------------\n",
      "\n"
     ]
    },
    {
     "data": {
      "image/png": "[encoded data removed]",
      "text/plain": [
       "<Figure size 432x288 with 1 Axes>"
      ]
     },
     "metadata": {},
     "output_type": "display_data"
    }
   ],
   "source": [
    "eval_net(net5)"
   ]
  },
  {
   "cell_type": "code",
   "execution_count": null,
   "metadata": {},
   "outputs": [],
   "source": []
  },
  {
   "cell_type": "markdown",
   "metadata": {},
   "source": [
    "#### --- Fscore"
   ]
  },
  {
   "cell_type": "code",
   "execution_count": 184,
   "metadata": {},
   "outputs": [],
   "source": [
    "net6 = Net(input_size, hidden_size, hidden_size2, num_classes)\n",
    "\n",
    "if is_cuda:\n",
    "    net6.cuda()"
   ]
  },
  {
   "cell_type": "code",
   "execution_count": 185,
   "metadata": {},
   "outputs": [],
   "source": [
    "# Loss and Optimizer\n",
    "\n",
    "#learning_rate = 0.001\n",
    "#weights = [0.4, 1]\n",
    "#class_weights=torch.FloatTensor(weights).cuda()   # might need to add is cuda\n",
    "class_weights=torch.FloatTensor([0.33, 0.67])\n",
    "criterion = nn.CrossEntropyLoss(weight=class_weights)\n",
    "\n",
    "#criterion = F.cross_entropy()\n",
    "optimizer6 = torch.optim.Adam(net6.parameters(), lr=learning_rate)\n",
    "# -----------------------------------------------------------------------------------"
   ]
  },
  {
   "cell_type": "code",
   "execution_count": null,
   "metadata": {},
   "outputs": [],
   "source": []
  },
  {
   "cell_type": "code",
   "execution_count": 186,
   "metadata": {},
   "outputs": [
    {
     "data": {
      "text/plain": [
       "Net(\n",
       "  (fc1): Linear(in_features=14, out_features=8, bias=True)\n",
       "  (relu): ReLU()\n",
       "  (fcM): Linear(in_features=8, out_features=4, bias=True)\n",
       "  (fc2): Linear(in_features=4, out_features=2, bias=True)\n",
       "  (lr): Sigmoid()\n",
       ")"
      ]
     },
     "execution_count": 186,
     "metadata": {},
     "output_type": "execute_result"
    }
   ],
   "source": [
    "#  C. Training final preparation\n",
    "\n",
    "# ----- Weight initialization\n",
    "def init_weights(m):\n",
    "    if type(m) == nn.Linear:\n",
    "        torch.nn.init.xavier_normal_(m.weight)\n",
    "        #m.bias.data.fill_(0.01)\n",
    "\n",
    "net6.apply(init_weights)"
   ]
  },
  {
   "cell_type": "code",
   "execution_count": 187,
   "metadata": {},
   "outputs": [],
   "source": [
    "# ----- Learning rate regularization\n",
    "#####  NEED TO CHANGE THE patience\n",
    "scheduler6 = optim.lr_scheduler.ReduceLROnPlateau(optimizer6, mode='max', patience=2, verbose=True)"
   ]
  },
  {
   "cell_type": "code",
   "execution_count": null,
   "metadata": {},
   "outputs": [],
   "source": []
  },
  {
   "cell_type": "code",
   "execution_count": 188,
   "metadata": {},
   "outputs": [
    {
     "name": "stdout",
     "output_type": "stream",
     "text": [
      "training loss is 0.010940738187732517 and training accuracy is 1309/4054, 32\n",
      "training AUC is 0.30745142567707656\n",
      "F1: 0.488\n",
      "________________\n",
      "validation loss is 0.011158196643526453 and validation accuracy is 280/869, 32\n",
      "validation AUC is 0.25214649527043415\n",
      "F1: 0.487\n",
      "________________\n",
      "training loss is 0.010906455313330163 and training accuracy is 1309/4054, 32\n",
      "training AUC is 0.35149246981455273\n",
      "F1: 0.488\n",
      "________________\n",
      "validation loss is 0.011081054309432334 and validation accuracy is 282/869, 32\n",
      "validation AUC is 0.799396677176813\n",
      "F1: 0.488\n",
      "________________\n",
      "training loss is 0.010763012942388014 and training accuracy is 1570/4054, 38\n",
      "training AUC is 0.7705309048607023\n",
      "F1: 0.511\n",
      "________________\n",
      "validation loss is 0.010866776846083453 and validation accuracy is 421/869, 48\n",
      "validation AUC is 0.8185756730536018\n",
      "F1: 0.540\n",
      "________________\n",
      "training loss is 0.010466917827321088 and training accuracy is 2222/4054, 54\n",
      "training AUC is 0.823936430011647\n",
      "F1: 0.578\n",
      "________________\n",
      "validation loss is 0.010522033732011486 and validation accuracy is 507/869, 58\n",
      "validation AUC is 0.8258701188455008\n",
      "F1: 0.590\n",
      "________________\n",
      "training loss is 0.01013123868543289 and training accuracy is 2525/4054, 62\n",
      "training AUC is 0.8379885088660401\n",
      "F1: 0.615\n",
      "________________\n",
      "validation loss is 0.010242459551785977 and validation accuracy is 570/869, 65\n",
      "validation AUC is 0.8305936211496483\n",
      "F1: 0.629\n",
      "________________\n",
      "training loss is 0.009838710645177886 and training accuracy is 2831/4054, 69\n",
      "training AUC is 0.8416554301800202\n",
      "F1: 0.656\n",
      "________________\n",
      "validation loss is 0.00995724199830594 and validation accuracy is 624/869, 71\n",
      "validation AUC is 0.8335708222168323\n",
      "F1: 0.662\n",
      "________________\n",
      "training loss is 0.009611912134191233 and training accuracy is 2982/4054, 73\n",
      "training AUC is 0.8421403732879144\n",
      "F1: 0.678\n",
      "________________\n",
      "validation loss is 0.009805139107040213 and validation accuracy is 652/869, 75\n",
      "validation AUC is 0.83280378365268\n",
      "F1: 0.683\n",
      "________________\n",
      "training loss is 0.009439357246268132 and training accuracy is 3061/4054, 75\n",
      "training AUC is 0.8397852335171525\n",
      "F1: 0.689\n",
      "________________\n",
      "validation loss is 0.009606477786262784 and validation accuracy is 664/869, 76\n",
      "validation AUC is 0.8321610477807422\n",
      "F1: 0.690\n",
      "________________\n",
      "training loss is 0.009152764543618954 and training accuracy is 3169/4054, 78\n",
      "training AUC is 0.8338754677231051\n",
      "F1: 0.708\n",
      "________________\n",
      "validation loss is 0.009176109204769684 and validation accuracy is 682/869, 78\n",
      "validation AUC is 0.8077401164200825\n",
      "F1: 0.699\n",
      "________________\n",
      "training loss is 0.008692018463509272 and training accuracy is 3238/4054, 79\n",
      "training AUC is 0.8314194430877169\n",
      "F1: 0.713\n",
      "________________\n",
      "validation loss is 0.008854343406898928 and validation accuracy is 688/869, 79\n",
      "validation AUC is 0.8152043414989087\n",
      "F1: 0.704\n",
      "________________\n",
      "training loss is 0.008480598325792886 and training accuracy is 3243/4054, 79\n",
      "training AUC is 0.8366132742217604\n",
      "F1: 0.714\n",
      "________________\n",
      "validation loss is 0.008704451271798997 and validation accuracy is 695/869, 79\n",
      "validation AUC is 0.8192972350230415\n",
      "F1: 0.712\n",
      "________________\n",
      "training loss is 0.0083619034313838 and training accuracy is 3242/4054, 79\n",
      "training AUC is 0.8356316992768295\n",
      "F1: 0.713\n",
      "________________\n",
      "validation loss is 0.008590861006079389 and validation accuracy is 695/869, 79\n",
      "validation AUC is 0.8230081251515887\n",
      "F1: 0.712\n",
      "________________\n",
      "training loss is 0.008292302915658278 and training accuracy is 3243/4054, 79\n",
      "training AUC is 0.8376453611747728\n",
      "F1: 0.712\n",
      "________________\n",
      "validation loss is 0.008572845073508997 and validation accuracy is 696/869, 80\n",
      "validation AUC is 0.82373575066699\n",
      "F1: 0.713\n",
      "________________\n",
      "training loss is 0.00824722394045786 and training accuracy is 3247/4054, 80\n",
      "training AUC is 0.840695423723389\n",
      "F1: 0.714\n",
      "________________\n",
      "validation loss is 0.008562845725596157 and validation accuracy is 695/869, 79\n",
      "validation AUC is 0.8245785835556634\n",
      "F1: 0.712\n",
      "________________\n",
      "training loss is 0.008229465071768024 and training accuracy is 3243/4054, 79\n",
      "training AUC is 0.8407528933083417\n",
      "F1: 0.712\n",
      "________________\n",
      "validation loss is 0.008526222718187251 and validation accuracy is 695/869, 79\n",
      "validation AUC is 0.828077249575552\n",
      "F1: 0.712\n",
      "________________\n",
      "training loss is 0.008188989724675364 and training accuracy is 3247/4054, 80\n",
      "training AUC is 0.8429797353616061\n",
      "F1: 0.715\n",
      "________________\n",
      "validation loss is 0.008454211081953674 and validation accuracy is 693/869, 79\n",
      "validation AUC is 0.830939243269464\n",
      "F1: 0.710\n",
      "________________\n",
      "Epoch    15: reducing learning rate of group 0 to 1.0000e-04.\n",
      "training loss is 0.00816149553849183 and training accuracy is 3247/4054, 80\n",
      "training AUC is 0.8437692811849032\n",
      "F1: 0.715\n",
      "________________\n",
      "validation loss is 0.008502364432990071 and validation accuracy is 693/869, 79\n",
      "validation AUC is 0.8308119088042688\n",
      "F1: 0.710\n",
      "________________\n",
      "training loss is 0.00817894490851989 and training accuracy is 3247/4054, 80\n",
      "training AUC is 0.8432328520081653\n",
      "F1: 0.715\n",
      "________________\n",
      "validation loss is 0.008407203285548712 and validation accuracy is 693/869, 79\n",
      "validation AUC is 0.8308058452583071\n",
      "F1: 0.710\n",
      "________________\n",
      "training loss is 0.008172639548690318 and training accuracy is 3248/4054, 80\n",
      "training AUC is 0.8436561509849843\n",
      "F1: 0.715\n",
      "________________\n",
      "validation loss is 0.008488623813326258 and validation accuracy is 693/869, 79\n",
      "validation AUC is 0.830902861993694\n",
      "F1: 0.710\n",
      "________________\n",
      "Epoch    18: reducing learning rate of group 0 to 1.0000e-05.\n",
      "training loss is 0.008141622028153226 and training accuracy is 3249/4054, 80\n",
      "training AUC is 0.8433452864503973\n",
      "F1: 0.716\n",
      "________________\n",
      "validation loss is 0.008451663274896708 and validation accuracy is 693/869, 79\n",
      "validation AUC is 0.8309089255396556\n",
      "F1: 0.710\n",
      "________________\n"
     ]
    }
   ],
   "source": [
    "# ----- Full training\n",
    "train_losses1, train_accuracy1, train_auc1, train_fscore1 = [], [], [], []\n",
    "val_losses1, val_accuracy1, val_auc1, val_fscore1= [], [], [], []\n",
    "\n",
    "start = clock()\n",
    "for epoch in range(0, epochs):\n",
    "    epoch_loss1, epoch_accuracy1, epo_auc1, epo_f1 = fit(epoch, net6, train_loader, optimizer6, phase='training')\n",
    "    val_epoch_loss1, val_epoch_accuracy1, val_epo_auc1, val_epo_f1 = fit(epoch, net6, val_loader, optimizer6, phase='validation')\n",
    "\n",
    "    train_losses1.append(epoch_loss1)\n",
    "    train_accuracy1.append(epoch_accuracy1)\n",
    "    train_auc1.append(epo_auc1)\n",
    "    train_fscore1.append(epo_f1)\n",
    "\n",
    "    val_losses1.append(val_epoch_loss1)\n",
    "    val_accuracy1.append(val_epoch_accuracy1)\n",
    "    val_auc1.append(val_epo_auc1)\n",
    "    val_fscore1.append(val_epo_f1)\n",
    "\n",
    "    # Learning rate scheduler update\n",
    "    scheduler6.step(val_epo_f1)\n",
    "\n",
    "elapsed = clock() - start"
   ]
  },
  {
   "cell_type": "code",
   "execution_count": 189,
   "metadata": {},
   "outputs": [
    {
     "name": "stdout",
     "output_type": "stream",
     "text": [
      "3.1563959754239477\n"
     ]
    }
   ],
   "source": [
    "print(elapsed)"
   ]
  },
  {
   "cell_type": "code",
   "execution_count": 190,
   "metadata": {},
   "outputs": [
    {
     "data": {
      "image/png": "[encoded data removed]",
      "text/plain": [
       "<Figure size 432x288 with 1 Axes>"
      ]
     },
     "metadata": {},
     "output_type": "display_data"
    }
   ],
   "source": [
    "plt.plot(range(1,len(train_fscore1)+1),train_fscore1,'bo',label = 'training AUC')\n",
    "plt.plot(range(1,len(val_fscore1)+1),val_fscore1,'r',label = 'validation AUC')\n",
    "plt.legend()\n",
    "plt.show()"
   ]
  },
  {
   "cell_type": "code",
   "execution_count": 191,
   "metadata": {},
   "outputs": [
    {
     "data": {
      "image/png": "[encoded data removed]",
      "text/plain": [
       "<Figure size 432x288 with 1 Axes>"
      ]
     },
     "metadata": {},
     "output_type": "display_data"
    }
   ],
   "source": [
    "plt.plot(range(1,len(train_auc1)+1),train_auc1,'bo',label = 'training AUC')\n",
    "plt.plot(range(1,len(val_auc1)+1),val_auc1,'r',label = 'validation AUC')\n",
    "plt.legend()\n",
    "plt.show()"
   ]
  },
  {
   "cell_type": "code",
   "execution_count": 192,
   "metadata": {},
   "outputs": [
    {
     "data": {
      "image/png": "[encoded data removed]",
      "text/plain": [
       "<Figure size 432x288 with 1 Axes>"
      ]
     },
     "metadata": {},
     "output_type": "display_data"
    }
   ],
   "source": [
    "plt.plot(range(1,len(train_losses1)+1),train_losses1,'bo',label = 'training loss')\n",
    "plt.plot(range(1,len(val_losses1)+1),val_losses1,'r',label = 'validation loss')\n",
    "plt.legend()\n",
    "plt.show()"
   ]
  },
  {
   "cell_type": "code",
   "execution_count": 193,
   "metadata": {},
   "outputs": [
    {
     "data": {
      "image/png": "[encoded data removed]",
      "text/plain": [
       "<Figure size 432x288 with 1 Axes>"
      ]
     },
     "metadata": {},
     "output_type": "display_data"
    }
   ],
   "source": [
    "plt.plot(range(1,len(train_accuracy1)+1),train_accuracy1,'bo',label = 'train accuracy')\n",
    "plt.plot(range(1,len(val_accuracy1)+1),val_accuracy1,'r',label = 'val accuracy')\n",
    "plt.legend()\n",
    "plt.show()"
   ]
  },
  {
   "cell_type": "code",
   "execution_count": 195,
   "metadata": {},
   "outputs": [
    {
     "name": "stdout",
     "output_type": "stream",
     "text": [
      "classification rate : 0.5868814729574223\n",
      "Accuracy of the network on the validation set : 58 %\n",
      "Confusion Matrix for the 2 classes: \n",
      "      0    1\n",
      "0  311  278\n",
      "1   81  199\n"
     ]
    },
    {
     "data": {
      "image/png": "[encoded data removed]",
      "text/plain": [
       "<Figure size 360x360 with 1 Axes>"
      ]
     },
     "metadata": {},
     "output_type": "display_data"
    },
    {
     "name": "stdout",
     "output_type": "stream",
     "text": [
      "----------Model Classification-------------\n",
      "\n",
      "             precision    recall  f1-score   support\n",
      "\n",
      "         no       0.79      0.53      0.63       589\n",
      "        yes       0.42      0.71      0.53       280\n",
      "\n",
      "avg / total       0.67      0.59      0.60       869\n",
      "\n",
      " \n",
      "----------Model Accuracy-------------\n",
      "\n",
      "Accuracy: 0.587\n",
      " \n",
      "----------Model ROC/AUC-------------\n",
      "\n"
     ]
    },
    {
     "data": {
      "image/png": "[encoded data removed]",
      "text/plain": [
       "<Figure size 432x288 with 1 Axes>"
      ]
     },
     "metadata": {},
     "output_type": "display_data"
    }
   ],
   "source": [
    "eval_net(net6)"
   ]
  },
  {
   "cell_type": "markdown",
   "metadata": {},
   "source": [
    "### 4 Layers"
   ]
  },
  {
   "cell_type": "code",
   "execution_count": null,
   "metadata": {},
   "outputs": [],
   "source": []
  },
  {
   "cell_type": "code",
   "execution_count": 137,
   "metadata": {},
   "outputs": [],
   "source": [
    "# Choose the right values for x.\n",
    "input_size = 14\n",
    "hidden_size1 = 10\n",
    "hidden_size21 = 8\n",
    "hidden_size31 = 4\n",
    "num_classes = 2\n",
    "#num_epochs = 20\n",
    "#batch_size = 100\n",
    "learning_rate = 0.001"
   ]
  },
  {
   "cell_type": "code",
   "execution_count": 145,
   "metadata": {},
   "outputs": [],
   "source": [
    "class Net2(nn.Module):\n",
    "    def __init__(self, input_size, hidden_size1, hidden_size21, hidden_size31, num_classes):\n",
    "        super(Net2, self).__init__()\n",
    "        self.fc1 = nn.Linear(input_size, hidden_size1)\n",
    "        self.relu1 = nn.ReLU()\n",
    "        self.fcM = nn.Linear(hidden_size1, hidden_size21)\n",
    "        self.relu2 = nn.ReLU()\n",
    "        self.fcM1 = nn.Linear(hidden_size21, hidden_size31)\n",
    "        self.relu3 = nn.ReLU()\n",
    "        self.fc2 = nn.Linear(hidden_size31, num_classes)\n",
    "        self.lr = nn.Sigmoid()\n",
    "\n",
    "    def forward(self, x):\n",
    "        out = self.fc1(x)\n",
    "        out = self.relu1(out)\n",
    "        out = self.fcM(out)\n",
    "        out = self.relu2(out)\n",
    "        out = self.fcM1(out)\n",
    "        out = self.relu3(out)\n",
    "        out = self.fc2(out)\n",
    "        out = self.lr(out)\n",
    "        return out"
   ]
  },
  {
   "cell_type": "code",
   "execution_count": 196,
   "metadata": {},
   "outputs": [],
   "source": [
    "net7 = Net2(input_size, hidden_size1, hidden_size21, hidden_size31, num_classes)\n",
    "\n",
    "if is_cuda:\n",
    "    net7.cuda()"
   ]
  },
  {
   "cell_type": "code",
   "execution_count": 197,
   "metadata": {},
   "outputs": [],
   "source": [
    "# Loss and Optimizer\n",
    "\n",
    "#learning_rate = 0.001\n",
    "#weights = [0.4, 1]\n",
    "#class_weights=torch.FloatTensor(weights).cuda()   # might need to add is cuda\n",
    "class_weights=torch.FloatTensor([0.33, 0.67])\n",
    "criterion = nn.CrossEntropyLoss(weight=class_weights)\n",
    "\n",
    "#criterion = F.cross_entropy()\n",
    "optimizer7 = torch.optim.Adam(net7.parameters(), lr=learning_rate)\n",
    "# -----------------------------------------------------------------------------------"
   ]
  },
  {
   "cell_type": "code",
   "execution_count": 198,
   "metadata": {},
   "outputs": [
    {
     "data": {
      "text/plain": [
       "Net2(\n",
       "  (fc1): Linear(in_features=14, out_features=10, bias=True)\n",
       "  (relu1): ReLU()\n",
       "  (fcM): Linear(in_features=10, out_features=8, bias=True)\n",
       "  (relu2): ReLU()\n",
       "  (fcM1): Linear(in_features=8, out_features=4, bias=True)\n",
       "  (relu3): ReLU()\n",
       "  (fc2): Linear(in_features=4, out_features=2, bias=True)\n",
       "  (lr): Sigmoid()\n",
       ")"
      ]
     },
     "execution_count": 198,
     "metadata": {},
     "output_type": "execute_result"
    }
   ],
   "source": [
    "#  C. Training final preparation\n",
    "\n",
    "# ----- Weight initialization\n",
    "def init_weights(m):\n",
    "    if type(m) == nn.Linear:\n",
    "        torch.nn.init.xavier_normal_(m.weight)\n",
    "        #m.bias.data.fill_(0.01)\n",
    "\n",
    "net7.apply(init_weights)"
   ]
  },
  {
   "cell_type": "code",
   "execution_count": 199,
   "metadata": {},
   "outputs": [],
   "source": [
    "# ----- Learning rate regularization\n",
    "#####  NEED TO CHANGE THE patience\n",
    "scheduler7 = optim.lr_scheduler.ReduceLROnPlateau(optimizer7, mode='max', patience=2, verbose=True)"
   ]
  },
  {
   "cell_type": "code",
   "execution_count": null,
   "metadata": {},
   "outputs": [],
   "source": []
  },
  {
   "cell_type": "code",
   "execution_count": 200,
   "metadata": {},
   "outputs": [
    {
     "name": "stdout",
     "output_type": "stream",
     "text": [
      "training loss is 0.010697057050734126 and training accuracy is 2842/4054, 70\n",
      "training AUC is 0.6193332971539336\n",
      "F1: 0.266\n",
      "________________\n",
      "validation loss is 0.010686218189836508 and validation accuracy is 637/869, 73\n",
      "validation AUC is 0.6955523890371089\n",
      "F1: 0.484\n",
      "________________\n",
      "training loss is 0.010172790782935053 and training accuracy is 3059/4054, 75\n",
      "training AUC is 0.7678615609184558\n",
      "F1: 0.636\n",
      "________________\n",
      "validation loss is 0.010131466512164258 and validation accuracy is 682/869, 78\n",
      "validation AUC is 0.7884216589861752\n",
      "F1: 0.683\n",
      "________________\n",
      "training loss is 0.00952332876677812 and training accuracy is 3245/4054, 80\n",
      "training AUC is 0.8218783787732679\n",
      "F1: 0.714\n",
      "________________\n",
      "validation loss is 0.009467435925684536 and validation accuracy is 683/869, 78\n",
      "validation AUC is 0.819946034440941\n",
      "F1: 0.694\n",
      "________________\n",
      "training loss is 0.008866417971101957 and training accuracy is 3249/4054, 80\n",
      "training AUC is 0.8352189758168544\n",
      "F1: 0.717\n",
      "________________\n",
      "validation loss is 0.008916844021190296 and validation accuracy is 687/869, 79\n",
      "validation AUC is 0.8282652195003639\n",
      "F1: 0.699\n",
      "________________\n",
      "training loss is 0.00845282690596804 and training accuracy is 3252/4054, 80\n",
      "training AUC is 0.843532584419759\n",
      "F1: 0.717\n",
      "________________\n",
      "validation loss is 0.008659895153671195 and validation accuracy is 690/869, 79\n",
      "validation AUC is 0.8324248120300751\n",
      "F1: 0.705\n",
      "________________\n",
      "training loss is 0.008278356332995354 and training accuracy is 3240/4054, 79\n",
      "training AUC is 0.8470707905616295\n",
      "F1: 0.715\n",
      "________________\n",
      "validation loss is 0.008522793359119955 and validation accuracy is 693/869, 79\n",
      "validation AUC is 0.8315092165898618\n",
      "F1: 0.709\n",
      "________________\n",
      "training loss is 0.008181290904112385 and training accuracy is 3245/4054, 80\n",
      "training AUC is 0.8511241356950133\n",
      "F1: 0.716\n",
      "________________\n",
      "validation loss is 0.008518119915994046 and validation accuracy is 692/869, 79\n",
      "validation AUC is 0.8332797720106718\n",
      "F1: 0.707\n",
      "________________\n",
      "training loss is 0.008159367238057913 and training accuracy is 3252/4054, 80\n",
      "training AUC is 0.8515559229156144\n",
      "F1: 0.715\n",
      "________________\n",
      "validation loss is 0.008478729030753992 and validation accuracy is 690/869, 79\n",
      "validation AUC is 0.8366996119330585\n",
      "F1: 0.707\n",
      "________________\n",
      "training loss is 0.008127834476975309 and training accuracy is 3244/4054, 80\n",
      "training AUC is 0.8519853445600793\n",
      "F1: 0.718\n",
      "________________\n",
      "validation loss is 0.008450986360927447 and validation accuracy is 691/869, 79\n",
      "validation AUC is 0.8347168324035897\n",
      "F1: 0.708\n",
      "________________\n",
      "training loss is 0.008105328842284472 and training accuracy is 3251/4054, 80\n",
      "training AUC is 0.8536118868809323\n",
      "F1: 0.720\n",
      "________________\n",
      "validation loss is 0.008456152588369108 and validation accuracy is 692/869, 79\n",
      "validation AUC is 0.8356506184816881\n",
      "F1: 0.709\n",
      "________________\n",
      "training loss is 0.008118135188386895 and training accuracy is 3257/4054, 80\n",
      "training AUC is 0.8535364667476529\n",
      "F1: 0.719\n",
      "________________\n",
      "validation loss is 0.00843506602203887 and validation accuracy is 695/869, 79\n",
      "validation AUC is 0.8357173174872665\n",
      "F1: 0.713\n",
      "________________\n",
      "Epoch    10: reducing learning rate of group 0 to 1.0000e-04.\n",
      "training loss is 0.008071040380865585 and training accuracy is 3257/4054, 80\n",
      "training AUC is 0.8538424609784301\n",
      "F1: 0.720\n",
      "________________\n",
      "validation loss is 0.00844048695816681 and validation accuracy is 692/869, 79\n",
      "validation AUC is 0.8350260732476352\n",
      "F1: 0.709\n",
      "________________\n",
      "training loss is 0.008121357191414685 and training accuracy is 3251/4054, 80\n",
      "training AUC is 0.8540745657428397\n",
      "F1: 0.719\n",
      "________________\n",
      "validation loss is 0.008459968863203007 and validation accuracy is 691/869, 79\n",
      "validation AUC is 0.8353868542323549\n",
      "F1: 0.708\n",
      "________________\n",
      "training loss is 0.008065136367309017 and training accuracy is 3252/4054, 80\n",
      "training AUC is 0.8541644576360102\n",
      "F1: 0.719\n",
      "________________\n",
      "validation loss is 0.008422230926564155 and validation accuracy is 691/869, 79\n",
      "validation AUC is 0.8351715983507154\n",
      "F1: 0.708\n",
      "________________\n",
      "Epoch    13: reducing learning rate of group 0 to 1.0000e-05.\n",
      "training loss is 0.00809354703739234 and training accuracy is 3252/4054, 80\n",
      "training AUC is 0.8542934511111946\n",
      "F1: 0.719\n",
      "________________\n",
      "validation loss is 0.008362934113371908 and validation accuracy is 691/869, 79\n",
      "validation AUC is 0.8351625030317729\n",
      "F1: 0.708\n",
      "________________\n",
      "training loss is 0.008058548649955866 and training accuracy is 3252/4054, 80\n",
      "training AUC is 0.8540052682772066\n",
      "F1: 0.719\n",
      "________________\n",
      "validation loss is 0.008401194636648901 and validation accuracy is 691/869, 79\n",
      "validation AUC is 0.8351715983507155\n",
      "F1: 0.708\n",
      "________________\n",
      "training loss is 0.008099818287015725 and training accuracy is 3252/4054, 80\n",
      "training AUC is 0.8537472813268377\n",
      "F1: 0.719\n",
      "________________\n",
      "validation loss is 0.00842283324899004 and validation accuracy is 691/869, 79\n",
      "validation AUC is 0.8351352170749453\n",
      "F1: 0.708\n",
      "________________\n",
      "Epoch    16: reducing learning rate of group 0 to 1.0000e-06.\n",
      "training loss is 0.008085051640596188 and training accuracy is 3252/4054, 80\n",
      "training AUC is 0.8540794360466492\n",
      "F1: 0.719\n",
      "________________\n",
      "validation loss is 0.008390049871284475 and validation accuracy is 691/869, 79\n",
      "validation AUC is 0.8351352170749453\n",
      "F1: 0.708\n",
      "________________\n",
      "training loss is 0.008091413245509278 and training accuracy is 3252/4054, 80\n",
      "training AUC is 0.8542114908556568\n",
      "F1: 0.719\n",
      "________________\n",
      "validation loss is 0.008420828228304108 and validation accuracy is 691/869, 79\n",
      "validation AUC is 0.8351291535289838\n",
      "F1: 0.708\n",
      "________________\n",
      "training loss is 0.008086257928924485 and training accuracy is 3252/4054, 80\n",
      "training AUC is 0.8540035984587575\n",
      "F1: 0.719\n",
      "________________\n",
      "validation loss is 0.00846389316716869 and validation accuracy is 691/869, 79\n",
      "validation AUC is 0.8351352170749455\n",
      "F1: 0.708\n",
      "________________\n",
      "Epoch    19: reducing learning rate of group 0 to 1.0000e-07.\n"
     ]
    }
   ],
   "source": [
    "# ----- Full training\n",
    "train_losses3, train_accuracy3, train_auc3, train_fscore3 = [], [], [], []\n",
    "val_losses3, val_accuracy3, val_auc3, val_fscore3= [], [], [], []\n",
    "\n",
    "\n",
    "start = clock()\n",
    "for epoch in range(0, epochs):\n",
    "    epoch_loss3, epoch_accuracy3, epo_auc3, epo_f3 = fit(epoch, net7, train_loader, optimizer7, phase='training')\n",
    "    val_epoch_loss3, val_epoch_accuracy3, val_epo_auc3, val_epo_f3 = fit(epoch, net7, val_loader, optimizer7, phase='validation')\n",
    "\n",
    "    train_losses3.append(epoch_loss3)\n",
    "    train_accuracy3.append(epoch_accuracy3)\n",
    "    train_auc3.append(epo_auc3)\n",
    "    train_fscore3.append(epo_f3)\n",
    "\n",
    "    val_losses3.append(val_epoch_loss3)\n",
    "    val_accuracy3.append(val_epoch_accuracy3)\n",
    "    val_auc3.append(val_epo_auc3)\n",
    "    val_fscore3.append(val_epo_f3)\n",
    "\n",
    "    # Learning rate scheduler update\n",
    "    scheduler7.step(val_epo_auc3)\n",
    "\n",
    "elapsed = clock() - start"
   ]
  },
  {
   "cell_type": "code",
   "execution_count": 201,
   "metadata": {},
   "outputs": [
    {
     "name": "stdout",
     "output_type": "stream",
     "text": [
      "3.351359092432176\n"
     ]
    }
   ],
   "source": [
    "print(elapsed)"
   ]
  },
  {
   "cell_type": "code",
   "execution_count": 202,
   "metadata": {},
   "outputs": [
    {
     "data": {
      "image/png": "[encoded data removed]",
      "text/plain": [
       "<Figure size 432x288 with 1 Axes>"
      ]
     },
     "metadata": {},
     "output_type": "display_data"
    }
   ],
   "source": [
    "plt.plot(range(1,len(train_auc3)+1),train_auc3,'bo',label = 'training AUC')\n",
    "plt.plot(range(1,len(val_auc3)+1),val_auc3,'r',label = 'validation AUC')\n",
    "plt.legend()\n",
    "plt.show()"
   ]
  },
  {
   "cell_type": "code",
   "execution_count": 203,
   "metadata": {},
   "outputs": [
    {
     "data": {
      "image/png": "[encoded data removed]",
      "text/plain": [
       "<Figure size 432x288 with 1 Axes>"
      ]
     },
     "metadata": {},
     "output_type": "display_data"
    }
   ],
   "source": [
    "plt.plot(range(1,len(train_losses3)+1),train_losses3,'bo',label = 'training loss')\n",
    "plt.plot(range(1,len(val_losses3)+1),val_losses3,'r',label = 'validation loss')\n",
    "plt.legend()\n",
    "plt.show()"
   ]
  },
  {
   "cell_type": "code",
   "execution_count": 204,
   "metadata": {},
   "outputs": [
    {
     "data": {
      "text/plain": [
       "<matplotlib.legend.Legend at 0x2a654a3cb00>"
      ]
     },
     "execution_count": 204,
     "metadata": {},
     "output_type": "execute_result"
    },
    {
     "data": {
      "image/png": "[encoded data removed]",
      "text/plain": [
       "<Figure size 432x288 with 1 Axes>"
      ]
     },
     "metadata": {},
     "output_type": "display_data"
    }
   ],
   "source": [
    "plt.plot(range(1,len(train_accuracy3)+1),train_accuracy3,'bo',label = 'train accuracy')\n",
    "plt.plot(range(1,len(val_accuracy3)+1),val_accuracy3,'r',label = 'val accuracy')\n",
    "plt.legend()"
   ]
  },
  {
   "cell_type": "code",
   "execution_count": 205,
   "metadata": {},
   "outputs": [
    {
     "name": "stdout",
     "output_type": "stream",
     "text": [
      "classification rate : 0.5995397008055235\n",
      "Accuracy of the network on the validation set : 59 %\n",
      "Confusion Matrix for the 2 classes: \n",
      "      0    1\n",
      "0  315  274\n",
      "1   74  206\n"
     ]
    },
    {
     "data": {
      "image/png": "[encoded data removed]",
      "text/plain": [
       "<Figure size 360x360 with 1 Axes>"
      ]
     },
     "metadata": {},
     "output_type": "display_data"
    },
    {
     "name": "stdout",
     "output_type": "stream",
     "text": [
      "----------Model Classification-------------\n",
      "\n",
      "             precision    recall  f1-score   support\n",
      "\n",
      "         no       0.81      0.53      0.64       589\n",
      "        yes       0.43      0.74      0.54       280\n",
      "\n",
      "avg / total       0.69      0.60      0.61       869\n",
      "\n",
      " \n",
      "----------Model Accuracy-------------\n",
      "\n",
      "Accuracy: 0.600\n",
      " \n",
      "----------Model ROC/AUC-------------\n",
      "\n"
     ]
    },
    {
     "data": {
      "image/png": "[encoded data removed]",
      "text/plain": [
       "<Figure size 432x288 with 1 Axes>"
      ]
     },
     "metadata": {},
     "output_type": "display_data"
    }
   ],
   "source": [
    "eval_net(net7)"
   ]
  },
  {
   "cell_type": "markdown",
   "metadata": {},
   "source": [
    "#### --- Fscore"
   ]
  },
  {
   "cell_type": "code",
   "execution_count": 145,
   "metadata": {},
   "outputs": [],
   "source": [
    "class Net2(nn.Module):\n",
    "    def __init__(self, input_size, hidden_size1, hidden_size21, hidden_size31, num_classes):\n",
    "        super(Net2, self).__init__()\n",
    "        self.fc1 = nn.Linear(input_size, hidden_size1)\n",
    "        self.relu1 = nn.ReLU()\n",
    "        self.fcM = nn.Linear(hidden_size1, hidden_size21)\n",
    "        self.relu2 = nn.ReLU()\n",
    "        self.fcM1 = nn.Linear(hidden_size21, hidden_size31)\n",
    "        self.relu3 = nn.ReLU()\n",
    "        self.fc2 = nn.Linear(hidden_size31, num_classes)\n",
    "        self.lr = nn.Sigmoid()\n",
    "\n",
    "    def forward(self, x):\n",
    "        out = self.fc1(x)\n",
    "        out = self.relu1(out)\n",
    "        out = self.fcM(out)\n",
    "        out = self.relu2(out)\n",
    "        out = self.fcM1(out)\n",
    "        out = self.relu3(out)\n",
    "        out = self.fc2(out)\n",
    "        out = self.lr(out)\n",
    "        return out"
   ]
  },
  {
   "cell_type": "code",
   "execution_count": 206,
   "metadata": {},
   "outputs": [],
   "source": [
    "net8 = Net2(input_size, hidden_size1, hidden_size21, hidden_size31, num_classes)\n",
    "\n",
    "if is_cuda:\n",
    "    net8.cuda()"
   ]
  },
  {
   "cell_type": "code",
   "execution_count": 207,
   "metadata": {},
   "outputs": [],
   "source": [
    "# Loss and Optimizer\n",
    "\n",
    "#learning_rate = 0.001\n",
    "#weights = [0.4, 1]\n",
    "#class_weights=torch.FloatTensor(weights).cuda()   # might need to add is cuda\n",
    "class_weights=torch.FloatTensor([0.33, 0.67])\n",
    "criterion = nn.CrossEntropyLoss(weight=class_weights)\n",
    "\n",
    "#criterion = F.cross_entropy()\n",
    "optimizer8 = torch.optim.Adam(net8.parameters(), lr=learning_rate)\n",
    "# -----------------------------------------------------------------------------------"
   ]
  },
  {
   "cell_type": "code",
   "execution_count": 208,
   "metadata": {},
   "outputs": [
    {
     "data": {
      "text/plain": [
       "Net2(\n",
       "  (fc1): Linear(in_features=14, out_features=10, bias=True)\n",
       "  (relu1): ReLU()\n",
       "  (fcM): Linear(in_features=10, out_features=8, bias=True)\n",
       "  (relu2): ReLU()\n",
       "  (fcM1): Linear(in_features=8, out_features=4, bias=True)\n",
       "  (relu3): ReLU()\n",
       "  (fc2): Linear(in_features=4, out_features=2, bias=True)\n",
       "  (lr): Sigmoid()\n",
       ")"
      ]
     },
     "execution_count": 208,
     "metadata": {},
     "output_type": "execute_result"
    }
   ],
   "source": [
    "#  C. Training final preparation\n",
    "\n",
    "# ----- Weight initialization\n",
    "def init_weights(m):\n",
    "    if type(m) == nn.Linear:\n",
    "        torch.nn.init.xavier_normal_(m.weight)\n",
    "        #m.bias.data.fill_(0.01)\n",
    "\n",
    "net8.apply(init_weights)"
   ]
  },
  {
   "cell_type": "code",
   "execution_count": 209,
   "metadata": {},
   "outputs": [],
   "source": [
    "# ----- Learning rate regularization\n",
    "#####  NEED TO CHANGE THE patience\n",
    "scheduler8 = optim.lr_scheduler.ReduceLROnPlateau(optimizer8, mode='max', patience=2, verbose=True)"
   ]
  },
  {
   "cell_type": "code",
   "execution_count": null,
   "metadata": {},
   "outputs": [],
   "source": []
  },
  {
   "cell_type": "code",
   "execution_count": 210,
   "metadata": {},
   "outputs": [
    {
     "name": "stdout",
     "output_type": "stream",
     "text": [
      "training loss is 0.010892002583726263 and training accuracy is 2839/4054, 70\n",
      "training AUC is 0.44542532363168813\n",
      "F1: 0.269\n",
      "________________\n",
      "validation loss is 0.010998523207885075 and validation accuracy is 630/869, 72\n",
      "validation AUC is 0.37845318942517586\n",
      "F1: 0.453\n",
      "________________\n",
      "Epoch    20: reducing learning rate of group 0 to 1.0000e-06.\n",
      "training loss is 0.010595952091278204 and training accuracy is 2957/4054, 72\n",
      "training AUC is 0.2858505150694157\n",
      "F1: 0.536\n",
      "________________\n",
      "validation loss is 0.010636803538670336 and validation accuracy is 641/869, 73\n",
      "validation AUC is 0.2501303662381761\n",
      "F1: 0.581\n",
      "________________\n",
      "training loss is 0.010104953184113693 and training accuracy is 3028/4054, 74\n",
      "training AUC is 0.4390488435811484\n",
      "F1: 0.635\n",
      "________________\n",
      "validation loss is 0.010067991612284038 and validation accuracy is 637/869, 73\n",
      "validation AUC is 0.7856748726655347\n",
      "F1: 0.616\n",
      "________________\n",
      "training loss is 0.009450466543450753 and training accuracy is 3105/4054, 76\n",
      "training AUC is 0.8178196067299249\n",
      "F1: 0.683\n",
      "________________\n",
      "validation loss is 0.009429892475777857 and validation accuracy is 666/869, 76\n",
      "validation AUC is 0.8259307543051176\n",
      "F1: 0.674\n",
      "________________\n",
      "Epoch    23: reducing learning rate of group 0 to 1.0000e-07.\n",
      "training loss is 0.008849984857326784 and training accuracy is 3189/4054, 78\n",
      "training AUC is 0.8380725563946394\n",
      "F1: 0.708\n",
      "________________\n",
      "validation loss is 0.009012372982104161 and validation accuracy is 685/869, 78\n",
      "validation AUC is 0.8305329856900315\n",
      "F1: 0.700\n",
      "________________\n",
      "training loss is 0.008528013534009544 and training accuracy is 3231/4054, 79\n",
      "training AUC is 0.8365204601463039\n",
      "F1: 0.714\n",
      "________________\n",
      "validation loss is 0.008718251221747887 and validation accuracy is 688/869, 79\n",
      "validation AUC is 0.831145403832161\n",
      "F1: 0.703\n",
      "________________\n",
      "training loss is 0.008350889672183849 and training accuracy is 3251/4054, 80\n",
      "training AUC is 0.8441643323996264\n",
      "F1: 0.719\n",
      "________________\n",
      "validation loss is 0.008679875021562478 and validation accuracy is 688/869, 79\n",
      "validation AUC is 0.8365116420082463\n",
      "F1: 0.704\n",
      "________________\n",
      "Epoch    26: reducing learning rate of group 0 to 1.0000e-08.\n",
      "training loss is 0.00825170968986816 and training accuracy is 3250/4054, 80\n",
      "training AUC is 0.8430068699114022\n",
      "F1: 0.719\n",
      "________________\n",
      "validation loss is 0.008627416966836663 and validation accuracy is 690/869, 79\n",
      "validation AUC is 0.8318972835314092\n",
      "F1: 0.705\n",
      "________________\n",
      "training loss is 0.008217868755824706 and training accuracy is 3257/4054, 80\n",
      "training AUC is 0.845884802008235\n",
      "F1: 0.719\n",
      "________________\n",
      "validation loss is 0.008527468791353689 and validation accuracy is 689/869, 79\n",
      "validation AUC is 0.8380881639582829\n",
      "F1: 0.704\n",
      "________________\n",
      "training loss is 0.008149365684523862 and training accuracy is 3259/4054, 80\n",
      "training AUC is 0.8453685498044226\n",
      "F1: 0.720\n",
      "________________\n",
      "validation loss is 0.008526419948516424 and validation accuracy is 689/869, 79\n",
      "validation AUC is 0.8406469803541111\n",
      "F1: 0.705\n",
      "________________\n",
      "training loss is 0.00814697377982843 and training accuracy is 3256/4054, 80\n",
      "training AUC is 0.8457068271918802\n",
      "F1: 0.721\n",
      "________________\n",
      "validation loss is 0.008532326569902883 and validation accuracy is 690/869, 79\n",
      "validation AUC is 0.8408137278680572\n",
      "F1: 0.705\n",
      "________________\n",
      "training loss is 0.00814371367481817 and training accuracy is 3254/4054, 80\n",
      "training AUC is 0.8454192009640418\n",
      "F1: 0.719\n",
      "________________\n",
      "validation loss is 0.00858698783590275 and validation accuracy is 690/869, 79\n",
      "validation AUC is 0.8401982779529469\n",
      "F1: 0.704\n",
      "________________\n",
      "training loss is 0.008090676443001644 and training accuracy is 3262/4054, 80\n",
      "training AUC is 0.8469441626625812\n",
      "F1: 0.722\n",
      "________________\n",
      "validation loss is 0.008511516009430616 and validation accuracy is 688/869, 79\n",
      "validation AUC is 0.8456372786805724\n",
      "F1: 0.705\n",
      "________________\n",
      "training loss is 0.008125659083873107 and training accuracy is 3255/4054, 80\n",
      "training AUC is 0.8478734166294436\n",
      "F1: 0.721\n",
      "________________\n",
      "validation loss is 0.008483406726455249 and validation accuracy is 689/869, 79\n",
      "validation AUC is 0.8449035896192092\n",
      "F1: 0.705\n",
      "________________\n",
      "training loss is 0.008094183369169814 and training accuracy is 3265/4054, 80\n",
      "training AUC is 0.8476123683452517\n",
      "F1: 0.724\n",
      "________________\n",
      "validation loss is 0.008427868298200249 and validation accuracy is 691/869, 79\n",
      "validation AUC is 0.8431269706524376\n",
      "F1: 0.707\n",
      "________________\n",
      "training loss is 0.008077998502712033 and training accuracy is 3257/4054, 80\n",
      "training AUC is 0.8485882380771483\n",
      "F1: 0.722\n",
      "________________\n",
      "validation loss is 0.008486778778640255 and validation accuracy is 690/869, 79\n",
      "validation AUC is 0.8449702886247878\n",
      "F1: 0.705\n",
      "________________\n",
      "training loss is 0.008088311179553456 and training accuracy is 3262/4054, 80\n",
      "training AUC is 0.8479922520423968\n",
      "F1: 0.723\n",
      "________________\n",
      "validation loss is 0.008490529275736134 and validation accuracy is 691/869, 79\n",
      "validation AUC is 0.844758064516129\n",
      "F1: 0.707\n",
      "________________\n",
      "training loss is 0.008064798374862934 and training accuracy is 3261/4054, 80\n",
      "training AUC is 0.8483078477292557\n",
      "F1: 0.723\n",
      "________________\n",
      "validation loss is 0.00844687082825102 and validation accuracy is 689/869, 79\n",
      "validation AUC is 0.8456736599563425\n",
      "F1: 0.706\n",
      "________________\n",
      "training loss is 0.008067200027431946 and training accuracy is 3263/4054, 80\n",
      "training AUC is 0.8480995378777442\n",
      "F1: 0.723\n",
      "________________\n",
      "validation loss is 0.008467904031619653 and validation accuracy is 688/869, 79\n",
      "validation AUC is 0.8453583555663352\n",
      "F1: 0.705\n",
      "________________\n",
      "training loss is 0.008080284040904597 and training accuracy is 3262/4054, 80\n",
      "training AUC is 0.8490044403255589\n",
      "F1: 0.724\n",
      "________________\n",
      "validation loss is 0.008536810396181288 and validation accuracy is 690/869, 79\n",
      "validation AUC is 0.8434240844045597\n",
      "F1: 0.705\n",
      "________________\n"
     ]
    }
   ],
   "source": [
    "# ----- Full training\n",
    "train_losses4, train_accuracy4, train_auc4, train_fscore4 = [], [], [], []\n",
    "val_losses4, val_accuracy4, val_auc4, val_fscore4= [], [], [], []\n",
    "\n",
    "\n",
    "start = clock()\n",
    "for epoch in range(0, epochs):\n",
    "    epoch_loss4, epoch_accuracy4, epo_auc4, epo_f4 = fit(epoch, net8, train_loader, optimizer8, phase='training')\n",
    "    val_epoch_loss4, val_epoch_accuracy4, val_epo_auc4, val_epo_f4 = fit(epoch, net8, val_loader, optimizer8, phase='validation')\n",
    "\n",
    "    train_losses4.append(epoch_loss4)\n",
    "    train_accuracy4.append(epoch_accuracy4)\n",
    "    train_auc4.append(epo_auc4)\n",
    "    train_fscore4.append(epo_f4)\n",
    "\n",
    "    val_losses4.append(val_epoch_loss4)\n",
    "    val_accuracy4.append(val_epoch_accuracy4)\n",
    "    val_auc4.append(val_epo_auc4)\n",
    "    val_fscore4.append(val_epo_f4)\n",
    "\n",
    "    # Learning rate scheduler update\n",
    "    scheduler4.step(val_epo_f4)\n",
    "\n",
    "elapsed = clock() - start"
   ]
  },
  {
   "cell_type": "code",
   "execution_count": 211,
   "metadata": {},
   "outputs": [
    {
     "name": "stdout",
     "output_type": "stream",
     "text": [
      "3.381520894041387\n"
     ]
    }
   ],
   "source": [
    "print(elapsed)"
   ]
  },
  {
   "cell_type": "code",
   "execution_count": 212,
   "metadata": {},
   "outputs": [
    {
     "data": {
      "image/png": "[encoded data removed]",
      "text/plain": [
       "<Figure size 432x288 with 1 Axes>"
      ]
     },
     "metadata": {},
     "output_type": "display_data"
    }
   ],
   "source": [
    "plt.plot(range(1,len(train_fscore4)+1),train_fscore4,'bo',label = 'training AUC')\n",
    "plt.plot(range(1,len(val_fscore4)+1),val_fscore4,'r',label = 'validation AUC')\n",
    "plt.legend()\n",
    "plt.show()"
   ]
  },
  {
   "cell_type": "code",
   "execution_count": 213,
   "metadata": {},
   "outputs": [
    {
     "data": {
      "image/png": "[encoded data removed]",
      "text/plain": [
       "<Figure size 432x288 with 1 Axes>"
      ]
     },
     "metadata": {},
     "output_type": "display_data"
    }
   ],
   "source": [
    "plt.plot(range(1,len(train_auc4)+1),train_auc4,'bo',label = 'training AUC')\n",
    "plt.plot(range(1,len(val_auc4)+1),val_auc4,'r',label = 'validation AUC')\n",
    "plt.legend()\n",
    "plt.show()"
   ]
  },
  {
   "cell_type": "code",
   "execution_count": 214,
   "metadata": {},
   "outputs": [
    {
     "data": {
      "image/png": "[encoded data removed]",
      "text/plain": [
       "<Figure size 432x288 with 1 Axes>"
      ]
     },
     "metadata": {},
     "output_type": "display_data"
    }
   ],
   "source": [
    "plt.plot(range(1,len(train_losses4)+1),train_losses4,'bo',label = 'training loss')\n",
    "plt.plot(range(1,len(val_losses4)+1),val_losses4,'r',label = 'validation loss')\n",
    "plt.legend()\n",
    "plt.show()"
   ]
  },
  {
   "cell_type": "code",
   "execution_count": 215,
   "metadata": {
    "scrolled": true
   },
   "outputs": [
    {
     "data": {
      "text/plain": [
       "<matplotlib.legend.Legend at 0x2a6536b9748>"
      ]
     },
     "execution_count": 215,
     "metadata": {},
     "output_type": "execute_result"
    },
    {
     "data": {
      "image/png": "[encoded data removed]",
      "text/plain": [
       "<Figure size 432x288 with 1 Axes>"
      ]
     },
     "metadata": {},
     "output_type": "display_data"
    }
   ],
   "source": [
    "plt.plot(range(1,len(train_accuracy4)+1),train_accuracy4,'bo',label = 'train accuracy')\n",
    "plt.plot(range(1,len(val_accuracy4)+1),val_accuracy4,'r',label = 'val accuracy')\n",
    "plt.legend()"
   ]
  },
  {
   "cell_type": "code",
   "execution_count": 216,
   "metadata": {
    "scrolled": true
   },
   "outputs": [
    {
     "name": "stdout",
     "output_type": "stream",
     "text": [
      "classification rate : 0.5788262370540852\n",
      "Accuracy of the network on the validation set : 57 %\n",
      "Confusion Matrix for the 2 classes: \n",
      "      0    1\n",
      "0  300  289\n",
      "1   77  203\n"
     ]
    },
    {
     "data": {
      "image/png": "[encoded data removed]",
      "text/plain": [
       "<Figure size 360x360 with 1 Axes>"
      ]
     },
     "metadata": {},
     "output_type": "display_data"
    },
    {
     "name": "stdout",
     "output_type": "stream",
     "text": [
      "----------Model Classification-------------\n",
      "\n",
      "             precision    recall  f1-score   support\n",
      "\n",
      "         no       0.80      0.51      0.62       589\n",
      "        yes       0.41      0.72      0.53       280\n",
      "\n",
      "avg / total       0.67      0.58      0.59       869\n",
      "\n",
      " \n",
      "----------Model Accuracy-------------\n",
      "\n",
      "Accuracy: 0.579\n",
      " \n",
      "----------Model ROC/AUC-------------\n",
      "\n"
     ]
    },
    {
     "data": {
      "image/png": "[encoded data removed]",
      "text/plain": [
       "<Figure size 432x288 with 1 Axes>"
      ]
     },
     "metadata": {},
     "output_type": "display_data"
    }
   ],
   "source": [
    "eval_net(net8)"
   ]
  },
  {
   "cell_type": "code",
   "execution_count": null,
   "metadata": {},
   "outputs": [],
   "source": []
  }
 ],
 "metadata": {
  "kernelspec": {
   "display_name": "Python 3",
   "language": "python",
   "name": "python3"
  },
  "language_info": {
   "codemirror_mode": {
    "name": "ipython",
    "version": 3
   },
   "file_extension": ".py",
   "mimetype": "text/x-python",
   "name": "python",
   "nbconvert_exporter": "python",
   "pygments_lexer": "ipython3",
   "version": "3.6.5"
  }
 },
 "nbformat": 4,
 "nbformat_minor": 2
}
